{
  "cells": [
    {
      "cell_type": "markdown",
      "metadata": {
        "id": "view-in-github",
        "colab_type": "text"
      },
      "source": [
        "<a href=\"https://colab.research.google.com/github/Siddharth02003/CS6910_assignments/blob/main/CS6910_assignment_1.ipynb\" target=\"_parent\"><img src=\"https://colab.research.google.com/assets/colab-badge.svg\" alt=\"Open In Colab\"/></a>"
      ]
    },
    {
      "cell_type": "code",
      "execution_count": null,
      "metadata": {
        "id": "am22A5hWwqIl"
      },
      "outputs": [],
      "source": [
        "from keras.datasets import fashion_mnist\n",
        "import numpy as np\n",
        "import matplotlib.pyplot as plt\n",
        "import copy \n",
        "import random\n",
        "import tensorflow as tf\n",
        "from tqdm import tqdm\n"
      ]
    },
    {
      "cell_type": "code",
      "execution_count": null,
      "metadata": {
        "colab": {
          "base_uri": "https://localhost:8080/"
        },
        "id": "-0uslSo6wvaS",
        "outputId": "c7b61aec-1da2-47ab-9dd2-505a155b41ca"
      },
      "outputs": [
        {
          "name": "stdout",
          "output_type": "stream",
          "text": [
            "\u001b[2K     \u001b[90m━━━━━━━━━━━━━━━━━━━━━━━━━━━━━━━━━━━━━━━━\u001b[0m \u001b[32m2.0/2.0 MB\u001b[0m \u001b[31m30.2 MB/s\u001b[0m eta \u001b[36m0:00:00\u001b[0m\n",
            "\u001b[2K     \u001b[90m━━━━━━━━━━━━━━━━━━━━━━━━━━━━━━━━━━━━━━\u001b[0m \u001b[32m184.3/184.3 KB\u001b[0m \u001b[31m12.9 MB/s\u001b[0m eta \u001b[36m0:00:00\u001b[0m\n",
            "\u001b[2K     \u001b[90m━━━━━━━━━━━━━━━━━━━━━━━━━━━━━━━━━━━━━━\u001b[0m \u001b[32m189.1/189.1 KB\u001b[0m \u001b[31m14.8 MB/s\u001b[0m eta \u001b[36m0:00:00\u001b[0m\n",
            "\u001b[?25h  Preparing metadata (setup.py) ... \u001b[?25l\u001b[?25hdone\n",
            "\u001b[2K     \u001b[90m━━━━━━━━━━━━━━━━━━━━━━━━━━━━━━━━━━━━━━━━\u001b[0m \u001b[32m62.7/62.7 KB\u001b[0m \u001b[31m6.0 MB/s\u001b[0m eta \u001b[36m0:00:00\u001b[0m\n",
            "\u001b[?25h  Building wheel for pathtools (setup.py) ... \u001b[?25l\u001b[?25hdone\n"
          ]
        }
      ],
      "source": [
        "!pip install wandb -qqq\n",
        "import wandb"
      ]
    },
    {
      "cell_type": "code",
      "execution_count": null,
      "metadata": {
        "id": "XHQSqKz-wxOF"
      },
      "outputs": [],
      "source": [
        "def load_dataset():\n",
        "    (X_train, Y_train), (X_test, Y_test) = fashion_mnist.load_data()\n",
        "    return {\n",
        "            'X_train': X_train,\n",
        "            'Y_train': Y_train,\n",
        "            'X_test': X_test,\n",
        "            'Y_test': Y_test\n",
        "        }"
      ]
    },
    {
      "cell_type": "code",
      "execution_count": null,
      "metadata": {
        "id": "EJmmLHUiwzR2"
      },
      "outputs": [],
      "source": [
        "class_labels={0:'T-shirt',1:'Trouser',2:'Pullover',3:'Dress',4:'Coat',5:'Sandal',6:'Shirt',7:'Sneaker',8:'Bag',9:'Ankle_Boot'}\n",
        "\n",
        "def label_to_name(label):\n",
        "  if enumerate(label):\n",
        "    l_names=[]\n",
        "    for l in label:\n",
        "      l_names.append(class_labels[l])\n",
        "    return l_names\n",
        "  else:\n",
        "    return class_labels[label]"
      ]
    },
    {
      "cell_type": "code",
      "execution_count": null,
      "metadata": {
        "colab": {
          "base_uri": "https://localhost:8080/"
        },
        "id": "2JOXMolAx20p",
        "outputId": "dd3972de-3d6a-41d5-a347-b3ecd69e8dc6"
      },
      "outputs": [
        {
          "name": "stdout",
          "output_type": "stream",
          "text": [
            "\u001b[34m\u001b[1mwandb\u001b[0m: Logging into wandb.ai. (Learn how to deploy a W&B server locally: https://wandb.me/wandb-server)\n",
            "\u001b[34m\u001b[1mwandb\u001b[0m: You can find your API key in your browser here: https://wandb.ai/authorize\n",
            "\u001b[34m\u001b[1mwandb\u001b[0m: Paste an API key from your profile and hit enter, or press ctrl+c to quit: \n",
            "\u001b[34m\u001b[1mwandb\u001b[0m: Appending key for api.wandb.ai to your netrc file: /root/.netrc\n"
          ]
        }
      ],
      "source": [
        "!wandb login --relogin\n",
        "entity_name=\"siddharth-s\"\n",
        "\n",
        "project_name=\"FODL_Assignment_1\""
      ]
    },
    {
      "cell_type": "code",
      "execution_count": null,
      "metadata": {
        "id": "gQ_OCNeEw3h7"
      },
      "outputs": [],
      "source": [
        "def log_images():\n",
        "  images=[]\n",
        "  labels=[]\n",
        "  dataset=load_dataset()\n",
        "  X_train=dataset['X_train']\n",
        "  y_train=dataset['Y_train']\n",
        "  wandb.init(entity=entity_name,project=project_name, name=\"log_images\")\n",
        "  for i in range(100):\n",
        "    if len(labels)==10:\n",
        "      break\n",
        "    if class_labels[y_train[i]] not in labels:\n",
        "      images.append(X_train[i])\n",
        "      labels.append(class_labels[y_train[i]])\n",
        "  wandb.log({\"Images\": [wandb.Image(img, caption=caption) for img, caption in zip(images,labels)]})"
      ]
    },
    {
      "cell_type": "code",
      "execution_count": null,
      "metadata": {
        "id": "SMeU4Vsicaoh"
      },
      "outputs": [],
      "source": [
        "class activation(): \n",
        "  def __init__(self,a):\n",
        "    self.a=a\n",
        "\n",
        "  def sigmoid(self,a):\n",
        "    try:\n",
        "      return (1.0/(1.0+np.exp(-a)))\n",
        "    except:\n",
        "      print(\"error\")\n",
        "\n",
        "  def relu(self,a):\n",
        "    return (np.maximum(0,a))\n",
        "\n",
        "  def tanh(self,a):\n",
        "    return np.tanh(a)\n",
        "\n",
        "  def softmax(self,a):\n",
        "    try:\n",
        "      return(np.exp(a)/np.sum(np.exp(a)))\n",
        "    except:\n",
        "      print(\"error\")\n",
        "\n",
        "  def sigmoid_derivative(self,x):\n",
        "    return self.sigmoid(x)*(1-self.sigmoid(x))\n",
        "\n",
        "  def tanh_derivative(self,x):\n",
        "    return 1.0 -self.tanh(x)**2\n",
        "\n",
        "  def relu_derivative(self,x):\n",
        "    return 1. * (x>0)\n",
        "     \n",
        "  def softmax_derivative(self,x):\n",
        "    return self.softmax(x) * (1-self.softmax(x))\n",
        "\n",
        "  def derivative(self,x,activation):\n",
        "    if activation == \"sigmoid\":\n",
        "      return self.sigmoid_derivative(x)\n",
        "    elif activation == \"tanh\":\n",
        "      return self.tanh_derivative(x)\n",
        "    elif activation == \"relu\":\n",
        "      return self.relu_derivative(x)"
      ]
    },
    {
      "cell_type": "code",
      "execution_count": null,
      "metadata": {
        "id": "55iTx2uL1Z_0"
      },
      "outputs": [],
      "source": [
        "class weights():\n",
        "  def __init__(self,layers):\n",
        "    self.layers=layers\n",
        "\n",
        "  def Xavier(self,layers):\n",
        "    params = {}\n",
        "    for i in range(1,len(layers)):\n",
        "       norm_xav=np.sqrt(6)/np.sqrt(layers[i]+layers[i-1])\n",
        "       params[\"w\"+str(i)]=np.random.randn(layers[i],layers[i-1])*norm_xav\n",
        "       params[\"b\"+str(i)]=np.zeros((layers[i],1))\n",
        "    return params\n",
        "\n",
        "  def Random(self,layers):\n",
        "    params = {}\n",
        "    for i in range(1,len(layers)):\n",
        "       params[\"w\"+str(i)]=0.01*np.random.randn(layers[i],layers[i-1])\n",
        "       params[\"b\"+str(i)]=0.01*np.random.randn(layers[i],1)\n",
        "    return params\n",
        "\n",
        "  def weight_init(self,init_type = \"random\"):\n",
        "    params={}\n",
        "    if(init_type==\"xavier\"):\n",
        "      params = self.Xavier(self.layers)\n",
        "    elif(init_type==\"random\"):\n",
        "      params = self.Random(self.layers)\n",
        "    else:\n",
        "      print(\"invalid activation function\")\n",
        "    return params"
      ]
    },
    {
      "cell_type": "code",
      "execution_count": null,
      "metadata": {
        "id": "gP-wp4N2ajjW"
      },
      "outputs": [],
      "source": [
        "def squared_loss(y, y_hat):\n",
        "  error = np.sum(((y - y_hat)**2) / (2 * len(y)))\n",
        "  return error\n",
        "def CrossEntropy(y, y_hat):\n",
        "  error = - np.sum( np.multiply(y , np.log(y_hat)))/len(y)\n",
        "  return error\n",
        "def loss_calc(loss_name, y, y_hat, lambd, layers, parameters):\n",
        "  error=0\n",
        "  if(loss_name == \"squared_loss\"):\n",
        "    error=squared_loss(y, y_hat)\n",
        "  elif(loss_name == \"cross_entropy\"):\n",
        "    error= CrossEntropy(y, y_hat)\n",
        "  regularized_error = 0.0\n",
        "  for i in range(len(layers)-1, 0, -1):\n",
        "    regularized_error += (np.sum(parameters[\"w\"+str(i)]))**2\n",
        "  regularized_error = error + ((lambd/(2*len(y)))*(regularized_error))\n",
        "  return regularized_error\n",
        "\n",
        "\n"
      ]
    },
    {
      "cell_type": "code",
      "execution_count": null,
      "metadata": {
        "id": "CqEVmsE7qx6S"
      },
      "outputs": [],
      "source": [
        "class network():\n",
        "  def __init__(self,X,y,params,active,layers,loss_type):\n",
        "    self.X=X\n",
        "    self.y=y\n",
        "    self.params=params\n",
        "    self.active=active\n",
        "    self.layers=layers\n",
        "    self.loss_type=loss_type\n",
        "\n",
        "  def forward_prop(self):\n",
        "   out=copy.deepcopy(self.X)\n",
        "   out=out.reshape(-1,1)\n",
        "   h=[out]\n",
        "   a=[out] \n",
        "\n",
        "   act=activation(a)\n",
        "\n",
        "   if(self.active==\"sigmoid\"):\n",
        "     for i in range(1,len(self.layers)-1):\n",
        "       weights = self.params[\"w\"+str(i)]\n",
        "       biases = self.params[\"b\"+str(i)]\n",
        "\n",
        "       out = np.dot(weights,h[i-1])+biases\n",
        "       a.append(out)\n",
        "       post_a = act.sigmoid(out)\n",
        "       h.append(post_a)\n",
        "  \n",
        "   elif(self.active==\"tanh\"):\n",
        "     for i in range(1,len(self.layers)-1):\n",
        "       weights=self.params[\"w\"+str(i)]\n",
        "       biases=self.params[\"b\"+str(i)]\n",
        "      \n",
        "       out=np.dot(weights,h[i-1])+biases\n",
        "       a.append(out)\n",
        "       post_a=act.tanh(out)\n",
        "       h.append(post_a)\n",
        "  \n",
        "   elif(self.active==\"relu\"):\n",
        "     for i in range(1,len(self.layers)-1):\n",
        "       weights=self.params[\"w\"+str(i)]\n",
        "       biases=self.params[\"b\"+str(i)]\n",
        "      \n",
        "       out=np.dot(weights,h[i-1])+biases\n",
        "       a.append(out)\n",
        "       post_a=act.relu(out)\n",
        "       h.append(post_a)       \n",
        "\n",
        "   else:\n",
        "     print(\"Enter a valid activation function\") \n",
        "   weights=self.params[\"w\"+str(len(self.layers)-1)]\n",
        "   biases=self.params[\"b\"+str(len(self.layers)-1)]\n",
        "  \n",
        "   out=np.dot(weights,h[len(self.layers)-2])+biases\n",
        "   a.append(out)\n",
        "   y_hat=act.softmax(out)\n",
        "   h.append(y_hat)\n",
        "   return h,a,y_hat\n",
        "\n",
        "  def backward_prop(self,y,y_hat,h,a,params,layers):\n",
        "    grad = {}\n",
        "    act=activation(self.active)\n",
        "    if self.loss_type == \"squared_loss\":\n",
        "      grad[\"dh\"+str(len(layers)-1)] = (y_hat - y)\n",
        "      grad[\"da\"+str(len(layers)-1)] = (y_hat - y) * act.softmax_derivative(a[len(layers)-1])\n",
        "\n",
        "    elif self.loss_type == 'cross_entropy':\n",
        "      grad[\"da\"+str(len(layers)-1)] = -(y-y_hat)\n",
        "      grad[\"dh\"+str(len(layers)-1)] = -(y/y_hat)\n",
        "\n",
        "    for i in range(len(layers)-1, 0, -1 ):\n",
        "      grad[\"dw\"+str(i)] = np.dot(grad[\"da\"+str(i)], np.transpose(h[i-1]))\n",
        "      grad[\"db\"+str(i)] = grad[\"da\"+str(i)]\n",
        "      if i > 1:\n",
        "        grad[\"dh\"+str(i-1)] = np.dot(np.transpose(params[\"w\"+str(i)]), grad[\"da\"+str(i)])\n",
        "        grad[\"da\"+str(i-1)] = np.multiply(grad[\"dh\" + str(i-1)], act.derivative(a[i-1],self.active))\n",
        "    return grad"
      ]
    },
    {
      "cell_type": "code",
      "execution_count": null,
      "metadata": {
        "id": "xSFLTfMSwsGb"
      },
      "outputs": [],
      "source": [
        "def accuracy_calc(res,y_t):\n",
        "    acc=0.0   \n",
        "    for x in range(len(res)):\n",
        "      if(res[x].argmax()==y_t[x].argmax()):\n",
        "        acc+=1\n",
        "    acc=acc/len(y_t)\n",
        "    return(acc*100)"
      ]
    },
    {
      "cell_type": "code",
      "execution_count": null,
      "metadata": {
        "id": "eEc2_5l8n0p2"
      },
      "outputs": [],
      "source": [
        "def run_inference(X,y,parameters,activation,layers):\n",
        "    result = []\n",
        "    for i in range(len(X)):\n",
        "      nn=network(X[i], y[i], parameters, activation, layers,\"squared_loss\")\n",
        "      h,a,y_hat = nn.forward_prop()\n",
        "      y_hat = y_hat.flatten()\n",
        "      result.append(y_hat)\n",
        "    return result"
      ]
    },
    {
      "cell_type": "code",
      "execution_count": null,
      "metadata": {
        "id": "c1bmArXk0T5a"
      },
      "outputs": [],
      "source": [
        "def calculate_grad(X, Y, parameters, activation, layers, loss_function):\n",
        "  grads={}\n",
        "  grads.clear() \n",
        "  for j in range(len(X)):\n",
        "    y = np.reshape(Y[j], (-1,1))\n",
        "\n",
        "    nn=network(X[j], y, parameters, activation, layers, loss_function)\n",
        "    h,a,y_hat = nn.forward_prop()\n",
        "    new_grads = nn.backward_prop(y,y_hat,h,a,parameters,layers)\n",
        "\n",
        "    if j == 0:\n",
        "      grads = copy.deepcopy(new_grads)\n",
        "    else:\n",
        "      for k in range(len(layers)-1,0,-1):\n",
        "        grads[\"dw\"+str(k)] += new_grads[\"dw\"+str(k)]\n",
        "        grads[\"db\"+str(k)] += new_grads[\"db\"+str(k)]\n",
        "  return grads"
      ]
    },
    {
      "cell_type": "code",
      "execution_count": null,
      "metadata": {
        "id": "LsynyUWa5Y8R"
      },
      "outputs": [],
      "source": [
        "def gradient_descent(X_train, y_train, eta, max_epochs, layers, mini_batch_size, lambd,loss_function, activation, parameters,optimiser,wandb_log=False):\n",
        "  grads={}\n",
        "  train_loss = []\n",
        "  val_loss = []\n",
        "  train_acc = []\n",
        "  val_acc = []\n",
        "\n",
        "  for t in tqdm(range(max_epochs)):\n",
        "    for i in range(0, len(X_train), mini_batch_size):\n",
        "\n",
        "      grads.clear()\n",
        "\n",
        "      if str(optimiser) == \"nesterovacc_gd\":\n",
        "        opt=optimiser(grads, eta, max_epochs,layers,mini_batch_size,lambd,parameters,i,t)\n",
        "        param_lookahead,update_history=opt.paramlookahead()\n",
        "\n",
        "      X = X_train[i:i + mini_batch_size]\n",
        "      Y = y_train[i:i + mini_batch_size]\n",
        "      \n",
        "      if str(optimiser) == \"nesterovacc_gd\":\n",
        "        grads = calculate_grad(X,Y,param_lookahead,activation,layers,loss_function)\n",
        "      else: \n",
        "        grads = calculate_grad(X,Y,parameters,activation,layers,loss_function)\n",
        "\n",
        "      opt=optimiser(grads, eta, max_epochs,layers,mini_batch_size,lambd,parameters,i,t)\n",
        "      parameters=opt.get_params()\n",
        "    \n",
        "    #Calculating train loss and accuracies\n",
        "    res = run_inference(X_train,y_train,parameters, activation, layers)\n",
        "    train_err = loss_calc(loss_function,y_train,res,lambd,layers,parameters) \n",
        "    train_ac=accuracy_calc(res, y_train)\n",
        "    train_loss.append(train_err)\n",
        "    train_acc.append(train_ac)\n",
        "\n",
        "    #Calculating validation loss\n",
        "    res = run_inference(X_val, y_val, parameters, activation, layers)\n",
        "    val_err = loss_calc(loss_function, y_val, res, lambd, layers, parameters )\n",
        "    val_ac=accuracy_calc(res, y_val)\n",
        "    val_loss.append(val_err)\n",
        "    val_acc.append(val_ac)\n",
        "\n",
        "    if(wandb_log==True):\n",
        "      log_dict = {\"Train_Accuracy\": train_ac, \"Validation_Accuracy\": val_ac, \\\n",
        "                  \"Train_Loss\": train_err, \"Validation_loss\": val_err, \"epoch\": t}\n",
        "                  \n",
        "      wandb.log(log_dict)\n",
        "\n",
        "  return parameters, train_acc, val_acc"
      ]
    },
    {
      "cell_type": "code",
      "execution_count": null,
      "metadata": {
        "id": "xUM1PAe8D0Yt"
      },
      "outputs": [],
      "source": [
        "class stochastic_gd():\n",
        "  def __init__(self,grads, eta, max_epochs,layers,mini_batch_size,lambd,parameters,i,t):\n",
        "    self.grads=grads\n",
        "    self.eta=eta\n",
        "    self.layers=layers\n",
        "    self.mini_batch_size=mini_batch_size\n",
        "    self.parameters=parameters\n",
        "    self.lambd=lambd\n",
        "    self.i=i\n",
        "    self.t=t\n",
        "\n",
        "  def get_params(self):\n",
        "    for j in range(len(self.layers)-1,0,-1):\n",
        "        self.parameters[\"w\"+str(j)] = (1-((self.eta*self.lambd)/self.mini_batch_size))*self.parameters[\"w\"+str(j)] - (self.eta * self.grads[\"dw\"+str(j)])\n",
        "        self.parameters[\"b\"+str(j)] = self.parameters[\"b\"+str(j)] - (self.eta * self.grads[\"db\"+str(j)])\n",
        "    return self.parameters"
      ]
    },
    {
      "cell_type": "code",
      "execution_count": null,
      "metadata": {
        "id": "hwY-M90CHaQ9"
      },
      "outputs": [],
      "source": [
        "class momentum_gd():\n",
        "  def __init__(self,grads, eta, max_epochs,layers,mini_batch_size,lambd,parameters,i,t):\n",
        "    self.grads=grads\n",
        "    self.eta=eta\n",
        "    self.layers=layers\n",
        "    self.mini_batch_size=mini_batch_size\n",
        "    self.parameters=parameters\n",
        "    self.lambd=lambd\n",
        "    self.gamma=0.9\n",
        "    self.i=i\n",
        "    self.t=t\n",
        "\n",
        "  def get_params(self):\n",
        "    update_history={}\n",
        "    if self.i == 0 :\n",
        "        for j in range(len(self.layers)-1, 0, -1):\n",
        "          update_history[\"w\"+str(j)] = self.eta*self.grads[\"dw\"+str(j)]\n",
        "          update_history[\"b\"+str(j)] = self.eta*self.grads[\"db\"+str(j)]\n",
        "    else:\n",
        "        for j in range(len(self.layers)-1, 0, -1):\n",
        "          update_history[\"w\"+str(j)] = (self.gamma*update_history[\"w\"+str(j)]) + (self.eta*self.grads[\"dw\"+str(j)])\n",
        "          update_history[\"b\"+str(j)] = (self.gamma*update_history[\"b\"+str(j)]) + (self.eta*self.grads[\"db\"+str(j)])\n",
        "    for j in range(len(self.layers)-1,0,-1):\n",
        "        self.parameters[\"w\"+str(j)] = (1-((self.eta*self.lambd)/self.mini_batch_size))*self.parameters[\"w\"+str(j)] - update_history[\"w\"+str(j)]\n",
        "        self.parameters[\"b\"+str(j)] = self.parameters[\"b\"+str(j)] - update_history[\"b\"+str(j)]\n",
        "    return self.parameters"
      ]
    },
    {
      "cell_type": "code",
      "execution_count": null,
      "metadata": {
        "id": "0HSpU3xmFPP1"
      },
      "outputs": [],
      "source": [
        "class nesterovacc_gd():\n",
        "  def __init__(self,grads, eta, max_epochs,layers,mini_batch_size,lambd,parameters,i,t):\n",
        "    self.grads=grads\n",
        "    self.eta=eta\n",
        "    self.layers=layers\n",
        "    self.mini_batch_size=mini_batch_size\n",
        "    self.parameters=parameters\n",
        "    self.lambd=lambd\n",
        "    self.i=i\n",
        "    self.t=t\n",
        "\n",
        "  def paramlookahead(self):\n",
        "    update_history={}\n",
        "    if self.i==0:\n",
        "        param_lookahead = copy.deepcopy(self.parameters)\n",
        "    else:\n",
        "        for j in range(len(self.layers)-1, 0, -1):\n",
        "          param_lookahead['w'+str(j)] = self.parameters['w'+str(j)] + (self.gamma*update_history[\"w\"+str(j)])\n",
        "    return param_lookahead,update_history\n",
        "\n",
        "  def get_params(self,update_history):\n",
        "    param_lookahead,update_history=self.paramlookahead()\n",
        "    if self.i == 0 :\n",
        "        for j in range(len(self.layers)-1, 0, -1):\n",
        "          update_history[\"w\"+str(j)] = self.eta*self.grads[\"dw\"+str(j)]\n",
        "          update_history[\"b\"+str(j)] = self.eta*self.grads[\"db\"+str(j)]\n",
        "    else:\n",
        "        for j in range(len(self.layers)-1, 0, -1):\n",
        "          update_history[\"w\"+str(j)] = (self.gamma*update_history[\"w\"+str(j)]) + (self.eta*self.grads[\"dw\"+str(j)])\n",
        "          update_history[\"b\"+str(j)] = (self.gamma*update_history[\"b\"+str(j)]) + (self.eta*self.grads[\"db\"+str(j)])\n",
        "    for j in range(len(self.layers)-1,0,-1):\n",
        "        self.parameters[\"w\"+str(j)] = (1-((self.eta*self.lambd)/self.mini_batch_size))*self.parameters[\"w\"+str(j)] - update_history[\"w\"+str(j)]\n",
        "        self.parameters[\"b\"+str(j)] = self.parameters[\"b\"+str(j)] - update_history[\"b\"+str(j)]\n",
        "    return self.parameters\n"
      ]
    },
    {
      "cell_type": "code",
      "execution_count": null,
      "metadata": {
        "id": "HBXMVUIyOjvz"
      },
      "outputs": [],
      "source": [
        "class rmsprop():\n",
        "  def __init__(self,grads, eta, max_epochs,layers,mini_batch_size,lambd,parameters,i,t):\n",
        "    self.grads=grads\n",
        "    self.eta=eta\n",
        "    self.layers=layers\n",
        "    self.mini_batch_size=mini_batch_size\n",
        "    self.parameters=parameters\n",
        "    self.lambd=lambd\n",
        "    self.i=i\n",
        "    self.beta = 0.9 \n",
        "    self.epsilon=1e-8\n",
        "    self.t=t\n",
        "\n",
        "  def momenta(self):\n",
        "    update_history={}\n",
        "    v={}\n",
        "    for i in range(len(self.layers)-1,0,-1):\n",
        "      update_history[\"w\"+str(i)]=np.zeros((self.layers[i],self.layers[i-1]))\n",
        "      update_history[\"b\"+str(i)]=np.zeros((self.layers[i],1))\n",
        "    for i in range(len(self.layers)-1,0,-1):\n",
        "      v[\"w\"+str(i)]=np.zeros((self.layers[i],self.layers[i-1]))\n",
        "      v[\"b\"+str(i)]=np.zeros((self.layers[i],1))\n",
        "    return v,update_history\n",
        "     \n",
        "  def get_params(self):\n",
        "    v,update_history=self.momenta()\n",
        "    for iq in range(len(self.layers)-1,0,-1):\n",
        "        v[\"w\"+str(iq)]=self.beta*v[\"w\"+str(iq)]+(1-self.beta)*self.grads[\"dw\"+str(iq)]**2\n",
        "        v[\"b\"+str(iq)]=self.beta*v[\"b\"+str(iq)]+(1-self.beta)*self.grads[\"db\"+str(iq)]**2     \n",
        "        update_history[\"w\"+str(iq)]=self.eta*np.multiply(np.reciprocal(np.sqrt(v[\"w\"+str(iq)]+self.epsilon)),self.grads[\"dw\"+str(iq)])\n",
        "        update_history[\"b\"+str(iq)]=self.eta*np.multiply(np.reciprocal(np.sqrt(v[\"b\"+str(iq)]+self.epsilon)),self.grads[\"db\"+str(iq)])\n",
        "    for j in range(len(self.layers)-1,0,-1):\n",
        "        self.parameters[\"w\"+str(j)] = (1-((self.eta*self.lambd)/self.mini_batch_size))*self.parameters[\"w\"+str(j)] - update_history[\"w\"+str(j)]\n",
        "        self.parameters[\"b\"+str(j)] = self.parameters[\"b\"+str(j)] - update_history[\"b\"+str(j)]\n",
        "    return self.parameters"
      ]
    },
    {
      "cell_type": "code",
      "execution_count": null,
      "metadata": {
        "id": "uPO_60-cQSWr"
      },
      "outputs": [],
      "source": [
        "class adam():\n",
        "  def __init__(self,grads, eta, max_epochs,layers,mini_batch_size,lambd,parameters,i,t):\n",
        "    self.grads=grads\n",
        "    self.eta=eta\n",
        "    self.layers=layers\n",
        "    self.mini_batch_size=mini_batch_size\n",
        "    self.parameters=parameters\n",
        "    self.lambd=lambd\n",
        "    self.i=i\n",
        "    self.beta1=0.9 \n",
        "    self.epsilon=1e-8\n",
        "    self.beta2=0.999\n",
        "    self.t=t\n",
        "  \n",
        "  def momenta(self):\n",
        "    update_history={}\n",
        "    v={}\n",
        "    m={}\n",
        "    for i in range(len(self.layers)-1,0,-1):\n",
        "      update_history[\"w\"+str(i)]=np.zeros((self.layers[i],self.layers[i-1]))\n",
        "      update_history[\"b\"+str(i)]=np.zeros((self.layers[i],1))\n",
        "    for i in range(len(self.layers)-1,0,-1):\n",
        "      v[\"w\"+str(i)]=np.zeros((self.layers[i],self.layers[i-1]))\n",
        "      v[\"b\"+str(i)]=np.zeros((self.layers[i],1))\n",
        "    for i in range(len(self.layers)-1,0,-1):\n",
        "      m[\"w\"+str(i)]=np.zeros((self.layers[i],self.layers[i-1]))\n",
        "      m[\"b\"+str(i)]=np.zeros((self.layers[i],1))\n",
        "    return m,v,update_history\n",
        "     \n",
        "  def get_params(self):\n",
        "    m,v,update_history=self.momenta()\n",
        "    for iq in range(len(self.layers)-1,0,-1):\n",
        "          m[\"w\"+str(iq)]=self.beta1*m[\"w\"+str(iq)]+(1-self.beta1)*self.grads[\"dw\"+str(iq)]\n",
        "          m[\"b\"+str(iq)]=self.beta1*m[\"b\"+str(iq)]+(1-self.beta1)*self.grads[\"db\"+str(iq)]    \n",
        "          v[\"w\"+str(iq)]=self.beta2*v[\"w\"+str(iq)]+(1-self.beta2)*(self.grads[\"dw\"+str(iq)])**2\n",
        "          v[\"b\"+str(iq)]=self.beta2*v[\"b\"+str(iq)]+(1-self.beta2)*(self.grads[\"db\"+str(iq)])**2\n",
        "          mw_hat=m[\"w\"+str(iq)]/(1-np.power(self.beta1,self.t+1))\n",
        "          mb_hat=m[\"b\"+str(iq)]/(1-np.power(self.beta1,self.t+1))\n",
        "          vw_hat=v[\"w\"+str(iq)]/(1-np.power(self.beta2,self.t+1))\n",
        "          vb_hat=v[\"b\"+str(iq)]/(1-np.power(self.beta2,self.t+1))\n",
        "          update_history[\"w\"+str(iq)]=self.eta*np.multiply(np.reciprocal(np.sqrt(vw_hat+self.epsilon)),mw_hat)\n",
        "          update_history[\"b\"+str(iq)]=self.eta*np.multiply(np.reciprocal(np.sqrt(vb_hat+self.epsilon)),mb_hat)\n",
        "\n",
        "    for j in range(len(self.layers)-1,0,-1):\n",
        "          self.parameters[\"w\"+str(j)] = (1-((self.eta*self.lambd)/self.mini_batch_size))*self.parameters[\"w\"+str(j)] - update_history[\"w\"+str(j)]\n",
        "          self.parameters[\"b\"+str(j)] = self.parameters[\"b\"+str(j)] - update_history[\"b\"+str(j)]\n",
        "    return self.parameters"
      ]
    },
    {
      "cell_type": "code",
      "execution_count": null,
      "metadata": {
        "id": "kD1beF-NRNXr"
      },
      "outputs": [],
      "source": [
        "class nadam():\n",
        "  def __init__(self,grads, eta, max_epochs,layers,mini_batch_size,lambd,parameters,i,t):\n",
        "    self.grads=grads\n",
        "    self.eta=eta\n",
        "    self.layers=layers\n",
        "    self.mini_batch_size=mini_batch_size\n",
        "    self.parameters=parameters\n",
        "    self.lambd=lambd\n",
        "    self.i=i\n",
        "    self.beta1=0.9 \n",
        "    self.epsilon=1e-8\n",
        "    self.beta2=0.999\n",
        "    self.t=t\n",
        "  \n",
        "  def momenta(self):\n",
        "    update_history={}\n",
        "    v={}\n",
        "    m={}\n",
        "    for i in range(len(self.layers)-1,0,-1):\n",
        "      update_history[\"w\"+str(i)]=np.zeros((self.layers[i],self.layers[i-1]))\n",
        "      update_history[\"b\"+str(i)]=np.zeros((self.layers[i],1))\n",
        "    for i in range(len(self.layers)-1,0,-1):\n",
        "      v[\"w\"+str(i)]=np.zeros((self.layers[i],self.layers[i-1]))\n",
        "      v[\"b\"+str(i)]=np.zeros((self.layers[i],1))\n",
        "    for i in range(len(self.layers)-1,0,-1):\n",
        "      m[\"w\"+str(i)]=np.zeros((self.layers[i],self.layers[i-1]))\n",
        "      m[\"b\"+str(i)]=np.zeros((self.layers[i],1))\n",
        "    return m,v,update_history\n",
        "     \n",
        "  def get_params(self):\n",
        "    m,v,update_history=self.momenta()\n",
        "    for iq in range(len(self.layers)-1,0,-1):\n",
        "          m[\"w\"+str(iq)]=self.beta1*m[\"w\"+str(iq)]+(1-self.beta1)*self.grads[\"dw\"+str(iq)]\n",
        "          m[\"b\"+str(iq)]=self.beta1*m[\"b\"+str(iq)]+(1-self.beta1)*self.grads[\"db\"+str(iq)]    \n",
        "          v[\"w\"+str(iq)]=self.beta2*v[\"w\"+str(iq)]+(1-self.beta2)*(self.grads[\"dw\"+str(iq)])**2\n",
        "          v[\"b\"+str(iq)]=self.beta2*v[\"b\"+str(iq)]+(1-self.beta2)*(self.grads[\"db\"+str(iq)])**2\n",
        "          mw_hat=m[\"w\"+str(iq)]/(1-np.power(self.beta1,self.t+1))\n",
        "          mb_hat=m[\"b\"+str(iq)]/(1-np.power(self.beta1,self.t+1))\n",
        "          vw_hat=v[\"w\"+str(iq)]/(1-np.power(self.beta2,self.t+1))\n",
        "          vb_hat=v[\"b\"+str(iq)]/(1-np.power(self.beta2,self.t+1))\n",
        "          update_history[\"w\"+str(iq)]=self.eta*np.multiply(np.reciprocal(np.sqrt(vw_hat+self.epsilon)),(self.beta1*mw_hat+(1-self.beta1)*self.grads[\"dw\"+str(iq)]))*(1/(1-np.power(self.beta1,self.t+1)))\n",
        "          update_history[\"b\"+str(iq)]=self.eta*np.multiply(np.reciprocal(np.sqrt(vb_hat+self.epsilon)),(self.beta1*mb_hat+(1-self.beta1)*self.grads[\"db\"+str(iq)]))*(1/(1-np.power(self.beta1,self.t+1)))\n",
        "\n",
        "    for j in range(len(self.layers)-1,0,-1):\n",
        "          self.parameters[\"w\"+str(j)] = (1-((self.eta*self.lambd)/self.mini_batch_size))*self.parameters[\"w\"+str(j)] - update_history[\"w\"+str(j)]\n",
        "          self.parameters[\"b\"+str(j)] = self.parameters[\"b\"+str(j)] - update_history[\"b\"+str(j)]\n",
        "\n",
        "    return self.parameters"
      ]
    },
    {
      "cell_type": "markdown",
      "metadata": {
        "id": "MOKKhqlasNtr"
      },
      "source": [
        "Preparing Dataset"
      ]
    },
    {
      "cell_type": "code",
      "execution_count": null,
      "metadata": {
        "colab": {
          "base_uri": "https://localhost:8080/"
        },
        "id": "E-QmsesIsPqS",
        "outputId": "61e10ac7-9845-4f7f-b8e6-40a75b638b3c"
      },
      "outputs": [
        {
          "name": "stdout",
          "output_type": "stream",
          "text": [
            "Downloading data from https://storage.googleapis.com/tensorflow/tf-keras-datasets/train-labels-idx1-ubyte.gz\n",
            "29515/29515 [==============================] - 0s 0us/step\n",
            "Downloading data from https://storage.googleapis.com/tensorflow/tf-keras-datasets/train-images-idx3-ubyte.gz\n",
            "26421880/26421880 [==============================] - 0s 0us/step\n",
            "Downloading data from https://storage.googleapis.com/tensorflow/tf-keras-datasets/t10k-labels-idx1-ubyte.gz\n",
            "5148/5148 [==============================] - 0s 0us/step\n",
            "Downloading data from https://storage.googleapis.com/tensorflow/tf-keras-datasets/t10k-images-idx3-ubyte.gz\n",
            "4422102/4422102 [==============================] - 0s 0us/step\n",
            "Number of data points in train data (initially) -  60000\n",
            "Number of data points in test data (initially) -  10000\n",
            "Shape of each image - 28x28\n",
            "shape of each image (1D) -  784\n"
          ]
        }
      ],
      "source": [
        "from sklearn.model_selection import train_test_split\n",
        "(train_x,train_y),(test_x,test_y)=fashion_mnist.load_data()\n",
        "num_classes = 10\n",
        "labels=['T-shirt/top','Trouser','Pullover','Dress','Coat','Sandal','Shirt','Sneaker','Bag','Ankle boot']\n",
        "\n",
        "print(\"Number of data points in train data (initially) - \", len(train_x))\n",
        "print(\"Number of data points in test data (initially) - \", len(test_x))\n",
        "\n",
        "\n",
        "#performing the train-validation split\n",
        "train_x, val_x, train_y, val_y = train_test_split(train_x, train_y, test_size=0.1, random_state=40)\n",
        "  \n",
        "\n",
        "print(\"Shape of each image - 28x28\" )\n",
        "image_shape=train_x.shape[1]*train_x.shape[2]\n",
        "print(\"shape of each image (1D) - \",image_shape)\n",
        "  \n",
        "#storing the number of points in each set\n",
        "train_image_count=len(train_x)\n",
        "val_image_count = len(val_x)\n",
        "test_image_count=len(test_x)\n",
        "  \n",
        "X_train=np.zeros((train_image_count,image_shape))\n",
        "X_val=np.zeros((val_image_count,image_shape))\n",
        "X_test=np.zeros((test_image_count,image_shape))\n",
        "  \n",
        "# converting the images into grayscale by normalizing\n",
        "for i in range(train_image_count):\n",
        "  X_train[i]=(copy.deepcopy(train_x[i].flatten()))/255.0 \n",
        "for i in range(val_image_count):\n",
        "  X_val[i]=(copy.deepcopy(val_x[i].flatten()))/255.0\n",
        "for i in range(test_image_count):\n",
        "  X_test[i]=(copy.deepcopy(test_x[i].flatten()))/255.0\n",
        "  \n",
        "y_train = np.zeros((train_y.size, 10))\n",
        "y_train[np.arange(train_y.size), train_y] = 1\n",
        "\n",
        "y_val = np.zeros((val_y.size, 10))\n",
        "y_val[np.arange(val_y.size), val_y] = 1\n",
        "\n",
        "y_test = np.zeros((test_y.size, 10))\n",
        "y_test[np.arange(test_y.size), test_y] = 1\n"
      ]
    },
    {
      "cell_type": "code",
      "execution_count": null,
      "metadata": {
        "id": "Qav7xiFGd3-F"
      },
      "outputs": [],
      "source": [
        "# layers=[784,32,10]\n",
        "# wandb.init(entity_name,project_name)\n",
        "# wandb_log=True\n",
        "# train(X_train, y_train, layers,wandb_log)"
      ]
    },
    {
      "cell_type": "code",
      "execution_count": null,
      "metadata": {
        "id": "2CE-wU16tAGm"
      },
      "outputs": [],
      "source": [
        "def train(X_train=X_train, y_train=y_train, layers=[784,16,10],wandb_log=True, learning_rate = 0.0001, initialization_type = \"random\", activation_function = \"sigmoid\", loss_function = \"cross_entropy\", mini_batch_Size = 32, max_epochs = 5, lambd = 0,optimization_function = stochastic_gd):\n",
        "\n",
        "  #Declaring the dictionary with the default hyperparameters\n",
        "  config_defaults = {\n",
        "      'number_hidden_layers': 2,\n",
        "      'number_neurons': 32,\n",
        "      'learning_rate': 0.001,\n",
        "      'initialization_type': \"xavier\",\n",
        "      'activation_function':'sigmoid',\n",
        "      'mini_batch_size' : 64,\n",
        "      'max_epochs': 5,\n",
        "      'lambd': 0,\n",
        "      'optimization_function': \"adam\"\n",
        "  }\n",
        "\n",
        "  # Initializing the wandb run\n",
        "  wandb.init(config=config_defaults)\n",
        "  config = wandb.config\n",
        "\n",
        "\n",
        "  # Constructing the layers i.e., the architecture of our neural network\n",
        "  layers = [784]\n",
        "  for i in range(config.number_hidden_layers):\n",
        "    layers = layers + [config.number_neurons]\n",
        "  layers  = layers + [10]\n",
        "\n",
        "  #Collecting all the hyperparameters from the wandb run\n",
        "  learning_rate = config.learning_rate\n",
        "  initialization_type = config.initialization_type\n",
        "  activation_function = config.activation_function\n",
        "  loss_function = \"cross_entropy\"\n",
        "  mini_batch_size = config.mini_batch_size\n",
        "  max_epochs = config.max_epochs\n",
        "  lambd = config.lambd\n",
        "  opt_fun = config.optimization_function\n",
        "  hidden_layers=config.number_hidden_layers\n",
        "\n",
        "  #Calling the respective hyperparameters\n",
        "  if opt_fun == \"adam\":\n",
        "    optimization_function = adam\n",
        "  elif opt_fun == \"nadam\":\n",
        "    optimization_function = nadam\n",
        "  elif opt_fun == \"stochastic_gd\":\n",
        "    optimization_function = stochastic_gd\n",
        "  elif opt_fun == \"momentum_gd\":\n",
        "    optimization_function = momentum_gd\n",
        "  elif opt_fun == \"nesterov-acc_gd\":\n",
        "    optimization_function = nesterovacc_gd\n",
        "  elif opt_fun == \"rmsprop\":\n",
        "    optimization_function = rmsprop\n",
        "  else:\n",
        "    print(\"Wrong optimization function\")\n",
        "    exit()\n",
        "\n",
        "\n",
        "  #Forming meaningful run name using the hyperparameters\n",
        "  name_run = str(hidden_layers) + \"_\" + initialization_type[0] + \"_\" + \\\n",
        "  activation_function[:4] + \"_\" + str(learning_rate) + \"_\" + opt_fun[:4]\n",
        "\n",
        "  wandb.run.name = name_run\n",
        "  wandb_log=True\n",
        "  \n",
        "  w=weights(layers)\n",
        "  parameters = w.weight_init(init_type = initialization_type)\n",
        "  parameters, train_acc, val_acc = gradient_descent(X_train, y_train,learning_rate, max_epochs, layers, mini_batch_Size, lambd, loss_function, activation_function, parameters,optimization_function,wandb_log)\n",
        "  \n",
        "  print(\"Training Accuracy:\",train_acc[-1])\n",
        "  print(\"Validation Accuracy:\",val_acc[-1])\n",
        "  \n",
        "  wandb.run.save()\n",
        "  wandb.run.finish()"
      ]
    },
    {
      "cell_type": "code",
      "execution_count": null,
      "metadata": {
        "id": "C1k4ufNRtHHt"
      },
      "outputs": [],
      "source": [
        "def do_sweep(entity_name,project_name):\n",
        "\n",
        "  #Using bayes method for hyperparameter sweeps to curb the unnecessary configurations\n",
        "  hyperparameters = {\n",
        "      \"learning_rate\":{\n",
        "        'values': [0.001, 0.0001]\n",
        "      },\n",
        "\n",
        "      \"number_hidden_layers\": {\n",
        "          'values' : [3, 4, 5]\n",
        "      },\n",
        "\n",
        "      \"number_neurons\": {\n",
        "        'values': [32, 64, 128]\n",
        "      },\n",
        "\n",
        "      \"initialization_type\": {\n",
        "          'values' : [\"xavier\", \"random\"]\n",
        "      },\n",
        "\n",
        "      \"activation_function\": {\n",
        "          'values': [\"sigmoid\", \"tanh\", \"relu\"]\n",
        "      },\n",
        "\n",
        "      \"mini_batch_size\": {\n",
        "          'values': [16,32,64,128]\n",
        "      },\n",
        "\n",
        "      \"max_epochs\": {\n",
        "          'values': [5, 10, 20]\n",
        "      },\n",
        "\n",
        "      \"lambd\": {\n",
        "          'values': [0, 0.0005, 0.5]\n",
        "      },\n",
        "\n",
        "      \"optimization_function\": {\n",
        "          'values': [\"stochastic_gd\",\"momentum_gd\",\"rmsprop\",\"adam\",\"nadam\"]\n",
        "      }\n",
        "\n",
        "  }\n",
        "\n",
        "\n",
        "  #Using bayes method for hyperparameter sweeps to curb the unnecessary configurations\n",
        "  sweep_config = {\n",
        "      'method' : 'bayes',\n",
        "      'metric' :{\n",
        "          'name': 'Validation_Accuracy',\n",
        "          'goal': 'maximize'\n",
        "      },\n",
        "      'parameters': hyperparameters\n",
        "  }\n",
        "\n",
        "  sweep_id = wandb.sweep(sweep_config, entity=entity_name, project=project_name)\n",
        "  wandb.agent(sweep_id, train)"
      ]
    },
    {
      "cell_type": "code",
      "execution_count": null,
      "metadata": {
        "colab": {
          "background_save": true,
          "base_uri": "https://localhost:8080/",
          "height": 1000,
          "referenced_widgets": [
            "a3e6d26dab8546c0af3de98e55844786",
            "48b4869d9b6047198fe3347be0fded27",
            "f4f91e0cff0e48d087ea29dc636c0973",
            "e48d6454e7eb4f5db8a77b705697a0aa",
            "e659b3c547f94badb41ae14407cd65f3",
            "c8c1de77f56c4faa85b2f22afdd05836",
            "0a5ba7821fce4e339fad69a204573edd",
            "e3c324e9e784485eba9136948f8861db",
            "dc82051f2efd4d2fbe2ed65d57cca641",
            "f6721a0856b446c9b7ff1892365eddfd",
            "0cb90217e1e54d9182951ac9882a8981",
            "e9ca059549d244f7ba880b24d1cb4091",
            "f21cb05e4369451d8ce02dc9b4f6a785",
            "ec79d9e55d6c41b68dde04a124a3e24f",
            "1a371c44c40040bfb5b4877fdc4727d8",
            "0c7f28f0a3d7404696088852909b98d0",
            "30b2086919f1431285c0306da7a198aa",
            "6e6a70738586471ab6e69d0f5d0b1630",
            "7edeeb4e82384909b6deaa2a3102c3a0"
          ]
        },
        "id": "jows10uAtPGK",
        "outputId": "bc12c494-3dec-4439-c7da-f355f0b061bd"
      },
      "outputs": [
        {
          "name": "stdout",
          "output_type": "stream",
          "text": [
            "Create sweep with ID: cbw4uf3y\n",
            "Sweep URL: https://wandb.ai/siddharth-s/FODL_Assignment_1/sweeps/cbw4uf3y\n"
          ]
        },
        {
          "name": "stderr",
          "output_type": "stream",
          "text": [
            "\u001b[34m\u001b[1mwandb\u001b[0m: Agent Starting Run: dcb6041e with config:\n",
            "\u001b[34m\u001b[1mwandb\u001b[0m: \tactivation_function: relu\n",
            "\u001b[34m\u001b[1mwandb\u001b[0m: \tinitialization_type: xavier\n",
            "\u001b[34m\u001b[1mwandb\u001b[0m: \tlambd: 0.0005\n",
            "\u001b[34m\u001b[1mwandb\u001b[0m: \tlearning_rate: 0.0001\n",
            "\u001b[34m\u001b[1mwandb\u001b[0m: \tmax_epochs: 20\n",
            "\u001b[34m\u001b[1mwandb\u001b[0m: \tmini_batch_size: 16\n",
            "\u001b[34m\u001b[1mwandb\u001b[0m: \tnumber_hidden_layers: 5\n",
            "\u001b[34m\u001b[1mwandb\u001b[0m: \tnumber_neurons: 128\n",
            "\u001b[34m\u001b[1mwandb\u001b[0m: \toptimization_function: momentum_gd\n",
            "\u001b[34m\u001b[1mwandb\u001b[0m: Currently logged in as: \u001b[33mna20b064\u001b[0m (\u001b[33msiddharth-s\u001b[0m). Use \u001b[1m`wandb login --relogin`\u001b[0m to force relogin\n"
          ]
        },
        {
          "data": {
            "text/html": [
              "Tracking run with wandb version 0.14.0"
            ],
            "text/plain": [
              "<IPython.core.display.HTML object>"
            ]
          },
          "metadata": {},
          "output_type": "display_data"
        },
        {
          "data": {
            "text/html": [
              "Run data is saved locally in <code>/content/wandb/run-20230316_214552-dcb6041e</code>"
            ],
            "text/plain": [
              "<IPython.core.display.HTML object>"
            ]
          },
          "metadata": {},
          "output_type": "display_data"
        },
        {
          "data": {
            "text/html": [
              "Syncing run <strong><a href='https://wandb.ai/siddharth-s/FODL_Assignment_1/runs/dcb6041e' target=\"_blank\">dauntless-sweep-1</a></strong> to <a href='https://wandb.ai/siddharth-s/FODL_Assignment_1' target=\"_blank\">Weights & Biases</a> (<a href='https://wandb.me/run' target=\"_blank\">docs</a>)<br/>Sweep page: <a href='https://wandb.ai/siddharth-s/FODL_Assignment_1/sweeps/cbw4uf3y' target=\"_blank\">https://wandb.ai/siddharth-s/FODL_Assignment_1/sweeps/cbw4uf3y</a>"
            ],
            "text/plain": [
              "<IPython.core.display.HTML object>"
            ]
          },
          "metadata": {},
          "output_type": "display_data"
        },
        {
          "data": {
            "text/html": [
              " View project at <a href='https://wandb.ai/siddharth-s/FODL_Assignment_1' target=\"_blank\">https://wandb.ai/siddharth-s/FODL_Assignment_1</a>"
            ],
            "text/plain": [
              "<IPython.core.display.HTML object>"
            ]
          },
          "metadata": {},
          "output_type": "display_data"
        },
        {
          "data": {
            "text/html": [
              " View sweep at <a href='https://wandb.ai/siddharth-s/FODL_Assignment_1/sweeps/cbw4uf3y' target=\"_blank\">https://wandb.ai/siddharth-s/FODL_Assignment_1/sweeps/cbw4uf3y</a>"
            ],
            "text/plain": [
              "<IPython.core.display.HTML object>"
            ]
          },
          "metadata": {},
          "output_type": "display_data"
        },
        {
          "data": {
            "text/html": [
              " View run at <a href='https://wandb.ai/siddharth-s/FODL_Assignment_1/runs/dcb6041e' target=\"_blank\">https://wandb.ai/siddharth-s/FODL_Assignment_1/runs/dcb6041e</a>"
            ],
            "text/plain": [
              "<IPython.core.display.HTML object>"
            ]
          },
          "metadata": {},
          "output_type": "display_data"
        },
        {
          "name": "stderr",
          "output_type": "stream",
          "text": [
            "  0%|          | 0/20 [00:00<?, ?it/s]\n"
          ]
        },
        {
          "data": {
            "text/html": [
              "Waiting for W&B process to finish... <strong style=\"color:red\">(failed 1).</strong> Press Control-C to abort syncing."
            ],
            "text/plain": [
              "<IPython.core.display.HTML object>"
            ]
          },
          "metadata": {},
          "output_type": "display_data"
        },
        {
          "data": {
            "application/vnd.jupyter.widget-view+json": {
              "model_id": "a3e6d26dab8546c0af3de98e55844786",
              "version_major": 2,
              "version_minor": 0
            },
            "text/plain": [
              "VBox(children=(Label(value='0.001 MB of 0.001 MB uploaded (0.000 MB deduped)\\r'), FloatProgress(value=1.0, max…"
            ]
          },
          "metadata": {},
          "output_type": "display_data"
        },
        {
          "data": {
            "text/html": [
              " View run <strong style=\"color:#cdcd00\">dauntless-sweep-1</strong> at: <a href='https://wandb.ai/siddharth-s/FODL_Assignment_1/runs/dcb6041e' target=\"_blank\">https://wandb.ai/siddharth-s/FODL_Assignment_1/runs/dcb6041e</a><br/>Synced 5 W&B file(s), 0 media file(s), 0 artifact file(s) and 0 other file(s)"
            ],
            "text/plain": [
              "<IPython.core.display.HTML object>"
            ]
          },
          "metadata": {},
          "output_type": "display_data"
        },
        {
          "data": {
            "text/html": [
              "Find logs at: <code>./wandb/run-20230316_214552-dcb6041e/logs</code>"
            ],
            "text/plain": [
              "<IPython.core.display.HTML object>"
            ]
          },
          "metadata": {},
          "output_type": "display_data"
        },
        {
          "name": "stderr",
          "output_type": "stream",
          "text": [
            "Run dcb6041e errored: AttributeError(\"'momentum_gd' object has no attribute 'gamma'\")\n",
            "\u001b[34m\u001b[1mwandb\u001b[0m: \u001b[32m\u001b[41mERROR\u001b[0m Run dcb6041e errored: AttributeError(\"'momentum_gd' object has no attribute 'gamma'\")\n",
            "\u001b[34m\u001b[1mwandb\u001b[0m: Agent Starting Run: 9vihn662 with config:\n",
            "\u001b[34m\u001b[1mwandb\u001b[0m: \tactivation_function: tanh\n",
            "\u001b[34m\u001b[1mwandb\u001b[0m: \tinitialization_type: random\n",
            "\u001b[34m\u001b[1mwandb\u001b[0m: \tlambd: 0.0005\n",
            "\u001b[34m\u001b[1mwandb\u001b[0m: \tlearning_rate: 0.0001\n",
            "\u001b[34m\u001b[1mwandb\u001b[0m: \tmax_epochs: 5\n",
            "\u001b[34m\u001b[1mwandb\u001b[0m: \tmini_batch_size: 32\n",
            "\u001b[34m\u001b[1mwandb\u001b[0m: \tnumber_hidden_layers: 4\n",
            "\u001b[34m\u001b[1mwandb\u001b[0m: \tnumber_neurons: 32\n",
            "\u001b[34m\u001b[1mwandb\u001b[0m: \toptimization_function: rmsprop\n"
          ]
        },
        {
          "data": {
            "text/html": [
              "Tracking run with wandb version 0.14.0"
            ],
            "text/plain": [
              "<IPython.core.display.HTML object>"
            ]
          },
          "metadata": {},
          "output_type": "display_data"
        },
        {
          "data": {
            "text/html": [
              "Run data is saved locally in <code>/content/wandb/run-20230316_214606-9vihn662</code>"
            ],
            "text/plain": [
              "<IPython.core.display.HTML object>"
            ]
          },
          "metadata": {},
          "output_type": "display_data"
        },
        {
          "data": {
            "text/html": [
              "Syncing run <strong><a href='https://wandb.ai/siddharth-s/FODL_Assignment_1/runs/9vihn662' target=\"_blank\">sandy-sweep-2</a></strong> to <a href='https://wandb.ai/siddharth-s/FODL_Assignment_1' target=\"_blank\">Weights & Biases</a> (<a href='https://wandb.me/run' target=\"_blank\">docs</a>)<br/>Sweep page: <a href='https://wandb.ai/siddharth-s/FODL_Assignment_1/sweeps/cbw4uf3y' target=\"_blank\">https://wandb.ai/siddharth-s/FODL_Assignment_1/sweeps/cbw4uf3y</a>"
            ],
            "text/plain": [
              "<IPython.core.display.HTML object>"
            ]
          },
          "metadata": {},
          "output_type": "display_data"
        },
        {
          "data": {
            "text/html": [
              " View project at <a href='https://wandb.ai/siddharth-s/FODL_Assignment_1' target=\"_blank\">https://wandb.ai/siddharth-s/FODL_Assignment_1</a>"
            ],
            "text/plain": [
              "<IPython.core.display.HTML object>"
            ]
          },
          "metadata": {},
          "output_type": "display_data"
        },
        {
          "data": {
            "text/html": [
              " View sweep at <a href='https://wandb.ai/siddharth-s/FODL_Assignment_1/sweeps/cbw4uf3y' target=\"_blank\">https://wandb.ai/siddharth-s/FODL_Assignment_1/sweeps/cbw4uf3y</a>"
            ],
            "text/plain": [
              "<IPython.core.display.HTML object>"
            ]
          },
          "metadata": {},
          "output_type": "display_data"
        },
        {
          "data": {
            "text/html": [
              " View run at <a href='https://wandb.ai/siddharth-s/FODL_Assignment_1/runs/9vihn662' target=\"_blank\">https://wandb.ai/siddharth-s/FODL_Assignment_1/runs/9vihn662</a>"
            ],
            "text/plain": [
              "<IPython.core.display.HTML object>"
            ]
          },
          "metadata": {},
          "output_type": "display_data"
        },
        {
          "name": "stderr",
          "output_type": "stream",
          "text": [
            "100%|██████████| 5/5 [02:41<00:00, 32.26s/it]\n",
            "\u001b[34m\u001b[1mwandb\u001b[0m: \u001b[33mWARNING\u001b[0m Calling wandb.run.save without any arguments is deprecated.Changes to attributes are automatically persisted.\n"
          ]
        },
        {
          "name": "stdout",
          "output_type": "stream",
          "text": [
            "Training Accuracy: 53.635185185185186\n",
            "Validation Accuracy: 53.5\n"
          ]
        },
        {
          "data": {
            "text/html": [
              "Waiting for W&B process to finish... <strong style=\"color:green\">(success).</strong>"
            ],
            "text/plain": [
              "<IPython.core.display.HTML object>"
            ]
          },
          "metadata": {},
          "output_type": "display_data"
        },
        {
          "data": {
            "application/vnd.jupyter.widget-view+json": {
              "model_id": "dc82051f2efd4d2fbe2ed65d57cca641",
              "version_major": 2,
              "version_minor": 0
            },
            "text/plain": [
              "VBox(children=(Label(value='0.001 MB of 0.001 MB uploaded (0.000 MB deduped)\\r'), FloatProgress(value=1.0, max…"
            ]
          },
          "metadata": {},
          "output_type": "display_data"
        },
        {
          "data": {
            "text/html": [
              "<style>\n",
              "    table.wandb td:nth-child(1) { padding: 0 10px; text-align: left ; width: auto;} td:nth-child(2) {text-align: left ; width: 100%}\n",
              "    .wandb-row { display: flex; flex-direction: row; flex-wrap: wrap; justify-content: flex-start; width: 100% }\n",
              "    .wandb-col { display: flex; flex-direction: column; flex-basis: 100%; flex: 1; padding: 10px; }\n",
              "    </style>\n",
              "<div class=\"wandb-row\"><div class=\"wandb-col\"><h3>Run history:</h3><br/><table class=\"wandb\"><tr><td>Train_Accuracy</td><td>▁▃▃▃█</td></tr><tr><td>Train_Loss</td><td>█▆▆▆▁</td></tr><tr><td>Validation_Accuracy</td><td>▁▃▃▃█</td></tr><tr><td>Validation_loss</td><td>█▆▆▆▁</td></tr><tr><td>epoch</td><td>▁▃▅▆█</td></tr></table><br/></div><div class=\"wandb-col\"><h3>Run summary:</h3><br/><table class=\"wandb\"><tr><td>Train_Accuracy</td><td>53.63519</td></tr><tr><td>Train_Loss</td><td>1.02794</td></tr><tr><td>Validation_Accuracy</td><td>53.5</td></tr><tr><td>Validation_loss</td><td>1.03616</td></tr><tr><td>epoch</td><td>4</td></tr></table><br/></div></div>"
            ],
            "text/plain": [
              "<IPython.core.display.HTML object>"
            ]
          },
          "metadata": {},
          "output_type": "display_data"
        },
        {
          "data": {
            "text/html": [
              " View run <strong style=\"color:#cdcd00\">sandy-sweep-2</strong> at: <a href='https://wandb.ai/siddharth-s/FODL_Assignment_1/runs/9vihn662' target=\"_blank\">https://wandb.ai/siddharth-s/FODL_Assignment_1/runs/9vihn662</a><br/>Synced 5 W&B file(s), 0 media file(s), 0 artifact file(s) and 0 other file(s)"
            ],
            "text/plain": [
              "<IPython.core.display.HTML object>"
            ]
          },
          "metadata": {},
          "output_type": "display_data"
        },
        {
          "data": {
            "text/html": [
              "Find logs at: <code>./wandb/run-20230316_214606-9vihn662/logs</code>"
            ],
            "text/plain": [
              "<IPython.core.display.HTML object>"
            ]
          },
          "metadata": {},
          "output_type": "display_data"
        },
        {
          "name": "stderr",
          "output_type": "stream",
          "text": [
            "\u001b[34m\u001b[1mwandb\u001b[0m: Agent Starting Run: 5wo6h8y2 with config:\n",
            "\u001b[34m\u001b[1mwandb\u001b[0m: \tactivation_function: tanh\n",
            "\u001b[34m\u001b[1mwandb\u001b[0m: \tinitialization_type: random\n",
            "\u001b[34m\u001b[1mwandb\u001b[0m: \tlambd: 0.5\n",
            "\u001b[34m\u001b[1mwandb\u001b[0m: \tlearning_rate: 0.0001\n",
            "\u001b[34m\u001b[1mwandb\u001b[0m: \tmax_epochs: 5\n",
            "\u001b[34m\u001b[1mwandb\u001b[0m: \tmini_batch_size: 32\n",
            "\u001b[34m\u001b[1mwandb\u001b[0m: \tnumber_hidden_layers: 4\n",
            "\u001b[34m\u001b[1mwandb\u001b[0m: \tnumber_neurons: 64\n",
            "\u001b[34m\u001b[1mwandb\u001b[0m: \toptimization_function: adam\n"
          ]
        },
        {
          "data": {
            "text/html": [
              "Tracking run with wandb version 0.14.0"
            ],
            "text/plain": [
              "<IPython.core.display.HTML object>"
            ]
          },
          "metadata": {},
          "output_type": "display_data"
        },
        {
          "data": {
            "text/html": [
              "Run data is saved locally in <code>/content/wandb/run-20230316_214901-5wo6h8y2</code>"
            ],
            "text/plain": [
              "<IPython.core.display.HTML object>"
            ]
          },
          "metadata": {},
          "output_type": "display_data"
        },
        {
          "data": {
            "text/html": [
              "Syncing run <strong><a href='https://wandb.ai/siddharth-s/FODL_Assignment_1/runs/5wo6h8y2' target=\"_blank\">cool-sweep-3</a></strong> to <a href='https://wandb.ai/siddharth-s/FODL_Assignment_1' target=\"_blank\">Weights & Biases</a> (<a href='https://wandb.me/run' target=\"_blank\">docs</a>)<br/>Sweep page: <a href='https://wandb.ai/siddharth-s/FODL_Assignment_1/sweeps/cbw4uf3y' target=\"_blank\">https://wandb.ai/siddharth-s/FODL_Assignment_1/sweeps/cbw4uf3y</a>"
            ],
            "text/plain": [
              "<IPython.core.display.HTML object>"
            ]
          },
          "metadata": {},
          "output_type": "display_data"
        },
        {
          "data": {
            "text/html": [
              " View project at <a href='https://wandb.ai/siddharth-s/FODL_Assignment_1' target=\"_blank\">https://wandb.ai/siddharth-s/FODL_Assignment_1</a>"
            ],
            "text/plain": [
              "<IPython.core.display.HTML object>"
            ]
          },
          "metadata": {},
          "output_type": "display_data"
        },
        {
          "data": {
            "text/html": [
              " View sweep at <a href='https://wandb.ai/siddharth-s/FODL_Assignment_1/sweeps/cbw4uf3y' target=\"_blank\">https://wandb.ai/siddharth-s/FODL_Assignment_1/sweeps/cbw4uf3y</a>"
            ],
            "text/plain": [
              "<IPython.core.display.HTML object>"
            ]
          },
          "metadata": {},
          "output_type": "display_data"
        },
        {
          "data": {
            "text/html": [
              " View run at <a href='https://wandb.ai/siddharth-s/FODL_Assignment_1/runs/5wo6h8y2' target=\"_blank\">https://wandb.ai/siddharth-s/FODL_Assignment_1/runs/5wo6h8y2</a>"
            ],
            "text/plain": [
              "<IPython.core.display.HTML object>"
            ]
          },
          "metadata": {},
          "output_type": "display_data"
        },
        {
          "name": "stderr",
          "output_type": "stream",
          "text": [
            "100%|██████████| 5/5 [03:58<00:00, 47.61s/it]"
          ]
        },
        {
          "name": "stdout",
          "output_type": "stream",
          "text": [
            "Training Accuracy: 38.74814814814815\n",
            "Validation Accuracy: 39.35\n"
          ]
        },
        {
          "name": "stderr",
          "output_type": "stream",
          "text": [
            "\n"
          ]
        },
        {
          "data": {
            "text/html": [
              "Waiting for W&B process to finish... <strong style=\"color:green\">(success).</strong>"
            ],
            "text/plain": [
              "<IPython.core.display.HTML object>"
            ]
          },
          "metadata": {},
          "output_type": "display_data"
        },
        {
          "data": {
            "text/html": [
              "<style>\n",
              "    table.wandb td:nth-child(1) { padding: 0 10px; text-align: left ; width: auto;} td:nth-child(2) {text-align: left ; width: 100%}\n",
              "    .wandb-row { display: flex; flex-direction: row; flex-wrap: wrap; justify-content: flex-start; width: 100% }\n",
              "    .wandb-col { display: flex; flex-direction: column; flex-basis: 100%; flex: 1; padding: 10px; }\n",
              "    </style>\n",
              "<div class=\"wandb-row\"><div class=\"wandb-col\"><h3>Run history:</h3><br/><table class=\"wandb\"><tr><td>Train_Accuracy</td><td>▁▁▄▅█</td></tr><tr><td>Train_Loss</td><td>██▄▄▁</td></tr><tr><td>Validation_Accuracy</td><td>▁▁▄▅█</td></tr><tr><td>Validation_loss</td><td>██▁▄▅</td></tr><tr><td>epoch</td><td>▁▃▅▆█</td></tr></table><br/></div><div class=\"wandb-col\"><h3>Run summary:</h3><br/><table class=\"wandb\"><tr><td>Train_Accuracy</td><td>38.74815</td></tr><tr><td>Train_Loss</td><td>1.35351</td></tr><tr><td>Validation_Accuracy</td><td>39.35</td></tr><tr><td>Validation_loss</td><td>1.61464</td></tr><tr><td>epoch</td><td>4</td></tr></table><br/></div></div>"
            ],
            "text/plain": [
              "<IPython.core.display.HTML object>"
            ]
          },
          "metadata": {},
          "output_type": "display_data"
        },
        {
          "data": {
            "text/html": [
              " View run <strong style=\"color:#cdcd00\">cool-sweep-3</strong> at: <a href='https://wandb.ai/siddharth-s/FODL_Assignment_1/runs/5wo6h8y2' target=\"_blank\">https://wandb.ai/siddharth-s/FODL_Assignment_1/runs/5wo6h8y2</a><br/>Synced 5 W&B file(s), 0 media file(s), 0 artifact file(s) and 0 other file(s)"
            ],
            "text/plain": [
              "<IPython.core.display.HTML object>"
            ]
          },
          "metadata": {},
          "output_type": "display_data"
        },
        {
          "data": {
            "text/html": [
              "Find logs at: <code>./wandb/run-20230316_214901-5wo6h8y2/logs</code>"
            ],
            "text/plain": [
              "<IPython.core.display.HTML object>"
            ]
          },
          "metadata": {},
          "output_type": "display_data"
        },
        {
          "name": "stderr",
          "output_type": "stream",
          "text": [
            "\u001b[34m\u001b[1mwandb\u001b[0m: Agent Starting Run: qipjwqh8 with config:\n",
            "\u001b[34m\u001b[1mwandb\u001b[0m: \tactivation_function: relu\n",
            "\u001b[34m\u001b[1mwandb\u001b[0m: \tinitialization_type: random\n",
            "\u001b[34m\u001b[1mwandb\u001b[0m: \tlambd: 0.0005\n",
            "\u001b[34m\u001b[1mwandb\u001b[0m: \tlearning_rate: 0.0001\n",
            "\u001b[34m\u001b[1mwandb\u001b[0m: \tmax_epochs: 5\n",
            "\u001b[34m\u001b[1mwandb\u001b[0m: \tmini_batch_size: 32\n",
            "\u001b[34m\u001b[1mwandb\u001b[0m: \tnumber_hidden_layers: 5\n",
            "\u001b[34m\u001b[1mwandb\u001b[0m: \tnumber_neurons: 64\n",
            "\u001b[34m\u001b[1mwandb\u001b[0m: \toptimization_function: stochastic_gd\n"
          ]
        },
        {
          "data": {
            "text/html": [
              "Tracking run with wandb version 0.14.0"
            ],
            "text/plain": [
              "<IPython.core.display.HTML object>"
            ]
          },
          "metadata": {},
          "output_type": "display_data"
        },
        {
          "data": {
            "text/html": [
              "Run data is saved locally in <code>/content/wandb/run-20230316_215316-qipjwqh8</code>"
            ],
            "text/plain": [
              "<IPython.core.display.HTML object>"
            ]
          },
          "metadata": {},
          "output_type": "display_data"
        },
        {
          "data": {
            "text/html": [
              "Syncing run <strong><a href='https://wandb.ai/siddharth-s/FODL_Assignment_1/runs/qipjwqh8' target=\"_blank\">balmy-sweep-4</a></strong> to <a href='https://wandb.ai/siddharth-s/FODL_Assignment_1' target=\"_blank\">Weights & Biases</a> (<a href='https://wandb.me/run' target=\"_blank\">docs</a>)<br/>Sweep page: <a href='https://wandb.ai/siddharth-s/FODL_Assignment_1/sweeps/cbw4uf3y' target=\"_blank\">https://wandb.ai/siddharth-s/FODL_Assignment_1/sweeps/cbw4uf3y</a>"
            ],
            "text/plain": [
              "<IPython.core.display.HTML object>"
            ]
          },
          "metadata": {},
          "output_type": "display_data"
        },
        {
          "data": {
            "text/html": [
              " View project at <a href='https://wandb.ai/siddharth-s/FODL_Assignment_1' target=\"_blank\">https://wandb.ai/siddharth-s/FODL_Assignment_1</a>"
            ],
            "text/plain": [
              "<IPython.core.display.HTML object>"
            ]
          },
          "metadata": {},
          "output_type": "display_data"
        },
        {
          "data": {
            "text/html": [
              " View sweep at <a href='https://wandb.ai/siddharth-s/FODL_Assignment_1/sweeps/cbw4uf3y' target=\"_blank\">https://wandb.ai/siddharth-s/FODL_Assignment_1/sweeps/cbw4uf3y</a>"
            ],
            "text/plain": [
              "<IPython.core.display.HTML object>"
            ]
          },
          "metadata": {},
          "output_type": "display_data"
        },
        {
          "data": {
            "text/html": [
              " View run at <a href='https://wandb.ai/siddharth-s/FODL_Assignment_1/runs/qipjwqh8' target=\"_blank\">https://wandb.ai/siddharth-s/FODL_Assignment_1/runs/qipjwqh8</a>"
            ],
            "text/plain": [
              "<IPython.core.display.HTML object>"
            ]
          },
          "metadata": {},
          "output_type": "display_data"
        },
        {
          "name": "stderr",
          "output_type": "stream",
          "text": [
            "100%|██████████| 5/5 [03:39<00:00, 43.80s/it]"
          ]
        },
        {
          "name": "stdout",
          "output_type": "stream",
          "text": [
            "Training Accuracy: 10.05\n",
            "Validation Accuracy: 9.55\n"
          ]
        },
        {
          "name": "stderr",
          "output_type": "stream",
          "text": [
            "\n"
          ]
        },
        {
          "data": {
            "text/html": [
              "Waiting for W&B process to finish... <strong style=\"color:green\">(success).</strong>"
            ],
            "text/plain": [
              "<IPython.core.display.HTML object>"
            ]
          },
          "metadata": {},
          "output_type": "display_data"
        },
        {
          "data": {
            "application/vnd.jupyter.widget-view+json": {
              "model_id": "30b2086919f1431285c0306da7a198aa",
              "version_major": 2,
              "version_minor": 0
            },
            "text/plain": [
              "VBox(children=(Label(value='0.001 MB of 0.001 MB uploaded (0.000 MB deduped)\\r'), FloatProgress(value=1.0, max…"
            ]
          },
          "metadata": {},
          "output_type": "display_data"
        },
        {
          "data": {
            "text/html": [
              "<style>\n",
              "    table.wandb td:nth-child(1) { padding: 0 10px; text-align: left ; width: auto;} td:nth-child(2) {text-align: left ; width: 100%}\n",
              "    .wandb-row { display: flex; flex-direction: row; flex-wrap: wrap; justify-content: flex-start; width: 100% }\n",
              "    .wandb-col { display: flex; flex-direction: column; flex-basis: 100%; flex: 1; padding: 10px; }\n",
              "    </style>\n",
              "<div class=\"wandb-row\"><div class=\"wandb-col\"><h3>Run history:</h3><br/><table class=\"wandb\"><tr><td>Train_Accuracy</td><td>▁▁███</td></tr><tr><td>Train_Loss</td><td>█▃▂▁▁</td></tr><tr><td>Validation_Accuracy</td><td>██▁▁▁</td></tr><tr><td>Validation_loss</td><td>▁▄▆▇█</td></tr><tr><td>epoch</td><td>▁▃▅▆█</td></tr></table><br/></div><div class=\"wandb-col\"><h3>Run summary:</h3><br/><table class=\"wandb\"><tr><td>Train_Accuracy</td><td>10.05</td></tr><tr><td>Train_Loss</td><td>2.30258</td></tr><tr><td>Validation_Accuracy</td><td>9.55</td></tr><tr><td>Validation_loss</td><td>2.30274</td></tr><tr><td>epoch</td><td>4</td></tr></table><br/></div></div>"
            ],
            "text/plain": [
              "<IPython.core.display.HTML object>"
            ]
          },
          "metadata": {},
          "output_type": "display_data"
        },
        {
          "data": {
            "text/html": [
              " View run <strong style=\"color:#cdcd00\">balmy-sweep-4</strong> at: <a href='https://wandb.ai/siddharth-s/FODL_Assignment_1/runs/qipjwqh8' target=\"_blank\">https://wandb.ai/siddharth-s/FODL_Assignment_1/runs/qipjwqh8</a><br/>Synced 5 W&B file(s), 0 media file(s), 0 artifact file(s) and 0 other file(s)"
            ],
            "text/plain": [
              "<IPython.core.display.HTML object>"
            ]
          },
          "metadata": {},
          "output_type": "display_data"
        },
        {
          "data": {
            "text/html": [
              "Find logs at: <code>./wandb/run-20230316_215316-qipjwqh8/logs</code>"
            ],
            "text/plain": [
              "<IPython.core.display.HTML object>"
            ]
          },
          "metadata": {},
          "output_type": "display_data"
        },
        {
          "name": "stderr",
          "output_type": "stream",
          "text": [
            "\u001b[34m\u001b[1mwandb\u001b[0m: Agent Starting Run: clvtys89 with config:\n",
            "\u001b[34m\u001b[1mwandb\u001b[0m: \tactivation_function: relu\n",
            "\u001b[34m\u001b[1mwandb\u001b[0m: \tinitialization_type: random\n",
            "\u001b[34m\u001b[1mwandb\u001b[0m: \tlambd: 0.5\n",
            "\u001b[34m\u001b[1mwandb\u001b[0m: \tlearning_rate: 0.0001\n",
            "\u001b[34m\u001b[1mwandb\u001b[0m: \tmax_epochs: 5\n",
            "\u001b[34m\u001b[1mwandb\u001b[0m: \tmini_batch_size: 32\n",
            "\u001b[34m\u001b[1mwandb\u001b[0m: \tnumber_hidden_layers: 5\n",
            "\u001b[34m\u001b[1mwandb\u001b[0m: \tnumber_neurons: 32\n",
            "\u001b[34m\u001b[1mwandb\u001b[0m: \toptimization_function: rmsprop\n"
          ]
        },
        {
          "data": {
            "text/html": [
              "Tracking run with wandb version 0.14.0"
            ],
            "text/plain": [
              "<IPython.core.display.HTML object>"
            ]
          },
          "metadata": {},
          "output_type": "display_data"
        },
        {
          "data": {
            "text/html": [
              "Run data is saved locally in <code>/content/wandb/run-20230316_215714-clvtys89</code>"
            ],
            "text/plain": [
              "<IPython.core.display.HTML object>"
            ]
          },
          "metadata": {},
          "output_type": "display_data"
        },
        {
          "data": {
            "text/html": [
              "Syncing run <strong><a href='https://wandb.ai/siddharth-s/FODL_Assignment_1/runs/clvtys89' target=\"_blank\">sleek-sweep-5</a></strong> to <a href='https://wandb.ai/siddharth-s/FODL_Assignment_1' target=\"_blank\">Weights & Biases</a> (<a href='https://wandb.me/run' target=\"_blank\">docs</a>)<br/>Sweep page: <a href='https://wandb.ai/siddharth-s/FODL_Assignment_1/sweeps/cbw4uf3y' target=\"_blank\">https://wandb.ai/siddharth-s/FODL_Assignment_1/sweeps/cbw4uf3y</a>"
            ],
            "text/plain": [
              "<IPython.core.display.HTML object>"
            ]
          },
          "metadata": {},
          "output_type": "display_data"
        },
        {
          "data": {
            "text/html": [
              " View project at <a href='https://wandb.ai/siddharth-s/FODL_Assignment_1' target=\"_blank\">https://wandb.ai/siddharth-s/FODL_Assignment_1</a>"
            ],
            "text/plain": [
              "<IPython.core.display.HTML object>"
            ]
          },
          "metadata": {},
          "output_type": "display_data"
        },
        {
          "data": {
            "text/html": [
              " View sweep at <a href='https://wandb.ai/siddharth-s/FODL_Assignment_1/sweeps/cbw4uf3y' target=\"_blank\">https://wandb.ai/siddharth-s/FODL_Assignment_1/sweeps/cbw4uf3y</a>"
            ],
            "text/plain": [
              "<IPython.core.display.HTML object>"
            ]
          },
          "metadata": {},
          "output_type": "display_data"
        },
        {
          "data": {
            "text/html": [
              " View run at <a href='https://wandb.ai/siddharth-s/FODL_Assignment_1/runs/clvtys89' target=\"_blank\">https://wandb.ai/siddharth-s/FODL_Assignment_1/runs/clvtys89</a>"
            ],
            "text/plain": [
              "<IPython.core.display.HTML object>"
            ]
          },
          "metadata": {},
          "output_type": "display_data"
        },
        {
          "name": "stderr",
          "output_type": "stream",
          "text": [
            "100%|██████████| 5/5 [02:47<00:00, 33.60s/it]"
          ]
        },
        {
          "name": "stdout",
          "output_type": "stream",
          "text": [
            "Training Accuracy: 10.048148148148147\n",
            "Validation Accuracy: 9.566666666666666\n"
          ]
        },
        {
          "name": "stderr",
          "output_type": "stream",
          "text": [
            "\n"
          ]
        },
        {
          "data": {
            "text/html": [
              "Waiting for W&B process to finish... <strong style=\"color:green\">(success).</strong>"
            ],
            "text/plain": [
              "<IPython.core.display.HTML object>"
            ]
          },
          "metadata": {},
          "output_type": "display_data"
        },
        {
          "data": {
            "text/html": [
              "<style>\n",
              "    table.wandb td:nth-child(1) { padding: 0 10px; text-align: left ; width: auto;} td:nth-child(2) {text-align: left ; width: 100%}\n",
              "    .wandb-row { display: flex; flex-direction: row; flex-wrap: wrap; justify-content: flex-start; width: 100% }\n",
              "    .wandb-col { display: flex; flex-direction: column; flex-basis: 100%; flex: 1; padding: 10px; }\n",
              "    </style>\n",
              "<div class=\"wandb-row\"><div class=\"wandb-col\"><h3>Run history:</h3><br/><table class=\"wandb\"><tr><td>Train_Accuracy</td><td>▁▁▅▅█</td></tr><tr><td>Train_Loss</td><td>▁▄▅▆█</td></tr><tr><td>Validation_Accuracy</td><td>██▄▄▁</td></tr><tr><td>Validation_loss</td><td>▁▆▇▇█</td></tr><tr><td>epoch</td><td>▁▃▅▆█</td></tr></table><br/></div><div class=\"wandb-col\"><h3>Run summary:</h3><br/><table class=\"wandb\"><tr><td>Train_Accuracy</td><td>10.04815</td></tr><tr><td>Train_Loss</td><td>2.30367</td></tr><tr><td>Validation_Accuracy</td><td>9.56667</td></tr><tr><td>Validation_loss</td><td>2.30775</td></tr><tr><td>epoch</td><td>4</td></tr></table><br/></div></div>"
            ],
            "text/plain": [
              "<IPython.core.display.HTML object>"
            ]
          },
          "metadata": {},
          "output_type": "display_data"
        },
        {
          "data": {
            "text/html": [
              " View run <strong style=\"color:#cdcd00\">sleek-sweep-5</strong> at: <a href='https://wandb.ai/siddharth-s/FODL_Assignment_1/runs/clvtys89' target=\"_blank\">https://wandb.ai/siddharth-s/FODL_Assignment_1/runs/clvtys89</a><br/>Synced 5 W&B file(s), 0 media file(s), 0 artifact file(s) and 0 other file(s)"
            ],
            "text/plain": [
              "<IPython.core.display.HTML object>"
            ]
          },
          "metadata": {},
          "output_type": "display_data"
        },
        {
          "data": {
            "text/html": [
              "Find logs at: <code>./wandb/run-20230316_215714-clvtys89/logs</code>"
            ],
            "text/plain": [
              "<IPython.core.display.HTML object>"
            ]
          },
          "metadata": {},
          "output_type": "display_data"
        },
        {
          "name": "stderr",
          "output_type": "stream",
          "text": [
            "\u001b[34m\u001b[1mwandb\u001b[0m: Agent Starting Run: 2dwzt8i0 with config:\n",
            "\u001b[34m\u001b[1mwandb\u001b[0m: \tactivation_function: relu\n",
            "\u001b[34m\u001b[1mwandb\u001b[0m: \tinitialization_type: random\n",
            "\u001b[34m\u001b[1mwandb\u001b[0m: \tlambd: 0.5\n",
            "\u001b[34m\u001b[1mwandb\u001b[0m: \tlearning_rate: 0.0001\n",
            "\u001b[34m\u001b[1mwandb\u001b[0m: \tmax_epochs: 5\n",
            "\u001b[34m\u001b[1mwandb\u001b[0m: \tmini_batch_size: 32\n",
            "\u001b[34m\u001b[1mwandb\u001b[0m: \tnumber_hidden_layers: 5\n",
            "\u001b[34m\u001b[1mwandb\u001b[0m: \tnumber_neurons: 64\n",
            "\u001b[34m\u001b[1mwandb\u001b[0m: \toptimization_function: nadam\n"
          ]
        },
        {
          "data": {
            "text/html": [
              "Tracking run with wandb version 0.14.0"
            ],
            "text/plain": [
              "<IPython.core.display.HTML object>"
            ]
          },
          "metadata": {},
          "output_type": "display_data"
        },
        {
          "data": {
            "text/html": [
              "Run data is saved locally in <code>/content/wandb/run-20230316_220028-2dwzt8i0</code>"
            ],
            "text/plain": [
              "<IPython.core.display.HTML object>"
            ]
          },
          "metadata": {},
          "output_type": "display_data"
        },
        {
          "data": {
            "text/html": [
              "Syncing run <strong><a href='https://wandb.ai/siddharth-s/FODL_Assignment_1/runs/2dwzt8i0' target=\"_blank\">confused-sweep-6</a></strong> to <a href='https://wandb.ai/siddharth-s/FODL_Assignment_1' target=\"_blank\">Weights & Biases</a> (<a href='https://wandb.me/run' target=\"_blank\">docs</a>)<br/>Sweep page: <a href='https://wandb.ai/siddharth-s/FODL_Assignment_1/sweeps/cbw4uf3y' target=\"_blank\">https://wandb.ai/siddharth-s/FODL_Assignment_1/sweeps/cbw4uf3y</a>"
            ],
            "text/plain": [
              "<IPython.core.display.HTML object>"
            ]
          },
          "metadata": {},
          "output_type": "display_data"
        },
        {
          "data": {
            "text/html": [
              " View project at <a href='https://wandb.ai/siddharth-s/FODL_Assignment_1' target=\"_blank\">https://wandb.ai/siddharth-s/FODL_Assignment_1</a>"
            ],
            "text/plain": [
              "<IPython.core.display.HTML object>"
            ]
          },
          "metadata": {},
          "output_type": "display_data"
        },
        {
          "data": {
            "text/html": [
              " View sweep at <a href='https://wandb.ai/siddharth-s/FODL_Assignment_1/sweeps/cbw4uf3y' target=\"_blank\">https://wandb.ai/siddharth-s/FODL_Assignment_1/sweeps/cbw4uf3y</a>"
            ],
            "text/plain": [
              "<IPython.core.display.HTML object>"
            ]
          },
          "metadata": {},
          "output_type": "display_data"
        },
        {
          "data": {
            "text/html": [
              " View run at <a href='https://wandb.ai/siddharth-s/FODL_Assignment_1/runs/2dwzt8i0' target=\"_blank\">https://wandb.ai/siddharth-s/FODL_Assignment_1/runs/2dwzt8i0</a>"
            ],
            "text/plain": [
              "<IPython.core.display.HTML object>"
            ]
          },
          "metadata": {},
          "output_type": "display_data"
        },
        {
          "name": "stderr",
          "output_type": "stream",
          "text": [
            "100%|██████████| 5/5 [03:45<00:00, 45.11s/it]"
          ]
        },
        {
          "name": "stdout",
          "output_type": "stream",
          "text": [
            "Training Accuracy: 70.16296296296296\n",
            "Validation Accuracy: 70.45\n"
          ]
        },
        {
          "name": "stderr",
          "output_type": "stream",
          "text": [
            "\n"
          ]
        },
        {
          "data": {
            "text/html": [
              "Waiting for W&B process to finish... <strong style=\"color:green\">(success).</strong>"
            ],
            "text/plain": [
              "<IPython.core.display.HTML object>"
            ]
          },
          "metadata": {},
          "output_type": "display_data"
        },
        {
          "data": {
            "application/vnd.jupyter.widget-view+json": {
              "model_id": "6e6a70738586471ab6e69d0f5d0b1630",
              "version_major": 2,
              "version_minor": 0
            },
            "text/plain": [
              "VBox(children=(Label(value='0.001 MB of 0.001 MB uploaded (0.000 MB deduped)\\r'), FloatProgress(value=1.0, max…"
            ]
          },
          "metadata": {},
          "output_type": "display_data"
        },
        {
          "data": {
            "text/html": [
              "<style>\n",
              "    table.wandb td:nth-child(1) { padding: 0 10px; text-align: left ; width: auto;} td:nth-child(2) {text-align: left ; width: 100%}\n",
              "    .wandb-row { display: flex; flex-direction: row; flex-wrap: wrap; justify-content: flex-start; width: 100% }\n",
              "    .wandb-col { display: flex; flex-direction: column; flex-basis: 100%; flex: 1; padding: 10px; }\n",
              "    </style>\n",
              "<div class=\"wandb-row\"><div class=\"wandb-col\"><h3>Run history:</h3><br/><table class=\"wandb\"><tr><td>Train_Accuracy</td><td>▁▄▆██</td></tr><tr><td>Train_Loss</td><td>▁▂▄▆█</td></tr><tr><td>Validation_Accuracy</td><td>▁▄▆██</td></tr><tr><td>Validation_loss</td><td>▁▂▄▇█</td></tr><tr><td>epoch</td><td>▁▃▅▆█</td></tr></table><br/></div><div class=\"wandb-col\"><h3>Run summary:</h3><br/><table class=\"wandb\"><tr><td>Train_Accuracy</td><td>70.16296</td></tr><tr><td>Train_Loss</td><td>11.59591</td></tr><tr><td>Validation_Accuracy</td><td>70.45</td></tr><tr><td>Validation_loss</td><td>97.206</td></tr><tr><td>epoch</td><td>4</td></tr></table><br/></div></div>"
            ],
            "text/plain": [
              "<IPython.core.display.HTML object>"
            ]
          },
          "metadata": {},
          "output_type": "display_data"
        },
        {
          "data": {
            "text/html": [
              " View run <strong style=\"color:#cdcd00\">confused-sweep-6</strong> at: <a href='https://wandb.ai/siddharth-s/FODL_Assignment_1/runs/2dwzt8i0' target=\"_blank\">https://wandb.ai/siddharth-s/FODL_Assignment_1/runs/2dwzt8i0</a><br/>Synced 5 W&B file(s), 0 media file(s), 0 artifact file(s) and 0 other file(s)"
            ],
            "text/plain": [
              "<IPython.core.display.HTML object>"
            ]
          },
          "metadata": {},
          "output_type": "display_data"
        },
        {
          "data": {
            "text/html": [
              "Find logs at: <code>./wandb/run-20230316_220028-2dwzt8i0/logs</code>"
            ],
            "text/plain": [
              "<IPython.core.display.HTML object>"
            ]
          },
          "metadata": {},
          "output_type": "display_data"
        },
        {
          "name": "stderr",
          "output_type": "stream",
          "text": [
            "\u001b[34m\u001b[1mwandb\u001b[0m: Agent Starting Run: n82fkpjf with config:\n",
            "\u001b[34m\u001b[1mwandb\u001b[0m: \tactivation_function: relu\n",
            "\u001b[34m\u001b[1mwandb\u001b[0m: \tinitialization_type: xavier\n",
            "\u001b[34m\u001b[1mwandb\u001b[0m: \tlambd: 0.5\n",
            "\u001b[34m\u001b[1mwandb\u001b[0m: \tlearning_rate: 0.0001\n",
            "\u001b[34m\u001b[1mwandb\u001b[0m: \tmax_epochs: 20\n",
            "\u001b[34m\u001b[1mwandb\u001b[0m: \tmini_batch_size: 16\n",
            "\u001b[34m\u001b[1mwandb\u001b[0m: \tnumber_hidden_layers: 4\n",
            "\u001b[34m\u001b[1mwandb\u001b[0m: \tnumber_neurons: 64\n",
            "\u001b[34m\u001b[1mwandb\u001b[0m: \toptimization_function: momentum_gd\n"
          ]
        },
        {
          "data": {
            "text/html": [
              "Tracking run with wandb version 0.14.0"
            ],
            "text/plain": [
              "<IPython.core.display.HTML object>"
            ]
          },
          "metadata": {},
          "output_type": "display_data"
        },
        {
          "data": {
            "text/html": [
              "Run data is saved locally in <code>/content/wandb/run-20230316_220434-n82fkpjf</code>"
            ],
            "text/plain": [
              "<IPython.core.display.HTML object>"
            ]
          },
          "metadata": {},
          "output_type": "display_data"
        },
        {
          "data": {
            "text/html": [
              "Syncing run <strong><a href='https://wandb.ai/siddharth-s/FODL_Assignment_1/runs/n82fkpjf' target=\"_blank\">sunny-sweep-7</a></strong> to <a href='https://wandb.ai/siddharth-s/FODL_Assignment_1' target=\"_blank\">Weights & Biases</a> (<a href='https://wandb.me/run' target=\"_blank\">docs</a>)<br/>Sweep page: <a href='https://wandb.ai/siddharth-s/FODL_Assignment_1/sweeps/cbw4uf3y' target=\"_blank\">https://wandb.ai/siddharth-s/FODL_Assignment_1/sweeps/cbw4uf3y</a>"
            ],
            "text/plain": [
              "<IPython.core.display.HTML object>"
            ]
          },
          "metadata": {},
          "output_type": "display_data"
        },
        {
          "data": {
            "text/html": [
              " View project at <a href='https://wandb.ai/siddharth-s/FODL_Assignment_1' target=\"_blank\">https://wandb.ai/siddharth-s/FODL_Assignment_1</a>"
            ],
            "text/plain": [
              "<IPython.core.display.HTML object>"
            ]
          },
          "metadata": {},
          "output_type": "display_data"
        },
        {
          "data": {
            "text/html": [
              " View sweep at <a href='https://wandb.ai/siddharth-s/FODL_Assignment_1/sweeps/cbw4uf3y' target=\"_blank\">https://wandb.ai/siddharth-s/FODL_Assignment_1/sweeps/cbw4uf3y</a>"
            ],
            "text/plain": [
              "<IPython.core.display.HTML object>"
            ]
          },
          "metadata": {},
          "output_type": "display_data"
        },
        {
          "data": {
            "text/html": [
              " View run at <a href='https://wandb.ai/siddharth-s/FODL_Assignment_1/runs/n82fkpjf' target=\"_blank\">https://wandb.ai/siddharth-s/FODL_Assignment_1/runs/n82fkpjf</a>"
            ],
            "text/plain": [
              "<IPython.core.display.HTML object>"
            ]
          },
          "metadata": {},
          "output_type": "display_data"
        },
        {
          "name": "stderr",
          "output_type": "stream",
          "text": [
            "  0%|          | 0/20 [00:00<?, ?it/s]\n"
          ]
        },
        {
          "data": {
            "text/html": [
              "Waiting for W&B process to finish... <strong style=\"color:red\">(failed 1).</strong> Press Control-C to abort syncing."
            ],
            "text/plain": [
              "<IPython.core.display.HTML object>"
            ]
          },
          "metadata": {},
          "output_type": "display_data"
        },
        {
          "data": {
            "text/html": [
              " View run <strong style=\"color:#cdcd00\">sunny-sweep-7</strong> at: <a href='https://wandb.ai/siddharth-s/FODL_Assignment_1/runs/n82fkpjf' target=\"_blank\">https://wandb.ai/siddharth-s/FODL_Assignment_1/runs/n82fkpjf</a><br/>Synced 5 W&B file(s), 0 media file(s), 0 artifact file(s) and 0 other file(s)"
            ],
            "text/plain": [
              "<IPython.core.display.HTML object>"
            ]
          },
          "metadata": {},
          "output_type": "display_data"
        },
        {
          "data": {
            "text/html": [
              "Find logs at: <code>./wandb/run-20230316_220434-n82fkpjf/logs</code>"
            ],
            "text/plain": [
              "<IPython.core.display.HTML object>"
            ]
          },
          "metadata": {},
          "output_type": "display_data"
        },
        {
          "name": "stderr",
          "output_type": "stream",
          "text": [
            "Run n82fkpjf errored: AttributeError(\"'momentum_gd' object has no attribute 'gamma'\")\n",
            "\u001b[34m\u001b[1mwandb\u001b[0m: \u001b[32m\u001b[41mERROR\u001b[0m Run n82fkpjf errored: AttributeError(\"'momentum_gd' object has no attribute 'gamma'\")\n",
            "\u001b[34m\u001b[1mwandb\u001b[0m: Agent Starting Run: 9pjdqk8g with config:\n",
            "\u001b[34m\u001b[1mwandb\u001b[0m: \tactivation_function: relu\n",
            "\u001b[34m\u001b[1mwandb\u001b[0m: \tinitialization_type: random\n",
            "\u001b[34m\u001b[1mwandb\u001b[0m: \tlambd: 0.0005\n",
            "\u001b[34m\u001b[1mwandb\u001b[0m: \tlearning_rate: 0.0001\n",
            "\u001b[34m\u001b[1mwandb\u001b[0m: \tmax_epochs: 10\n",
            "\u001b[34m\u001b[1mwandb\u001b[0m: \tmini_batch_size: 32\n",
            "\u001b[34m\u001b[1mwandb\u001b[0m: \tnumber_hidden_layers: 5\n",
            "\u001b[34m\u001b[1mwandb\u001b[0m: \tnumber_neurons: 32\n",
            "\u001b[34m\u001b[1mwandb\u001b[0m: \toptimization_function: adam\n"
          ]
        },
        {
          "data": {
            "text/html": [
              "Tracking run with wandb version 0.14.0"
            ],
            "text/plain": [
              "<IPython.core.display.HTML object>"
            ]
          },
          "metadata": {},
          "output_type": "display_data"
        },
        {
          "data": {
            "text/html": [
              "Run data is saved locally in <code>/content/wandb/run-20230316_220454-9pjdqk8g</code>"
            ],
            "text/plain": [
              "<IPython.core.display.HTML object>"
            ]
          },
          "metadata": {},
          "output_type": "display_data"
        },
        {
          "data": {
            "text/html": [
              "Syncing run <strong><a href='https://wandb.ai/siddharth-s/FODL_Assignment_1/runs/9pjdqk8g' target=\"_blank\">wise-sweep-8</a></strong> to <a href='https://wandb.ai/siddharth-s/FODL_Assignment_1' target=\"_blank\">Weights & Biases</a> (<a href='https://wandb.me/run' target=\"_blank\">docs</a>)<br/>Sweep page: <a href='https://wandb.ai/siddharth-s/FODL_Assignment_1/sweeps/cbw4uf3y' target=\"_blank\">https://wandb.ai/siddharth-s/FODL_Assignment_1/sweeps/cbw4uf3y</a>"
            ],
            "text/plain": [
              "<IPython.core.display.HTML object>"
            ]
          },
          "metadata": {},
          "output_type": "display_data"
        },
        {
          "data": {
            "text/html": [
              " View project at <a href='https://wandb.ai/siddharth-s/FODL_Assignment_1' target=\"_blank\">https://wandb.ai/siddharth-s/FODL_Assignment_1</a>"
            ],
            "text/plain": [
              "<IPython.core.display.HTML object>"
            ]
          },
          "metadata": {},
          "output_type": "display_data"
        },
        {
          "data": {
            "text/html": [
              " View sweep at <a href='https://wandb.ai/siddharth-s/FODL_Assignment_1/sweeps/cbw4uf3y' target=\"_blank\">https://wandb.ai/siddharth-s/FODL_Assignment_1/sweeps/cbw4uf3y</a>"
            ],
            "text/plain": [
              "<IPython.core.display.HTML object>"
            ]
          },
          "metadata": {},
          "output_type": "display_data"
        },
        {
          "data": {
            "text/html": [
              " View run at <a href='https://wandb.ai/siddharth-s/FODL_Assignment_1/runs/9pjdqk8g' target=\"_blank\">https://wandb.ai/siddharth-s/FODL_Assignment_1/runs/9pjdqk8g</a>"
            ],
            "text/plain": [
              "<IPython.core.display.HTML object>"
            ]
          },
          "metadata": {},
          "output_type": "display_data"
        },
        {
          "name": "stderr",
          "output_type": "stream",
          "text": [
            "100%|██████████| 10/10 [05:42<00:00, 34.24s/it]"
          ]
        },
        {
          "name": "stdout",
          "output_type": "stream",
          "text": [
            "Training Accuracy: 41.93518518518518\n",
            "Validation Accuracy: 43.6\n"
          ]
        },
        {
          "name": "stderr",
          "output_type": "stream",
          "text": [
            "\n"
          ]
        },
        {
          "data": {
            "text/html": [
              "Waiting for W&B process to finish... <strong style=\"color:green\">(success).</strong>"
            ],
            "text/plain": [
              "<IPython.core.display.HTML object>"
            ]
          },
          "metadata": {},
          "output_type": "display_data"
        },
        {
          "data": {
            "text/html": [
              "<style>\n",
              "    table.wandb td:nth-child(1) { padding: 0 10px; text-align: left ; width: auto;} td:nth-child(2) {text-align: left ; width: 100%}\n",
              "    .wandb-row { display: flex; flex-direction: row; flex-wrap: wrap; justify-content: flex-start; width: 100% }\n",
              "    .wandb-col { display: flex; flex-direction: column; flex-basis: 100%; flex: 1; padding: 10px; }\n",
              "    </style>\n",
              "<div class=\"wandb-row\"><div class=\"wandb-col\"><h3>Run history:</h3><br/><table class=\"wandb\"><tr><td>Train_Accuracy</td><td>▁▁▁▁▁▁▁▁▅█</td></tr><tr><td>Train_Loss</td><td>████████▃▁</td></tr><tr><td>Validation_Accuracy</td><td>▁▁▁▁▁▁▁▁▅█</td></tr><tr><td>Validation_loss</td><td>████████▃▁</td></tr><tr><td>epoch</td><td>▁▂▃▃▄▅▆▆▇█</td></tr></table><br/></div><div class=\"wandb-col\"><h3>Run summary:</h3><br/><table class=\"wandb\"><tr><td>Train_Accuracy</td><td>41.93519</td></tr><tr><td>Train_Loss</td><td>1.37798</td></tr><tr><td>Validation_Accuracy</td><td>43.6</td></tr><tr><td>Validation_loss</td><td>1.37779</td></tr><tr><td>epoch</td><td>9</td></tr></table><br/></div></div>"
            ],
            "text/plain": [
              "<IPython.core.display.HTML object>"
            ]
          },
          "metadata": {},
          "output_type": "display_data"
        },
        {
          "data": {
            "text/html": [
              " View run <strong style=\"color:#cdcd00\">wise-sweep-8</strong> at: <a href='https://wandb.ai/siddharth-s/FODL_Assignment_1/runs/9pjdqk8g' target=\"_blank\">https://wandb.ai/siddharth-s/FODL_Assignment_1/runs/9pjdqk8g</a><br/>Synced 5 W&B file(s), 0 media file(s), 0 artifact file(s) and 0 other file(s)"
            ],
            "text/plain": [
              "<IPython.core.display.HTML object>"
            ]
          },
          "metadata": {},
          "output_type": "display_data"
        },
        {
          "data": {
            "text/html": [
              "Find logs at: <code>./wandb/run-20230316_220454-9pjdqk8g/logs</code>"
            ],
            "text/plain": [
              "<IPython.core.display.HTML object>"
            ]
          },
          "metadata": {},
          "output_type": "display_data"
        },
        {
          "name": "stderr",
          "output_type": "stream",
          "text": [
            "\u001b[34m\u001b[1mwandb\u001b[0m: Sweep Agent: Waiting for job.\n",
            "\u001b[34m\u001b[1mwandb\u001b[0m: Job received.\n",
            "\u001b[34m\u001b[1mwandb\u001b[0m: Agent Starting Run: vf71zeq8 with config:\n",
            "\u001b[34m\u001b[1mwandb\u001b[0m: \tactivation_function: tanh\n",
            "\u001b[34m\u001b[1mwandb\u001b[0m: \tinitialization_type: xavier\n",
            "\u001b[34m\u001b[1mwandb\u001b[0m: \tlambd: 0\n",
            "\u001b[34m\u001b[1mwandb\u001b[0m: \tlearning_rate: 0.001\n",
            "\u001b[34m\u001b[1mwandb\u001b[0m: \tmax_epochs: 20\n",
            "\u001b[34m\u001b[1mwandb\u001b[0m: \tmini_batch_size: 32\n",
            "\u001b[34m\u001b[1mwandb\u001b[0m: \tnumber_hidden_layers: 3\n",
            "\u001b[34m\u001b[1mwandb\u001b[0m: \tnumber_neurons: 128\n",
            "\u001b[34m\u001b[1mwandb\u001b[0m: \toptimization_function: stochastic_gd\n"
          ]
        },
        {
          "data": {
            "text/html": [
              "Tracking run with wandb version 0.14.0"
            ],
            "text/plain": [
              "<IPython.core.display.HTML object>"
            ]
          },
          "metadata": {},
          "output_type": "display_data"
        },
        {
          "data": {
            "text/html": [
              "Run data is saved locally in <code>/content/wandb/run-20230316_221107-vf71zeq8</code>"
            ],
            "text/plain": [
              "<IPython.core.display.HTML object>"
            ]
          },
          "metadata": {},
          "output_type": "display_data"
        },
        {
          "data": {
            "text/html": [
              "Syncing run <strong><a href='https://wandb.ai/siddharth-s/FODL_Assignment_1/runs/vf71zeq8' target=\"_blank\">comic-sweep-9</a></strong> to <a href='https://wandb.ai/siddharth-s/FODL_Assignment_1' target=\"_blank\">Weights & Biases</a> (<a href='https://wandb.me/run' target=\"_blank\">docs</a>)<br/>Sweep page: <a href='https://wandb.ai/siddharth-s/FODL_Assignment_1/sweeps/cbw4uf3y' target=\"_blank\">https://wandb.ai/siddharth-s/FODL_Assignment_1/sweeps/cbw4uf3y</a>"
            ],
            "text/plain": [
              "<IPython.core.display.HTML object>"
            ]
          },
          "metadata": {},
          "output_type": "display_data"
        },
        {
          "data": {
            "text/html": [
              " View project at <a href='https://wandb.ai/siddharth-s/FODL_Assignment_1' target=\"_blank\">https://wandb.ai/siddharth-s/FODL_Assignment_1</a>"
            ],
            "text/plain": [
              "<IPython.core.display.HTML object>"
            ]
          },
          "metadata": {},
          "output_type": "display_data"
        },
        {
          "data": {
            "text/html": [
              " View sweep at <a href='https://wandb.ai/siddharth-s/FODL_Assignment_1/sweeps/cbw4uf3y' target=\"_blank\">https://wandb.ai/siddharth-s/FODL_Assignment_1/sweeps/cbw4uf3y</a>"
            ],
            "text/plain": [
              "<IPython.core.display.HTML object>"
            ]
          },
          "metadata": {},
          "output_type": "display_data"
        },
        {
          "data": {
            "text/html": [
              " View run at <a href='https://wandb.ai/siddharth-s/FODL_Assignment_1/runs/vf71zeq8' target=\"_blank\">https://wandb.ai/siddharth-s/FODL_Assignment_1/runs/vf71zeq8</a>"
            ],
            "text/plain": [
              "<IPython.core.display.HTML object>"
            ]
          },
          "metadata": {},
          "output_type": "display_data"
        },
        {
          "name": "stderr",
          "output_type": "stream",
          "text": [
            "100%|██████████| 20/20 [17:59<00:00, 53.99s/it]"
          ]
        },
        {
          "name": "stdout",
          "output_type": "stream",
          "text": [
            "Training Accuracy: 92.72037037037038\n",
            "Validation Accuracy: 88.26666666666667\n"
          ]
        },
        {
          "name": "stderr",
          "output_type": "stream",
          "text": [
            "\n"
          ]
        },
        {
          "data": {
            "text/html": [
              "Waiting for W&B process to finish... <strong style=\"color:green\">(success).</strong>"
            ],
            "text/plain": [
              "<IPython.core.display.HTML object>"
            ]
          },
          "metadata": {},
          "output_type": "display_data"
        },
        {
          "data": {
            "text/html": [
              "<style>\n",
              "    table.wandb td:nth-child(1) { padding: 0 10px; text-align: left ; width: auto;} td:nth-child(2) {text-align: left ; width: 100%}\n",
              "    .wandb-row { display: flex; flex-direction: row; flex-wrap: wrap; justify-content: flex-start; width: 100% }\n",
              "    .wandb-col { display: flex; flex-direction: column; flex-basis: 100%; flex: 1; padding: 10px; }\n",
              "    </style>\n",
              "<div class=\"wandb-row\"><div class=\"wandb-col\"><h3>Run history:</h3><br/><table class=\"wandb\"><tr><td>Train_Accuracy</td><td>▁▃▄▄▅▅▆▆▆▇▇▇▇▇▇█████</td></tr><tr><td>Train_Loss</td><td>█▆▅▅▄▄▃▃▃▂▂▂▂▂▂▁▁▁▁▁</td></tr><tr><td>Validation_Accuracy</td><td>▁▄▅▆▆▆▇▇▇▇▇▇▇▇▇▇████</td></tr><tr><td>Validation_loss</td><td>█▅▄▃▂▂▂▁▁▁▁▁▁▁▁▁▁▁▂▂</td></tr><tr><td>epoch</td><td>▁▁▂▂▂▃▃▄▄▄▅▅▅▆▆▇▇▇██</td></tr></table><br/></div><div class=\"wandb-col\"><h3>Run summary:</h3><br/><table class=\"wandb\"><tr><td>Train_Accuracy</td><td>92.72037</td></tr><tr><td>Train_Loss</td><td>0.1964</td></tr><tr><td>Validation_Accuracy</td><td>88.26667</td></tr><tr><td>Validation_loss</td><td>0.34464</td></tr><tr><td>epoch</td><td>19</td></tr></table><br/></div></div>"
            ],
            "text/plain": [
              "<IPython.core.display.HTML object>"
            ]
          },
          "metadata": {},
          "output_type": "display_data"
        },
        {
          "data": {
            "text/html": [
              " View run <strong style=\"color:#cdcd00\">comic-sweep-9</strong> at: <a href='https://wandb.ai/siddharth-s/FODL_Assignment_1/runs/vf71zeq8' target=\"_blank\">https://wandb.ai/siddharth-s/FODL_Assignment_1/runs/vf71zeq8</a><br/>Synced 5 W&B file(s), 0 media file(s), 0 artifact file(s) and 0 other file(s)"
            ],
            "text/plain": [
              "<IPython.core.display.HTML object>"
            ]
          },
          "metadata": {},
          "output_type": "display_data"
        },
        {
          "data": {
            "text/html": [
              "Find logs at: <code>./wandb/run-20230316_221107-vf71zeq8/logs</code>"
            ],
            "text/plain": [
              "<IPython.core.display.HTML object>"
            ]
          },
          "metadata": {},
          "output_type": "display_data"
        },
        {
          "name": "stderr",
          "output_type": "stream",
          "text": [
            "\u001b[34m\u001b[1mwandb\u001b[0m: Agent Starting Run: j34meq4r with config:\n",
            "\u001b[34m\u001b[1mwandb\u001b[0m: \tactivation_function: sigmoid\n",
            "\u001b[34m\u001b[1mwandb\u001b[0m: \tinitialization_type: xavier\n",
            "\u001b[34m\u001b[1mwandb\u001b[0m: \tlambd: 0\n",
            "\u001b[34m\u001b[1mwandb\u001b[0m: \tlearning_rate: 0.001\n",
            "\u001b[34m\u001b[1mwandb\u001b[0m: \tmax_epochs: 10\n",
            "\u001b[34m\u001b[1mwandb\u001b[0m: \tmini_batch_size: 16\n",
            "\u001b[34m\u001b[1mwandb\u001b[0m: \tnumber_hidden_layers: 3\n",
            "\u001b[34m\u001b[1mwandb\u001b[0m: \tnumber_neurons: 64\n",
            "\u001b[34m\u001b[1mwandb\u001b[0m: \toptimization_function: stochastic_gd\n"
          ]
        },
        {
          "data": {
            "text/html": [
              "Tracking run with wandb version 0.14.0"
            ],
            "text/plain": [
              "<IPython.core.display.HTML object>"
            ]
          },
          "metadata": {},
          "output_type": "display_data"
        },
        {
          "data": {
            "text/html": [
              "Run data is saved locally in <code>/content/wandb/run-20230316_222929-j34meq4r</code>"
            ],
            "text/plain": [
              "<IPython.core.display.HTML object>"
            ]
          },
          "metadata": {},
          "output_type": "display_data"
        },
        {
          "data": {
            "text/html": [
              "Syncing run <strong><a href='https://wandb.ai/siddharth-s/FODL_Assignment_1/runs/j34meq4r' target=\"_blank\">absurd-sweep-10</a></strong> to <a href='https://wandb.ai/siddharth-s/FODL_Assignment_1' target=\"_blank\">Weights & Biases</a> (<a href='https://wandb.me/run' target=\"_blank\">docs</a>)<br/>Sweep page: <a href='https://wandb.ai/siddharth-s/FODL_Assignment_1/sweeps/cbw4uf3y' target=\"_blank\">https://wandb.ai/siddharth-s/FODL_Assignment_1/sweeps/cbw4uf3y</a>"
            ],
            "text/plain": [
              "<IPython.core.display.HTML object>"
            ]
          },
          "metadata": {},
          "output_type": "display_data"
        },
        {
          "data": {
            "text/html": [
              " View project at <a href='https://wandb.ai/siddharth-s/FODL_Assignment_1' target=\"_blank\">https://wandb.ai/siddharth-s/FODL_Assignment_1</a>"
            ],
            "text/plain": [
              "<IPython.core.display.HTML object>"
            ]
          },
          "metadata": {},
          "output_type": "display_data"
        },
        {
          "data": {
            "text/html": [
              " View sweep at <a href='https://wandb.ai/siddharth-s/FODL_Assignment_1/sweeps/cbw4uf3y' target=\"_blank\">https://wandb.ai/siddharth-s/FODL_Assignment_1/sweeps/cbw4uf3y</a>"
            ],
            "text/plain": [
              "<IPython.core.display.HTML object>"
            ]
          },
          "metadata": {},
          "output_type": "display_data"
        },
        {
          "data": {
            "text/html": [
              " View run at <a href='https://wandb.ai/siddharth-s/FODL_Assignment_1/runs/j34meq4r' target=\"_blank\">https://wandb.ai/siddharth-s/FODL_Assignment_1/runs/j34meq4r</a>"
            ],
            "text/plain": [
              "<IPython.core.display.HTML object>"
            ]
          },
          "metadata": {},
          "output_type": "display_data"
        },
        {
          "name": "stderr",
          "output_type": "stream",
          "text": [
            "100%|██████████| 10/10 [06:05<00:00, 36.56s/it]"
          ]
        },
        {
          "name": "stdout",
          "output_type": "stream",
          "text": [
            "Training Accuracy: 85.36851851851853\n",
            "Validation Accuracy: 84.46666666666667\n"
          ]
        },
        {
          "name": "stderr",
          "output_type": "stream",
          "text": [
            "\n"
          ]
        },
        {
          "data": {
            "text/html": [
              "Waiting for W&B process to finish... <strong style=\"color:green\">(success).</strong>"
            ],
            "text/plain": [
              "<IPython.core.display.HTML object>"
            ]
          },
          "metadata": {},
          "output_type": "display_data"
        },
        {
          "data": {
            "application/vnd.jupyter.widget-view+json": {
              "model_id": "7edeeb4e82384909b6deaa2a3102c3a0",
              "version_major": 2,
              "version_minor": 0
            },
            "text/plain": [
              "VBox(children=(Label(value='0.001 MB of 0.001 MB uploaded (0.000 MB deduped)\\r'), FloatProgress(value=1.0, max…"
            ]
          },
          "metadata": {},
          "output_type": "display_data"
        },
        {
          "data": {
            "text/html": [
              "<style>\n",
              "    table.wandb td:nth-child(1) { padding: 0 10px; text-align: left ; width: auto;} td:nth-child(2) {text-align: left ; width: 100%}\n",
              "    .wandb-row { display: flex; flex-direction: row; flex-wrap: wrap; justify-content: flex-start; width: 100% }\n",
              "    .wandb-col { display: flex; flex-direction: column; flex-basis: 100%; flex: 1; padding: 10px; }\n",
              "    </style>\n",
              "<div class=\"wandb-row\"><div class=\"wandb-col\"><h3>Run history:</h3><br/><table class=\"wandb\"><tr><td>Train_Accuracy</td><td>▁▄▅▆▇▇▇███</td></tr><tr><td>Train_Loss</td><td>█▄▃▂▂▂▁▁▁▁</td></tr><tr><td>Validation_Accuracy</td><td>▁▄▅▆▇▇▇███</td></tr><tr><td>Validation_loss</td><td>█▄▃▂▂▂▁▁▁▁</td></tr><tr><td>epoch</td><td>▁▂▃▃▄▅▆▆▇█</td></tr></table><br/></div><div class=\"wandb-col\"><h3>Run summary:</h3><br/><table class=\"wandb\"><tr><td>Train_Accuracy</td><td>85.36852</td></tr><tr><td>Train_Loss</td><td>0.41007</td></tr><tr><td>Validation_Accuracy</td><td>84.46667</td></tr><tr><td>Validation_loss</td><td>0.4289</td></tr><tr><td>epoch</td><td>9</td></tr></table><br/></div></div>"
            ],
            "text/plain": [
              "<IPython.core.display.HTML object>"
            ]
          },
          "metadata": {},
          "output_type": "display_data"
        },
        {
          "data": {
            "text/html": [
              " View run <strong style=\"color:#cdcd00\">absurd-sweep-10</strong> at: <a href='https://wandb.ai/siddharth-s/FODL_Assignment_1/runs/j34meq4r' target=\"_blank\">https://wandb.ai/siddharth-s/FODL_Assignment_1/runs/j34meq4r</a><br/>Synced 5 W&B file(s), 0 media file(s), 0 artifact file(s) and 0 other file(s)"
            ],
            "text/plain": [
              "<IPython.core.display.HTML object>"
            ]
          },
          "metadata": {},
          "output_type": "display_data"
        },
        {
          "data": {
            "text/html": [
              "Find logs at: <code>./wandb/run-20230316_222929-j34meq4r/logs</code>"
            ],
            "text/plain": [
              "<IPython.core.display.HTML object>"
            ]
          },
          "metadata": {},
          "output_type": "display_data"
        },
        {
          "name": "stderr",
          "output_type": "stream",
          "text": [
            "\u001b[34m\u001b[1mwandb\u001b[0m: Agent Starting Run: 0pzo2wpe with config:\n",
            "\u001b[34m\u001b[1mwandb\u001b[0m: \tactivation_function: sigmoid\n",
            "\u001b[34m\u001b[1mwandb\u001b[0m: \tinitialization_type: random\n",
            "\u001b[34m\u001b[1mwandb\u001b[0m: \tlambd: 0\n",
            "\u001b[34m\u001b[1mwandb\u001b[0m: \tlearning_rate: 0.0001\n",
            "\u001b[34m\u001b[1mwandb\u001b[0m: \tmax_epochs: 20\n",
            "\u001b[34m\u001b[1mwandb\u001b[0m: \tmini_batch_size: 32\n",
            "\u001b[34m\u001b[1mwandb\u001b[0m: \tnumber_hidden_layers: 3\n",
            "\u001b[34m\u001b[1mwandb\u001b[0m: \tnumber_neurons: 64\n",
            "\u001b[34m\u001b[1mwandb\u001b[0m: \toptimization_function: stochastic_gd\n"
          ]
        },
        {
          "data": {
            "text/html": [
              "Tracking run with wandb version 0.14.0"
            ],
            "text/plain": [
              "<IPython.core.display.HTML object>"
            ]
          },
          "metadata": {},
          "output_type": "display_data"
        },
        {
          "data": {
            "text/html": [
              "Run data is saved locally in <code>/content/wandb/run-20230316_223557-0pzo2wpe</code>"
            ],
            "text/plain": [
              "<IPython.core.display.HTML object>"
            ]
          },
          "metadata": {},
          "output_type": "display_data"
        },
        {
          "data": {
            "text/html": [
              "Syncing run <strong><a href='https://wandb.ai/siddharth-s/FODL_Assignment_1/runs/0pzo2wpe' target=\"_blank\">stellar-sweep-11</a></strong> to <a href='https://wandb.ai/siddharth-s/FODL_Assignment_1' target=\"_blank\">Weights & Biases</a> (<a href='https://wandb.me/run' target=\"_blank\">docs</a>)<br/>Sweep page: <a href='https://wandb.ai/siddharth-s/FODL_Assignment_1/sweeps/cbw4uf3y' target=\"_blank\">https://wandb.ai/siddharth-s/FODL_Assignment_1/sweeps/cbw4uf3y</a>"
            ],
            "text/plain": [
              "<IPython.core.display.HTML object>"
            ]
          },
          "metadata": {},
          "output_type": "display_data"
        },
        {
          "data": {
            "text/html": [
              " View project at <a href='https://wandb.ai/siddharth-s/FODL_Assignment_1' target=\"_blank\">https://wandb.ai/siddharth-s/FODL_Assignment_1</a>"
            ],
            "text/plain": [
              "<IPython.core.display.HTML object>"
            ]
          },
          "metadata": {},
          "output_type": "display_data"
        },
        {
          "data": {
            "text/html": [
              " View sweep at <a href='https://wandb.ai/siddharth-s/FODL_Assignment_1/sweeps/cbw4uf3y' target=\"_blank\">https://wandb.ai/siddharth-s/FODL_Assignment_1/sweeps/cbw4uf3y</a>"
            ],
            "text/plain": [
              "<IPython.core.display.HTML object>"
            ]
          },
          "metadata": {},
          "output_type": "display_data"
        },
        {
          "data": {
            "text/html": [
              " View run at <a href='https://wandb.ai/siddharth-s/FODL_Assignment_1/runs/0pzo2wpe' target=\"_blank\">https://wandb.ai/siddharth-s/FODL_Assignment_1/runs/0pzo2wpe</a>"
            ],
            "text/plain": [
              "<IPython.core.display.HTML object>"
            ]
          },
          "metadata": {},
          "output_type": "display_data"
        },
        {
          "name": "stderr",
          "output_type": "stream",
          "text": [
            " 80%|████████  | 16/20 [09:40<02:24, 36.22s/it]"
          ]
        }
      ],
      "source": [
        "do_sweep(entity_name,project_name)"
      ]
    }
  ],
  "metadata": {
    "colab": {
      "provenance": [],
      "include_colab_link": true
    },
    "kernelspec": {
      "display_name": "Python 3",
      "name": "python3"
    },
    "language_info": {
      "name": "python"
    },
    "widgets": {
      "application/vnd.jupyter.widget-state+json": {
        "0a5ba7821fce4e339fad69a204573edd": {
          "model_module": "@jupyter-widgets/base",
          "model_module_version": "1.2.0",
          "model_name": "LayoutModel",
          "state": {
            "_model_module": "@jupyter-widgets/base",
            "_model_module_version": "1.2.0",
            "_model_name": "LayoutModel",
            "_view_count": null,
            "_view_module": "@jupyter-widgets/base",
            "_view_module_version": "1.2.0",
            "_view_name": "LayoutView",
            "align_content": null,
            "align_items": null,
            "align_self": null,
            "border": null,
            "bottom": null,
            "display": null,
            "flex": null,
            "flex_flow": null,
            "grid_area": null,
            "grid_auto_columns": null,
            "grid_auto_flow": null,
            "grid_auto_rows": null,
            "grid_column": null,
            "grid_gap": null,
            "grid_row": null,
            "grid_template_areas": null,
            "grid_template_columns": null,
            "grid_template_rows": null,
            "height": null,
            "justify_content": null,
            "justify_items": null,
            "left": null,
            "margin": null,
            "max_height": null,
            "max_width": null,
            "min_height": null,
            "min_width": null,
            "object_fit": null,
            "object_position": null,
            "order": null,
            "overflow": null,
            "overflow_x": null,
            "overflow_y": null,
            "padding": null,
            "right": null,
            "top": null,
            "visibility": null,
            "width": null
          }
        },
        "0c7f28f0a3d7404696088852909b98d0": {
          "model_module": "@jupyter-widgets/controls",
          "model_module_version": "1.5.0",
          "model_name": "ProgressStyleModel",
          "state": {
            "_model_module": "@jupyter-widgets/controls",
            "_model_module_version": "1.5.0",
            "_model_name": "ProgressStyleModel",
            "_view_count": null,
            "_view_module": "@jupyter-widgets/base",
            "_view_module_version": "1.2.0",
            "_view_name": "StyleView",
            "bar_color": null,
            "description_width": ""
          }
        },
        "0cb90217e1e54d9182951ac9882a8981": {
          "model_module": "@jupyter-widgets/controls",
          "model_module_version": "1.5.0",
          "model_name": "FloatProgressModel",
          "state": {
            "_dom_classes": [],
            "_model_module": "@jupyter-widgets/controls",
            "_model_module_version": "1.5.0",
            "_model_name": "FloatProgressModel",
            "_view_count": null,
            "_view_module": "@jupyter-widgets/controls",
            "_view_module_version": "1.5.0",
            "_view_name": "ProgressView",
            "bar_style": "",
            "description": "",
            "description_tooltip": null,
            "layout": "IPY_MODEL_1a371c44c40040bfb5b4877fdc4727d8",
            "max": 1,
            "min": 0,
            "orientation": "horizontal",
            "style": "IPY_MODEL_0c7f28f0a3d7404696088852909b98d0",
            "value": 1
          }
        },
        "1a371c44c40040bfb5b4877fdc4727d8": {
          "model_module": "@jupyter-widgets/base",
          "model_module_version": "1.2.0",
          "model_name": "LayoutModel",
          "state": {
            "_model_module": "@jupyter-widgets/base",
            "_model_module_version": "1.2.0",
            "_model_name": "LayoutModel",
            "_view_count": null,
            "_view_module": "@jupyter-widgets/base",
            "_view_module_version": "1.2.0",
            "_view_name": "LayoutView",
            "align_content": null,
            "align_items": null,
            "align_self": null,
            "border": null,
            "bottom": null,
            "display": null,
            "flex": null,
            "flex_flow": null,
            "grid_area": null,
            "grid_auto_columns": null,
            "grid_auto_flow": null,
            "grid_auto_rows": null,
            "grid_column": null,
            "grid_gap": null,
            "grid_row": null,
            "grid_template_areas": null,
            "grid_template_columns": null,
            "grid_template_rows": null,
            "height": null,
            "justify_content": null,
            "justify_items": null,
            "left": null,
            "margin": null,
            "max_height": null,
            "max_width": null,
            "min_height": null,
            "min_width": null,
            "object_fit": null,
            "object_position": null,
            "order": null,
            "overflow": null,
            "overflow_x": null,
            "overflow_y": null,
            "padding": null,
            "right": null,
            "top": null,
            "visibility": null,
            "width": null
          }
        },
        "48b4869d9b6047198fe3347be0fded27": {
          "model_module": "@jupyter-widgets/controls",
          "model_module_version": "1.5.0",
          "model_name": "LabelModel",
          "state": {
            "_dom_classes": [],
            "_model_module": "@jupyter-widgets/controls",
            "_model_module_version": "1.5.0",
            "_model_name": "LabelModel",
            "_view_count": null,
            "_view_module": "@jupyter-widgets/controls",
            "_view_module_version": "1.5.0",
            "_view_name": "LabelView",
            "description": "",
            "description_tooltip": null,
            "layout": "IPY_MODEL_e659b3c547f94badb41ae14407cd65f3",
            "placeholder": "​",
            "style": "IPY_MODEL_c8c1de77f56c4faa85b2f22afdd05836",
            "value": "0.001 MB of 0.001 MB uploaded (0.000 MB deduped)\r"
          }
        },
        "a3e6d26dab8546c0af3de98e55844786": {
          "model_module": "@jupyter-widgets/controls",
          "model_module_version": "1.5.0",
          "model_name": "VBoxModel",
          "state": {
            "_dom_classes": [],
            "_model_module": "@jupyter-widgets/controls",
            "_model_module_version": "1.5.0",
            "_model_name": "VBoxModel",
            "_view_count": null,
            "_view_module": "@jupyter-widgets/controls",
            "_view_module_version": "1.5.0",
            "_view_name": "VBoxView",
            "box_style": "",
            "children": [
              "IPY_MODEL_48b4869d9b6047198fe3347be0fded27",
              "IPY_MODEL_f4f91e0cff0e48d087ea29dc636c0973"
            ],
            "layout": "IPY_MODEL_e48d6454e7eb4f5db8a77b705697a0aa"
          }
        },
        "c8c1de77f56c4faa85b2f22afdd05836": {
          "model_module": "@jupyter-widgets/controls",
          "model_module_version": "1.5.0",
          "model_name": "DescriptionStyleModel",
          "state": {
            "_model_module": "@jupyter-widgets/controls",
            "_model_module_version": "1.5.0",
            "_model_name": "DescriptionStyleModel",
            "_view_count": null,
            "_view_module": "@jupyter-widgets/base",
            "_view_module_version": "1.2.0",
            "_view_name": "StyleView",
            "description_width": ""
          }
        },
        "dc82051f2efd4d2fbe2ed65d57cca641": {
          "model_module": "@jupyter-widgets/controls",
          "model_module_version": "1.5.0",
          "model_name": "VBoxModel",
          "state": {
            "_dom_classes": [],
            "_model_module": "@jupyter-widgets/controls",
            "_model_module_version": "1.5.0",
            "_model_name": "VBoxModel",
            "_view_count": null,
            "_view_module": "@jupyter-widgets/controls",
            "_view_module_version": "1.5.0",
            "_view_name": "VBoxView",
            "box_style": "",
            "children": [
              "IPY_MODEL_f6721a0856b446c9b7ff1892365eddfd",
              "IPY_MODEL_0cb90217e1e54d9182951ac9882a8981"
            ],
            "layout": "IPY_MODEL_e9ca059549d244f7ba880b24d1cb4091"
          }
        },
        "e3c324e9e784485eba9136948f8861db": {
          "model_module": "@jupyter-widgets/controls",
          "model_module_version": "1.5.0",
          "model_name": "ProgressStyleModel",
          "state": {
            "_model_module": "@jupyter-widgets/controls",
            "_model_module_version": "1.5.0",
            "_model_name": "ProgressStyleModel",
            "_view_count": null,
            "_view_module": "@jupyter-widgets/base",
            "_view_module_version": "1.2.0",
            "_view_name": "StyleView",
            "bar_color": null,
            "description_width": ""
          }
        },
        "e48d6454e7eb4f5db8a77b705697a0aa": {
          "model_module": "@jupyter-widgets/base",
          "model_module_version": "1.2.0",
          "model_name": "LayoutModel",
          "state": {
            "_model_module": "@jupyter-widgets/base",
            "_model_module_version": "1.2.0",
            "_model_name": "LayoutModel",
            "_view_count": null,
            "_view_module": "@jupyter-widgets/base",
            "_view_module_version": "1.2.0",
            "_view_name": "LayoutView",
            "align_content": null,
            "align_items": null,
            "align_self": null,
            "border": null,
            "bottom": null,
            "display": null,
            "flex": null,
            "flex_flow": null,
            "grid_area": null,
            "grid_auto_columns": null,
            "grid_auto_flow": null,
            "grid_auto_rows": null,
            "grid_column": null,
            "grid_gap": null,
            "grid_row": null,
            "grid_template_areas": null,
            "grid_template_columns": null,
            "grid_template_rows": null,
            "height": null,
            "justify_content": null,
            "justify_items": null,
            "left": null,
            "margin": null,
            "max_height": null,
            "max_width": null,
            "min_height": null,
            "min_width": null,
            "object_fit": null,
            "object_position": null,
            "order": null,
            "overflow": null,
            "overflow_x": null,
            "overflow_y": null,
            "padding": null,
            "right": null,
            "top": null,
            "visibility": null,
            "width": null
          }
        },
        "e659b3c547f94badb41ae14407cd65f3": {
          "model_module": "@jupyter-widgets/base",
          "model_module_version": "1.2.0",
          "model_name": "LayoutModel",
          "state": {
            "_model_module": "@jupyter-widgets/base",
            "_model_module_version": "1.2.0",
            "_model_name": "LayoutModel",
            "_view_count": null,
            "_view_module": "@jupyter-widgets/base",
            "_view_module_version": "1.2.0",
            "_view_name": "LayoutView",
            "align_content": null,
            "align_items": null,
            "align_self": null,
            "border": null,
            "bottom": null,
            "display": null,
            "flex": null,
            "flex_flow": null,
            "grid_area": null,
            "grid_auto_columns": null,
            "grid_auto_flow": null,
            "grid_auto_rows": null,
            "grid_column": null,
            "grid_gap": null,
            "grid_row": null,
            "grid_template_areas": null,
            "grid_template_columns": null,
            "grid_template_rows": null,
            "height": null,
            "justify_content": null,
            "justify_items": null,
            "left": null,
            "margin": null,
            "max_height": null,
            "max_width": null,
            "min_height": null,
            "min_width": null,
            "object_fit": null,
            "object_position": null,
            "order": null,
            "overflow": null,
            "overflow_x": null,
            "overflow_y": null,
            "padding": null,
            "right": null,
            "top": null,
            "visibility": null,
            "width": null
          }
        },
        "e9ca059549d244f7ba880b24d1cb4091": {
          "model_module": "@jupyter-widgets/base",
          "model_module_version": "1.2.0",
          "model_name": "LayoutModel",
          "state": {
            "_model_module": "@jupyter-widgets/base",
            "_model_module_version": "1.2.0",
            "_model_name": "LayoutModel",
            "_view_count": null,
            "_view_module": "@jupyter-widgets/base",
            "_view_module_version": "1.2.0",
            "_view_name": "LayoutView",
            "align_content": null,
            "align_items": null,
            "align_self": null,
            "border": null,
            "bottom": null,
            "display": null,
            "flex": null,
            "flex_flow": null,
            "grid_area": null,
            "grid_auto_columns": null,
            "grid_auto_flow": null,
            "grid_auto_rows": null,
            "grid_column": null,
            "grid_gap": null,
            "grid_row": null,
            "grid_template_areas": null,
            "grid_template_columns": null,
            "grid_template_rows": null,
            "height": null,
            "justify_content": null,
            "justify_items": null,
            "left": null,
            "margin": null,
            "max_height": null,
            "max_width": null,
            "min_height": null,
            "min_width": null,
            "object_fit": null,
            "object_position": null,
            "order": null,
            "overflow": null,
            "overflow_x": null,
            "overflow_y": null,
            "padding": null,
            "right": null,
            "top": null,
            "visibility": null,
            "width": null
          }
        },
        "ec79d9e55d6c41b68dde04a124a3e24f": {
          "model_module": "@jupyter-widgets/controls",
          "model_module_version": "1.5.0",
          "model_name": "DescriptionStyleModel",
          "state": {
            "_model_module": "@jupyter-widgets/controls",
            "_model_module_version": "1.5.0",
            "_model_name": "DescriptionStyleModel",
            "_view_count": null,
            "_view_module": "@jupyter-widgets/base",
            "_view_module_version": "1.2.0",
            "_view_name": "StyleView",
            "description_width": ""
          }
        },
        "f21cb05e4369451d8ce02dc9b4f6a785": {
          "model_module": "@jupyter-widgets/base",
          "model_module_version": "1.2.0",
          "model_name": "LayoutModel",
          "state": {
            "_model_module": "@jupyter-widgets/base",
            "_model_module_version": "1.2.0",
            "_model_name": "LayoutModel",
            "_view_count": null,
            "_view_module": "@jupyter-widgets/base",
            "_view_module_version": "1.2.0",
            "_view_name": "LayoutView",
            "align_content": null,
            "align_items": null,
            "align_self": null,
            "border": null,
            "bottom": null,
            "display": null,
            "flex": null,
            "flex_flow": null,
            "grid_area": null,
            "grid_auto_columns": null,
            "grid_auto_flow": null,
            "grid_auto_rows": null,
            "grid_column": null,
            "grid_gap": null,
            "grid_row": null,
            "grid_template_areas": null,
            "grid_template_columns": null,
            "grid_template_rows": null,
            "height": null,
            "justify_content": null,
            "justify_items": null,
            "left": null,
            "margin": null,
            "max_height": null,
            "max_width": null,
            "min_height": null,
            "min_width": null,
            "object_fit": null,
            "object_position": null,
            "order": null,
            "overflow": null,
            "overflow_x": null,
            "overflow_y": null,
            "padding": null,
            "right": null,
            "top": null,
            "visibility": null,
            "width": null
          }
        },
        "f4f91e0cff0e48d087ea29dc636c0973": {
          "model_module": "@jupyter-widgets/controls",
          "model_module_version": "1.5.0",
          "model_name": "FloatProgressModel",
          "state": {
            "_dom_classes": [],
            "_model_module": "@jupyter-widgets/controls",
            "_model_module_version": "1.5.0",
            "_model_name": "FloatProgressModel",
            "_view_count": null,
            "_view_module": "@jupyter-widgets/controls",
            "_view_module_version": "1.5.0",
            "_view_name": "ProgressView",
            "bar_style": "",
            "description": "",
            "description_tooltip": null,
            "layout": "IPY_MODEL_0a5ba7821fce4e339fad69a204573edd",
            "max": 1,
            "min": 0,
            "orientation": "horizontal",
            "style": "IPY_MODEL_e3c324e9e784485eba9136948f8861db",
            "value": 1
          }
        },
        "f6721a0856b446c9b7ff1892365eddfd": {
          "model_module": "@jupyter-widgets/controls",
          "model_module_version": "1.5.0",
          "model_name": "LabelModel",
          "state": {
            "_dom_classes": [],
            "_model_module": "@jupyter-widgets/controls",
            "_model_module_version": "1.5.0",
            "_model_name": "LabelModel",
            "_view_count": null,
            "_view_module": "@jupyter-widgets/controls",
            "_view_module_version": "1.5.0",
            "_view_name": "LabelView",
            "description": "",
            "description_tooltip": null,
            "layout": "IPY_MODEL_f21cb05e4369451d8ce02dc9b4f6a785",
            "placeholder": "​",
            "style": "IPY_MODEL_ec79d9e55d6c41b68dde04a124a3e24f",
            "value": "0.009 MB of 0.009 MB uploaded (0.000 MB deduped)\r"
          }
        }
      }
    }
  },
  "nbformat": 4,
  "nbformat_minor": 0
}