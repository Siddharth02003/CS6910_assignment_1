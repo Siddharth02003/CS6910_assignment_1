{
  "cells": [
    {
      "cell_type": "markdown",
      "metadata": {
        "id": "view-in-github",
        "colab_type": "text"
      },
      "source": [
        "<a href=\"https://colab.research.google.com/github/Siddharth02003/CS6910_assignments/blob/main/CS6910_assignment_1.ipynb\" target=\"_parent\"><img src=\"https://colab.research.google.com/assets/colab-badge.svg\" alt=\"Open In Colab\"/></a>"
      ]
    },
    {
      "cell_type": "code",
      "execution_count": 1,
      "metadata": {
        "id": "am22A5hWwqIl"
      },
      "outputs": [],
      "source": [
        "from keras.datasets import fashion_mnist\n",
        "import numpy as np\n",
        "import matplotlib.pyplot as plt\n",
        "import copy \n",
        "import random\n",
        "import tensorflow as tf\n",
        "from tqdm import tqdm\n"
      ]
    },
    {
      "cell_type": "code",
      "execution_count": 2,
      "metadata": {
        "colab": {
          "base_uri": "https://localhost:8080/"
        },
        "id": "-0uslSo6wvaS",
        "outputId": "65ac6325-3cfd-4aec-953b-d7a5e83d0765"
      },
      "outputs": [
        {
          "output_type": "stream",
          "name": "stdout",
          "text": [
            "\u001b[2K     \u001b[90m━━━━━━━━━━━━━━━━━━━━━━━━━━━━━━━━━━━━━━━━\u001b[0m \u001b[32m2.0/2.0 MB\u001b[0m \u001b[31m34.5 MB/s\u001b[0m eta \u001b[36m0:00:00\u001b[0m\n",
            "\u001b[2K     \u001b[90m━━━━━━━━━━━━━━━━━━━━━━━━━━━━━━━━━━━━━━\u001b[0m \u001b[32m184.3/184.3 KB\u001b[0m \u001b[31m19.7 MB/s\u001b[0m eta \u001b[36m0:00:00\u001b[0m\n",
            "\u001b[2K     \u001b[90m━━━━━━━━━━━━━━━━━━━━━━━━━━━━━━━━━━━━━━\u001b[0m \u001b[32m189.1/189.1 KB\u001b[0m \u001b[31m20.6 MB/s\u001b[0m eta \u001b[36m0:00:00\u001b[0m\n",
            "\u001b[?25h  Preparing metadata (setup.py) ... \u001b[?25l\u001b[?25hdone\n",
            "\u001b[2K     \u001b[90m━━━━━━━━━━━━━━━━━━━━━━━━━━━━━━━━━━━━━━━━\u001b[0m \u001b[32m62.7/62.7 KB\u001b[0m \u001b[31m5.8 MB/s\u001b[0m eta \u001b[36m0:00:00\u001b[0m\n",
            "\u001b[?25h  Building wheel for pathtools (setup.py) ... \u001b[?25l\u001b[?25hdone\n"
          ]
        }
      ],
      "source": [
        "!pip install wandb -qqq\n",
        "import wandb"
      ]
    },
    {
      "cell_type": "code",
      "execution_count": 3,
      "metadata": {
        "id": "XHQSqKz-wxOF"
      },
      "outputs": [],
      "source": [
        "def load_dataset():\n",
        "    (X_train, Y_train), (X_test, Y_test) = fashion_mnist.load_data()\n",
        "    return {\n",
        "            'X_train': X_train,\n",
        "            'Y_train': Y_train,\n",
        "            'X_test': X_test,\n",
        "            'Y_test': Y_test\n",
        "        }"
      ]
    },
    {
      "cell_type": "code",
      "execution_count": 4,
      "metadata": {
        "id": "EJmmLHUiwzR2"
      },
      "outputs": [],
      "source": [
        "class_labels={0:'T-shirt',1:'Trouser',2:'Pullover',3:'Dress',4:'Coat',5:'Sandal',6:'Shirt',7:'Sneaker',8:'Bag',9:'Ankle_Boot'}\n",
        "\n",
        "def label_to_name(label):\n",
        "  if enumerate(label):\n",
        "    l_names=[]\n",
        "    for l in label:\n",
        "      l_names.append(class_labels[l])\n",
        "    return l_names\n",
        "  else:\n",
        "    return class_labels[label]"
      ]
    },
    {
      "cell_type": "code",
      "execution_count": 5,
      "metadata": {
        "colab": {
          "base_uri": "https://localhost:8080/"
        },
        "id": "2JOXMolAx20p",
        "outputId": "70409076-0325-41e7-aeeb-37e897436834"
      },
      "outputs": [
        {
          "output_type": "stream",
          "name": "stdout",
          "text": [
            "\u001b[34m\u001b[1mwandb\u001b[0m: Logging into wandb.ai. (Learn how to deploy a W&B server locally: https://wandb.me/wandb-server)\n",
            "\u001b[34m\u001b[1mwandb\u001b[0m: You can find your API key in your browser here: https://wandb.ai/authorize\n",
            "\u001b[34m\u001b[1mwandb\u001b[0m: Paste an API key from your profile and hit enter, or press ctrl+c to quit: \n",
            "\u001b[34m\u001b[1mwandb\u001b[0m: Appending key for api.wandb.ai to your netrc file: /root/.netrc\n"
          ]
        }
      ],
      "source": [
        "!wandb login --relogin\n",
        "entity_name=\"siddharth-s\"\n",
        "\n",
        "project_name=\"FODL_Assignment_1\""
      ]
    },
    {
      "cell_type": "code",
      "execution_count": 6,
      "metadata": {
        "id": "gQ_OCNeEw3h7"
      },
      "outputs": [],
      "source": [
        "def log_images():\n",
        "  images=[]\n",
        "  labels=[]\n",
        "  dataset=load_dataset()\n",
        "  X_train=dataset['X_train']\n",
        "  y_train=dataset['Y_train']\n",
        "  wandb.init(entity=entity_name,project=project_name, name=\"log_images\")\n",
        "  for i in range(100):\n",
        "    if len(labels)==10:\n",
        "      break\n",
        "    if class_labels[y_train[i]] not in labels:\n",
        "      images.append(X_train[i])\n",
        "      labels.append(class_labels[y_train[i]])\n",
        "  wandb.log({\"Images\": [wandb.Image(img, caption=caption) for img, caption in zip(images,labels)]})"
      ]
    },
    {
      "cell_type": "code",
      "execution_count": 7,
      "metadata": {
        "id": "SMeU4Vsicaoh"
      },
      "outputs": [],
      "source": [
        "class activation(): \n",
        "  def __init__(self,a):\n",
        "    self.a=a\n",
        "\n",
        "  def sigmoid(self,a):\n",
        "    try:\n",
        "      return (1.0/(1.0+np.exp(-a)))\n",
        "    except:\n",
        "      print(\"error\")\n",
        "\n",
        "  def relu(self,a):\n",
        "    return (np.maximum(0,a))\n",
        "\n",
        "  def tanh(self,a):\n",
        "    return np.tanh(a)\n",
        "\n",
        "  def softmax(self,a):\n",
        "    try:\n",
        "      return(np.exp(a)/np.sum(np.exp(a)))\n",
        "    except:\n",
        "      print(\"error\")\n",
        "\n",
        "  def sigmoid_derivative(self,x):\n",
        "    return self.sigmoid(x)*(1-self.sigmoid(x))\n",
        "\n",
        "  def tanh_derivative(self,x):\n",
        "    return 1.0 -self.tanh(x)**2\n",
        "\n",
        "  def relu_derivative(self,x):\n",
        "    return 1. * (x>0)\n",
        "     \n",
        "  def softmax_derivative(self,x):\n",
        "    return self.softmax(x) * (1-self.softmax(x))\n",
        "\n",
        "  def derivative(self,x,activation):\n",
        "    if activation == \"sigmoid\":\n",
        "      return self.sigmoid_derivative(x)\n",
        "    elif activation == \"tanh\":\n",
        "      return self.tanh_derivative(x)\n",
        "    elif activation == \"relu\":\n",
        "      return self.relu_derivative(x)"
      ]
    },
    {
      "cell_type": "code",
      "execution_count": 8,
      "metadata": {
        "id": "55iTx2uL1Z_0"
      },
      "outputs": [],
      "source": [
        "class weights():\n",
        "  def __init__(self,layers):\n",
        "    self.layers=layers\n",
        "\n",
        "  def Xavier(self,layers):\n",
        "    params = {}\n",
        "    for i in range(1,len(layers)):\n",
        "       norm_xav=np.sqrt(6)/np.sqrt(layers[i]+layers[i-1])\n",
        "       params[\"w\"+str(i)]=np.random.randn(layers[i],layers[i-1])*norm_xav\n",
        "       params[\"b\"+str(i)]=np.zeros((layers[i],1))\n",
        "    return params\n",
        "\n",
        "  def Random(self,layers):\n",
        "    params = {}\n",
        "    for i in range(1,len(layers)):\n",
        "       params[\"w\"+str(i)]=0.01*np.random.randn(layers[i],layers[i-1])\n",
        "       params[\"b\"+str(i)]=0.01*np.random.randn(layers[i],1)\n",
        "    return params\n",
        "\n",
        "  def weight_init(self,init_type = \"random\"):\n",
        "    params={}\n",
        "    if(init_type==\"xavier\"):\n",
        "      params = self.Xavier(self.layers)\n",
        "    elif(init_type==\"random\"):\n",
        "      params = self.Random(self.layers)\n",
        "    else:\n",
        "      print(\"invalid activation function\")\n",
        "    return params"
      ]
    },
    {
      "cell_type": "code",
      "execution_count": 9,
      "metadata": {
        "id": "gP-wp4N2ajjW"
      },
      "outputs": [],
      "source": [
        "def squared_loss(y, y_hat):\n",
        "  error = np.sum(((y - y_hat)**2) / (2 * len(y)))\n",
        "  return error\n",
        "\n",
        "def CrossEntropy(y, y_hat):\n",
        "  error = - np.sum( np.multiply(y , np.log(y_hat)))/len(y)\n",
        "  return error\n",
        "\n",
        "def loss_calc(loss_name, y, y_hat, lambd, layers, parameters):\n",
        "  loss=0\n",
        "  if(loss_name == \"squared_loss\"):\n",
        "    loss=squared_loss(y, y_hat)\n",
        "  elif(loss_name == \"cross_entropy\"):\n",
        "    loss= CrossEntropy(y, y_hat)\n",
        "\n",
        "  reg_loss = 0.0\n",
        "  for i in range(len(layers)-1, 0, -1):\n",
        "    reg_loss = reg_loss + (np.sum(parameters[\"w\"+str(i)]))**2\n",
        "  reg_loss = loss + ((lambd/(2*len(y)))*(reg_loss))\n",
        "  return reg_loss"
      ]
    },
    {
      "cell_type": "code",
      "execution_count": 10,
      "metadata": {
        "id": "CqEVmsE7qx6S"
      },
      "outputs": [],
      "source": [
        "class network():\n",
        "  def __init__(self,X,y,params,active,layers,loss_type):\n",
        "    self.X=X\n",
        "    self.y=y\n",
        "    self.params=params\n",
        "    self.active=active\n",
        "    self.layers=layers\n",
        "    self.loss_type=loss_type\n",
        "\n",
        "  def forward_prop(self):\n",
        "   out=copy.deepcopy(self.X)\n",
        "   out=out.reshape(-1,1)\n",
        "   h=[out]\n",
        "   a=[out] \n",
        "\n",
        "   act=activation(a)\n",
        "\n",
        "   if(self.active==\"sigmoid\"):\n",
        "     for i in range(1,len(self.layers)-1):\n",
        "       weights = self.params[\"w\"+str(i)]\n",
        "       biases = self.params[\"b\"+str(i)]\n",
        "\n",
        "       out = np.dot(weights,h[i-1])+biases\n",
        "       a.append(out)\n",
        "       post_a = act.sigmoid(out)\n",
        "       h.append(post_a)\n",
        "  \n",
        "   elif(self.active==\"tanh\"):\n",
        "     for i in range(1,len(self.layers)-1):\n",
        "       weights=self.params[\"w\"+str(i)]\n",
        "       biases=self.params[\"b\"+str(i)]\n",
        "      \n",
        "       out=np.dot(weights,h[i-1])+biases\n",
        "       a.append(out)\n",
        "       post_a=act.tanh(out)\n",
        "       h.append(post_a)\n",
        "  \n",
        "   elif(self.active==\"relu\"):\n",
        "     for i in range(1,len(self.layers)-1):\n",
        "       weights=self.params[\"w\"+str(i)]\n",
        "       biases=self.params[\"b\"+str(i)]\n",
        "      \n",
        "       out=np.dot(weights,h[i-1])+biases\n",
        "       a.append(out)\n",
        "       post_a=act.relu(out)\n",
        "       h.append(post_a)       \n",
        "\n",
        "   else:\n",
        "     print(\"Invalid activation function\") \n",
        "   weights=self.params[\"w\"+str(len(self.layers)-1)]\n",
        "   biases=self.params[\"b\"+str(len(self.layers)-1)]\n",
        "  \n",
        "   out=np.dot(weights,h[len(self.layers)-2])+biases\n",
        "   a.append(out)\n",
        "   y_hat=act.softmax(out)\n",
        "   h.append(y_hat)\n",
        "   return h,a,y_hat\n",
        "\n",
        "  def backward_prop(self,y,y_hat,h,a,params,layers):\n",
        "    grad = {}\n",
        "    act=activation(self.active)\n",
        "    if self.loss_type == \"squared_loss\":\n",
        "      grad[\"dh\"+str(len(layers)-1)] = (y_hat - y)\n",
        "      grad[\"da\"+str(len(layers)-1)] = (y_hat - y) * act.softmax_derivative(a[len(layers)-1])\n",
        "\n",
        "    elif self.loss_type == 'cross_entropy':\n",
        "      grad[\"da\"+str(len(layers)-1)] = -(y-y_hat)\n",
        "      grad[\"dh\"+str(len(layers)-1)] = -(y/y_hat)\n",
        "\n",
        "    for i in range(len(layers)-1, 0, -1 ):\n",
        "      grad[\"dw\"+str(i)] = np.dot(grad[\"da\"+str(i)], np.transpose(h[i-1]))\n",
        "      grad[\"db\"+str(i)] = grad[\"da\"+str(i)]\n",
        "      if i > 1:\n",
        "        grad[\"dh\"+str(i-1)] = np.dot(np.transpose(params[\"w\"+str(i)]), grad[\"da\"+str(i)])\n",
        "        grad[\"da\"+str(i-1)] = np.multiply(grad[\"dh\" + str(i-1)], act.derivative(a[i-1],self.active))\n",
        "    return grad"
      ]
    },
    {
      "cell_type": "code",
      "execution_count": 11,
      "metadata": {
        "id": "xSFLTfMSwsGb"
      },
      "outputs": [],
      "source": [
        "def accuracy_calc(res,y_t):\n",
        "    acc=0.0   \n",
        "    for x in range(len(res)):\n",
        "      if(res[x].argmax()==y_t[x].argmax()):\n",
        "        acc+=1\n",
        "    acc=acc/len(y_t)\n",
        "    return(acc*100)"
      ]
    },
    {
      "cell_type": "code",
      "execution_count": 12,
      "metadata": {
        "id": "eEc2_5l8n0p2"
      },
      "outputs": [],
      "source": [
        "def run_inference(X,y,parameters,activation,layers):\n",
        "    result = []\n",
        "    for i in range(len(X)):\n",
        "      nn=network(X[i], y[i], parameters, activation, layers,\"squared_loss\")\n",
        "      h,a,y_hat = nn.forward_prop()\n",
        "      y_hat = y_hat.flatten()\n",
        "      result.append(y_hat)\n",
        "    return result"
      ]
    },
    {
      "cell_type": "code",
      "execution_count": 13,
      "metadata": {
        "id": "c1bmArXk0T5a"
      },
      "outputs": [],
      "source": [
        "def calculate_grad(X, Y, parameters, activation, layers, loss_function):\n",
        "  grads={}\n",
        "  grads.clear() \n",
        "  for j in range(len(X)):\n",
        "    y = np.reshape(Y[j], (-1,1))\n",
        "\n",
        "    nn=network(X[j], y, parameters, activation, layers, loss_function)\n",
        "    h,a,y_hat = nn.forward_prop()\n",
        "    new_grads = nn.backward_prop(y,y_hat,h,a,parameters,layers)\n",
        "\n",
        "    if j == 0:\n",
        "      grads = copy.deepcopy(new_grads)\n",
        "    else:\n",
        "      for k in range(len(layers)-1,0,-1):\n",
        "        grads[\"dw\"+str(k)] += new_grads[\"dw\"+str(k)]\n",
        "        grads[\"db\"+str(k)] += new_grads[\"db\"+str(k)]\n",
        "  return grads"
      ]
    },
    {
      "cell_type": "code",
      "execution_count": 14,
      "metadata": {
        "id": "LsynyUWa5Y8R"
      },
      "outputs": [],
      "source": [
        "def gradient_descent(X_train, y_train, eta, max_epochs, layers, mini_batch_size, lambd,loss_function, activation, parameters,optimiser,wandb_log=False):\n",
        "  grads={}\n",
        "  train_loss = []\n",
        "  val_loss = []\n",
        "  train_acc = []\n",
        "  val_acc = []\n",
        "\n",
        "  for t in tqdm(range(max_epochs)):\n",
        "    for i in range(0, len(X_train), mini_batch_size):\n",
        "\n",
        "      grads.clear()\n",
        "\n",
        "      if str(optimiser) == \"nesterovacc_gd\":\n",
        "        opt=optimiser(grads, eta, max_epochs,layers,mini_batch_size,lambd,parameters,i,t)\n",
        "        param_lookahead,update_history=opt.paramlookahead()\n",
        "\n",
        "      X = X_train[i:i + mini_batch_size]\n",
        "      Y = y_train[i:i + mini_batch_size]\n",
        "      \n",
        "      if str(optimiser) == \"nesterovacc_gd\":\n",
        "        grads = calculate_grad(X,Y,param_lookahead,activation,layers,loss_function)\n",
        "      else: \n",
        "        grads = calculate_grad(X,Y,parameters,activation,layers,loss_function)\n",
        "\n",
        "      opt=optimiser(grads, eta, max_epochs,layers,mini_batch_size,lambd,parameters,i,t)\n",
        "      parameters=opt.get_params()\n",
        "    \n",
        "    #Calculating train loss \n",
        "    res = run_inference(X_train,y_train,parameters, activation, layers)\n",
        "    train_err = loss_calc(loss_function,y_train,res,lambd,layers,parameters) \n",
        "    train_ac=accuracy_calc(res, y_train)\n",
        "    train_loss.append(train_err)\n",
        "    train_acc.append(train_ac)\n",
        "\n",
        "    #Calculating validation loss\n",
        "    res = run_inference(X_val, y_val, parameters, activation, layers)\n",
        "    val_err = loss_calc(loss_function, y_val, res, lambd, layers, parameters )\n",
        "    val_ac=accuracy_calc(res, y_val)\n",
        "    val_loss.append(val_err)\n",
        "    val_acc.append(val_ac)\n",
        "\n",
        "    if(wandb_log==True):\n",
        "      log_dict = {\"Train_Accuracy\": train_ac, \"Validation_Accuracy\": val_ac, \\\n",
        "                  \"Train_Loss\": train_err, \"Validation_loss\": val_err, \"epoch\": t}\n",
        "                  \n",
        "      wandb.log(log_dict)\n",
        "\n",
        "  return parameters, train_acc, val_acc"
      ]
    },
    {
      "cell_type": "code",
      "execution_count": 15,
      "metadata": {
        "id": "xUM1PAe8D0Yt"
      },
      "outputs": [],
      "source": [
        "class stochastic_gd():\n",
        "  def __init__(self,grads, eta, max_epochs,layers,mini_batch_size,lambd,parameters,i,t):\n",
        "    self.grads=grads\n",
        "    self.eta=eta\n",
        "    self.layers=layers\n",
        "    self.mini_batch_size=mini_batch_size\n",
        "    self.parameters=parameters\n",
        "    self.lambd=lambd\n",
        "    self.i=i\n",
        "    self.t=t\n",
        "\n",
        "  def get_params(self):\n",
        "    for j in range(len(self.layers)-1,0,-1):\n",
        "        self.parameters[\"w\"+str(j)] = (1-((self.eta*self.lambd)/self.mini_batch_size))*self.parameters[\"w\"+str(j)] - (self.eta * self.grads[\"dw\"+str(j)])\n",
        "        self.parameters[\"b\"+str(j)] = self.parameters[\"b\"+str(j)] - (self.eta * self.grads[\"db\"+str(j)])\n",
        "    return self.parameters"
      ]
    },
    {
      "cell_type": "code",
      "execution_count": 16,
      "metadata": {
        "id": "hwY-M90CHaQ9"
      },
      "outputs": [],
      "source": [
        "class momentum_gd():\n",
        "  def __init__(self,grads, eta, max_epochs,layers,mini_batch_size,lambd,parameters,i,t):\n",
        "    self.grads=grads\n",
        "    self.eta=eta\n",
        "    self.layers=layers\n",
        "    self.mini_batch_size=mini_batch_size\n",
        "    self.parameters=parameters\n",
        "    self.lambd=lambd\n",
        "    self.gamma=0.9\n",
        "    self.i=i\n",
        "    self.t=t\n",
        "\n",
        "  def get_update_history(self):\n",
        "    update_history={}\n",
        "    for j in range(len(self.layers)-1, 0, -1):\n",
        "          update_history[\"w\"+str(j)] = self.eta*self.grads[\"dw\"+str(j)]\n",
        "          update_history[\"b\"+str(j)] = self.eta*self.grads[\"db\"+str(j)]\n",
        "    for j in range(len(self.layers)-1, 0, -1):\n",
        "          update_history[\"w\"+str(j)] = (self.gamma*update_history[\"w\"+str(j)]) + (self.eta*self.grads[\"dw\"+str(j)])\n",
        "          update_history[\"b\"+str(j)] = (self.gamma*update_history[\"b\"+str(j)]) + (self.eta*self.grads[\"db\"+str(j)])\n",
        "    return update_history\n",
        "\n",
        "  def get_params(self):\n",
        "    update_history=self.get_update_history()\n",
        "    for j in range(len(self.layers)-1,0,-1):\n",
        "        self.parameters[\"w\"+str(j)] = (1-((self.eta*self.lambd)/self.mini_batch_size))*self.parameters[\"w\"+str(j)] - update_history[\"w\"+str(j)]\n",
        "        self.parameters[\"b\"+str(j)] = self.parameters[\"b\"+str(j)] - update_history[\"b\"+str(j)]\n",
        "    return self.parameters"
      ]
    },
    {
      "cell_type": "code",
      "execution_count": 17,
      "metadata": {
        "id": "0HSpU3xmFPP1"
      },
      "outputs": [],
      "source": [
        "class nesterovacc_gd():\n",
        "  def __init__(self,grads, eta, max_epochs,layers,mini_batch_size,lambd,parameters,i,t):\n",
        "    self.grads=grads\n",
        "    self.eta=eta\n",
        "    self.layers=layers\n",
        "    self.mini_batch_size=mini_batch_size\n",
        "    self.parameters=parameters\n",
        "    self.lambd=lambd\n",
        "    self.i=i\n",
        "    self.t=t\n",
        "\n",
        "  def paramlookahead(self):\n",
        "    update_history={}\n",
        "    if self.i==0:\n",
        "        param_lookahead = copy.deepcopy(self.parameters)\n",
        "    else:\n",
        "        for j in range(len(self.layers)-1, 0, -1):\n",
        "          param_lookahead['w'+str(j)] = self.parameters['w'+str(j)] + (self.gamma*update_history[\"w\"+str(j)])\n",
        "    return param_lookahead,update_history\n",
        "\n",
        "  def get_params(self,update_history):\n",
        "    param_lookahead,update_history=self.paramlookahead()\n",
        "    if self.i == 0 :\n",
        "        for j in range(len(self.layers)-1, 0, -1):\n",
        "          update_history[\"w\"+str(j)] = self.eta*self.grads[\"dw\"+str(j)]\n",
        "          update_history[\"b\"+str(j)] = self.eta*self.grads[\"db\"+str(j)]\n",
        "    else:\n",
        "        for j in range(len(self.layers)-1, 0, -1):\n",
        "          update_history[\"w\"+str(j)] = (self.gamma*update_history[\"w\"+str(j)]) + (self.eta*self.grads[\"dw\"+str(j)])\n",
        "          update_history[\"b\"+str(j)] = (self.gamma*update_history[\"b\"+str(j)]) + (self.eta*self.grads[\"db\"+str(j)])\n",
        "    for j in range(len(self.layers)-1,0,-1):\n",
        "        self.parameters[\"w\"+str(j)] = (1-((self.eta*self.lambd)/self.mini_batch_size))*self.parameters[\"w\"+str(j)] - update_history[\"w\"+str(j)]\n",
        "        self.parameters[\"b\"+str(j)] = self.parameters[\"b\"+str(j)] - update_history[\"b\"+str(j)]\n",
        "    return self.parameters\n"
      ]
    },
    {
      "cell_type": "code",
      "execution_count": 18,
      "metadata": {
        "id": "HBXMVUIyOjvz"
      },
      "outputs": [],
      "source": [
        "class rmsprop():\n",
        "  def __init__(self,grads, eta, max_epochs,layers,mini_batch_size,lambd,parameters,i,t):\n",
        "    self.grads=grads\n",
        "    self.eta=eta\n",
        "    self.layers=layers\n",
        "    self.mini_batch_size=mini_batch_size\n",
        "    self.parameters=parameters\n",
        "    self.lambd=lambd\n",
        "    self.i=i\n",
        "    self.beta = 0.9 \n",
        "    self.epsilon=1e-8\n",
        "    self.t=t\n",
        "\n",
        "  def momenta(self):\n",
        "    update_history={}\n",
        "    v={}\n",
        "    for i in range(len(self.layers)-1,0,-1):\n",
        "      update_history[\"w\"+str(i)]=np.zeros((self.layers[i],self.layers[i-1]))\n",
        "      update_history[\"b\"+str(i)]=np.zeros((self.layers[i],1))\n",
        "    for i in range(len(self.layers)-1,0,-1):\n",
        "      v[\"w\"+str(i)]=np.zeros((self.layers[i],self.layers[i-1]))\n",
        "      v[\"b\"+str(i)]=np.zeros((self.layers[i],1))\n",
        "    return v,update_history\n",
        "     \n",
        "  def get_params(self):\n",
        "    v,update_history=self.momenta()\n",
        "    for iq in range(len(self.layers)-1,0,-1):\n",
        "        v[\"w\"+str(iq)]=self.beta*v[\"w\"+str(iq)]+(1-self.beta)*self.grads[\"dw\"+str(iq)]**2\n",
        "        v[\"b\"+str(iq)]=self.beta*v[\"b\"+str(iq)]+(1-self.beta)*self.grads[\"db\"+str(iq)]**2     \n",
        "        update_history[\"w\"+str(iq)]=self.eta*np.multiply(np.reciprocal(np.sqrt(v[\"w\"+str(iq)]+self.epsilon)),self.grads[\"dw\"+str(iq)])\n",
        "        update_history[\"b\"+str(iq)]=self.eta*np.multiply(np.reciprocal(np.sqrt(v[\"b\"+str(iq)]+self.epsilon)),self.grads[\"db\"+str(iq)])\n",
        "    for j in range(len(self.layers)-1,0,-1):\n",
        "        self.parameters[\"w\"+str(j)] = (1-((self.eta*self.lambd)/self.mini_batch_size))*self.parameters[\"w\"+str(j)] - update_history[\"w\"+str(j)]\n",
        "        self.parameters[\"b\"+str(j)] = self.parameters[\"b\"+str(j)] - update_history[\"b\"+str(j)]\n",
        "    return self.parameters"
      ]
    },
    {
      "cell_type": "code",
      "execution_count": 19,
      "metadata": {
        "id": "uPO_60-cQSWr"
      },
      "outputs": [],
      "source": [
        "class adam():\n",
        "  def __init__(self,grads, eta, max_epochs,layers,mini_batch_size,lambd,parameters,i,t):\n",
        "    self.grads=grads\n",
        "    self.eta=eta\n",
        "    self.layers=layers\n",
        "    self.mini_batch_size=mini_batch_size\n",
        "    self.parameters=parameters\n",
        "    self.lambd=lambd\n",
        "    self.i=i\n",
        "    self.beta1=0.9 \n",
        "    self.epsilon=1e-8\n",
        "    self.beta2=0.999\n",
        "    self.t=t\n",
        "  \n",
        "  def momenta(self):\n",
        "    update_history={}\n",
        "    v={}\n",
        "    m={}\n",
        "    for i in range(len(self.layers)-1,0,-1):\n",
        "      update_history[\"w\"+str(i)]=np.zeros((self.layers[i],self.layers[i-1]))\n",
        "      update_history[\"b\"+str(i)]=np.zeros((self.layers[i],1))\n",
        "    for i in range(len(self.layers)-1,0,-1):\n",
        "      v[\"w\"+str(i)]=np.zeros((self.layers[i],self.layers[i-1]))\n",
        "      v[\"b\"+str(i)]=np.zeros((self.layers[i],1))\n",
        "    for i in range(len(self.layers)-1,0,-1):\n",
        "      m[\"w\"+str(i)]=np.zeros((self.layers[i],self.layers[i-1]))\n",
        "      m[\"b\"+str(i)]=np.zeros((self.layers[i],1))\n",
        "    return m,v,update_history\n",
        "     \n",
        "  def get_params(self):\n",
        "    m,v,update_history=self.momenta()\n",
        "    for iq in range(len(self.layers)-1,0,-1):\n",
        "          m[\"w\"+str(iq)]=self.beta1*m[\"w\"+str(iq)]+(1-self.beta1)*self.grads[\"dw\"+str(iq)]\n",
        "          m[\"b\"+str(iq)]=self.beta1*m[\"b\"+str(iq)]+(1-self.beta1)*self.grads[\"db\"+str(iq)]    \n",
        "          v[\"w\"+str(iq)]=self.beta2*v[\"w\"+str(iq)]+(1-self.beta2)*(self.grads[\"dw\"+str(iq)])**2\n",
        "          v[\"b\"+str(iq)]=self.beta2*v[\"b\"+str(iq)]+(1-self.beta2)*(self.grads[\"db\"+str(iq)])**2\n",
        "          mw_hat=m[\"w\"+str(iq)]/(1-np.power(self.beta1,self.t+1))\n",
        "          mb_hat=m[\"b\"+str(iq)]/(1-np.power(self.beta1,self.t+1))\n",
        "          vw_hat=v[\"w\"+str(iq)]/(1-np.power(self.beta2,self.t+1))\n",
        "          vb_hat=v[\"b\"+str(iq)]/(1-np.power(self.beta2,self.t+1))\n",
        "          update_history[\"w\"+str(iq)]=self.eta*np.multiply(np.reciprocal(np.sqrt(vw_hat+self.epsilon)),mw_hat)\n",
        "          update_history[\"b\"+str(iq)]=self.eta*np.multiply(np.reciprocal(np.sqrt(vb_hat+self.epsilon)),mb_hat)\n",
        "\n",
        "    for j in range(len(self.layers)-1,0,-1):\n",
        "          self.parameters[\"w\"+str(j)] = (1-((self.eta*self.lambd)/self.mini_batch_size))*self.parameters[\"w\"+str(j)] - update_history[\"w\"+str(j)]\n",
        "          self.parameters[\"b\"+str(j)] = self.parameters[\"b\"+str(j)] - update_history[\"b\"+str(j)]\n",
        "    return self.parameters"
      ]
    },
    {
      "cell_type": "code",
      "execution_count": 20,
      "metadata": {
        "id": "kD1beF-NRNXr"
      },
      "outputs": [],
      "source": [
        "class nadam():\n",
        "  def __init__(self,grads, eta, max_epochs,layers,mini_batch_size,lambd,parameters,i,t):\n",
        "    self.grads=grads\n",
        "    self.eta=eta\n",
        "    self.layers=layers\n",
        "    self.mini_batch_size=mini_batch_size\n",
        "    self.parameters=parameters\n",
        "    self.lambd=lambd\n",
        "    self.i=i\n",
        "    self.beta1=0.9 \n",
        "    self.epsilon=1e-8\n",
        "    self.beta2=0.999\n",
        "    self.t=t\n",
        "  \n",
        "  def momenta(self):\n",
        "    update_history={}\n",
        "    v={}\n",
        "    m={}\n",
        "    for i in range(len(self.layers)-1,0,-1):\n",
        "      update_history[\"w\"+str(i)]=np.zeros((self.layers[i],self.layers[i-1]))\n",
        "      update_history[\"b\"+str(i)]=np.zeros((self.layers[i],1))\n",
        "    for i in range(len(self.layers)-1,0,-1):\n",
        "      v[\"w\"+str(i)]=np.zeros((self.layers[i],self.layers[i-1]))\n",
        "      v[\"b\"+str(i)]=np.zeros((self.layers[i],1))\n",
        "    for i in range(len(self.layers)-1,0,-1):\n",
        "      m[\"w\"+str(i)]=np.zeros((self.layers[i],self.layers[i-1]))\n",
        "      m[\"b\"+str(i)]=np.zeros((self.layers[i],1))\n",
        "    return m,v,update_history\n",
        "     \n",
        "  def get_params(self):\n",
        "    m,v,update_history=self.momenta()\n",
        "    for iq in range(len(self.layers)-1,0,-1):\n",
        "          m[\"w\"+str(iq)]=self.beta1*m[\"w\"+str(iq)]+(1-self.beta1)*self.grads[\"dw\"+str(iq)]\n",
        "          m[\"b\"+str(iq)]=self.beta1*m[\"b\"+str(iq)]+(1-self.beta1)*self.grads[\"db\"+str(iq)]    \n",
        "          v[\"w\"+str(iq)]=self.beta2*v[\"w\"+str(iq)]+(1-self.beta2)*(self.grads[\"dw\"+str(iq)])**2\n",
        "          v[\"b\"+str(iq)]=self.beta2*v[\"b\"+str(iq)]+(1-self.beta2)*(self.grads[\"db\"+str(iq)])**2\n",
        "          mw_hat=m[\"w\"+str(iq)]/(1-np.power(self.beta1,self.t+1))\n",
        "          mb_hat=m[\"b\"+str(iq)]/(1-np.power(self.beta1,self.t+1))\n",
        "          vw_hat=v[\"w\"+str(iq)]/(1-np.power(self.beta2,self.t+1))\n",
        "          vb_hat=v[\"b\"+str(iq)]/(1-np.power(self.beta2,self.t+1))\n",
        "          update_history[\"w\"+str(iq)]=self.eta*np.multiply(np.reciprocal(np.sqrt(vw_hat+self.epsilon)),(self.beta1*mw_hat+(1-self.beta1)*self.grads[\"dw\"+str(iq)]))*(1/(1-np.power(self.beta1,self.t+1)))\n",
        "          update_history[\"b\"+str(iq)]=self.eta*np.multiply(np.reciprocal(np.sqrt(vb_hat+self.epsilon)),(self.beta1*mb_hat+(1-self.beta1)*self.grads[\"db\"+str(iq)]))*(1/(1-np.power(self.beta1,self.t+1)))\n",
        "\n",
        "    for j in range(len(self.layers)-1,0,-1):\n",
        "          self.parameters[\"w\"+str(j)] = (1-((self.eta*self.lambd)/self.mini_batch_size))*self.parameters[\"w\"+str(j)] - update_history[\"w\"+str(j)]\n",
        "          self.parameters[\"b\"+str(j)] = self.parameters[\"b\"+str(j)] - update_history[\"b\"+str(j)]\n",
        "\n",
        "    return self.parameters"
      ]
    },
    {
      "cell_type": "markdown",
      "metadata": {
        "id": "MOKKhqlasNtr"
      },
      "source": [
        "Preparing Dataset"
      ]
    },
    {
      "cell_type": "code",
      "execution_count": null,
      "metadata": {
        "colab": {
          "base_uri": "https://localhost:8080/"
        },
        "id": "E-QmsesIsPqS",
        "outputId": "b2640697-1039-4ea3-c198-e4bcdcffb0b5"
      },
      "outputs": [
        {
          "name": "stdout",
          "output_type": "stream",
          "text": [
            "Downloading data from https://storage.googleapis.com/tensorflow/tf-keras-datasets/train-labels-idx1-ubyte.gz\n",
            "29515/29515 [==============================] - 0s 0us/step\n",
            "Downloading data from https://storage.googleapis.com/tensorflow/tf-keras-datasets/train-images-idx3-ubyte.gz\n",
            "26421880/26421880 [==============================] - 0s 0us/step\n",
            "Downloading data from https://storage.googleapis.com/tensorflow/tf-keras-datasets/t10k-labels-idx1-ubyte.gz\n",
            "5148/5148 [==============================] - 0s 0us/step\n",
            "Downloading data from https://storage.googleapis.com/tensorflow/tf-keras-datasets/t10k-images-idx3-ubyte.gz\n",
            "4422102/4422102 [==============================] - 0s 0us/step\n"
          ]
        }
      ],
      "source": [
        "from sklearn.model_selection import train_test_split\n",
        "(train_x,train_y),(test_x,test_y)=fashion_mnist.load_data()\n",
        "num_classes = 10\n",
        "labels=['T-shirt/top','Trouser','Pullover','Dress','Coat','Sandal','Shirt','Sneaker','Bag','Ankle boot']\n",
        "\n",
        "\n",
        "#performing the train-validation split\n",
        "train_x, val_x, train_y, val_y = train_test_split(train_x, train_y, test_size=0.1, random_state=40)\n",
        "  \n",
        "\n",
        "  \n",
        "#storing the number of points in each set\n",
        "  \n",
        "X_train=np.zeros((len(train_x),784))\n",
        "X_val=np.zeros((len(val_x),784))\n",
        "X_test=np.zeros((len(test_x),784))\n",
        "  \n",
        "# converting the images into grayscale by normalizing\n",
        "for i in range(len(train_x)):\n",
        "  X_train[i]=(copy.deepcopy(train_x[i].flatten()))/255.0 \n",
        "for i in range(len(val_x)):\n",
        "  X_val[i]=(copy.deepcopy(val_x[i].flatten()))/255.0\n",
        "for i in range(len(test_x)):\n",
        "  X_test[i]=(copy.deepcopy(test_x[i].flatten()))/255.0\n",
        "  \n",
        "y_train = np.zeros((train_y.size, 10))\n",
        "y_train[np.arange(train_y.size), train_y] = 1\n",
        "\n",
        "y_val = np.zeros((val_y.size, 10))\n",
        "y_val[np.arange(val_y.size), val_y] = 1\n",
        "\n",
        "y_test = np.zeros((test_y.size, 10))\n",
        "y_test[np.arange(test_y.size), test_y] = 1\n"
      ]
    },
    {
      "cell_type": "code",
      "execution_count": null,
      "metadata": {
        "id": "Qav7xiFGd3-F"
      },
      "outputs": [],
      "source": []
    },
    {
      "cell_type": "code",
      "execution_count": 27,
      "metadata": {
        "id": "2CE-wU16tAGm"
      },
      "outputs": [],
      "source": [
        "def train(X_train=X_train, y_train=y_train, layers=[784,16,10],wandb_log=True, learning_rate = 0.0001, initialization_type = \"random\", activation_function = \"sigmoid\", loss_function = \"cross_entropy\", mini_batch_Size = 32, max_epochs = 5, lambd = 0,optimization_function = momentum_gd):\n",
        "\n",
        "  #Declaring the dictionary with the default hyperparameters\n",
        "  config_defaults = {\n",
        "      'number_hidden_layers': 2,\n",
        "      'number_neurons': 32,\n",
        "      'learning_rate': 0.001,\n",
        "      'initialization_type': \"xavier\",\n",
        "      'activation_function':'sigmoid',\n",
        "      'mini_batch_size' : 64,\n",
        "      'max_epochs': 5,\n",
        "      'lambd': 0,\n",
        "      'optimization_function': \"nadam\",\n",
        "      'loss_function' : \"cross_entropy\"\n",
        "  }\n",
        "\n",
        "  # Initializing the wandb run\n",
        "  wandb.init(config=config_defaults)\n",
        "  config = wandb.config\n",
        "\n",
        "\n",
        "  # Constructing the layers i.e., the architecture of our neural network\n",
        "  layers = [784]\n",
        "  for i in range(config.number_hidden_layers):\n",
        "    layers = layers + [config.number_neurons]\n",
        "  layers  = layers + [10]\n",
        "\n",
        "  #Collecting all the hyperparameters from the wandb run\n",
        "  learning_rate = config.learning_rate\n",
        "  initialization_type = config.initialization_type\n",
        "  activation_function = config.activation_function\n",
        "  loss_function = config.loss_function\n",
        "  mini_batch_size = config.mini_batch_size\n",
        "  max_epochs = config.max_epochs\n",
        "  lambd = config.lambd\n",
        "  opt_fun = config.optimization_function\n",
        "  hidden_layers=config.number_hidden_layers\n",
        "\n",
        "  #Calling the respective hyperparameters\n",
        "  if opt_fun == \"adam\":\n",
        "    optimization_function = adam\n",
        "  elif opt_fun == \"nadam\":\n",
        "    optimization_function = nadam\n",
        "  elif opt_fun == \"stochastic_gd\":\n",
        "    optimization_function = stochastic_gd\n",
        "  elif opt_fun == \"momentum_gd\":\n",
        "    optimization_function = momentum_gd\n",
        "  elif opt_fun == \"nesterov-acc_gd\":\n",
        "    optimization_function = nesterovacc_gd\n",
        "  elif opt_fun == \"rmsprop\":\n",
        "    optimization_function = rmsprop\n",
        "  else:\n",
        "    print(\"Wrong optimization function\")\n",
        "    exit()\n",
        "\n",
        "\n",
        "  name_run = str(hidden_layers) + \"_\" + initialization_type[0] + \"_\" + \\\n",
        "  activation_function[:4] + \"_\" + str(learning_rate) + \"_\" + opt_fun[:4]\n",
        "\n",
        "  wandb.run.name = name_run\n",
        "  wandb_log=True\n",
        "  \n",
        "  w=weights(layers)\n",
        "  parameters = w.weight_init(init_type = initialization_type)\n",
        "  parameters, train_acc, val_acc = gradient_descent(X_train, y_train,learning_rate, max_epochs, layers, mini_batch_Size, lambd, loss_function, activation_function, parameters,optimization_function,wandb_log)\n",
        "  \n",
        "  print(\"Training Accuracy:\",train_acc[-1])\n",
        "  print(\"Validation Accuracy:\",val_acc[-1])\n",
        "  \n",
        "  wandb.run.save()\n",
        "  wandb.run.finish()"
      ]
    },
    {
      "cell_type": "code",
      "execution_count": null,
      "metadata": {
        "id": "Gj38cdrrEMYx"
      },
      "outputs": [],
      "source": [
        "# layers=[784,32,10]\n",
        "# wandb.init(entity_name,project_name)\n",
        "# wandb_log=True\n",
        "# train(X_train, y_train, layers,wandb_log)"
      ]
    },
    {
      "cell_type": "code",
      "execution_count": null,
      "metadata": {
        "id": "C1k4ufNRtHHt"
      },
      "outputs": [],
      "source": [
        "def do_sweep(entity_name,project_name):\n",
        "\n",
        "  #Using bayes method for hyperparameter sweeps to curb the unnecessary configurations\n",
        "  hyperparameters = {\n",
        "      \"learning_rate\":{\n",
        "        'values': [0.001, 0.0001]\n",
        "      },\n",
        "\n",
        "      \"number_hidden_layers\": {\n",
        "          'values' : [3, 4, 5]\n",
        "      },\n",
        "\n",
        "      \"number_neurons\": {\n",
        "        'values': [32, 64, 128]\n",
        "      },\n",
        "\n",
        "      \"initialization_type\": {\n",
        "          'values' : [\"xavier\", \"random\"]\n",
        "      },\n",
        "\n",
        "      \"activation_function\": {\n",
        "          'values': [\"sigmoid\", \"tanh\", \"relu\"]\n",
        "      },\n",
        "\n",
        "      \"mini_batch_size\": {\n",
        "          'values': [16,32,64]\n",
        "      },\n",
        "\n",
        "      \"max_epochs\": {\n",
        "          'values': [5, 10]\n",
        "      },\n",
        "\n",
        "      \"lambd\": {\n",
        "          'values': [0, 0.0005, 0.5]\n",
        "      },\n",
        "\n",
        "      \"optimization_function\": {\n",
        "          'values': [\"stochastic_gd\",\"momentum_gd\",\"rmsprop\",\"adam\",\"nadam\"]\n",
        "      }\n",
        "\n",
        "  }\n",
        "\n",
        "\n",
        "  #Using bayes method for hyperparameter sweeps to curb the unnecessary configurations\n",
        "  sweep_config = {\n",
        "      'method' : 'bayes',\n",
        "      'metric' :{\n",
        "          'name': 'Validation_Accuracy',\n",
        "          'goal': 'maximize'\n",
        "      },\n",
        "      'parameters': hyperparameters\n",
        "  }\n",
        "\n",
        "  sweep_id = wandb.sweep(sweep_config, entity=entity_name, project=project_name)\n",
        "  wandb.agent(sweep_id, train)"
      ]
    },
    {
      "cell_type": "code",
      "execution_count": null,
      "metadata": {
        "colab": {
          "background_save": true,
          "base_uri": "https://localhost:8080/",
          "height": 1000,
          "referenced_widgets": [
            "51735ca4d82d4931af21d387548f2d6e",
            "52c83042d26f469390e6acf1965c9aac",
            "3e48eb341e7b43a295f11246db89e3e9",
            "467c188da55a4ccb98ace5f7c6dee1bd",
            "ba97076f176f4b67bab5de7158fc8a79",
            "e0b503c678694763956074fb8faece20",
            "4da966b7f4fd42d4a3774be18f05c512",
            "8ed1b178ae4e4bb291cce26783ab2441",
            "3d4c6dea17c946eb8168166d3cdabe15",
            "fbf428516b284ef0aa0022913f528c23",
            "5bcdba58e2614096b83457a66f197740",
            "440ac34a89bb402e94f3f5d8f1bd9d1d",
            "b2f648641fa648b1b90628eb74ff30d8",
            "f4c74624f8e64b7fa817670a351bf019",
            "c5251ce70bc549ccb80e9390302bd19b",
            "cf46664ebefc493eaa3becfcacb95d59",
            "db73c6a8241d44c991e9646725c2743a",
            "14886a653c6049b294a061a30657edf8",
            "44ee01514cf94c578d9a5abbef58fe3b",
            "34912db556e543068db5e31414377b67",
            "e0eedfdc4f45428889c91ce03a939d34",
            "6d51a6692029476485c7f83a9abd2b2c",
            "a373798bfc784245ba3a6f3313ede087",
            "872bea72f8154c80b143855ac9523427",
            "55eda2ad4bcd409297fb7c597f984109",
            "e67ddc6ac75847a18f7bad863e074acb",
            "359e7f52079d4ae8af3cdd358aa8127a",
            "a53b002f54f84e199d74b94842d3561e",
            "26ac1f2cc815402ab0c701afd42ba592",
            "6cfd2c29b90a4e92b539ae64fb9d441b",
            "74c5c8bacfab4daaa96bc7830faae3e5",
            "1394c8df20c34de2a4d1c5a86ee2a4fa",
            "7bca4a59931242c2af4483dcd6ef7b8e",
            "fd4128b667fd4401bb99cb2d2c70d76b",
            "c0895ee787e7438cbba872d83b66efa0",
            "2bbabe7ff04d400281652831596a7147",
            "5736781f51ed4c8196ed860267af679c",
            "132f746ff64a4d118e7d444a8771bcca",
            "71049f65e40e4bfcb16b989137575db7",
            "d6ce1e30020f4bd5b2388c7c872e9196",
            "60a1f9bf4ab949759f8b238ac8503705",
            "41f8c08a5fc74fdcabe15af6e6293e5f",
            "e619758058184a06a098586b6f3500e7",
            "48f35278fa9747caa99be71fc563887e",
            "b3c584c8b3ad4bc5a3a315d01ea1336f",
            "76d40e4b7743467b9d462df6e4a3e096",
            "5802e096347d4024b184389bcb518f5b",
            "1d9debedf807470fb98b7905f63a1af8",
            "845eb7e80a40450784ec98462bb11425",
            "1fdf5f343684492385a36496a6aee287",
            "820f863592b14e9d8432791e91d5740f",
            "aecee6cc6e6048eeaccb56bce9e4c9cd",
            "3ec4bfd17516406495c8905ce95b8d20",
            "ba02e7809c8c4b7f89eb2485be7f33bd",
            "2a375e21a70544238247ba1cc032f6d9",
            "53c2ca7225a7474dba57a81baa0186d8",
            "a46de18e0a5648adaa2c0eb3dd2a3b5d",
            "0c18826149be4bd6834ef340cd902ad0",
            "14fd9f7bebd74b46a50138aac7ea293e",
            "2c17addc8d7245b280ed4f631aba56ae",
            "4e5e5d49d4234320b1390ab1cc90cfb6",
            "49332b7757b740a184df6b7c1ed8a79d",
            "26647d5cf6fb4eeb888162f70b872efb",
            "03098a34918749e19482cce4e4012ac6",
            "94847308bdda4f8da17e0188544ec24d",
            "53ef89f250384be784cfb756235832ac",
            "4f6b3685fbf34787b6586c4bdb156934",
            "d0e6a90cd1794c67a2f300511192b887",
            "85970d8ae80d41ff95b43b3c3e402a11",
            "3397aa5788f44a778426600118aec3c9",
            "7d75f5bd0e6e4c81abe514ad6b59abc7",
            "e4871dd9ddae430b999f7b1dfba5036c",
            "5db05d250c8947c1894eb425ee0176e7",
            "c00697d0112c48619e1168bf37c0b159",
            "5193d3732cc0491090481a4fdc86378c",
            "d2dc28fecb9d49b1ac6a88137c9b3c9b",
            "8d080fed890b4fe39f896df54d805d38",
            "6438653c37f64c1faa24af2227a3e590",
            "87b016cfbf9143ec93848b0b18f502e2",
            "a781ca3c69a846f3a1e19b599ce427a0",
            "85b063a396124c698a0b25fc54722ec4",
            "12a078bdbfde49678947ecc3be5760ed",
            "22527c1e675e4c58bf52aa7f83588917",
            "53604686be6649369f7267e9b0fd404b",
            "87a23f61defd48e4ae9e2ade315cace6",
            "a79ea8fb3f37413a8a07e0e7d13c46cb",
            "e356e08bb7294da3b96148227997caa4",
            "86a7bf4296ed46ac9cb7d3d83337c82d",
            "9f4cd485847f4e41b28bfde723d1edbf",
            "03ca2c567f3140e1abc4867ce282f32f",
            "1be474b0fe704998be3b5656cbf7d45c",
            "53ffe26771b344e69c0cb6af2a537356",
            "f861244c54df487bb27eeb7033eea4d8",
            "84d45c8cf35042239f02612fc0c25abb",
            "4a08f43cf6eb4829967d5cf40b608f94",
            "79a07df513a84c449dc74cb882d07769",
            "427985ab744846808cc2f5c4d88a4521",
            "b474ade21f904618b6cdbf4769c16f2b",
            "0155c7c883974e9088bde1760379f650",
            "cbb983080bb040999c5f2b363573e72e",
            "75739a42fd32446bacb2806410480c4d",
            "fc84151b530d4ddd9f97b7f683021590",
            "7a88a8c5abc942a8a1a4ec4b2ba240f3",
            "cdd3afc849a542e096067a37b5e073e4",
            "93d018f0364a44b09f1fddd40173c126",
            "3ad4350e0d8642849fffb9018db3d8eb",
            "e198c14489f44134a3d56ea0b60d73c0",
            "a94e951a47f9404889c7cb7814d97297",
            "f312426da7954951abe5d348c323d797",
            "00fa55f42a2b4620a6dadda962a89784",
            "ecc1bebce5f44833975fab45e6b0e1a0",
            "a6e0bcf8b85a4046bc520c10eccaf84d",
            "6895672d681c4705a0add2b90473f01e",
            "9bb5fca60a2545c2b96947b3d25eb87e",
            "95c9bd274967437ab93b4bf76e075aab",
            "40636c8eb80f4362bb3989f6704ba68f",
            "13ebeb79bfd348629c429a75450849bc",
            "e9bf331b31044912997e974c439dc3f8",
            "f769ce085e484c77a813947635332c47",
            "b80347a88c5c4fa7abd2c2f3914b8b32",
            "e3b468b950f945bf9ce7229b5b6a1a86",
            "518fe9ef67b24ca59fce073b7d7f4a72",
            "d8bc2ac9cab64e39a0f8d108622ba1c0",
            "7f176aa743d64815a958120472cf2295",
            "01c96351d6a4416abf53ee22dac765d2",
            "cf37ebb27ff64fe79a5592cd7863bb37",
            "6f65401d6e1d4f4dbfb1308df3d18d1b",
            "e0199511cd2a4fc196120294159ae68d",
            "85f86cce8a024843a541e45841e25756",
            "39d47408258444b19053c884ec41ddd3",
            "6b2af111ceb7450d90c3b65b0c3f3e89",
            "e635421ad67144ba9c230eb44ff47ea3",
            "bdcd3debca6148c58713a827e35b69bc",
            "b915ea554c154960b5c9e5e53ea67fe9",
            "09036043b09e4128b04e0a026ac6219e",
            "e762d8ccb4bb418da7f6b613cddf2498",
            "e149ce486a7f47f6838a4e1b0b395974",
            "bed96e8f19e144dbaac588f52a87a254",
            "6689da83376346a7831c62d4968f6d4b",
            "a9838736cf4f4478acd2ef818e423cdd",
            "263c91bab25749ab8beab90b10e529af",
            "e7135f2ef0ae4c828f7a5b7d668fd6cb",
            "1bbd44b8b1084f34850d932b241f8c0c",
            "2577edc867f24685be7d2435c2924bef",
            "89b6742c29244c6f941f10216b97b309",
            "0f78d4cff466457a8b97e13e02774169",
            "3edb443aceba4128b71b35acc7bf28b4",
            "5be7f940d02e4a4e80125cb673663ac5",
            "fc82c748da7644e280619814050bc987",
            "fb32f48505704ae3b596dc364a59432f",
            "a463c6e7c477452abcbed0b62c77321c",
            "27b99656bcc7408b98de715338f3605e",
            "8de727ab51824a4d899a4fe9f1207e44",
            "e9fdd758ae334a5587c73fcb93910f47",
            "5313e8ccda2e4a408829d4e63786fb6a",
            "80aa02b8818c4359ad8db58b9d468dd2",
            "b9856d0bd7a04a0ca2a80c9c1c7b41f8",
            "976206fa06824297b62e513e8bc71e94",
            "e25fd494df664836b317f961a54de313",
            "1380b84fd6964bd794c4beeb2501662d",
            "fbb2e5b646834121804cf9f8cdd18fe5",
            "a3bc02c3b6304fc2ba8ca99a235b8bb3",
            "d6e20300d7e248d7846fdd7bad54b434",
            "a99f169f039c4450ae0115313a961b36",
            "df25e4240d694f40a037c621880924a9",
            "823b059324764b3a9e8d58b9c1d1de01",
            "d3ccfab86130421abe99c471cde58299",
            "b3822e4f7e1b465cb6979078d444517a",
            "a269a1e2ee25464ca879357954263b5b",
            "0587dc1aeb7f4ac18e5e5c23ea9f084d",
            "320acd27a2ba496fb635a0ac2dea850d",
            "6c11bf6a5aa14385a9f35432a8dc26ad"
          ]
        },
        "id": "jows10uAtPGK",
        "outputId": "716c4d2a-baa3-4abb-f718-0858d327de48"
      },
      "outputs": [
        {
          "name": "stdout",
          "output_type": "stream",
          "text": [
            "Create sweep with ID: pqng4xvs\n",
            "Sweep URL: https://wandb.ai/siddharth-s/FODL_Assignment_1/sweeps/pqng4xvs\n"
          ]
        },
        {
          "name": "stderr",
          "output_type": "stream",
          "text": [
            "\u001b[34m\u001b[1mwandb\u001b[0m: Agent Starting Run: 8ildkjcy with config:\n",
            "\u001b[34m\u001b[1mwandb\u001b[0m: \tactivation_function: relu\n",
            "\u001b[34m\u001b[1mwandb\u001b[0m: \tinitialization_type: xavier\n",
            "\u001b[34m\u001b[1mwandb\u001b[0m: \tlambd: 0.5\n",
            "\u001b[34m\u001b[1mwandb\u001b[0m: \tlearning_rate: 0.0001\n",
            "\u001b[34m\u001b[1mwandb\u001b[0m: \tmax_epochs: 10\n",
            "\u001b[34m\u001b[1mwandb\u001b[0m: \tmini_batch_size: 16\n",
            "\u001b[34m\u001b[1mwandb\u001b[0m: \tnumber_hidden_layers: 3\n",
            "\u001b[34m\u001b[1mwandb\u001b[0m: \tnumber_neurons: 64\n",
            "\u001b[34m\u001b[1mwandb\u001b[0m: \toptimization_function: adam\n",
            "\u001b[34m\u001b[1mwandb\u001b[0m: Currently logged in as: \u001b[33mna20b064\u001b[0m (\u001b[33msiddharth-s\u001b[0m). Use \u001b[1m`wandb login --relogin`\u001b[0m to force relogin\n"
          ]
        },
        {
          "data": {
            "text/html": [
              "Tracking run with wandb version 0.14.0"
            ],
            "text/plain": [
              "<IPython.core.display.HTML object>"
            ]
          },
          "metadata": {},
          "output_type": "display_data"
        },
        {
          "data": {
            "text/html": [
              "Run data is saved locally in <code>/content/wandb/run-20230318_195740-8ildkjcy</code>"
            ],
            "text/plain": [
              "<IPython.core.display.HTML object>"
            ]
          },
          "metadata": {},
          "output_type": "display_data"
        },
        {
          "data": {
            "text/html": [
              "Syncing run <strong><a href='https://wandb.ai/siddharth-s/FODL_Assignment_1/runs/8ildkjcy' target=\"_blank\">brisk-sweep-1</a></strong> to <a href='https://wandb.ai/siddharth-s/FODL_Assignment_1' target=\"_blank\">Weights & Biases</a> (<a href='https://wandb.me/run' target=\"_blank\">docs</a>)<br/>Sweep page: <a href='https://wandb.ai/siddharth-s/FODL_Assignment_1/sweeps/pqng4xvs' target=\"_blank\">https://wandb.ai/siddharth-s/FODL_Assignment_1/sweeps/pqng4xvs</a>"
            ],
            "text/plain": [
              "<IPython.core.display.HTML object>"
            ]
          },
          "metadata": {},
          "output_type": "display_data"
        },
        {
          "data": {
            "text/html": [
              " View project at <a href='https://wandb.ai/siddharth-s/FODL_Assignment_1' target=\"_blank\">https://wandb.ai/siddharth-s/FODL_Assignment_1</a>"
            ],
            "text/plain": [
              "<IPython.core.display.HTML object>"
            ]
          },
          "metadata": {},
          "output_type": "display_data"
        },
        {
          "data": {
            "text/html": [
              " View sweep at <a href='https://wandb.ai/siddharth-s/FODL_Assignment_1/sweeps/pqng4xvs' target=\"_blank\">https://wandb.ai/siddharth-s/FODL_Assignment_1/sweeps/pqng4xvs</a>"
            ],
            "text/plain": [
              "<IPython.core.display.HTML object>"
            ]
          },
          "metadata": {},
          "output_type": "display_data"
        },
        {
          "data": {
            "text/html": [
              " View run at <a href='https://wandb.ai/siddharth-s/FODL_Assignment_1/runs/8ildkjcy' target=\"_blank\">https://wandb.ai/siddharth-s/FODL_Assignment_1/runs/8ildkjcy</a>"
            ],
            "text/plain": [
              "<IPython.core.display.HTML object>"
            ]
          },
          "metadata": {},
          "output_type": "display_data"
        },
        {
          "name": "stderr",
          "output_type": "stream",
          "text": [
            "100%|██████████| 10/10 [05:52<00:00, 35.24s/it]\n",
            "\u001b[34m\u001b[1mwandb\u001b[0m: \u001b[33mWARNING\u001b[0m Calling wandb.run.save without any arguments is deprecated.Changes to attributes are automatically persisted.\n"
          ]
        },
        {
          "name": "stdout",
          "output_type": "stream",
          "text": [
            "Training Accuracy: 84.85555555555555\n",
            "Validation Accuracy: 84.43333333333334\n"
          ]
        },
        {
          "data": {
            "text/html": [
              "Waiting for W&B process to finish... <strong style=\"color:green\">(success).</strong>"
            ],
            "text/plain": [
              "<IPython.core.display.HTML object>"
            ]
          },
          "metadata": {},
          "output_type": "display_data"
        },
        {
          "data": {
            "text/html": [
              "<style>\n",
              "    table.wandb td:nth-child(1) { padding: 0 10px; text-align: left ; width: auto;} td:nth-child(2) {text-align: left ; width: 100%}\n",
              "    .wandb-row { display: flex; flex-direction: row; flex-wrap: wrap; justify-content: flex-start; width: 100% }\n",
              "    .wandb-col { display: flex; flex-direction: column; flex-basis: 100%; flex: 1; padding: 10px; }\n",
              "    </style>\n",
              "<div class=\"wandb-row\"><div class=\"wandb-col\"><h3>Run history:</h3><br/><table class=\"wandb\"><tr><td>Train_Accuracy</td><td>▁▄▆▇▇▇▇███</td></tr><tr><td>Train_Loss</td><td>▁▁▁▂▃▄▅▆▇█</td></tr><tr><td>Validation_Accuracy</td><td>▁▃▆▆▆▇▇▇██</td></tr><tr><td>Validation_loss</td><td>▁▁▂▃▄▄▅▆▇█</td></tr><tr><td>epoch</td><td>▁▂▃▃▄▅▆▆▇█</td></tr></table><br/></div><div class=\"wandb-col\"><h3>Run summary:</h3><br/><table class=\"wandb\"><tr><td>Train_Accuracy</td><td>84.85556</td></tr><tr><td>Train_Loss</td><td>1.06951</td></tr><tr><td>Validation_Accuracy</td><td>84.43333</td></tr><tr><td>Validation_loss</td><td>5.57614</td></tr><tr><td>epoch</td><td>9</td></tr></table><br/></div></div>"
            ],
            "text/plain": [
              "<IPython.core.display.HTML object>"
            ]
          },
          "metadata": {},
          "output_type": "display_data"
        },
        {
          "data": {
            "text/html": [
              " View run <strong style=\"color:#cdcd00\">brisk-sweep-1</strong> at: <a href='https://wandb.ai/siddharth-s/FODL_Assignment_1/runs/8ildkjcy' target=\"_blank\">https://wandb.ai/siddharth-s/FODL_Assignment_1/runs/8ildkjcy</a><br/>Synced 5 W&B file(s), 0 media file(s), 0 artifact file(s) and 0 other file(s)"
            ],
            "text/plain": [
              "<IPython.core.display.HTML object>"
            ]
          },
          "metadata": {},
          "output_type": "display_data"
        },
        {
          "data": {
            "text/html": [
              "Find logs at: <code>./wandb/run-20230318_195740-8ildkjcy/logs</code>"
            ],
            "text/plain": [
              "<IPython.core.display.HTML object>"
            ]
          },
          "metadata": {},
          "output_type": "display_data"
        },
        {
          "name": "stderr",
          "output_type": "stream",
          "text": [
            "\u001b[34m\u001b[1mwandb\u001b[0m: Agent Starting Run: gr84ekrp with config:\n",
            "\u001b[34m\u001b[1mwandb\u001b[0m: \tactivation_function: tanh\n",
            "\u001b[34m\u001b[1mwandb\u001b[0m: \tinitialization_type: random\n",
            "\u001b[34m\u001b[1mwandb\u001b[0m: \tlambd: 0.0005\n",
            "\u001b[34m\u001b[1mwandb\u001b[0m: \tlearning_rate: 0.0001\n",
            "\u001b[34m\u001b[1mwandb\u001b[0m: \tmax_epochs: 10\n",
            "\u001b[34m\u001b[1mwandb\u001b[0m: \tmini_batch_size: 32\n",
            "\u001b[34m\u001b[1mwandb\u001b[0m: \tnumber_hidden_layers: 3\n",
            "\u001b[34m\u001b[1mwandb\u001b[0m: \tnumber_neurons: 64\n",
            "\u001b[34m\u001b[1mwandb\u001b[0m: \toptimization_function: adam\n"
          ]
        },
        {
          "data": {
            "text/html": [
              "Tracking run with wandb version 0.14.0"
            ],
            "text/plain": [
              "<IPython.core.display.HTML object>"
            ]
          },
          "metadata": {},
          "output_type": "display_data"
        },
        {
          "data": {
            "text/html": [
              "Run data is saved locally in <code>/content/wandb/run-20230318_200347-gr84ekrp</code>"
            ],
            "text/plain": [
              "<IPython.core.display.HTML object>"
            ]
          },
          "metadata": {},
          "output_type": "display_data"
        },
        {
          "data": {
            "text/html": [
              "Syncing run <strong><a href='https://wandb.ai/siddharth-s/FODL_Assignment_1/runs/gr84ekrp' target=\"_blank\">silvery-sweep-2</a></strong> to <a href='https://wandb.ai/siddharth-s/FODL_Assignment_1' target=\"_blank\">Weights & Biases</a> (<a href='https://wandb.me/run' target=\"_blank\">docs</a>)<br/>Sweep page: <a href='https://wandb.ai/siddharth-s/FODL_Assignment_1/sweeps/pqng4xvs' target=\"_blank\">https://wandb.ai/siddharth-s/FODL_Assignment_1/sweeps/pqng4xvs</a>"
            ],
            "text/plain": [
              "<IPython.core.display.HTML object>"
            ]
          },
          "metadata": {},
          "output_type": "display_data"
        },
        {
          "data": {
            "text/html": [
              " View project at <a href='https://wandb.ai/siddharth-s/FODL_Assignment_1' target=\"_blank\">https://wandb.ai/siddharth-s/FODL_Assignment_1</a>"
            ],
            "text/plain": [
              "<IPython.core.display.HTML object>"
            ]
          },
          "metadata": {},
          "output_type": "display_data"
        },
        {
          "data": {
            "text/html": [
              " View sweep at <a href='https://wandb.ai/siddharth-s/FODL_Assignment_1/sweeps/pqng4xvs' target=\"_blank\">https://wandb.ai/siddharth-s/FODL_Assignment_1/sweeps/pqng4xvs</a>"
            ],
            "text/plain": [
              "<IPython.core.display.HTML object>"
            ]
          },
          "metadata": {},
          "output_type": "display_data"
        },
        {
          "data": {
            "text/html": [
              " View run at <a href='https://wandb.ai/siddharth-s/FODL_Assignment_1/runs/gr84ekrp' target=\"_blank\">https://wandb.ai/siddharth-s/FODL_Assignment_1/runs/gr84ekrp</a>"
            ],
            "text/plain": [
              "<IPython.core.display.HTML object>"
            ]
          },
          "metadata": {},
          "output_type": "display_data"
        },
        {
          "name": "stderr",
          "output_type": "stream",
          "text": [
            "100%|██████████| 10/10 [05:48<00:00, 34.85s/it]"
          ]
        },
        {
          "name": "stdout",
          "output_type": "stream",
          "text": [
            "Training Accuracy: 76.33148148148148\n",
            "Validation Accuracy: 76.18333333333334\n"
          ]
        },
        {
          "name": "stderr",
          "output_type": "stream",
          "text": [
            "\n"
          ]
        },
        {
          "data": {
            "text/html": [
              "Waiting for W&B process to finish... <strong style=\"color:green\">(success).</strong>"
            ],
            "text/plain": [
              "<IPython.core.display.HTML object>"
            ]
          },
          "metadata": {},
          "output_type": "display_data"
        },
        {
          "data": {
            "text/html": [
              "<style>\n",
              "    table.wandb td:nth-child(1) { padding: 0 10px; text-align: left ; width: auto;} td:nth-child(2) {text-align: left ; width: 100%}\n",
              "    .wandb-row { display: flex; flex-direction: row; flex-wrap: wrap; justify-content: flex-start; width: 100% }\n",
              "    .wandb-col { display: flex; flex-direction: column; flex-basis: 100%; flex: 1; padding: 10px; }\n",
              "    </style>\n",
              "<div class=\"wandb-row\"><div class=\"wandb-col\"><h3>Run history:</h3><br/><table class=\"wandb\"><tr><td>Train_Accuracy</td><td>▁▁▂▃▄▅▇▇▇█</td></tr><tr><td>Train_Loss</td><td>█▆▆▅▅▄▃▂▂▁</td></tr><tr><td>Validation_Accuracy</td><td>▁▁▂▃▄▅▇▇▇█</td></tr><tr><td>Validation_loss</td><td>█▆▆▅▅▄▃▂▂▁</td></tr><tr><td>epoch</td><td>▁▂▃▃▄▅▆▆▇█</td></tr></table><br/></div><div class=\"wandb-col\"><h3>Run summary:</h3><br/><table class=\"wandb\"><tr><td>Train_Accuracy</td><td>76.33148</td></tr><tr><td>Train_Loss</td><td>0.71516</td></tr><tr><td>Validation_Accuracy</td><td>76.18333</td></tr><tr><td>Validation_loss</td><td>0.72441</td></tr><tr><td>epoch</td><td>9</td></tr></table><br/></div></div>"
            ],
            "text/plain": [
              "<IPython.core.display.HTML object>"
            ]
          },
          "metadata": {},
          "output_type": "display_data"
        },
        {
          "data": {
            "text/html": [
              " View run <strong style=\"color:#cdcd00\">silvery-sweep-2</strong> at: <a href='https://wandb.ai/siddharth-s/FODL_Assignment_1/runs/gr84ekrp' target=\"_blank\">https://wandb.ai/siddharth-s/FODL_Assignment_1/runs/gr84ekrp</a><br/>Synced 5 W&B file(s), 0 media file(s), 0 artifact file(s) and 0 other file(s)"
            ],
            "text/plain": [
              "<IPython.core.display.HTML object>"
            ]
          },
          "metadata": {},
          "output_type": "display_data"
        },
        {
          "data": {
            "text/html": [
              "Find logs at: <code>./wandb/run-20230318_200347-gr84ekrp/logs</code>"
            ],
            "text/plain": [
              "<IPython.core.display.HTML object>"
            ]
          },
          "metadata": {},
          "output_type": "display_data"
        },
        {
          "name": "stderr",
          "output_type": "stream",
          "text": [
            "\u001b[34m\u001b[1mwandb\u001b[0m: Agent Starting Run: kw32d8w4 with config:\n",
            "\u001b[34m\u001b[1mwandb\u001b[0m: \tactivation_function: sigmoid\n",
            "\u001b[34m\u001b[1mwandb\u001b[0m: \tinitialization_type: random\n",
            "\u001b[34m\u001b[1mwandb\u001b[0m: \tlambd: 0.5\n",
            "\u001b[34m\u001b[1mwandb\u001b[0m: \tlearning_rate: 0.001\n",
            "\u001b[34m\u001b[1mwandb\u001b[0m: \tmax_epochs: 5\n",
            "\u001b[34m\u001b[1mwandb\u001b[0m: \tmini_batch_size: 16\n",
            "\u001b[34m\u001b[1mwandb\u001b[0m: \tnumber_hidden_layers: 5\n",
            "\u001b[34m\u001b[1mwandb\u001b[0m: \tnumber_neurons: 128\n",
            "\u001b[34m\u001b[1mwandb\u001b[0m: \toptimization_function: adam\n"
          ]
        },
        {
          "data": {
            "text/html": [
              "Tracking run with wandb version 0.14.0"
            ],
            "text/plain": [
              "<IPython.core.display.HTML object>"
            ]
          },
          "metadata": {},
          "output_type": "display_data"
        },
        {
          "data": {
            "text/html": [
              "Run data is saved locally in <code>/content/wandb/run-20230318_200949-kw32d8w4</code>"
            ],
            "text/plain": [
              "<IPython.core.display.HTML object>"
            ]
          },
          "metadata": {},
          "output_type": "display_data"
        },
        {
          "data": {
            "text/html": [
              "Syncing run <strong><a href='https://wandb.ai/siddharth-s/FODL_Assignment_1/runs/kw32d8w4' target=\"_blank\">astral-sweep-3</a></strong> to <a href='https://wandb.ai/siddharth-s/FODL_Assignment_1' target=\"_blank\">Weights & Biases</a> (<a href='https://wandb.me/run' target=\"_blank\">docs</a>)<br/>Sweep page: <a href='https://wandb.ai/siddharth-s/FODL_Assignment_1/sweeps/pqng4xvs' target=\"_blank\">https://wandb.ai/siddharth-s/FODL_Assignment_1/sweeps/pqng4xvs</a>"
            ],
            "text/plain": [
              "<IPython.core.display.HTML object>"
            ]
          },
          "metadata": {},
          "output_type": "display_data"
        },
        {
          "data": {
            "text/html": [
              " View project at <a href='https://wandb.ai/siddharth-s/FODL_Assignment_1' target=\"_blank\">https://wandb.ai/siddharth-s/FODL_Assignment_1</a>"
            ],
            "text/plain": [
              "<IPython.core.display.HTML object>"
            ]
          },
          "metadata": {},
          "output_type": "display_data"
        },
        {
          "data": {
            "text/html": [
              " View sweep at <a href='https://wandb.ai/siddharth-s/FODL_Assignment_1/sweeps/pqng4xvs' target=\"_blank\">https://wandb.ai/siddharth-s/FODL_Assignment_1/sweeps/pqng4xvs</a>"
            ],
            "text/plain": [
              "<IPython.core.display.HTML object>"
            ]
          },
          "metadata": {},
          "output_type": "display_data"
        },
        {
          "data": {
            "text/html": [
              " View run at <a href='https://wandb.ai/siddharth-s/FODL_Assignment_1/runs/kw32d8w4' target=\"_blank\">https://wandb.ai/siddharth-s/FODL_Assignment_1/runs/kw32d8w4</a>"
            ],
            "text/plain": [
              "<IPython.core.display.HTML object>"
            ]
          },
          "metadata": {},
          "output_type": "display_data"
        },
        {
          "name": "stderr",
          "output_type": "stream",
          "text": [
            "100%|██████████| 5/5 [06:59<00:00, 83.92s/it]"
          ]
        },
        {
          "name": "stdout",
          "output_type": "stream",
          "text": [
            "Training Accuracy: 31.792592592592595\n",
            "Validation Accuracy: 32.05\n"
          ]
        },
        {
          "name": "stderr",
          "output_type": "stream",
          "text": [
            "\n"
          ]
        },
        {
          "data": {
            "text/html": [
              "Waiting for W&B process to finish... <strong style=\"color:green\">(success).</strong>"
            ],
            "text/plain": [
              "<IPython.core.display.HTML object>"
            ]
          },
          "metadata": {},
          "output_type": "display_data"
        },
        {
          "data": {
            "text/html": [
              "<style>\n",
              "    table.wandb td:nth-child(1) { padding: 0 10px; text-align: left ; width: auto;} td:nth-child(2) {text-align: left ; width: 100%}\n",
              "    .wandb-row { display: flex; flex-direction: row; flex-wrap: wrap; justify-content: flex-start; width: 100% }\n",
              "    .wandb-col { display: flex; flex-direction: column; flex-basis: 100%; flex: 1; padding: 10px; }\n",
              "    </style>\n",
              "<div class=\"wandb-row\"><div class=\"wandb-col\"><h3>Run history:</h3><br/><table class=\"wandb\"><tr><td>Train_Accuracy</td><td>▁▁▄▇█</td></tr><tr><td>Train_Loss</td><td>▂▁▆▇█</td></tr><tr><td>Validation_Accuracy</td><td>▁▁▄▇█</td></tr><tr><td>Validation_loss</td><td>▂▁▆▇█</td></tr><tr><td>epoch</td><td>▁▃▅▆█</td></tr></table><br/></div><div class=\"wandb-col\"><h3>Run summary:</h3><br/><table class=\"wandb\"><tr><td>Train_Accuracy</td><td>31.79259</td></tr><tr><td>Train_Loss</td><td>50.57872</td></tr><tr><td>Validation_Accuracy</td><td>32.05</td></tr><tr><td>Validation_loss</td><td>442.7938</td></tr><tr><td>epoch</td><td>4</td></tr></table><br/></div></div>"
            ],
            "text/plain": [
              "<IPython.core.display.HTML object>"
            ]
          },
          "metadata": {},
          "output_type": "display_data"
        },
        {
          "data": {
            "text/html": [
              " View run <strong style=\"color:#cdcd00\">astral-sweep-3</strong> at: <a href='https://wandb.ai/siddharth-s/FODL_Assignment_1/runs/kw32d8w4' target=\"_blank\">https://wandb.ai/siddharth-s/FODL_Assignment_1/runs/kw32d8w4</a><br/>Synced 5 W&B file(s), 0 media file(s), 0 artifact file(s) and 0 other file(s)"
            ],
            "text/plain": [
              "<IPython.core.display.HTML object>"
            ]
          },
          "metadata": {},
          "output_type": "display_data"
        },
        {
          "data": {
            "text/html": [
              "Find logs at: <code>./wandb/run-20230318_200949-kw32d8w4/logs</code>"
            ],
            "text/plain": [
              "<IPython.core.display.HTML object>"
            ]
          },
          "metadata": {},
          "output_type": "display_data"
        },
        {
          "name": "stderr",
          "output_type": "stream",
          "text": [
            "\u001b[34m\u001b[1mwandb\u001b[0m: Agent Starting Run: kshfznex with config:\n",
            "\u001b[34m\u001b[1mwandb\u001b[0m: \tactivation_function: relu\n",
            "\u001b[34m\u001b[1mwandb\u001b[0m: \tinitialization_type: random\n",
            "\u001b[34m\u001b[1mwandb\u001b[0m: \tlambd: 0.5\n",
            "\u001b[34m\u001b[1mwandb\u001b[0m: \tlearning_rate: 0.0001\n",
            "\u001b[34m\u001b[1mwandb\u001b[0m: \tmax_epochs: 10\n",
            "\u001b[34m\u001b[1mwandb\u001b[0m: \tmini_batch_size: 32\n",
            "\u001b[34m\u001b[1mwandb\u001b[0m: \tnumber_hidden_layers: 4\n",
            "\u001b[34m\u001b[1mwandb\u001b[0m: \tnumber_neurons: 128\n",
            "\u001b[34m\u001b[1mwandb\u001b[0m: \toptimization_function: rmsprop\n"
          ]
        },
        {
          "data": {
            "text/html": [
              "Tracking run with wandb version 0.14.0"
            ],
            "text/plain": [
              "<IPython.core.display.HTML object>"
            ]
          },
          "metadata": {},
          "output_type": "display_data"
        },
        {
          "data": {
            "text/html": [
              "Run data is saved locally in <code>/content/wandb/run-20230318_201704-kshfznex</code>"
            ],
            "text/plain": [
              "<IPython.core.display.HTML object>"
            ]
          },
          "metadata": {},
          "output_type": "display_data"
        },
        {
          "data": {
            "text/html": [
              "Syncing run <strong><a href='https://wandb.ai/siddharth-s/FODL_Assignment_1/runs/kshfznex' target=\"_blank\">twilight-sweep-4</a></strong> to <a href='https://wandb.ai/siddharth-s/FODL_Assignment_1' target=\"_blank\">Weights & Biases</a> (<a href='https://wandb.me/run' target=\"_blank\">docs</a>)<br/>Sweep page: <a href='https://wandb.ai/siddharth-s/FODL_Assignment_1/sweeps/pqng4xvs' target=\"_blank\">https://wandb.ai/siddharth-s/FODL_Assignment_1/sweeps/pqng4xvs</a>"
            ],
            "text/plain": [
              "<IPython.core.display.HTML object>"
            ]
          },
          "metadata": {},
          "output_type": "display_data"
        },
        {
          "data": {
            "text/html": [
              " View project at <a href='https://wandb.ai/siddharth-s/FODL_Assignment_1' target=\"_blank\">https://wandb.ai/siddharth-s/FODL_Assignment_1</a>"
            ],
            "text/plain": [
              "<IPython.core.display.HTML object>"
            ]
          },
          "metadata": {},
          "output_type": "display_data"
        },
        {
          "data": {
            "text/html": [
              " View sweep at <a href='https://wandb.ai/siddharth-s/FODL_Assignment_1/sweeps/pqng4xvs' target=\"_blank\">https://wandb.ai/siddharth-s/FODL_Assignment_1/sweeps/pqng4xvs</a>"
            ],
            "text/plain": [
              "<IPython.core.display.HTML object>"
            ]
          },
          "metadata": {},
          "output_type": "display_data"
        },
        {
          "data": {
            "text/html": [
              " View run at <a href='https://wandb.ai/siddharth-s/FODL_Assignment_1/runs/kshfznex' target=\"_blank\">https://wandb.ai/siddharth-s/FODL_Assignment_1/runs/kshfznex</a>"
            ],
            "text/plain": [
              "<IPython.core.display.HTML object>"
            ]
          },
          "metadata": {},
          "output_type": "display_data"
        },
        {
          "name": "stderr",
          "output_type": "stream",
          "text": [
            " 50%|█████     | 5/10 [05:21<05:20, 64.01s/it]<ipython-input-10-ea8f556ba341>:68: RuntimeWarning: divide by zero encountered in true_divide\n",
            "  grad[\"dh\"+str(len(layers)-1)] = -(y/y_hat)\n",
            "<ipython-input-10-ea8f556ba341>:68: RuntimeWarning: invalid value encountered in true_divide\n",
            "  grad[\"dh\"+str(len(layers)-1)] = -(y/y_hat)\n",
            "<ipython-input-7-40ee5a5ca231>:19: RuntimeWarning: invalid value encountered in true_divide\n",
            "  return(np.exp(a)/np.sum(np.exp(a)))\n",
            "<ipython-input-9-256b09b94798>:6: RuntimeWarning: divide by zero encountered in log\n",
            "  error = - np.sum( np.multiply(y , np.log(y_hat)))/len(y)\n",
            "<ipython-input-9-256b09b94798>:6: RuntimeWarning: invalid value encountered in multiply\n",
            "  error = - np.sum( np.multiply(y , np.log(y_hat)))/len(y)\n",
            "100%|██████████| 10/10 [10:41<00:00, 64.11s/it]"
          ]
        },
        {
          "name": "stdout",
          "output_type": "stream",
          "text": [
            "Training Accuracy: 10.048148148148147\n",
            "Validation Accuracy: 9.566666666666666\n"
          ]
        },
        {
          "name": "stderr",
          "output_type": "stream",
          "text": [
            "\n"
          ]
        },
        {
          "data": {
            "text/html": [
              "Waiting for W&B process to finish... <strong style=\"color:green\">(success).</strong>"
            ],
            "text/plain": [
              "<IPython.core.display.HTML object>"
            ]
          },
          "metadata": {},
          "output_type": "display_data"
        },
        {
          "data": {
            "application/vnd.jupyter.widget-view+json": {
              "model_id": "51735ca4d82d4931af21d387548f2d6e",
              "version_major": 2,
              "version_minor": 0
            },
            "text/plain": [
              "VBox(children=(Label(value='0.001 MB of 0.001 MB uploaded (0.000 MB deduped)\\r'), FloatProgress(value=1.0, max…"
            ]
          },
          "metadata": {},
          "output_type": "display_data"
        },
        {
          "data": {
            "text/html": [
              "<style>\n",
              "    table.wandb td:nth-child(1) { padding: 0 10px; text-align: left ; width: auto;} td:nth-child(2) {text-align: left ; width: 100%}\n",
              "    .wandb-row { display: flex; flex-direction: row; flex-wrap: wrap; justify-content: flex-start; width: 100% }\n",
              "    .wandb-col { display: flex; flex-direction: column; flex-basis: 100%; flex: 1; padding: 10px; }\n",
              "    </style>\n",
              "<div class=\"wandb-row\"><div class=\"wandb-col\"><h3>Run history:</h3><br/><table class=\"wandb\"><tr><td>Train_Accuracy</td><td>▆▆▆██▇▁▁▁▁</td></tr><tr><td>Train_Loss</td><td>▂▃▃▁█     </td></tr><tr><td>Validation_Accuracy</td><td>▆▆▇██▇▁▁▁▁</td></tr><tr><td>Validation_loss</td><td>▁▂▂▁▆█    </td></tr><tr><td>epoch</td><td>▁▂▃▃▄▅▆▆▇█</td></tr></table><br/></div><div class=\"wandb-col\"><h3>Run summary:</h3><br/><table class=\"wandb\"><tr><td>Train_Accuracy</td><td>10.04815</td></tr><tr><td>Train_Loss</td><td>nan</td></tr><tr><td>Validation_Accuracy</td><td>9.56667</td></tr><tr><td>Validation_loss</td><td>nan</td></tr><tr><td>epoch</td><td>9</td></tr></table><br/></div></div>"
            ],
            "text/plain": [
              "<IPython.core.display.HTML object>"
            ]
          },
          "metadata": {},
          "output_type": "display_data"
        },
        {
          "data": {
            "text/html": [
              " View run <strong style=\"color:#cdcd00\">twilight-sweep-4</strong> at: <a href='https://wandb.ai/siddharth-s/FODL_Assignment_1/runs/kshfznex' target=\"_blank\">https://wandb.ai/siddharth-s/FODL_Assignment_1/runs/kshfznex</a><br/>Synced 5 W&B file(s), 0 media file(s), 0 artifact file(s) and 0 other file(s)"
            ],
            "text/plain": [
              "<IPython.core.display.HTML object>"
            ]
          },
          "metadata": {},
          "output_type": "display_data"
        },
        {
          "data": {
            "text/html": [
              "Find logs at: <code>./wandb/run-20230318_201704-kshfznex/logs</code>"
            ],
            "text/plain": [
              "<IPython.core.display.HTML object>"
            ]
          },
          "metadata": {},
          "output_type": "display_data"
        },
        {
          "name": "stderr",
          "output_type": "stream",
          "text": [
            "\u001b[34m\u001b[1mwandb\u001b[0m: Agent Starting Run: rtielfsf with config:\n",
            "\u001b[34m\u001b[1mwandb\u001b[0m: \tactivation_function: tanh\n",
            "\u001b[34m\u001b[1mwandb\u001b[0m: \tinitialization_type: random\n",
            "\u001b[34m\u001b[1mwandb\u001b[0m: \tlambd: 0.0005\n",
            "\u001b[34m\u001b[1mwandb\u001b[0m: \tlearning_rate: 0.001\n",
            "\u001b[34m\u001b[1mwandb\u001b[0m: \tmax_epochs: 10\n",
            "\u001b[34m\u001b[1mwandb\u001b[0m: \tmini_batch_size: 16\n",
            "\u001b[34m\u001b[1mwandb\u001b[0m: \tnumber_hidden_layers: 4\n",
            "\u001b[34m\u001b[1mwandb\u001b[0m: \tnumber_neurons: 32\n",
            "\u001b[34m\u001b[1mwandb\u001b[0m: \toptimization_function: nadam\n"
          ]
        },
        {
          "data": {
            "text/html": [
              "Tracking run with wandb version 0.14.0"
            ],
            "text/plain": [
              "<IPython.core.display.HTML object>"
            ]
          },
          "metadata": {},
          "output_type": "display_data"
        },
        {
          "data": {
            "text/html": [
              "Run data is saved locally in <code>/content/wandb/run-20230318_202757-rtielfsf</code>"
            ],
            "text/plain": [
              "<IPython.core.display.HTML object>"
            ]
          },
          "metadata": {},
          "output_type": "display_data"
        },
        {
          "data": {
            "text/html": [
              "Syncing run <strong><a href='https://wandb.ai/siddharth-s/FODL_Assignment_1/runs/rtielfsf' target=\"_blank\">laced-sweep-5</a></strong> to <a href='https://wandb.ai/siddharth-s/FODL_Assignment_1' target=\"_blank\">Weights & Biases</a> (<a href='https://wandb.me/run' target=\"_blank\">docs</a>)<br/>Sweep page: <a href='https://wandb.ai/siddharth-s/FODL_Assignment_1/sweeps/pqng4xvs' target=\"_blank\">https://wandb.ai/siddharth-s/FODL_Assignment_1/sweeps/pqng4xvs</a>"
            ],
            "text/plain": [
              "<IPython.core.display.HTML object>"
            ]
          },
          "metadata": {},
          "output_type": "display_data"
        },
        {
          "data": {
            "text/html": [
              " View project at <a href='https://wandb.ai/siddharth-s/FODL_Assignment_1' target=\"_blank\">https://wandb.ai/siddharth-s/FODL_Assignment_1</a>"
            ],
            "text/plain": [
              "<IPython.core.display.HTML object>"
            ]
          },
          "metadata": {},
          "output_type": "display_data"
        },
        {
          "data": {
            "text/html": [
              " View sweep at <a href='https://wandb.ai/siddharth-s/FODL_Assignment_1/sweeps/pqng4xvs' target=\"_blank\">https://wandb.ai/siddharth-s/FODL_Assignment_1/sweeps/pqng4xvs</a>"
            ],
            "text/plain": [
              "<IPython.core.display.HTML object>"
            ]
          },
          "metadata": {},
          "output_type": "display_data"
        },
        {
          "data": {
            "text/html": [
              " View run at <a href='https://wandb.ai/siddharth-s/FODL_Assignment_1/runs/rtielfsf' target=\"_blank\">https://wandb.ai/siddharth-s/FODL_Assignment_1/runs/rtielfsf</a>"
            ],
            "text/plain": [
              "<IPython.core.display.HTML object>"
            ]
          },
          "metadata": {},
          "output_type": "display_data"
        },
        {
          "name": "stderr",
          "output_type": "stream",
          "text": [
            "100%|██████████| 10/10 [05:05<00:00, 30.59s/it]"
          ]
        },
        {
          "name": "stdout",
          "output_type": "stream",
          "text": [
            "Training Accuracy: 85.16666666666667\n",
            "Validation Accuracy: 84.18333333333334\n"
          ]
        },
        {
          "name": "stderr",
          "output_type": "stream",
          "text": [
            "\n"
          ]
        },
        {
          "data": {
            "text/html": [
              "Waiting for W&B process to finish... <strong style=\"color:green\">(success).</strong>"
            ],
            "text/plain": [
              "<IPython.core.display.HTML object>"
            ]
          },
          "metadata": {},
          "output_type": "display_data"
        },
        {
          "data": {
            "application/vnd.jupyter.widget-view+json": {
              "model_id": "3d4c6dea17c946eb8168166d3cdabe15",
              "version_major": 2,
              "version_minor": 0
            },
            "text/plain": [
              "VBox(children=(Label(value='0.001 MB of 0.001 MB uploaded (0.000 MB deduped)\\r'), FloatProgress(value=1.0, max…"
            ]
          },
          "metadata": {},
          "output_type": "display_data"
        },
        {
          "data": {
            "text/html": [
              "<style>\n",
              "    table.wandb td:nth-child(1) { padding: 0 10px; text-align: left ; width: auto;} td:nth-child(2) {text-align: left ; width: 100%}\n",
              "    .wandb-row { display: flex; flex-direction: row; flex-wrap: wrap; justify-content: flex-start; width: 100% }\n",
              "    .wandb-col { display: flex; flex-direction: column; flex-basis: 100%; flex: 1; padding: 10px; }\n",
              "    </style>\n",
              "<div class=\"wandb-row\"><div class=\"wandb-col\"><h3>Run history:</h3><br/><table class=\"wandb\"><tr><td>Train_Accuracy</td><td>▁▆▇▇▇▇████</td></tr><tr><td>Train_Loss</td><td>█▄▂▂▂▂▂▁▁▁</td></tr><tr><td>Validation_Accuracy</td><td>▁▆▇▇▇▇████</td></tr><tr><td>Validation_loss</td><td>█▄▂▂▂▂▂▁▁▁</td></tr><tr><td>epoch</td><td>▁▂▃▃▄▅▆▆▇█</td></tr></table><br/></div><div class=\"wandb-col\"><h3>Run summary:</h3><br/><table class=\"wandb\"><tr><td>Train_Accuracy</td><td>85.16667</td></tr><tr><td>Train_Loss</td><td>0.4947</td></tr><tr><td>Validation_Accuracy</td><td>84.18333</td></tr><tr><td>Validation_loss</td><td>0.54122</td></tr><tr><td>epoch</td><td>9</td></tr></table><br/></div></div>"
            ],
            "text/plain": [
              "<IPython.core.display.HTML object>"
            ]
          },
          "metadata": {},
          "output_type": "display_data"
        },
        {
          "data": {
            "text/html": [
              " View run <strong style=\"color:#cdcd00\">laced-sweep-5</strong> at: <a href='https://wandb.ai/siddharth-s/FODL_Assignment_1/runs/rtielfsf' target=\"_blank\">https://wandb.ai/siddharth-s/FODL_Assignment_1/runs/rtielfsf</a><br/>Synced 5 W&B file(s), 0 media file(s), 0 artifact file(s) and 0 other file(s)"
            ],
            "text/plain": [
              "<IPython.core.display.HTML object>"
            ]
          },
          "metadata": {},
          "output_type": "display_data"
        },
        {
          "data": {
            "text/html": [
              "Find logs at: <code>./wandb/run-20230318_202757-rtielfsf/logs</code>"
            ],
            "text/plain": [
              "<IPython.core.display.HTML object>"
            ]
          },
          "metadata": {},
          "output_type": "display_data"
        },
        {
          "name": "stderr",
          "output_type": "stream",
          "text": [
            "\u001b[34m\u001b[1mwandb\u001b[0m: Sweep Agent: Waiting for job.\n",
            "\u001b[34m\u001b[1mwandb\u001b[0m: Job received.\n",
            "\u001b[34m\u001b[1mwandb\u001b[0m: Agent Starting Run: xr9cp20v with config:\n",
            "\u001b[34m\u001b[1mwandb\u001b[0m: \tactivation_function: tanh\n",
            "\u001b[34m\u001b[1mwandb\u001b[0m: \tinitialization_type: random\n",
            "\u001b[34m\u001b[1mwandb\u001b[0m: \tlambd: 0.0005\n",
            "\u001b[34m\u001b[1mwandb\u001b[0m: \tlearning_rate: 0.0001\n",
            "\u001b[34m\u001b[1mwandb\u001b[0m: \tmax_epochs: 10\n",
            "\u001b[34m\u001b[1mwandb\u001b[0m: \tmini_batch_size: 16\n",
            "\u001b[34m\u001b[1mwandb\u001b[0m: \tnumber_hidden_layers: 5\n",
            "\u001b[34m\u001b[1mwandb\u001b[0m: \tnumber_neurons: 64\n",
            "\u001b[34m\u001b[1mwandb\u001b[0m: \toptimization_function: nadam\n"
          ]
        },
        {
          "data": {
            "text/html": [
              "Tracking run with wandb version 0.14.0"
            ],
            "text/plain": [
              "<IPython.core.display.HTML object>"
            ]
          },
          "metadata": {},
          "output_type": "display_data"
        },
        {
          "data": {
            "text/html": [
              "Run data is saved locally in <code>/content/wandb/run-20230318_203325-xr9cp20v</code>"
            ],
            "text/plain": [
              "<IPython.core.display.HTML object>"
            ]
          },
          "metadata": {},
          "output_type": "display_data"
        },
        {
          "data": {
            "text/html": [
              "Syncing run <strong><a href='https://wandb.ai/siddharth-s/FODL_Assignment_1/runs/xr9cp20v' target=\"_blank\">dutiful-sweep-6</a></strong> to <a href='https://wandb.ai/siddharth-s/FODL_Assignment_1' target=\"_blank\">Weights & Biases</a> (<a href='https://wandb.me/run' target=\"_blank\">docs</a>)<br/>Sweep page: <a href='https://wandb.ai/siddharth-s/FODL_Assignment_1/sweeps/pqng4xvs' target=\"_blank\">https://wandb.ai/siddharth-s/FODL_Assignment_1/sweeps/pqng4xvs</a>"
            ],
            "text/plain": [
              "<IPython.core.display.HTML object>"
            ]
          },
          "metadata": {},
          "output_type": "display_data"
        },
        {
          "data": {
            "text/html": [
              " View project at <a href='https://wandb.ai/siddharth-s/FODL_Assignment_1' target=\"_blank\">https://wandb.ai/siddharth-s/FODL_Assignment_1</a>"
            ],
            "text/plain": [
              "<IPython.core.display.HTML object>"
            ]
          },
          "metadata": {},
          "output_type": "display_data"
        },
        {
          "data": {
            "text/html": [
              " View sweep at <a href='https://wandb.ai/siddharth-s/FODL_Assignment_1/sweeps/pqng4xvs' target=\"_blank\">https://wandb.ai/siddharth-s/FODL_Assignment_1/sweeps/pqng4xvs</a>"
            ],
            "text/plain": [
              "<IPython.core.display.HTML object>"
            ]
          },
          "metadata": {},
          "output_type": "display_data"
        },
        {
          "data": {
            "text/html": [
              " View run at <a href='https://wandb.ai/siddharth-s/FODL_Assignment_1/runs/xr9cp20v' target=\"_blank\">https://wandb.ai/siddharth-s/FODL_Assignment_1/runs/xr9cp20v</a>"
            ],
            "text/plain": [
              "<IPython.core.display.HTML object>"
            ]
          },
          "metadata": {},
          "output_type": "display_data"
        },
        {
          "name": "stderr",
          "output_type": "stream",
          "text": [
            "100%|██████████| 10/10 [07:46<00:00, 46.63s/it]"
          ]
        },
        {
          "name": "stdout",
          "output_type": "stream",
          "text": [
            "Training Accuracy: 84.01111111111112\n",
            "Validation Accuracy: 83.0\n"
          ]
        },
        {
          "name": "stderr",
          "output_type": "stream",
          "text": [
            "\n"
          ]
        },
        {
          "data": {
            "text/html": [
              "Waiting for W&B process to finish... <strong style=\"color:green\">(success).</strong>"
            ],
            "text/plain": [
              "<IPython.core.display.HTML object>"
            ]
          },
          "metadata": {},
          "output_type": "display_data"
        },
        {
          "data": {
            "text/html": [
              "<style>\n",
              "    table.wandb td:nth-child(1) { padding: 0 10px; text-align: left ; width: auto;} td:nth-child(2) {text-align: left ; width: 100%}\n",
              "    .wandb-row { display: flex; flex-direction: row; flex-wrap: wrap; justify-content: flex-start; width: 100% }\n",
              "    .wandb-col { display: flex; flex-direction: column; flex-basis: 100%; flex: 1; padding: 10px; }\n",
              "    </style>\n",
              "<div class=\"wandb-row\"><div class=\"wandb-col\"><h3>Run history:</h3><br/><table class=\"wandb\"><tr><td>Train_Accuracy</td><td>▁▆▇▇▇▇████</td></tr><tr><td>Train_Loss</td><td>█▄▃▃▃▂▂▂▁▁</td></tr><tr><td>Validation_Accuracy</td><td>▁▆▇▇▇█████</td></tr><tr><td>Validation_loss</td><td>█▄▃▃▂▂▂▁▁▁</td></tr><tr><td>epoch</td><td>▁▂▃▃▄▅▆▆▇█</td></tr></table><br/></div><div class=\"wandb-col\"><h3>Run summary:</h3><br/><table class=\"wandb\"><tr><td>Train_Accuracy</td><td>84.01111</td></tr><tr><td>Train_Loss</td><td>0.49914</td></tr><tr><td>Validation_Accuracy</td><td>83.0</td></tr><tr><td>Validation_loss</td><td>0.53714</td></tr><tr><td>epoch</td><td>9</td></tr></table><br/></div></div>"
            ],
            "text/plain": [
              "<IPython.core.display.HTML object>"
            ]
          },
          "metadata": {},
          "output_type": "display_data"
        },
        {
          "data": {
            "text/html": [
              " View run <strong style=\"color:#cdcd00\">dutiful-sweep-6</strong> at: <a href='https://wandb.ai/siddharth-s/FODL_Assignment_1/runs/xr9cp20v' target=\"_blank\">https://wandb.ai/siddharth-s/FODL_Assignment_1/runs/xr9cp20v</a><br/>Synced 5 W&B file(s), 0 media file(s), 0 artifact file(s) and 0 other file(s)"
            ],
            "text/plain": [
              "<IPython.core.display.HTML object>"
            ]
          },
          "metadata": {},
          "output_type": "display_data"
        },
        {
          "data": {
            "text/html": [
              "Find logs at: <code>./wandb/run-20230318_203325-xr9cp20v/logs</code>"
            ],
            "text/plain": [
              "<IPython.core.display.HTML object>"
            ]
          },
          "metadata": {},
          "output_type": "display_data"
        },
        {
          "name": "stderr",
          "output_type": "stream",
          "text": [
            "\u001b[34m\u001b[1mwandb\u001b[0m: Sweep Agent: Waiting for job.\n",
            "\u001b[34m\u001b[1mwandb\u001b[0m: Job received.\n",
            "\u001b[34m\u001b[1mwandb\u001b[0m: Agent Starting Run: 2979jpwo with config:\n",
            "\u001b[34m\u001b[1mwandb\u001b[0m: \tactivation_function: sigmoid\n",
            "\u001b[34m\u001b[1mwandb\u001b[0m: \tinitialization_type: random\n",
            "\u001b[34m\u001b[1mwandb\u001b[0m: \tlambd: 0\n",
            "\u001b[34m\u001b[1mwandb\u001b[0m: \tlearning_rate: 0.0001\n",
            "\u001b[34m\u001b[1mwandb\u001b[0m: \tmax_epochs: 5\n",
            "\u001b[34m\u001b[1mwandb\u001b[0m: \tmini_batch_size: 64\n",
            "\u001b[34m\u001b[1mwandb\u001b[0m: \tnumber_hidden_layers: 5\n",
            "\u001b[34m\u001b[1mwandb\u001b[0m: \tnumber_neurons: 64\n",
            "\u001b[34m\u001b[1mwandb\u001b[0m: \toptimization_function: rmsprop\n"
          ]
        },
        {
          "data": {
            "text/html": [
              "Tracking run with wandb version 0.14.0"
            ],
            "text/plain": [
              "<IPython.core.display.HTML object>"
            ]
          },
          "metadata": {},
          "output_type": "display_data"
        },
        {
          "data": {
            "text/html": [
              "Run data is saved locally in <code>/content/wandb/run-20230318_204135-2979jpwo</code>"
            ],
            "text/plain": [
              "<IPython.core.display.HTML object>"
            ]
          },
          "metadata": {},
          "output_type": "display_data"
        },
        {
          "data": {
            "text/html": [
              "Syncing run <strong><a href='https://wandb.ai/siddharth-s/FODL_Assignment_1/runs/2979jpwo' target=\"_blank\">fresh-sweep-7</a></strong> to <a href='https://wandb.ai/siddharth-s/FODL_Assignment_1' target=\"_blank\">Weights & Biases</a> (<a href='https://wandb.me/run' target=\"_blank\">docs</a>)<br/>Sweep page: <a href='https://wandb.ai/siddharth-s/FODL_Assignment_1/sweeps/pqng4xvs' target=\"_blank\">https://wandb.ai/siddharth-s/FODL_Assignment_1/sweeps/pqng4xvs</a>"
            ],
            "text/plain": [
              "<IPython.core.display.HTML object>"
            ]
          },
          "metadata": {},
          "output_type": "display_data"
        },
        {
          "data": {
            "text/html": [
              " View project at <a href='https://wandb.ai/siddharth-s/FODL_Assignment_1' target=\"_blank\">https://wandb.ai/siddharth-s/FODL_Assignment_1</a>"
            ],
            "text/plain": [
              "<IPython.core.display.HTML object>"
            ]
          },
          "metadata": {},
          "output_type": "display_data"
        },
        {
          "data": {
            "text/html": [
              " View sweep at <a href='https://wandb.ai/siddharth-s/FODL_Assignment_1/sweeps/pqng4xvs' target=\"_blank\">https://wandb.ai/siddharth-s/FODL_Assignment_1/sweeps/pqng4xvs</a>"
            ],
            "text/plain": [
              "<IPython.core.display.HTML object>"
            ]
          },
          "metadata": {},
          "output_type": "display_data"
        },
        {
          "data": {
            "text/html": [
              " View run at <a href='https://wandb.ai/siddharth-s/FODL_Assignment_1/runs/2979jpwo' target=\"_blank\">https://wandb.ai/siddharth-s/FODL_Assignment_1/runs/2979jpwo</a>"
            ],
            "text/plain": [
              "<IPython.core.display.HTML object>"
            ]
          },
          "metadata": {},
          "output_type": "display_data"
        },
        {
          "name": "stderr",
          "output_type": "stream",
          "text": [
            "100%|██████████| 5/5 [04:20<00:00, 52.10s/it]"
          ]
        },
        {
          "name": "stdout",
          "output_type": "stream",
          "text": [
            "Training Accuracy: 10.048148148148147\n",
            "Validation Accuracy: 9.566666666666666\n"
          ]
        },
        {
          "name": "stderr",
          "output_type": "stream",
          "text": [
            "\n"
          ]
        },
        {
          "data": {
            "text/html": [
              "Waiting for W&B process to finish... <strong style=\"color:green\">(success).</strong>"
            ],
            "text/plain": [
              "<IPython.core.display.HTML object>"
            ]
          },
          "metadata": {},
          "output_type": "display_data"
        },
        {
          "data": {
            "text/html": [
              "<style>\n",
              "    table.wandb td:nth-child(1) { padding: 0 10px; text-align: left ; width: auto;} td:nth-child(2) {text-align: left ; width: 100%}\n",
              "    .wandb-row { display: flex; flex-direction: row; flex-wrap: wrap; justify-content: flex-start; width: 100% }\n",
              "    .wandb-col { display: flex; flex-direction: column; flex-basis: 100%; flex: 1; padding: 10px; }\n",
              "    </style>\n",
              "<div class=\"wandb-row\"><div class=\"wandb-col\"><h3>Run history:</h3><br/><table class=\"wandb\"><tr><td>Train_Accuracy</td><td>▃▃▁▁█</td></tr><tr><td>Train_Loss</td><td>█▁▁▂▃</td></tr><tr><td>Validation_Accuracy</td><td>▆▆██▁</td></tr><tr><td>Validation_loss</td><td>▆▂▁▃█</td></tr><tr><td>epoch</td><td>▁▃▅▆█</td></tr></table><br/></div><div class=\"wandb-col\"><h3>Run summary:</h3><br/><table class=\"wandb\"><tr><td>Train_Accuracy</td><td>10.04815</td></tr><tr><td>Train_Loss</td><td>2.30307</td></tr><tr><td>Validation_Accuracy</td><td>9.56667</td></tr><tr><td>Validation_loss</td><td>2.30305</td></tr><tr><td>epoch</td><td>4</td></tr></table><br/></div></div>"
            ],
            "text/plain": [
              "<IPython.core.display.HTML object>"
            ]
          },
          "metadata": {},
          "output_type": "display_data"
        },
        {
          "data": {
            "text/html": [
              " View run <strong style=\"color:#cdcd00\">fresh-sweep-7</strong> at: <a href='https://wandb.ai/siddharth-s/FODL_Assignment_1/runs/2979jpwo' target=\"_blank\">https://wandb.ai/siddharth-s/FODL_Assignment_1/runs/2979jpwo</a><br/>Synced 5 W&B file(s), 0 media file(s), 0 artifact file(s) and 0 other file(s)"
            ],
            "text/plain": [
              "<IPython.core.display.HTML object>"
            ]
          },
          "metadata": {},
          "output_type": "display_data"
        },
        {
          "data": {
            "text/html": [
              "Find logs at: <code>./wandb/run-20230318_204135-2979jpwo/logs</code>"
            ],
            "text/plain": [
              "<IPython.core.display.HTML object>"
            ]
          },
          "metadata": {},
          "output_type": "display_data"
        },
        {
          "name": "stderr",
          "output_type": "stream",
          "text": [
            "\u001b[34m\u001b[1mwandb\u001b[0m: Sweep Agent: Waiting for job.\n",
            "\u001b[34m\u001b[1mwandb\u001b[0m: Job received.\n",
            "\u001b[34m\u001b[1mwandb\u001b[0m: Agent Starting Run: 7cxf1xu2 with config:\n",
            "\u001b[34m\u001b[1mwandb\u001b[0m: \tactivation_function: relu\n",
            "\u001b[34m\u001b[1mwandb\u001b[0m: \tinitialization_type: xavier\n",
            "\u001b[34m\u001b[1mwandb\u001b[0m: \tlambd: 0.5\n",
            "\u001b[34m\u001b[1mwandb\u001b[0m: \tlearning_rate: 0.0001\n",
            "\u001b[34m\u001b[1mwandb\u001b[0m: \tmax_epochs: 10\n",
            "\u001b[34m\u001b[1mwandb\u001b[0m: \tmini_batch_size: 16\n",
            "\u001b[34m\u001b[1mwandb\u001b[0m: \tnumber_hidden_layers: 3\n",
            "\u001b[34m\u001b[1mwandb\u001b[0m: \tnumber_neurons: 128\n",
            "\u001b[34m\u001b[1mwandb\u001b[0m: \toptimization_function: nadam\n"
          ]
        },
        {
          "data": {
            "text/html": [
              "Tracking run with wandb version 0.14.0"
            ],
            "text/plain": [
              "<IPython.core.display.HTML object>"
            ]
          },
          "metadata": {},
          "output_type": "display_data"
        },
        {
          "data": {
            "text/html": [
              "Run data is saved locally in <code>/content/wandb/run-20230318_204632-7cxf1xu2</code>"
            ],
            "text/plain": [
              "<IPython.core.display.HTML object>"
            ]
          },
          "metadata": {},
          "output_type": "display_data"
        },
        {
          "data": {
            "text/html": [
              "Syncing run <strong><a href='https://wandb.ai/siddharth-s/FODL_Assignment_1/runs/7cxf1xu2' target=\"_blank\">dark-sweep-8</a></strong> to <a href='https://wandb.ai/siddharth-s/FODL_Assignment_1' target=\"_blank\">Weights & Biases</a> (<a href='https://wandb.me/run' target=\"_blank\">docs</a>)<br/>Sweep page: <a href='https://wandb.ai/siddharth-s/FODL_Assignment_1/sweeps/pqng4xvs' target=\"_blank\">https://wandb.ai/siddharth-s/FODL_Assignment_1/sweeps/pqng4xvs</a>"
            ],
            "text/plain": [
              "<IPython.core.display.HTML object>"
            ]
          },
          "metadata": {},
          "output_type": "display_data"
        },
        {
          "data": {
            "text/html": [
              " View project at <a href='https://wandb.ai/siddharth-s/FODL_Assignment_1' target=\"_blank\">https://wandb.ai/siddharth-s/FODL_Assignment_1</a>"
            ],
            "text/plain": [
              "<IPython.core.display.HTML object>"
            ]
          },
          "metadata": {},
          "output_type": "display_data"
        },
        {
          "data": {
            "text/html": [
              " View sweep at <a href='https://wandb.ai/siddharth-s/FODL_Assignment_1/sweeps/pqng4xvs' target=\"_blank\">https://wandb.ai/siddharth-s/FODL_Assignment_1/sweeps/pqng4xvs</a>"
            ],
            "text/plain": [
              "<IPython.core.display.HTML object>"
            ]
          },
          "metadata": {},
          "output_type": "display_data"
        },
        {
          "data": {
            "text/html": [
              " View run at <a href='https://wandb.ai/siddharth-s/FODL_Assignment_1/runs/7cxf1xu2' target=\"_blank\">https://wandb.ai/siddharth-s/FODL_Assignment_1/runs/7cxf1xu2</a>"
            ],
            "text/plain": [
              "<IPython.core.display.HTML object>"
            ]
          },
          "metadata": {},
          "output_type": "display_data"
        },
        {
          "name": "stderr",
          "output_type": "stream",
          "text": [
            "100%|██████████| 10/10 [09:44<00:00, 58.49s/it]"
          ]
        },
        {
          "name": "stdout",
          "output_type": "stream",
          "text": [
            "Training Accuracy: 10.048148148148147\n",
            "Validation Accuracy: 9.566666666666666\n"
          ]
        },
        {
          "name": "stderr",
          "output_type": "stream",
          "text": [
            "\n"
          ]
        },
        {
          "data": {
            "text/html": [
              "Waiting for W&B process to finish... <strong style=\"color:green\">(success).</strong>"
            ],
            "text/plain": [
              "<IPython.core.display.HTML object>"
            ]
          },
          "metadata": {},
          "output_type": "display_data"
        },
        {
          "data": {
            "application/vnd.jupyter.widget-view+json": {
              "model_id": "db73c6a8241d44c991e9646725c2743a",
              "version_major": 2,
              "version_minor": 0
            },
            "text/plain": [
              "VBox(children=(Label(value='0.001 MB of 0.001 MB uploaded (0.000 MB deduped)\\r'), FloatProgress(value=1.0, max…"
            ]
          },
          "metadata": {},
          "output_type": "display_data"
        },
        {
          "data": {
            "text/html": [
              "<style>\n",
              "    table.wandb td:nth-child(1) { padding: 0 10px; text-align: left ; width: auto;} td:nth-child(2) {text-align: left ; width: 100%}\n",
              "    .wandb-row { display: flex; flex-direction: row; flex-wrap: wrap; justify-content: flex-start; width: 100% }\n",
              "    .wandb-col { display: flex; flex-direction: column; flex-basis: 100%; flex: 1; padding: 10px; }\n",
              "    </style>\n",
              "<div class=\"wandb-row\"><div class=\"wandb-col\"><h3>Run history:</h3><br/><table class=\"wandb\"><tr><td>Train_Accuracy</td><td>█▁▁▁▁▁▁▁▁▁</td></tr><tr><td>Train_Loss</td><td>▁         </td></tr><tr><td>Validation_Accuracy</td><td>█▁▁▁▁▁▁▁▁▁</td></tr><tr><td>Validation_loss</td><td>▁         </td></tr><tr><td>epoch</td><td>▁▂▃▃▄▅▆▆▇█</td></tr></table><br/></div><div class=\"wandb-col\"><h3>Run summary:</h3><br/><table class=\"wandb\"><tr><td>Train_Accuracy</td><td>10.04815</td></tr><tr><td>Train_Loss</td><td>nan</td></tr><tr><td>Validation_Accuracy</td><td>9.56667</td></tr><tr><td>Validation_loss</td><td>nan</td></tr><tr><td>epoch</td><td>9</td></tr></table><br/></div></div>"
            ],
            "text/plain": [
              "<IPython.core.display.HTML object>"
            ]
          },
          "metadata": {},
          "output_type": "display_data"
        },
        {
          "data": {
            "text/html": [
              " View run <strong style=\"color:#cdcd00\">dark-sweep-8</strong> at: <a href='https://wandb.ai/siddharth-s/FODL_Assignment_1/runs/7cxf1xu2' target=\"_blank\">https://wandb.ai/siddharth-s/FODL_Assignment_1/runs/7cxf1xu2</a><br/>Synced 5 W&B file(s), 0 media file(s), 0 artifact file(s) and 0 other file(s)"
            ],
            "text/plain": [
              "<IPython.core.display.HTML object>"
            ]
          },
          "metadata": {},
          "output_type": "display_data"
        },
        {
          "data": {
            "text/html": [
              "Find logs at: <code>./wandb/run-20230318_204632-7cxf1xu2/logs</code>"
            ],
            "text/plain": [
              "<IPython.core.display.HTML object>"
            ]
          },
          "metadata": {},
          "output_type": "display_data"
        },
        {
          "name": "stderr",
          "output_type": "stream",
          "text": [
            "\u001b[34m\u001b[1mwandb\u001b[0m: Agent Starting Run: vplomnr8 with config:\n",
            "\u001b[34m\u001b[1mwandb\u001b[0m: \tactivation_function: tanh\n",
            "\u001b[34m\u001b[1mwandb\u001b[0m: \tinitialization_type: xavier\n",
            "\u001b[34m\u001b[1mwandb\u001b[0m: \tlambd: 0.0005\n",
            "\u001b[34m\u001b[1mwandb\u001b[0m: \tlearning_rate: 0.0001\n",
            "\u001b[34m\u001b[1mwandb\u001b[0m: \tmax_epochs: 5\n",
            "\u001b[34m\u001b[1mwandb\u001b[0m: \tmini_batch_size: 32\n",
            "\u001b[34m\u001b[1mwandb\u001b[0m: \tnumber_hidden_layers: 4\n",
            "\u001b[34m\u001b[1mwandb\u001b[0m: \tnumber_neurons: 64\n",
            "\u001b[34m\u001b[1mwandb\u001b[0m: \toptimization_function: rmsprop\n"
          ]
        },
        {
          "data": {
            "text/html": [
              "Tracking run with wandb version 0.14.0"
            ],
            "text/plain": [
              "<IPython.core.display.HTML object>"
            ]
          },
          "metadata": {},
          "output_type": "display_data"
        },
        {
          "data": {
            "text/html": [
              "Run data is saved locally in <code>/content/wandb/run-20230318_205629-vplomnr8</code>"
            ],
            "text/plain": [
              "<IPython.core.display.HTML object>"
            ]
          },
          "metadata": {},
          "output_type": "display_data"
        },
        {
          "data": {
            "text/html": [
              "Syncing run <strong><a href='https://wandb.ai/siddharth-s/FODL_Assignment_1/runs/vplomnr8' target=\"_blank\">wandering-sweep-9</a></strong> to <a href='https://wandb.ai/siddharth-s/FODL_Assignment_1' target=\"_blank\">Weights & Biases</a> (<a href='https://wandb.me/run' target=\"_blank\">docs</a>)<br/>Sweep page: <a href='https://wandb.ai/siddharth-s/FODL_Assignment_1/sweeps/pqng4xvs' target=\"_blank\">https://wandb.ai/siddharth-s/FODL_Assignment_1/sweeps/pqng4xvs</a>"
            ],
            "text/plain": [
              "<IPython.core.display.HTML object>"
            ]
          },
          "metadata": {},
          "output_type": "display_data"
        },
        {
          "data": {
            "text/html": [
              " View project at <a href='https://wandb.ai/siddharth-s/FODL_Assignment_1' target=\"_blank\">https://wandb.ai/siddharth-s/FODL_Assignment_1</a>"
            ],
            "text/plain": [
              "<IPython.core.display.HTML object>"
            ]
          },
          "metadata": {},
          "output_type": "display_data"
        },
        {
          "data": {
            "text/html": [
              " View sweep at <a href='https://wandb.ai/siddharth-s/FODL_Assignment_1/sweeps/pqng4xvs' target=\"_blank\">https://wandb.ai/siddharth-s/FODL_Assignment_1/sweeps/pqng4xvs</a>"
            ],
            "text/plain": [
              "<IPython.core.display.HTML object>"
            ]
          },
          "metadata": {},
          "output_type": "display_data"
        },
        {
          "data": {
            "text/html": [
              " View run at <a href='https://wandb.ai/siddharth-s/FODL_Assignment_1/runs/vplomnr8' target=\"_blank\">https://wandb.ai/siddharth-s/FODL_Assignment_1/runs/vplomnr8</a>"
            ],
            "text/plain": [
              "<IPython.core.display.HTML object>"
            ]
          },
          "metadata": {},
          "output_type": "display_data"
        },
        {
          "name": "stderr",
          "output_type": "stream",
          "text": [
            "100%|██████████| 5/5 [03:14<00:00, 38.84s/it]"
          ]
        },
        {
          "name": "stdout",
          "output_type": "stream",
          "text": [
            "Training Accuracy: 87.05185185185185\n",
            "Validation Accuracy: 85.8\n"
          ]
        },
        {
          "name": "stderr",
          "output_type": "stream",
          "text": [
            "\n"
          ]
        },
        {
          "data": {
            "text/html": [
              "Waiting for W&B process to finish... <strong style=\"color:green\">(success).</strong>"
            ],
            "text/plain": [
              "<IPython.core.display.HTML object>"
            ]
          },
          "metadata": {},
          "output_type": "display_data"
        },
        {
          "data": {
            "text/html": [
              "<style>\n",
              "    table.wandb td:nth-child(1) { padding: 0 10px; text-align: left ; width: auto;} td:nth-child(2) {text-align: left ; width: 100%}\n",
              "    .wandb-row { display: flex; flex-direction: row; flex-wrap: wrap; justify-content: flex-start; width: 100% }\n",
              "    .wandb-col { display: flex; flex-direction: column; flex-basis: 100%; flex: 1; padding: 10px; }\n",
              "    </style>\n",
              "<div class=\"wandb-row\"><div class=\"wandb-col\"><h3>Run history:</h3><br/><table class=\"wandb\"><tr><td>Train_Accuracy</td><td>▁▄▅▇█</td></tr><tr><td>Train_Loss</td><td>█▅▄▂▁</td></tr><tr><td>Validation_Accuracy</td><td>▁▄▆▆█</td></tr><tr><td>Validation_loss</td><td>█▅▄▂▁</td></tr><tr><td>epoch</td><td>▁▃▅▆█</td></tr></table><br/></div><div class=\"wandb-col\"><h3>Run summary:</h3><br/><table class=\"wandb\"><tr><td>Train_Accuracy</td><td>87.05185</td></tr><tr><td>Train_Loss</td><td>0.37124</td></tr><tr><td>Validation_Accuracy</td><td>85.8</td></tr><tr><td>Validation_loss</td><td>0.41808</td></tr><tr><td>epoch</td><td>4</td></tr></table><br/></div></div>"
            ],
            "text/plain": [
              "<IPython.core.display.HTML object>"
            ]
          },
          "metadata": {},
          "output_type": "display_data"
        },
        {
          "data": {
            "text/html": [
              " View run <strong style=\"color:#cdcd00\">wandering-sweep-9</strong> at: <a href='https://wandb.ai/siddharth-s/FODL_Assignment_1/runs/vplomnr8' target=\"_blank\">https://wandb.ai/siddharth-s/FODL_Assignment_1/runs/vplomnr8</a><br/>Synced 5 W&B file(s), 0 media file(s), 0 artifact file(s) and 0 other file(s)"
            ],
            "text/plain": [
              "<IPython.core.display.HTML object>"
            ]
          },
          "metadata": {},
          "output_type": "display_data"
        },
        {
          "data": {
            "text/html": [
              "Find logs at: <code>./wandb/run-20230318_205629-vplomnr8/logs</code>"
            ],
            "text/plain": [
              "<IPython.core.display.HTML object>"
            ]
          },
          "metadata": {},
          "output_type": "display_data"
        },
        {
          "name": "stderr",
          "output_type": "stream",
          "text": [
            "\u001b[34m\u001b[1mwandb\u001b[0m: Agent Starting Run: qyqpw3qg with config:\n",
            "\u001b[34m\u001b[1mwandb\u001b[0m: \tactivation_function: tanh\n",
            "\u001b[34m\u001b[1mwandb\u001b[0m: \tinitialization_type: random\n",
            "\u001b[34m\u001b[1mwandb\u001b[0m: \tlambd: 0\n",
            "\u001b[34m\u001b[1mwandb\u001b[0m: \tlearning_rate: 0.001\n",
            "\u001b[34m\u001b[1mwandb\u001b[0m: \tmax_epochs: 5\n",
            "\u001b[34m\u001b[1mwandb\u001b[0m: \tmini_batch_size: 32\n",
            "\u001b[34m\u001b[1mwandb\u001b[0m: \tnumber_hidden_layers: 4\n",
            "\u001b[34m\u001b[1mwandb\u001b[0m: \tnumber_neurons: 64\n",
            "\u001b[34m\u001b[1mwandb\u001b[0m: \toptimization_function: adam\n"
          ]
        },
        {
          "data": {
            "text/html": [
              "Tracking run with wandb version 0.14.0"
            ],
            "text/plain": [
              "<IPython.core.display.HTML object>"
            ]
          },
          "metadata": {},
          "output_type": "display_data"
        },
        {
          "data": {
            "text/html": [
              "Run data is saved locally in <code>/content/wandb/run-20230318_205958-qyqpw3qg</code>"
            ],
            "text/plain": [
              "<IPython.core.display.HTML object>"
            ]
          },
          "metadata": {},
          "output_type": "display_data"
        },
        {
          "data": {
            "text/html": [
              "Syncing run <strong><a href='https://wandb.ai/siddharth-s/FODL_Assignment_1/runs/qyqpw3qg' target=\"_blank\">stellar-sweep-10</a></strong> to <a href='https://wandb.ai/siddharth-s/FODL_Assignment_1' target=\"_blank\">Weights & Biases</a> (<a href='https://wandb.me/run' target=\"_blank\">docs</a>)<br/>Sweep page: <a href='https://wandb.ai/siddharth-s/FODL_Assignment_1/sweeps/pqng4xvs' target=\"_blank\">https://wandb.ai/siddharth-s/FODL_Assignment_1/sweeps/pqng4xvs</a>"
            ],
            "text/plain": [
              "<IPython.core.display.HTML object>"
            ]
          },
          "metadata": {},
          "output_type": "display_data"
        },
        {
          "data": {
            "text/html": [
              " View project at <a href='https://wandb.ai/siddharth-s/FODL_Assignment_1' target=\"_blank\">https://wandb.ai/siddharth-s/FODL_Assignment_1</a>"
            ],
            "text/plain": [
              "<IPython.core.display.HTML object>"
            ]
          },
          "metadata": {},
          "output_type": "display_data"
        },
        {
          "data": {
            "text/html": [
              " View sweep at <a href='https://wandb.ai/siddharth-s/FODL_Assignment_1/sweeps/pqng4xvs' target=\"_blank\">https://wandb.ai/siddharth-s/FODL_Assignment_1/sweeps/pqng4xvs</a>"
            ],
            "text/plain": [
              "<IPython.core.display.HTML object>"
            ]
          },
          "metadata": {},
          "output_type": "display_data"
        },
        {
          "data": {
            "text/html": [
              " View run at <a href='https://wandb.ai/siddharth-s/FODL_Assignment_1/runs/qyqpw3qg' target=\"_blank\">https://wandb.ai/siddharth-s/FODL_Assignment_1/runs/qyqpw3qg</a>"
            ],
            "text/plain": [
              "<IPython.core.display.HTML object>"
            ]
          },
          "metadata": {},
          "output_type": "display_data"
        },
        {
          "name": "stderr",
          "output_type": "stream",
          "text": [
            "100%|██████████| 5/5 [03:20<00:00, 40.17s/it]"
          ]
        },
        {
          "name": "stdout",
          "output_type": "stream",
          "text": [
            "Training Accuracy: 84.72407407407407\n",
            "Validation Accuracy: 83.93333333333334\n"
          ]
        },
        {
          "name": "stderr",
          "output_type": "stream",
          "text": [
            "\n"
          ]
        },
        {
          "data": {
            "text/html": [
              "Waiting for W&B process to finish... <strong style=\"color:green\">(success).</strong>"
            ],
            "text/plain": [
              "<IPython.core.display.HTML object>"
            ]
          },
          "metadata": {},
          "output_type": "display_data"
        },
        {
          "data": {
            "application/vnd.jupyter.widget-view+json": {
              "model_id": "55eda2ad4bcd409297fb7c597f984109",
              "version_major": 2,
              "version_minor": 0
            },
            "text/plain": [
              "VBox(children=(Label(value='0.001 MB of 0.001 MB uploaded (0.000 MB deduped)\\r'), FloatProgress(value=1.0, max…"
            ]
          },
          "metadata": {},
          "output_type": "display_data"
        },
        {
          "data": {
            "text/html": [
              "<style>\n",
              "    table.wandb td:nth-child(1) { padding: 0 10px; text-align: left ; width: auto;} td:nth-child(2) {text-align: left ; width: 100%}\n",
              "    .wandb-row { display: flex; flex-direction: row; flex-wrap: wrap; justify-content: flex-start; width: 100% }\n",
              "    .wandb-col { display: flex; flex-direction: column; flex-basis: 100%; flex: 1; padding: 10px; }\n",
              "    </style>\n",
              "<div class=\"wandb-row\"><div class=\"wandb-col\"><h3>Run history:</h3><br/><table class=\"wandb\"><tr><td>Train_Accuracy</td><td>▁▅▇██</td></tr><tr><td>Train_Loss</td><td>█▅▂▁▁</td></tr><tr><td>Validation_Accuracy</td><td>▁▅▇██</td></tr><tr><td>Validation_loss</td><td>█▅▂▁▁</td></tr><tr><td>epoch</td><td>▁▃▅▆█</td></tr></table><br/></div><div class=\"wandb-col\"><h3>Run summary:</h3><br/><table class=\"wandb\"><tr><td>Train_Accuracy</td><td>84.72407</td></tr><tr><td>Train_Loss</td><td>0.46741</td></tr><tr><td>Validation_Accuracy</td><td>83.93333</td></tr><tr><td>Validation_loss</td><td>0.48685</td></tr><tr><td>epoch</td><td>4</td></tr></table><br/></div></div>"
            ],
            "text/plain": [
              "<IPython.core.display.HTML object>"
            ]
          },
          "metadata": {},
          "output_type": "display_data"
        },
        {
          "data": {
            "text/html": [
              " View run <strong style=\"color:#cdcd00\">stellar-sweep-10</strong> at: <a href='https://wandb.ai/siddharth-s/FODL_Assignment_1/runs/qyqpw3qg' target=\"_blank\">https://wandb.ai/siddharth-s/FODL_Assignment_1/runs/qyqpw3qg</a><br/>Synced 5 W&B file(s), 0 media file(s), 0 artifact file(s) and 0 other file(s)"
            ],
            "text/plain": [
              "<IPython.core.display.HTML object>"
            ]
          },
          "metadata": {},
          "output_type": "display_data"
        },
        {
          "data": {
            "text/html": [
              "Find logs at: <code>./wandb/run-20230318_205958-qyqpw3qg/logs</code>"
            ],
            "text/plain": [
              "<IPython.core.display.HTML object>"
            ]
          },
          "metadata": {},
          "output_type": "display_data"
        },
        {
          "name": "stderr",
          "output_type": "stream",
          "text": [
            "\u001b[34m\u001b[1mwandb\u001b[0m: Agent Starting Run: m2cal3ne with config:\n",
            "\u001b[34m\u001b[1mwandb\u001b[0m: \tactivation_function: relu\n",
            "\u001b[34m\u001b[1mwandb\u001b[0m: \tinitialization_type: xavier\n",
            "\u001b[34m\u001b[1mwandb\u001b[0m: \tlambd: 0.5\n",
            "\u001b[34m\u001b[1mwandb\u001b[0m: \tlearning_rate: 0.0001\n",
            "\u001b[34m\u001b[1mwandb\u001b[0m: \tmax_epochs: 10\n",
            "\u001b[34m\u001b[1mwandb\u001b[0m: \tmini_batch_size: 64\n",
            "\u001b[34m\u001b[1mwandb\u001b[0m: \tnumber_hidden_layers: 5\n",
            "\u001b[34m\u001b[1mwandb\u001b[0m: \tnumber_neurons: 32\n",
            "\u001b[34m\u001b[1mwandb\u001b[0m: \toptimization_function: rmsprop\n"
          ]
        },
        {
          "data": {
            "text/html": [
              "Tracking run with wandb version 0.14.0"
            ],
            "text/plain": [
              "<IPython.core.display.HTML object>"
            ]
          },
          "metadata": {},
          "output_type": "display_data"
        },
        {
          "data": {
            "text/html": [
              "Run data is saved locally in <code>/content/wandb/run-20230318_210333-m2cal3ne</code>"
            ],
            "text/plain": [
              "<IPython.core.display.HTML object>"
            ]
          },
          "metadata": {},
          "output_type": "display_data"
        },
        {
          "data": {
            "text/html": [
              "Syncing run <strong><a href='https://wandb.ai/siddharth-s/FODL_Assignment_1/runs/m2cal3ne' target=\"_blank\">sweepy-sweep-11</a></strong> to <a href='https://wandb.ai/siddharth-s/FODL_Assignment_1' target=\"_blank\">Weights & Biases</a> (<a href='https://wandb.me/run' target=\"_blank\">docs</a>)<br/>Sweep page: <a href='https://wandb.ai/siddharth-s/FODL_Assignment_1/sweeps/pqng4xvs' target=\"_blank\">https://wandb.ai/siddharth-s/FODL_Assignment_1/sweeps/pqng4xvs</a>"
            ],
            "text/plain": [
              "<IPython.core.display.HTML object>"
            ]
          },
          "metadata": {},
          "output_type": "display_data"
        },
        {
          "data": {
            "text/html": [
              " View project at <a href='https://wandb.ai/siddharth-s/FODL_Assignment_1' target=\"_blank\">https://wandb.ai/siddharth-s/FODL_Assignment_1</a>"
            ],
            "text/plain": [
              "<IPython.core.display.HTML object>"
            ]
          },
          "metadata": {},
          "output_type": "display_data"
        },
        {
          "data": {
            "text/html": [
              " View sweep at <a href='https://wandb.ai/siddharth-s/FODL_Assignment_1/sweeps/pqng4xvs' target=\"_blank\">https://wandb.ai/siddharth-s/FODL_Assignment_1/sweeps/pqng4xvs</a>"
            ],
            "text/plain": [
              "<IPython.core.display.HTML object>"
            ]
          },
          "metadata": {},
          "output_type": "display_data"
        },
        {
          "data": {
            "text/html": [
              " View run at <a href='https://wandb.ai/siddharth-s/FODL_Assignment_1/runs/m2cal3ne' target=\"_blank\">https://wandb.ai/siddharth-s/FODL_Assignment_1/runs/m2cal3ne</a>"
            ],
            "text/plain": [
              "<IPython.core.display.HTML object>"
            ]
          },
          "metadata": {},
          "output_type": "display_data"
        },
        {
          "name": "stderr",
          "output_type": "stream",
          "text": [
            "100%|██████████| 10/10 [05:43<00:00, 34.32s/it]"
          ]
        },
        {
          "name": "stdout",
          "output_type": "stream",
          "text": [
            "Training Accuracy: 10.048148148148147\n",
            "Validation Accuracy: 9.566666666666666\n"
          ]
        },
        {
          "name": "stderr",
          "output_type": "stream",
          "text": [
            "\n"
          ]
        },
        {
          "data": {
            "text/html": [
              "Waiting for W&B process to finish... <strong style=\"color:green\">(success).</strong>"
            ],
            "text/plain": [
              "<IPython.core.display.HTML object>"
            ]
          },
          "metadata": {},
          "output_type": "display_data"
        },
        {
          "data": {
            "text/html": [
              "<style>\n",
              "    table.wandb td:nth-child(1) { padding: 0 10px; text-align: left ; width: auto;} td:nth-child(2) {text-align: left ; width: 100%}\n",
              "    .wandb-row { display: flex; flex-direction: row; flex-wrap: wrap; justify-content: flex-start; width: 100% }\n",
              "    .wandb-col { display: flex; flex-direction: column; flex-basis: 100%; flex: 1; padding: 10px; }\n",
              "    </style>\n",
              "<div class=\"wandb-row\"><div class=\"wandb-col\"><h3>Run history:</h3><br/><table class=\"wandb\"><tr><td>Train_Accuracy</td><td>██████▁▁▁▁</td></tr><tr><td>Train_Loss</td><td>▁▂▄█      </td></tr><tr><td>Validation_Accuracy</td><td>██████▁▁▁▁</td></tr><tr><td>Validation_loss</td><td>▁▂▃▅█     </td></tr><tr><td>epoch</td><td>▁▂▃▃▄▅▆▆▇█</td></tr></table><br/></div><div class=\"wandb-col\"><h3>Run summary:</h3><br/><table class=\"wandb\"><tr><td>Train_Accuracy</td><td>10.04815</td></tr><tr><td>Train_Loss</td><td>nan</td></tr><tr><td>Validation_Accuracy</td><td>9.56667</td></tr><tr><td>Validation_loss</td><td>nan</td></tr><tr><td>epoch</td><td>9</td></tr></table><br/></div></div>"
            ],
            "text/plain": [
              "<IPython.core.display.HTML object>"
            ]
          },
          "metadata": {},
          "output_type": "display_data"
        },
        {
          "data": {
            "text/html": [
              " View run <strong style=\"color:#cdcd00\">sweepy-sweep-11</strong> at: <a href='https://wandb.ai/siddharth-s/FODL_Assignment_1/runs/m2cal3ne' target=\"_blank\">https://wandb.ai/siddharth-s/FODL_Assignment_1/runs/m2cal3ne</a><br/>Synced 5 W&B file(s), 0 media file(s), 0 artifact file(s) and 0 other file(s)"
            ],
            "text/plain": [
              "<IPython.core.display.HTML object>"
            ]
          },
          "metadata": {},
          "output_type": "display_data"
        },
        {
          "data": {
            "text/html": [
              "Find logs at: <code>./wandb/run-20230318_210333-m2cal3ne/logs</code>"
            ],
            "text/plain": [
              "<IPython.core.display.HTML object>"
            ]
          },
          "metadata": {},
          "output_type": "display_data"
        },
        {
          "name": "stderr",
          "output_type": "stream",
          "text": [
            "\u001b[34m\u001b[1mwandb\u001b[0m: Agent Starting Run: 58rjf1zv with config:\n",
            "\u001b[34m\u001b[1mwandb\u001b[0m: \tactivation_function: relu\n",
            "\u001b[34m\u001b[1mwandb\u001b[0m: \tinitialization_type: xavier\n",
            "\u001b[34m\u001b[1mwandb\u001b[0m: \tlambd: 0.0005\n",
            "\u001b[34m\u001b[1mwandb\u001b[0m: \tlearning_rate: 0.0001\n",
            "\u001b[34m\u001b[1mwandb\u001b[0m: \tmax_epochs: 10\n",
            "\u001b[34m\u001b[1mwandb\u001b[0m: \tmini_batch_size: 64\n",
            "\u001b[34m\u001b[1mwandb\u001b[0m: \tnumber_hidden_layers: 5\n",
            "\u001b[34m\u001b[1mwandb\u001b[0m: \tnumber_neurons: 64\n",
            "\u001b[34m\u001b[1mwandb\u001b[0m: \toptimization_function: rmsprop\n"
          ]
        },
        {
          "data": {
            "text/html": [
              "Tracking run with wandb version 0.14.0"
            ],
            "text/plain": [
              "<IPython.core.display.HTML object>"
            ]
          },
          "metadata": {},
          "output_type": "display_data"
        },
        {
          "data": {
            "text/html": [
              "Run data is saved locally in <code>/content/wandb/run-20230318_210932-58rjf1zv</code>"
            ],
            "text/plain": [
              "<IPython.core.display.HTML object>"
            ]
          },
          "metadata": {},
          "output_type": "display_data"
        },
        {
          "data": {
            "text/html": [
              "Syncing run <strong><a href='https://wandb.ai/siddharth-s/FODL_Assignment_1/runs/58rjf1zv' target=\"_blank\">stellar-sweep-12</a></strong> to <a href='https://wandb.ai/siddharth-s/FODL_Assignment_1' target=\"_blank\">Weights & Biases</a> (<a href='https://wandb.me/run' target=\"_blank\">docs</a>)<br/>Sweep page: <a href='https://wandb.ai/siddharth-s/FODL_Assignment_1/sweeps/pqng4xvs' target=\"_blank\">https://wandb.ai/siddharth-s/FODL_Assignment_1/sweeps/pqng4xvs</a>"
            ],
            "text/plain": [
              "<IPython.core.display.HTML object>"
            ]
          },
          "metadata": {},
          "output_type": "display_data"
        },
        {
          "data": {
            "text/html": [
              " View project at <a href='https://wandb.ai/siddharth-s/FODL_Assignment_1' target=\"_blank\">https://wandb.ai/siddharth-s/FODL_Assignment_1</a>"
            ],
            "text/plain": [
              "<IPython.core.display.HTML object>"
            ]
          },
          "metadata": {},
          "output_type": "display_data"
        },
        {
          "data": {
            "text/html": [
              " View sweep at <a href='https://wandb.ai/siddharth-s/FODL_Assignment_1/sweeps/pqng4xvs' target=\"_blank\">https://wandb.ai/siddharth-s/FODL_Assignment_1/sweeps/pqng4xvs</a>"
            ],
            "text/plain": [
              "<IPython.core.display.HTML object>"
            ]
          },
          "metadata": {},
          "output_type": "display_data"
        },
        {
          "data": {
            "text/html": [
              " View run at <a href='https://wandb.ai/siddharth-s/FODL_Assignment_1/runs/58rjf1zv' target=\"_blank\">https://wandb.ai/siddharth-s/FODL_Assignment_1/runs/58rjf1zv</a>"
            ],
            "text/plain": [
              "<IPython.core.display.HTML object>"
            ]
          },
          "metadata": {},
          "output_type": "display_data"
        },
        {
          "name": "stderr",
          "output_type": "stream",
          "text": [
            "100%|██████████| 10/10 [07:19<00:00, 43.96s/it]"
          ]
        },
        {
          "name": "stdout",
          "output_type": "stream",
          "text": [
            "Training Accuracy: 10.048148148148147\n",
            "Validation Accuracy: 9.566666666666666\n"
          ]
        },
        {
          "name": "stderr",
          "output_type": "stream",
          "text": [
            "\n"
          ]
        },
        {
          "data": {
            "text/html": [
              "Waiting for W&B process to finish... <strong style=\"color:green\">(success).</strong>"
            ],
            "text/plain": [
              "<IPython.core.display.HTML object>"
            ]
          },
          "metadata": {},
          "output_type": "display_data"
        },
        {
          "data": {
            "text/html": [
              "<style>\n",
              "    table.wandb td:nth-child(1) { padding: 0 10px; text-align: left ; width: auto;} td:nth-child(2) {text-align: left ; width: 100%}\n",
              "    .wandb-row { display: flex; flex-direction: row; flex-wrap: wrap; justify-content: flex-start; width: 100% }\n",
              "    .wandb-col { display: flex; flex-direction: column; flex-basis: 100%; flex: 1; padding: 10px; }\n",
              "    </style>\n",
              "<div class=\"wandb-row\"><div class=\"wandb-col\"><h3>Run history:</h3><br/><table class=\"wandb\"><tr><td>Train_Accuracy</td><td>███▁▁▁▁▁▁▁</td></tr><tr><td>Train_Loss</td><td>▁█        </td></tr><tr><td>Validation_Accuracy</td><td>███▁▁▁▁▁▁▁</td></tr><tr><td>Validation_loss</td><td>▁▇█       </td></tr><tr><td>epoch</td><td>▁▂▃▃▄▅▆▆▇█</td></tr></table><br/></div><div class=\"wandb-col\"><h3>Run summary:</h3><br/><table class=\"wandb\"><tr><td>Train_Accuracy</td><td>10.04815</td></tr><tr><td>Train_Loss</td><td>nan</td></tr><tr><td>Validation_Accuracy</td><td>9.56667</td></tr><tr><td>Validation_loss</td><td>nan</td></tr><tr><td>epoch</td><td>9</td></tr></table><br/></div></div>"
            ],
            "text/plain": [
              "<IPython.core.display.HTML object>"
            ]
          },
          "metadata": {},
          "output_type": "display_data"
        },
        {
          "data": {
            "text/html": [
              " View run <strong style=\"color:#cdcd00\">stellar-sweep-12</strong> at: <a href='https://wandb.ai/siddharth-s/FODL_Assignment_1/runs/58rjf1zv' target=\"_blank\">https://wandb.ai/siddharth-s/FODL_Assignment_1/runs/58rjf1zv</a><br/>Synced 5 W&B file(s), 0 media file(s), 0 artifact file(s) and 0 other file(s)"
            ],
            "text/plain": [
              "<IPython.core.display.HTML object>"
            ]
          },
          "metadata": {},
          "output_type": "display_data"
        },
        {
          "data": {
            "text/html": [
              "Find logs at: <code>./wandb/run-20230318_210932-58rjf1zv/logs</code>"
            ],
            "text/plain": [
              "<IPython.core.display.HTML object>"
            ]
          },
          "metadata": {},
          "output_type": "display_data"
        },
        {
          "name": "stderr",
          "output_type": "stream",
          "text": [
            "\u001b[34m\u001b[1mwandb\u001b[0m: Agent Starting Run: m3bdq59m with config:\n",
            "\u001b[34m\u001b[1mwandb\u001b[0m: \tactivation_function: relu\n",
            "\u001b[34m\u001b[1mwandb\u001b[0m: \tinitialization_type: xavier\n",
            "\u001b[34m\u001b[1mwandb\u001b[0m: \tlambd: 0\n",
            "\u001b[34m\u001b[1mwandb\u001b[0m: \tlearning_rate: 0.001\n",
            "\u001b[34m\u001b[1mwandb\u001b[0m: \tmax_epochs: 10\n",
            "\u001b[34m\u001b[1mwandb\u001b[0m: \tmini_batch_size: 16\n",
            "\u001b[34m\u001b[1mwandb\u001b[0m: \tnumber_hidden_layers: 4\n",
            "\u001b[34m\u001b[1mwandb\u001b[0m: \tnumber_neurons: 32\n",
            "\u001b[34m\u001b[1mwandb\u001b[0m: \toptimization_function: stochastic_gd\n"
          ]
        },
        {
          "data": {
            "text/html": [
              "Tracking run with wandb version 0.14.0"
            ],
            "text/plain": [
              "<IPython.core.display.HTML object>"
            ]
          },
          "metadata": {},
          "output_type": "display_data"
        },
        {
          "data": {
            "text/html": [
              "Run data is saved locally in <code>/content/wandb/run-20230318_211707-m3bdq59m</code>"
            ],
            "text/plain": [
              "<IPython.core.display.HTML object>"
            ]
          },
          "metadata": {},
          "output_type": "display_data"
        },
        {
          "data": {
            "text/html": [
              "Syncing run <strong><a href='https://wandb.ai/siddharth-s/FODL_Assignment_1/runs/m3bdq59m' target=\"_blank\">driven-sweep-13</a></strong> to <a href='https://wandb.ai/siddharth-s/FODL_Assignment_1' target=\"_blank\">Weights & Biases</a> (<a href='https://wandb.me/run' target=\"_blank\">docs</a>)<br/>Sweep page: <a href='https://wandb.ai/siddharth-s/FODL_Assignment_1/sweeps/pqng4xvs' target=\"_blank\">https://wandb.ai/siddharth-s/FODL_Assignment_1/sweeps/pqng4xvs</a>"
            ],
            "text/plain": [
              "<IPython.core.display.HTML object>"
            ]
          },
          "metadata": {},
          "output_type": "display_data"
        },
        {
          "data": {
            "text/html": [
              " View project at <a href='https://wandb.ai/siddharth-s/FODL_Assignment_1' target=\"_blank\">https://wandb.ai/siddharth-s/FODL_Assignment_1</a>"
            ],
            "text/plain": [
              "<IPython.core.display.HTML object>"
            ]
          },
          "metadata": {},
          "output_type": "display_data"
        },
        {
          "data": {
            "text/html": [
              " View sweep at <a href='https://wandb.ai/siddharth-s/FODL_Assignment_1/sweeps/pqng4xvs' target=\"_blank\">https://wandb.ai/siddharth-s/FODL_Assignment_1/sweeps/pqng4xvs</a>"
            ],
            "text/plain": [
              "<IPython.core.display.HTML object>"
            ]
          },
          "metadata": {},
          "output_type": "display_data"
        },
        {
          "data": {
            "text/html": [
              " View run at <a href='https://wandb.ai/siddharth-s/FODL_Assignment_1/runs/m3bdq59m' target=\"_blank\">https://wandb.ai/siddharth-s/FODL_Assignment_1/runs/m3bdq59m</a>"
            ],
            "text/plain": [
              "<IPython.core.display.HTML object>"
            ]
          },
          "metadata": {},
          "output_type": "display_data"
        },
        {
          "name": "stderr",
          "output_type": "stream",
          "text": [
            "100%|██████████| 10/10 [04:52<00:00, 29.28s/it]"
          ]
        },
        {
          "name": "stdout",
          "output_type": "stream",
          "text": [
            "Training Accuracy: 88.37777777777778\n",
            "Validation Accuracy: 86.13333333333333\n"
          ]
        },
        {
          "name": "stderr",
          "output_type": "stream",
          "text": [
            "\n"
          ]
        },
        {
          "data": {
            "text/html": [
              "Waiting for W&B process to finish... <strong style=\"color:green\">(success).</strong>"
            ],
            "text/plain": [
              "<IPython.core.display.HTML object>"
            ]
          },
          "metadata": {},
          "output_type": "display_data"
        },
        {
          "data": {
            "application/vnd.jupyter.widget-view+json": {
              "model_id": "7bca4a59931242c2af4483dcd6ef7b8e",
              "version_major": 2,
              "version_minor": 0
            },
            "text/plain": [
              "VBox(children=(Label(value='0.001 MB of 0.001 MB uploaded (0.000 MB deduped)\\r'), FloatProgress(value=1.0, max…"
            ]
          },
          "metadata": {},
          "output_type": "display_data"
        },
        {
          "data": {
            "text/html": [
              "<style>\n",
              "    table.wandb td:nth-child(1) { padding: 0 10px; text-align: left ; width: auto;} td:nth-child(2) {text-align: left ; width: 100%}\n",
              "    .wandb-row { display: flex; flex-direction: row; flex-wrap: wrap; justify-content: flex-start; width: 100% }\n",
              "    .wandb-col { display: flex; flex-direction: column; flex-basis: 100%; flex: 1; padding: 10px; }\n",
              "    </style>\n",
              "<div class=\"wandb-row\"><div class=\"wandb-col\"><h3>Run history:</h3><br/><table class=\"wandb\"><tr><td>Train_Accuracy</td><td>▁▃▅▆▇▇▇▇██</td></tr><tr><td>Train_Loss</td><td>█▅▄▃▂▂▂▂▁▁</td></tr><tr><td>Validation_Accuracy</td><td>▁▄▆▆▇▇▇███</td></tr><tr><td>Validation_loss</td><td>█▅▃▂▂▁▁▁▁▁</td></tr><tr><td>epoch</td><td>▁▂▃▃▄▅▆▆▇█</td></tr></table><br/></div><div class=\"wandb-col\"><h3>Run summary:</h3><br/><table class=\"wandb\"><tr><td>Train_Accuracy</td><td>88.37778</td></tr><tr><td>Train_Loss</td><td>0.31364</td></tr><tr><td>Validation_Accuracy</td><td>86.13333</td></tr><tr><td>Validation_loss</td><td>0.37949</td></tr><tr><td>epoch</td><td>9</td></tr></table><br/></div></div>"
            ],
            "text/plain": [
              "<IPython.core.display.HTML object>"
            ]
          },
          "metadata": {},
          "output_type": "display_data"
        },
        {
          "data": {
            "text/html": [
              " View run <strong style=\"color:#cdcd00\">driven-sweep-13</strong> at: <a href='https://wandb.ai/siddharth-s/FODL_Assignment_1/runs/m3bdq59m' target=\"_blank\">https://wandb.ai/siddharth-s/FODL_Assignment_1/runs/m3bdq59m</a><br/>Synced 5 W&B file(s), 0 media file(s), 0 artifact file(s) and 0 other file(s)"
            ],
            "text/plain": [
              "<IPython.core.display.HTML object>"
            ]
          },
          "metadata": {},
          "output_type": "display_data"
        },
        {
          "data": {
            "text/html": [
              "Find logs at: <code>./wandb/run-20230318_211707-m3bdq59m/logs</code>"
            ],
            "text/plain": [
              "<IPython.core.display.HTML object>"
            ]
          },
          "metadata": {},
          "output_type": "display_data"
        },
        {
          "name": "stderr",
          "output_type": "stream",
          "text": [
            "\u001b[34m\u001b[1mwandb\u001b[0m: Agent Starting Run: 0w1673h1 with config:\n",
            "\u001b[34m\u001b[1mwandb\u001b[0m: \tactivation_function: sigmoid\n",
            "\u001b[34m\u001b[1mwandb\u001b[0m: \tinitialization_type: random\n",
            "\u001b[34m\u001b[1mwandb\u001b[0m: \tlambd: 0.0005\n",
            "\u001b[34m\u001b[1mwandb\u001b[0m: \tlearning_rate: 0.001\n",
            "\u001b[34m\u001b[1mwandb\u001b[0m: \tmax_epochs: 10\n",
            "\u001b[34m\u001b[1mwandb\u001b[0m: \tmini_batch_size: 16\n",
            "\u001b[34m\u001b[1mwandb\u001b[0m: \tnumber_hidden_layers: 4\n",
            "\u001b[34m\u001b[1mwandb\u001b[0m: \tnumber_neurons: 32\n",
            "\u001b[34m\u001b[1mwandb\u001b[0m: \toptimization_function: nadam\n"
          ]
        },
        {
          "data": {
            "text/html": [
              "Tracking run with wandb version 0.14.0"
            ],
            "text/plain": [
              "<IPython.core.display.HTML object>"
            ]
          },
          "metadata": {},
          "output_type": "display_data"
        },
        {
          "data": {
            "text/html": [
              "Run data is saved locally in <code>/content/wandb/run-20230318_212213-0w1673h1</code>"
            ],
            "text/plain": [
              "<IPython.core.display.HTML object>"
            ]
          },
          "metadata": {},
          "output_type": "display_data"
        },
        {
          "data": {
            "text/html": [
              "Syncing run <strong><a href='https://wandb.ai/siddharth-s/FODL_Assignment_1/runs/0w1673h1' target=\"_blank\">hopeful-sweep-14</a></strong> to <a href='https://wandb.ai/siddharth-s/FODL_Assignment_1' target=\"_blank\">Weights & Biases</a> (<a href='https://wandb.me/run' target=\"_blank\">docs</a>)<br/>Sweep page: <a href='https://wandb.ai/siddharth-s/FODL_Assignment_1/sweeps/pqng4xvs' target=\"_blank\">https://wandb.ai/siddharth-s/FODL_Assignment_1/sweeps/pqng4xvs</a>"
            ],
            "text/plain": [
              "<IPython.core.display.HTML object>"
            ]
          },
          "metadata": {},
          "output_type": "display_data"
        },
        {
          "data": {
            "text/html": [
              " View project at <a href='https://wandb.ai/siddharth-s/FODL_Assignment_1' target=\"_blank\">https://wandb.ai/siddharth-s/FODL_Assignment_1</a>"
            ],
            "text/plain": [
              "<IPython.core.display.HTML object>"
            ]
          },
          "metadata": {},
          "output_type": "display_data"
        },
        {
          "data": {
            "text/html": [
              " View sweep at <a href='https://wandb.ai/siddharth-s/FODL_Assignment_1/sweeps/pqng4xvs' target=\"_blank\">https://wandb.ai/siddharth-s/FODL_Assignment_1/sweeps/pqng4xvs</a>"
            ],
            "text/plain": [
              "<IPython.core.display.HTML object>"
            ]
          },
          "metadata": {},
          "output_type": "display_data"
        },
        {
          "data": {
            "text/html": [
              " View run at <a href='https://wandb.ai/siddharth-s/FODL_Assignment_1/runs/0w1673h1' target=\"_blank\">https://wandb.ai/siddharth-s/FODL_Assignment_1/runs/0w1673h1</a>"
            ],
            "text/plain": [
              "<IPython.core.display.HTML object>"
            ]
          },
          "metadata": {},
          "output_type": "display_data"
        },
        {
          "name": "stderr",
          "output_type": "stream",
          "text": [
            "100%|██████████| 10/10 [06:16<00:00, 37.62s/it]"
          ]
        },
        {
          "name": "stdout",
          "output_type": "stream",
          "text": [
            "Training Accuracy: 55.39074074074074\n",
            "Validation Accuracy: 55.75\n"
          ]
        },
        {
          "name": "stderr",
          "output_type": "stream",
          "text": [
            "\n"
          ]
        },
        {
          "data": {
            "text/html": [
              "Waiting for W&B process to finish... <strong style=\"color:green\">(success).</strong>"
            ],
            "text/plain": [
              "<IPython.core.display.HTML object>"
            ]
          },
          "metadata": {},
          "output_type": "display_data"
        },
        {
          "data": {
            "text/html": [
              "<style>\n",
              "    table.wandb td:nth-child(1) { padding: 0 10px; text-align: left ; width: auto;} td:nth-child(2) {text-align: left ; width: 100%}\n",
              "    .wandb-row { display: flex; flex-direction: row; flex-wrap: wrap; justify-content: flex-start; width: 100% }\n",
              "    .wandb-col { display: flex; flex-direction: column; flex-basis: 100%; flex: 1; padding: 10px; }\n",
              "    </style>\n",
              "<div class=\"wandb-row\"><div class=\"wandb-col\"><h3>Run history:</h3><br/><table class=\"wandb\"><tr><td>Train_Accuracy</td><td>▁▇▇▇▇█████</td></tr><tr><td>Train_Loss</td><td>█▃▂▁▁▁▁▁▂▁</td></tr><tr><td>Validation_Accuracy</td><td>▁▇▇▇▇▇▇███</td></tr><tr><td>Validation_loss</td><td>▂▁▁▁▃▃▄▆▇█</td></tr><tr><td>epoch</td><td>▁▂▃▃▄▅▆▆▇█</td></tr></table><br/></div><div class=\"wandb-col\"><h3>Run summary:</h3><br/><table class=\"wandb\"><tr><td>Train_Accuracy</td><td>55.39074</td></tr><tr><td>Train_Loss</td><td>1.08021</td></tr><tr><td>Validation_Accuracy</td><td>55.75</td></tr><tr><td>Validation_loss</td><td>1.5864</td></tr><tr><td>epoch</td><td>9</td></tr></table><br/></div></div>"
            ],
            "text/plain": [
              "<IPython.core.display.HTML object>"
            ]
          },
          "metadata": {},
          "output_type": "display_data"
        },
        {
          "data": {
            "text/html": [
              " View run <strong style=\"color:#cdcd00\">hopeful-sweep-14</strong> at: <a href='https://wandb.ai/siddharth-s/FODL_Assignment_1/runs/0w1673h1' target=\"_blank\">https://wandb.ai/siddharth-s/FODL_Assignment_1/runs/0w1673h1</a><br/>Synced 5 W&B file(s), 0 media file(s), 0 artifact file(s) and 0 other file(s)"
            ],
            "text/plain": [
              "<IPython.core.display.HTML object>"
            ]
          },
          "metadata": {},
          "output_type": "display_data"
        },
        {
          "data": {
            "text/html": [
              "Find logs at: <code>./wandb/run-20230318_212213-0w1673h1/logs</code>"
            ],
            "text/plain": [
              "<IPython.core.display.HTML object>"
            ]
          },
          "metadata": {},
          "output_type": "display_data"
        },
        {
          "name": "stderr",
          "output_type": "stream",
          "text": [
            "\u001b[34m\u001b[1mwandb\u001b[0m: Agent Starting Run: q9dq7elq with config:\n",
            "\u001b[34m\u001b[1mwandb\u001b[0m: \tactivation_function: sigmoid\n",
            "\u001b[34m\u001b[1mwandb\u001b[0m: \tinitialization_type: xavier\n",
            "\u001b[34m\u001b[1mwandb\u001b[0m: \tlambd: 0\n",
            "\u001b[34m\u001b[1mwandb\u001b[0m: \tlearning_rate: 0.0001\n",
            "\u001b[34m\u001b[1mwandb\u001b[0m: \tmax_epochs: 5\n",
            "\u001b[34m\u001b[1mwandb\u001b[0m: \tmini_batch_size: 64\n",
            "\u001b[34m\u001b[1mwandb\u001b[0m: \tnumber_hidden_layers: 4\n",
            "\u001b[34m\u001b[1mwandb\u001b[0m: \tnumber_neurons: 128\n",
            "\u001b[34m\u001b[1mwandb\u001b[0m: \toptimization_function: momentum_gd\n"
          ]
        },
        {
          "data": {
            "text/html": [
              "Tracking run with wandb version 0.14.0"
            ],
            "text/plain": [
              "<IPython.core.display.HTML object>"
            ]
          },
          "metadata": {},
          "output_type": "display_data"
        },
        {
          "data": {
            "text/html": [
              "Run data is saved locally in <code>/content/wandb/run-20230318_212846-q9dq7elq</code>"
            ],
            "text/plain": [
              "<IPython.core.display.HTML object>"
            ]
          },
          "metadata": {},
          "output_type": "display_data"
        },
        {
          "data": {
            "text/html": [
              "Syncing run <strong><a href='https://wandb.ai/siddharth-s/FODL_Assignment_1/runs/q9dq7elq' target=\"_blank\">decent-sweep-15</a></strong> to <a href='https://wandb.ai/siddharth-s/FODL_Assignment_1' target=\"_blank\">Weights & Biases</a> (<a href='https://wandb.me/run' target=\"_blank\">docs</a>)<br/>Sweep page: <a href='https://wandb.ai/siddharth-s/FODL_Assignment_1/sweeps/pqng4xvs' target=\"_blank\">https://wandb.ai/siddharth-s/FODL_Assignment_1/sweeps/pqng4xvs</a>"
            ],
            "text/plain": [
              "<IPython.core.display.HTML object>"
            ]
          },
          "metadata": {},
          "output_type": "display_data"
        },
        {
          "data": {
            "text/html": [
              " View project at <a href='https://wandb.ai/siddharth-s/FODL_Assignment_1' target=\"_blank\">https://wandb.ai/siddharth-s/FODL_Assignment_1</a>"
            ],
            "text/plain": [
              "<IPython.core.display.HTML object>"
            ]
          },
          "metadata": {},
          "output_type": "display_data"
        },
        {
          "data": {
            "text/html": [
              " View sweep at <a href='https://wandb.ai/siddharth-s/FODL_Assignment_1/sweeps/pqng4xvs' target=\"_blank\">https://wandb.ai/siddharth-s/FODL_Assignment_1/sweeps/pqng4xvs</a>"
            ],
            "text/plain": [
              "<IPython.core.display.HTML object>"
            ]
          },
          "metadata": {},
          "output_type": "display_data"
        },
        {
          "data": {
            "text/html": [
              " View run at <a href='https://wandb.ai/siddharth-s/FODL_Assignment_1/runs/q9dq7elq' target=\"_blank\">https://wandb.ai/siddharth-s/FODL_Assignment_1/runs/q9dq7elq</a>"
            ],
            "text/plain": [
              "<IPython.core.display.HTML object>"
            ]
          },
          "metadata": {},
          "output_type": "display_data"
        },
        {
          "name": "stderr",
          "output_type": "stream",
          "text": [
            "100%|██████████| 5/5 [05:46<00:00, 69.21s/it]"
          ]
        },
        {
          "name": "stdout",
          "output_type": "stream",
          "text": [
            "Training Accuracy: 50.79259259259259\n",
            "Validation Accuracy: 52.166666666666664\n"
          ]
        },
        {
          "name": "stderr",
          "output_type": "stream",
          "text": [
            "\n"
          ]
        },
        {
          "data": {
            "text/html": [
              "Waiting for W&B process to finish... <strong style=\"color:green\">(success).</strong>"
            ],
            "text/plain": [
              "<IPython.core.display.HTML object>"
            ]
          },
          "metadata": {},
          "output_type": "display_data"
        },
        {
          "data": {
            "application/vnd.jupyter.widget-view+json": {
              "model_id": "60a1f9bf4ab949759f8b238ac8503705",
              "version_major": 2,
              "version_minor": 0
            },
            "text/plain": [
              "VBox(children=(Label(value='0.001 MB of 0.001 MB uploaded (0.000 MB deduped)\\r'), FloatProgress(value=1.0, max…"
            ]
          },
          "metadata": {},
          "output_type": "display_data"
        },
        {
          "data": {
            "text/html": [
              "<style>\n",
              "    table.wandb td:nth-child(1) { padding: 0 10px; text-align: left ; width: auto;} td:nth-child(2) {text-align: left ; width: 100%}\n",
              "    .wandb-row { display: flex; flex-direction: row; flex-wrap: wrap; justify-content: flex-start; width: 100% }\n",
              "    .wandb-col { display: flex; flex-direction: column; flex-basis: 100%; flex: 1; padding: 10px; }\n",
              "    </style>\n",
              "<div class=\"wandb-row\"><div class=\"wandb-col\"><h3>Run history:</h3><br/><table class=\"wandb\"><tr><td>Train_Accuracy</td><td>▁▆▅▆█</td></tr><tr><td>Train_Loss</td><td>██▆▃▁</td></tr><tr><td>Validation_Accuracy</td><td>▁▆▅▆█</td></tr><tr><td>Validation_loss</td><td>██▆▃▁</td></tr><tr><td>epoch</td><td>▁▃▅▆█</td></tr></table><br/></div><div class=\"wandb-col\"><h3>Run summary:</h3><br/><table class=\"wandb\"><tr><td>Train_Accuracy</td><td>50.79259</td></tr><tr><td>Train_Loss</td><td>1.46886</td></tr><tr><td>Validation_Accuracy</td><td>52.16667</td></tr><tr><td>Validation_loss</td><td>1.46855</td></tr><tr><td>epoch</td><td>4</td></tr></table><br/></div></div>"
            ],
            "text/plain": [
              "<IPython.core.display.HTML object>"
            ]
          },
          "metadata": {},
          "output_type": "display_data"
        },
        {
          "data": {
            "text/html": [
              " View run <strong style=\"color:#cdcd00\">decent-sweep-15</strong> at: <a href='https://wandb.ai/siddharth-s/FODL_Assignment_1/runs/q9dq7elq' target=\"_blank\">https://wandb.ai/siddharth-s/FODL_Assignment_1/runs/q9dq7elq</a><br/>Synced 5 W&B file(s), 0 media file(s), 0 artifact file(s) and 0 other file(s)"
            ],
            "text/plain": [
              "<IPython.core.display.HTML object>"
            ]
          },
          "metadata": {},
          "output_type": "display_data"
        },
        {
          "data": {
            "text/html": [
              "Find logs at: <code>./wandb/run-20230318_212846-q9dq7elq/logs</code>"
            ],
            "text/plain": [
              "<IPython.core.display.HTML object>"
            ]
          },
          "metadata": {},
          "output_type": "display_data"
        },
        {
          "name": "stderr",
          "output_type": "stream",
          "text": [
            "\u001b[34m\u001b[1mwandb\u001b[0m: Agent Starting Run: mo564vg9 with config:\n",
            "\u001b[34m\u001b[1mwandb\u001b[0m: \tactivation_function: relu\n",
            "\u001b[34m\u001b[1mwandb\u001b[0m: \tinitialization_type: random\n",
            "\u001b[34m\u001b[1mwandb\u001b[0m: \tlambd: 0\n",
            "\u001b[34m\u001b[1mwandb\u001b[0m: \tlearning_rate: 0.001\n",
            "\u001b[34m\u001b[1mwandb\u001b[0m: \tmax_epochs: 5\n",
            "\u001b[34m\u001b[1mwandb\u001b[0m: \tmini_batch_size: 64\n",
            "\u001b[34m\u001b[1mwandb\u001b[0m: \tnumber_hidden_layers: 3\n",
            "\u001b[34m\u001b[1mwandb\u001b[0m: \tnumber_neurons: 64\n",
            "\u001b[34m\u001b[1mwandb\u001b[0m: \toptimization_function: adam\n"
          ]
        },
        {
          "data": {
            "text/html": [
              "Tracking run with wandb version 0.14.0"
            ],
            "text/plain": [
              "<IPython.core.display.HTML object>"
            ]
          },
          "metadata": {},
          "output_type": "display_data"
        },
        {
          "data": {
            "text/html": [
              "Run data is saved locally in <code>/content/wandb/run-20230318_213449-mo564vg9</code>"
            ],
            "text/plain": [
              "<IPython.core.display.HTML object>"
            ]
          },
          "metadata": {},
          "output_type": "display_data"
        },
        {
          "data": {
            "text/html": [
              "Syncing run <strong><a href='https://wandb.ai/siddharth-s/FODL_Assignment_1/runs/mo564vg9' target=\"_blank\">curious-sweep-16</a></strong> to <a href='https://wandb.ai/siddharth-s/FODL_Assignment_1' target=\"_blank\">Weights & Biases</a> (<a href='https://wandb.me/run' target=\"_blank\">docs</a>)<br/>Sweep page: <a href='https://wandb.ai/siddharth-s/FODL_Assignment_1/sweeps/pqng4xvs' target=\"_blank\">https://wandb.ai/siddharth-s/FODL_Assignment_1/sweeps/pqng4xvs</a>"
            ],
            "text/plain": [
              "<IPython.core.display.HTML object>"
            ]
          },
          "metadata": {},
          "output_type": "display_data"
        },
        {
          "data": {
            "text/html": [
              " View project at <a href='https://wandb.ai/siddharth-s/FODL_Assignment_1' target=\"_blank\">https://wandb.ai/siddharth-s/FODL_Assignment_1</a>"
            ],
            "text/plain": [
              "<IPython.core.display.HTML object>"
            ]
          },
          "metadata": {},
          "output_type": "display_data"
        },
        {
          "data": {
            "text/html": [
              " View sweep at <a href='https://wandb.ai/siddharth-s/FODL_Assignment_1/sweeps/pqng4xvs' target=\"_blank\">https://wandb.ai/siddharth-s/FODL_Assignment_1/sweeps/pqng4xvs</a>"
            ],
            "text/plain": [
              "<IPython.core.display.HTML object>"
            ]
          },
          "metadata": {},
          "output_type": "display_data"
        },
        {
          "data": {
            "text/html": [
              " View run at <a href='https://wandb.ai/siddharth-s/FODL_Assignment_1/runs/mo564vg9' target=\"_blank\">https://wandb.ai/siddharth-s/FODL_Assignment_1/runs/mo564vg9</a>"
            ],
            "text/plain": [
              "<IPython.core.display.HTML object>"
            ]
          },
          "metadata": {},
          "output_type": "display_data"
        },
        {
          "name": "stderr",
          "output_type": "stream",
          "text": [
            "100%|██████████| 5/5 [02:58<00:00, 35.68s/it]"
          ]
        },
        {
          "name": "stdout",
          "output_type": "stream",
          "text": [
            "Training Accuracy: 79.88703703703703\n",
            "Validation Accuracy: 79.31666666666666\n"
          ]
        },
        {
          "name": "stderr",
          "output_type": "stream",
          "text": [
            "\n"
          ]
        },
        {
          "data": {
            "text/html": [
              "Waiting for W&B process to finish... <strong style=\"color:green\">(success).</strong>"
            ],
            "text/plain": [
              "<IPython.core.display.HTML object>"
            ]
          },
          "metadata": {},
          "output_type": "display_data"
        },
        {
          "data": {
            "text/html": [
              "<style>\n",
              "    table.wandb td:nth-child(1) { padding: 0 10px; text-align: left ; width: auto;} td:nth-child(2) {text-align: left ; width: 100%}\n",
              "    .wandb-row { display: flex; flex-direction: row; flex-wrap: wrap; justify-content: flex-start; width: 100% }\n",
              "    .wandb-col { display: flex; flex-direction: column; flex-basis: 100%; flex: 1; padding: 10px; }\n",
              "    </style>\n",
              "<div class=\"wandb-row\"><div class=\"wandb-col\"><h3>Run history:</h3><br/><table class=\"wandb\"><tr><td>Train_Accuracy</td><td>▁▅▇██</td></tr><tr><td>Train_Loss</td><td>█▂▁▃ </td></tr><tr><td>Validation_Accuracy</td><td>▁▅▇██</td></tr><tr><td>Validation_loss</td><td>█▂▁▄ </td></tr><tr><td>epoch</td><td>▁▃▅▆█</td></tr></table><br/></div><div class=\"wandb-col\"><h3>Run summary:</h3><br/><table class=\"wandb\"><tr><td>Train_Accuracy</td><td>79.88704</td></tr><tr><td>Train_Loss</td><td>nan</td></tr><tr><td>Validation_Accuracy</td><td>79.31667</td></tr><tr><td>Validation_loss</td><td>nan</td></tr><tr><td>epoch</td><td>4</td></tr></table><br/></div></div>"
            ],
            "text/plain": [
              "<IPython.core.display.HTML object>"
            ]
          },
          "metadata": {},
          "output_type": "display_data"
        },
        {
          "data": {
            "text/html": [
              " View run <strong style=\"color:#cdcd00\">curious-sweep-16</strong> at: <a href='https://wandb.ai/siddharth-s/FODL_Assignment_1/runs/mo564vg9' target=\"_blank\">https://wandb.ai/siddharth-s/FODL_Assignment_1/runs/mo564vg9</a><br/>Synced 5 W&B file(s), 0 media file(s), 0 artifact file(s) and 0 other file(s)"
            ],
            "text/plain": [
              "<IPython.core.display.HTML object>"
            ]
          },
          "metadata": {},
          "output_type": "display_data"
        },
        {
          "data": {
            "text/html": [
              "Find logs at: <code>./wandb/run-20230318_213449-mo564vg9/logs</code>"
            ],
            "text/plain": [
              "<IPython.core.display.HTML object>"
            ]
          },
          "metadata": {},
          "output_type": "display_data"
        },
        {
          "name": "stderr",
          "output_type": "stream",
          "text": [
            "\u001b[34m\u001b[1mwandb\u001b[0m: Agent Starting Run: eq91zq2h with config:\n",
            "\u001b[34m\u001b[1mwandb\u001b[0m: \tactivation_function: relu\n",
            "\u001b[34m\u001b[1mwandb\u001b[0m: \tinitialization_type: random\n",
            "\u001b[34m\u001b[1mwandb\u001b[0m: \tlambd: 0\n",
            "\u001b[34m\u001b[1mwandb\u001b[0m: \tlearning_rate: 0.0001\n",
            "\u001b[34m\u001b[1mwandb\u001b[0m: \tmax_epochs: 5\n",
            "\u001b[34m\u001b[1mwandb\u001b[0m: \tmini_batch_size: 32\n",
            "\u001b[34m\u001b[1mwandb\u001b[0m: \tnumber_hidden_layers: 4\n",
            "\u001b[34m\u001b[1mwandb\u001b[0m: \tnumber_neurons: 64\n",
            "\u001b[34m\u001b[1mwandb\u001b[0m: \toptimization_function: adam\n"
          ]
        },
        {
          "data": {
            "text/html": [
              "Tracking run with wandb version 0.14.0"
            ],
            "text/plain": [
              "<IPython.core.display.HTML object>"
            ]
          },
          "metadata": {},
          "output_type": "display_data"
        },
        {
          "data": {
            "text/html": [
              "Run data is saved locally in <code>/content/wandb/run-20230318_213804-eq91zq2h</code>"
            ],
            "text/plain": [
              "<IPython.core.display.HTML object>"
            ]
          },
          "metadata": {},
          "output_type": "display_data"
        },
        {
          "data": {
            "text/html": [
              "Syncing run <strong><a href='https://wandb.ai/siddharth-s/FODL_Assignment_1/runs/eq91zq2h' target=\"_blank\">azure-sweep-17</a></strong> to <a href='https://wandb.ai/siddharth-s/FODL_Assignment_1' target=\"_blank\">Weights & Biases</a> (<a href='https://wandb.me/run' target=\"_blank\">docs</a>)<br/>Sweep page: <a href='https://wandb.ai/siddharth-s/FODL_Assignment_1/sweeps/pqng4xvs' target=\"_blank\">https://wandb.ai/siddharth-s/FODL_Assignment_1/sweeps/pqng4xvs</a>"
            ],
            "text/plain": [
              "<IPython.core.display.HTML object>"
            ]
          },
          "metadata": {},
          "output_type": "display_data"
        },
        {
          "data": {
            "text/html": [
              " View project at <a href='https://wandb.ai/siddharth-s/FODL_Assignment_1' target=\"_blank\">https://wandb.ai/siddharth-s/FODL_Assignment_1</a>"
            ],
            "text/plain": [
              "<IPython.core.display.HTML object>"
            ]
          },
          "metadata": {},
          "output_type": "display_data"
        },
        {
          "data": {
            "text/html": [
              " View sweep at <a href='https://wandb.ai/siddharth-s/FODL_Assignment_1/sweeps/pqng4xvs' target=\"_blank\">https://wandb.ai/siddharth-s/FODL_Assignment_1/sweeps/pqng4xvs</a>"
            ],
            "text/plain": [
              "<IPython.core.display.HTML object>"
            ]
          },
          "metadata": {},
          "output_type": "display_data"
        },
        {
          "data": {
            "text/html": [
              " View run at <a href='https://wandb.ai/siddharth-s/FODL_Assignment_1/runs/eq91zq2h' target=\"_blank\">https://wandb.ai/siddharth-s/FODL_Assignment_1/runs/eq91zq2h</a>"
            ],
            "text/plain": [
              "<IPython.core.display.HTML object>"
            ]
          },
          "metadata": {},
          "output_type": "display_data"
        },
        {
          "name": "stderr",
          "output_type": "stream",
          "text": [
            "100%|██████████| 5/5 [03:22<00:00, 40.54s/it]"
          ]
        },
        {
          "name": "stdout",
          "output_type": "stream",
          "text": [
            "Training Accuracy: 64.24814814814815\n",
            "Validation Accuracy: 64.64999999999999\n"
          ]
        },
        {
          "name": "stderr",
          "output_type": "stream",
          "text": [
            "\n"
          ]
        },
        {
          "data": {
            "text/html": [
              "Waiting for W&B process to finish... <strong style=\"color:green\">(success).</strong>"
            ],
            "text/plain": [
              "<IPython.core.display.HTML object>"
            ]
          },
          "metadata": {},
          "output_type": "display_data"
        },
        {
          "data": {
            "application/vnd.jupyter.widget-view+json": {
              "model_id": "845eb7e80a40450784ec98462bb11425",
              "version_major": 2,
              "version_minor": 0
            },
            "text/plain": [
              "VBox(children=(Label(value='0.001 MB of 0.001 MB uploaded (0.000 MB deduped)\\r'), FloatProgress(value=1.0, max…"
            ]
          },
          "metadata": {},
          "output_type": "display_data"
        },
        {
          "data": {
            "text/html": [
              "<style>\n",
              "    table.wandb td:nth-child(1) { padding: 0 10px; text-align: left ; width: auto;} td:nth-child(2) {text-align: left ; width: 100%}\n",
              "    .wandb-row { display: flex; flex-direction: row; flex-wrap: wrap; justify-content: flex-start; width: 100% }\n",
              "    .wandb-col { display: flex; flex-direction: column; flex-basis: 100%; flex: 1; padding: 10px; }\n",
              "    </style>\n",
              "<div class=\"wandb-row\"><div class=\"wandb-col\"><h3>Run history:</h3><br/><table class=\"wandb\"><tr><td>Train_Accuracy</td><td>▁▅▆██</td></tr><tr><td>Train_Loss</td><td>█▄▃▂▁</td></tr><tr><td>Validation_Accuracy</td><td>▁▅▆██</td></tr><tr><td>Validation_loss</td><td>█▅▃▂▁</td></tr><tr><td>epoch</td><td>▁▃▅▆█</td></tr></table><br/></div><div class=\"wandb-col\"><h3>Run summary:</h3><br/><table class=\"wandb\"><tr><td>Train_Accuracy</td><td>64.24815</td></tr><tr><td>Train_Loss</td><td>0.98021</td></tr><tr><td>Validation_Accuracy</td><td>64.65</td></tr><tr><td>Validation_loss</td><td>0.97792</td></tr><tr><td>epoch</td><td>4</td></tr></table><br/></div></div>"
            ],
            "text/plain": [
              "<IPython.core.display.HTML object>"
            ]
          },
          "metadata": {},
          "output_type": "display_data"
        },
        {
          "data": {
            "text/html": [
              " View run <strong style=\"color:#cdcd00\">azure-sweep-17</strong> at: <a href='https://wandb.ai/siddharth-s/FODL_Assignment_1/runs/eq91zq2h' target=\"_blank\">https://wandb.ai/siddharth-s/FODL_Assignment_1/runs/eq91zq2h</a><br/>Synced 5 W&B file(s), 0 media file(s), 0 artifact file(s) and 0 other file(s)"
            ],
            "text/plain": [
              "<IPython.core.display.HTML object>"
            ]
          },
          "metadata": {},
          "output_type": "display_data"
        },
        {
          "data": {
            "text/html": [
              "Find logs at: <code>./wandb/run-20230318_213804-eq91zq2h/logs</code>"
            ],
            "text/plain": [
              "<IPython.core.display.HTML object>"
            ]
          },
          "metadata": {},
          "output_type": "display_data"
        },
        {
          "name": "stderr",
          "output_type": "stream",
          "text": [
            "\u001b[34m\u001b[1mwandb\u001b[0m: Agent Starting Run: phb776jg with config:\n",
            "\u001b[34m\u001b[1mwandb\u001b[0m: \tactivation_function: tanh\n",
            "\u001b[34m\u001b[1mwandb\u001b[0m: \tinitialization_type: random\n",
            "\u001b[34m\u001b[1mwandb\u001b[0m: \tlambd: 0.0005\n",
            "\u001b[34m\u001b[1mwandb\u001b[0m: \tlearning_rate: 0.0001\n",
            "\u001b[34m\u001b[1mwandb\u001b[0m: \tmax_epochs: 10\n",
            "\u001b[34m\u001b[1mwandb\u001b[0m: \tmini_batch_size: 32\n",
            "\u001b[34m\u001b[1mwandb\u001b[0m: \tnumber_hidden_layers: 4\n",
            "\u001b[34m\u001b[1mwandb\u001b[0m: \tnumber_neurons: 128\n",
            "\u001b[34m\u001b[1mwandb\u001b[0m: \toptimization_function: nadam\n"
          ]
        },
        {
          "data": {
            "text/html": [
              "Tracking run with wandb version 0.14.0"
            ],
            "text/plain": [
              "<IPython.core.display.HTML object>"
            ]
          },
          "metadata": {},
          "output_type": "display_data"
        },
        {
          "data": {
            "text/html": [
              "Run data is saved locally in <code>/content/wandb/run-20230318_214140-phb776jg</code>"
            ],
            "text/plain": [
              "<IPython.core.display.HTML object>"
            ]
          },
          "metadata": {},
          "output_type": "display_data"
        },
        {
          "data": {
            "text/html": [
              "Syncing run <strong><a href='https://wandb.ai/siddharth-s/FODL_Assignment_1/runs/phb776jg' target=\"_blank\">exalted-sweep-18</a></strong> to <a href='https://wandb.ai/siddharth-s/FODL_Assignment_1' target=\"_blank\">Weights & Biases</a> (<a href='https://wandb.me/run' target=\"_blank\">docs</a>)<br/>Sweep page: <a href='https://wandb.ai/siddharth-s/FODL_Assignment_1/sweeps/pqng4xvs' target=\"_blank\">https://wandb.ai/siddharth-s/FODL_Assignment_1/sweeps/pqng4xvs</a>"
            ],
            "text/plain": [
              "<IPython.core.display.HTML object>"
            ]
          },
          "metadata": {},
          "output_type": "display_data"
        },
        {
          "data": {
            "text/html": [
              " View project at <a href='https://wandb.ai/siddharth-s/FODL_Assignment_1' target=\"_blank\">https://wandb.ai/siddharth-s/FODL_Assignment_1</a>"
            ],
            "text/plain": [
              "<IPython.core.display.HTML object>"
            ]
          },
          "metadata": {},
          "output_type": "display_data"
        },
        {
          "data": {
            "text/html": [
              " View sweep at <a href='https://wandb.ai/siddharth-s/FODL_Assignment_1/sweeps/pqng4xvs' target=\"_blank\">https://wandb.ai/siddharth-s/FODL_Assignment_1/sweeps/pqng4xvs</a>"
            ],
            "text/plain": [
              "<IPython.core.display.HTML object>"
            ]
          },
          "metadata": {},
          "output_type": "display_data"
        },
        {
          "data": {
            "text/html": [
              " View run at <a href='https://wandb.ai/siddharth-s/FODL_Assignment_1/runs/phb776jg' target=\"_blank\">https://wandb.ai/siddharth-s/FODL_Assignment_1/runs/phb776jg</a>"
            ],
            "text/plain": [
              "<IPython.core.display.HTML object>"
            ]
          },
          "metadata": {},
          "output_type": "display_data"
        },
        {
          "name": "stderr",
          "output_type": "stream",
          "text": [
            "100%|██████████| 10/10 [11:48<00:00, 70.89s/it]"
          ]
        },
        {
          "name": "stdout",
          "output_type": "stream",
          "text": [
            "Training Accuracy: 86.67777777777778\n",
            "Validation Accuracy: 85.8\n"
          ]
        },
        {
          "name": "stderr",
          "output_type": "stream",
          "text": [
            "\n"
          ]
        },
        {
          "data": {
            "text/html": [
              "Waiting for W&B process to finish... <strong style=\"color:green\">(success).</strong>"
            ],
            "text/plain": [
              "<IPython.core.display.HTML object>"
            ]
          },
          "metadata": {},
          "output_type": "display_data"
        },
        {
          "data": {
            "text/html": [
              "<style>\n",
              "    table.wandb td:nth-child(1) { padding: 0 10px; text-align: left ; width: auto;} td:nth-child(2) {text-align: left ; width: 100%}\n",
              "    .wandb-row { display: flex; flex-direction: row; flex-wrap: wrap; justify-content: flex-start; width: 100% }\n",
              "    .wandb-col { display: flex; flex-direction: column; flex-basis: 100%; flex: 1; padding: 10px; }\n",
              "    </style>\n",
              "<div class=\"wandb-row\"><div class=\"wandb-col\"><h3>Run history:</h3><br/><table class=\"wandb\"><tr><td>Train_Accuracy</td><td>▁▆▇▇██████</td></tr><tr><td>Train_Loss</td><td>█▄▃▂▂▁▁▁▁▁</td></tr><tr><td>Validation_Accuracy</td><td>▁▆▇▇██████</td></tr><tr><td>Validation_loss</td><td>█▃▂▁▁▁▁▁▁▁</td></tr><tr><td>epoch</td><td>▁▂▃▃▄▅▆▆▇█</td></tr></table><br/></div><div class=\"wandb-col\"><h3>Run summary:</h3><br/><table class=\"wandb\"><tr><td>Train_Accuracy</td><td>86.67778</td></tr><tr><td>Train_Loss</td><td>0.3872</td></tr><tr><td>Validation_Accuracy</td><td>85.8</td></tr><tr><td>Validation_loss</td><td>0.4259</td></tr><tr><td>epoch</td><td>9</td></tr></table><br/></div></div>"
            ],
            "text/plain": [
              "<IPython.core.display.HTML object>"
            ]
          },
          "metadata": {},
          "output_type": "display_data"
        },
        {
          "data": {
            "text/html": [
              " View run <strong style=\"color:#cdcd00\">exalted-sweep-18</strong> at: <a href='https://wandb.ai/siddharth-s/FODL_Assignment_1/runs/phb776jg' target=\"_blank\">https://wandb.ai/siddharth-s/FODL_Assignment_1/runs/phb776jg</a><br/>Synced 5 W&B file(s), 0 media file(s), 0 artifact file(s) and 0 other file(s)"
            ],
            "text/plain": [
              "<IPython.core.display.HTML object>"
            ]
          },
          "metadata": {},
          "output_type": "display_data"
        },
        {
          "data": {
            "text/html": [
              "Find logs at: <code>./wandb/run-20230318_214140-phb776jg/logs</code>"
            ],
            "text/plain": [
              "<IPython.core.display.HTML object>"
            ]
          },
          "metadata": {},
          "output_type": "display_data"
        },
        {
          "name": "stderr",
          "output_type": "stream",
          "text": [
            "\u001b[34m\u001b[1mwandb\u001b[0m: Agent Starting Run: n49qjs4c with config:\n",
            "\u001b[34m\u001b[1mwandb\u001b[0m: \tactivation_function: relu\n",
            "\u001b[34m\u001b[1mwandb\u001b[0m: \tinitialization_type: random\n",
            "\u001b[34m\u001b[1mwandb\u001b[0m: \tlambd: 0.0005\n",
            "\u001b[34m\u001b[1mwandb\u001b[0m: \tlearning_rate: 0.001\n",
            "\u001b[34m\u001b[1mwandb\u001b[0m: \tmax_epochs: 10\n",
            "\u001b[34m\u001b[1mwandb\u001b[0m: \tmini_batch_size: 32\n",
            "\u001b[34m\u001b[1mwandb\u001b[0m: \tnumber_hidden_layers: 4\n",
            "\u001b[34m\u001b[1mwandb\u001b[0m: \tnumber_neurons: 64\n",
            "\u001b[34m\u001b[1mwandb\u001b[0m: \toptimization_function: nadam\n"
          ]
        },
        {
          "data": {
            "text/html": [
              "Tracking run with wandb version 0.14.0"
            ],
            "text/plain": [
              "<IPython.core.display.HTML object>"
            ]
          },
          "metadata": {},
          "output_type": "display_data"
        },
        {
          "data": {
            "text/html": [
              "Run data is saved locally in <code>/content/wandb/run-20230318_215346-n49qjs4c</code>"
            ],
            "text/plain": [
              "<IPython.core.display.HTML object>"
            ]
          },
          "metadata": {},
          "output_type": "display_data"
        },
        {
          "data": {
            "text/html": [
              "Syncing run <strong><a href='https://wandb.ai/siddharth-s/FODL_Assignment_1/runs/n49qjs4c' target=\"_blank\">ethereal-sweep-19</a></strong> to <a href='https://wandb.ai/siddharth-s/FODL_Assignment_1' target=\"_blank\">Weights & Biases</a> (<a href='https://wandb.me/run' target=\"_blank\">docs</a>)<br/>Sweep page: <a href='https://wandb.ai/siddharth-s/FODL_Assignment_1/sweeps/pqng4xvs' target=\"_blank\">https://wandb.ai/siddharth-s/FODL_Assignment_1/sweeps/pqng4xvs</a>"
            ],
            "text/plain": [
              "<IPython.core.display.HTML object>"
            ]
          },
          "metadata": {},
          "output_type": "display_data"
        },
        {
          "data": {
            "text/html": [
              " View project at <a href='https://wandb.ai/siddharth-s/FODL_Assignment_1' target=\"_blank\">https://wandb.ai/siddharth-s/FODL_Assignment_1</a>"
            ],
            "text/plain": [
              "<IPython.core.display.HTML object>"
            ]
          },
          "metadata": {},
          "output_type": "display_data"
        },
        {
          "data": {
            "text/html": [
              " View sweep at <a href='https://wandb.ai/siddharth-s/FODL_Assignment_1/sweeps/pqng4xvs' target=\"_blank\">https://wandb.ai/siddharth-s/FODL_Assignment_1/sweeps/pqng4xvs</a>"
            ],
            "text/plain": [
              "<IPython.core.display.HTML object>"
            ]
          },
          "metadata": {},
          "output_type": "display_data"
        },
        {
          "data": {
            "text/html": [
              " View run at <a href='https://wandb.ai/siddharth-s/FODL_Assignment_1/runs/n49qjs4c' target=\"_blank\">https://wandb.ai/siddharth-s/FODL_Assignment_1/runs/n49qjs4c</a>"
            ],
            "text/plain": [
              "<IPython.core.display.HTML object>"
            ]
          },
          "metadata": {},
          "output_type": "display_data"
        },
        {
          "name": "stderr",
          "output_type": "stream",
          "text": [
            "100%|██████████| 10/10 [06:55<00:00, 41.59s/it]"
          ]
        },
        {
          "name": "stdout",
          "output_type": "stream",
          "text": [
            "Training Accuracy: 10.048148148148147\n",
            "Validation Accuracy: 9.566666666666666\n"
          ]
        },
        {
          "name": "stderr",
          "output_type": "stream",
          "text": [
            "\n"
          ]
        },
        {
          "data": {
            "text/html": [
              "Waiting for W&B process to finish... <strong style=\"color:green\">(success).</strong>"
            ],
            "text/plain": [
              "<IPython.core.display.HTML object>"
            ]
          },
          "metadata": {},
          "output_type": "display_data"
        },
        {
          "data": {
            "text/html": [
              "<style>\n",
              "    table.wandb td:nth-child(1) { padding: 0 10px; text-align: left ; width: auto;} td:nth-child(2) {text-align: left ; width: 100%}\n",
              "    .wandb-row { display: flex; flex-direction: row; flex-wrap: wrap; justify-content: flex-start; width: 100% }\n",
              "    .wandb-col { display: flex; flex-direction: column; flex-basis: 100%; flex: 1; padding: 10px; }\n",
              "    </style>\n",
              "<div class=\"wandb-row\"><div class=\"wandb-col\"><h3>Run history:</h3><br/><table class=\"wandb\"><tr><td>Train_Accuracy</td><td>▁▁▁▁▁▁▁▁▁▁</td></tr><tr><td>Validation_Accuracy</td><td>▁▁▁▁▁▁▁▁▁▁</td></tr><tr><td>epoch</td><td>▁▂▃▃▄▅▆▆▇█</td></tr></table><br/></div><div class=\"wandb-col\"><h3>Run summary:</h3><br/><table class=\"wandb\"><tr><td>Train_Accuracy</td><td>10.04815</td></tr><tr><td>Train_Loss</td><td>nan</td></tr><tr><td>Validation_Accuracy</td><td>9.56667</td></tr><tr><td>Validation_loss</td><td>nan</td></tr><tr><td>epoch</td><td>9</td></tr></table><br/></div></div>"
            ],
            "text/plain": [
              "<IPython.core.display.HTML object>"
            ]
          },
          "metadata": {},
          "output_type": "display_data"
        },
        {
          "data": {
            "text/html": [
              " View run <strong style=\"color:#cdcd00\">ethereal-sweep-19</strong> at: <a href='https://wandb.ai/siddharth-s/FODL_Assignment_1/runs/n49qjs4c' target=\"_blank\">https://wandb.ai/siddharth-s/FODL_Assignment_1/runs/n49qjs4c</a><br/>Synced 5 W&B file(s), 0 media file(s), 0 artifact file(s) and 0 other file(s)"
            ],
            "text/plain": [
              "<IPython.core.display.HTML object>"
            ]
          },
          "metadata": {},
          "output_type": "display_data"
        },
        {
          "data": {
            "text/html": [
              "Find logs at: <code>./wandb/run-20230318_215346-n49qjs4c/logs</code>"
            ],
            "text/plain": [
              "<IPython.core.display.HTML object>"
            ]
          },
          "metadata": {},
          "output_type": "display_data"
        },
        {
          "name": "stderr",
          "output_type": "stream",
          "text": [
            "\u001b[34m\u001b[1mwandb\u001b[0m: Sweep Agent: Waiting for job.\n",
            "\u001b[34m\u001b[1mwandb\u001b[0m: Job received.\n",
            "\u001b[34m\u001b[1mwandb\u001b[0m: Agent Starting Run: ih5e3232 with config:\n",
            "\u001b[34m\u001b[1mwandb\u001b[0m: \tactivation_function: relu\n",
            "\u001b[34m\u001b[1mwandb\u001b[0m: \tinitialization_type: random\n",
            "\u001b[34m\u001b[1mwandb\u001b[0m: \tlambd: 0\n",
            "\u001b[34m\u001b[1mwandb\u001b[0m: \tlearning_rate: 0.0001\n",
            "\u001b[34m\u001b[1mwandb\u001b[0m: \tmax_epochs: 5\n",
            "\u001b[34m\u001b[1mwandb\u001b[0m: \tmini_batch_size: 32\n",
            "\u001b[34m\u001b[1mwandb\u001b[0m: \tnumber_hidden_layers: 3\n",
            "\u001b[34m\u001b[1mwandb\u001b[0m: \tnumber_neurons: 64\n",
            "\u001b[34m\u001b[1mwandb\u001b[0m: \toptimization_function: momentum_gd\n"
          ]
        },
        {
          "data": {
            "text/html": [
              "Tracking run with wandb version 0.14.0"
            ],
            "text/plain": [
              "<IPython.core.display.HTML object>"
            ]
          },
          "metadata": {},
          "output_type": "display_data"
        },
        {
          "data": {
            "text/html": [
              "Run data is saved locally in <code>/content/wandb/run-20230318_220105-ih5e3232</code>"
            ],
            "text/plain": [
              "<IPython.core.display.HTML object>"
            ]
          },
          "metadata": {},
          "output_type": "display_data"
        },
        {
          "data": {
            "text/html": [
              "Syncing run <strong><a href='https://wandb.ai/siddharth-s/FODL_Assignment_1/runs/ih5e3232' target=\"_blank\">laced-sweep-20</a></strong> to <a href='https://wandb.ai/siddharth-s/FODL_Assignment_1' target=\"_blank\">Weights & Biases</a> (<a href='https://wandb.me/run' target=\"_blank\">docs</a>)<br/>Sweep page: <a href='https://wandb.ai/siddharth-s/FODL_Assignment_1/sweeps/pqng4xvs' target=\"_blank\">https://wandb.ai/siddharth-s/FODL_Assignment_1/sweeps/pqng4xvs</a>"
            ],
            "text/plain": [
              "<IPython.core.display.HTML object>"
            ]
          },
          "metadata": {},
          "output_type": "display_data"
        },
        {
          "data": {
            "text/html": [
              " View project at <a href='https://wandb.ai/siddharth-s/FODL_Assignment_1' target=\"_blank\">https://wandb.ai/siddharth-s/FODL_Assignment_1</a>"
            ],
            "text/plain": [
              "<IPython.core.display.HTML object>"
            ]
          },
          "metadata": {},
          "output_type": "display_data"
        },
        {
          "data": {
            "text/html": [
              " View sweep at <a href='https://wandb.ai/siddharth-s/FODL_Assignment_1/sweeps/pqng4xvs' target=\"_blank\">https://wandb.ai/siddharth-s/FODL_Assignment_1/sweeps/pqng4xvs</a>"
            ],
            "text/plain": [
              "<IPython.core.display.HTML object>"
            ]
          },
          "metadata": {},
          "output_type": "display_data"
        },
        {
          "data": {
            "text/html": [
              " View run at <a href='https://wandb.ai/siddharth-s/FODL_Assignment_1/runs/ih5e3232' target=\"_blank\">https://wandb.ai/siddharth-s/FODL_Assignment_1/runs/ih5e3232</a>"
            ],
            "text/plain": [
              "<IPython.core.display.HTML object>"
            ]
          },
          "metadata": {},
          "output_type": "display_data"
        },
        {
          "name": "stderr",
          "output_type": "stream",
          "text": [
            "100%|██████████| 5/5 [02:46<00:00, 33.34s/it]"
          ]
        },
        {
          "name": "stdout",
          "output_type": "stream",
          "text": [
            "Training Accuracy: 10.05\n",
            "Validation Accuracy: 9.55\n"
          ]
        },
        {
          "name": "stderr",
          "output_type": "stream",
          "text": [
            "\n"
          ]
        },
        {
          "data": {
            "text/html": [
              "Waiting for W&B process to finish... <strong style=\"color:green\">(success).</strong>"
            ],
            "text/plain": [
              "<IPython.core.display.HTML object>"
            ]
          },
          "metadata": {},
          "output_type": "display_data"
        },
        {
          "data": {
            "text/html": [
              "<style>\n",
              "    table.wandb td:nth-child(1) { padding: 0 10px; text-align: left ; width: auto;} td:nth-child(2) {text-align: left ; width: 100%}\n",
              "    .wandb-row { display: flex; flex-direction: row; flex-wrap: wrap; justify-content: flex-start; width: 100% }\n",
              "    .wandb-col { display: flex; flex-direction: column; flex-basis: 100%; flex: 1; padding: 10px; }\n",
              "    </style>\n",
              "<div class=\"wandb-row\"><div class=\"wandb-col\"><h3>Run history:</h3><br/><table class=\"wandb\"><tr><td>Train_Accuracy</td><td>▁████</td></tr><tr><td>Train_Loss</td><td>█▆▄▃▁</td></tr><tr><td>Validation_Accuracy</td><td>█▁▁▁▁</td></tr><tr><td>Validation_loss</td><td>▃██▅▁</td></tr><tr><td>epoch</td><td>▁▃▅▆█</td></tr></table><br/></div><div class=\"wandb-col\"><h3>Run summary:</h3><br/><table class=\"wandb\"><tr><td>Train_Accuracy</td><td>10.05</td></tr><tr><td>Train_Loss</td><td>2.30256</td></tr><tr><td>Validation_Accuracy</td><td>9.55</td></tr><tr><td>Validation_loss</td><td>2.3027</td></tr><tr><td>epoch</td><td>4</td></tr></table><br/></div></div>"
            ],
            "text/plain": [
              "<IPython.core.display.HTML object>"
            ]
          },
          "metadata": {},
          "output_type": "display_data"
        },
        {
          "data": {
            "text/html": [
              " View run <strong style=\"color:#cdcd00\">laced-sweep-20</strong> at: <a href='https://wandb.ai/siddharth-s/FODL_Assignment_1/runs/ih5e3232' target=\"_blank\">https://wandb.ai/siddharth-s/FODL_Assignment_1/runs/ih5e3232</a><br/>Synced 5 W&B file(s), 0 media file(s), 0 artifact file(s) and 0 other file(s)"
            ],
            "text/plain": [
              "<IPython.core.display.HTML object>"
            ]
          },
          "metadata": {},
          "output_type": "display_data"
        },
        {
          "data": {
            "text/html": [
              "Find logs at: <code>./wandb/run-20230318_220105-ih5e3232/logs</code>"
            ],
            "text/plain": [
              "<IPython.core.display.HTML object>"
            ]
          },
          "metadata": {},
          "output_type": "display_data"
        },
        {
          "name": "stderr",
          "output_type": "stream",
          "text": [
            "\u001b[34m\u001b[1mwandb\u001b[0m: Agent Starting Run: ez1ip2ub with config:\n",
            "\u001b[34m\u001b[1mwandb\u001b[0m: \tactivation_function: tanh\n",
            "\u001b[34m\u001b[1mwandb\u001b[0m: \tinitialization_type: random\n",
            "\u001b[34m\u001b[1mwandb\u001b[0m: \tlambd: 0\n",
            "\u001b[34m\u001b[1mwandb\u001b[0m: \tlearning_rate: 0.001\n",
            "\u001b[34m\u001b[1mwandb\u001b[0m: \tmax_epochs: 10\n",
            "\u001b[34m\u001b[1mwandb\u001b[0m: \tmini_batch_size: 64\n",
            "\u001b[34m\u001b[1mwandb\u001b[0m: \tnumber_hidden_layers: 5\n",
            "\u001b[34m\u001b[1mwandb\u001b[0m: \tnumber_neurons: 32\n",
            "\u001b[34m\u001b[1mwandb\u001b[0m: \toptimization_function: adam\n"
          ]
        },
        {
          "data": {
            "text/html": [
              "Tracking run with wandb version 0.14.0"
            ],
            "text/plain": [
              "<IPython.core.display.HTML object>"
            ]
          },
          "metadata": {},
          "output_type": "display_data"
        },
        {
          "data": {
            "text/html": [
              "Run data is saved locally in <code>/content/wandb/run-20230318_220410-ez1ip2ub</code>"
            ],
            "text/plain": [
              "<IPython.core.display.HTML object>"
            ]
          },
          "metadata": {},
          "output_type": "display_data"
        },
        {
          "data": {
            "text/html": [
              "Syncing run <strong><a href='https://wandb.ai/siddharth-s/FODL_Assignment_1/runs/ez1ip2ub' target=\"_blank\">ethereal-sweep-21</a></strong> to <a href='https://wandb.ai/siddharth-s/FODL_Assignment_1' target=\"_blank\">Weights & Biases</a> (<a href='https://wandb.me/run' target=\"_blank\">docs</a>)<br/>Sweep page: <a href='https://wandb.ai/siddharth-s/FODL_Assignment_1/sweeps/pqng4xvs' target=\"_blank\">https://wandb.ai/siddharth-s/FODL_Assignment_1/sweeps/pqng4xvs</a>"
            ],
            "text/plain": [
              "<IPython.core.display.HTML object>"
            ]
          },
          "metadata": {},
          "output_type": "display_data"
        },
        {
          "data": {
            "text/html": [
              " View project at <a href='https://wandb.ai/siddharth-s/FODL_Assignment_1' target=\"_blank\">https://wandb.ai/siddharth-s/FODL_Assignment_1</a>"
            ],
            "text/plain": [
              "<IPython.core.display.HTML object>"
            ]
          },
          "metadata": {},
          "output_type": "display_data"
        },
        {
          "data": {
            "text/html": [
              " View sweep at <a href='https://wandb.ai/siddharth-s/FODL_Assignment_1/sweeps/pqng4xvs' target=\"_blank\">https://wandb.ai/siddharth-s/FODL_Assignment_1/sweeps/pqng4xvs</a>"
            ],
            "text/plain": [
              "<IPython.core.display.HTML object>"
            ]
          },
          "metadata": {},
          "output_type": "display_data"
        },
        {
          "data": {
            "text/html": [
              " View run at <a href='https://wandb.ai/siddharth-s/FODL_Assignment_1/runs/ez1ip2ub' target=\"_blank\">https://wandb.ai/siddharth-s/FODL_Assignment_1/runs/ez1ip2ub</a>"
            ],
            "text/plain": [
              "<IPython.core.display.HTML object>"
            ]
          },
          "metadata": {},
          "output_type": "display_data"
        },
        {
          "name": "stderr",
          "output_type": "stream",
          "text": [
            "100%|██████████| 10/10 [05:44<00:00, 34.47s/it]"
          ]
        },
        {
          "name": "stdout",
          "output_type": "stream",
          "text": [
            "Training Accuracy: 84.53148148148148\n",
            "Validation Accuracy: 84.08333333333333\n"
          ]
        },
        {
          "name": "stderr",
          "output_type": "stream",
          "text": [
            "\n"
          ]
        },
        {
          "data": {
            "text/html": [
              "Waiting for W&B process to finish... <strong style=\"color:green\">(success).</strong>"
            ],
            "text/plain": [
              "<IPython.core.display.HTML object>"
            ]
          },
          "metadata": {},
          "output_type": "display_data"
        },
        {
          "data": {
            "application/vnd.jupyter.widget-view+json": {
              "model_id": "a46de18e0a5648adaa2c0eb3dd2a3b5d",
              "version_major": 2,
              "version_minor": 0
            },
            "text/plain": [
              "VBox(children=(Label(value='0.001 MB of 0.001 MB uploaded (0.000 MB deduped)\\r'), FloatProgress(value=1.0, max…"
            ]
          },
          "metadata": {},
          "output_type": "display_data"
        },
        {
          "data": {
            "text/html": [
              "<style>\n",
              "    table.wandb td:nth-child(1) { padding: 0 10px; text-align: left ; width: auto;} td:nth-child(2) {text-align: left ; width: 100%}\n",
              "    .wandb-row { display: flex; flex-direction: row; flex-wrap: wrap; justify-content: flex-start; width: 100% }\n",
              "    .wandb-col { display: flex; flex-direction: column; flex-basis: 100%; flex: 1; padding: 10px; }\n",
              "    </style>\n",
              "<div class=\"wandb-row\"><div class=\"wandb-col\"><h3>Run history:</h3><br/><table class=\"wandb\"><tr><td>Train_Accuracy</td><td>▁▅▆▇▇▇████</td></tr><tr><td>Train_Loss</td><td>█▄▃▃▃▂▂▁▁▁</td></tr><tr><td>Validation_Accuracy</td><td>▁▅▆▇▇▇████</td></tr><tr><td>Validation_loss</td><td>█▄▃▃▃▂▂▁▁▁</td></tr><tr><td>epoch</td><td>▁▂▃▃▄▅▆▆▇█</td></tr></table><br/></div><div class=\"wandb-col\"><h3>Run summary:</h3><br/><table class=\"wandb\"><tr><td>Train_Accuracy</td><td>84.53148</td></tr><tr><td>Train_Loss</td><td>0.46691</td></tr><tr><td>Validation_Accuracy</td><td>84.08333</td></tr><tr><td>Validation_loss</td><td>0.49026</td></tr><tr><td>epoch</td><td>9</td></tr></table><br/></div></div>"
            ],
            "text/plain": [
              "<IPython.core.display.HTML object>"
            ]
          },
          "metadata": {},
          "output_type": "display_data"
        },
        {
          "data": {
            "text/html": [
              " View run <strong style=\"color:#cdcd00\">ethereal-sweep-21</strong> at: <a href='https://wandb.ai/siddharth-s/FODL_Assignment_1/runs/ez1ip2ub' target=\"_blank\">https://wandb.ai/siddharth-s/FODL_Assignment_1/runs/ez1ip2ub</a><br/>Synced 5 W&B file(s), 0 media file(s), 0 artifact file(s) and 0 other file(s)"
            ],
            "text/plain": [
              "<IPython.core.display.HTML object>"
            ]
          },
          "metadata": {},
          "output_type": "display_data"
        },
        {
          "data": {
            "text/html": [
              "Find logs at: <code>./wandb/run-20230318_220410-ez1ip2ub/logs</code>"
            ],
            "text/plain": [
              "<IPython.core.display.HTML object>"
            ]
          },
          "metadata": {},
          "output_type": "display_data"
        },
        {
          "name": "stderr",
          "output_type": "stream",
          "text": [
            "\u001b[34m\u001b[1mwandb\u001b[0m: Agent Starting Run: yn7qjphy with config:\n",
            "\u001b[34m\u001b[1mwandb\u001b[0m: \tactivation_function: relu\n",
            "\u001b[34m\u001b[1mwandb\u001b[0m: \tinitialization_type: xavier\n",
            "\u001b[34m\u001b[1mwandb\u001b[0m: \tlambd: 0\n",
            "\u001b[34m\u001b[1mwandb\u001b[0m: \tlearning_rate: 0.0001\n",
            "\u001b[34m\u001b[1mwandb\u001b[0m: \tmax_epochs: 10\n",
            "\u001b[34m\u001b[1mwandb\u001b[0m: \tmini_batch_size: 64\n",
            "\u001b[34m\u001b[1mwandb\u001b[0m: \tnumber_hidden_layers: 5\n",
            "\u001b[34m\u001b[1mwandb\u001b[0m: \tnumber_neurons: 64\n",
            "\u001b[34m\u001b[1mwandb\u001b[0m: \toptimization_function: nadam\n"
          ]
        },
        {
          "data": {
            "text/html": [
              "Tracking run with wandb version 0.14.0"
            ],
            "text/plain": [
              "<IPython.core.display.HTML object>"
            ]
          },
          "metadata": {},
          "output_type": "display_data"
        },
        {
          "data": {
            "text/html": [
              "Run data is saved locally in <code>/content/wandb/run-20230318_221012-yn7qjphy</code>"
            ],
            "text/plain": [
              "<IPython.core.display.HTML object>"
            ]
          },
          "metadata": {},
          "output_type": "display_data"
        },
        {
          "data": {
            "text/html": [
              "Syncing run <strong><a href='https://wandb.ai/siddharth-s/FODL_Assignment_1/runs/yn7qjphy' target=\"_blank\">gallant-sweep-22</a></strong> to <a href='https://wandb.ai/siddharth-s/FODL_Assignment_1' target=\"_blank\">Weights & Biases</a> (<a href='https://wandb.me/run' target=\"_blank\">docs</a>)<br/>Sweep page: <a href='https://wandb.ai/siddharth-s/FODL_Assignment_1/sweeps/pqng4xvs' target=\"_blank\">https://wandb.ai/siddharth-s/FODL_Assignment_1/sweeps/pqng4xvs</a>"
            ],
            "text/plain": [
              "<IPython.core.display.HTML object>"
            ]
          },
          "metadata": {},
          "output_type": "display_data"
        },
        {
          "data": {
            "text/html": [
              " View project at <a href='https://wandb.ai/siddharth-s/FODL_Assignment_1' target=\"_blank\">https://wandb.ai/siddharth-s/FODL_Assignment_1</a>"
            ],
            "text/plain": [
              "<IPython.core.display.HTML object>"
            ]
          },
          "metadata": {},
          "output_type": "display_data"
        },
        {
          "data": {
            "text/html": [
              " View sweep at <a href='https://wandb.ai/siddharth-s/FODL_Assignment_1/sweeps/pqng4xvs' target=\"_blank\">https://wandb.ai/siddharth-s/FODL_Assignment_1/sweeps/pqng4xvs</a>"
            ],
            "text/plain": [
              "<IPython.core.display.HTML object>"
            ]
          },
          "metadata": {},
          "output_type": "display_data"
        },
        {
          "data": {
            "text/html": [
              " View run at <a href='https://wandb.ai/siddharth-s/FODL_Assignment_1/runs/yn7qjphy' target=\"_blank\">https://wandb.ai/siddharth-s/FODL_Assignment_1/runs/yn7qjphy</a>"
            ],
            "text/plain": [
              "<IPython.core.display.HTML object>"
            ]
          },
          "metadata": {},
          "output_type": "display_data"
        },
        {
          "name": "stderr",
          "output_type": "stream",
          "text": [
            "100%|██████████| 10/10 [07:50<00:00, 47.05s/it]"
          ]
        },
        {
          "name": "stdout",
          "output_type": "stream",
          "text": [
            "Training Accuracy: 10.048148148148147\n",
            "Validation Accuracy: 9.566666666666666\n"
          ]
        },
        {
          "name": "stderr",
          "output_type": "stream",
          "text": [
            "\n"
          ]
        },
        {
          "data": {
            "text/html": [
              "Waiting for W&B process to finish... <strong style=\"color:green\">(success).</strong>"
            ],
            "text/plain": [
              "<IPython.core.display.HTML object>"
            ]
          },
          "metadata": {},
          "output_type": "display_data"
        },
        {
          "data": {
            "text/html": [
              "<style>\n",
              "    table.wandb td:nth-child(1) { padding: 0 10px; text-align: left ; width: auto;} td:nth-child(2) {text-align: left ; width: 100%}\n",
              "    .wandb-row { display: flex; flex-direction: row; flex-wrap: wrap; justify-content: flex-start; width: 100% }\n",
              "    .wandb-col { display: flex; flex-direction: column; flex-basis: 100%; flex: 1; padding: 10px; }\n",
              "    </style>\n",
              "<div class=\"wandb-row\"><div class=\"wandb-col\"><h3>Run history:</h3><br/><table class=\"wandb\"><tr><td>Train_Accuracy</td><td>█▁▁▁▁▁▁▁▁▁</td></tr><tr><td>Validation_Accuracy</td><td>█▁▁▁▁▁▁▁▁▁</td></tr><tr><td>epoch</td><td>▁▂▃▃▄▅▆▆▇█</td></tr></table><br/></div><div class=\"wandb-col\"><h3>Run summary:</h3><br/><table class=\"wandb\"><tr><td>Train_Accuracy</td><td>10.04815</td></tr><tr><td>Train_Loss</td><td>nan</td></tr><tr><td>Validation_Accuracy</td><td>9.56667</td></tr><tr><td>Validation_loss</td><td>nan</td></tr><tr><td>epoch</td><td>9</td></tr></table><br/></div></div>"
            ],
            "text/plain": [
              "<IPython.core.display.HTML object>"
            ]
          },
          "metadata": {},
          "output_type": "display_data"
        },
        {
          "data": {
            "text/html": [
              " View run <strong style=\"color:#cdcd00\">gallant-sweep-22</strong> at: <a href='https://wandb.ai/siddharth-s/FODL_Assignment_1/runs/yn7qjphy' target=\"_blank\">https://wandb.ai/siddharth-s/FODL_Assignment_1/runs/yn7qjphy</a><br/>Synced 5 W&B file(s), 0 media file(s), 0 artifact file(s) and 0 other file(s)"
            ],
            "text/plain": [
              "<IPython.core.display.HTML object>"
            ]
          },
          "metadata": {},
          "output_type": "display_data"
        },
        {
          "data": {
            "text/html": [
              "Find logs at: <code>./wandb/run-20230318_221012-yn7qjphy/logs</code>"
            ],
            "text/plain": [
              "<IPython.core.display.HTML object>"
            ]
          },
          "metadata": {},
          "output_type": "display_data"
        },
        {
          "name": "stderr",
          "output_type": "stream",
          "text": [
            "\u001b[34m\u001b[1mwandb\u001b[0m: Agent Starting Run: dd9r9jn0 with config:\n",
            "\u001b[34m\u001b[1mwandb\u001b[0m: \tactivation_function: sigmoid\n",
            "\u001b[34m\u001b[1mwandb\u001b[0m: \tinitialization_type: random\n",
            "\u001b[34m\u001b[1mwandb\u001b[0m: \tlambd: 0\n",
            "\u001b[34m\u001b[1mwandb\u001b[0m: \tlearning_rate: 0.0001\n",
            "\u001b[34m\u001b[1mwandb\u001b[0m: \tmax_epochs: 10\n",
            "\u001b[34m\u001b[1mwandb\u001b[0m: \tmini_batch_size: 64\n",
            "\u001b[34m\u001b[1mwandb\u001b[0m: \tnumber_hidden_layers: 3\n",
            "\u001b[34m\u001b[1mwandb\u001b[0m: \tnumber_neurons: 32\n",
            "\u001b[34m\u001b[1mwandb\u001b[0m: \toptimization_function: rmsprop\n"
          ]
        },
        {
          "data": {
            "text/html": [
              "Tracking run with wandb version 0.14.0"
            ],
            "text/plain": [
              "<IPython.core.display.HTML object>"
            ]
          },
          "metadata": {},
          "output_type": "display_data"
        },
        {
          "data": {
            "text/html": [
              "Run data is saved locally in <code>/content/wandb/run-20230318_221823-dd9r9jn0</code>"
            ],
            "text/plain": [
              "<IPython.core.display.HTML object>"
            ]
          },
          "metadata": {},
          "output_type": "display_data"
        },
        {
          "data": {
            "text/html": [
              "Syncing run <strong><a href='https://wandb.ai/siddharth-s/FODL_Assignment_1/runs/dd9r9jn0' target=\"_blank\">wild-sweep-23</a></strong> to <a href='https://wandb.ai/siddharth-s/FODL_Assignment_1' target=\"_blank\">Weights & Biases</a> (<a href='https://wandb.me/run' target=\"_blank\">docs</a>)<br/>Sweep page: <a href='https://wandb.ai/siddharth-s/FODL_Assignment_1/sweeps/pqng4xvs' target=\"_blank\">https://wandb.ai/siddharth-s/FODL_Assignment_1/sweeps/pqng4xvs</a>"
            ],
            "text/plain": [
              "<IPython.core.display.HTML object>"
            ]
          },
          "metadata": {},
          "output_type": "display_data"
        },
        {
          "data": {
            "text/html": [
              " View project at <a href='https://wandb.ai/siddharth-s/FODL_Assignment_1' target=\"_blank\">https://wandb.ai/siddharth-s/FODL_Assignment_1</a>"
            ],
            "text/plain": [
              "<IPython.core.display.HTML object>"
            ]
          },
          "metadata": {},
          "output_type": "display_data"
        },
        {
          "data": {
            "text/html": [
              " View sweep at <a href='https://wandb.ai/siddharth-s/FODL_Assignment_1/sweeps/pqng4xvs' target=\"_blank\">https://wandb.ai/siddharth-s/FODL_Assignment_1/sweeps/pqng4xvs</a>"
            ],
            "text/plain": [
              "<IPython.core.display.HTML object>"
            ]
          },
          "metadata": {},
          "output_type": "display_data"
        },
        {
          "data": {
            "text/html": [
              " View run at <a href='https://wandb.ai/siddharth-s/FODL_Assignment_1/runs/dd9r9jn0' target=\"_blank\">https://wandb.ai/siddharth-s/FODL_Assignment_1/runs/dd9r9jn0</a>"
            ],
            "text/plain": [
              "<IPython.core.display.HTML object>"
            ]
          },
          "metadata": {},
          "output_type": "display_data"
        },
        {
          "name": "stderr",
          "output_type": "stream",
          "text": [
            "100%|██████████| 10/10 [05:05<00:00, 30.56s/it]"
          ]
        },
        {
          "name": "stdout",
          "output_type": "stream",
          "text": [
            "Training Accuracy: 47.31666666666667\n",
            "Validation Accuracy: 47.86666666666667\n"
          ]
        },
        {
          "name": "stderr",
          "output_type": "stream",
          "text": [
            "\n"
          ]
        },
        {
          "data": {
            "text/html": [
              "Waiting for W&B process to finish... <strong style=\"color:green\">(success).</strong>"
            ],
            "text/plain": [
              "<IPython.core.display.HTML object>"
            ]
          },
          "metadata": {},
          "output_type": "display_data"
        },
        {
          "data": {
            "text/html": [
              "<style>\n",
              "    table.wandb td:nth-child(1) { padding: 0 10px; text-align: left ; width: auto;} td:nth-child(2) {text-align: left ; width: 100%}\n",
              "    .wandb-row { display: flex; flex-direction: row; flex-wrap: wrap; justify-content: flex-start; width: 100% }\n",
              "    .wandb-col { display: flex; flex-direction: column; flex-basis: 100%; flex: 1; padding: 10px; }\n",
              "    </style>\n",
              "<div class=\"wandb-row\"><div class=\"wandb-col\"><h3>Run history:</h3><br/><table class=\"wandb\"><tr><td>Train_Accuracy</td><td>▁▁▂▃▃▃▄▆▇█</td></tr><tr><td>Train_Loss</td><td>█▅▅▄▄▄▃▃▁▁</td></tr><tr><td>Validation_Accuracy</td><td>▁▂▂▃▄▄▄▆▇█</td></tr><tr><td>Validation_loss</td><td>█▅▅▄▄▄▃▂▁▁</td></tr><tr><td>epoch</td><td>▁▂▃▃▄▅▆▆▇█</td></tr></table><br/></div><div class=\"wandb-col\"><h3>Run summary:</h3><br/><table class=\"wandb\"><tr><td>Train_Accuracy</td><td>47.31667</td></tr><tr><td>Train_Loss</td><td>1.16088</td></tr><tr><td>Validation_Accuracy</td><td>47.86667</td></tr><tr><td>Validation_loss</td><td>1.16386</td></tr><tr><td>epoch</td><td>9</td></tr></table><br/></div></div>"
            ],
            "text/plain": [
              "<IPython.core.display.HTML object>"
            ]
          },
          "metadata": {},
          "output_type": "display_data"
        },
        {
          "data": {
            "text/html": [
              " View run <strong style=\"color:#cdcd00\">wild-sweep-23</strong> at: <a href='https://wandb.ai/siddharth-s/FODL_Assignment_1/runs/dd9r9jn0' target=\"_blank\">https://wandb.ai/siddharth-s/FODL_Assignment_1/runs/dd9r9jn0</a><br/>Synced 5 W&B file(s), 0 media file(s), 0 artifact file(s) and 0 other file(s)"
            ],
            "text/plain": [
              "<IPython.core.display.HTML object>"
            ]
          },
          "metadata": {},
          "output_type": "display_data"
        },
        {
          "data": {
            "text/html": [
              "Find logs at: <code>./wandb/run-20230318_221823-dd9r9jn0/logs</code>"
            ],
            "text/plain": [
              "<IPython.core.display.HTML object>"
            ]
          },
          "metadata": {},
          "output_type": "display_data"
        },
        {
          "name": "stderr",
          "output_type": "stream",
          "text": [
            "\u001b[34m\u001b[1mwandb\u001b[0m: Agent Starting Run: oz9kmb7f with config:\n",
            "\u001b[34m\u001b[1mwandb\u001b[0m: \tactivation_function: tanh\n",
            "\u001b[34m\u001b[1mwandb\u001b[0m: \tinitialization_type: random\n",
            "\u001b[34m\u001b[1mwandb\u001b[0m: \tlambd: 0.5\n",
            "\u001b[34m\u001b[1mwandb\u001b[0m: \tlearning_rate: 0.0001\n",
            "\u001b[34m\u001b[1mwandb\u001b[0m: \tmax_epochs: 5\n",
            "\u001b[34m\u001b[1mwandb\u001b[0m: \tmini_batch_size: 32\n",
            "\u001b[34m\u001b[1mwandb\u001b[0m: \tnumber_hidden_layers: 5\n",
            "\u001b[34m\u001b[1mwandb\u001b[0m: \tnumber_neurons: 128\n",
            "\u001b[34m\u001b[1mwandb\u001b[0m: \toptimization_function: adam\n"
          ]
        },
        {
          "data": {
            "text/html": [
              "Tracking run with wandb version 0.14.0"
            ],
            "text/plain": [
              "<IPython.core.display.HTML object>"
            ]
          },
          "metadata": {},
          "output_type": "display_data"
        },
        {
          "data": {
            "text/html": [
              "Run data is saved locally in <code>/content/wandb/run-20230318_222345-oz9kmb7f</code>"
            ],
            "text/plain": [
              "<IPython.core.display.HTML object>"
            ]
          },
          "metadata": {},
          "output_type": "display_data"
        },
        {
          "data": {
            "text/html": [
              "Syncing run <strong><a href='https://wandb.ai/siddharth-s/FODL_Assignment_1/runs/oz9kmb7f' target=\"_blank\">swift-sweep-24</a></strong> to <a href='https://wandb.ai/siddharth-s/FODL_Assignment_1' target=\"_blank\">Weights & Biases</a> (<a href='https://wandb.me/run' target=\"_blank\">docs</a>)<br/>Sweep page: <a href='https://wandb.ai/siddharth-s/FODL_Assignment_1/sweeps/pqng4xvs' target=\"_blank\">https://wandb.ai/siddharth-s/FODL_Assignment_1/sweeps/pqng4xvs</a>"
            ],
            "text/plain": [
              "<IPython.core.display.HTML object>"
            ]
          },
          "metadata": {},
          "output_type": "display_data"
        },
        {
          "data": {
            "text/html": [
              " View project at <a href='https://wandb.ai/siddharth-s/FODL_Assignment_1' target=\"_blank\">https://wandb.ai/siddharth-s/FODL_Assignment_1</a>"
            ],
            "text/plain": [
              "<IPython.core.display.HTML object>"
            ]
          },
          "metadata": {},
          "output_type": "display_data"
        },
        {
          "data": {
            "text/html": [
              " View sweep at <a href='https://wandb.ai/siddharth-s/FODL_Assignment_1/sweeps/pqng4xvs' target=\"_blank\">https://wandb.ai/siddharth-s/FODL_Assignment_1/sweeps/pqng4xvs</a>"
            ],
            "text/plain": [
              "<IPython.core.display.HTML object>"
            ]
          },
          "metadata": {},
          "output_type": "display_data"
        },
        {
          "data": {
            "text/html": [
              " View run at <a href='https://wandb.ai/siddharth-s/FODL_Assignment_1/runs/oz9kmb7f' target=\"_blank\">https://wandb.ai/siddharth-s/FODL_Assignment_1/runs/oz9kmb7f</a>"
            ],
            "text/plain": [
              "<IPython.core.display.HTML object>"
            ]
          },
          "metadata": {},
          "output_type": "display_data"
        },
        {
          "name": "stderr",
          "output_type": "stream",
          "text": [
            "100%|██████████| 5/5 [06:30<00:00, 78.16s/it]"
          ]
        },
        {
          "name": "stdout",
          "output_type": "stream",
          "text": [
            "Training Accuracy: 75.24074074074075\n",
            "Validation Accuracy: 75.08333333333333\n"
          ]
        },
        {
          "name": "stderr",
          "output_type": "stream",
          "text": [
            "\n"
          ]
        },
        {
          "data": {
            "text/html": [
              "Waiting for W&B process to finish... <strong style=\"color:green\">(success).</strong>"
            ],
            "text/plain": [
              "<IPython.core.display.HTML object>"
            ]
          },
          "metadata": {},
          "output_type": "display_data"
        },
        {
          "data": {
            "text/html": [
              "<style>\n",
              "    table.wandb td:nth-child(1) { padding: 0 10px; text-align: left ; width: auto;} td:nth-child(2) {text-align: left ; width: 100%}\n",
              "    .wandb-row { display: flex; flex-direction: row; flex-wrap: wrap; justify-content: flex-start; width: 100% }\n",
              "    .wandb-col { display: flex; flex-direction: column; flex-basis: 100%; flex: 1; padding: 10px; }\n",
              "    </style>\n",
              "<div class=\"wandb-row\"><div class=\"wandb-col\"><h3>Run history:</h3><br/><table class=\"wandb\"><tr><td>Train_Accuracy</td><td>▁▂▆▇█</td></tr><tr><td>Train_Loss</td><td>█▅▃▂▁</td></tr><tr><td>Validation_Accuracy</td><td>▁▂▆▇█</td></tr><tr><td>Validation_loss</td><td>█▅▃▁▄</td></tr><tr><td>epoch</td><td>▁▃▅▆█</td></tr></table><br/></div><div class=\"wandb-col\"><h3>Run summary:</h3><br/><table class=\"wandb\"><tr><td>Train_Accuracy</td><td>75.24074</td></tr><tr><td>Train_Loss</td><td>0.80562</td></tr><tr><td>Validation_Accuracy</td><td>75.08333</td></tr><tr><td>Validation_loss</td><td>1.39999</td></tr><tr><td>epoch</td><td>4</td></tr></table><br/></div></div>"
            ],
            "text/plain": [
              "<IPython.core.display.HTML object>"
            ]
          },
          "metadata": {},
          "output_type": "display_data"
        },
        {
          "data": {
            "text/html": [
              " View run <strong style=\"color:#cdcd00\">swift-sweep-24</strong> at: <a href='https://wandb.ai/siddharth-s/FODL_Assignment_1/runs/oz9kmb7f' target=\"_blank\">https://wandb.ai/siddharth-s/FODL_Assignment_1/runs/oz9kmb7f</a><br/>Synced 5 W&B file(s), 0 media file(s), 0 artifact file(s) and 0 other file(s)"
            ],
            "text/plain": [
              "<IPython.core.display.HTML object>"
            ]
          },
          "metadata": {},
          "output_type": "display_data"
        },
        {
          "data": {
            "text/html": [
              "Find logs at: <code>./wandb/run-20230318_222345-oz9kmb7f/logs</code>"
            ],
            "text/plain": [
              "<IPython.core.display.HTML object>"
            ]
          },
          "metadata": {},
          "output_type": "display_data"
        },
        {
          "name": "stderr",
          "output_type": "stream",
          "text": [
            "\u001b[34m\u001b[1mwandb\u001b[0m: Sweep Agent: Waiting for job.\n",
            "\u001b[34m\u001b[1mwandb\u001b[0m: Job received.\n",
            "\u001b[34m\u001b[1mwandb\u001b[0m: Agent Starting Run: o1jqc354 with config:\n",
            "\u001b[34m\u001b[1mwandb\u001b[0m: \tactivation_function: relu\n",
            "\u001b[34m\u001b[1mwandb\u001b[0m: \tinitialization_type: random\n",
            "\u001b[34m\u001b[1mwandb\u001b[0m: \tlambd: 0\n",
            "\u001b[34m\u001b[1mwandb\u001b[0m: \tlearning_rate: 0.001\n",
            "\u001b[34m\u001b[1mwandb\u001b[0m: \tmax_epochs: 10\n",
            "\u001b[34m\u001b[1mwandb\u001b[0m: \tmini_batch_size: 16\n",
            "\u001b[34m\u001b[1mwandb\u001b[0m: \tnumber_hidden_layers: 4\n",
            "\u001b[34m\u001b[1mwandb\u001b[0m: \tnumber_neurons: 32\n",
            "\u001b[34m\u001b[1mwandb\u001b[0m: \toptimization_function: stochastic_gd\n"
          ]
        },
        {
          "data": {
            "text/html": [
              "Tracking run with wandb version 0.14.0"
            ],
            "text/plain": [
              "<IPython.core.display.HTML object>"
            ]
          },
          "metadata": {},
          "output_type": "display_data"
        },
        {
          "data": {
            "text/html": [
              "Run data is saved locally in <code>/content/wandb/run-20230318_223100-o1jqc354</code>"
            ],
            "text/plain": [
              "<IPython.core.display.HTML object>"
            ]
          },
          "metadata": {},
          "output_type": "display_data"
        },
        {
          "data": {
            "text/html": [
              "Syncing run <strong><a href='https://wandb.ai/siddharth-s/FODL_Assignment_1/runs/o1jqc354' target=\"_blank\">desert-sweep-25</a></strong> to <a href='https://wandb.ai/siddharth-s/FODL_Assignment_1' target=\"_blank\">Weights & Biases</a> (<a href='https://wandb.me/run' target=\"_blank\">docs</a>)<br/>Sweep page: <a href='https://wandb.ai/siddharth-s/FODL_Assignment_1/sweeps/pqng4xvs' target=\"_blank\">https://wandb.ai/siddharth-s/FODL_Assignment_1/sweeps/pqng4xvs</a>"
            ],
            "text/plain": [
              "<IPython.core.display.HTML object>"
            ]
          },
          "metadata": {},
          "output_type": "display_data"
        },
        {
          "data": {
            "text/html": [
              " View project at <a href='https://wandb.ai/siddharth-s/FODL_Assignment_1' target=\"_blank\">https://wandb.ai/siddharth-s/FODL_Assignment_1</a>"
            ],
            "text/plain": [
              "<IPython.core.display.HTML object>"
            ]
          },
          "metadata": {},
          "output_type": "display_data"
        },
        {
          "data": {
            "text/html": [
              " View sweep at <a href='https://wandb.ai/siddharth-s/FODL_Assignment_1/sweeps/pqng4xvs' target=\"_blank\">https://wandb.ai/siddharth-s/FODL_Assignment_1/sweeps/pqng4xvs</a>"
            ],
            "text/plain": [
              "<IPython.core.display.HTML object>"
            ]
          },
          "metadata": {},
          "output_type": "display_data"
        },
        {
          "data": {
            "text/html": [
              " View run at <a href='https://wandb.ai/siddharth-s/FODL_Assignment_1/runs/o1jqc354' target=\"_blank\">https://wandb.ai/siddharth-s/FODL_Assignment_1/runs/o1jqc354</a>"
            ],
            "text/plain": [
              "<IPython.core.display.HTML object>"
            ]
          },
          "metadata": {},
          "output_type": "display_data"
        },
        {
          "name": "stderr",
          "output_type": "stream",
          "text": [
            "100%|██████████| 10/10 [04:53<00:00, 29.38s/it]"
          ]
        },
        {
          "name": "stdout",
          "output_type": "stream",
          "text": [
            "Training Accuracy: 10.048148148148147\n",
            "Validation Accuracy: 9.566666666666666\n"
          ]
        },
        {
          "name": "stderr",
          "output_type": "stream",
          "text": [
            "\n"
          ]
        },
        {
          "data": {
            "text/html": [
              "Waiting for W&B process to finish... <strong style=\"color:green\">(success).</strong>"
            ],
            "text/plain": [
              "<IPython.core.display.HTML object>"
            ]
          },
          "metadata": {},
          "output_type": "display_data"
        },
        {
          "data": {
            "application/vnd.jupyter.widget-view+json": {
              "model_id": "94847308bdda4f8da17e0188544ec24d",
              "version_major": 2,
              "version_minor": 0
            },
            "text/plain": [
              "VBox(children=(Label(value='0.001 MB of 0.001 MB uploaded (0.000 MB deduped)\\r'), FloatProgress(value=1.0, max…"
            ]
          },
          "metadata": {},
          "output_type": "display_data"
        },
        {
          "data": {
            "text/html": [
              "<style>\n",
              "    table.wandb td:nth-child(1) { padding: 0 10px; text-align: left ; width: auto;} td:nth-child(2) {text-align: left ; width: 100%}\n",
              "    .wandb-row { display: flex; flex-direction: row; flex-wrap: wrap; justify-content: flex-start; width: 100% }\n",
              "    .wandb-col { display: flex; flex-direction: column; flex-basis: 100%; flex: 1; padding: 10px; }\n",
              "    </style>\n",
              "<div class=\"wandb-row\"><div class=\"wandb-col\"><h3>Run history:</h3><br/><table class=\"wandb\"><tr><td>Train_Accuracy</td><td>▁▁▁▁▁▁▁▁▁▁</td></tr><tr><td>Train_Loss</td><td>▁█████████</td></tr><tr><td>Validation_Accuracy</td><td>▁▁▁▁▁▁▁▁▁▁</td></tr><tr><td>Validation_loss</td><td>█▁▁▁▁▁▁▁▁▁</td></tr><tr><td>epoch</td><td>▁▂▃▃▄▅▆▆▇█</td></tr></table><br/></div><div class=\"wandb-col\"><h3>Run summary:</h3><br/><table class=\"wandb\"><tr><td>Train_Accuracy</td><td>10.04815</td></tr><tr><td>Train_Loss</td><td>2.30266</td></tr><tr><td>Validation_Accuracy</td><td>9.56667</td></tr><tr><td>Validation_loss</td><td>2.30263</td></tr><tr><td>epoch</td><td>9</td></tr></table><br/></div></div>"
            ],
            "text/plain": [
              "<IPython.core.display.HTML object>"
            ]
          },
          "metadata": {},
          "output_type": "display_data"
        },
        {
          "data": {
            "text/html": [
              " View run <strong style=\"color:#cdcd00\">desert-sweep-25</strong> at: <a href='https://wandb.ai/siddharth-s/FODL_Assignment_1/runs/o1jqc354' target=\"_blank\">https://wandb.ai/siddharth-s/FODL_Assignment_1/runs/o1jqc354</a><br/>Synced 5 W&B file(s), 0 media file(s), 0 artifact file(s) and 0 other file(s)"
            ],
            "text/plain": [
              "<IPython.core.display.HTML object>"
            ]
          },
          "metadata": {},
          "output_type": "display_data"
        },
        {
          "data": {
            "text/html": [
              "Find logs at: <code>./wandb/run-20230318_223100-o1jqc354/logs</code>"
            ],
            "text/plain": [
              "<IPython.core.display.HTML object>"
            ]
          },
          "metadata": {},
          "output_type": "display_data"
        },
        {
          "name": "stderr",
          "output_type": "stream",
          "text": [
            "\u001b[34m\u001b[1mwandb\u001b[0m: Agent Starting Run: v577oz4m with config:\n",
            "\u001b[34m\u001b[1mwandb\u001b[0m: \tactivation_function: tanh\n",
            "\u001b[34m\u001b[1mwandb\u001b[0m: \tinitialization_type: xavier\n",
            "\u001b[34m\u001b[1mwandb\u001b[0m: \tlambd: 0.0005\n",
            "\u001b[34m\u001b[1mwandb\u001b[0m: \tlearning_rate: 0.0001\n",
            "\u001b[34m\u001b[1mwandb\u001b[0m: \tmax_epochs: 5\n",
            "\u001b[34m\u001b[1mwandb\u001b[0m: \tmini_batch_size: 64\n",
            "\u001b[34m\u001b[1mwandb\u001b[0m: \tnumber_hidden_layers: 4\n",
            "\u001b[34m\u001b[1mwandb\u001b[0m: \tnumber_neurons: 128\n",
            "\u001b[34m\u001b[1mwandb\u001b[0m: \toptimization_function: adam\n"
          ]
        },
        {
          "data": {
            "text/html": [
              "Tracking run with wandb version 0.14.0"
            ],
            "text/plain": [
              "<IPython.core.display.HTML object>"
            ]
          },
          "metadata": {},
          "output_type": "display_data"
        },
        {
          "data": {
            "text/html": [
              "Run data is saved locally in <code>/content/wandb/run-20230318_223609-v577oz4m</code>"
            ],
            "text/plain": [
              "<IPython.core.display.HTML object>"
            ]
          },
          "metadata": {},
          "output_type": "display_data"
        },
        {
          "data": {
            "text/html": [
              "Syncing run <strong><a href='https://wandb.ai/siddharth-s/FODL_Assignment_1/runs/v577oz4m' target=\"_blank\">exalted-sweep-26</a></strong> to <a href='https://wandb.ai/siddharth-s/FODL_Assignment_1' target=\"_blank\">Weights & Biases</a> (<a href='https://wandb.me/run' target=\"_blank\">docs</a>)<br/>Sweep page: <a href='https://wandb.ai/siddharth-s/FODL_Assignment_1/sweeps/pqng4xvs' target=\"_blank\">https://wandb.ai/siddharth-s/FODL_Assignment_1/sweeps/pqng4xvs</a>"
            ],
            "text/plain": [
              "<IPython.core.display.HTML object>"
            ]
          },
          "metadata": {},
          "output_type": "display_data"
        },
        {
          "data": {
            "text/html": [
              " View project at <a href='https://wandb.ai/siddharth-s/FODL_Assignment_1' target=\"_blank\">https://wandb.ai/siddharth-s/FODL_Assignment_1</a>"
            ],
            "text/plain": [
              "<IPython.core.display.HTML object>"
            ]
          },
          "metadata": {},
          "output_type": "display_data"
        },
        {
          "data": {
            "text/html": [
              " View sweep at <a href='https://wandb.ai/siddharth-s/FODL_Assignment_1/sweeps/pqng4xvs' target=\"_blank\">https://wandb.ai/siddharth-s/FODL_Assignment_1/sweeps/pqng4xvs</a>"
            ],
            "text/plain": [
              "<IPython.core.display.HTML object>"
            ]
          },
          "metadata": {},
          "output_type": "display_data"
        },
        {
          "data": {
            "text/html": [
              " View run at <a href='https://wandb.ai/siddharth-s/FODL_Assignment_1/runs/v577oz4m' target=\"_blank\">https://wandb.ai/siddharth-s/FODL_Assignment_1/runs/v577oz4m</a>"
            ],
            "text/plain": [
              "<IPython.core.display.HTML object>"
            ]
          },
          "metadata": {},
          "output_type": "display_data"
        },
        {
          "name": "stderr",
          "output_type": "stream",
          "text": [
            "100%|██████████| 5/5 [05:39<00:00, 67.93s/it]"
          ]
        },
        {
          "name": "stdout",
          "output_type": "stream",
          "text": [
            "Training Accuracy: 87.1574074074074\n",
            "Validation Accuracy: 85.9\n"
          ]
        },
        {
          "name": "stderr",
          "output_type": "stream",
          "text": [
            "\n"
          ]
        },
        {
          "data": {
            "text/html": [
              "Waiting for W&B process to finish... <strong style=\"color:green\">(success).</strong>"
            ],
            "text/plain": [
              "<IPython.core.display.HTML object>"
            ]
          },
          "metadata": {},
          "output_type": "display_data"
        },
        {
          "data": {
            "text/html": [
              "<style>\n",
              "    table.wandb td:nth-child(1) { padding: 0 10px; text-align: left ; width: auto;} td:nth-child(2) {text-align: left ; width: 100%}\n",
              "    .wandb-row { display: flex; flex-direction: row; flex-wrap: wrap; justify-content: flex-start; width: 100% }\n",
              "    .wandb-col { display: flex; flex-direction: column; flex-basis: 100%; flex: 1; padding: 10px; }\n",
              "    </style>\n",
              "<div class=\"wandb-row\"><div class=\"wandb-col\"><h3>Run history:</h3><br/><table class=\"wandb\"><tr><td>Train_Accuracy</td><td>▁▅▆▇█</td></tr><tr><td>Train_Loss</td><td>█▄▃▂▁</td></tr><tr><td>Validation_Accuracy</td><td>▁▅▇██</td></tr><tr><td>Validation_loss</td><td>█▄▂▁▁</td></tr><tr><td>epoch</td><td>▁▃▅▆█</td></tr></table><br/></div><div class=\"wandb-col\"><h3>Run summary:</h3><br/><table class=\"wandb\"><tr><td>Train_Accuracy</td><td>87.15741</td></tr><tr><td>Train_Loss</td><td>0.36316</td></tr><tr><td>Validation_Accuracy</td><td>85.9</td></tr><tr><td>Validation_loss</td><td>0.39893</td></tr><tr><td>epoch</td><td>4</td></tr></table><br/></div></div>"
            ],
            "text/plain": [
              "<IPython.core.display.HTML object>"
            ]
          },
          "metadata": {},
          "output_type": "display_data"
        },
        {
          "data": {
            "text/html": [
              " View run <strong style=\"color:#cdcd00\">exalted-sweep-26</strong> at: <a href='https://wandb.ai/siddharth-s/FODL_Assignment_1/runs/v577oz4m' target=\"_blank\">https://wandb.ai/siddharth-s/FODL_Assignment_1/runs/v577oz4m</a><br/>Synced 5 W&B file(s), 0 media file(s), 0 artifact file(s) and 0 other file(s)"
            ],
            "text/plain": [
              "<IPython.core.display.HTML object>"
            ]
          },
          "metadata": {},
          "output_type": "display_data"
        },
        {
          "data": {
            "text/html": [
              "Find logs at: <code>./wandb/run-20230318_223609-v577oz4m/logs</code>"
            ],
            "text/plain": [
              "<IPython.core.display.HTML object>"
            ]
          },
          "metadata": {},
          "output_type": "display_data"
        },
        {
          "name": "stderr",
          "output_type": "stream",
          "text": [
            "\u001b[34m\u001b[1mwandb\u001b[0m: Agent Starting Run: s91ze291 with config:\n",
            "\u001b[34m\u001b[1mwandb\u001b[0m: \tactivation_function: tanh\n",
            "\u001b[34m\u001b[1mwandb\u001b[0m: \tinitialization_type: xavier\n",
            "\u001b[34m\u001b[1mwandb\u001b[0m: \tlambd: 0\n",
            "\u001b[34m\u001b[1mwandb\u001b[0m: \tlearning_rate: 0.001\n",
            "\u001b[34m\u001b[1mwandb\u001b[0m: \tmax_epochs: 5\n",
            "\u001b[34m\u001b[1mwandb\u001b[0m: \tmini_batch_size: 64\n",
            "\u001b[34m\u001b[1mwandb\u001b[0m: \tnumber_hidden_layers: 3\n",
            "\u001b[34m\u001b[1mwandb\u001b[0m: \tnumber_neurons: 128\n",
            "\u001b[34m\u001b[1mwandb\u001b[0m: \toptimization_function: stochastic_gd\n"
          ]
        },
        {
          "data": {
            "text/html": [
              "Tracking run with wandb version 0.14.0"
            ],
            "text/plain": [
              "<IPython.core.display.HTML object>"
            ]
          },
          "metadata": {},
          "output_type": "display_data"
        },
        {
          "data": {
            "text/html": [
              "Run data is saved locally in <code>/content/wandb/run-20230318_224209-s91ze291</code>"
            ],
            "text/plain": [
              "<IPython.core.display.HTML object>"
            ]
          },
          "metadata": {},
          "output_type": "display_data"
        },
        {
          "data": {
            "text/html": [
              "Syncing run <strong><a href='https://wandb.ai/siddharth-s/FODL_Assignment_1/runs/s91ze291' target=\"_blank\">glad-sweep-27</a></strong> to <a href='https://wandb.ai/siddharth-s/FODL_Assignment_1' target=\"_blank\">Weights & Biases</a> (<a href='https://wandb.me/run' target=\"_blank\">docs</a>)<br/>Sweep page: <a href='https://wandb.ai/siddharth-s/FODL_Assignment_1/sweeps/pqng4xvs' target=\"_blank\">https://wandb.ai/siddharth-s/FODL_Assignment_1/sweeps/pqng4xvs</a>"
            ],
            "text/plain": [
              "<IPython.core.display.HTML object>"
            ]
          },
          "metadata": {},
          "output_type": "display_data"
        },
        {
          "data": {
            "text/html": [
              " View project at <a href='https://wandb.ai/siddharth-s/FODL_Assignment_1' target=\"_blank\">https://wandb.ai/siddharth-s/FODL_Assignment_1</a>"
            ],
            "text/plain": [
              "<IPython.core.display.HTML object>"
            ]
          },
          "metadata": {},
          "output_type": "display_data"
        },
        {
          "data": {
            "text/html": [
              " View sweep at <a href='https://wandb.ai/siddharth-s/FODL_Assignment_1/sweeps/pqng4xvs' target=\"_blank\">https://wandb.ai/siddharth-s/FODL_Assignment_1/sweeps/pqng4xvs</a>"
            ],
            "text/plain": [
              "<IPython.core.display.HTML object>"
            ]
          },
          "metadata": {},
          "output_type": "display_data"
        },
        {
          "data": {
            "text/html": [
              " View run at <a href='https://wandb.ai/siddharth-s/FODL_Assignment_1/runs/s91ze291' target=\"_blank\">https://wandb.ai/siddharth-s/FODL_Assignment_1/runs/s91ze291</a>"
            ],
            "text/plain": [
              "<IPython.core.display.HTML object>"
            ]
          },
          "metadata": {},
          "output_type": "display_data"
        },
        {
          "name": "stderr",
          "output_type": "stream",
          "text": [
            "100%|██████████| 5/5 [04:29<00:00, 53.99s/it]"
          ]
        },
        {
          "name": "stdout",
          "output_type": "stream",
          "text": [
            "Training Accuracy: 89.20925925925926\n",
            "Validation Accuracy: 87.43333333333332\n"
          ]
        },
        {
          "name": "stderr",
          "output_type": "stream",
          "text": [
            "\n"
          ]
        },
        {
          "data": {
            "text/html": [
              "Waiting for W&B process to finish... <strong style=\"color:green\">(success).</strong>"
            ],
            "text/plain": [
              "<IPython.core.display.HTML object>"
            ]
          },
          "metadata": {},
          "output_type": "display_data"
        },
        {
          "data": {
            "text/html": [
              "<style>\n",
              "    table.wandb td:nth-child(1) { padding: 0 10px; text-align: left ; width: auto;} td:nth-child(2) {text-align: left ; width: 100%}\n",
              "    .wandb-row { display: flex; flex-direction: row; flex-wrap: wrap; justify-content: flex-start; width: 100% }\n",
              "    .wandb-col { display: flex; flex-direction: column; flex-basis: 100%; flex: 1; padding: 10px; }\n",
              "    </style>\n",
              "<div class=\"wandb-row\"><div class=\"wandb-col\"><h3>Run history:</h3><br/><table class=\"wandb\"><tr><td>Train_Accuracy</td><td>▁▅▆▇█</td></tr><tr><td>Train_Loss</td><td>█▅▃▂▁</td></tr><tr><td>Validation_Accuracy</td><td>▁▄▆▇█</td></tr><tr><td>Validation_loss</td><td>█▄▃▂▁</td></tr><tr><td>epoch</td><td>▁▃▅▆█</td></tr></table><br/></div><div class=\"wandb-col\"><h3>Run summary:</h3><br/><table class=\"wandb\"><tr><td>Train_Accuracy</td><td>89.20926</td></tr><tr><td>Train_Loss</td><td>0.29701</td></tr><tr><td>Validation_Accuracy</td><td>87.43333</td></tr><tr><td>Validation_loss</td><td>0.3519</td></tr><tr><td>epoch</td><td>4</td></tr></table><br/></div></div>"
            ],
            "text/plain": [
              "<IPython.core.display.HTML object>"
            ]
          },
          "metadata": {},
          "output_type": "display_data"
        },
        {
          "data": {
            "text/html": [
              " View run <strong style=\"color:#cdcd00\">glad-sweep-27</strong> at: <a href='https://wandb.ai/siddharth-s/FODL_Assignment_1/runs/s91ze291' target=\"_blank\">https://wandb.ai/siddharth-s/FODL_Assignment_1/runs/s91ze291</a><br/>Synced 5 W&B file(s), 0 media file(s), 0 artifact file(s) and 0 other file(s)"
            ],
            "text/plain": [
              "<IPython.core.display.HTML object>"
            ]
          },
          "metadata": {},
          "output_type": "display_data"
        },
        {
          "data": {
            "text/html": [
              "Find logs at: <code>./wandb/run-20230318_224209-s91ze291/logs</code>"
            ],
            "text/plain": [
              "<IPython.core.display.HTML object>"
            ]
          },
          "metadata": {},
          "output_type": "display_data"
        },
        {
          "name": "stderr",
          "output_type": "stream",
          "text": [
            "\u001b[34m\u001b[1mwandb\u001b[0m: Agent Starting Run: bocr2jor with config:\n",
            "\u001b[34m\u001b[1mwandb\u001b[0m: \tactivation_function: sigmoid\n",
            "\u001b[34m\u001b[1mwandb\u001b[0m: \tinitialization_type: random\n",
            "\u001b[34m\u001b[1mwandb\u001b[0m: \tlambd: 0\n",
            "\u001b[34m\u001b[1mwandb\u001b[0m: \tlearning_rate: 0.001\n",
            "\u001b[34m\u001b[1mwandb\u001b[0m: \tmax_epochs: 10\n",
            "\u001b[34m\u001b[1mwandb\u001b[0m: \tmini_batch_size: 16\n",
            "\u001b[34m\u001b[1mwandb\u001b[0m: \tnumber_hidden_layers: 3\n",
            "\u001b[34m\u001b[1mwandb\u001b[0m: \tnumber_neurons: 64\n",
            "\u001b[34m\u001b[1mwandb\u001b[0m: \toptimization_function: stochastic_gd\n"
          ]
        },
        {
          "data": {
            "text/html": [
              "Tracking run with wandb version 0.14.0"
            ],
            "text/plain": [
              "<IPython.core.display.HTML object>"
            ]
          },
          "metadata": {},
          "output_type": "display_data"
        },
        {
          "data": {
            "text/html": [
              "Run data is saved locally in <code>/content/wandb/run-20230318_224658-bocr2jor</code>"
            ],
            "text/plain": [
              "<IPython.core.display.HTML object>"
            ]
          },
          "metadata": {},
          "output_type": "display_data"
        },
        {
          "data": {
            "text/html": [
              "Syncing run <strong><a href='https://wandb.ai/siddharth-s/FODL_Assignment_1/runs/bocr2jor' target=\"_blank\">revived-sweep-28</a></strong> to <a href='https://wandb.ai/siddharth-s/FODL_Assignment_1' target=\"_blank\">Weights & Biases</a> (<a href='https://wandb.me/run' target=\"_blank\">docs</a>)<br/>Sweep page: <a href='https://wandb.ai/siddharth-s/FODL_Assignment_1/sweeps/pqng4xvs' target=\"_blank\">https://wandb.ai/siddharth-s/FODL_Assignment_1/sweeps/pqng4xvs</a>"
            ],
            "text/plain": [
              "<IPython.core.display.HTML object>"
            ]
          },
          "metadata": {},
          "output_type": "display_data"
        },
        {
          "data": {
            "text/html": [
              " View project at <a href='https://wandb.ai/siddharth-s/FODL_Assignment_1' target=\"_blank\">https://wandb.ai/siddharth-s/FODL_Assignment_1</a>"
            ],
            "text/plain": [
              "<IPython.core.display.HTML object>"
            ]
          },
          "metadata": {},
          "output_type": "display_data"
        },
        {
          "data": {
            "text/html": [
              " View sweep at <a href='https://wandb.ai/siddharth-s/FODL_Assignment_1/sweeps/pqng4xvs' target=\"_blank\">https://wandb.ai/siddharth-s/FODL_Assignment_1/sweeps/pqng4xvs</a>"
            ],
            "text/plain": [
              "<IPython.core.display.HTML object>"
            ]
          },
          "metadata": {},
          "output_type": "display_data"
        },
        {
          "data": {
            "text/html": [
              " View run at <a href='https://wandb.ai/siddharth-s/FODL_Assignment_1/runs/bocr2jor' target=\"_blank\">https://wandb.ai/siddharth-s/FODL_Assignment_1/runs/bocr2jor</a>"
            ],
            "text/plain": [
              "<IPython.core.display.HTML object>"
            ]
          },
          "metadata": {},
          "output_type": "display_data"
        },
        {
          "name": "stderr",
          "output_type": "stream",
          "text": [
            "100%|██████████| 10/10 [06:15<00:00, 37.51s/it]"
          ]
        },
        {
          "name": "stdout",
          "output_type": "stream",
          "text": [
            "Training Accuracy: 9.96111111111111\n",
            "Validation Accuracy: 10.35\n"
          ]
        },
        {
          "name": "stderr",
          "output_type": "stream",
          "text": [
            "\n"
          ]
        },
        {
          "data": {
            "text/html": [
              "Waiting for W&B process to finish... <strong style=\"color:green\">(success).</strong>"
            ],
            "text/plain": [
              "<IPython.core.display.HTML object>"
            ]
          },
          "metadata": {},
          "output_type": "display_data"
        },
        {
          "data": {
            "application/vnd.jupyter.widget-view+json": {
              "model_id": "5db05d250c8947c1894eb425ee0176e7",
              "version_major": 2,
              "version_minor": 0
            },
            "text/plain": [
              "VBox(children=(Label(value='0.001 MB of 0.001 MB uploaded (0.000 MB deduped)\\r'), FloatProgress(value=1.0, max…"
            ]
          },
          "metadata": {},
          "output_type": "display_data"
        },
        {
          "data": {
            "text/html": [
              "<style>\n",
              "    table.wandb td:nth-child(1) { padding: 0 10px; text-align: left ; width: auto;} td:nth-child(2) {text-align: left ; width: 100%}\n",
              "    .wandb-row { display: flex; flex-direction: row; flex-wrap: wrap; justify-content: flex-start; width: 100% }\n",
              "    .wandb-col { display: flex; flex-direction: column; flex-basis: 100%; flex: 1; padding: 10px; }\n",
              "    </style>\n",
              "<div class=\"wandb-row\"><div class=\"wandb-col\"><h3>Run history:</h3><br/><table class=\"wandb\"><tr><td>Train_Accuracy</td><td>▁▁▁▁▁▁▁▁▁▁</td></tr><tr><td>Train_Loss</td><td>█▇▅▄▄▃▂▂▁▁</td></tr><tr><td>Validation_Accuracy</td><td>▁▁▁▁▁▁▁▁▁▁</td></tr><tr><td>Validation_loss</td><td>█▇▆▅▄▄▃▂▂▁</td></tr><tr><td>epoch</td><td>▁▂▃▃▄▅▆▆▇█</td></tr></table><br/></div><div class=\"wandb-col\"><h3>Run summary:</h3><br/><table class=\"wandb\"><tr><td>Train_Accuracy</td><td>9.96111</td></tr><tr><td>Train_Loss</td><td>2.30364</td></tr><tr><td>Validation_Accuracy</td><td>10.35</td></tr><tr><td>Validation_loss</td><td>2.30326</td></tr><tr><td>epoch</td><td>9</td></tr></table><br/></div></div>"
            ],
            "text/plain": [
              "<IPython.core.display.HTML object>"
            ]
          },
          "metadata": {},
          "output_type": "display_data"
        },
        {
          "data": {
            "text/html": [
              " View run <strong style=\"color:#cdcd00\">revived-sweep-28</strong> at: <a href='https://wandb.ai/siddharth-s/FODL_Assignment_1/runs/bocr2jor' target=\"_blank\">https://wandb.ai/siddharth-s/FODL_Assignment_1/runs/bocr2jor</a><br/>Synced 5 W&B file(s), 0 media file(s), 0 artifact file(s) and 0 other file(s)"
            ],
            "text/plain": [
              "<IPython.core.display.HTML object>"
            ]
          },
          "metadata": {},
          "output_type": "display_data"
        },
        {
          "data": {
            "text/html": [
              "Find logs at: <code>./wandb/run-20230318_224658-bocr2jor/logs</code>"
            ],
            "text/plain": [
              "<IPython.core.display.HTML object>"
            ]
          },
          "metadata": {},
          "output_type": "display_data"
        },
        {
          "name": "stderr",
          "output_type": "stream",
          "text": [
            "\u001b[34m\u001b[1mwandb\u001b[0m: Agent Starting Run: cbiaq8j6 with config:\n",
            "\u001b[34m\u001b[1mwandb\u001b[0m: \tactivation_function: sigmoid\n",
            "\u001b[34m\u001b[1mwandb\u001b[0m: \tinitialization_type: random\n",
            "\u001b[34m\u001b[1mwandb\u001b[0m: \tlambd: 0.5\n",
            "\u001b[34m\u001b[1mwandb\u001b[0m: \tlearning_rate: 0.001\n",
            "\u001b[34m\u001b[1mwandb\u001b[0m: \tmax_epochs: 10\n",
            "\u001b[34m\u001b[1mwandb\u001b[0m: \tmini_batch_size: 16\n",
            "\u001b[34m\u001b[1mwandb\u001b[0m: \tnumber_hidden_layers: 3\n",
            "\u001b[34m\u001b[1mwandb\u001b[0m: \tnumber_neurons: 32\n",
            "\u001b[34m\u001b[1mwandb\u001b[0m: \toptimization_function: momentum_gd\n"
          ]
        },
        {
          "data": {
            "text/html": [
              "Tracking run with wandb version 0.14.0"
            ],
            "text/plain": [
              "<IPython.core.display.HTML object>"
            ]
          },
          "metadata": {},
          "output_type": "display_data"
        },
        {
          "data": {
            "text/html": [
              "Run data is saved locally in <code>/content/wandb/run-20230318_225331-cbiaq8j6</code>"
            ],
            "text/plain": [
              "<IPython.core.display.HTML object>"
            ]
          },
          "metadata": {},
          "output_type": "display_data"
        },
        {
          "data": {
            "text/html": [
              "Syncing run <strong><a href='https://wandb.ai/siddharth-s/FODL_Assignment_1/runs/cbiaq8j6' target=\"_blank\">soft-sweep-29</a></strong> to <a href='https://wandb.ai/siddharth-s/FODL_Assignment_1' target=\"_blank\">Weights & Biases</a> (<a href='https://wandb.me/run' target=\"_blank\">docs</a>)<br/>Sweep page: <a href='https://wandb.ai/siddharth-s/FODL_Assignment_1/sweeps/pqng4xvs' target=\"_blank\">https://wandb.ai/siddharth-s/FODL_Assignment_1/sweeps/pqng4xvs</a>"
            ],
            "text/plain": [
              "<IPython.core.display.HTML object>"
            ]
          },
          "metadata": {},
          "output_type": "display_data"
        },
        {
          "data": {
            "text/html": [
              " View project at <a href='https://wandb.ai/siddharth-s/FODL_Assignment_1' target=\"_blank\">https://wandb.ai/siddharth-s/FODL_Assignment_1</a>"
            ],
            "text/plain": [
              "<IPython.core.display.HTML object>"
            ]
          },
          "metadata": {},
          "output_type": "display_data"
        },
        {
          "data": {
            "text/html": [
              " View sweep at <a href='https://wandb.ai/siddharth-s/FODL_Assignment_1/sweeps/pqng4xvs' target=\"_blank\">https://wandb.ai/siddharth-s/FODL_Assignment_1/sweeps/pqng4xvs</a>"
            ],
            "text/plain": [
              "<IPython.core.display.HTML object>"
            ]
          },
          "metadata": {},
          "output_type": "display_data"
        },
        {
          "data": {
            "text/html": [
              " View run at <a href='https://wandb.ai/siddharth-s/FODL_Assignment_1/runs/cbiaq8j6' target=\"_blank\">https://wandb.ai/siddharth-s/FODL_Assignment_1/runs/cbiaq8j6</a>"
            ],
            "text/plain": [
              "<IPython.core.display.HTML object>"
            ]
          },
          "metadata": {},
          "output_type": "display_data"
        },
        {
          "name": "stderr",
          "output_type": "stream",
          "text": [
            "100%|██████████| 10/10 [04:58<00:00, 29.81s/it]"
          ]
        },
        {
          "name": "stdout",
          "output_type": "stream",
          "text": [
            "Training Accuracy: 9.96111111111111\n",
            "Validation Accuracy: 10.35\n"
          ]
        },
        {
          "name": "stderr",
          "output_type": "stream",
          "text": [
            "\n"
          ]
        },
        {
          "data": {
            "text/html": [
              "Waiting for W&B process to finish... <strong style=\"color:green\">(success).</strong>"
            ],
            "text/plain": [
              "<IPython.core.display.HTML object>"
            ]
          },
          "metadata": {},
          "output_type": "display_data"
        },
        {
          "data": {
            "text/html": [
              "<style>\n",
              "    table.wandb td:nth-child(1) { padding: 0 10px; text-align: left ; width: auto;} td:nth-child(2) {text-align: left ; width: 100%}\n",
              "    .wandb-row { display: flex; flex-direction: row; flex-wrap: wrap; justify-content: flex-start; width: 100% }\n",
              "    .wandb-col { display: flex; flex-direction: column; flex-basis: 100%; flex: 1; padding: 10px; }\n",
              "    </style>\n",
              "<div class=\"wandb-row\"><div class=\"wandb-col\"><h3>Run history:</h3><br/><table class=\"wandb\"><tr><td>Train_Accuracy</td><td>▁▁▁▁▁▁▁▁▁▁</td></tr><tr><td>Train_Loss</td><td>▁▁▂▃▃▄▅▆▇█</td></tr><tr><td>Validation_Accuracy</td><td>▁▁▁▁▁▁▁▁▁▁</td></tr><tr><td>Validation_loss</td><td>▁▁▂▃▃▄▅▆▇█</td></tr><tr><td>epoch</td><td>▁▂▃▃▄▅▆▆▇█</td></tr></table><br/></div><div class=\"wandb-col\"><h3>Run summary:</h3><br/><table class=\"wandb\"><tr><td>Train_Accuracy</td><td>9.96111</td></tr><tr><td>Train_Loss</td><td>2.31079</td></tr><tr><td>Validation_Accuracy</td><td>10.35</td></tr><tr><td>Validation_loss</td><td>2.36801</td></tr><tr><td>epoch</td><td>9</td></tr></table><br/></div></div>"
            ],
            "text/plain": [
              "<IPython.core.display.HTML object>"
            ]
          },
          "metadata": {},
          "output_type": "display_data"
        },
        {
          "data": {
            "text/html": [
              " View run <strong style=\"color:#cdcd00\">soft-sweep-29</strong> at: <a href='https://wandb.ai/siddharth-s/FODL_Assignment_1/runs/cbiaq8j6' target=\"_blank\">https://wandb.ai/siddharth-s/FODL_Assignment_1/runs/cbiaq8j6</a><br/>Synced 5 W&B file(s), 0 media file(s), 0 artifact file(s) and 0 other file(s)"
            ],
            "text/plain": [
              "<IPython.core.display.HTML object>"
            ]
          },
          "metadata": {},
          "output_type": "display_data"
        },
        {
          "data": {
            "text/html": [
              "Find logs at: <code>./wandb/run-20230318_225331-cbiaq8j6/logs</code>"
            ],
            "text/plain": [
              "<IPython.core.display.HTML object>"
            ]
          },
          "metadata": {},
          "output_type": "display_data"
        },
        {
          "name": "stderr",
          "output_type": "stream",
          "text": [
            "\u001b[34m\u001b[1mwandb\u001b[0m: Agent Starting Run: adi4wpvi with config:\n",
            "\u001b[34m\u001b[1mwandb\u001b[0m: \tactivation_function: relu\n",
            "\u001b[34m\u001b[1mwandb\u001b[0m: \tinitialization_type: xavier\n",
            "\u001b[34m\u001b[1mwandb\u001b[0m: \tlambd: 0.5\n",
            "\u001b[34m\u001b[1mwandb\u001b[0m: \tlearning_rate: 0.0001\n",
            "\u001b[34m\u001b[1mwandb\u001b[0m: \tmax_epochs: 10\n",
            "\u001b[34m\u001b[1mwandb\u001b[0m: \tmini_batch_size: 16\n",
            "\u001b[34m\u001b[1mwandb\u001b[0m: \tnumber_hidden_layers: 4\n",
            "\u001b[34m\u001b[1mwandb\u001b[0m: \tnumber_neurons: 64\n",
            "\u001b[34m\u001b[1mwandb\u001b[0m: \toptimization_function: adam\n"
          ]
        },
        {
          "data": {
            "text/html": [
              "Tracking run with wandb version 0.14.0"
            ],
            "text/plain": [
              "<IPython.core.display.HTML object>"
            ]
          },
          "metadata": {},
          "output_type": "display_data"
        },
        {
          "data": {
            "text/html": [
              "Run data is saved locally in <code>/content/wandb/run-20230318_225849-adi4wpvi</code>"
            ],
            "text/plain": [
              "<IPython.core.display.HTML object>"
            ]
          },
          "metadata": {},
          "output_type": "display_data"
        },
        {
          "data": {
            "text/html": [
              "Syncing run <strong><a href='https://wandb.ai/siddharth-s/FODL_Assignment_1/runs/adi4wpvi' target=\"_blank\">earthy-sweep-30</a></strong> to <a href='https://wandb.ai/siddharth-s/FODL_Assignment_1' target=\"_blank\">Weights & Biases</a> (<a href='https://wandb.me/run' target=\"_blank\">docs</a>)<br/>Sweep page: <a href='https://wandb.ai/siddharth-s/FODL_Assignment_1/sweeps/pqng4xvs' target=\"_blank\">https://wandb.ai/siddharth-s/FODL_Assignment_1/sweeps/pqng4xvs</a>"
            ],
            "text/plain": [
              "<IPython.core.display.HTML object>"
            ]
          },
          "metadata": {},
          "output_type": "display_data"
        },
        {
          "data": {
            "text/html": [
              " View project at <a href='https://wandb.ai/siddharth-s/FODL_Assignment_1' target=\"_blank\">https://wandb.ai/siddharth-s/FODL_Assignment_1</a>"
            ],
            "text/plain": [
              "<IPython.core.display.HTML object>"
            ]
          },
          "metadata": {},
          "output_type": "display_data"
        },
        {
          "data": {
            "text/html": [
              " View sweep at <a href='https://wandb.ai/siddharth-s/FODL_Assignment_1/sweeps/pqng4xvs' target=\"_blank\">https://wandb.ai/siddharth-s/FODL_Assignment_1/sweeps/pqng4xvs</a>"
            ],
            "text/plain": [
              "<IPython.core.display.HTML object>"
            ]
          },
          "metadata": {},
          "output_type": "display_data"
        },
        {
          "data": {
            "text/html": [
              " View run at <a href='https://wandb.ai/siddharth-s/FODL_Assignment_1/runs/adi4wpvi' target=\"_blank\">https://wandb.ai/siddharth-s/FODL_Assignment_1/runs/adi4wpvi</a>"
            ],
            "text/plain": [
              "<IPython.core.display.HTML object>"
            ]
          },
          "metadata": {},
          "output_type": "display_data"
        },
        {
          "name": "stderr",
          "output_type": "stream",
          "text": [
            "100%|██████████| 10/10 [06:46<00:00, 40.67s/it]"
          ]
        },
        {
          "name": "stdout",
          "output_type": "stream",
          "text": [
            "Training Accuracy: 84.64074074074074\n",
            "Validation Accuracy: 83.73333333333333\n"
          ]
        },
        {
          "name": "stderr",
          "output_type": "stream",
          "text": [
            "\n"
          ]
        },
        {
          "data": {
            "text/html": [
              "Waiting for W&B process to finish... <strong style=\"color:green\">(success).</strong>"
            ],
            "text/plain": [
              "<IPython.core.display.HTML object>"
            ]
          },
          "metadata": {},
          "output_type": "display_data"
        },
        {
          "data": {
            "text/html": [
              "<style>\n",
              "    table.wandb td:nth-child(1) { padding: 0 10px; text-align: left ; width: auto;} td:nth-child(2) {text-align: left ; width: 100%}\n",
              "    .wandb-row { display: flex; flex-direction: row; flex-wrap: wrap; justify-content: flex-start; width: 100% }\n",
              "    .wandb-col { display: flex; flex-direction: column; flex-basis: 100%; flex: 1; padding: 10px; }\n",
              "    </style>\n",
              "<div class=\"wandb-row\"><div class=\"wandb-col\"><h3>Run history:</h3><br/><table class=\"wandb\"><tr><td>Train_Accuracy</td><td>▁▅▆▇▇▇████</td></tr><tr><td>Train_Loss</td><td>▁▁▁▂▃▄▅▆▇█</td></tr><tr><td>Validation_Accuracy</td><td>▁▅▆▇▇▇▇███</td></tr><tr><td>Validation_loss</td><td>▁▁▂▃▃▄▅▆▇█</td></tr><tr><td>epoch</td><td>▁▂▃▃▄▅▆▆▇█</td></tr></table><br/></div><div class=\"wandb-col\"><h3>Run summary:</h3><br/><table class=\"wandb\"><tr><td>Train_Accuracy</td><td>84.64074</td></tr><tr><td>Train_Loss</td><td>1.1465</td></tr><tr><td>Validation_Accuracy</td><td>83.73333</td></tr><tr><td>Validation_loss</td><td>5.97905</td></tr><tr><td>epoch</td><td>9</td></tr></table><br/></div></div>"
            ],
            "text/plain": [
              "<IPython.core.display.HTML object>"
            ]
          },
          "metadata": {},
          "output_type": "display_data"
        },
        {
          "data": {
            "text/html": [
              " View run <strong style=\"color:#cdcd00\">earthy-sweep-30</strong> at: <a href='https://wandb.ai/siddharth-s/FODL_Assignment_1/runs/adi4wpvi' target=\"_blank\">https://wandb.ai/siddharth-s/FODL_Assignment_1/runs/adi4wpvi</a><br/>Synced 5 W&B file(s), 0 media file(s), 0 artifact file(s) and 0 other file(s)"
            ],
            "text/plain": [
              "<IPython.core.display.HTML object>"
            ]
          },
          "metadata": {},
          "output_type": "display_data"
        },
        {
          "data": {
            "text/html": [
              "Find logs at: <code>./wandb/run-20230318_225849-adi4wpvi/logs</code>"
            ],
            "text/plain": [
              "<IPython.core.display.HTML object>"
            ]
          },
          "metadata": {},
          "output_type": "display_data"
        },
        {
          "name": "stderr",
          "output_type": "stream",
          "text": [
            "\u001b[34m\u001b[1mwandb\u001b[0m: Agent Starting Run: aofc5vwr with config:\n",
            "\u001b[34m\u001b[1mwandb\u001b[0m: \tactivation_function: relu\n",
            "\u001b[34m\u001b[1mwandb\u001b[0m: \tinitialization_type: random\n",
            "\u001b[34m\u001b[1mwandb\u001b[0m: \tlambd: 0.5\n",
            "\u001b[34m\u001b[1mwandb\u001b[0m: \tlearning_rate: 0.0001\n",
            "\u001b[34m\u001b[1mwandb\u001b[0m: \tmax_epochs: 10\n",
            "\u001b[34m\u001b[1mwandb\u001b[0m: \tmini_batch_size: 32\n",
            "\u001b[34m\u001b[1mwandb\u001b[0m: \tnumber_hidden_layers: 4\n",
            "\u001b[34m\u001b[1mwandb\u001b[0m: \tnumber_neurons: 128\n",
            "\u001b[34m\u001b[1mwandb\u001b[0m: \toptimization_function: adam\n"
          ]
        },
        {
          "data": {
            "text/html": [
              "Tracking run with wandb version 0.14.0"
            ],
            "text/plain": [
              "<IPython.core.display.HTML object>"
            ]
          },
          "metadata": {},
          "output_type": "display_data"
        },
        {
          "data": {
            "text/html": [
              "Run data is saved locally in <code>/content/wandb/run-20230318_230554-aofc5vwr</code>"
            ],
            "text/plain": [
              "<IPython.core.display.HTML object>"
            ]
          },
          "metadata": {},
          "output_type": "display_data"
        },
        {
          "data": {
            "text/html": [
              "Syncing run <strong><a href='https://wandb.ai/siddharth-s/FODL_Assignment_1/runs/aofc5vwr' target=\"_blank\">restful-sweep-31</a></strong> to <a href='https://wandb.ai/siddharth-s/FODL_Assignment_1' target=\"_blank\">Weights & Biases</a> (<a href='https://wandb.me/run' target=\"_blank\">docs</a>)<br/>Sweep page: <a href='https://wandb.ai/siddharth-s/FODL_Assignment_1/sweeps/pqng4xvs' target=\"_blank\">https://wandb.ai/siddharth-s/FODL_Assignment_1/sweeps/pqng4xvs</a>"
            ],
            "text/plain": [
              "<IPython.core.display.HTML object>"
            ]
          },
          "metadata": {},
          "output_type": "display_data"
        },
        {
          "data": {
            "text/html": [
              " View project at <a href='https://wandb.ai/siddharth-s/FODL_Assignment_1' target=\"_blank\">https://wandb.ai/siddharth-s/FODL_Assignment_1</a>"
            ],
            "text/plain": [
              "<IPython.core.display.HTML object>"
            ]
          },
          "metadata": {},
          "output_type": "display_data"
        },
        {
          "data": {
            "text/html": [
              " View sweep at <a href='https://wandb.ai/siddharth-s/FODL_Assignment_1/sweeps/pqng4xvs' target=\"_blank\">https://wandb.ai/siddharth-s/FODL_Assignment_1/sweeps/pqng4xvs</a>"
            ],
            "text/plain": [
              "<IPython.core.display.HTML object>"
            ]
          },
          "metadata": {},
          "output_type": "display_data"
        },
        {
          "data": {
            "text/html": [
              " View run at <a href='https://wandb.ai/siddharth-s/FODL_Assignment_1/runs/aofc5vwr' target=\"_blank\">https://wandb.ai/siddharth-s/FODL_Assignment_1/runs/aofc5vwr</a>"
            ],
            "text/plain": [
              "<IPython.core.display.HTML object>"
            ]
          },
          "metadata": {},
          "output_type": "display_data"
        },
        {
          "name": "stderr",
          "output_type": "stream",
          "text": [
            "100%|██████████| 10/10 [10:57<00:00, 65.76s/it]"
          ]
        },
        {
          "name": "stdout",
          "output_type": "stream",
          "text": [
            "Training Accuracy: 72.10185185185185\n",
            "Validation Accuracy: 72.18333333333334\n"
          ]
        },
        {
          "name": "stderr",
          "output_type": "stream",
          "text": [
            "\n"
          ]
        },
        {
          "data": {
            "text/html": [
              "Waiting for W&B process to finish... <strong style=\"color:green\">(success).</strong>"
            ],
            "text/plain": [
              "<IPython.core.display.HTML object>"
            ]
          },
          "metadata": {},
          "output_type": "display_data"
        },
        {
          "data": {
            "text/html": [
              "<style>\n",
              "    table.wandb td:nth-child(1) { padding: 0 10px; text-align: left ; width: auto;} td:nth-child(2) {text-align: left ; width: 100%}\n",
              "    .wandb-row { display: flex; flex-direction: row; flex-wrap: wrap; justify-content: flex-start; width: 100% }\n",
              "    .wandb-col { display: flex; flex-direction: column; flex-basis: 100%; flex: 1; padding: 10px; }\n",
              "    </style>\n",
              "<div class=\"wandb-row\"><div class=\"wandb-col\"><h3>Run history:</h3><br/><table class=\"wandb\"><tr><td>Train_Accuracy</td><td>▁▃▄▅▅▅▆▇██</td></tr><tr><td>Train_Loss</td><td>▁▃▄▅▆▇▇███</td></tr><tr><td>Validation_Accuracy</td><td>▁▃▄▄▅▅▆▇██</td></tr><tr><td>Validation_loss</td><td>▁▃▄▅▆▇▇███</td></tr><tr><td>epoch</td><td>▁▂▃▃▄▅▆▆▇█</td></tr></table><br/></div><div class=\"wandb-col\"><h3>Run summary:</h3><br/><table class=\"wandb\"><tr><td>Train_Accuracy</td><td>72.10185</td></tr><tr><td>Train_Loss</td><td>17.54491</td></tr><tr><td>Validation_Accuracy</td><td>72.18333</td></tr><tr><td>Validation_loss</td><td>151.06621</td></tr><tr><td>epoch</td><td>9</td></tr></table><br/></div></div>"
            ],
            "text/plain": [
              "<IPython.core.display.HTML object>"
            ]
          },
          "metadata": {},
          "output_type": "display_data"
        },
        {
          "data": {
            "text/html": [
              " View run <strong style=\"color:#cdcd00\">restful-sweep-31</strong> at: <a href='https://wandb.ai/siddharth-s/FODL_Assignment_1/runs/aofc5vwr' target=\"_blank\">https://wandb.ai/siddharth-s/FODL_Assignment_1/runs/aofc5vwr</a><br/>Synced 5 W&B file(s), 0 media file(s), 0 artifact file(s) and 0 other file(s)"
            ],
            "text/plain": [
              "<IPython.core.display.HTML object>"
            ]
          },
          "metadata": {},
          "output_type": "display_data"
        },
        {
          "data": {
            "text/html": [
              "Find logs at: <code>./wandb/run-20230318_230554-aofc5vwr/logs</code>"
            ],
            "text/plain": [
              "<IPython.core.display.HTML object>"
            ]
          },
          "metadata": {},
          "output_type": "display_data"
        },
        {
          "name": "stderr",
          "output_type": "stream",
          "text": [
            "\u001b[34m\u001b[1mwandb\u001b[0m: Agent Starting Run: fnvvyehe with config:\n",
            "\u001b[34m\u001b[1mwandb\u001b[0m: \tactivation_function: relu\n",
            "\u001b[34m\u001b[1mwandb\u001b[0m: \tinitialization_type: random\n",
            "\u001b[34m\u001b[1mwandb\u001b[0m: \tlambd: 0.5\n",
            "\u001b[34m\u001b[1mwandb\u001b[0m: \tlearning_rate: 0.0001\n",
            "\u001b[34m\u001b[1mwandb\u001b[0m: \tmax_epochs: 10\n",
            "\u001b[34m\u001b[1mwandb\u001b[0m: \tmini_batch_size: 16\n",
            "\u001b[34m\u001b[1mwandb\u001b[0m: \tnumber_hidden_layers: 5\n",
            "\u001b[34m\u001b[1mwandb\u001b[0m: \tnumber_neurons: 32\n",
            "\u001b[34m\u001b[1mwandb\u001b[0m: \toptimization_function: momentum_gd\n"
          ]
        },
        {
          "data": {
            "text/html": [
              "Tracking run with wandb version 0.14.0"
            ],
            "text/plain": [
              "<IPython.core.display.HTML object>"
            ]
          },
          "metadata": {},
          "output_type": "display_data"
        },
        {
          "data": {
            "text/html": [
              "Run data is saved locally in <code>/content/wandb/run-20230318_231708-fnvvyehe</code>"
            ],
            "text/plain": [
              "<IPython.core.display.HTML object>"
            ]
          },
          "metadata": {},
          "output_type": "display_data"
        },
        {
          "data": {
            "text/html": [
              "Syncing run <strong><a href='https://wandb.ai/siddharth-s/FODL_Assignment_1/runs/fnvvyehe' target=\"_blank\">colorful-sweep-32</a></strong> to <a href='https://wandb.ai/siddharth-s/FODL_Assignment_1' target=\"_blank\">Weights & Biases</a> (<a href='https://wandb.me/run' target=\"_blank\">docs</a>)<br/>Sweep page: <a href='https://wandb.ai/siddharth-s/FODL_Assignment_1/sweeps/pqng4xvs' target=\"_blank\">https://wandb.ai/siddharth-s/FODL_Assignment_1/sweeps/pqng4xvs</a>"
            ],
            "text/plain": [
              "<IPython.core.display.HTML object>"
            ]
          },
          "metadata": {},
          "output_type": "display_data"
        },
        {
          "data": {
            "text/html": [
              " View project at <a href='https://wandb.ai/siddharth-s/FODL_Assignment_1' target=\"_blank\">https://wandb.ai/siddharth-s/FODL_Assignment_1</a>"
            ],
            "text/plain": [
              "<IPython.core.display.HTML object>"
            ]
          },
          "metadata": {},
          "output_type": "display_data"
        },
        {
          "data": {
            "text/html": [
              " View sweep at <a href='https://wandb.ai/siddharth-s/FODL_Assignment_1/sweeps/pqng4xvs' target=\"_blank\">https://wandb.ai/siddharth-s/FODL_Assignment_1/sweeps/pqng4xvs</a>"
            ],
            "text/plain": [
              "<IPython.core.display.HTML object>"
            ]
          },
          "metadata": {},
          "output_type": "display_data"
        },
        {
          "data": {
            "text/html": [
              " View run at <a href='https://wandb.ai/siddharth-s/FODL_Assignment_1/runs/fnvvyehe' target=\"_blank\">https://wandb.ai/siddharth-s/FODL_Assignment_1/runs/fnvvyehe</a>"
            ],
            "text/plain": [
              "<IPython.core.display.HTML object>"
            ]
          },
          "metadata": {},
          "output_type": "display_data"
        },
        {
          "name": "stderr",
          "output_type": "stream",
          "text": [
            "100%|██████████| 10/10 [05:39<00:00, 33.96s/it]"
          ]
        },
        {
          "name": "stdout",
          "output_type": "stream",
          "text": [
            "Training Accuracy: 10.05\n",
            "Validation Accuracy: 9.55\n"
          ]
        },
        {
          "name": "stderr",
          "output_type": "stream",
          "text": [
            "\n"
          ]
        },
        {
          "data": {
            "text/html": [
              "Waiting for W&B process to finish... <strong style=\"color:green\">(success).</strong>"
            ],
            "text/plain": [
              "<IPython.core.display.HTML object>"
            ]
          },
          "metadata": {},
          "output_type": "display_data"
        },
        {
          "data": {
            "application/vnd.jupyter.widget-view+json": {
              "model_id": "85b063a396124c698a0b25fc54722ec4",
              "version_major": 2,
              "version_minor": 0
            },
            "text/plain": [
              "VBox(children=(Label(value='0.001 MB of 0.001 MB uploaded (0.000 MB deduped)\\r'), FloatProgress(value=1.0, max…"
            ]
          },
          "metadata": {},
          "output_type": "display_data"
        },
        {
          "data": {
            "text/html": [
              "<style>\n",
              "    table.wandb td:nth-child(1) { padding: 0 10px; text-align: left ; width: auto;} td:nth-child(2) {text-align: left ; width: 100%}\n",
              "    .wandb-row { display: flex; flex-direction: row; flex-wrap: wrap; justify-content: flex-start; width: 100% }\n",
              "    .wandb-col { display: flex; flex-direction: column; flex-basis: 100%; flex: 1; padding: 10px; }\n",
              "    </style>\n",
              "<div class=\"wandb-row\"><div class=\"wandb-col\"><h3>Run history:</h3><br/><table class=\"wandb\"><tr><td>Train_Accuracy</td><td>▁▁▁▁▁▁▁▁▁▁</td></tr><tr><td>Train_Loss</td><td>█▂▁▁▁▁▁▁▁▁</td></tr><tr><td>Validation_Accuracy</td><td>▁▁▁▁▁▁▁▁▁▁</td></tr><tr><td>Validation_loss</td><td>▁▆▇███████</td></tr><tr><td>epoch</td><td>▁▂▃▃▄▅▆▆▇█</td></tr></table><br/></div><div class=\"wandb-col\"><h3>Run summary:</h3><br/><table class=\"wandb\"><tr><td>Train_Accuracy</td><td>10.05</td></tr><tr><td>Train_Loss</td><td>2.30258</td></tr><tr><td>Validation_Accuracy</td><td>9.55</td></tr><tr><td>Validation_loss</td><td>2.30278</td></tr><tr><td>epoch</td><td>9</td></tr></table><br/></div></div>"
            ],
            "text/plain": [
              "<IPython.core.display.HTML object>"
            ]
          },
          "metadata": {},
          "output_type": "display_data"
        },
        {
          "data": {
            "text/html": [
              " View run <strong style=\"color:#cdcd00\">colorful-sweep-32</strong> at: <a href='https://wandb.ai/siddharth-s/FODL_Assignment_1/runs/fnvvyehe' target=\"_blank\">https://wandb.ai/siddharth-s/FODL_Assignment_1/runs/fnvvyehe</a><br/>Synced 5 W&B file(s), 0 media file(s), 0 artifact file(s) and 0 other file(s)"
            ],
            "text/plain": [
              "<IPython.core.display.HTML object>"
            ]
          },
          "metadata": {},
          "output_type": "display_data"
        },
        {
          "data": {
            "text/html": [
              "Find logs at: <code>./wandb/run-20230318_231708-fnvvyehe/logs</code>"
            ],
            "text/plain": [
              "<IPython.core.display.HTML object>"
            ]
          },
          "metadata": {},
          "output_type": "display_data"
        },
        {
          "name": "stderr",
          "output_type": "stream",
          "text": [
            "\u001b[34m\u001b[1mwandb\u001b[0m: Agent Starting Run: pur45kpt with config:\n",
            "\u001b[34m\u001b[1mwandb\u001b[0m: \tactivation_function: sigmoid\n",
            "\u001b[34m\u001b[1mwandb\u001b[0m: \tinitialization_type: xavier\n",
            "\u001b[34m\u001b[1mwandb\u001b[0m: \tlambd: 0.0005\n",
            "\u001b[34m\u001b[1mwandb\u001b[0m: \tlearning_rate: 0.001\n",
            "\u001b[34m\u001b[1mwandb\u001b[0m: \tmax_epochs: 5\n",
            "\u001b[34m\u001b[1mwandb\u001b[0m: \tmini_batch_size: 32\n",
            "\u001b[34m\u001b[1mwandb\u001b[0m: \tnumber_hidden_layers: 5\n",
            "\u001b[34m\u001b[1mwandb\u001b[0m: \tnumber_neurons: 64\n",
            "\u001b[34m\u001b[1mwandb\u001b[0m: \toptimization_function: momentum_gd\n"
          ]
        },
        {
          "data": {
            "text/html": [
              "Tracking run with wandb version 0.14.0"
            ],
            "text/plain": [
              "<IPython.core.display.HTML object>"
            ]
          },
          "metadata": {},
          "output_type": "display_data"
        },
        {
          "data": {
            "text/html": [
              "Run data is saved locally in <code>/content/wandb/run-20230318_232305-pur45kpt</code>"
            ],
            "text/plain": [
              "<IPython.core.display.HTML object>"
            ]
          },
          "metadata": {},
          "output_type": "display_data"
        },
        {
          "data": {
            "text/html": [
              "Syncing run <strong><a href='https://wandb.ai/siddharth-s/FODL_Assignment_1/runs/pur45kpt' target=\"_blank\">vital-sweep-33</a></strong> to <a href='https://wandb.ai/siddharth-s/FODL_Assignment_1' target=\"_blank\">Weights & Biases</a> (<a href='https://wandb.me/run' target=\"_blank\">docs</a>)<br/>Sweep page: <a href='https://wandb.ai/siddharth-s/FODL_Assignment_1/sweeps/pqng4xvs' target=\"_blank\">https://wandb.ai/siddharth-s/FODL_Assignment_1/sweeps/pqng4xvs</a>"
            ],
            "text/plain": [
              "<IPython.core.display.HTML object>"
            ]
          },
          "metadata": {},
          "output_type": "display_data"
        },
        {
          "data": {
            "text/html": [
              " View project at <a href='https://wandb.ai/siddharth-s/FODL_Assignment_1' target=\"_blank\">https://wandb.ai/siddharth-s/FODL_Assignment_1</a>"
            ],
            "text/plain": [
              "<IPython.core.display.HTML object>"
            ]
          },
          "metadata": {},
          "output_type": "display_data"
        },
        {
          "data": {
            "text/html": [
              " View sweep at <a href='https://wandb.ai/siddharth-s/FODL_Assignment_1/sweeps/pqng4xvs' target=\"_blank\">https://wandb.ai/siddharth-s/FODL_Assignment_1/sweeps/pqng4xvs</a>"
            ],
            "text/plain": [
              "<IPython.core.display.HTML object>"
            ]
          },
          "metadata": {},
          "output_type": "display_data"
        },
        {
          "data": {
            "text/html": [
              " View run at <a href='https://wandb.ai/siddharth-s/FODL_Assignment_1/runs/pur45kpt' target=\"_blank\">https://wandb.ai/siddharth-s/FODL_Assignment_1/runs/pur45kpt</a>"
            ],
            "text/plain": [
              "<IPython.core.display.HTML object>"
            ]
          },
          "metadata": {},
          "output_type": "display_data"
        },
        {
          "name": "stderr",
          "output_type": "stream",
          "text": [
            "100%|██████████| 5/5 [04:14<00:00, 50.90s/it]"
          ]
        },
        {
          "name": "stdout",
          "output_type": "stream",
          "text": [
            "Training Accuracy: 77.56111111111112\n",
            "Validation Accuracy: 77.28333333333333\n"
          ]
        },
        {
          "name": "stderr",
          "output_type": "stream",
          "text": [
            "\n"
          ]
        },
        {
          "data": {
            "text/html": [
              "Waiting for W&B process to finish... <strong style=\"color:green\">(success).</strong>"
            ],
            "text/plain": [
              "<IPython.core.display.HTML object>"
            ]
          },
          "metadata": {},
          "output_type": "display_data"
        },
        {
          "data": {
            "text/html": [
              "<style>\n",
              "    table.wandb td:nth-child(1) { padding: 0 10px; text-align: left ; width: auto;} td:nth-child(2) {text-align: left ; width: 100%}\n",
              "    .wandb-row { display: flex; flex-direction: row; flex-wrap: wrap; justify-content: flex-start; width: 100% }\n",
              "    .wandb-col { display: flex; flex-direction: column; flex-basis: 100%; flex: 1; padding: 10px; }\n",
              "    </style>\n",
              "<div class=\"wandb-row\"><div class=\"wandb-col\"><h3>Run history:</h3><br/><table class=\"wandb\"><tr><td>Train_Accuracy</td><td>▁▅▇██</td></tr><tr><td>Train_Loss</td><td>█▄▂▁▁</td></tr><tr><td>Validation_Accuracy</td><td>▁▆▇██</td></tr><tr><td>Validation_loss</td><td>█▄▂▁▁</td></tr><tr><td>epoch</td><td>▁▃▅▆█</td></tr></table><br/></div><div class=\"wandb-col\"><h3>Run summary:</h3><br/><table class=\"wandb\"><tr><td>Train_Accuracy</td><td>77.56111</td></tr><tr><td>Train_Loss</td><td>0.58459</td></tr><tr><td>Validation_Accuracy</td><td>77.28333</td></tr><tr><td>Validation_loss</td><td>0.59614</td></tr><tr><td>epoch</td><td>4</td></tr></table><br/></div></div>"
            ],
            "text/plain": [
              "<IPython.core.display.HTML object>"
            ]
          },
          "metadata": {},
          "output_type": "display_data"
        },
        {
          "data": {
            "text/html": [
              " View run <strong style=\"color:#cdcd00\">vital-sweep-33</strong> at: <a href='https://wandb.ai/siddharth-s/FODL_Assignment_1/runs/pur45kpt' target=\"_blank\">https://wandb.ai/siddharth-s/FODL_Assignment_1/runs/pur45kpt</a><br/>Synced 5 W&B file(s), 0 media file(s), 0 artifact file(s) and 0 other file(s)"
            ],
            "text/plain": [
              "<IPython.core.display.HTML object>"
            ]
          },
          "metadata": {},
          "output_type": "display_data"
        },
        {
          "data": {
            "text/html": [
              "Find logs at: <code>./wandb/run-20230318_232305-pur45kpt/logs</code>"
            ],
            "text/plain": [
              "<IPython.core.display.HTML object>"
            ]
          },
          "metadata": {},
          "output_type": "display_data"
        },
        {
          "name": "stderr",
          "output_type": "stream",
          "text": [
            "\u001b[34m\u001b[1mwandb\u001b[0m: Sweep Agent: Waiting for job.\n",
            "\u001b[34m\u001b[1mwandb\u001b[0m: Job received.\n",
            "\u001b[34m\u001b[1mwandb\u001b[0m: Agent Starting Run: 8koogl4f with config:\n",
            "\u001b[34m\u001b[1mwandb\u001b[0m: \tactivation_function: relu\n",
            "\u001b[34m\u001b[1mwandb\u001b[0m: \tinitialization_type: xavier\n",
            "\u001b[34m\u001b[1mwandb\u001b[0m: \tlambd: 0.5\n",
            "\u001b[34m\u001b[1mwandb\u001b[0m: \tlearning_rate: 0.0001\n",
            "\u001b[34m\u001b[1mwandb\u001b[0m: \tmax_epochs: 10\n",
            "\u001b[34m\u001b[1mwandb\u001b[0m: \tmini_batch_size: 64\n",
            "\u001b[34m\u001b[1mwandb\u001b[0m: \tnumber_hidden_layers: 5\n",
            "\u001b[34m\u001b[1mwandb\u001b[0m: \tnumber_neurons: 64\n",
            "\u001b[34m\u001b[1mwandb\u001b[0m: \toptimization_function: momentum_gd\n"
          ]
        },
        {
          "data": {
            "text/html": [
              "Tracking run with wandb version 0.14.0"
            ],
            "text/plain": [
              "<IPython.core.display.HTML object>"
            ]
          },
          "metadata": {},
          "output_type": "display_data"
        },
        {
          "data": {
            "text/html": [
              "Run data is saved locally in <code>/content/wandb/run-20230318_232746-8koogl4f</code>"
            ],
            "text/plain": [
              "<IPython.core.display.HTML object>"
            ]
          },
          "metadata": {},
          "output_type": "display_data"
        },
        {
          "data": {
            "text/html": [
              "Syncing run <strong><a href='https://wandb.ai/siddharth-s/FODL_Assignment_1/runs/8koogl4f' target=\"_blank\">pleasant-sweep-34</a></strong> to <a href='https://wandb.ai/siddharth-s/FODL_Assignment_1' target=\"_blank\">Weights & Biases</a> (<a href='https://wandb.me/run' target=\"_blank\">docs</a>)<br/>Sweep page: <a href='https://wandb.ai/siddharth-s/FODL_Assignment_1/sweeps/pqng4xvs' target=\"_blank\">https://wandb.ai/siddharth-s/FODL_Assignment_1/sweeps/pqng4xvs</a>"
            ],
            "text/plain": [
              "<IPython.core.display.HTML object>"
            ]
          },
          "metadata": {},
          "output_type": "display_data"
        },
        {
          "data": {
            "text/html": [
              " View project at <a href='https://wandb.ai/siddharth-s/FODL_Assignment_1' target=\"_blank\">https://wandb.ai/siddharth-s/FODL_Assignment_1</a>"
            ],
            "text/plain": [
              "<IPython.core.display.HTML object>"
            ]
          },
          "metadata": {},
          "output_type": "display_data"
        },
        {
          "data": {
            "text/html": [
              " View sweep at <a href='https://wandb.ai/siddharth-s/FODL_Assignment_1/sweeps/pqng4xvs' target=\"_blank\">https://wandb.ai/siddharth-s/FODL_Assignment_1/sweeps/pqng4xvs</a>"
            ],
            "text/plain": [
              "<IPython.core.display.HTML object>"
            ]
          },
          "metadata": {},
          "output_type": "display_data"
        },
        {
          "data": {
            "text/html": [
              " View run at <a href='https://wandb.ai/siddharth-s/FODL_Assignment_1/runs/8koogl4f' target=\"_blank\">https://wandb.ai/siddharth-s/FODL_Assignment_1/runs/8koogl4f</a>"
            ],
            "text/plain": [
              "<IPython.core.display.HTML object>"
            ]
          },
          "metadata": {},
          "output_type": "display_data"
        },
        {
          "name": "stderr",
          "output_type": "stream",
          "text": [
            "100%|██████████| 10/10 [07:09<00:00, 42.93s/it]"
          ]
        },
        {
          "name": "stdout",
          "output_type": "stream",
          "text": [
            "Training Accuracy: 87.8425925925926\n",
            "Validation Accuracy: 86.33333333333333\n"
          ]
        },
        {
          "name": "stderr",
          "output_type": "stream",
          "text": [
            "\n"
          ]
        },
        {
          "data": {
            "text/html": [
              "Waiting for W&B process to finish... <strong style=\"color:green\">(success).</strong>"
            ],
            "text/plain": [
              "<IPython.core.display.HTML object>"
            ]
          },
          "metadata": {},
          "output_type": "display_data"
        },
        {
          "data": {
            "text/html": [
              "<style>\n",
              "    table.wandb td:nth-child(1) { padding: 0 10px; text-align: left ; width: auto;} td:nth-child(2) {text-align: left ; width: 100%}\n",
              "    .wandb-row { display: flex; flex-direction: row; flex-wrap: wrap; justify-content: flex-start; width: 100% }\n",
              "    .wandb-col { display: flex; flex-direction: column; flex-basis: 100%; flex: 1; padding: 10px; }\n",
              "    </style>\n",
              "<div class=\"wandb-row\"><div class=\"wandb-col\"><h3>Run history:</h3><br/><table class=\"wandb\"><tr><td>Train_Accuracy</td><td>▁▄▅▅▆▆▇▇██</td></tr><tr><td>Train_Loss</td><td>█▅▄▄▃▃▂▂▁▁</td></tr><tr><td>Validation_Accuracy</td><td>▁▄▅▅▆▆▇▇██</td></tr><tr><td>Validation_loss</td><td>█▅▄▄▃▃▂▂▁▁</td></tr><tr><td>epoch</td><td>▁▂▃▃▄▅▆▆▇█</td></tr></table><br/></div><div class=\"wandb-col\"><h3>Run summary:</h3><br/><table class=\"wandb\"><tr><td>Train_Accuracy</td><td>87.84259</td></tr><tr><td>Train_Loss</td><td>0.33303</td></tr><tr><td>Validation_Accuracy</td><td>86.33333</td></tr><tr><td>Validation_loss</td><td>0.40397</td></tr><tr><td>epoch</td><td>9</td></tr></table><br/></div></div>"
            ],
            "text/plain": [
              "<IPython.core.display.HTML object>"
            ]
          },
          "metadata": {},
          "output_type": "display_data"
        },
        {
          "data": {
            "text/html": [
              " View run <strong style=\"color:#cdcd00\">pleasant-sweep-34</strong> at: <a href='https://wandb.ai/siddharth-s/FODL_Assignment_1/runs/8koogl4f' target=\"_blank\">https://wandb.ai/siddharth-s/FODL_Assignment_1/runs/8koogl4f</a><br/>Synced 5 W&B file(s), 0 media file(s), 0 artifact file(s) and 0 other file(s)"
            ],
            "text/plain": [
              "<IPython.core.display.HTML object>"
            ]
          },
          "metadata": {},
          "output_type": "display_data"
        },
        {
          "data": {
            "text/html": [
              "Find logs at: <code>./wandb/run-20230318_232746-8koogl4f/logs</code>"
            ],
            "text/plain": [
              "<IPython.core.display.HTML object>"
            ]
          },
          "metadata": {},
          "output_type": "display_data"
        },
        {
          "name": "stderr",
          "output_type": "stream",
          "text": [
            "\u001b[34m\u001b[1mwandb\u001b[0m: Agent Starting Run: mk18hv2y with config:\n",
            "\u001b[34m\u001b[1mwandb\u001b[0m: \tactivation_function: tanh\n",
            "\u001b[34m\u001b[1mwandb\u001b[0m: \tinitialization_type: random\n",
            "\u001b[34m\u001b[1mwandb\u001b[0m: \tlambd: 0.5\n",
            "\u001b[34m\u001b[1mwandb\u001b[0m: \tlearning_rate: 0.001\n",
            "\u001b[34m\u001b[1mwandb\u001b[0m: \tmax_epochs: 10\n",
            "\u001b[34m\u001b[1mwandb\u001b[0m: \tmini_batch_size: 64\n",
            "\u001b[34m\u001b[1mwandb\u001b[0m: \tnumber_hidden_layers: 4\n",
            "\u001b[34m\u001b[1mwandb\u001b[0m: \tnumber_neurons: 32\n",
            "\u001b[34m\u001b[1mwandb\u001b[0m: \toptimization_function: adam\n"
          ]
        },
        {
          "data": {
            "text/html": [
              "Tracking run with wandb version 0.14.0"
            ],
            "text/plain": [
              "<IPython.core.display.HTML object>"
            ]
          },
          "metadata": {},
          "output_type": "display_data"
        },
        {
          "data": {
            "text/html": [
              "Run data is saved locally in <code>/content/wandb/run-20230318_233512-mk18hv2y</code>"
            ],
            "text/plain": [
              "<IPython.core.display.HTML object>"
            ]
          },
          "metadata": {},
          "output_type": "display_data"
        },
        {
          "data": {
            "text/html": [
              "Syncing run <strong><a href='https://wandb.ai/siddharth-s/FODL_Assignment_1/runs/mk18hv2y' target=\"_blank\">morning-sweep-35</a></strong> to <a href='https://wandb.ai/siddharth-s/FODL_Assignment_1' target=\"_blank\">Weights & Biases</a> (<a href='https://wandb.me/run' target=\"_blank\">docs</a>)<br/>Sweep page: <a href='https://wandb.ai/siddharth-s/FODL_Assignment_1/sweeps/pqng4xvs' target=\"_blank\">https://wandb.ai/siddharth-s/FODL_Assignment_1/sweeps/pqng4xvs</a>"
            ],
            "text/plain": [
              "<IPython.core.display.HTML object>"
            ]
          },
          "metadata": {},
          "output_type": "display_data"
        },
        {
          "data": {
            "text/html": [
              " View project at <a href='https://wandb.ai/siddharth-s/FODL_Assignment_1' target=\"_blank\">https://wandb.ai/siddharth-s/FODL_Assignment_1</a>"
            ],
            "text/plain": [
              "<IPython.core.display.HTML object>"
            ]
          },
          "metadata": {},
          "output_type": "display_data"
        },
        {
          "data": {
            "text/html": [
              " View sweep at <a href='https://wandb.ai/siddharth-s/FODL_Assignment_1/sweeps/pqng4xvs' target=\"_blank\">https://wandb.ai/siddharth-s/FODL_Assignment_1/sweeps/pqng4xvs</a>"
            ],
            "text/plain": [
              "<IPython.core.display.HTML object>"
            ]
          },
          "metadata": {},
          "output_type": "display_data"
        },
        {
          "data": {
            "text/html": [
              " View run at <a href='https://wandb.ai/siddharth-s/FODL_Assignment_1/runs/mk18hv2y' target=\"_blank\">https://wandb.ai/siddharth-s/FODL_Assignment_1/runs/mk18hv2y</a>"
            ],
            "text/plain": [
              "<IPython.core.display.HTML object>"
            ]
          },
          "metadata": {},
          "output_type": "display_data"
        },
        {
          "name": "stderr",
          "output_type": "stream",
          "text": [
            "100%|██████████| 10/10 [05:00<00:00, 30.09s/it]"
          ]
        },
        {
          "name": "stdout",
          "output_type": "stream",
          "text": [
            "Training Accuracy: 84.47592592592592\n",
            "Validation Accuracy: 83.63333333333334\n"
          ]
        },
        {
          "name": "stderr",
          "output_type": "stream",
          "text": [
            "\n"
          ]
        },
        {
          "data": {
            "text/html": [
              "Waiting for W&B process to finish... <strong style=\"color:green\">(success).</strong>"
            ],
            "text/plain": [
              "<IPython.core.display.HTML object>"
            ]
          },
          "metadata": {},
          "output_type": "display_data"
        },
        {
          "data": {
            "application/vnd.jupyter.widget-view+json": {
              "model_id": "9f4cd485847f4e41b28bfde723d1edbf",
              "version_major": 2,
              "version_minor": 0
            },
            "text/plain": [
              "VBox(children=(Label(value='0.001 MB of 0.001 MB uploaded (0.000 MB deduped)\\r'), FloatProgress(value=1.0, max…"
            ]
          },
          "metadata": {},
          "output_type": "display_data"
        },
        {
          "data": {
            "text/html": [
              "<style>\n",
              "    table.wandb td:nth-child(1) { padding: 0 10px; text-align: left ; width: auto;} td:nth-child(2) {text-align: left ; width: 100%}\n",
              "    .wandb-row { display: flex; flex-direction: row; flex-wrap: wrap; justify-content: flex-start; width: 100% }\n",
              "    .wandb-col { display: flex; flex-direction: column; flex-basis: 100%; flex: 1; padding: 10px; }\n",
              "    </style>\n",
              "<div class=\"wandb-row\"><div class=\"wandb-col\"><h3>Run history:</h3><br/><table class=\"wandb\"><tr><td>Train_Accuracy</td><td>▁▆▇▇██████</td></tr><tr><td>Train_Loss</td><td>█▃▂▂▂▂▂▁▁▁</td></tr><tr><td>Validation_Accuracy</td><td>▁▆▇███████</td></tr><tr><td>Validation_loss</td><td>█▂▁▅▇▄▅▅▁▂</td></tr><tr><td>epoch</td><td>▁▂▃▃▄▅▆▆▇█</td></tr></table><br/></div><div class=\"wandb-col\"><h3>Run summary:</h3><br/><table class=\"wandb\"><tr><td>Train_Accuracy</td><td>84.47593</td></tr><tr><td>Train_Loss</td><td>0.52175</td></tr><tr><td>Validation_Accuracy</td><td>83.63333</td></tr><tr><td>Validation_loss</td><td>0.86205</td></tr><tr><td>epoch</td><td>9</td></tr></table><br/></div></div>"
            ],
            "text/plain": [
              "<IPython.core.display.HTML object>"
            ]
          },
          "metadata": {},
          "output_type": "display_data"
        },
        {
          "data": {
            "text/html": [
              " View run <strong style=\"color:#cdcd00\">morning-sweep-35</strong> at: <a href='https://wandb.ai/siddharth-s/FODL_Assignment_1/runs/mk18hv2y' target=\"_blank\">https://wandb.ai/siddharth-s/FODL_Assignment_1/runs/mk18hv2y</a><br/>Synced 5 W&B file(s), 0 media file(s), 0 artifact file(s) and 0 other file(s)"
            ],
            "text/plain": [
              "<IPython.core.display.HTML object>"
            ]
          },
          "metadata": {},
          "output_type": "display_data"
        },
        {
          "data": {
            "text/html": [
              "Find logs at: <code>./wandb/run-20230318_233512-mk18hv2y/logs</code>"
            ],
            "text/plain": [
              "<IPython.core.display.HTML object>"
            ]
          },
          "metadata": {},
          "output_type": "display_data"
        },
        {
          "name": "stderr",
          "output_type": "stream",
          "text": [
            "\u001b[34m\u001b[1mwandb\u001b[0m: Agent Starting Run: zpumbkuv with config:\n",
            "\u001b[34m\u001b[1mwandb\u001b[0m: \tactivation_function: sigmoid\n",
            "\u001b[34m\u001b[1mwandb\u001b[0m: \tinitialization_type: random\n",
            "\u001b[34m\u001b[1mwandb\u001b[0m: \tlambd: 0.5\n",
            "\u001b[34m\u001b[1mwandb\u001b[0m: \tlearning_rate: 0.0001\n",
            "\u001b[34m\u001b[1mwandb\u001b[0m: \tmax_epochs: 5\n",
            "\u001b[34m\u001b[1mwandb\u001b[0m: \tmini_batch_size: 16\n",
            "\u001b[34m\u001b[1mwandb\u001b[0m: \tnumber_hidden_layers: 4\n",
            "\u001b[34m\u001b[1mwandb\u001b[0m: \tnumber_neurons: 64\n",
            "\u001b[34m\u001b[1mwandb\u001b[0m: \toptimization_function: adam\n"
          ]
        },
        {
          "data": {
            "text/html": [
              "Tracking run with wandb version 0.14.0"
            ],
            "text/plain": [
              "<IPython.core.display.HTML object>"
            ]
          },
          "metadata": {},
          "output_type": "display_data"
        },
        {
          "data": {
            "text/html": [
              "Run data is saved locally in <code>/content/wandb/run-20230318_234029-zpumbkuv</code>"
            ],
            "text/plain": [
              "<IPython.core.display.HTML object>"
            ]
          },
          "metadata": {},
          "output_type": "display_data"
        },
        {
          "data": {
            "text/html": [
              "Syncing run <strong><a href='https://wandb.ai/siddharth-s/FODL_Assignment_1/runs/zpumbkuv' target=\"_blank\">peach-sweep-36</a></strong> to <a href='https://wandb.ai/siddharth-s/FODL_Assignment_1' target=\"_blank\">Weights & Biases</a> (<a href='https://wandb.me/run' target=\"_blank\">docs</a>)<br/>Sweep page: <a href='https://wandb.ai/siddharth-s/FODL_Assignment_1/sweeps/pqng4xvs' target=\"_blank\">https://wandb.ai/siddharth-s/FODL_Assignment_1/sweeps/pqng4xvs</a>"
            ],
            "text/plain": [
              "<IPython.core.display.HTML object>"
            ]
          },
          "metadata": {},
          "output_type": "display_data"
        },
        {
          "data": {
            "text/html": [
              " View project at <a href='https://wandb.ai/siddharth-s/FODL_Assignment_1' target=\"_blank\">https://wandb.ai/siddharth-s/FODL_Assignment_1</a>"
            ],
            "text/plain": [
              "<IPython.core.display.HTML object>"
            ]
          },
          "metadata": {},
          "output_type": "display_data"
        },
        {
          "data": {
            "text/html": [
              " View sweep at <a href='https://wandb.ai/siddharth-s/FODL_Assignment_1/sweeps/pqng4xvs' target=\"_blank\">https://wandb.ai/siddharth-s/FODL_Assignment_1/sweeps/pqng4xvs</a>"
            ],
            "text/plain": [
              "<IPython.core.display.HTML object>"
            ]
          },
          "metadata": {},
          "output_type": "display_data"
        },
        {
          "data": {
            "text/html": [
              " View run at <a href='https://wandb.ai/siddharth-s/FODL_Assignment_1/runs/zpumbkuv' target=\"_blank\">https://wandb.ai/siddharth-s/FODL_Assignment_1/runs/zpumbkuv</a>"
            ],
            "text/plain": [
              "<IPython.core.display.HTML object>"
            ]
          },
          "metadata": {},
          "output_type": "display_data"
        },
        {
          "name": "stderr",
          "output_type": "stream",
          "text": [
            "100%|██████████| 5/5 [03:54<00:00, 46.83s/it]"
          ]
        },
        {
          "name": "stdout",
          "output_type": "stream",
          "text": [
            "Training Accuracy: 20.06851851851852\n",
            "Validation Accuracy: 20.866666666666667\n"
          ]
        },
        {
          "name": "stderr",
          "output_type": "stream",
          "text": [
            "\n"
          ]
        },
        {
          "data": {
            "text/html": [
              "Waiting for W&B process to finish... <strong style=\"color:green\">(success).</strong>"
            ],
            "text/plain": [
              "<IPython.core.display.HTML object>"
            ]
          },
          "metadata": {},
          "output_type": "display_data"
        },
        {
          "data": {
            "text/html": [
              "<style>\n",
              "    table.wandb td:nth-child(1) { padding: 0 10px; text-align: left ; width: auto;} td:nth-child(2) {text-align: left ; width: 100%}\n",
              "    .wandb-row { display: flex; flex-direction: row; flex-wrap: wrap; justify-content: flex-start; width: 100% }\n",
              "    .wandb-col { display: flex; flex-direction: column; flex-basis: 100%; flex: 1; padding: 10px; }\n",
              "    </style>\n",
              "<div class=\"wandb-row\"><div class=\"wandb-col\"><h3>Run history:</h3><br/><table class=\"wandb\"><tr><td>Train_Accuracy</td><td>▁▁▁██</td></tr><tr><td>Train_Loss</td><td>▁▂▄▆█</td></tr><tr><td>Validation_Accuracy</td><td>▁▁▁██</td></tr><tr><td>Validation_loss</td><td>▁▂▄▆█</td></tr><tr><td>epoch</td><td>▁▃▅▆█</td></tr></table><br/></div><div class=\"wandb-col\"><h3>Run summary:</h3><br/><table class=\"wandb\"><tr><td>Train_Accuracy</td><td>20.06852</td></tr><tr><td>Train_Loss</td><td>4.76846</td></tr><tr><td>Validation_Accuracy</td><td>20.86667</td></tr><tr><td>Validation_loss</td><td>26.48158</td></tr><tr><td>epoch</td><td>4</td></tr></table><br/></div></div>"
            ],
            "text/plain": [
              "<IPython.core.display.HTML object>"
            ]
          },
          "metadata": {},
          "output_type": "display_data"
        },
        {
          "data": {
            "text/html": [
              " View run <strong style=\"color:#cdcd00\">peach-sweep-36</strong> at: <a href='https://wandb.ai/siddharth-s/FODL_Assignment_1/runs/zpumbkuv' target=\"_blank\">https://wandb.ai/siddharth-s/FODL_Assignment_1/runs/zpumbkuv</a><br/>Synced 5 W&B file(s), 0 media file(s), 0 artifact file(s) and 0 other file(s)"
            ],
            "text/plain": [
              "<IPython.core.display.HTML object>"
            ]
          },
          "metadata": {},
          "output_type": "display_data"
        },
        {
          "data": {
            "text/html": [
              "Find logs at: <code>./wandb/run-20230318_234029-zpumbkuv/logs</code>"
            ],
            "text/plain": [
              "<IPython.core.display.HTML object>"
            ]
          },
          "metadata": {},
          "output_type": "display_data"
        },
        {
          "name": "stderr",
          "output_type": "stream",
          "text": [
            "\u001b[34m\u001b[1mwandb\u001b[0m: Sweep Agent: Waiting for job.\n",
            "\u001b[34m\u001b[1mwandb\u001b[0m: Job received.\n",
            "\u001b[34m\u001b[1mwandb\u001b[0m: Agent Starting Run: 58rx1243 with config:\n",
            "\u001b[34m\u001b[1mwandb\u001b[0m: \tactivation_function: tanh\n",
            "\u001b[34m\u001b[1mwandb\u001b[0m: \tinitialization_type: xavier\n",
            "\u001b[34m\u001b[1mwandb\u001b[0m: \tlambd: 0.0005\n",
            "\u001b[34m\u001b[1mwandb\u001b[0m: \tlearning_rate: 0.001\n",
            "\u001b[34m\u001b[1mwandb\u001b[0m: \tmax_epochs: 5\n",
            "\u001b[34m\u001b[1mwandb\u001b[0m: \tmini_batch_size: 64\n",
            "\u001b[34m\u001b[1mwandb\u001b[0m: \tnumber_hidden_layers: 5\n",
            "\u001b[34m\u001b[1mwandb\u001b[0m: \tnumber_neurons: 64\n",
            "\u001b[34m\u001b[1mwandb\u001b[0m: \toptimization_function: stochastic_gd\n"
          ]
        },
        {
          "data": {
            "text/html": [
              "Tracking run with wandb version 0.14.0"
            ],
            "text/plain": [
              "<IPython.core.display.HTML object>"
            ]
          },
          "metadata": {},
          "output_type": "display_data"
        },
        {
          "data": {
            "text/html": [
              "Run data is saved locally in <code>/content/wandb/run-20230318_234505-58rx1243</code>"
            ],
            "text/plain": [
              "<IPython.core.display.HTML object>"
            ]
          },
          "metadata": {},
          "output_type": "display_data"
        },
        {
          "data": {
            "text/html": [
              "Syncing run <strong><a href='https://wandb.ai/siddharth-s/FODL_Assignment_1/runs/58rx1243' target=\"_blank\">solar-sweep-37</a></strong> to <a href='https://wandb.ai/siddharth-s/FODL_Assignment_1' target=\"_blank\">Weights & Biases</a> (<a href='https://wandb.me/run' target=\"_blank\">docs</a>)<br/>Sweep page: <a href='https://wandb.ai/siddharth-s/FODL_Assignment_1/sweeps/pqng4xvs' target=\"_blank\">https://wandb.ai/siddharth-s/FODL_Assignment_1/sweeps/pqng4xvs</a>"
            ],
            "text/plain": [
              "<IPython.core.display.HTML object>"
            ]
          },
          "metadata": {},
          "output_type": "display_data"
        },
        {
          "data": {
            "text/html": [
              " View project at <a href='https://wandb.ai/siddharth-s/FODL_Assignment_1' target=\"_blank\">https://wandb.ai/siddharth-s/FODL_Assignment_1</a>"
            ],
            "text/plain": [
              "<IPython.core.display.HTML object>"
            ]
          },
          "metadata": {},
          "output_type": "display_data"
        },
        {
          "data": {
            "text/html": [
              " View sweep at <a href='https://wandb.ai/siddharth-s/FODL_Assignment_1/sweeps/pqng4xvs' target=\"_blank\">https://wandb.ai/siddharth-s/FODL_Assignment_1/sweeps/pqng4xvs</a>"
            ],
            "text/plain": [
              "<IPython.core.display.HTML object>"
            ]
          },
          "metadata": {},
          "output_type": "display_data"
        },
        {
          "data": {
            "text/html": [
              " View run at <a href='https://wandb.ai/siddharth-s/FODL_Assignment_1/runs/58rx1243' target=\"_blank\">https://wandb.ai/siddharth-s/FODL_Assignment_1/runs/58rx1243</a>"
            ],
            "text/plain": [
              "<IPython.core.display.HTML object>"
            ]
          },
          "metadata": {},
          "output_type": "display_data"
        },
        {
          "name": "stderr",
          "output_type": "stream",
          "text": [
            "100%|██████████| 5/5 [03:34<00:00, 42.93s/it]"
          ]
        },
        {
          "name": "stdout",
          "output_type": "stream",
          "text": [
            "Training Accuracy: 88.52962962962962\n",
            "Validation Accuracy: 86.31666666666666\n"
          ]
        },
        {
          "name": "stderr",
          "output_type": "stream",
          "text": [
            "\n"
          ]
        },
        {
          "data": {
            "text/html": [
              "Waiting for W&B process to finish... <strong style=\"color:green\">(success).</strong>"
            ],
            "text/plain": [
              "<IPython.core.display.HTML object>"
            ]
          },
          "metadata": {},
          "output_type": "display_data"
        },
        {
          "data": {
            "application/vnd.jupyter.widget-view+json": {
              "model_id": "427985ab744846808cc2f5c4d88a4521",
              "version_major": 2,
              "version_minor": 0
            },
            "text/plain": [
              "VBox(children=(Label(value='0.001 MB of 0.001 MB uploaded (0.000 MB deduped)\\r'), FloatProgress(value=1.0, max…"
            ]
          },
          "metadata": {},
          "output_type": "display_data"
        },
        {
          "data": {
            "text/html": [
              "<style>\n",
              "    table.wandb td:nth-child(1) { padding: 0 10px; text-align: left ; width: auto;} td:nth-child(2) {text-align: left ; width: 100%}\n",
              "    .wandb-row { display: flex; flex-direction: row; flex-wrap: wrap; justify-content: flex-start; width: 100% }\n",
              "    .wandb-col { display: flex; flex-direction: column; flex-basis: 100%; flex: 1; padding: 10px; }\n",
              "    </style>\n",
              "<div class=\"wandb-row\"><div class=\"wandb-col\"><h3>Run history:</h3><br/><table class=\"wandb\"><tr><td>Train_Accuracy</td><td>▁▄▆▇█</td></tr><tr><td>Train_Loss</td><td>█▅▃▂▁</td></tr><tr><td>Validation_Accuracy</td><td>▁▅▇██</td></tr><tr><td>Validation_loss</td><td>█▄▂▁▁</td></tr><tr><td>epoch</td><td>▁▃▅▆█</td></tr></table><br/></div><div class=\"wandb-col\"><h3>Run summary:</h3><br/><table class=\"wandb\"><tr><td>Train_Accuracy</td><td>88.52963</td></tr><tr><td>Train_Loss</td><td>0.31367</td></tr><tr><td>Validation_Accuracy</td><td>86.31667</td></tr><tr><td>Validation_loss</td><td>0.37266</td></tr><tr><td>epoch</td><td>4</td></tr></table><br/></div></div>"
            ],
            "text/plain": [
              "<IPython.core.display.HTML object>"
            ]
          },
          "metadata": {},
          "output_type": "display_data"
        },
        {
          "data": {
            "text/html": [
              " View run <strong style=\"color:#cdcd00\">solar-sweep-37</strong> at: <a href='https://wandb.ai/siddharth-s/FODL_Assignment_1/runs/58rx1243' target=\"_blank\">https://wandb.ai/siddharth-s/FODL_Assignment_1/runs/58rx1243</a><br/>Synced 5 W&B file(s), 0 media file(s), 0 artifact file(s) and 0 other file(s)"
            ],
            "text/plain": [
              "<IPython.core.display.HTML object>"
            ]
          },
          "metadata": {},
          "output_type": "display_data"
        },
        {
          "data": {
            "text/html": [
              "Find logs at: <code>./wandb/run-20230318_234505-58rx1243/logs</code>"
            ],
            "text/plain": [
              "<IPython.core.display.HTML object>"
            ]
          },
          "metadata": {},
          "output_type": "display_data"
        },
        {
          "name": "stderr",
          "output_type": "stream",
          "text": [
            "\u001b[34m\u001b[1mwandb\u001b[0m: Agent Starting Run: 896y35un with config:\n",
            "\u001b[34m\u001b[1mwandb\u001b[0m: \tactivation_function: relu\n",
            "\u001b[34m\u001b[1mwandb\u001b[0m: \tinitialization_type: xavier\n",
            "\u001b[34m\u001b[1mwandb\u001b[0m: \tlambd: 0.0005\n",
            "\u001b[34m\u001b[1mwandb\u001b[0m: \tlearning_rate: 0.001\n",
            "\u001b[34m\u001b[1mwandb\u001b[0m: \tmax_epochs: 5\n",
            "\u001b[34m\u001b[1mwandb\u001b[0m: \tmini_batch_size: 32\n",
            "\u001b[34m\u001b[1mwandb\u001b[0m: \tnumber_hidden_layers: 4\n",
            "\u001b[34m\u001b[1mwandb\u001b[0m: \tnumber_neurons: 32\n",
            "\u001b[34m\u001b[1mwandb\u001b[0m: \toptimization_function: momentum_gd\n"
          ]
        },
        {
          "data": {
            "text/html": [
              "Tracking run with wandb version 0.14.0"
            ],
            "text/plain": [
              "<IPython.core.display.HTML object>"
            ]
          },
          "metadata": {},
          "output_type": "display_data"
        },
        {
          "data": {
            "text/html": [
              "Run data is saved locally in <code>/content/wandb/run-20230318_234855-896y35un</code>"
            ],
            "text/plain": [
              "<IPython.core.display.HTML object>"
            ]
          },
          "metadata": {},
          "output_type": "display_data"
        },
        {
          "data": {
            "text/html": [
              "Syncing run <strong><a href='https://wandb.ai/siddharth-s/FODL_Assignment_1/runs/896y35un' target=\"_blank\">dainty-sweep-38</a></strong> to <a href='https://wandb.ai/siddharth-s/FODL_Assignment_1' target=\"_blank\">Weights & Biases</a> (<a href='https://wandb.me/run' target=\"_blank\">docs</a>)<br/>Sweep page: <a href='https://wandb.ai/siddharth-s/FODL_Assignment_1/sweeps/pqng4xvs' target=\"_blank\">https://wandb.ai/siddharth-s/FODL_Assignment_1/sweeps/pqng4xvs</a>"
            ],
            "text/plain": [
              "<IPython.core.display.HTML object>"
            ]
          },
          "metadata": {},
          "output_type": "display_data"
        },
        {
          "data": {
            "text/html": [
              " View project at <a href='https://wandb.ai/siddharth-s/FODL_Assignment_1' target=\"_blank\">https://wandb.ai/siddharth-s/FODL_Assignment_1</a>"
            ],
            "text/plain": [
              "<IPython.core.display.HTML object>"
            ]
          },
          "metadata": {},
          "output_type": "display_data"
        },
        {
          "data": {
            "text/html": [
              " View sweep at <a href='https://wandb.ai/siddharth-s/FODL_Assignment_1/sweeps/pqng4xvs' target=\"_blank\">https://wandb.ai/siddharth-s/FODL_Assignment_1/sweeps/pqng4xvs</a>"
            ],
            "text/plain": [
              "<IPython.core.display.HTML object>"
            ]
          },
          "metadata": {},
          "output_type": "display_data"
        },
        {
          "data": {
            "text/html": [
              " View run at <a href='https://wandb.ai/siddharth-s/FODL_Assignment_1/runs/896y35un' target=\"_blank\">https://wandb.ai/siddharth-s/FODL_Assignment_1/runs/896y35un</a>"
            ],
            "text/plain": [
              "<IPython.core.display.HTML object>"
            ]
          },
          "metadata": {},
          "output_type": "display_data"
        },
        {
          "name": "stderr",
          "output_type": "stream",
          "text": [
            "100%|██████████| 5/5 [02:28<00:00, 29.78s/it]"
          ]
        },
        {
          "name": "stdout",
          "output_type": "stream",
          "text": [
            "Training Accuracy: 86.92222222222222\n",
            "Validation Accuracy: 85.21666666666667\n"
          ]
        },
        {
          "name": "stderr",
          "output_type": "stream",
          "text": [
            "\n"
          ]
        },
        {
          "data": {
            "text/html": [
              "Waiting for W&B process to finish... <strong style=\"color:green\">(success).</strong>"
            ],
            "text/plain": [
              "<IPython.core.display.HTML object>"
            ]
          },
          "metadata": {},
          "output_type": "display_data"
        },
        {
          "data": {
            "application/vnd.jupyter.widget-view+json": {
              "model_id": "93d018f0364a44b09f1fddd40173c126",
              "version_major": 2,
              "version_minor": 0
            },
            "text/plain": [
              "VBox(children=(Label(value='0.001 MB of 0.001 MB uploaded (0.000 MB deduped)\\r'), FloatProgress(value=1.0, max…"
            ]
          },
          "metadata": {},
          "output_type": "display_data"
        },
        {
          "data": {
            "text/html": [
              "<style>\n",
              "    table.wandb td:nth-child(1) { padding: 0 10px; text-align: left ; width: auto;} td:nth-child(2) {text-align: left ; width: 100%}\n",
              "    .wandb-row { display: flex; flex-direction: row; flex-wrap: wrap; justify-content: flex-start; width: 100% }\n",
              "    .wandb-col { display: flex; flex-direction: column; flex-basis: 100%; flex: 1; padding: 10px; }\n",
              "    </style>\n",
              "<div class=\"wandb-row\"><div class=\"wandb-col\"><h3>Run history:</h3><br/><table class=\"wandb\"><tr><td>Train_Accuracy</td><td>▁▆▆▇█</td></tr><tr><td>Train_Loss</td><td>█▄▃▂▁</td></tr><tr><td>Validation_Accuracy</td><td>▁▅▇▇█</td></tr><tr><td>Validation_loss</td><td>█▄▂▂▁</td></tr><tr><td>epoch</td><td>▁▃▅▆█</td></tr></table><br/></div><div class=\"wandb-col\"><h3>Run summary:</h3><br/><table class=\"wandb\"><tr><td>Train_Accuracy</td><td>86.92222</td></tr><tr><td>Train_Loss</td><td>0.35312</td></tr><tr><td>Validation_Accuracy</td><td>85.21667</td></tr><tr><td>Validation_loss</td><td>0.3989</td></tr><tr><td>epoch</td><td>4</td></tr></table><br/></div></div>"
            ],
            "text/plain": [
              "<IPython.core.display.HTML object>"
            ]
          },
          "metadata": {},
          "output_type": "display_data"
        },
        {
          "data": {
            "text/html": [
              " View run <strong style=\"color:#cdcd00\">dainty-sweep-38</strong> at: <a href='https://wandb.ai/siddharth-s/FODL_Assignment_1/runs/896y35un' target=\"_blank\">https://wandb.ai/siddharth-s/FODL_Assignment_1/runs/896y35un</a><br/>Synced 5 W&B file(s), 0 media file(s), 0 artifact file(s) and 0 other file(s)"
            ],
            "text/plain": [
              "<IPython.core.display.HTML object>"
            ]
          },
          "metadata": {},
          "output_type": "display_data"
        },
        {
          "data": {
            "text/html": [
              "Find logs at: <code>./wandb/run-20230318_234855-896y35un/logs</code>"
            ],
            "text/plain": [
              "<IPython.core.display.HTML object>"
            ]
          },
          "metadata": {},
          "output_type": "display_data"
        },
        {
          "name": "stderr",
          "output_type": "stream",
          "text": [
            "\u001b[34m\u001b[1mwandb\u001b[0m: Agent Starting Run: 1ofmk60h with config:\n",
            "\u001b[34m\u001b[1mwandb\u001b[0m: \tactivation_function: sigmoid\n",
            "\u001b[34m\u001b[1mwandb\u001b[0m: \tinitialization_type: xavier\n",
            "\u001b[34m\u001b[1mwandb\u001b[0m: \tlambd: 0.0005\n",
            "\u001b[34m\u001b[1mwandb\u001b[0m: \tlearning_rate: 0.0001\n",
            "\u001b[34m\u001b[1mwandb\u001b[0m: \tmax_epochs: 5\n",
            "\u001b[34m\u001b[1mwandb\u001b[0m: \tmini_batch_size: 64\n",
            "\u001b[34m\u001b[1mwandb\u001b[0m: \tnumber_hidden_layers: 3\n",
            "\u001b[34m\u001b[1mwandb\u001b[0m: \tnumber_neurons: 128\n",
            "\u001b[34m\u001b[1mwandb\u001b[0m: \toptimization_function: adam\n"
          ]
        },
        {
          "data": {
            "text/html": [
              "Tracking run with wandb version 0.14.0"
            ],
            "text/plain": [
              "<IPython.core.display.HTML object>"
            ]
          },
          "metadata": {},
          "output_type": "display_data"
        },
        {
          "data": {
            "text/html": [
              "Run data is saved locally in <code>/content/wandb/run-20230318_235144-1ofmk60h</code>"
            ],
            "text/plain": [
              "<IPython.core.display.HTML object>"
            ]
          },
          "metadata": {},
          "output_type": "display_data"
        },
        {
          "data": {
            "text/html": [
              "Syncing run <strong><a href='https://wandb.ai/siddharth-s/FODL_Assignment_1/runs/1ofmk60h' target=\"_blank\">honest-sweep-39</a></strong> to <a href='https://wandb.ai/siddharth-s/FODL_Assignment_1' target=\"_blank\">Weights & Biases</a> (<a href='https://wandb.me/run' target=\"_blank\">docs</a>)<br/>Sweep page: <a href='https://wandb.ai/siddharth-s/FODL_Assignment_1/sweeps/pqng4xvs' target=\"_blank\">https://wandb.ai/siddharth-s/FODL_Assignment_1/sweeps/pqng4xvs</a>"
            ],
            "text/plain": [
              "<IPython.core.display.HTML object>"
            ]
          },
          "metadata": {},
          "output_type": "display_data"
        },
        {
          "data": {
            "text/html": [
              " View project at <a href='https://wandb.ai/siddharth-s/FODL_Assignment_1' target=\"_blank\">https://wandb.ai/siddharth-s/FODL_Assignment_1</a>"
            ],
            "text/plain": [
              "<IPython.core.display.HTML object>"
            ]
          },
          "metadata": {},
          "output_type": "display_data"
        },
        {
          "data": {
            "text/html": [
              " View sweep at <a href='https://wandb.ai/siddharth-s/FODL_Assignment_1/sweeps/pqng4xvs' target=\"_blank\">https://wandb.ai/siddharth-s/FODL_Assignment_1/sweeps/pqng4xvs</a>"
            ],
            "text/plain": [
              "<IPython.core.display.HTML object>"
            ]
          },
          "metadata": {},
          "output_type": "display_data"
        },
        {
          "data": {
            "text/html": [
              " View run at <a href='https://wandb.ai/siddharth-s/FODL_Assignment_1/runs/1ofmk60h' target=\"_blank\">https://wandb.ai/siddharth-s/FODL_Assignment_1/runs/1ofmk60h</a>"
            ],
            "text/plain": [
              "<IPython.core.display.HTML object>"
            ]
          },
          "metadata": {},
          "output_type": "display_data"
        },
        {
          "name": "stderr",
          "output_type": "stream",
          "text": [
            "100%|██████████| 5/5 [05:17<00:00, 63.55s/it]"
          ]
        },
        {
          "name": "stdout",
          "output_type": "stream",
          "text": [
            "Training Accuracy: 82.37962962962962\n",
            "Validation Accuracy: 82.11666666666667\n"
          ]
        },
        {
          "name": "stderr",
          "output_type": "stream",
          "text": [
            "\n"
          ]
        },
        {
          "data": {
            "text/html": [
              "Waiting for W&B process to finish... <strong style=\"color:green\">(success).</strong>"
            ],
            "text/plain": [
              "<IPython.core.display.HTML object>"
            ]
          },
          "metadata": {},
          "output_type": "display_data"
        },
        {
          "data": {
            "application/vnd.jupyter.widget-view+json": {
              "model_id": "6895672d681c4705a0add2b90473f01e",
              "version_major": 2,
              "version_minor": 0
            },
            "text/plain": [
              "VBox(children=(Label(value='0.001 MB of 0.001 MB uploaded (0.000 MB deduped)\\r'), FloatProgress(value=1.0, max…"
            ]
          },
          "metadata": {},
          "output_type": "display_data"
        },
        {
          "data": {
            "text/html": [
              "<style>\n",
              "    table.wandb td:nth-child(1) { padding: 0 10px; text-align: left ; width: auto;} td:nth-child(2) {text-align: left ; width: 100%}\n",
              "    .wandb-row { display: flex; flex-direction: row; flex-wrap: wrap; justify-content: flex-start; width: 100% }\n",
              "    .wandb-col { display: flex; flex-direction: column; flex-basis: 100%; flex: 1; padding: 10px; }\n",
              "    </style>\n",
              "<div class=\"wandb-row\"><div class=\"wandb-col\"><h3>Run history:</h3><br/><table class=\"wandb\"><tr><td>Train_Accuracy</td><td>▁▅▆▇█</td></tr><tr><td>Train_Loss</td><td>█▄▂▂▁</td></tr><tr><td>Validation_Accuracy</td><td>▁▄▆▇█</td></tr><tr><td>Validation_loss</td><td>█▄▂▁▁</td></tr><tr><td>epoch</td><td>▁▃▅▆█</td></tr></table><br/></div><div class=\"wandb-col\"><h3>Run summary:</h3><br/><table class=\"wandb\"><tr><td>Train_Accuracy</td><td>82.37963</td></tr><tr><td>Train_Loss</td><td>0.50199</td></tr><tr><td>Validation_Accuracy</td><td>82.11667</td></tr><tr><td>Validation_loss</td><td>0.51312</td></tr><tr><td>epoch</td><td>4</td></tr></table><br/></div></div>"
            ],
            "text/plain": [
              "<IPython.core.display.HTML object>"
            ]
          },
          "metadata": {},
          "output_type": "display_data"
        },
        {
          "data": {
            "text/html": [
              " View run <strong style=\"color:#cdcd00\">honest-sweep-39</strong> at: <a href='https://wandb.ai/siddharth-s/FODL_Assignment_1/runs/1ofmk60h' target=\"_blank\">https://wandb.ai/siddharth-s/FODL_Assignment_1/runs/1ofmk60h</a><br/>Synced 5 W&B file(s), 0 media file(s), 0 artifact file(s) and 0 other file(s)"
            ],
            "text/plain": [
              "<IPython.core.display.HTML object>"
            ]
          },
          "metadata": {},
          "output_type": "display_data"
        },
        {
          "data": {
            "text/html": [
              "Find logs at: <code>./wandb/run-20230318_235144-1ofmk60h/logs</code>"
            ],
            "text/plain": [
              "<IPython.core.display.HTML object>"
            ]
          },
          "metadata": {},
          "output_type": "display_data"
        },
        {
          "name": "stderr",
          "output_type": "stream",
          "text": [
            "\u001b[34m\u001b[1mwandb\u001b[0m: Agent Starting Run: 033v7ly1 with config:\n",
            "\u001b[34m\u001b[1mwandb\u001b[0m: \tactivation_function: sigmoid\n",
            "\u001b[34m\u001b[1mwandb\u001b[0m: \tinitialization_type: random\n",
            "\u001b[34m\u001b[1mwandb\u001b[0m: \tlambd: 0\n",
            "\u001b[34m\u001b[1mwandb\u001b[0m: \tlearning_rate: 0.001\n",
            "\u001b[34m\u001b[1mwandb\u001b[0m: \tmax_epochs: 10\n",
            "\u001b[34m\u001b[1mwandb\u001b[0m: \tmini_batch_size: 16\n",
            "\u001b[34m\u001b[1mwandb\u001b[0m: \tnumber_hidden_layers: 3\n",
            "\u001b[34m\u001b[1mwandb\u001b[0m: \tnumber_neurons: 64\n",
            "\u001b[34m\u001b[1mwandb\u001b[0m: \toptimization_function: adam\n"
          ]
        },
        {
          "data": {
            "text/html": [
              "Tracking run with wandb version 0.14.0"
            ],
            "text/plain": [
              "<IPython.core.display.HTML object>"
            ]
          },
          "metadata": {},
          "output_type": "display_data"
        },
        {
          "data": {
            "text/html": [
              "Run data is saved locally in <code>/content/wandb/run-20230318_235721-033v7ly1</code>"
            ],
            "text/plain": [
              "<IPython.core.display.HTML object>"
            ]
          },
          "metadata": {},
          "output_type": "display_data"
        },
        {
          "data": {
            "text/html": [
              "Syncing run <strong><a href='https://wandb.ai/siddharth-s/FODL_Assignment_1/runs/033v7ly1' target=\"_blank\">atomic-sweep-40</a></strong> to <a href='https://wandb.ai/siddharth-s/FODL_Assignment_1' target=\"_blank\">Weights & Biases</a> (<a href='https://wandb.me/run' target=\"_blank\">docs</a>)<br/>Sweep page: <a href='https://wandb.ai/siddharth-s/FODL_Assignment_1/sweeps/pqng4xvs' target=\"_blank\">https://wandb.ai/siddharth-s/FODL_Assignment_1/sweeps/pqng4xvs</a>"
            ],
            "text/plain": [
              "<IPython.core.display.HTML object>"
            ]
          },
          "metadata": {},
          "output_type": "display_data"
        },
        {
          "data": {
            "text/html": [
              " View project at <a href='https://wandb.ai/siddharth-s/FODL_Assignment_1' target=\"_blank\">https://wandb.ai/siddharth-s/FODL_Assignment_1</a>"
            ],
            "text/plain": [
              "<IPython.core.display.HTML object>"
            ]
          },
          "metadata": {},
          "output_type": "display_data"
        },
        {
          "data": {
            "text/html": [
              " View sweep at <a href='https://wandb.ai/siddharth-s/FODL_Assignment_1/sweeps/pqng4xvs' target=\"_blank\">https://wandb.ai/siddharth-s/FODL_Assignment_1/sweeps/pqng4xvs</a>"
            ],
            "text/plain": [
              "<IPython.core.display.HTML object>"
            ]
          },
          "metadata": {},
          "output_type": "display_data"
        },
        {
          "data": {
            "text/html": [
              " View run at <a href='https://wandb.ai/siddharth-s/FODL_Assignment_1/runs/033v7ly1' target=\"_blank\">https://wandb.ai/siddharth-s/FODL_Assignment_1/runs/033v7ly1</a>"
            ],
            "text/plain": [
              "<IPython.core.display.HTML object>"
            ]
          },
          "metadata": {},
          "output_type": "display_data"
        },
        {
          "name": "stderr",
          "output_type": "stream",
          "text": [
            "100%|██████████| 10/10 [06:38<00:00, 39.90s/it]"
          ]
        },
        {
          "name": "stdout",
          "output_type": "stream",
          "text": [
            "Training Accuracy: 82.92407407407407\n",
            "Validation Accuracy: 82.45\n"
          ]
        },
        {
          "name": "stderr",
          "output_type": "stream",
          "text": [
            "\n"
          ]
        },
        {
          "data": {
            "text/html": [
              "Waiting for W&B process to finish... <strong style=\"color:green\">(success).</strong>"
            ],
            "text/plain": [
              "<IPython.core.display.HTML object>"
            ]
          },
          "metadata": {},
          "output_type": "display_data"
        },
        {
          "data": {
            "text/html": [
              "<style>\n",
              "    table.wandb td:nth-child(1) { padding: 0 10px; text-align: left ; width: auto;} td:nth-child(2) {text-align: left ; width: 100%}\n",
              "    .wandb-row { display: flex; flex-direction: row; flex-wrap: wrap; justify-content: flex-start; width: 100% }\n",
              "    .wandb-col { display: flex; flex-direction: column; flex-basis: 100%; flex: 1; padding: 10px; }\n",
              "    </style>\n",
              "<div class=\"wandb-row\"><div class=\"wandb-col\"><h3>Run history:</h3><br/><table class=\"wandb\"><tr><td>Train_Accuracy</td><td>▁▄▆▆▇▇████</td></tr><tr><td>Train_Loss</td><td>█▅▃▃▂▂▂▁▁▁</td></tr><tr><td>Validation_Accuracy</td><td>▁▄▅▆▇▇▇███</td></tr><tr><td>Validation_loss</td><td>█▄▃▂▂▂▂▁▁▁</td></tr><tr><td>epoch</td><td>▁▂▃▃▄▅▆▆▇█</td></tr></table><br/></div><div class=\"wandb-col\"><h3>Run summary:</h3><br/><table class=\"wandb\"><tr><td>Train_Accuracy</td><td>82.92407</td></tr><tr><td>Train_Loss</td><td>0.67521</td></tr><tr><td>Validation_Accuracy</td><td>82.45</td></tr><tr><td>Validation_loss</td><td>0.70531</td></tr><tr><td>epoch</td><td>9</td></tr></table><br/></div></div>"
            ],
            "text/plain": [
              "<IPython.core.display.HTML object>"
            ]
          },
          "metadata": {},
          "output_type": "display_data"
        },
        {
          "data": {
            "text/html": [
              " View run <strong style=\"color:#cdcd00\">atomic-sweep-40</strong> at: <a href='https://wandb.ai/siddharth-s/FODL_Assignment_1/runs/033v7ly1' target=\"_blank\">https://wandb.ai/siddharth-s/FODL_Assignment_1/runs/033v7ly1</a><br/>Synced 5 W&B file(s), 0 media file(s), 0 artifact file(s) and 0 other file(s)"
            ],
            "text/plain": [
              "<IPython.core.display.HTML object>"
            ]
          },
          "metadata": {},
          "output_type": "display_data"
        },
        {
          "data": {
            "text/html": [
              "Find logs at: <code>./wandb/run-20230318_235721-033v7ly1/logs</code>"
            ],
            "text/plain": [
              "<IPython.core.display.HTML object>"
            ]
          },
          "metadata": {},
          "output_type": "display_data"
        },
        {
          "name": "stderr",
          "output_type": "stream",
          "text": [
            "\u001b[34m\u001b[1mwandb\u001b[0m: Sweep Agent: Waiting for job.\n",
            "\u001b[34m\u001b[1mwandb\u001b[0m: Job received.\n",
            "\u001b[34m\u001b[1mwandb\u001b[0m: Agent Starting Run: 3d6djook with config:\n",
            "\u001b[34m\u001b[1mwandb\u001b[0m: \tactivation_function: sigmoid\n",
            "\u001b[34m\u001b[1mwandb\u001b[0m: \tinitialization_type: xavier\n",
            "\u001b[34m\u001b[1mwandb\u001b[0m: \tlambd: 0.5\n",
            "\u001b[34m\u001b[1mwandb\u001b[0m: \tlearning_rate: 0.0001\n",
            "\u001b[34m\u001b[1mwandb\u001b[0m: \tmax_epochs: 10\n",
            "\u001b[34m\u001b[1mwandb\u001b[0m: \tmini_batch_size: 64\n",
            "\u001b[34m\u001b[1mwandb\u001b[0m: \tnumber_hidden_layers: 3\n",
            "\u001b[34m\u001b[1mwandb\u001b[0m: \tnumber_neurons: 64\n",
            "\u001b[34m\u001b[1mwandb\u001b[0m: \toptimization_function: momentum_gd\n"
          ]
        },
        {
          "data": {
            "text/html": [
              "Tracking run with wandb version 0.14.0"
            ],
            "text/plain": [
              "<IPython.core.display.HTML object>"
            ]
          },
          "metadata": {},
          "output_type": "display_data"
        },
        {
          "data": {
            "text/html": [
              "Run data is saved locally in <code>/content/wandb/run-20230319_000426-3d6djook</code>"
            ],
            "text/plain": [
              "<IPython.core.display.HTML object>"
            ]
          },
          "metadata": {},
          "output_type": "display_data"
        },
        {
          "data": {
            "text/html": [
              "Syncing run <strong><a href='https://wandb.ai/siddharth-s/FODL_Assignment_1/runs/3d6djook' target=\"_blank\">vital-sweep-41</a></strong> to <a href='https://wandb.ai/siddharth-s/FODL_Assignment_1' target=\"_blank\">Weights & Biases</a> (<a href='https://wandb.me/run' target=\"_blank\">docs</a>)<br/>Sweep page: <a href='https://wandb.ai/siddharth-s/FODL_Assignment_1/sweeps/pqng4xvs' target=\"_blank\">https://wandb.ai/siddharth-s/FODL_Assignment_1/sweeps/pqng4xvs</a>"
            ],
            "text/plain": [
              "<IPython.core.display.HTML object>"
            ]
          },
          "metadata": {},
          "output_type": "display_data"
        },
        {
          "data": {
            "text/html": [
              " View project at <a href='https://wandb.ai/siddharth-s/FODL_Assignment_1' target=\"_blank\">https://wandb.ai/siddharth-s/FODL_Assignment_1</a>"
            ],
            "text/plain": [
              "<IPython.core.display.HTML object>"
            ]
          },
          "metadata": {},
          "output_type": "display_data"
        },
        {
          "data": {
            "text/html": [
              " View sweep at <a href='https://wandb.ai/siddharth-s/FODL_Assignment_1/sweeps/pqng4xvs' target=\"_blank\">https://wandb.ai/siddharth-s/FODL_Assignment_1/sweeps/pqng4xvs</a>"
            ],
            "text/plain": [
              "<IPython.core.display.HTML object>"
            ]
          },
          "metadata": {},
          "output_type": "display_data"
        },
        {
          "data": {
            "text/html": [
              " View run at <a href='https://wandb.ai/siddharth-s/FODL_Assignment_1/runs/3d6djook' target=\"_blank\">https://wandb.ai/siddharth-s/FODL_Assignment_1/runs/3d6djook</a>"
            ],
            "text/plain": [
              "<IPython.core.display.HTML object>"
            ]
          },
          "metadata": {},
          "output_type": "display_data"
        },
        {
          "name": "stderr",
          "output_type": "stream",
          "text": [
            "100%|██████████| 10/10 [06:16<00:00, 37.65s/it]"
          ]
        },
        {
          "name": "stdout",
          "output_type": "stream",
          "text": [
            "Training Accuracy: 74.30740740740741\n",
            "Validation Accuracy: 74.51666666666667\n"
          ]
        },
        {
          "name": "stderr",
          "output_type": "stream",
          "text": [
            "\n"
          ]
        },
        {
          "data": {
            "text/html": [
              "Waiting for W&B process to finish... <strong style=\"color:green\">(success).</strong>"
            ],
            "text/plain": [
              "<IPython.core.display.HTML object>"
            ]
          },
          "metadata": {},
          "output_type": "display_data"
        },
        {
          "data": {
            "text/html": [
              "<style>\n",
              "    table.wandb td:nth-child(1) { padding: 0 10px; text-align: left ; width: auto;} td:nth-child(2) {text-align: left ; width: 100%}\n",
              "    .wandb-row { display: flex; flex-direction: row; flex-wrap: wrap; justify-content: flex-start; width: 100% }\n",
              "    .wandb-col { display: flex; flex-direction: column; flex-basis: 100%; flex: 1; padding: 10px; }\n",
              "    </style>\n",
              "<div class=\"wandb-row\"><div class=\"wandb-col\"><h3>Run history:</h3><br/><table class=\"wandb\"><tr><td>Train_Accuracy</td><td>▁▃▆▆▆▇▇███</td></tr><tr><td>Train_Loss</td><td>█▆▄▃▃▂▂▁▁▁</td></tr><tr><td>Validation_Accuracy</td><td>▁▃▆▆▆▇▇███</td></tr><tr><td>Validation_loss</td><td>█▆▄▃▃▂▂▁▁▁</td></tr><tr><td>epoch</td><td>▁▂▃▃▄▅▆▆▇█</td></tr></table><br/></div><div class=\"wandb-col\"><h3>Run summary:</h3><br/><table class=\"wandb\"><tr><td>Train_Accuracy</td><td>74.30741</td></tr><tr><td>Train_Loss</td><td>0.75371</td></tr><tr><td>Validation_Accuracy</td><td>74.51667</td></tr><tr><td>Validation_loss</td><td>0.76269</td></tr><tr><td>epoch</td><td>9</td></tr></table><br/></div></div>"
            ],
            "text/plain": [
              "<IPython.core.display.HTML object>"
            ]
          },
          "metadata": {},
          "output_type": "display_data"
        },
        {
          "data": {
            "text/html": [
              " View run <strong style=\"color:#cdcd00\">vital-sweep-41</strong> at: <a href='https://wandb.ai/siddharth-s/FODL_Assignment_1/runs/3d6djook' target=\"_blank\">https://wandb.ai/siddharth-s/FODL_Assignment_1/runs/3d6djook</a><br/>Synced 5 W&B file(s), 0 media file(s), 0 artifact file(s) and 0 other file(s)"
            ],
            "text/plain": [
              "<IPython.core.display.HTML object>"
            ]
          },
          "metadata": {},
          "output_type": "display_data"
        },
        {
          "data": {
            "text/html": [
              "Find logs at: <code>./wandb/run-20230319_000426-3d6djook/logs</code>"
            ],
            "text/plain": [
              "<IPython.core.display.HTML object>"
            ]
          },
          "metadata": {},
          "output_type": "display_data"
        },
        {
          "name": "stderr",
          "output_type": "stream",
          "text": [
            "\u001b[34m\u001b[1mwandb\u001b[0m: Agent Starting Run: rupry4kp with config:\n",
            "\u001b[34m\u001b[1mwandb\u001b[0m: \tactivation_function: sigmoid\n",
            "\u001b[34m\u001b[1mwandb\u001b[0m: \tinitialization_type: random\n",
            "\u001b[34m\u001b[1mwandb\u001b[0m: \tlambd: 0.0005\n",
            "\u001b[34m\u001b[1mwandb\u001b[0m: \tlearning_rate: 0.001\n",
            "\u001b[34m\u001b[1mwandb\u001b[0m: \tmax_epochs: 5\n",
            "\u001b[34m\u001b[1mwandb\u001b[0m: \tmini_batch_size: 16\n",
            "\u001b[34m\u001b[1mwandb\u001b[0m: \tnumber_hidden_layers: 4\n",
            "\u001b[34m\u001b[1mwandb\u001b[0m: \tnumber_neurons: 128\n",
            "\u001b[34m\u001b[1mwandb\u001b[0m: \toptimization_function: stochastic_gd\n"
          ]
        },
        {
          "data": {
            "text/html": [
              "Tracking run with wandb version 0.14.0"
            ],
            "text/plain": [
              "<IPython.core.display.HTML object>"
            ]
          },
          "metadata": {},
          "output_type": "display_data"
        },
        {
          "data": {
            "text/html": [
              "Run data is saved locally in <code>/content/wandb/run-20230319_001104-rupry4kp</code>"
            ],
            "text/plain": [
              "<IPython.core.display.HTML object>"
            ]
          },
          "metadata": {},
          "output_type": "display_data"
        },
        {
          "data": {
            "text/html": [
              "Syncing run <strong><a href='https://wandb.ai/siddharth-s/FODL_Assignment_1/runs/rupry4kp' target=\"_blank\">rosy-sweep-42</a></strong> to <a href='https://wandb.ai/siddharth-s/FODL_Assignment_1' target=\"_blank\">Weights & Biases</a> (<a href='https://wandb.me/run' target=\"_blank\">docs</a>)<br/>Sweep page: <a href='https://wandb.ai/siddharth-s/FODL_Assignment_1/sweeps/pqng4xvs' target=\"_blank\">https://wandb.ai/siddharth-s/FODL_Assignment_1/sweeps/pqng4xvs</a>"
            ],
            "text/plain": [
              "<IPython.core.display.HTML object>"
            ]
          },
          "metadata": {},
          "output_type": "display_data"
        },
        {
          "data": {
            "text/html": [
              " View project at <a href='https://wandb.ai/siddharth-s/FODL_Assignment_1' target=\"_blank\">https://wandb.ai/siddharth-s/FODL_Assignment_1</a>"
            ],
            "text/plain": [
              "<IPython.core.display.HTML object>"
            ]
          },
          "metadata": {},
          "output_type": "display_data"
        },
        {
          "data": {
            "text/html": [
              " View sweep at <a href='https://wandb.ai/siddharth-s/FODL_Assignment_1/sweeps/pqng4xvs' target=\"_blank\">https://wandb.ai/siddharth-s/FODL_Assignment_1/sweeps/pqng4xvs</a>"
            ],
            "text/plain": [
              "<IPython.core.display.HTML object>"
            ]
          },
          "metadata": {},
          "output_type": "display_data"
        },
        {
          "data": {
            "text/html": [
              " View run at <a href='https://wandb.ai/siddharth-s/FODL_Assignment_1/runs/rupry4kp' target=\"_blank\">https://wandb.ai/siddharth-s/FODL_Assignment_1/runs/rupry4kp</a>"
            ],
            "text/plain": [
              "<IPython.core.display.HTML object>"
            ]
          },
          "metadata": {},
          "output_type": "display_data"
        },
        {
          "name": "stderr",
          "output_type": "stream",
          "text": [
            "100%|██████████| 5/5 [05:38<00:00, 67.65s/it]"
          ]
        },
        {
          "name": "stdout",
          "output_type": "stream",
          "text": [
            "Training Accuracy: 9.924074074074074\n",
            "Validation Accuracy: 10.683333333333334\n"
          ]
        },
        {
          "name": "stderr",
          "output_type": "stream",
          "text": [
            "\n"
          ]
        },
        {
          "data": {
            "text/html": [
              "Waiting for W&B process to finish... <strong style=\"color:green\">(success).</strong>"
            ],
            "text/plain": [
              "<IPython.core.display.HTML object>"
            ]
          },
          "metadata": {},
          "output_type": "display_data"
        },
        {
          "data": {
            "text/html": [
              "<style>\n",
              "    table.wandb td:nth-child(1) { padding: 0 10px; text-align: left ; width: auto;} td:nth-child(2) {text-align: left ; width: 100%}\n",
              "    .wandb-row { display: flex; flex-direction: row; flex-wrap: wrap; justify-content: flex-start; width: 100% }\n",
              "    .wandb-col { display: flex; flex-direction: column; flex-basis: 100%; flex: 1; padding: 10px; }\n",
              "    </style>\n",
              "<div class=\"wandb-row\"><div class=\"wandb-col\"><h3>Run history:</h3><br/><table class=\"wandb\"><tr><td>Train_Accuracy</td><td>▁▁▁▁▁</td></tr><tr><td>Train_Loss</td><td>█▅▄▂▁</td></tr><tr><td>Validation_Accuracy</td><td>▁▁▁▁▁</td></tr><tr><td>Validation_loss</td><td>█▃▁▂▅</td></tr><tr><td>epoch</td><td>▁▃▅▆█</td></tr></table><br/></div><div class=\"wandb-col\"><h3>Run summary:</h3><br/><table class=\"wandb\"><tr><td>Train_Accuracy</td><td>9.92407</td></tr><tr><td>Train_Loss</td><td>2.30407</td></tr><tr><td>Validation_Accuracy</td><td>10.68333</td></tr><tr><td>Validation_loss</td><td>2.30398</td></tr><tr><td>epoch</td><td>4</td></tr></table><br/></div></div>"
            ],
            "text/plain": [
              "<IPython.core.display.HTML object>"
            ]
          },
          "metadata": {},
          "output_type": "display_data"
        },
        {
          "data": {
            "text/html": [
              " View run <strong style=\"color:#cdcd00\">rosy-sweep-42</strong> at: <a href='https://wandb.ai/siddharth-s/FODL_Assignment_1/runs/rupry4kp' target=\"_blank\">https://wandb.ai/siddharth-s/FODL_Assignment_1/runs/rupry4kp</a><br/>Synced 5 W&B file(s), 0 media file(s), 0 artifact file(s) and 0 other file(s)"
            ],
            "text/plain": [
              "<IPython.core.display.HTML object>"
            ]
          },
          "metadata": {},
          "output_type": "display_data"
        },
        {
          "data": {
            "text/html": [
              "Find logs at: <code>./wandb/run-20230319_001104-rupry4kp/logs</code>"
            ],
            "text/plain": [
              "<IPython.core.display.HTML object>"
            ]
          },
          "metadata": {},
          "output_type": "display_data"
        },
        {
          "name": "stderr",
          "output_type": "stream",
          "text": [
            "\u001b[34m\u001b[1mwandb\u001b[0m: Agent Starting Run: 0xpr2vfo with config:\n",
            "\u001b[34m\u001b[1mwandb\u001b[0m: \tactivation_function: tanh\n",
            "\u001b[34m\u001b[1mwandb\u001b[0m: \tinitialization_type: xavier\n",
            "\u001b[34m\u001b[1mwandb\u001b[0m: \tlambd: 0.5\n",
            "\u001b[34m\u001b[1mwandb\u001b[0m: \tlearning_rate: 0.0001\n",
            "\u001b[34m\u001b[1mwandb\u001b[0m: \tmax_epochs: 5\n",
            "\u001b[34m\u001b[1mwandb\u001b[0m: \tmini_batch_size: 16\n",
            "\u001b[34m\u001b[1mwandb\u001b[0m: \tnumber_hidden_layers: 5\n",
            "\u001b[34m\u001b[1mwandb\u001b[0m: \tnumber_neurons: 128\n",
            "\u001b[34m\u001b[1mwandb\u001b[0m: \toptimization_function: adam\n"
          ]
        },
        {
          "data": {
            "text/html": [
              "Tracking run with wandb version 0.14.0"
            ],
            "text/plain": [
              "<IPython.core.display.HTML object>"
            ]
          },
          "metadata": {},
          "output_type": "display_data"
        },
        {
          "data": {
            "text/html": [
              "Run data is saved locally in <code>/content/wandb/run-20230319_001702-0xpr2vfo</code>"
            ],
            "text/plain": [
              "<IPython.core.display.HTML object>"
            ]
          },
          "metadata": {},
          "output_type": "display_data"
        },
        {
          "data": {
            "text/html": [
              "Syncing run <strong><a href='https://wandb.ai/siddharth-s/FODL_Assignment_1/runs/0xpr2vfo' target=\"_blank\">gentle-sweep-43</a></strong> to <a href='https://wandb.ai/siddharth-s/FODL_Assignment_1' target=\"_blank\">Weights & Biases</a> (<a href='https://wandb.me/run' target=\"_blank\">docs</a>)<br/>Sweep page: <a href='https://wandb.ai/siddharth-s/FODL_Assignment_1/sweeps/pqng4xvs' target=\"_blank\">https://wandb.ai/siddharth-s/FODL_Assignment_1/sweeps/pqng4xvs</a>"
            ],
            "text/plain": [
              "<IPython.core.display.HTML object>"
            ]
          },
          "metadata": {},
          "output_type": "display_data"
        },
        {
          "data": {
            "text/html": [
              " View project at <a href='https://wandb.ai/siddharth-s/FODL_Assignment_1' target=\"_blank\">https://wandb.ai/siddharth-s/FODL_Assignment_1</a>"
            ],
            "text/plain": [
              "<IPython.core.display.HTML object>"
            ]
          },
          "metadata": {},
          "output_type": "display_data"
        },
        {
          "data": {
            "text/html": [
              " View sweep at <a href='https://wandb.ai/siddharth-s/FODL_Assignment_1/sweeps/pqng4xvs' target=\"_blank\">https://wandb.ai/siddharth-s/FODL_Assignment_1/sweeps/pqng4xvs</a>"
            ],
            "text/plain": [
              "<IPython.core.display.HTML object>"
            ]
          },
          "metadata": {},
          "output_type": "display_data"
        },
        {
          "data": {
            "text/html": [
              " View run at <a href='https://wandb.ai/siddharth-s/FODL_Assignment_1/runs/0xpr2vfo' target=\"_blank\">https://wandb.ai/siddharth-s/FODL_Assignment_1/runs/0xpr2vfo</a>"
            ],
            "text/plain": [
              "<IPython.core.display.HTML object>"
            ]
          },
          "metadata": {},
          "output_type": "display_data"
        },
        {
          "name": "stderr",
          "output_type": "stream",
          "text": [
            "100%|██████████| 5/5 [06:34<00:00, 78.82s/it]"
          ]
        },
        {
          "name": "stdout",
          "output_type": "stream",
          "text": [
            "Training Accuracy: 87.82037037037037\n",
            "Validation Accuracy: 86.18333333333334\n"
          ]
        },
        {
          "name": "stderr",
          "output_type": "stream",
          "text": [
            "\n"
          ]
        },
        {
          "data": {
            "text/html": [
              "Waiting for W&B process to finish... <strong style=\"color:green\">(success).</strong>"
            ],
            "text/plain": [
              "<IPython.core.display.HTML object>"
            ]
          },
          "metadata": {},
          "output_type": "display_data"
        },
        {
          "data": {
            "text/html": [
              "<style>\n",
              "    table.wandb td:nth-child(1) { padding: 0 10px; text-align: left ; width: auto;} td:nth-child(2) {text-align: left ; width: 100%}\n",
              "    .wandb-row { display: flex; flex-direction: row; flex-wrap: wrap; justify-content: flex-start; width: 100% }\n",
              "    .wandb-col { display: flex; flex-direction: column; flex-basis: 100%; flex: 1; padding: 10px; }\n",
              "    </style>\n",
              "<div class=\"wandb-row\"><div class=\"wandb-col\"><h3>Run history:</h3><br/><table class=\"wandb\"><tr><td>Train_Accuracy</td><td>▁▅▆▇█</td></tr><tr><td>Train_Loss</td><td>█▅▃▂▁</td></tr><tr><td>Validation_Accuracy</td><td>▁▄▆▆█</td></tr><tr><td>Validation_loss</td><td>█▅▃▂▁</td></tr><tr><td>epoch</td><td>▁▃▅▆█</td></tr></table><br/></div><div class=\"wandb-col\"><h3>Run summary:</h3><br/><table class=\"wandb\"><tr><td>Train_Accuracy</td><td>87.82037</td></tr><tr><td>Train_Loss</td><td>0.35957</td></tr><tr><td>Validation_Accuracy</td><td>86.18333</td></tr><tr><td>Validation_loss</td><td>0.50371</td></tr><tr><td>epoch</td><td>4</td></tr></table><br/></div></div>"
            ],
            "text/plain": [
              "<IPython.core.display.HTML object>"
            ]
          },
          "metadata": {},
          "output_type": "display_data"
        },
        {
          "data": {
            "text/html": [
              " View run <strong style=\"color:#cdcd00\">gentle-sweep-43</strong> at: <a href='https://wandb.ai/siddharth-s/FODL_Assignment_1/runs/0xpr2vfo' target=\"_blank\">https://wandb.ai/siddharth-s/FODL_Assignment_1/runs/0xpr2vfo</a><br/>Synced 5 W&B file(s), 0 media file(s), 0 artifact file(s) and 0 other file(s)"
            ],
            "text/plain": [
              "<IPython.core.display.HTML object>"
            ]
          },
          "metadata": {},
          "output_type": "display_data"
        },
        {
          "data": {
            "text/html": [
              "Find logs at: <code>./wandb/run-20230319_001702-0xpr2vfo/logs</code>"
            ],
            "text/plain": [
              "<IPython.core.display.HTML object>"
            ]
          },
          "metadata": {},
          "output_type": "display_data"
        },
        {
          "name": "stderr",
          "output_type": "stream",
          "text": [
            "\u001b[34m\u001b[1mwandb\u001b[0m: Agent Starting Run: a1bvmqtv with config:\n",
            "\u001b[34m\u001b[1mwandb\u001b[0m: \tactivation_function: tanh\n",
            "\u001b[34m\u001b[1mwandb\u001b[0m: \tinitialization_type: random\n",
            "\u001b[34m\u001b[1mwandb\u001b[0m: \tlambd: 0.5\n",
            "\u001b[34m\u001b[1mwandb\u001b[0m: \tlearning_rate: 0.0001\n",
            "\u001b[34m\u001b[1mwandb\u001b[0m: \tmax_epochs: 5\n",
            "\u001b[34m\u001b[1mwandb\u001b[0m: \tmini_batch_size: 64\n",
            "\u001b[34m\u001b[1mwandb\u001b[0m: \tnumber_hidden_layers: 4\n",
            "\u001b[34m\u001b[1mwandb\u001b[0m: \tnumber_neurons: 128\n",
            "\u001b[34m\u001b[1mwandb\u001b[0m: \toptimization_function: nadam\n"
          ]
        },
        {
          "data": {
            "text/html": [
              "Tracking run with wandb version 0.14.0"
            ],
            "text/plain": [
              "<IPython.core.display.HTML object>"
            ]
          },
          "metadata": {},
          "output_type": "display_data"
        },
        {
          "data": {
            "text/html": [
              "Run data is saved locally in <code>/content/wandb/run-20230319_002357-a1bvmqtv</code>"
            ],
            "text/plain": [
              "<IPython.core.display.HTML object>"
            ]
          },
          "metadata": {},
          "output_type": "display_data"
        },
        {
          "data": {
            "text/html": [
              "Syncing run <strong><a href='https://wandb.ai/siddharth-s/FODL_Assignment_1/runs/a1bvmqtv' target=\"_blank\">jumping-sweep-44</a></strong> to <a href='https://wandb.ai/siddharth-s/FODL_Assignment_1' target=\"_blank\">Weights & Biases</a> (<a href='https://wandb.me/run' target=\"_blank\">docs</a>)<br/>Sweep page: <a href='https://wandb.ai/siddharth-s/FODL_Assignment_1/sweeps/pqng4xvs' target=\"_blank\">https://wandb.ai/siddharth-s/FODL_Assignment_1/sweeps/pqng4xvs</a>"
            ],
            "text/plain": [
              "<IPython.core.display.HTML object>"
            ]
          },
          "metadata": {},
          "output_type": "display_data"
        },
        {
          "data": {
            "text/html": [
              " View project at <a href='https://wandb.ai/siddharth-s/FODL_Assignment_1' target=\"_blank\">https://wandb.ai/siddharth-s/FODL_Assignment_1</a>"
            ],
            "text/plain": [
              "<IPython.core.display.HTML object>"
            ]
          },
          "metadata": {},
          "output_type": "display_data"
        },
        {
          "data": {
            "text/html": [
              " View sweep at <a href='https://wandb.ai/siddharth-s/FODL_Assignment_1/sweeps/pqng4xvs' target=\"_blank\">https://wandb.ai/siddharth-s/FODL_Assignment_1/sweeps/pqng4xvs</a>"
            ],
            "text/plain": [
              "<IPython.core.display.HTML object>"
            ]
          },
          "metadata": {},
          "output_type": "display_data"
        },
        {
          "data": {
            "text/html": [
              " View run at <a href='https://wandb.ai/siddharth-s/FODL_Assignment_1/runs/a1bvmqtv' target=\"_blank\">https://wandb.ai/siddharth-s/FODL_Assignment_1/runs/a1bvmqtv</a>"
            ],
            "text/plain": [
              "<IPython.core.display.HTML object>"
            ]
          },
          "metadata": {},
          "output_type": "display_data"
        },
        {
          "name": "stderr",
          "output_type": "stream",
          "text": [
            "100%|██████████| 5/5 [05:54<00:00, 70.98s/it]"
          ]
        },
        {
          "name": "stdout",
          "output_type": "stream",
          "text": [
            "Training Accuracy: 86.15925925925926\n",
            "Validation Accuracy: 85.03333333333333\n"
          ]
        },
        {
          "name": "stderr",
          "output_type": "stream",
          "text": [
            "\n"
          ]
        },
        {
          "data": {
            "text/html": [
              "Waiting for W&B process to finish... <strong style=\"color:green\">(success).</strong>"
            ],
            "text/plain": [
              "<IPython.core.display.HTML object>"
            ]
          },
          "metadata": {},
          "output_type": "display_data"
        },
        {
          "data": {
            "application/vnd.jupyter.widget-view+json": {
              "model_id": "e3b468b950f945bf9ce7229b5b6a1a86",
              "version_major": 2,
              "version_minor": 0
            },
            "text/plain": [
              "VBox(children=(Label(value='0.001 MB of 0.001 MB uploaded (0.000 MB deduped)\\r'), FloatProgress(value=1.0, max…"
            ]
          },
          "metadata": {},
          "output_type": "display_data"
        },
        {
          "data": {
            "text/html": [
              "<style>\n",
              "    table.wandb td:nth-child(1) { padding: 0 10px; text-align: left ; width: auto;} td:nth-child(2) {text-align: left ; width: 100%}\n",
              "    .wandb-row { display: flex; flex-direction: row; flex-wrap: wrap; justify-content: flex-start; width: 100% }\n",
              "    .wandb-col { display: flex; flex-direction: column; flex-basis: 100%; flex: 1; padding: 10px; }\n",
              "    </style>\n",
              "<div class=\"wandb-row\"><div class=\"wandb-col\"><h3>Run history:</h3><br/><table class=\"wandb\"><tr><td>Train_Accuracy</td><td>▁▅▇▇█</td></tr><tr><td>Train_Loss</td><td>█▄▂▂▁</td></tr><tr><td>Validation_Accuracy</td><td>▁▅▇▇█</td></tr><tr><td>Validation_loss</td><td>█▄▂▁▁</td></tr><tr><td>epoch</td><td>▁▃▅▆█</td></tr></table><br/></div><div class=\"wandb-col\"><h3>Run summary:</h3><br/><table class=\"wandb\"><tr><td>Train_Accuracy</td><td>86.15926</td></tr><tr><td>Train_Loss</td><td>0.42687</td></tr><tr><td>Validation_Accuracy</td><td>85.03333</td></tr><tr><td>Validation_loss</td><td>0.57523</td></tr><tr><td>epoch</td><td>4</td></tr></table><br/></div></div>"
            ],
            "text/plain": [
              "<IPython.core.display.HTML object>"
            ]
          },
          "metadata": {},
          "output_type": "display_data"
        },
        {
          "data": {
            "text/html": [
              " View run <strong style=\"color:#cdcd00\">jumping-sweep-44</strong> at: <a href='https://wandb.ai/siddharth-s/FODL_Assignment_1/runs/a1bvmqtv' target=\"_blank\">https://wandb.ai/siddharth-s/FODL_Assignment_1/runs/a1bvmqtv</a><br/>Synced 5 W&B file(s), 0 media file(s), 0 artifact file(s) and 0 other file(s)"
            ],
            "text/plain": [
              "<IPython.core.display.HTML object>"
            ]
          },
          "metadata": {},
          "output_type": "display_data"
        },
        {
          "data": {
            "text/html": [
              "Find logs at: <code>./wandb/run-20230319_002357-a1bvmqtv/logs</code>"
            ],
            "text/plain": [
              "<IPython.core.display.HTML object>"
            ]
          },
          "metadata": {},
          "output_type": "display_data"
        },
        {
          "name": "stderr",
          "output_type": "stream",
          "text": [
            "\u001b[34m\u001b[1mwandb\u001b[0m: Agent Starting Run: gbkonk1y with config:\n",
            "\u001b[34m\u001b[1mwandb\u001b[0m: \tactivation_function: tanh\n",
            "\u001b[34m\u001b[1mwandb\u001b[0m: \tinitialization_type: random\n",
            "\u001b[34m\u001b[1mwandb\u001b[0m: \tlambd: 0.5\n",
            "\u001b[34m\u001b[1mwandb\u001b[0m: \tlearning_rate: 0.001\n",
            "\u001b[34m\u001b[1mwandb\u001b[0m: \tmax_epochs: 5\n",
            "\u001b[34m\u001b[1mwandb\u001b[0m: \tmini_batch_size: 64\n",
            "\u001b[34m\u001b[1mwandb\u001b[0m: \tnumber_hidden_layers: 4\n",
            "\u001b[34m\u001b[1mwandb\u001b[0m: \tnumber_neurons: 64\n",
            "\u001b[34m\u001b[1mwandb\u001b[0m: \toptimization_function: adam\n"
          ]
        },
        {
          "data": {
            "text/html": [
              "Tracking run with wandb version 0.14.0"
            ],
            "text/plain": [
              "<IPython.core.display.HTML object>"
            ]
          },
          "metadata": {},
          "output_type": "display_data"
        },
        {
          "data": {
            "text/html": [
              "Run data is saved locally in <code>/content/wandb/run-20230319_003010-gbkonk1y</code>"
            ],
            "text/plain": [
              "<IPython.core.display.HTML object>"
            ]
          },
          "metadata": {},
          "output_type": "display_data"
        },
        {
          "data": {
            "text/html": [
              "Syncing run <strong><a href='https://wandb.ai/siddharth-s/FODL_Assignment_1/runs/gbkonk1y' target=\"_blank\">exalted-sweep-45</a></strong> to <a href='https://wandb.ai/siddharth-s/FODL_Assignment_1' target=\"_blank\">Weights & Biases</a> (<a href='https://wandb.me/run' target=\"_blank\">docs</a>)<br/>Sweep page: <a href='https://wandb.ai/siddharth-s/FODL_Assignment_1/sweeps/pqng4xvs' target=\"_blank\">https://wandb.ai/siddharth-s/FODL_Assignment_1/sweeps/pqng4xvs</a>"
            ],
            "text/plain": [
              "<IPython.core.display.HTML object>"
            ]
          },
          "metadata": {},
          "output_type": "display_data"
        },
        {
          "data": {
            "text/html": [
              " View project at <a href='https://wandb.ai/siddharth-s/FODL_Assignment_1' target=\"_blank\">https://wandb.ai/siddharth-s/FODL_Assignment_1</a>"
            ],
            "text/plain": [
              "<IPython.core.display.HTML object>"
            ]
          },
          "metadata": {},
          "output_type": "display_data"
        },
        {
          "data": {
            "text/html": [
              " View sweep at <a href='https://wandb.ai/siddharth-s/FODL_Assignment_1/sweeps/pqng4xvs' target=\"_blank\">https://wandb.ai/siddharth-s/FODL_Assignment_1/sweeps/pqng4xvs</a>"
            ],
            "text/plain": [
              "<IPython.core.display.HTML object>"
            ]
          },
          "metadata": {},
          "output_type": "display_data"
        },
        {
          "data": {
            "text/html": [
              " View run at <a href='https://wandb.ai/siddharth-s/FODL_Assignment_1/runs/gbkonk1y' target=\"_blank\">https://wandb.ai/siddharth-s/FODL_Assignment_1/runs/gbkonk1y</a>"
            ],
            "text/plain": [
              "<IPython.core.display.HTML object>"
            ]
          },
          "metadata": {},
          "output_type": "display_data"
        },
        {
          "name": "stderr",
          "output_type": "stream",
          "text": [
            "100%|██████████| 5/5 [03:21<00:00, 40.37s/it]"
          ]
        },
        {
          "name": "stdout",
          "output_type": "stream",
          "text": [
            "Training Accuracy: 84.79444444444444\n",
            "Validation Accuracy: 84.11666666666666\n"
          ]
        },
        {
          "name": "stderr",
          "output_type": "stream",
          "text": [
            "\n"
          ]
        },
        {
          "data": {
            "text/html": [
              "Waiting for W&B process to finish... <strong style=\"color:green\">(success).</strong>"
            ],
            "text/plain": [
              "<IPython.core.display.HTML object>"
            ]
          },
          "metadata": {},
          "output_type": "display_data"
        },
        {
          "data": {
            "application/vnd.jupyter.widget-view+json": {
              "model_id": "85f86cce8a024843a541e45841e25756",
              "version_major": 2,
              "version_minor": 0
            },
            "text/plain": [
              "VBox(children=(Label(value='0.001 MB of 0.001 MB uploaded (0.000 MB deduped)\\r'), FloatProgress(value=1.0, max…"
            ]
          },
          "metadata": {},
          "output_type": "display_data"
        },
        {
          "data": {
            "text/html": [
              "<style>\n",
              "    table.wandb td:nth-child(1) { padding: 0 10px; text-align: left ; width: auto;} td:nth-child(2) {text-align: left ; width: 100%}\n",
              "    .wandb-row { display: flex; flex-direction: row; flex-wrap: wrap; justify-content: flex-start; width: 100% }\n",
              "    .wandb-col { display: flex; flex-direction: column; flex-basis: 100%; flex: 1; padding: 10px; }\n",
              "    </style>\n",
              "<div class=\"wandb-row\"><div class=\"wandb-col\"><h3>Run history:</h3><br/><table class=\"wandb\"><tr><td>Train_Accuracy</td><td>▁▅▇██</td></tr><tr><td>Train_Loss</td><td>█▄▂▁▂</td></tr><tr><td>Validation_Accuracy</td><td>▁▅▇██</td></tr><tr><td>Validation_loss</td><td>▁▁▄▄█</td></tr><tr><td>epoch</td><td>▁▃▅▆█</td></tr></table><br/></div><div class=\"wandb-col\"><h3>Run summary:</h3><br/><table class=\"wandb\"><tr><td>Train_Accuracy</td><td>84.79444</td></tr><tr><td>Train_Loss</td><td>0.59174</td></tr><tr><td>Validation_Accuracy</td><td>84.11667</td></tr><tr><td>Validation_loss</td><td>1.63736</td></tr><tr><td>epoch</td><td>4</td></tr></table><br/></div></div>"
            ],
            "text/plain": [
              "<IPython.core.display.HTML object>"
            ]
          },
          "metadata": {},
          "output_type": "display_data"
        },
        {
          "data": {
            "text/html": [
              " View run <strong style=\"color:#cdcd00\">exalted-sweep-45</strong> at: <a href='https://wandb.ai/siddharth-s/FODL_Assignment_1/runs/gbkonk1y' target=\"_blank\">https://wandb.ai/siddharth-s/FODL_Assignment_1/runs/gbkonk1y</a><br/>Synced 5 W&B file(s), 0 media file(s), 0 artifact file(s) and 0 other file(s)"
            ],
            "text/plain": [
              "<IPython.core.display.HTML object>"
            ]
          },
          "metadata": {},
          "output_type": "display_data"
        },
        {
          "data": {
            "text/html": [
              "Find logs at: <code>./wandb/run-20230319_003010-gbkonk1y/logs</code>"
            ],
            "text/plain": [
              "<IPython.core.display.HTML object>"
            ]
          },
          "metadata": {},
          "output_type": "display_data"
        },
        {
          "name": "stderr",
          "output_type": "stream",
          "text": [
            "\u001b[34m\u001b[1mwandb\u001b[0m: Sweep Agent: Waiting for job.\n",
            "\u001b[34m\u001b[1mwandb\u001b[0m: Job received.\n",
            "\u001b[34m\u001b[1mwandb\u001b[0m: Agent Starting Run: 8afjn9rj with config:\n",
            "\u001b[34m\u001b[1mwandb\u001b[0m: \tactivation_function: sigmoid\n",
            "\u001b[34m\u001b[1mwandb\u001b[0m: \tinitialization_type: xavier\n",
            "\u001b[34m\u001b[1mwandb\u001b[0m: \tlambd: 0.0005\n",
            "\u001b[34m\u001b[1mwandb\u001b[0m: \tlearning_rate: 0.001\n",
            "\u001b[34m\u001b[1mwandb\u001b[0m: \tmax_epochs: 5\n",
            "\u001b[34m\u001b[1mwandb\u001b[0m: \tmini_batch_size: 64\n",
            "\u001b[34m\u001b[1mwandb\u001b[0m: \tnumber_hidden_layers: 4\n",
            "\u001b[34m\u001b[1mwandb\u001b[0m: \tnumber_neurons: 32\n",
            "\u001b[34m\u001b[1mwandb\u001b[0m: \toptimization_function: adam\n"
          ]
        },
        {
          "data": {
            "text/html": [
              "Tracking run with wandb version 0.14.0"
            ],
            "text/plain": [
              "<IPython.core.display.HTML object>"
            ]
          },
          "metadata": {},
          "output_type": "display_data"
        },
        {
          "data": {
            "text/html": [
              "Run data is saved locally in <code>/content/wandb/run-20230319_003409-8afjn9rj</code>"
            ],
            "text/plain": [
              "<IPython.core.display.HTML object>"
            ]
          },
          "metadata": {},
          "output_type": "display_data"
        },
        {
          "data": {
            "text/html": [
              "Syncing run <strong><a href='https://wandb.ai/siddharth-s/FODL_Assignment_1/runs/8afjn9rj' target=\"_blank\">wandering-sweep-46</a></strong> to <a href='https://wandb.ai/siddharth-s/FODL_Assignment_1' target=\"_blank\">Weights & Biases</a> (<a href='https://wandb.me/run' target=\"_blank\">docs</a>)<br/>Sweep page: <a href='https://wandb.ai/siddharth-s/FODL_Assignment_1/sweeps/pqng4xvs' target=\"_blank\">https://wandb.ai/siddharth-s/FODL_Assignment_1/sweeps/pqng4xvs</a>"
            ],
            "text/plain": [
              "<IPython.core.display.HTML object>"
            ]
          },
          "metadata": {},
          "output_type": "display_data"
        },
        {
          "data": {
            "text/html": [
              " View project at <a href='https://wandb.ai/siddharth-s/FODL_Assignment_1' target=\"_blank\">https://wandb.ai/siddharth-s/FODL_Assignment_1</a>"
            ],
            "text/plain": [
              "<IPython.core.display.HTML object>"
            ]
          },
          "metadata": {},
          "output_type": "display_data"
        },
        {
          "data": {
            "text/html": [
              " View sweep at <a href='https://wandb.ai/siddharth-s/FODL_Assignment_1/sweeps/pqng4xvs' target=\"_blank\">https://wandb.ai/siddharth-s/FODL_Assignment_1/sweeps/pqng4xvs</a>"
            ],
            "text/plain": [
              "<IPython.core.display.HTML object>"
            ]
          },
          "metadata": {},
          "output_type": "display_data"
        },
        {
          "data": {
            "text/html": [
              " View run at <a href='https://wandb.ai/siddharth-s/FODL_Assignment_1/runs/8afjn9rj' target=\"_blank\">https://wandb.ai/siddharth-s/FODL_Assignment_1/runs/8afjn9rj</a>"
            ],
            "text/plain": [
              "<IPython.core.display.HTML object>"
            ]
          },
          "metadata": {},
          "output_type": "display_data"
        },
        {
          "name": "stderr",
          "output_type": "stream",
          "text": [
            "100%|██████████| 5/5 [03:06<00:00, 37.20s/it]"
          ]
        },
        {
          "name": "stdout",
          "output_type": "stream",
          "text": [
            "Training Accuracy: 83.99074074074075\n",
            "Validation Accuracy: 83.5\n"
          ]
        },
        {
          "name": "stderr",
          "output_type": "stream",
          "text": [
            "\n"
          ]
        },
        {
          "data": {
            "text/html": [
              "Waiting for W&B process to finish... <strong style=\"color:green\">(success).</strong>"
            ],
            "text/plain": [
              "<IPython.core.display.HTML object>"
            ]
          },
          "metadata": {},
          "output_type": "display_data"
        },
        {
          "data": {
            "application/vnd.jupyter.widget-view+json": {
              "model_id": "e149ce486a7f47f6838a4e1b0b395974",
              "version_major": 2,
              "version_minor": 0
            },
            "text/plain": [
              "VBox(children=(Label(value='0.001 MB of 0.001 MB uploaded (0.000 MB deduped)\\r'), FloatProgress(value=1.0, max…"
            ]
          },
          "metadata": {},
          "output_type": "display_data"
        },
        {
          "data": {
            "text/html": [
              "<style>\n",
              "    table.wandb td:nth-child(1) { padding: 0 10px; text-align: left ; width: auto;} td:nth-child(2) {text-align: left ; width: 100%}\n",
              "    .wandb-row { display: flex; flex-direction: row; flex-wrap: wrap; justify-content: flex-start; width: 100% }\n",
              "    .wandb-col { display: flex; flex-direction: column; flex-basis: 100%; flex: 1; padding: 10px; }\n",
              "    </style>\n",
              "<div class=\"wandb-row\"><div class=\"wandb-col\"><h3>Run history:</h3><br/><table class=\"wandb\"><tr><td>Train_Accuracy</td><td>▁▆▇▇█</td></tr><tr><td>Train_Loss</td><td>█▄▃▂▁</td></tr><tr><td>Validation_Accuracy</td><td>▁▅▆▇█</td></tr><tr><td>Validation_loss</td><td>█▄▂▂▁</td></tr><tr><td>epoch</td><td>▁▃▅▆█</td></tr></table><br/></div><div class=\"wandb-col\"><h3>Run summary:</h3><br/><table class=\"wandb\"><tr><td>Train_Accuracy</td><td>83.99074</td></tr><tr><td>Train_Loss</td><td>0.47754</td></tr><tr><td>Validation_Accuracy</td><td>83.5</td></tr><tr><td>Validation_loss</td><td>0.50774</td></tr><tr><td>epoch</td><td>4</td></tr></table><br/></div></div>"
            ],
            "text/plain": [
              "<IPython.core.display.HTML object>"
            ]
          },
          "metadata": {},
          "output_type": "display_data"
        },
        {
          "data": {
            "text/html": [
              " View run <strong style=\"color:#cdcd00\">wandering-sweep-46</strong> at: <a href='https://wandb.ai/siddharth-s/FODL_Assignment_1/runs/8afjn9rj' target=\"_blank\">https://wandb.ai/siddharth-s/FODL_Assignment_1/runs/8afjn9rj</a><br/>Synced 5 W&B file(s), 0 media file(s), 0 artifact file(s) and 0 other file(s)"
            ],
            "text/plain": [
              "<IPython.core.display.HTML object>"
            ]
          },
          "metadata": {},
          "output_type": "display_data"
        },
        {
          "data": {
            "text/html": [
              "Find logs at: <code>./wandb/run-20230319_003409-8afjn9rj/logs</code>"
            ],
            "text/plain": [
              "<IPython.core.display.HTML object>"
            ]
          },
          "metadata": {},
          "output_type": "display_data"
        },
        {
          "name": "stderr",
          "output_type": "stream",
          "text": [
            "\u001b[34m\u001b[1mwandb\u001b[0m: Agent Starting Run: iv6qftqu with config:\n",
            "\u001b[34m\u001b[1mwandb\u001b[0m: \tactivation_function: sigmoid\n",
            "\u001b[34m\u001b[1mwandb\u001b[0m: \tinitialization_type: xavier\n",
            "\u001b[34m\u001b[1mwandb\u001b[0m: \tlambd: 0.0005\n",
            "\u001b[34m\u001b[1mwandb\u001b[0m: \tlearning_rate: 0.0001\n",
            "\u001b[34m\u001b[1mwandb\u001b[0m: \tmax_epochs: 5\n",
            "\u001b[34m\u001b[1mwandb\u001b[0m: \tmini_batch_size: 32\n",
            "\u001b[34m\u001b[1mwandb\u001b[0m: \tnumber_hidden_layers: 5\n",
            "\u001b[34m\u001b[1mwandb\u001b[0m: \tnumber_neurons: 64\n",
            "\u001b[34m\u001b[1mwandb\u001b[0m: \toptimization_function: adam\n"
          ]
        },
        {
          "data": {
            "text/html": [
              "Tracking run with wandb version 0.14.0"
            ],
            "text/plain": [
              "<IPython.core.display.HTML object>"
            ]
          },
          "metadata": {},
          "output_type": "display_data"
        },
        {
          "data": {
            "text/html": [
              "Run data is saved locally in <code>/content/wandb/run-20230319_003734-iv6qftqu</code>"
            ],
            "text/plain": [
              "<IPython.core.display.HTML object>"
            ]
          },
          "metadata": {},
          "output_type": "display_data"
        },
        {
          "data": {
            "text/html": [
              "Syncing run <strong><a href='https://wandb.ai/siddharth-s/FODL_Assignment_1/runs/iv6qftqu' target=\"_blank\">sunny-sweep-47</a></strong> to <a href='https://wandb.ai/siddharth-s/FODL_Assignment_1' target=\"_blank\">Weights & Biases</a> (<a href='https://wandb.me/run' target=\"_blank\">docs</a>)<br/>Sweep page: <a href='https://wandb.ai/siddharth-s/FODL_Assignment_1/sweeps/pqng4xvs' target=\"_blank\">https://wandb.ai/siddharth-s/FODL_Assignment_1/sweeps/pqng4xvs</a>"
            ],
            "text/plain": [
              "<IPython.core.display.HTML object>"
            ]
          },
          "metadata": {},
          "output_type": "display_data"
        },
        {
          "data": {
            "text/html": [
              " View project at <a href='https://wandb.ai/siddharth-s/FODL_Assignment_1' target=\"_blank\">https://wandb.ai/siddharth-s/FODL_Assignment_1</a>"
            ],
            "text/plain": [
              "<IPython.core.display.HTML object>"
            ]
          },
          "metadata": {},
          "output_type": "display_data"
        },
        {
          "data": {
            "text/html": [
              " View sweep at <a href='https://wandb.ai/siddharth-s/FODL_Assignment_1/sweeps/pqng4xvs' target=\"_blank\">https://wandb.ai/siddharth-s/FODL_Assignment_1/sweeps/pqng4xvs</a>"
            ],
            "text/plain": [
              "<IPython.core.display.HTML object>"
            ]
          },
          "metadata": {},
          "output_type": "display_data"
        },
        {
          "data": {
            "text/html": [
              " View run at <a href='https://wandb.ai/siddharth-s/FODL_Assignment_1/runs/iv6qftqu' target=\"_blank\">https://wandb.ai/siddharth-s/FODL_Assignment_1/runs/iv6qftqu</a>"
            ],
            "text/plain": [
              "<IPython.core.display.HTML object>"
            ]
          },
          "metadata": {},
          "output_type": "display_data"
        },
        {
          "name": "stderr",
          "output_type": "stream",
          "text": [
            "100%|██████████| 5/5 [04:27<00:00, 53.58s/it]"
          ]
        },
        {
          "name": "stdout",
          "output_type": "stream",
          "text": [
            "Training Accuracy: 73.60925925925926\n",
            "Validation Accuracy: 73.7\n"
          ]
        },
        {
          "name": "stderr",
          "output_type": "stream",
          "text": [
            "\n"
          ]
        },
        {
          "data": {
            "text/html": [
              "Waiting for W&B process to finish... <strong style=\"color:green\">(success).</strong>"
            ],
            "text/plain": [
              "<IPython.core.display.HTML object>"
            ]
          },
          "metadata": {},
          "output_type": "display_data"
        },
        {
          "data": {
            "text/html": [
              "<style>\n",
              "    table.wandb td:nth-child(1) { padding: 0 10px; text-align: left ; width: auto;} td:nth-child(2) {text-align: left ; width: 100%}\n",
              "    .wandb-row { display: flex; flex-direction: row; flex-wrap: wrap; justify-content: flex-start; width: 100% }\n",
              "    .wandb-col { display: flex; flex-direction: column; flex-basis: 100%; flex: 1; padding: 10px; }\n",
              "    </style>\n",
              "<div class=\"wandb-row\"><div class=\"wandb-col\"><h3>Run history:</h3><br/><table class=\"wandb\"><tr><td>Train_Accuracy</td><td>▁▄▅▇█</td></tr><tr><td>Train_Loss</td><td>█▄▃▂▁</td></tr><tr><td>Validation_Accuracy</td><td>▁▄▆▇█</td></tr><tr><td>Validation_loss</td><td>█▄▃▂▁</td></tr><tr><td>epoch</td><td>▁▃▅▆█</td></tr></table><br/></div><div class=\"wandb-col\"><h3>Run summary:</h3><br/><table class=\"wandb\"><tr><td>Train_Accuracy</td><td>73.60926</td></tr><tr><td>Train_Loss</td><td>0.75308</td></tr><tr><td>Validation_Accuracy</td><td>73.7</td></tr><tr><td>Validation_loss</td><td>0.7586</td></tr><tr><td>epoch</td><td>4</td></tr></table><br/></div></div>"
            ],
            "text/plain": [
              "<IPython.core.display.HTML object>"
            ]
          },
          "metadata": {},
          "output_type": "display_data"
        },
        {
          "data": {
            "text/html": [
              " View run <strong style=\"color:#cdcd00\">sunny-sweep-47</strong> at: <a href='https://wandb.ai/siddharth-s/FODL_Assignment_1/runs/iv6qftqu' target=\"_blank\">https://wandb.ai/siddharth-s/FODL_Assignment_1/runs/iv6qftqu</a><br/>Synced 5 W&B file(s), 0 media file(s), 0 artifact file(s) and 0 other file(s)"
            ],
            "text/plain": [
              "<IPython.core.display.HTML object>"
            ]
          },
          "metadata": {},
          "output_type": "display_data"
        },
        {
          "data": {
            "text/html": [
              "Find logs at: <code>./wandb/run-20230319_003734-iv6qftqu/logs</code>"
            ],
            "text/plain": [
              "<IPython.core.display.HTML object>"
            ]
          },
          "metadata": {},
          "output_type": "display_data"
        },
        {
          "name": "stderr",
          "output_type": "stream",
          "text": [
            "\u001b[34m\u001b[1mwandb\u001b[0m: Agent Starting Run: dfhe7y0h with config:\n",
            "\u001b[34m\u001b[1mwandb\u001b[0m: \tactivation_function: tanh\n",
            "\u001b[34m\u001b[1mwandb\u001b[0m: \tinitialization_type: random\n",
            "\u001b[34m\u001b[1mwandb\u001b[0m: \tlambd: 0.5\n",
            "\u001b[34m\u001b[1mwandb\u001b[0m: \tlearning_rate: 0.001\n",
            "\u001b[34m\u001b[1mwandb\u001b[0m: \tmax_epochs: 5\n",
            "\u001b[34m\u001b[1mwandb\u001b[0m: \tmini_batch_size: 32\n",
            "\u001b[34m\u001b[1mwandb\u001b[0m: \tnumber_hidden_layers: 5\n",
            "\u001b[34m\u001b[1mwandb\u001b[0m: \tnumber_neurons: 64\n",
            "\u001b[34m\u001b[1mwandb\u001b[0m: \toptimization_function: momentum_gd\n"
          ]
        },
        {
          "data": {
            "text/html": [
              "Tracking run with wandb version 0.14.0"
            ],
            "text/plain": [
              "<IPython.core.display.HTML object>"
            ]
          },
          "metadata": {},
          "output_type": "display_data"
        },
        {
          "data": {
            "text/html": [
              "Run data is saved locally in <code>/content/wandb/run-20230319_004221-dfhe7y0h</code>"
            ],
            "text/plain": [
              "<IPython.core.display.HTML object>"
            ]
          },
          "metadata": {},
          "output_type": "display_data"
        },
        {
          "data": {
            "text/html": [
              "Syncing run <strong><a href='https://wandb.ai/siddharth-s/FODL_Assignment_1/runs/dfhe7y0h' target=\"_blank\">fiery-sweep-48</a></strong> to <a href='https://wandb.ai/siddharth-s/FODL_Assignment_1' target=\"_blank\">Weights & Biases</a> (<a href='https://wandb.me/run' target=\"_blank\">docs</a>)<br/>Sweep page: <a href='https://wandb.ai/siddharth-s/FODL_Assignment_1/sweeps/pqng4xvs' target=\"_blank\">https://wandb.ai/siddharth-s/FODL_Assignment_1/sweeps/pqng4xvs</a>"
            ],
            "text/plain": [
              "<IPython.core.display.HTML object>"
            ]
          },
          "metadata": {},
          "output_type": "display_data"
        },
        {
          "data": {
            "text/html": [
              " View project at <a href='https://wandb.ai/siddharth-s/FODL_Assignment_1' target=\"_blank\">https://wandb.ai/siddharth-s/FODL_Assignment_1</a>"
            ],
            "text/plain": [
              "<IPython.core.display.HTML object>"
            ]
          },
          "metadata": {},
          "output_type": "display_data"
        },
        {
          "data": {
            "text/html": [
              " View sweep at <a href='https://wandb.ai/siddharth-s/FODL_Assignment_1/sweeps/pqng4xvs' target=\"_blank\">https://wandb.ai/siddharth-s/FODL_Assignment_1/sweeps/pqng4xvs</a>"
            ],
            "text/plain": [
              "<IPython.core.display.HTML object>"
            ]
          },
          "metadata": {},
          "output_type": "display_data"
        },
        {
          "data": {
            "text/html": [
              " View run at <a href='https://wandb.ai/siddharth-s/FODL_Assignment_1/runs/dfhe7y0h' target=\"_blank\">https://wandb.ai/siddharth-s/FODL_Assignment_1/runs/dfhe7y0h</a>"
            ],
            "text/plain": [
              "<IPython.core.display.HTML object>"
            ]
          },
          "metadata": {},
          "output_type": "display_data"
        },
        {
          "name": "stderr",
          "output_type": "stream",
          "text": [
            "100%|██████████| 5/5 [03:29<00:00, 41.86s/it]"
          ]
        },
        {
          "name": "stdout",
          "output_type": "stream",
          "text": [
            "Training Accuracy: 9.974074074074075\n",
            "Validation Accuracy: 10.233333333333333\n"
          ]
        },
        {
          "name": "stderr",
          "output_type": "stream",
          "text": [
            "\n"
          ]
        },
        {
          "data": {
            "text/html": [
              "Waiting for W&B process to finish... <strong style=\"color:green\">(success).</strong>"
            ],
            "text/plain": [
              "<IPython.core.display.HTML object>"
            ]
          },
          "metadata": {},
          "output_type": "display_data"
        },
        {
          "data": {
            "text/html": [
              "<style>\n",
              "    table.wandb td:nth-child(1) { padding: 0 10px; text-align: left ; width: auto;} td:nth-child(2) {text-align: left ; width: 100%}\n",
              "    .wandb-row { display: flex; flex-direction: row; flex-wrap: wrap; justify-content: flex-start; width: 100% }\n",
              "    .wandb-col { display: flex; flex-direction: column; flex-basis: 100%; flex: 1; padding: 10px; }\n",
              "    </style>\n",
              "<div class=\"wandb-row\"><div class=\"wandb-col\"><h3>Run history:</h3><br/><table class=\"wandb\"><tr><td>Train_Accuracy</td><td>▁▁▁▁▁</td></tr><tr><td>Train_Loss</td><td>█▆▄▃▁</td></tr><tr><td>Validation_Accuracy</td><td>▁▁▁▁▁</td></tr><tr><td>Validation_loss</td><td>█▆▄▃▁</td></tr><tr><td>epoch</td><td>▁▃▅▆█</td></tr></table><br/></div><div class=\"wandb-col\"><h3>Run summary:</h3><br/><table class=\"wandb\"><tr><td>Train_Accuracy</td><td>9.97407</td></tr><tr><td>Train_Loss</td><td>2.30286</td></tr><tr><td>Validation_Accuracy</td><td>10.23333</td></tr><tr><td>Validation_loss</td><td>2.30287</td></tr><tr><td>epoch</td><td>4</td></tr></table><br/></div></div>"
            ],
            "text/plain": [
              "<IPython.core.display.HTML object>"
            ]
          },
          "metadata": {},
          "output_type": "display_data"
        },
        {
          "data": {
            "text/html": [
              " View run <strong style=\"color:#cdcd00\">fiery-sweep-48</strong> at: <a href='https://wandb.ai/siddharth-s/FODL_Assignment_1/runs/dfhe7y0h' target=\"_blank\">https://wandb.ai/siddharth-s/FODL_Assignment_1/runs/dfhe7y0h</a><br/>Synced 5 W&B file(s), 0 media file(s), 0 artifact file(s) and 0 other file(s)"
            ],
            "text/plain": [
              "<IPython.core.display.HTML object>"
            ]
          },
          "metadata": {},
          "output_type": "display_data"
        },
        {
          "data": {
            "text/html": [
              "Find logs at: <code>./wandb/run-20230319_004221-dfhe7y0h/logs</code>"
            ],
            "text/plain": [
              "<IPython.core.display.HTML object>"
            ]
          },
          "metadata": {},
          "output_type": "display_data"
        },
        {
          "name": "stderr",
          "output_type": "stream",
          "text": [
            "\u001b[34m\u001b[1mwandb\u001b[0m: Agent Starting Run: vkuq5dle with config:\n",
            "\u001b[34m\u001b[1mwandb\u001b[0m: \tactivation_function: relu\n",
            "\u001b[34m\u001b[1mwandb\u001b[0m: \tinitialization_type: random\n",
            "\u001b[34m\u001b[1mwandb\u001b[0m: \tlambd: 0\n",
            "\u001b[34m\u001b[1mwandb\u001b[0m: \tlearning_rate: 0.0001\n",
            "\u001b[34m\u001b[1mwandb\u001b[0m: \tmax_epochs: 5\n",
            "\u001b[34m\u001b[1mwandb\u001b[0m: \tmini_batch_size: 16\n",
            "\u001b[34m\u001b[1mwandb\u001b[0m: \tnumber_hidden_layers: 3\n",
            "\u001b[34m\u001b[1mwandb\u001b[0m: \tnumber_neurons: 64\n",
            "\u001b[34m\u001b[1mwandb\u001b[0m: \toptimization_function: adam\n"
          ]
        },
        {
          "data": {
            "text/html": [
              "Tracking run with wandb version 0.14.0"
            ],
            "text/plain": [
              "<IPython.core.display.HTML object>"
            ]
          },
          "metadata": {},
          "output_type": "display_data"
        },
        {
          "data": {
            "text/html": [
              "Run data is saved locally in <code>/content/wandb/run-20230319_004611-vkuq5dle</code>"
            ],
            "text/plain": [
              "<IPython.core.display.HTML object>"
            ]
          },
          "metadata": {},
          "output_type": "display_data"
        },
        {
          "data": {
            "text/html": [
              "Syncing run <strong><a href='https://wandb.ai/siddharth-s/FODL_Assignment_1/runs/vkuq5dle' target=\"_blank\">major-sweep-49</a></strong> to <a href='https://wandb.ai/siddharth-s/FODL_Assignment_1' target=\"_blank\">Weights & Biases</a> (<a href='https://wandb.me/run' target=\"_blank\">docs</a>)<br/>Sweep page: <a href='https://wandb.ai/siddharth-s/FODL_Assignment_1/sweeps/pqng4xvs' target=\"_blank\">https://wandb.ai/siddharth-s/FODL_Assignment_1/sweeps/pqng4xvs</a>"
            ],
            "text/plain": [
              "<IPython.core.display.HTML object>"
            ]
          },
          "metadata": {},
          "output_type": "display_data"
        },
        {
          "data": {
            "text/html": [
              " View project at <a href='https://wandb.ai/siddharth-s/FODL_Assignment_1' target=\"_blank\">https://wandb.ai/siddharth-s/FODL_Assignment_1</a>"
            ],
            "text/plain": [
              "<IPython.core.display.HTML object>"
            ]
          },
          "metadata": {},
          "output_type": "display_data"
        },
        {
          "data": {
            "text/html": [
              " View sweep at <a href='https://wandb.ai/siddharth-s/FODL_Assignment_1/sweeps/pqng4xvs' target=\"_blank\">https://wandb.ai/siddharth-s/FODL_Assignment_1/sweeps/pqng4xvs</a>"
            ],
            "text/plain": [
              "<IPython.core.display.HTML object>"
            ]
          },
          "metadata": {},
          "output_type": "display_data"
        },
        {
          "data": {
            "text/html": [
              " View run at <a href='https://wandb.ai/siddharth-s/FODL_Assignment_1/runs/vkuq5dle' target=\"_blank\">https://wandb.ai/siddharth-s/FODL_Assignment_1/runs/vkuq5dle</a>"
            ],
            "text/plain": [
              "<IPython.core.display.HTML object>"
            ]
          },
          "metadata": {},
          "output_type": "display_data"
        },
        {
          "name": "stderr",
          "output_type": "stream",
          "text": [
            "100%|██████████| 5/5 [02:57<00:00, 35.43s/it]"
          ]
        },
        {
          "name": "stdout",
          "output_type": "stream",
          "text": [
            "Training Accuracy: 66.62962962962963\n",
            "Validation Accuracy: 66.64999999999999\n"
          ]
        },
        {
          "name": "stderr",
          "output_type": "stream",
          "text": [
            "\n"
          ]
        },
        {
          "data": {
            "text/html": [
              "Waiting for W&B process to finish... <strong style=\"color:green\">(success).</strong>"
            ],
            "text/plain": [
              "<IPython.core.display.HTML object>"
            ]
          },
          "metadata": {},
          "output_type": "display_data"
        },
        {
          "data": {
            "application/vnd.jupyter.widget-view+json": {
              "model_id": "89b6742c29244c6f941f10216b97b309",
              "version_major": 2,
              "version_minor": 0
            },
            "text/plain": [
              "VBox(children=(Label(value='0.001 MB of 0.001 MB uploaded (0.000 MB deduped)\\r'), FloatProgress(value=1.0, max…"
            ]
          },
          "metadata": {},
          "output_type": "display_data"
        },
        {
          "data": {
            "text/html": [
              "<style>\n",
              "    table.wandb td:nth-child(1) { padding: 0 10px; text-align: left ; width: auto;} td:nth-child(2) {text-align: left ; width: 100%}\n",
              "    .wandb-row { display: flex; flex-direction: row; flex-wrap: wrap; justify-content: flex-start; width: 100% }\n",
              "    .wandb-col { display: flex; flex-direction: column; flex-basis: 100%; flex: 1; padding: 10px; }\n",
              "    </style>\n",
              "<div class=\"wandb-row\"><div class=\"wandb-col\"><h3>Run history:</h3><br/><table class=\"wandb\"><tr><td>Train_Accuracy</td><td>▁▄▆▇█</td></tr><tr><td>Train_Loss</td><td>█▅▃▂▁</td></tr><tr><td>Validation_Accuracy</td><td>▁▅▆▇█</td></tr><tr><td>Validation_loss</td><td>█▅▃▂▁</td></tr><tr><td>epoch</td><td>▁▃▅▆█</td></tr></table><br/></div><div class=\"wandb-col\"><h3>Run summary:</h3><br/><table class=\"wandb\"><tr><td>Train_Accuracy</td><td>66.62963</td></tr><tr><td>Train_Loss</td><td>0.93403</td></tr><tr><td>Validation_Accuracy</td><td>66.65</td></tr><tr><td>Validation_loss</td><td>0.92837</td></tr><tr><td>epoch</td><td>4</td></tr></table><br/></div></div>"
            ],
            "text/plain": [
              "<IPython.core.display.HTML object>"
            ]
          },
          "metadata": {},
          "output_type": "display_data"
        },
        {
          "data": {
            "text/html": [
              " View run <strong style=\"color:#cdcd00\">major-sweep-49</strong> at: <a href='https://wandb.ai/siddharth-s/FODL_Assignment_1/runs/vkuq5dle' target=\"_blank\">https://wandb.ai/siddharth-s/FODL_Assignment_1/runs/vkuq5dle</a><br/>Synced 5 W&B file(s), 0 media file(s), 0 artifact file(s) and 0 other file(s)"
            ],
            "text/plain": [
              "<IPython.core.display.HTML object>"
            ]
          },
          "metadata": {},
          "output_type": "display_data"
        },
        {
          "data": {
            "text/html": [
              "Find logs at: <code>./wandb/run-20230319_004611-vkuq5dle/logs</code>"
            ],
            "text/plain": [
              "<IPython.core.display.HTML object>"
            ]
          },
          "metadata": {},
          "output_type": "display_data"
        },
        {
          "name": "stderr",
          "output_type": "stream",
          "text": [
            "\u001b[34m\u001b[1mwandb\u001b[0m: Sweep Agent: Waiting for job.\n",
            "\u001b[34m\u001b[1mwandb\u001b[0m: Job received.\n",
            "\u001b[34m\u001b[1mwandb\u001b[0m: Agent Starting Run: 4izhsseu with config:\n",
            "\u001b[34m\u001b[1mwandb\u001b[0m: \tactivation_function: sigmoid\n",
            "\u001b[34m\u001b[1mwandb\u001b[0m: \tinitialization_type: random\n",
            "\u001b[34m\u001b[1mwandb\u001b[0m: \tlambd: 0.5\n",
            "\u001b[34m\u001b[1mwandb\u001b[0m: \tlearning_rate: 0.0001\n",
            "\u001b[34m\u001b[1mwandb\u001b[0m: \tmax_epochs: 10\n",
            "\u001b[34m\u001b[1mwandb\u001b[0m: \tmini_batch_size: 16\n",
            "\u001b[34m\u001b[1mwandb\u001b[0m: \tnumber_hidden_layers: 4\n",
            "\u001b[34m\u001b[1mwandb\u001b[0m: \tnumber_neurons: 64\n",
            "\u001b[34m\u001b[1mwandb\u001b[0m: \toptimization_function: adam\n"
          ]
        },
        {
          "data": {
            "text/html": [
              "Tracking run with wandb version 0.14.0"
            ],
            "text/plain": [
              "<IPython.core.display.HTML object>"
            ]
          },
          "metadata": {},
          "output_type": "display_data"
        },
        {
          "data": {
            "text/html": [
              "Run data is saved locally in <code>/content/wandb/run-20230319_004936-4izhsseu</code>"
            ],
            "text/plain": [
              "<IPython.core.display.HTML object>"
            ]
          },
          "metadata": {},
          "output_type": "display_data"
        },
        {
          "data": {
            "text/html": [
              "Syncing run <strong><a href='https://wandb.ai/siddharth-s/FODL_Assignment_1/runs/4izhsseu' target=\"_blank\">flowing-sweep-50</a></strong> to <a href='https://wandb.ai/siddharth-s/FODL_Assignment_1' target=\"_blank\">Weights & Biases</a> (<a href='https://wandb.me/run' target=\"_blank\">docs</a>)<br/>Sweep page: <a href='https://wandb.ai/siddharth-s/FODL_Assignment_1/sweeps/pqng4xvs' target=\"_blank\">https://wandb.ai/siddharth-s/FODL_Assignment_1/sweeps/pqng4xvs</a>"
            ],
            "text/plain": [
              "<IPython.core.display.HTML object>"
            ]
          },
          "metadata": {},
          "output_type": "display_data"
        },
        {
          "data": {
            "text/html": [
              " View project at <a href='https://wandb.ai/siddharth-s/FODL_Assignment_1' target=\"_blank\">https://wandb.ai/siddharth-s/FODL_Assignment_1</a>"
            ],
            "text/plain": [
              "<IPython.core.display.HTML object>"
            ]
          },
          "metadata": {},
          "output_type": "display_data"
        },
        {
          "data": {
            "text/html": [
              " View sweep at <a href='https://wandb.ai/siddharth-s/FODL_Assignment_1/sweeps/pqng4xvs' target=\"_blank\">https://wandb.ai/siddharth-s/FODL_Assignment_1/sweeps/pqng4xvs</a>"
            ],
            "text/plain": [
              "<IPython.core.display.HTML object>"
            ]
          },
          "metadata": {},
          "output_type": "display_data"
        },
        {
          "data": {
            "text/html": [
              " View run at <a href='https://wandb.ai/siddharth-s/FODL_Assignment_1/runs/4izhsseu' target=\"_blank\">https://wandb.ai/siddharth-s/FODL_Assignment_1/runs/4izhsseu</a>"
            ],
            "text/plain": [
              "<IPython.core.display.HTML object>"
            ]
          },
          "metadata": {},
          "output_type": "display_data"
        },
        {
          "name": "stderr",
          "output_type": "stream",
          "text": [
            "100%|██████████| 10/10 [07:49<00:00, 46.91s/it]"
          ]
        },
        {
          "name": "stdout",
          "output_type": "stream",
          "text": [
            "Training Accuracy: 20.285185185185185\n",
            "Validation Accuracy: 19.3\n"
          ]
        },
        {
          "name": "stderr",
          "output_type": "stream",
          "text": [
            "\n"
          ]
        },
        {
          "data": {
            "text/html": [
              "Waiting for W&B process to finish... <strong style=\"color:green\">(success).</strong>"
            ],
            "text/plain": [
              "<IPython.core.display.HTML object>"
            ]
          },
          "metadata": {},
          "output_type": "display_data"
        },
        {
          "data": {
            "application/vnd.jupyter.widget-view+json": {
              "model_id": "8de727ab51824a4d899a4fe9f1207e44",
              "version_major": 2,
              "version_minor": 0
            },
            "text/plain": [
              "VBox(children=(Label(value='0.001 MB of 0.001 MB uploaded (0.000 MB deduped)\\r'), FloatProgress(value=1.0, max…"
            ]
          },
          "metadata": {},
          "output_type": "display_data"
        },
        {
          "data": {
            "text/html": [
              "<style>\n",
              "    table.wandb td:nth-child(1) { padding: 0 10px; text-align: left ; width: auto;} td:nth-child(2) {text-align: left ; width: 100%}\n",
              "    .wandb-row { display: flex; flex-direction: row; flex-wrap: wrap; justify-content: flex-start; width: 100% }\n",
              "    .wandb-col { display: flex; flex-direction: column; flex-basis: 100%; flex: 1; padding: 10px; }\n",
              "    </style>\n",
              "<div class=\"wandb-row\"><div class=\"wandb-col\"><h3>Run history:</h3><br/><table class=\"wandb\"><tr><td>Train_Accuracy</td><td>▁▁████████</td></tr><tr><td>Train_Loss</td><td>▁▂▃▄▄▄▅▆▇█</td></tr><tr><td>Validation_Accuracy</td><td>▂▁███▇▇▇▇▇</td></tr><tr><td>Validation_loss</td><td>▁▂▃▄▅▅▆▆▇█</td></tr><tr><td>epoch</td><td>▁▂▃▃▄▅▆▆▇█</td></tr></table><br/></div><div class=\"wandb-col\"><h3>Run summary:</h3><br/><table class=\"wandb\"><tr><td>Train_Accuracy</td><td>20.28519</td></tr><tr><td>Train_Loss</td><td>3.38834</td></tr><tr><td>Validation_Accuracy</td><td>19.3</td></tr><tr><td>Validation_loss</td><td>16.86728</td></tr><tr><td>epoch</td><td>9</td></tr></table><br/></div></div>"
            ],
            "text/plain": [
              "<IPython.core.display.HTML object>"
            ]
          },
          "metadata": {},
          "output_type": "display_data"
        },
        {
          "data": {
            "text/html": [
              " View run <strong style=\"color:#cdcd00\">flowing-sweep-50</strong> at: <a href='https://wandb.ai/siddharth-s/FODL_Assignment_1/runs/4izhsseu' target=\"_blank\">https://wandb.ai/siddharth-s/FODL_Assignment_1/runs/4izhsseu</a><br/>Synced 5 W&B file(s), 0 media file(s), 0 artifact file(s) and 0 other file(s)"
            ],
            "text/plain": [
              "<IPython.core.display.HTML object>"
            ]
          },
          "metadata": {},
          "output_type": "display_data"
        },
        {
          "data": {
            "text/html": [
              "Find logs at: <code>./wandb/run-20230319_004936-4izhsseu/logs</code>"
            ],
            "text/plain": [
              "<IPython.core.display.HTML object>"
            ]
          },
          "metadata": {},
          "output_type": "display_data"
        },
        {
          "name": "stderr",
          "output_type": "stream",
          "text": [
            "\u001b[34m\u001b[1mwandb\u001b[0m: Sweep Agent: Waiting for job.\n",
            "\u001b[34m\u001b[1mwandb\u001b[0m: Job received.\n",
            "\u001b[34m\u001b[1mwandb\u001b[0m: Agent Starting Run: wd4hgpdi with config:\n",
            "\u001b[34m\u001b[1mwandb\u001b[0m: \tactivation_function: tanh\n",
            "\u001b[34m\u001b[1mwandb\u001b[0m: \tinitialization_type: xavier\n",
            "\u001b[34m\u001b[1mwandb\u001b[0m: \tlambd: 0.5\n",
            "\u001b[34m\u001b[1mwandb\u001b[0m: \tlearning_rate: 0.0001\n",
            "\u001b[34m\u001b[1mwandb\u001b[0m: \tmax_epochs: 10\n",
            "\u001b[34m\u001b[1mwandb\u001b[0m: \tmini_batch_size: 16\n",
            "\u001b[34m\u001b[1mwandb\u001b[0m: \tnumber_hidden_layers: 3\n",
            "\u001b[34m\u001b[1mwandb\u001b[0m: \tnumber_neurons: 128\n",
            "\u001b[34m\u001b[1mwandb\u001b[0m: \toptimization_function: momentum_gd\n"
          ]
        },
        {
          "data": {
            "text/html": [
              "Tracking run with wandb version 0.14.0"
            ],
            "text/plain": [
              "<IPython.core.display.HTML object>"
            ]
          },
          "metadata": {},
          "output_type": "display_data"
        },
        {
          "data": {
            "text/html": [
              "Run data is saved locally in <code>/content/wandb/run-20230319_005752-wd4hgpdi</code>"
            ],
            "text/plain": [
              "<IPython.core.display.HTML object>"
            ]
          },
          "metadata": {},
          "output_type": "display_data"
        },
        {
          "data": {
            "text/html": [
              "Syncing run <strong><a href='https://wandb.ai/siddharth-s/FODL_Assignment_1/runs/wd4hgpdi' target=\"_blank\">morning-sweep-51</a></strong> to <a href='https://wandb.ai/siddharth-s/FODL_Assignment_1' target=\"_blank\">Weights & Biases</a> (<a href='https://wandb.me/run' target=\"_blank\">docs</a>)<br/>Sweep page: <a href='https://wandb.ai/siddharth-s/FODL_Assignment_1/sweeps/pqng4xvs' target=\"_blank\">https://wandb.ai/siddharth-s/FODL_Assignment_1/sweeps/pqng4xvs</a>"
            ],
            "text/plain": [
              "<IPython.core.display.HTML object>"
            ]
          },
          "metadata": {},
          "output_type": "display_data"
        },
        {
          "data": {
            "text/html": [
              " View project at <a href='https://wandb.ai/siddharth-s/FODL_Assignment_1' target=\"_blank\">https://wandb.ai/siddharth-s/FODL_Assignment_1</a>"
            ],
            "text/plain": [
              "<IPython.core.display.HTML object>"
            ]
          },
          "metadata": {},
          "output_type": "display_data"
        },
        {
          "data": {
            "text/html": [
              " View sweep at <a href='https://wandb.ai/siddharth-s/FODL_Assignment_1/sweeps/pqng4xvs' target=\"_blank\">https://wandb.ai/siddharth-s/FODL_Assignment_1/sweeps/pqng4xvs</a>"
            ],
            "text/plain": [
              "<IPython.core.display.HTML object>"
            ]
          },
          "metadata": {},
          "output_type": "display_data"
        },
        {
          "data": {
            "text/html": [
              " View run at <a href='https://wandb.ai/siddharth-s/FODL_Assignment_1/runs/wd4hgpdi' target=\"_blank\">https://wandb.ai/siddharth-s/FODL_Assignment_1/runs/wd4hgpdi</a>"
            ],
            "text/plain": [
              "<IPython.core.display.HTML object>"
            ]
          },
          "metadata": {},
          "output_type": "display_data"
        },
        {
          "name": "stderr",
          "output_type": "stream",
          "text": [
            "100%|██████████| 10/10 [09:10<00:00, 55.09s/it]"
          ]
        },
        {
          "name": "stdout",
          "output_type": "stream",
          "text": [
            "Training Accuracy: 88.62777777777778\n",
            "Validation Accuracy: 86.45\n"
          ]
        },
        {
          "name": "stderr",
          "output_type": "stream",
          "text": [
            "\n"
          ]
        },
        {
          "data": {
            "text/html": [
              "Waiting for W&B process to finish... <strong style=\"color:green\">(success).</strong>"
            ],
            "text/plain": [
              "<IPython.core.display.HTML object>"
            ]
          },
          "metadata": {},
          "output_type": "display_data"
        },
        {
          "data": {
            "application/vnd.jupyter.widget-view+json": {
              "model_id": "fbb2e5b646834121804cf9f8cdd18fe5",
              "version_major": 2,
              "version_minor": 0
            },
            "text/plain": [
              "VBox(children=(Label(value='0.001 MB of 0.001 MB uploaded (0.000 MB deduped)\\r'), FloatProgress(value=1.0, max…"
            ]
          },
          "metadata": {},
          "output_type": "display_data"
        },
        {
          "data": {
            "text/html": [
              "<style>\n",
              "    table.wandb td:nth-child(1) { padding: 0 10px; text-align: left ; width: auto;} td:nth-child(2) {text-align: left ; width: 100%}\n",
              "    .wandb-row { display: flex; flex-direction: row; flex-wrap: wrap; justify-content: flex-start; width: 100% }\n",
              "    .wandb-col { display: flex; flex-direction: column; flex-basis: 100%; flex: 1; padding: 10px; }\n",
              "    </style>\n",
              "<div class=\"wandb-row\"><div class=\"wandb-col\"><h3>Run history:</h3><br/><table class=\"wandb\"><tr><td>Train_Accuracy</td><td>▁▃▅▅▆▇▇▇██</td></tr><tr><td>Train_Loss</td><td>█▆▄▄▃▂▂▂▁▁</td></tr><tr><td>Validation_Accuracy</td><td>▁▄▅▆▆▆▇▇██</td></tr><tr><td>Validation_loss</td><td>█▆▅▄▃▃▂▂▁▁</td></tr><tr><td>epoch</td><td>▁▂▃▃▄▅▆▆▇█</td></tr></table><br/></div><div class=\"wandb-col\"><h3>Run summary:</h3><br/><table class=\"wandb\"><tr><td>Train_Accuracy</td><td>88.62778</td></tr><tr><td>Train_Loss</td><td>0.33539</td></tr><tr><td>Validation_Accuracy</td><td>86.45</td></tr><tr><td>Validation_loss</td><td>0.50517</td></tr><tr><td>epoch</td><td>9</td></tr></table><br/></div></div>"
            ],
            "text/plain": [
              "<IPython.core.display.HTML object>"
            ]
          },
          "metadata": {},
          "output_type": "display_data"
        },
        {
          "data": {
            "text/html": [
              " View run <strong style=\"color:#cdcd00\">morning-sweep-51</strong> at: <a href='https://wandb.ai/siddharth-s/FODL_Assignment_1/runs/wd4hgpdi' target=\"_blank\">https://wandb.ai/siddharth-s/FODL_Assignment_1/runs/wd4hgpdi</a><br/>Synced 5 W&B file(s), 0 media file(s), 0 artifact file(s) and 0 other file(s)"
            ],
            "text/plain": [
              "<IPython.core.display.HTML object>"
            ]
          },
          "metadata": {},
          "output_type": "display_data"
        },
        {
          "data": {
            "text/html": [
              "Find logs at: <code>./wandb/run-20230319_005752-wd4hgpdi/logs</code>"
            ],
            "text/plain": [
              "<IPython.core.display.HTML object>"
            ]
          },
          "metadata": {},
          "output_type": "display_data"
        },
        {
          "name": "stderr",
          "output_type": "stream",
          "text": [
            "\u001b[34m\u001b[1mwandb\u001b[0m: Sweep Agent: Waiting for job.\n",
            "\u001b[34m\u001b[1mwandb\u001b[0m: Job received.\n",
            "\u001b[34m\u001b[1mwandb\u001b[0m: Agent Starting Run: 0c6ttakd with config:\n",
            "\u001b[34m\u001b[1mwandb\u001b[0m: \tactivation_function: relu\n",
            "\u001b[34m\u001b[1mwandb\u001b[0m: \tinitialization_type: xavier\n",
            "\u001b[34m\u001b[1mwandb\u001b[0m: \tlambd: 0.0005\n",
            "\u001b[34m\u001b[1mwandb\u001b[0m: \tlearning_rate: 0.001\n",
            "\u001b[34m\u001b[1mwandb\u001b[0m: \tmax_epochs: 5\n",
            "\u001b[34m\u001b[1mwandb\u001b[0m: \tmini_batch_size: 16\n",
            "\u001b[34m\u001b[1mwandb\u001b[0m: \tnumber_hidden_layers: 3\n",
            "\u001b[34m\u001b[1mwandb\u001b[0m: \tnumber_neurons: 128\n",
            "\u001b[34m\u001b[1mwandb\u001b[0m: \toptimization_function: nadam\n"
          ]
        },
        {
          "data": {
            "text/html": [
              "Tracking run with wandb version 0.14.0"
            ],
            "text/plain": [
              "<IPython.core.display.HTML object>"
            ]
          },
          "metadata": {},
          "output_type": "display_data"
        },
        {
          "data": {
            "text/html": [
              "Run data is saved locally in <code>/content/wandb/run-20230319_010730-0c6ttakd</code>"
            ],
            "text/plain": [
              "<IPython.core.display.HTML object>"
            ]
          },
          "metadata": {},
          "output_type": "display_data"
        },
        {
          "data": {
            "text/html": [
              "Syncing run <strong><a href='https://wandb.ai/siddharth-s/FODL_Assignment_1/runs/0c6ttakd' target=\"_blank\">gentle-sweep-52</a></strong> to <a href='https://wandb.ai/siddharth-s/FODL_Assignment_1' target=\"_blank\">Weights & Biases</a> (<a href='https://wandb.me/run' target=\"_blank\">docs</a>)<br/>Sweep page: <a href='https://wandb.ai/siddharth-s/FODL_Assignment_1/sweeps/pqng4xvs' target=\"_blank\">https://wandb.ai/siddharth-s/FODL_Assignment_1/sweeps/pqng4xvs</a>"
            ],
            "text/plain": [
              "<IPython.core.display.HTML object>"
            ]
          },
          "metadata": {},
          "output_type": "display_data"
        },
        {
          "data": {
            "text/html": [
              " View project at <a href='https://wandb.ai/siddharth-s/FODL_Assignment_1' target=\"_blank\">https://wandb.ai/siddharth-s/FODL_Assignment_1</a>"
            ],
            "text/plain": [
              "<IPython.core.display.HTML object>"
            ]
          },
          "metadata": {},
          "output_type": "display_data"
        },
        {
          "data": {
            "text/html": [
              " View sweep at <a href='https://wandb.ai/siddharth-s/FODL_Assignment_1/sweeps/pqng4xvs' target=\"_blank\">https://wandb.ai/siddharth-s/FODL_Assignment_1/sweeps/pqng4xvs</a>"
            ],
            "text/plain": [
              "<IPython.core.display.HTML object>"
            ]
          },
          "metadata": {},
          "output_type": "display_data"
        },
        {
          "data": {
            "text/html": [
              " View run at <a href='https://wandb.ai/siddharth-s/FODL_Assignment_1/runs/0c6ttakd' target=\"_blank\">https://wandb.ai/siddharth-s/FODL_Assignment_1/runs/0c6ttakd</a>"
            ],
            "text/plain": [
              "<IPython.core.display.HTML object>"
            ]
          },
          "metadata": {},
          "output_type": "display_data"
        },
        {
          "name": "stderr",
          "output_type": "stream",
          "text": [
            "100%|██████████| 5/5 [04:54<00:00, 58.92s/it]"
          ]
        },
        {
          "name": "stdout",
          "output_type": "stream",
          "text": [
            "Training Accuracy: 10.048148148148147\n",
            "Validation Accuracy: 9.566666666666666\n"
          ]
        },
        {
          "name": "stderr",
          "output_type": "stream",
          "text": [
            "\n"
          ]
        },
        {
          "data": {
            "text/html": [
              "Waiting for W&B process to finish... <strong style=\"color:green\">(success).</strong>"
            ],
            "text/plain": [
              "<IPython.core.display.HTML object>"
            ]
          },
          "metadata": {},
          "output_type": "display_data"
        },
        {
          "data": {
            "text/html": [
              "<style>\n",
              "    table.wandb td:nth-child(1) { padding: 0 10px; text-align: left ; width: auto;} td:nth-child(2) {text-align: left ; width: 100%}\n",
              "    .wandb-row { display: flex; flex-direction: row; flex-wrap: wrap; justify-content: flex-start; width: 100% }\n",
              "    .wandb-col { display: flex; flex-direction: column; flex-basis: 100%; flex: 1; padding: 10px; }\n",
              "    </style>\n",
              "<div class=\"wandb-row\"><div class=\"wandb-col\"><h3>Run history:</h3><br/><table class=\"wandb\"><tr><td>Train_Accuracy</td><td>▁▁▁▁▁</td></tr><tr><td>Validation_Accuracy</td><td>▁▁▁▁▁</td></tr><tr><td>epoch</td><td>▁▃▅▆█</td></tr></table><br/></div><div class=\"wandb-col\"><h3>Run summary:</h3><br/><table class=\"wandb\"><tr><td>Train_Accuracy</td><td>10.04815</td></tr><tr><td>Train_Loss</td><td>nan</td></tr><tr><td>Validation_Accuracy</td><td>9.56667</td></tr><tr><td>Validation_loss</td><td>nan</td></tr><tr><td>epoch</td><td>4</td></tr></table><br/></div></div>"
            ],
            "text/plain": [
              "<IPython.core.display.HTML object>"
            ]
          },
          "metadata": {},
          "output_type": "display_data"
        },
        {
          "data": {
            "text/html": [
              " View run <strong style=\"color:#cdcd00\">gentle-sweep-52</strong> at: <a href='https://wandb.ai/siddharth-s/FODL_Assignment_1/runs/0c6ttakd' target=\"_blank\">https://wandb.ai/siddharth-s/FODL_Assignment_1/runs/0c6ttakd</a><br/>Synced 5 W&B file(s), 0 media file(s), 0 artifact file(s) and 0 other file(s)"
            ],
            "text/plain": [
              "<IPython.core.display.HTML object>"
            ]
          },
          "metadata": {},
          "output_type": "display_data"
        },
        {
          "data": {
            "text/html": [
              "Find logs at: <code>./wandb/run-20230319_010730-0c6ttakd/logs</code>"
            ],
            "text/plain": [
              "<IPython.core.display.HTML object>"
            ]
          },
          "metadata": {},
          "output_type": "display_data"
        },
        {
          "name": "stderr",
          "output_type": "stream",
          "text": [
            "\u001b[34m\u001b[1mwandb\u001b[0m: Agent Starting Run: whuzg8uq with config:\n",
            "\u001b[34m\u001b[1mwandb\u001b[0m: \tactivation_function: relu\n",
            "\u001b[34m\u001b[1mwandb\u001b[0m: \tinitialization_type: random\n",
            "\u001b[34m\u001b[1mwandb\u001b[0m: \tlambd: 0.0005\n",
            "\u001b[34m\u001b[1mwandb\u001b[0m: \tlearning_rate: 0.0001\n",
            "\u001b[34m\u001b[1mwandb\u001b[0m: \tmax_epochs: 10\n",
            "\u001b[34m\u001b[1mwandb\u001b[0m: \tmini_batch_size: 64\n",
            "\u001b[34m\u001b[1mwandb\u001b[0m: \tnumber_hidden_layers: 5\n",
            "\u001b[34m\u001b[1mwandb\u001b[0m: \tnumber_neurons: 32\n",
            "\u001b[34m\u001b[1mwandb\u001b[0m: \toptimization_function: momentum_gd\n"
          ]
        },
        {
          "data": {
            "text/html": [
              "Tracking run with wandb version 0.14.0"
            ],
            "text/plain": [
              "<IPython.core.display.HTML object>"
            ]
          },
          "metadata": {},
          "output_type": "display_data"
        },
        {
          "data": {
            "text/html": [
              "Run data is saved locally in <code>/content/wandb/run-20230319_011246-whuzg8uq</code>"
            ],
            "text/plain": [
              "<IPython.core.display.HTML object>"
            ]
          },
          "metadata": {},
          "output_type": "display_data"
        },
        {
          "data": {
            "text/html": [
              "Syncing run <strong><a href='https://wandb.ai/siddharth-s/FODL_Assignment_1/runs/whuzg8uq' target=\"_blank\">resilient-sweep-53</a></strong> to <a href='https://wandb.ai/siddharth-s/FODL_Assignment_1' target=\"_blank\">Weights & Biases</a> (<a href='https://wandb.me/run' target=\"_blank\">docs</a>)<br/>Sweep page: <a href='https://wandb.ai/siddharth-s/FODL_Assignment_1/sweeps/pqng4xvs' target=\"_blank\">https://wandb.ai/siddharth-s/FODL_Assignment_1/sweeps/pqng4xvs</a>"
            ],
            "text/plain": [
              "<IPython.core.display.HTML object>"
            ]
          },
          "metadata": {},
          "output_type": "display_data"
        },
        {
          "data": {
            "text/html": [
              " View project at <a href='https://wandb.ai/siddharth-s/FODL_Assignment_1' target=\"_blank\">https://wandb.ai/siddharth-s/FODL_Assignment_1</a>"
            ],
            "text/plain": [
              "<IPython.core.display.HTML object>"
            ]
          },
          "metadata": {},
          "output_type": "display_data"
        },
        {
          "data": {
            "text/html": [
              " View sweep at <a href='https://wandb.ai/siddharth-s/FODL_Assignment_1/sweeps/pqng4xvs' target=\"_blank\">https://wandb.ai/siddharth-s/FODL_Assignment_1/sweeps/pqng4xvs</a>"
            ],
            "text/plain": [
              "<IPython.core.display.HTML object>"
            ]
          },
          "metadata": {},
          "output_type": "display_data"
        },
        {
          "data": {
            "text/html": [
              " View run at <a href='https://wandb.ai/siddharth-s/FODL_Assignment_1/runs/whuzg8uq' target=\"_blank\">https://wandb.ai/siddharth-s/FODL_Assignment_1/runs/whuzg8uq</a>"
            ],
            "text/plain": [
              "<IPython.core.display.HTML object>"
            ]
          },
          "metadata": {},
          "output_type": "display_data"
        },
        {
          "name": "stderr",
          "output_type": "stream",
          "text": [
            "100%|██████████| 10/10 [05:29<00:00, 32.99s/it]"
          ]
        },
        {
          "name": "stdout",
          "output_type": "stream",
          "text": [
            "Training Accuracy: 10.05\n",
            "Validation Accuracy: 9.55\n"
          ]
        },
        {
          "name": "stderr",
          "output_type": "stream",
          "text": [
            "\n"
          ]
        },
        {
          "data": {
            "text/html": [
              "Waiting for W&B process to finish... <strong style=\"color:green\">(success).</strong>"
            ],
            "text/plain": [
              "<IPython.core.display.HTML object>"
            ]
          },
          "metadata": {},
          "output_type": "display_data"
        },
        {
          "data": {
            "application/vnd.jupyter.widget-view+json": {
              "model_id": "a269a1e2ee25464ca879357954263b5b",
              "version_major": 2,
              "version_minor": 0
            },
            "text/plain": [
              "VBox(children=(Label(value='0.001 MB of 0.001 MB uploaded (0.000 MB deduped)\\r'), FloatProgress(value=1.0, max…"
            ]
          },
          "metadata": {},
          "output_type": "display_data"
        },
        {
          "data": {
            "text/html": [
              "<style>\n",
              "    table.wandb td:nth-child(1) { padding: 0 10px; text-align: left ; width: auto;} td:nth-child(2) {text-align: left ; width: 100%}\n",
              "    .wandb-row { display: flex; flex-direction: row; flex-wrap: wrap; justify-content: flex-start; width: 100% }\n",
              "    .wandb-col { display: flex; flex-direction: column; flex-basis: 100%; flex: 1; padding: 10px; }\n",
              "    </style>\n",
              "<div class=\"wandb-row\"><div class=\"wandb-col\"><h3>Run history:</h3><br/><table class=\"wandb\"><tr><td>Train_Accuracy</td><td>▁█████████</td></tr><tr><td>Train_Loss</td><td>█▂▁▁▁▁▁▁▁▁</td></tr><tr><td>Validation_Accuracy</td><td>█▁▁▁▁▁▁▁▁▁</td></tr><tr><td>Validation_loss</td><td>▁▅▇███████</td></tr><tr><td>epoch</td><td>▁▂▃▃▄▅▆▆▇█</td></tr></table><br/></div><div class=\"wandb-col\"><h3>Run summary:</h3><br/><table class=\"wandb\"><tr><td>Train_Accuracy</td><td>10.05</td></tr><tr><td>Train_Loss</td><td>2.30258</td></tr><tr><td>Validation_Accuracy</td><td>9.55</td></tr><tr><td>Validation_loss</td><td>2.30273</td></tr><tr><td>epoch</td><td>9</td></tr></table><br/></div></div>"
            ],
            "text/plain": [
              "<IPython.core.display.HTML object>"
            ]
          },
          "metadata": {},
          "output_type": "display_data"
        },
        {
          "data": {
            "text/html": [
              " View run <strong style=\"color:#cdcd00\">resilient-sweep-53</strong> at: <a href='https://wandb.ai/siddharth-s/FODL_Assignment_1/runs/whuzg8uq' target=\"_blank\">https://wandb.ai/siddharth-s/FODL_Assignment_1/runs/whuzg8uq</a><br/>Synced 5 W&B file(s), 0 media file(s), 0 artifact file(s) and 0 other file(s)"
            ],
            "text/plain": [
              "<IPython.core.display.HTML object>"
            ]
          },
          "metadata": {},
          "output_type": "display_data"
        },
        {
          "data": {
            "text/html": [
              "Find logs at: <code>./wandb/run-20230319_011246-whuzg8uq/logs</code>"
            ],
            "text/plain": [
              "<IPython.core.display.HTML object>"
            ]
          },
          "metadata": {},
          "output_type": "display_data"
        },
        {
          "name": "stderr",
          "output_type": "stream",
          "text": [
            "\u001b[34m\u001b[1mwandb\u001b[0m: Agent Starting Run: a6yjvkhb with config:\n",
            "\u001b[34m\u001b[1mwandb\u001b[0m: \tactivation_function: relu\n",
            "\u001b[34m\u001b[1mwandb\u001b[0m: \tinitialization_type: random\n",
            "\u001b[34m\u001b[1mwandb\u001b[0m: \tlambd: 0\n",
            "\u001b[34m\u001b[1mwandb\u001b[0m: \tlearning_rate: 0.0001\n",
            "\u001b[34m\u001b[1mwandb\u001b[0m: \tmax_epochs: 10\n",
            "\u001b[34m\u001b[1mwandb\u001b[0m: \tmini_batch_size: 16\n",
            "\u001b[34m\u001b[1mwandb\u001b[0m: \tnumber_hidden_layers: 5\n",
            "\u001b[34m\u001b[1mwandb\u001b[0m: \tnumber_neurons: 128\n",
            "\u001b[34m\u001b[1mwandb\u001b[0m: \toptimization_function: stochastic_gd\n"
          ]
        },
        {
          "data": {
            "text/html": [
              "Tracking run with wandb version 0.14.0"
            ],
            "text/plain": [
              "<IPython.core.display.HTML object>"
            ]
          },
          "metadata": {},
          "output_type": "display_data"
        },
        {
          "data": {
            "text/html": [
              "Run data is saved locally in <code>/content/wandb/run-20230319_011835-a6yjvkhb</code>"
            ],
            "text/plain": [
              "<IPython.core.display.HTML object>"
            ]
          },
          "metadata": {},
          "output_type": "display_data"
        },
        {
          "data": {
            "text/html": [
              "Syncing run <strong><a href='https://wandb.ai/siddharth-s/FODL_Assignment_1/runs/a6yjvkhb' target=\"_blank\">blooming-sweep-54</a></strong> to <a href='https://wandb.ai/siddharth-s/FODL_Assignment_1' target=\"_blank\">Weights & Biases</a> (<a href='https://wandb.me/run' target=\"_blank\">docs</a>)<br/>Sweep page: <a href='https://wandb.ai/siddharth-s/FODL_Assignment_1/sweeps/pqng4xvs' target=\"_blank\">https://wandb.ai/siddharth-s/FODL_Assignment_1/sweeps/pqng4xvs</a>"
            ],
            "text/plain": [
              "<IPython.core.display.HTML object>"
            ]
          },
          "metadata": {},
          "output_type": "display_data"
        },
        {
          "data": {
            "text/html": [
              " View project at <a href='https://wandb.ai/siddharth-s/FODL_Assignment_1' target=\"_blank\">https://wandb.ai/siddharth-s/FODL_Assignment_1</a>"
            ],
            "text/plain": [
              "<IPython.core.display.HTML object>"
            ]
          },
          "metadata": {},
          "output_type": "display_data"
        },
        {
          "data": {
            "text/html": [
              " View sweep at <a href='https://wandb.ai/siddharth-s/FODL_Assignment_1/sweeps/pqng4xvs' target=\"_blank\">https://wandb.ai/siddharth-s/FODL_Assignment_1/sweeps/pqng4xvs</a>"
            ],
            "text/plain": [
              "<IPython.core.display.HTML object>"
            ]
          },
          "metadata": {},
          "output_type": "display_data"
        },
        {
          "data": {
            "text/html": [
              " View run at <a href='https://wandb.ai/siddharth-s/FODL_Assignment_1/runs/a6yjvkhb' target=\"_blank\">https://wandb.ai/siddharth-s/FODL_Assignment_1/runs/a6yjvkhb</a>"
            ],
            "text/plain": [
              "<IPython.core.display.HTML object>"
            ]
          },
          "metadata": {},
          "output_type": "display_data"
        },
        {
          "name": "stderr",
          "output_type": "stream",
          "text": [
            "100%|██████████| 10/10 [11:10<00:00, 67.03s/it]"
          ]
        },
        {
          "name": "stdout",
          "output_type": "stream",
          "text": [
            "Training Accuracy: 10.05\n",
            "Validation Accuracy: 9.55\n"
          ]
        },
        {
          "name": "stderr",
          "output_type": "stream",
          "text": [
            "\n"
          ]
        },
        {
          "data": {
            "text/html": [
              "Waiting for W&B process to finish... <strong style=\"color:green\">(success).</strong>"
            ],
            "text/plain": [
              "<IPython.core.display.HTML object>"
            ]
          },
          "metadata": {},
          "output_type": "display_data"
        },
        {
          "data": {
            "application/vnd.jupyter.widget-view+json": {
              "model_id": "0587dc1aeb7f4ac18e5e5c23ea9f084d",
              "version_major": 2,
              "version_minor": 0
            },
            "text/plain": [
              "VBox(children=(Label(value='0.001 MB of 0.001 MB uploaded (0.000 MB deduped)\\r'), FloatProgress(value=1.0, max…"
            ]
          },
          "metadata": {},
          "output_type": "display_data"
        },
        {
          "data": {
            "text/html": [
              "<style>\n",
              "    table.wandb td:nth-child(1) { padding: 0 10px; text-align: left ; width: auto;} td:nth-child(2) {text-align: left ; width: 100%}\n",
              "    .wandb-row { display: flex; flex-direction: row; flex-wrap: wrap; justify-content: flex-start; width: 100% }\n",
              "    .wandb-col { display: flex; flex-direction: column; flex-basis: 100%; flex: 1; padding: 10px; }\n",
              "    </style>\n",
              "<div class=\"wandb-row\"><div class=\"wandb-col\"><h3>Run history:</h3><br/><table class=\"wandb\"><tr><td>Train_Accuracy</td><td>▁▁▁▁██████</td></tr><tr><td>Train_Loss</td><td>█▃▂▁▁▁▁▁▁▁</td></tr><tr><td>Validation_Accuracy</td><td>████▁▁▁▁▁▁</td></tr><tr><td>Validation_loss</td><td>█▃▁▁▁▁▁▁▁▁</td></tr><tr><td>epoch</td><td>▁▂▃▃▄▅▆▆▇█</td></tr></table><br/></div><div class=\"wandb-col\"><h3>Run summary:</h3><br/><table class=\"wandb\"><tr><td>Train_Accuracy</td><td>10.05</td></tr><tr><td>Train_Loss</td><td>2.30258</td></tr><tr><td>Validation_Accuracy</td><td>9.55</td></tr><tr><td>Validation_loss</td><td>2.30274</td></tr><tr><td>epoch</td><td>9</td></tr></table><br/></div></div>"
            ],
            "text/plain": [
              "<IPython.core.display.HTML object>"
            ]
          },
          "metadata": {},
          "output_type": "display_data"
        },
        {
          "data": {
            "text/html": [
              " View run <strong style=\"color:#cdcd00\">blooming-sweep-54</strong> at: <a href='https://wandb.ai/siddharth-s/FODL_Assignment_1/runs/a6yjvkhb' target=\"_blank\">https://wandb.ai/siddharth-s/FODL_Assignment_1/runs/a6yjvkhb</a><br/>Synced 5 W&B file(s), 0 media file(s), 0 artifact file(s) and 0 other file(s)"
            ],
            "text/plain": [
              "<IPython.core.display.HTML object>"
            ]
          },
          "metadata": {},
          "output_type": "display_data"
        },
        {
          "data": {
            "text/html": [
              "Find logs at: <code>./wandb/run-20230319_011835-a6yjvkhb/logs</code>"
            ],
            "text/plain": [
              "<IPython.core.display.HTML object>"
            ]
          },
          "metadata": {},
          "output_type": "display_data"
        },
        {
          "name": "stderr",
          "output_type": "stream",
          "text": [
            "\u001b[34m\u001b[1mwandb\u001b[0m: Agent Starting Run: 6sloby94 with config:\n",
            "\u001b[34m\u001b[1mwandb\u001b[0m: \tactivation_function: sigmoid\n",
            "\u001b[34m\u001b[1mwandb\u001b[0m: \tinitialization_type: xavier\n",
            "\u001b[34m\u001b[1mwandb\u001b[0m: \tlambd: 0.5\n",
            "\u001b[34m\u001b[1mwandb\u001b[0m: \tlearning_rate: 0.0001\n",
            "\u001b[34m\u001b[1mwandb\u001b[0m: \tmax_epochs: 10\n",
            "\u001b[34m\u001b[1mwandb\u001b[0m: \tmini_batch_size: 64\n",
            "\u001b[34m\u001b[1mwandb\u001b[0m: \tnumber_hidden_layers: 3\n",
            "\u001b[34m\u001b[1mwandb\u001b[0m: \tnumber_neurons: 128\n",
            "\u001b[34m\u001b[1mwandb\u001b[0m: \toptimization_function: stochastic_gd\n"
          ]
        },
        {
          "data": {
            "text/html": [
              "Tracking run with wandb version 0.14.0"
            ],
            "text/plain": [
              "<IPython.core.display.HTML object>"
            ]
          },
          "metadata": {},
          "output_type": "display_data"
        },
        {
          "data": {
            "text/html": [
              "Run data is saved locally in <code>/content/wandb/run-20230319_013004-6sloby94</code>"
            ],
            "text/plain": [
              "<IPython.core.display.HTML object>"
            ]
          },
          "metadata": {},
          "output_type": "display_data"
        },
        {
          "data": {
            "text/html": [
              "Syncing run <strong><a href='https://wandb.ai/siddharth-s/FODL_Assignment_1/runs/6sloby94' target=\"_blank\">amber-sweep-55</a></strong> to <a href='https://wandb.ai/siddharth-s/FODL_Assignment_1' target=\"_blank\">Weights & Biases</a> (<a href='https://wandb.me/run' target=\"_blank\">docs</a>)<br/>Sweep page: <a href='https://wandb.ai/siddharth-s/FODL_Assignment_1/sweeps/pqng4xvs' target=\"_blank\">https://wandb.ai/siddharth-s/FODL_Assignment_1/sweeps/pqng4xvs</a>"
            ],
            "text/plain": [
              "<IPython.core.display.HTML object>"
            ]
          },
          "metadata": {},
          "output_type": "display_data"
        },
        {
          "data": {
            "text/html": [
              " View project at <a href='https://wandb.ai/siddharth-s/FODL_Assignment_1' target=\"_blank\">https://wandb.ai/siddharth-s/FODL_Assignment_1</a>"
            ],
            "text/plain": [
              "<IPython.core.display.HTML object>"
            ]
          },
          "metadata": {},
          "output_type": "display_data"
        },
        {
          "data": {
            "text/html": [
              " View sweep at <a href='https://wandb.ai/siddharth-s/FODL_Assignment_1/sweeps/pqng4xvs' target=\"_blank\">https://wandb.ai/siddharth-s/FODL_Assignment_1/sweeps/pqng4xvs</a>"
            ],
            "text/plain": [
              "<IPython.core.display.HTML object>"
            ]
          },
          "metadata": {},
          "output_type": "display_data"
        },
        {
          "data": {
            "text/html": [
              " View run at <a href='https://wandb.ai/siddharth-s/FODL_Assignment_1/runs/6sloby94' target=\"_blank\">https://wandb.ai/siddharth-s/FODL_Assignment_1/runs/6sloby94</a>"
            ],
            "text/plain": [
              "<IPython.core.display.HTML object>"
            ]
          },
          "metadata": {},
          "output_type": "display_data"
        },
        {
          "name": "stderr",
          "output_type": "stream",
          "text": [
            "100%|██████████| 10/10 [09:19<00:00, 55.93s/it]"
          ]
        },
        {
          "name": "stdout",
          "output_type": "stream",
          "text": [
            "Training Accuracy: 71.0037037037037\n",
            "Validation Accuracy: 71.7\n"
          ]
        },
        {
          "name": "stderr",
          "output_type": "stream",
          "text": [
            "\n"
          ]
        },
        {
          "data": {
            "text/html": [
              "Waiting for W&B process to finish... <strong style=\"color:green\">(success).</strong>"
            ],
            "text/plain": [
              "<IPython.core.display.HTML object>"
            ]
          },
          "metadata": {},
          "output_type": "display_data"
        },
        {
          "data": {
            "application/vnd.jupyter.widget-view+json": {
              "model_id": "320acd27a2ba496fb635a0ac2dea850d",
              "version_major": 2,
              "version_minor": 0
            },
            "text/plain": [
              "VBox(children=(Label(value='0.001 MB of 0.001 MB uploaded (0.000 MB deduped)\\r'), FloatProgress(value=1.0, max…"
            ]
          },
          "metadata": {},
          "output_type": "display_data"
        },
        {
          "data": {
            "text/html": [
              "<style>\n",
              "    table.wandb td:nth-child(1) { padding: 0 10px; text-align: left ; width: auto;} td:nth-child(2) {text-align: left ; width: 100%}\n",
              "    .wandb-row { display: flex; flex-direction: row; flex-wrap: wrap; justify-content: flex-start; width: 100% }\n",
              "    .wandb-col { display: flex; flex-direction: column; flex-basis: 100%; flex: 1; padding: 10px; }\n",
              "    </style>\n",
              "<div class=\"wandb-row\"><div class=\"wandb-col\"><h3>Run history:</h3><br/><table class=\"wandb\"><tr><td>Train_Accuracy</td><td>▁▃▅▆▆▇▇▇██</td></tr><tr><td>Train_Loss</td><td>█▇▅▄▃▂▂▂▁▁</td></tr><tr><td>Validation_Accuracy</td><td>▁▃▅▆▆▇▇███</td></tr><tr><td>Validation_loss</td><td>█▇▆▄▃▃▂▂▁▁</td></tr><tr><td>epoch</td><td>▁▂▃▃▄▅▆▆▇█</td></tr></table><br/></div><div class=\"wandb-col\"><h3>Run summary:</h3><br/><table class=\"wandb\"><tr><td>Train_Accuracy</td><td>71.0037</td></tr><tr><td>Train_Loss</td><td>0.92942</td></tr><tr><td>Validation_Accuracy</td><td>71.7</td></tr><tr><td>Validation_loss</td><td>1.22882</td></tr><tr><td>epoch</td><td>9</td></tr></table><br/></div></div>"
            ],
            "text/plain": [
              "<IPython.core.display.HTML object>"
            ]
          },
          "metadata": {},
          "output_type": "display_data"
        },
        {
          "data": {
            "text/html": [
              " View run <strong style=\"color:#cdcd00\">amber-sweep-55</strong> at: <a href='https://wandb.ai/siddharth-s/FODL_Assignment_1/runs/6sloby94' target=\"_blank\">https://wandb.ai/siddharth-s/FODL_Assignment_1/runs/6sloby94</a><br/>Synced 5 W&B file(s), 0 media file(s), 0 artifact file(s) and 0 other file(s)"
            ],
            "text/plain": [
              "<IPython.core.display.HTML object>"
            ]
          },
          "metadata": {},
          "output_type": "display_data"
        },
        {
          "data": {
            "text/html": [
              "Find logs at: <code>./wandb/run-20230319_013004-6sloby94/logs</code>"
            ],
            "text/plain": [
              "<IPython.core.display.HTML object>"
            ]
          },
          "metadata": {},
          "output_type": "display_data"
        },
        {
          "name": "stderr",
          "output_type": "stream",
          "text": [
            "\u001b[34m\u001b[1mwandb\u001b[0m: Sweep Agent: Waiting for job.\n",
            "\u001b[34m\u001b[1mwandb\u001b[0m: Job received.\n",
            "\u001b[34m\u001b[1mwandb\u001b[0m: Agent Starting Run: r6n6zkub with config:\n",
            "\u001b[34m\u001b[1mwandb\u001b[0m: \tactivation_function: tanh\n",
            "\u001b[34m\u001b[1mwandb\u001b[0m: \tinitialization_type: random\n",
            "\u001b[34m\u001b[1mwandb\u001b[0m: \tlambd: 0.5\n",
            "\u001b[34m\u001b[1mwandb\u001b[0m: \tlearning_rate: 0.001\n",
            "\u001b[34m\u001b[1mwandb\u001b[0m: \tmax_epochs: 10\n",
            "\u001b[34m\u001b[1mwandb\u001b[0m: \tmini_batch_size: 32\n",
            "\u001b[34m\u001b[1mwandb\u001b[0m: \tnumber_hidden_layers: 4\n",
            "\u001b[34m\u001b[1mwandb\u001b[0m: \tnumber_neurons: 64\n",
            "\u001b[34m\u001b[1mwandb\u001b[0m: \toptimization_function: stochastic_gd\n"
          ]
        },
        {
          "data": {
            "text/html": [
              "Tracking run with wandb version 0.14.0"
            ],
            "text/plain": [
              "<IPython.core.display.HTML object>"
            ]
          },
          "metadata": {},
          "output_type": "display_data"
        },
        {
          "data": {
            "text/html": [
              "Run data is saved locally in <code>/content/wandb/run-20230319_013952-r6n6zkub</code>"
            ],
            "text/plain": [
              "<IPython.core.display.HTML object>"
            ]
          },
          "metadata": {},
          "output_type": "display_data"
        },
        {
          "data": {
            "text/html": [
              "Syncing run <strong><a href='https://wandb.ai/siddharth-s/FODL_Assignment_1/runs/r6n6zkub' target=\"_blank\">sunny-sweep-56</a></strong> to <a href='https://wandb.ai/siddharth-s/FODL_Assignment_1' target=\"_blank\">Weights & Biases</a> (<a href='https://wandb.me/run' target=\"_blank\">docs</a>)<br/>Sweep page: <a href='https://wandb.ai/siddharth-s/FODL_Assignment_1/sweeps/pqng4xvs' target=\"_blank\">https://wandb.ai/siddharth-s/FODL_Assignment_1/sweeps/pqng4xvs</a>"
            ],
            "text/plain": [
              "<IPython.core.display.HTML object>"
            ]
          },
          "metadata": {},
          "output_type": "display_data"
        },
        {
          "data": {
            "text/html": [
              " View project at <a href='https://wandb.ai/siddharth-s/FODL_Assignment_1' target=\"_blank\">https://wandb.ai/siddharth-s/FODL_Assignment_1</a>"
            ],
            "text/plain": [
              "<IPython.core.display.HTML object>"
            ]
          },
          "metadata": {},
          "output_type": "display_data"
        },
        {
          "data": {
            "text/html": [
              " View sweep at <a href='https://wandb.ai/siddharth-s/FODL_Assignment_1/sweeps/pqng4xvs' target=\"_blank\">https://wandb.ai/siddharth-s/FODL_Assignment_1/sweeps/pqng4xvs</a>"
            ],
            "text/plain": [
              "<IPython.core.display.HTML object>"
            ]
          },
          "metadata": {},
          "output_type": "display_data"
        },
        {
          "data": {
            "text/html": [
              " View run at <a href='https://wandb.ai/siddharth-s/FODL_Assignment_1/runs/r6n6zkub' target=\"_blank\">https://wandb.ai/siddharth-s/FODL_Assignment_1/runs/r6n6zkub</a>"
            ],
            "text/plain": [
              "<IPython.core.display.HTML object>"
            ]
          },
          "metadata": {},
          "output_type": "display_data"
        },
        {
          "name": "stderr",
          "output_type": "stream",
          "text": [
            "100%|██████████| 10/10 [05:49<00:00, 34.90s/it]"
          ]
        },
        {
          "name": "stdout",
          "output_type": "stream",
          "text": [
            "Training Accuracy: 10.048148148148147\n",
            "Validation Accuracy: 9.566666666666666\n"
          ]
        },
        {
          "name": "stderr",
          "output_type": "stream",
          "text": [
            "\n"
          ]
        },
        {
          "data": {
            "text/html": [
              "Waiting for W&B process to finish... <strong style=\"color:green\">(success).</strong>"
            ],
            "text/plain": [
              "<IPython.core.display.HTML object>"
            ]
          },
          "metadata": {},
          "output_type": "display_data"
        },
        {
          "data": {
            "application/vnd.jupyter.widget-view+json": {
              "model_id": "6c11bf6a5aa14385a9f35432a8dc26ad",
              "version_major": 2,
              "version_minor": 0
            },
            "text/plain": [
              "VBox(children=(Label(value='0.001 MB of 0.001 MB uploaded (0.000 MB deduped)\\r'), FloatProgress(value=1.0, max…"
            ]
          },
          "metadata": {},
          "output_type": "display_data"
        },
        {
          "data": {
            "text/html": [
              "<style>\n",
              "    table.wandb td:nth-child(1) { padding: 0 10px; text-align: left ; width: auto;} td:nth-child(2) {text-align: left ; width: 100%}\n",
              "    .wandb-row { display: flex; flex-direction: row; flex-wrap: wrap; justify-content: flex-start; width: 100% }\n",
              "    .wandb-col { display: flex; flex-direction: column; flex-basis: 100%; flex: 1; padding: 10px; }\n",
              "    </style>\n",
              "<div class=\"wandb-row\"><div class=\"wandb-col\"><h3>Run history:</h3><br/><table class=\"wandb\"><tr><td>Train_Accuracy</td><td>▁▁▁▁▁▁▁▁▁▁</td></tr><tr><td>Train_Loss</td><td>█▇▆▅▄▄▃▂▂▁</td></tr><tr><td>Validation_Accuracy</td><td>▁▁▁▁▁▁▁▁▁▁</td></tr><tr><td>Validation_loss</td><td>█▇▆▅▄▄▃▂▂▁</td></tr><tr><td>epoch</td><td>▁▂▃▃▄▅▆▆▇█</td></tr></table><br/></div><div class=\"wandb-col\"><h3>Run summary:</h3><br/><table class=\"wandb\"><tr><td>Train_Accuracy</td><td>10.04815</td></tr><tr><td>Train_Loss</td><td>2.30272</td></tr><tr><td>Validation_Accuracy</td><td>9.56667</td></tr><tr><td>Validation_loss</td><td>2.30318</td></tr><tr><td>epoch</td><td>9</td></tr></table><br/></div></div>"
            ],
            "text/plain": [
              "<IPython.core.display.HTML object>"
            ]
          },
          "metadata": {},
          "output_type": "display_data"
        },
        {
          "data": {
            "text/html": [
              " View run <strong style=\"color:#cdcd00\">sunny-sweep-56</strong> at: <a href='https://wandb.ai/siddharth-s/FODL_Assignment_1/runs/r6n6zkub' target=\"_blank\">https://wandb.ai/siddharth-s/FODL_Assignment_1/runs/r6n6zkub</a><br/>Synced 5 W&B file(s), 0 media file(s), 0 artifact file(s) and 0 other file(s)"
            ],
            "text/plain": [
              "<IPython.core.display.HTML object>"
            ]
          },
          "metadata": {},
          "output_type": "display_data"
        },
        {
          "data": {
            "text/html": [
              "Find logs at: <code>./wandb/run-20230319_013952-r6n6zkub/logs</code>"
            ],
            "text/plain": [
              "<IPython.core.display.HTML object>"
            ]
          },
          "metadata": {},
          "output_type": "display_data"
        },
        {
          "name": "stderr",
          "output_type": "stream",
          "text": [
            "\u001b[34m\u001b[1mwandb\u001b[0m: Sweep Agent: Waiting for job.\n",
            "\u001b[34m\u001b[1mwandb\u001b[0m: Job received.\n",
            "\u001b[34m\u001b[1mwandb\u001b[0m: Agent Starting Run: l03nl0gh with config:\n",
            "\u001b[34m\u001b[1mwandb\u001b[0m: \tactivation_function: relu\n",
            "\u001b[34m\u001b[1mwandb\u001b[0m: \tinitialization_type: random\n",
            "\u001b[34m\u001b[1mwandb\u001b[0m: \tlambd: 0\n",
            "\u001b[34m\u001b[1mwandb\u001b[0m: \tlearning_rate: 0.001\n",
            "\u001b[34m\u001b[1mwandb\u001b[0m: \tmax_epochs: 10\n",
            "\u001b[34m\u001b[1mwandb\u001b[0m: \tmini_batch_size: 16\n",
            "\u001b[34m\u001b[1mwandb\u001b[0m: \tnumber_hidden_layers: 4\n",
            "\u001b[34m\u001b[1mwandb\u001b[0m: \tnumber_neurons: 128\n",
            "\u001b[34m\u001b[1mwandb\u001b[0m: \toptimization_function: rmsprop\n"
          ]
        },
        {
          "data": {
            "text/html": [
              "Tracking run with wandb version 0.14.0"
            ],
            "text/plain": [
              "<IPython.core.display.HTML object>"
            ]
          },
          "metadata": {},
          "output_type": "display_data"
        },
        {
          "data": {
            "text/html": [
              "Run data is saved locally in <code>/content/wandb/run-20230319_014629-l03nl0gh</code>"
            ],
            "text/plain": [
              "<IPython.core.display.HTML object>"
            ]
          },
          "metadata": {},
          "output_type": "display_data"
        },
        {
          "data": {
            "text/html": [
              "Syncing run <strong><a href='https://wandb.ai/siddharth-s/FODL_Assignment_1/runs/l03nl0gh' target=\"_blank\">super-sweep-57</a></strong> to <a href='https://wandb.ai/siddharth-s/FODL_Assignment_1' target=\"_blank\">Weights & Biases</a> (<a href='https://wandb.me/run' target=\"_blank\">docs</a>)<br/>Sweep page: <a href='https://wandb.ai/siddharth-s/FODL_Assignment_1/sweeps/pqng4xvs' target=\"_blank\">https://wandb.ai/siddharth-s/FODL_Assignment_1/sweeps/pqng4xvs</a>"
            ],
            "text/plain": [
              "<IPython.core.display.HTML object>"
            ]
          },
          "metadata": {},
          "output_type": "display_data"
        },
        {
          "data": {
            "text/html": [
              " View project at <a href='https://wandb.ai/siddharth-s/FODL_Assignment_1' target=\"_blank\">https://wandb.ai/siddharth-s/FODL_Assignment_1</a>"
            ],
            "text/plain": [
              "<IPython.core.display.HTML object>"
            ]
          },
          "metadata": {},
          "output_type": "display_data"
        },
        {
          "data": {
            "text/html": [
              " View sweep at <a href='https://wandb.ai/siddharth-s/FODL_Assignment_1/sweeps/pqng4xvs' target=\"_blank\">https://wandb.ai/siddharth-s/FODL_Assignment_1/sweeps/pqng4xvs</a>"
            ],
            "text/plain": [
              "<IPython.core.display.HTML object>"
            ]
          },
          "metadata": {},
          "output_type": "display_data"
        },
        {
          "data": {
            "text/html": [
              " View run at <a href='https://wandb.ai/siddharth-s/FODL_Assignment_1/runs/l03nl0gh' target=\"_blank\">https://wandb.ai/siddharth-s/FODL_Assignment_1/runs/l03nl0gh</a>"
            ],
            "text/plain": [
              "<IPython.core.display.HTML object>"
            ]
          },
          "metadata": {},
          "output_type": "display_data"
        },
        {
          "name": "stderr",
          "output_type": "stream",
          "text": [
            "100%|██████████| 10/10 [10:10<00:00, 61.05s/it]"
          ]
        },
        {
          "name": "stdout",
          "output_type": "stream",
          "text": [
            "Training Accuracy: 10.048148148148147\n",
            "Validation Accuracy: 9.566666666666666\n"
          ]
        },
        {
          "name": "stderr",
          "output_type": "stream",
          "text": [
            "\n"
          ]
        },
        {
          "data": {
            "text/html": [
              "Waiting for W&B process to finish... <strong style=\"color:green\">(success).</strong>"
            ],
            "text/plain": [
              "<IPython.core.display.HTML object>"
            ]
          },
          "metadata": {},
          "output_type": "display_data"
        },
        {
          "data": {
            "text/html": [
              "<style>\n",
              "    table.wandb td:nth-child(1) { padding: 0 10px; text-align: left ; width: auto;} td:nth-child(2) {text-align: left ; width: 100%}\n",
              "    .wandb-row { display: flex; flex-direction: row; flex-wrap: wrap; justify-content: flex-start; width: 100% }\n",
              "    .wandb-col { display: flex; flex-direction: column; flex-basis: 100%; flex: 1; padding: 10px; }\n",
              "    </style>\n",
              "<div class=\"wandb-row\"><div class=\"wandb-col\"><h3>Run history:</h3><br/><table class=\"wandb\"><tr><td>Train_Accuracy</td><td>█▁▁▁▁▁▁▁▁▁</td></tr><tr><td>Validation_Accuracy</td><td>█▁▁▁▁▁▁▁▁▁</td></tr><tr><td>epoch</td><td>▁▂▃▃▄▅▆▆▇█</td></tr></table><br/></div><div class=\"wandb-col\"><h3>Run summary:</h3><br/><table class=\"wandb\"><tr><td>Train_Accuracy</td><td>10.04815</td></tr><tr><td>Train_Loss</td><td>nan</td></tr><tr><td>Validation_Accuracy</td><td>9.56667</td></tr><tr><td>Validation_loss</td><td>nan</td></tr><tr><td>epoch</td><td>9</td></tr></table><br/></div></div>"
            ],
            "text/plain": [
              "<IPython.core.display.HTML object>"
            ]
          },
          "metadata": {},
          "output_type": "display_data"
        },
        {
          "data": {
            "text/html": [
              " View run <strong style=\"color:#cdcd00\">super-sweep-57</strong> at: <a href='https://wandb.ai/siddharth-s/FODL_Assignment_1/runs/l03nl0gh' target=\"_blank\">https://wandb.ai/siddharth-s/FODL_Assignment_1/runs/l03nl0gh</a><br/>Synced 5 W&B file(s), 0 media file(s), 0 artifact file(s) and 0 other file(s)"
            ],
            "text/plain": [
              "<IPython.core.display.HTML object>"
            ]
          },
          "metadata": {},
          "output_type": "display_data"
        },
        {
          "data": {
            "text/html": [
              "Find logs at: <code>./wandb/run-20230319_014629-l03nl0gh/logs</code>"
            ],
            "text/plain": [
              "<IPython.core.display.HTML object>"
            ]
          },
          "metadata": {},
          "output_type": "display_data"
        },
        {
          "name": "stderr",
          "output_type": "stream",
          "text": [
            "\u001b[34m\u001b[1mwandb\u001b[0m: Sweep Agent: Waiting for job.\n",
            "\u001b[34m\u001b[1mwandb\u001b[0m: Job received.\n",
            "\u001b[34m\u001b[1mwandb\u001b[0m: Agent Starting Run: t5h73ukj with config:\n",
            "\u001b[34m\u001b[1mwandb\u001b[0m: \tactivation_function: tanh\n",
            "\u001b[34m\u001b[1mwandb\u001b[0m: \tinitialization_type: random\n",
            "\u001b[34m\u001b[1mwandb\u001b[0m: \tlambd: 0.0005\n",
            "\u001b[34m\u001b[1mwandb\u001b[0m: \tlearning_rate: 0.0001\n",
            "\u001b[34m\u001b[1mwandb\u001b[0m: \tmax_epochs: 5\n",
            "\u001b[34m\u001b[1mwandb\u001b[0m: \tmini_batch_size: 64\n",
            "\u001b[34m\u001b[1mwandb\u001b[0m: \tnumber_hidden_layers: 4\n",
            "\u001b[34m\u001b[1mwandb\u001b[0m: \tnumber_neurons: 128\n",
            "\u001b[34m\u001b[1mwandb\u001b[0m: \toptimization_function: adam\n"
          ]
        },
        {
          "data": {
            "text/html": [
              "Tracking run with wandb version 0.14.0"
            ],
            "text/plain": [
              "<IPython.core.display.HTML object>"
            ]
          },
          "metadata": {},
          "output_type": "display_data"
        },
        {
          "data": {
            "text/html": [
              "Run data is saved locally in <code>/content/wandb/run-20230319_015710-t5h73ukj</code>"
            ],
            "text/plain": [
              "<IPython.core.display.HTML object>"
            ]
          },
          "metadata": {},
          "output_type": "display_data"
        },
        {
          "data": {
            "text/html": [
              "Syncing run <strong><a href='https://wandb.ai/siddharth-s/FODL_Assignment_1/runs/t5h73ukj' target=\"_blank\">sweepy-sweep-58</a></strong> to <a href='https://wandb.ai/siddharth-s/FODL_Assignment_1' target=\"_blank\">Weights & Biases</a> (<a href='https://wandb.me/run' target=\"_blank\">docs</a>)<br/>Sweep page: <a href='https://wandb.ai/siddharth-s/FODL_Assignment_1/sweeps/pqng4xvs' target=\"_blank\">https://wandb.ai/siddharth-s/FODL_Assignment_1/sweeps/pqng4xvs</a>"
            ],
            "text/plain": [
              "<IPython.core.display.HTML object>"
            ]
          },
          "metadata": {},
          "output_type": "display_data"
        },
        {
          "data": {
            "text/html": [
              " View project at <a href='https://wandb.ai/siddharth-s/FODL_Assignment_1' target=\"_blank\">https://wandb.ai/siddharth-s/FODL_Assignment_1</a>"
            ],
            "text/plain": [
              "<IPython.core.display.HTML object>"
            ]
          },
          "metadata": {},
          "output_type": "display_data"
        },
        {
          "data": {
            "text/html": [
              " View sweep at <a href='https://wandb.ai/siddharth-s/FODL_Assignment_1/sweeps/pqng4xvs' target=\"_blank\">https://wandb.ai/siddharth-s/FODL_Assignment_1/sweeps/pqng4xvs</a>"
            ],
            "text/plain": [
              "<IPython.core.display.HTML object>"
            ]
          },
          "metadata": {},
          "output_type": "display_data"
        },
        {
          "data": {
            "text/html": [
              " View run at <a href='https://wandb.ai/siddharth-s/FODL_Assignment_1/runs/t5h73ukj' target=\"_blank\">https://wandb.ai/siddharth-s/FODL_Assignment_1/runs/t5h73ukj</a>"
            ],
            "text/plain": [
              "<IPython.core.display.HTML object>"
            ]
          },
          "metadata": {},
          "output_type": "display_data"
        },
        {
          "name": "stderr",
          "output_type": "stream",
          "text": [
            "\r  0%|          | 0/5 [00:00<?, ?it/s]"
          ]
        }
      ],
      "source": [
        "do_sweep(entity_name,project_name)"
      ]
    },
    {
      "cell_type": "markdown",
      "metadata": {
        "id": "9Lmq_xnQyjdz"
      },
      "source": [
        "Plotting Confusion Matrix\n"
      ]
    },
    {
      "cell_type": "code",
      "execution_count": null,
      "metadata": {
        "colab": {
          "base_uri": "https://localhost:8080/",
          "height": 683,
          "referenced_widgets": [
            "ac442479282e4b19b060bd17a8ab36c8",
            "e4b6e3af26d048de81a68598d1228695",
            "5e5d295c656b4455a871809b669c7228",
            "8f8abec529ca4d68a7d79ec44ff9aa8b",
            "325f5efe6649471b971b5ce1bfcbcf87",
            "e7fb71a9b6ac4e80bea9c66725f9346d",
            "fad94e8e2ed84a56885459ffdae018fd",
            "3b3d2cdb61924c268f31a6f8f50a205b",
            "e751ea94a8be44298a08e04513a24eb5",
            "a9baccb61b12407ab354d88f6bdd5faf",
            "005a1eedb85b475b86191750098e6ec7",
            "454d2a2785034e79b1b32644a7f40267",
            "6883b329bdc34b31af8f63e9a38fa9d5",
            "d89130e8753c4605bdd24e5a0753d378",
            "2f7325b2c6734e96bf94a18d32e491f6",
            "e6fc5e31718b47dba8cb4939e4a79b69"
          ]
        },
        "id": "dXp1_n-quxi8",
        "outputId": "eb42c626-be37-4d03-8127-29529fe7bc8a"
      },
      "outputs": [
        {
          "data": {
            "text/html": [
              "Finishing last run (ID:cpokwcoj) before initializing another..."
            ],
            "text/plain": [
              "<IPython.core.display.HTML object>"
            ]
          },
          "metadata": {},
          "output_type": "display_data"
        },
        {
          "data": {
            "text/html": [
              "Waiting for W&B process to finish... <strong style=\"color:green\">(success).</strong>"
            ],
            "text/plain": [
              "<IPython.core.display.HTML object>"
            ]
          },
          "metadata": {},
          "output_type": "display_data"
        },
        {
          "data": {
            "application/vnd.jupyter.widget-view+json": {
              "model_id": "ac442479282e4b19b060bd17a8ab36c8",
              "version_major": 2,
              "version_minor": 0
            },
            "text/plain": [
              "VBox(children=(Label(value='0.001 MB of 0.001 MB uploaded (0.000 MB deduped)\\r'), FloatProgress(value=1.0, max…"
            ]
          },
          "metadata": {},
          "output_type": "display_data"
        },
        {
          "data": {
            "text/html": [
              " View run <strong style=\"color:#cdcd00\">polished-monkey-206</strong> at: <a href='https://wandb.ai/siddharth-s/FODL_Assignment_1/runs/cpokwcoj' target=\"_blank\">https://wandb.ai/siddharth-s/FODL_Assignment_1/runs/cpokwcoj</a><br/>Synced 5 W&B file(s), 0 media file(s), 0 artifact file(s) and 0 other file(s)"
            ],
            "text/plain": [
              "<IPython.core.display.HTML object>"
            ]
          },
          "metadata": {},
          "output_type": "display_data"
        },
        {
          "data": {
            "text/html": [
              "Find logs at: <code>./wandb/run-20230318_053019-cpokwcoj/logs</code>"
            ],
            "text/plain": [
              "<IPython.core.display.HTML object>"
            ]
          },
          "metadata": {},
          "output_type": "display_data"
        },
        {
          "data": {
            "text/html": [
              "Successfully finished last run (ID:cpokwcoj). Initializing new run:<br/>"
            ],
            "text/plain": [
              "<IPython.core.display.HTML object>"
            ]
          },
          "metadata": {},
          "output_type": "display_data"
        },
        {
          "data": {
            "text/html": [
              "Tracking run with wandb version 0.14.0"
            ],
            "text/plain": [
              "<IPython.core.display.HTML object>"
            ]
          },
          "metadata": {},
          "output_type": "display_data"
        },
        {
          "data": {
            "text/html": [
              "Run data is saved locally in <code>/content/wandb/run-20230318_053533-nztkt7y6</code>"
            ],
            "text/plain": [
              "<IPython.core.display.HTML object>"
            ]
          },
          "metadata": {},
          "output_type": "display_data"
        },
        {
          "data": {
            "text/html": [
              "Syncing run <strong><a href='https://wandb.ai/siddharth-s/FODL_Assignment_1/runs/nztkt7y6' target=\"_blank\">brisk-field-207</a></strong> to <a href='https://wandb.ai/siddharth-s/FODL_Assignment_1' target=\"_blank\">Weights & Biases</a> (<a href='https://wandb.me/run' target=\"_blank\">docs</a>)<br/>"
            ],
            "text/plain": [
              "<IPython.core.display.HTML object>"
            ]
          },
          "metadata": {},
          "output_type": "display_data"
        },
        {
          "data": {
            "text/html": [
              " View project at <a href='https://wandb.ai/siddharth-s/FODL_Assignment_1' target=\"_blank\">https://wandb.ai/siddharth-s/FODL_Assignment_1</a>"
            ],
            "text/plain": [
              "<IPython.core.display.HTML object>"
            ]
          },
          "metadata": {},
          "output_type": "display_data"
        },
        {
          "data": {
            "text/html": [
              " View run at <a href='https://wandb.ai/siddharth-s/FODL_Assignment_1/runs/nztkt7y6' target=\"_blank\">https://wandb.ai/siddharth-s/FODL_Assignment_1/runs/nztkt7y6</a>"
            ],
            "text/plain": [
              "<IPython.core.display.HTML object>"
            ]
          },
          "metadata": {},
          "output_type": "display_data"
        },
        {
          "name": "stderr",
          "output_type": "stream",
          "text": [
            "100%|██████████| 5/5 [09:48<00:00, 117.74s/it]\n"
          ]
        },
        {
          "name": "stdout",
          "output_type": "stream",
          "text": [
            "Test Accuracy: 80.01\n"
          ]
        },
        {
          "name": "stderr",
          "output_type": "stream",
          "text": [
            "\u001b[34m\u001b[1mwandb\u001b[0m: \u001b[33mWARNING\u001b[0m Calling wandb.run.save without any arguments is deprecated.Changes to attributes are automatically persisted.\n"
          ]
        },
        {
          "data": {
            "text/html": [
              "Waiting for W&B process to finish... <strong style=\"color:green\">(success).</strong>"
            ],
            "text/plain": [
              "<IPython.core.display.HTML object>"
            ]
          },
          "metadata": {},
          "output_type": "display_data"
        },
        {
          "data": {
            "application/vnd.jupyter.widget-view+json": {
              "model_id": "e751ea94a8be44298a08e04513a24eb5",
              "version_major": 2,
              "version_minor": 0
            },
            "text/plain": [
              "VBox(children=(Label(value='0.004 MB of 0.007 MB uploaded (0.000 MB deduped)\\r'), FloatProgress(value=0.599372…"
            ]
          },
          "metadata": {},
          "output_type": "display_data"
        },
        {
          "data": {
            "text/html": [
              "<style>\n",
              "    table.wandb td:nth-child(1) { padding: 0 10px; text-align: left ; width: auto;} td:nth-child(2) {text-align: left ; width: 100%}\n",
              "    .wandb-row { display: flex; flex-direction: row; flex-wrap: wrap; justify-content: flex-start; width: 100% }\n",
              "    .wandb-col { display: flex; flex-direction: column; flex-basis: 100%; flex: 1; padding: 10px; }\n",
              "    </style>\n",
              "<div class=\"wandb-row\"><div class=\"wandb-col\"><h3>Run history:</h3><br/><table class=\"wandb\"><tr><td>Test Accuracy</td><td>▁</td></tr><tr><td>Train_Accuracy</td><td>▁▅▆▆█</td></tr><tr><td>Train_Loss</td><td>█▁▂▃▁</td></tr><tr><td>Validation_Accuracy</td><td>▁▅▆▆█</td></tr><tr><td>Validation_loss</td><td>█▁▂▃▁</td></tr><tr><td>epoch</td><td>▁▃▅▆█</td></tr></table><br/></div><div class=\"wandb-col\"><h3>Run summary:</h3><br/><table class=\"wandb\"><tr><td>Test Accuracy</td><td>80.01</td></tr><tr><td>Train_Accuracy</td><td>81.25926</td></tr><tr><td>Train_Loss</td><td>0.91054</td></tr><tr><td>Validation_Accuracy</td><td>81.13333</td></tr><tr><td>Validation_loss</td><td>0.93966</td></tr><tr><td>epoch</td><td>4</td></tr></table><br/></div></div>"
            ],
            "text/plain": [
              "<IPython.core.display.HTML object>"
            ]
          },
          "metadata": {},
          "output_type": "display_data"
        },
        {
          "data": {
            "text/html": [
              " View run <strong style=\"color:#cdcd00\">brisk-field-207</strong> at: <a href='https://wandb.ai/siddharth-s/FODL_Assignment_1/runs/nztkt7y6' target=\"_blank\">https://wandb.ai/siddharth-s/FODL_Assignment_1/runs/nztkt7y6</a><br/>Synced 5 W&B file(s), 1 media file(s), 1 artifact file(s) and 0 other file(s)"
            ],
            "text/plain": [
              "<IPython.core.display.HTML object>"
            ]
          },
          "metadata": {},
          "output_type": "display_data"
        },
        {
          "data": {
            "text/html": [
              "Find logs at: <code>./wandb/run-20230318_053533-nztkt7y6/logs</code>"
            ],
            "text/plain": [
              "<IPython.core.display.HTML object>"
            ]
          },
          "metadata": {},
          "output_type": "display_data"
        }
      ],
      "source": [
        "# Hyperparameters with highest validation accuracy: 86.833\n",
        "activation_function= \"tanh\"\n",
        "initialization_type= \"xavier\"\n",
        "lambd=0\n",
        "learning_rate=0.001\n",
        "max_epochs=5\n",
        "mini_batch_size=16\n",
        "number_hidden_layers=5\n",
        "number_neurons=128\n",
        "optimization_function=nadam\n",
        "loss_function = \"cross_entropy\"\n",
        "\n",
        "layers=[784]\n",
        "for i in range(number_hidden_layers):\n",
        "  layers=layers+[number_neurons]\n",
        "layers=layers+[10]\n",
        "\n",
        "\n",
        "config_confmat = {\n",
        "      'number_hidden_layers': 5,\n",
        "      'number_neurons': 128,\n",
        "      'learning_rate': 0.0001,\n",
        "      'initialization_type': \"xavier\",\n",
        "      'activation_function':'tanh',\n",
        "      'mini_batch_size' : 16,\n",
        "      'max_epochs': 5,\n",
        "      'lambd': 0,\n",
        "      'optimization_function': \"nadam\"\n",
        "  }\n",
        "\n",
        "wandb.init(config=config_confmat,entity=entity_name, project=project_name)\n",
        "wandb.run.name=\"Confusion_matrix\"\n",
        "wandb_log=True\n",
        "\n",
        "w=weights(layers)\n",
        "parameters = w.weight_init(init_type = initialization_type)\n",
        "parameters, train_acc, val_acc = gradient_descent(X_train, y_train,learning_rate, max_epochs, layers, mini_batch_size, lambd, loss_function, activation_function, parameters,optimization_function,wandb_log)\n",
        "res = run_inference(X_test,y_test, parameters, activation_function, layers)\n",
        "\n",
        "\n",
        "accuracy=accuracy_calc(res,y_test)\n",
        "print(\"Test Accuracy:\",accuracy)\n",
        "#converting 1 hot labels to class ids\n",
        "\n",
        "y=[]\n",
        "\n",
        "for i in range(len(y_test)):\n",
        "  y.append(y_test[i].argmax())\n",
        "\n",
        "y_hat=[]\n",
        "\n",
        "for i in range(len(res)):\n",
        "  y_hat.append(res[i].argmax())\n",
        "\n",
        "wandb.log({\"conf_mat\":wandb.plot.confusion_matrix(preds=y_hat,y_true=y,class_names=labels),\"Test Accuracy\": accuracy}) \n",
        "    \n",
        "wandb.run.save()\n",
        "wandb.run.finish()\n",
        "\n"
      ]
    },
    {
      "cell_type": "markdown",
      "metadata": {
        "id": "2Yg3Xu6c5UiS"
      },
      "source": [
        "Cross Entropy vs Mean Squared Error Comparison"
      ]
    },
    {
      "cell_type": "code",
      "execution_count": null,
      "metadata": {
        "id": "Vd0iK1RQ5Lmq"
      },
      "outputs": [],
      "source": [
        "def compare_loss(entity_name,project_name):\n",
        "\n",
        "\n",
        "  #We fix all hyperparameters except for the loss function \n",
        "  hyperparameters = {\n",
        "      \"learning_rate\":{\n",
        "        'values': [0.0001]\n",
        "      },\n",
        "\n",
        "      \"number_hidden_layers\": {\n",
        "          'values' : [5]\n",
        "      },\n",
        "\n",
        "      \"number_neurons\": {\n",
        "        'values': [128]\n",
        "      },\n",
        "\n",
        "      \"initialization_type\": {\n",
        "          'values' : [\"xavier\"]\n",
        "      },\n",
        "\n",
        "      \"activation_function\": {\n",
        "          'values': [\"tanh\"]\n",
        "      },\n",
        "\n",
        "      \"mini_batch_size\": {\n",
        "          'values': [16]\n",
        "      },\n",
        "\n",
        "      \"max_epochs\": {\n",
        "          'values': [5]\n",
        "      },\n",
        "\n",
        "      \"loss_function\": {\n",
        "          'values' : [\"cross_entropy\",\"squared_loss\"]      \n",
        "          \n",
        "      },\n",
        "\n",
        "      \"lambd\": {\n",
        "          'values': [0.0005]\n",
        "      },\n",
        "\n",
        "      \"optimization_function\": {\n",
        "          'values': [\"adam\"]\n",
        "      }\n",
        "\n",
        "  }\n",
        "\n",
        "\n",
        "  sweep_config = {\n",
        "      'method' : 'bayes',\n",
        "      'metric' :{\n",
        "          'name': 'Validation_Accuracy',\n",
        "          'goal': 'maximize'\n",
        "      },\n",
        "      'parameters': hyperparameters\n",
        "  }\n",
        "\n",
        "  sweep_id = wandb.sweep(sweep_config, entity=entity_name, project=project_name)\n",
        "  wandb.agent(sweep_id, train)"
      ]
    },
    {
      "cell_type": "code",
      "execution_count": null,
      "metadata": {
        "colab": {
          "base_uri": "https://localhost:8080/",
          "height": 1000,
          "referenced_widgets": [
            "2247bbcea60a4683b4734e411c6d6bf8",
            "1337ee8de3604147b60c993d3c2e36ce",
            "5e787da663554d0eabbf5174130efe07",
            "9a898d0a71a549f5ba4801e74fee110c",
            "c185c09d48854fdea464c44c4880f3c5",
            "36c8247a869240c2bdf24cd91341f332",
            "ea6f6f7fdba7430fac78f402a87e240c",
            "8798ccb6f8eb41a3bbadcf6d122dfa72"
          ]
        },
        "id": "Wof9TyIl6bR2",
        "outputId": "3af704b1-1f40-41a0-8c95-f6e27b7b5c3e"
      },
      "outputs": [
        {
          "name": "stdout",
          "output_type": "stream",
          "text": [
            "Create sweep with ID: lzx4xd41\n",
            "Sweep URL: https://wandb.ai/siddharth-s/FODL_Assignment_1/sweeps/lzx4xd41\n"
          ]
        },
        {
          "name": "stderr",
          "output_type": "stream",
          "text": [
            "\u001b[34m\u001b[1mwandb\u001b[0m: Agent Starting Run: dze0k74q with config:\n",
            "\u001b[34m\u001b[1mwandb\u001b[0m: \tactivation_function: tanh\n",
            "\u001b[34m\u001b[1mwandb\u001b[0m: \tinitialization_type: xavier\n",
            "\u001b[34m\u001b[1mwandb\u001b[0m: \tlambd: 0.0005\n",
            "\u001b[34m\u001b[1mwandb\u001b[0m: \tlearning_rate: 0.0001\n",
            "\u001b[34m\u001b[1mwandb\u001b[0m: \tloss_function: squared_loss\n",
            "\u001b[34m\u001b[1mwandb\u001b[0m: \tmax_epochs: 5\n",
            "\u001b[34m\u001b[1mwandb\u001b[0m: \tmini_batch_size: 16\n",
            "\u001b[34m\u001b[1mwandb\u001b[0m: \tnumber_hidden_layers: 5\n",
            "\u001b[34m\u001b[1mwandb\u001b[0m: \tnumber_neurons: 128\n",
            "\u001b[34m\u001b[1mwandb\u001b[0m: \toptimization_function: adam\n"
          ]
        },
        {
          "data": {
            "text/html": [
              "Tracking run with wandb version 0.14.0"
            ],
            "text/plain": [
              "<IPython.core.display.HTML object>"
            ]
          },
          "metadata": {},
          "output_type": "display_data"
        },
        {
          "data": {
            "text/html": [
              "Run data is saved locally in <code>/content/wandb/run-20230318_185105-dze0k74q</code>"
            ],
            "text/plain": [
              "<IPython.core.display.HTML object>"
            ]
          },
          "metadata": {},
          "output_type": "display_data"
        },
        {
          "data": {
            "text/html": [
              "Syncing run <strong><a href='https://wandb.ai/siddharth-s/FODL_Assignment_1/runs/dze0k74q' target=\"_blank\">dazzling-sweep-1</a></strong> to <a href='https://wandb.ai/siddharth-s/FODL_Assignment_1' target=\"_blank\">Weights & Biases</a> (<a href='https://wandb.me/run' target=\"_blank\">docs</a>)<br/>Sweep page: <a href='https://wandb.ai/siddharth-s/FODL_Assignment_1/sweeps/lzx4xd41' target=\"_blank\">https://wandb.ai/siddharth-s/FODL_Assignment_1/sweeps/lzx4xd41</a>"
            ],
            "text/plain": [
              "<IPython.core.display.HTML object>"
            ]
          },
          "metadata": {},
          "output_type": "display_data"
        },
        {
          "data": {
            "text/html": [
              " View project at <a href='https://wandb.ai/siddharth-s/FODL_Assignment_1' target=\"_blank\">https://wandb.ai/siddharth-s/FODL_Assignment_1</a>"
            ],
            "text/plain": [
              "<IPython.core.display.HTML object>"
            ]
          },
          "metadata": {},
          "output_type": "display_data"
        },
        {
          "data": {
            "text/html": [
              " View sweep at <a href='https://wandb.ai/siddharth-s/FODL_Assignment_1/sweeps/lzx4xd41' target=\"_blank\">https://wandb.ai/siddharth-s/FODL_Assignment_1/sweeps/lzx4xd41</a>"
            ],
            "text/plain": [
              "<IPython.core.display.HTML object>"
            ]
          },
          "metadata": {},
          "output_type": "display_data"
        },
        {
          "data": {
            "text/html": [
              " View run at <a href='https://wandb.ai/siddharth-s/FODL_Assignment_1/runs/dze0k74q' target=\"_blank\">https://wandb.ai/siddharth-s/FODL_Assignment_1/runs/dze0k74q</a>"
            ],
            "text/plain": [
              "<IPython.core.display.HTML object>"
            ]
          },
          "metadata": {},
          "output_type": "display_data"
        },
        {
          "name": "stderr",
          "output_type": "stream",
          "text": [
            "100%|██████████| 5/5 [03:55<00:00, 47.02s/it]"
          ]
        },
        {
          "name": "stdout",
          "output_type": "stream",
          "text": [
            "Training Accuracy: 88.20185185185186\n",
            "Validation Accuracy: 86.11666666666666\n"
          ]
        },
        {
          "name": "stderr",
          "output_type": "stream",
          "text": [
            "\n"
          ]
        },
        {
          "data": {
            "text/html": [
              "Waiting for W&B process to finish... <strong style=\"color:green\">(success).</strong>"
            ],
            "text/plain": [
              "<IPython.core.display.HTML object>"
            ]
          },
          "metadata": {},
          "output_type": "display_data"
        },
        {
          "data": {
            "text/html": [
              "<style>\n",
              "    table.wandb td:nth-child(1) { padding: 0 10px; text-align: left ; width: auto;} td:nth-child(2) {text-align: left ; width: 100%}\n",
              "    .wandb-row { display: flex; flex-direction: row; flex-wrap: wrap; justify-content: flex-start; width: 100% }\n",
              "    .wandb-col { display: flex; flex-direction: column; flex-basis: 100%; flex: 1; padding: 10px; }\n",
              "    </style>\n",
              "<div class=\"wandb-row\"><div class=\"wandb-col\"><h3>Run history:</h3><br/><table class=\"wandb\"><tr><td>Train_Accuracy</td><td>▁▅▆▇█</td></tr><tr><td>Train_Loss</td><td>█▄▃▂▁</td></tr><tr><td>Validation_Accuracy</td><td>▁▅▇▇█</td></tr><tr><td>Validation_loss</td><td>█▄▃▂▁</td></tr><tr><td>epoch</td><td>▁▃▅▆█</td></tr></table><br/></div><div class=\"wandb-col\"><h3>Run summary:</h3><br/><table class=\"wandb\"><tr><td>Train_Accuracy</td><td>88.20185</td></tr><tr><td>Train_Loss</td><td>0.08676</td></tr><tr><td>Validation_Accuracy</td><td>86.11667</td></tr><tr><td>Validation_loss</td><td>0.09917</td></tr><tr><td>epoch</td><td>4</td></tr></table><br/></div></div>"
            ],
            "text/plain": [
              "<IPython.core.display.HTML object>"
            ]
          },
          "metadata": {},
          "output_type": "display_data"
        },
        {
          "data": {
            "text/html": [
              " View run <strong style=\"color:#cdcd00\">dazzling-sweep-1</strong> at: <a href='https://wandb.ai/siddharth-s/FODL_Assignment_1/runs/dze0k74q' target=\"_blank\">https://wandb.ai/siddharth-s/FODL_Assignment_1/runs/dze0k74q</a><br/>Synced 5 W&B file(s), 0 media file(s), 0 artifact file(s) and 0 other file(s)"
            ],
            "text/plain": [
              "<IPython.core.display.HTML object>"
            ]
          },
          "metadata": {},
          "output_type": "display_data"
        },
        {
          "data": {
            "text/html": [
              "Find logs at: <code>./wandb/run-20230318_185105-dze0k74q/logs</code>"
            ],
            "text/plain": [
              "<IPython.core.display.HTML object>"
            ]
          },
          "metadata": {},
          "output_type": "display_data"
        },
        {
          "name": "stderr",
          "output_type": "stream",
          "text": [
            "\u001b[34m\u001b[1mwandb\u001b[0m: Agent Starting Run: vqcdjw6s with config:\n",
            "\u001b[34m\u001b[1mwandb\u001b[0m: \tactivation_function: tanh\n",
            "\u001b[34m\u001b[1mwandb\u001b[0m: \tinitialization_type: xavier\n",
            "\u001b[34m\u001b[1mwandb\u001b[0m: \tlambd: 0.0005\n",
            "\u001b[34m\u001b[1mwandb\u001b[0m: \tlearning_rate: 0.0001\n",
            "\u001b[34m\u001b[1mwandb\u001b[0m: \tloss_function: squared_loss\n",
            "\u001b[34m\u001b[1mwandb\u001b[0m: \tmax_epochs: 5\n",
            "\u001b[34m\u001b[1mwandb\u001b[0m: \tmini_batch_size: 16\n",
            "\u001b[34m\u001b[1mwandb\u001b[0m: \tnumber_hidden_layers: 5\n",
            "\u001b[34m\u001b[1mwandb\u001b[0m: \tnumber_neurons: 128\n",
            "\u001b[34m\u001b[1mwandb\u001b[0m: \toptimization_function: adam\n"
          ]
        },
        {
          "data": {
            "text/html": [
              "Tracking run with wandb version 0.14.0"
            ],
            "text/plain": [
              "<IPython.core.display.HTML object>"
            ]
          },
          "metadata": {},
          "output_type": "display_data"
        },
        {
          "data": {
            "text/html": [
              "Run data is saved locally in <code>/content/wandb/run-20230318_185513-vqcdjw6s</code>"
            ],
            "text/plain": [
              "<IPython.core.display.HTML object>"
            ]
          },
          "metadata": {},
          "output_type": "display_data"
        },
        {
          "data": {
            "text/html": [
              "Syncing run <strong><a href='https://wandb.ai/siddharth-s/FODL_Assignment_1/runs/vqcdjw6s' target=\"_blank\">peachy-sweep-2</a></strong> to <a href='https://wandb.ai/siddharth-s/FODL_Assignment_1' target=\"_blank\">Weights & Biases</a> (<a href='https://wandb.me/run' target=\"_blank\">docs</a>)<br/>Sweep page: <a href='https://wandb.ai/siddharth-s/FODL_Assignment_1/sweeps/lzx4xd41' target=\"_blank\">https://wandb.ai/siddharth-s/FODL_Assignment_1/sweeps/lzx4xd41</a>"
            ],
            "text/plain": [
              "<IPython.core.display.HTML object>"
            ]
          },
          "metadata": {},
          "output_type": "display_data"
        },
        {
          "data": {
            "text/html": [
              " View project at <a href='https://wandb.ai/siddharth-s/FODL_Assignment_1' target=\"_blank\">https://wandb.ai/siddharth-s/FODL_Assignment_1</a>"
            ],
            "text/plain": [
              "<IPython.core.display.HTML object>"
            ]
          },
          "metadata": {},
          "output_type": "display_data"
        },
        {
          "data": {
            "text/html": [
              " View sweep at <a href='https://wandb.ai/siddharth-s/FODL_Assignment_1/sweeps/lzx4xd41' target=\"_blank\">https://wandb.ai/siddharth-s/FODL_Assignment_1/sweeps/lzx4xd41</a>"
            ],
            "text/plain": [
              "<IPython.core.display.HTML object>"
            ]
          },
          "metadata": {},
          "output_type": "display_data"
        },
        {
          "data": {
            "text/html": [
              " View run at <a href='https://wandb.ai/siddharth-s/FODL_Assignment_1/runs/vqcdjw6s' target=\"_blank\">https://wandb.ai/siddharth-s/FODL_Assignment_1/runs/vqcdjw6s</a>"
            ],
            "text/plain": [
              "<IPython.core.display.HTML object>"
            ]
          },
          "metadata": {},
          "output_type": "display_data"
        },
        {
          "name": "stderr",
          "output_type": "stream",
          "text": [
            "100%|██████████| 5/5 [03:55<00:00, 47.15s/it]"
          ]
        },
        {
          "name": "stdout",
          "output_type": "stream",
          "text": [
            "Training Accuracy: 87.96481481481482\n",
            "Validation Accuracy: 86.26666666666667\n"
          ]
        },
        {
          "name": "stderr",
          "output_type": "stream",
          "text": [
            "\n"
          ]
        },
        {
          "data": {
            "text/html": [
              "Waiting for W&B process to finish... <strong style=\"color:green\">(success).</strong>"
            ],
            "text/plain": [
              "<IPython.core.display.HTML object>"
            ]
          },
          "metadata": {},
          "output_type": "display_data"
        },
        {
          "data": {
            "text/html": [
              "<style>\n",
              "    table.wandb td:nth-child(1) { padding: 0 10px; text-align: left ; width: auto;} td:nth-child(2) {text-align: left ; width: 100%}\n",
              "    .wandb-row { display: flex; flex-direction: row; flex-wrap: wrap; justify-content: flex-start; width: 100% }\n",
              "    .wandb-col { display: flex; flex-direction: column; flex-basis: 100%; flex: 1; padding: 10px; }\n",
              "    </style>\n",
              "<div class=\"wandb-row\"><div class=\"wandb-col\"><h3>Run history:</h3><br/><table class=\"wandb\"><tr><td>Train_Accuracy</td><td>▁▅▆▇█</td></tr><tr><td>Train_Loss</td><td>█▄▃▂▁</td></tr><tr><td>Validation_Accuracy</td><td>▁▅▇▇█</td></tr><tr><td>Validation_loss</td><td>█▄▂▂▁</td></tr><tr><td>epoch</td><td>▁▃▅▆█</td></tr></table><br/></div><div class=\"wandb-col\"><h3>Run summary:</h3><br/><table class=\"wandb\"><tr><td>Train_Accuracy</td><td>87.96481</td></tr><tr><td>Train_Loss</td><td>0.08799</td></tr><tr><td>Validation_Accuracy</td><td>86.26667</td></tr><tr><td>Validation_loss</td><td>0.09958</td></tr><tr><td>epoch</td><td>4</td></tr></table><br/></div></div>"
            ],
            "text/plain": [
              "<IPython.core.display.HTML object>"
            ]
          },
          "metadata": {},
          "output_type": "display_data"
        },
        {
          "data": {
            "text/html": [
              " View run <strong style=\"color:#cdcd00\">peachy-sweep-2</strong> at: <a href='https://wandb.ai/siddharth-s/FODL_Assignment_1/runs/vqcdjw6s' target=\"_blank\">https://wandb.ai/siddharth-s/FODL_Assignment_1/runs/vqcdjw6s</a><br/>Synced 5 W&B file(s), 0 media file(s), 0 artifact file(s) and 0 other file(s)"
            ],
            "text/plain": [
              "<IPython.core.display.HTML object>"
            ]
          },
          "metadata": {},
          "output_type": "display_data"
        },
        {
          "data": {
            "text/html": [
              "Find logs at: <code>./wandb/run-20230318_185513-vqcdjw6s/logs</code>"
            ],
            "text/plain": [
              "<IPython.core.display.HTML object>"
            ]
          },
          "metadata": {},
          "output_type": "display_data"
        },
        {
          "name": "stderr",
          "output_type": "stream",
          "text": [
            "\u001b[34m\u001b[1mwandb\u001b[0m: Agent Starting Run: cav8chm1 with config:\n",
            "\u001b[34m\u001b[1mwandb\u001b[0m: \tactivation_function: tanh\n",
            "\u001b[34m\u001b[1mwandb\u001b[0m: \tinitialization_type: xavier\n",
            "\u001b[34m\u001b[1mwandb\u001b[0m: \tlambd: 0.0005\n",
            "\u001b[34m\u001b[1mwandb\u001b[0m: \tlearning_rate: 0.0001\n",
            "\u001b[34m\u001b[1mwandb\u001b[0m: \tloss_function: cross_entropy\n",
            "\u001b[34m\u001b[1mwandb\u001b[0m: \tmax_epochs: 5\n",
            "\u001b[34m\u001b[1mwandb\u001b[0m: \tmini_batch_size: 16\n",
            "\u001b[34m\u001b[1mwandb\u001b[0m: \tnumber_hidden_layers: 5\n",
            "\u001b[34m\u001b[1mwandb\u001b[0m: \tnumber_neurons: 128\n",
            "\u001b[34m\u001b[1mwandb\u001b[0m: \toptimization_function: adam\n"
          ]
        },
        {
          "data": {
            "text/html": [
              "Tracking run with wandb version 0.14.0"
            ],
            "text/plain": [
              "<IPython.core.display.HTML object>"
            ]
          },
          "metadata": {},
          "output_type": "display_data"
        },
        {
          "data": {
            "text/html": [
              "Run data is saved locally in <code>/content/wandb/run-20230318_185921-cav8chm1</code>"
            ],
            "text/plain": [
              "<IPython.core.display.HTML object>"
            ]
          },
          "metadata": {},
          "output_type": "display_data"
        },
        {
          "data": {
            "text/html": [
              "Syncing run <strong><a href='https://wandb.ai/siddharth-s/FODL_Assignment_1/runs/cav8chm1' target=\"_blank\">fluent-sweep-3</a></strong> to <a href='https://wandb.ai/siddharth-s/FODL_Assignment_1' target=\"_blank\">Weights & Biases</a> (<a href='https://wandb.me/run' target=\"_blank\">docs</a>)<br/>Sweep page: <a href='https://wandb.ai/siddharth-s/FODL_Assignment_1/sweeps/lzx4xd41' target=\"_blank\">https://wandb.ai/siddharth-s/FODL_Assignment_1/sweeps/lzx4xd41</a>"
            ],
            "text/plain": [
              "<IPython.core.display.HTML object>"
            ]
          },
          "metadata": {},
          "output_type": "display_data"
        },
        {
          "data": {
            "text/html": [
              " View project at <a href='https://wandb.ai/siddharth-s/FODL_Assignment_1' target=\"_blank\">https://wandb.ai/siddharth-s/FODL_Assignment_1</a>"
            ],
            "text/plain": [
              "<IPython.core.display.HTML object>"
            ]
          },
          "metadata": {},
          "output_type": "display_data"
        },
        {
          "data": {
            "text/html": [
              " View sweep at <a href='https://wandb.ai/siddharth-s/FODL_Assignment_1/sweeps/lzx4xd41' target=\"_blank\">https://wandb.ai/siddharth-s/FODL_Assignment_1/sweeps/lzx4xd41</a>"
            ],
            "text/plain": [
              "<IPython.core.display.HTML object>"
            ]
          },
          "metadata": {},
          "output_type": "display_data"
        },
        {
          "data": {
            "text/html": [
              " View run at <a href='https://wandb.ai/siddharth-s/FODL_Assignment_1/runs/cav8chm1' target=\"_blank\">https://wandb.ai/siddharth-s/FODL_Assignment_1/runs/cav8chm1</a>"
            ],
            "text/plain": [
              "<IPython.core.display.HTML object>"
            ]
          },
          "metadata": {},
          "output_type": "display_data"
        },
        {
          "name": "stderr",
          "output_type": "stream",
          "text": [
            "100%|██████████| 5/5 [03:46<00:00, 45.40s/it]"
          ]
        },
        {
          "name": "stdout",
          "output_type": "stream",
          "text": [
            "Training Accuracy: 87.41666666666667\n",
            "Validation Accuracy: 85.68333333333334\n"
          ]
        },
        {
          "name": "stderr",
          "output_type": "stream",
          "text": [
            "\n"
          ]
        },
        {
          "data": {
            "text/html": [
              "Waiting for W&B process to finish... <strong style=\"color:green\">(success).</strong>"
            ],
            "text/plain": [
              "<IPython.core.display.HTML object>"
            ]
          },
          "metadata": {},
          "output_type": "display_data"
        },
        {
          "data": {
            "application/vnd.jupyter.widget-view+json": {
              "model_id": "2247bbcea60a4683b4734e411c6d6bf8",
              "version_major": 2,
              "version_minor": 0
            },
            "text/plain": [
              "VBox(children=(Label(value='0.001 MB of 0.001 MB uploaded (0.000 MB deduped)\\r'), FloatProgress(value=1.0, max…"
            ]
          },
          "metadata": {},
          "output_type": "display_data"
        },
        {
          "data": {
            "text/html": [
              "<style>\n",
              "    table.wandb td:nth-child(1) { padding: 0 10px; text-align: left ; width: auto;} td:nth-child(2) {text-align: left ; width: 100%}\n",
              "    .wandb-row { display: flex; flex-direction: row; flex-wrap: wrap; justify-content: flex-start; width: 100% }\n",
              "    .wandb-col { display: flex; flex-direction: column; flex-basis: 100%; flex: 1; padding: 10px; }\n",
              "    </style>\n",
              "<div class=\"wandb-row\"><div class=\"wandb-col\"><h3>Run history:</h3><br/><table class=\"wandb\"><tr><td>Train_Accuracy</td><td>▁▅▆▇█</td></tr><tr><td>Train_Loss</td><td>█▄▃▂▁</td></tr><tr><td>Validation_Accuracy</td><td>▁▅▇▇█</td></tr><tr><td>Validation_loss</td><td>█▄▂▂▁</td></tr><tr><td>epoch</td><td>▁▃▅▆█</td></tr></table><br/></div><div class=\"wandb-col\"><h3>Run summary:</h3><br/><table class=\"wandb\"><tr><td>Train_Accuracy</td><td>87.41667</td></tr><tr><td>Train_Loss</td><td>0.35998</td></tr><tr><td>Validation_Accuracy</td><td>85.68333</td></tr><tr><td>Validation_loss</td><td>0.40662</td></tr><tr><td>epoch</td><td>4</td></tr></table><br/></div></div>"
            ],
            "text/plain": [
              "<IPython.core.display.HTML object>"
            ]
          },
          "metadata": {},
          "output_type": "display_data"
        },
        {
          "data": {
            "text/html": [
              " View run <strong style=\"color:#cdcd00\">fluent-sweep-3</strong> at: <a href='https://wandb.ai/siddharth-s/FODL_Assignment_1/runs/cav8chm1' target=\"_blank\">https://wandb.ai/siddharth-s/FODL_Assignment_1/runs/cav8chm1</a><br/>Synced 5 W&B file(s), 0 media file(s), 0 artifact file(s) and 0 other file(s)"
            ],
            "text/plain": [
              "<IPython.core.display.HTML object>"
            ]
          },
          "metadata": {},
          "output_type": "display_data"
        },
        {
          "data": {
            "text/html": [
              "Find logs at: <code>./wandb/run-20230318_185921-cav8chm1/logs</code>"
            ],
            "text/plain": [
              "<IPython.core.display.HTML object>"
            ]
          },
          "metadata": {},
          "output_type": "display_data"
        },
        {
          "name": "stderr",
          "output_type": "stream",
          "text": [
            "\u001b[34m\u001b[1mwandb\u001b[0m: Agent Starting Run: zrlo0doc with config:\n",
            "\u001b[34m\u001b[1mwandb\u001b[0m: \tactivation_function: tanh\n",
            "\u001b[34m\u001b[1mwandb\u001b[0m: \tinitialization_type: xavier\n",
            "\u001b[34m\u001b[1mwandb\u001b[0m: \tlambd: 0.0005\n",
            "\u001b[34m\u001b[1mwandb\u001b[0m: \tlearning_rate: 0.0001\n",
            "\u001b[34m\u001b[1mwandb\u001b[0m: \tloss_function: cross_entropy\n",
            "\u001b[34m\u001b[1mwandb\u001b[0m: \tmax_epochs: 5\n",
            "\u001b[34m\u001b[1mwandb\u001b[0m: \tmini_batch_size: 16\n",
            "\u001b[34m\u001b[1mwandb\u001b[0m: \tnumber_hidden_layers: 5\n",
            "\u001b[34m\u001b[1mwandb\u001b[0m: \tnumber_neurons: 128\n",
            "\u001b[34m\u001b[1mwandb\u001b[0m: \toptimization_function: adam\n"
          ]
        },
        {
          "data": {
            "text/html": [
              "Tracking run with wandb version 0.14.0"
            ],
            "text/plain": [
              "<IPython.core.display.HTML object>"
            ]
          },
          "metadata": {},
          "output_type": "display_data"
        },
        {
          "data": {
            "text/html": [
              "Run data is saved locally in <code>/content/wandb/run-20230318_190321-zrlo0doc</code>"
            ],
            "text/plain": [
              "<IPython.core.display.HTML object>"
            ]
          },
          "metadata": {},
          "output_type": "display_data"
        },
        {
          "data": {
            "text/html": [
              "Syncing run <strong><a href='https://wandb.ai/siddharth-s/FODL_Assignment_1/runs/zrlo0doc' target=\"_blank\">stellar-sweep-4</a></strong> to <a href='https://wandb.ai/siddharth-s/FODL_Assignment_1' target=\"_blank\">Weights & Biases</a> (<a href='https://wandb.me/run' target=\"_blank\">docs</a>)<br/>Sweep page: <a href='https://wandb.ai/siddharth-s/FODL_Assignment_1/sweeps/lzx4xd41' target=\"_blank\">https://wandb.ai/siddharth-s/FODL_Assignment_1/sweeps/lzx4xd41</a>"
            ],
            "text/plain": [
              "<IPython.core.display.HTML object>"
            ]
          },
          "metadata": {},
          "output_type": "display_data"
        },
        {
          "data": {
            "text/html": [
              " View project at <a href='https://wandb.ai/siddharth-s/FODL_Assignment_1' target=\"_blank\">https://wandb.ai/siddharth-s/FODL_Assignment_1</a>"
            ],
            "text/plain": [
              "<IPython.core.display.HTML object>"
            ]
          },
          "metadata": {},
          "output_type": "display_data"
        },
        {
          "data": {
            "text/html": [
              " View sweep at <a href='https://wandb.ai/siddharth-s/FODL_Assignment_1/sweeps/lzx4xd41' target=\"_blank\">https://wandb.ai/siddharth-s/FODL_Assignment_1/sweeps/lzx4xd41</a>"
            ],
            "text/plain": [
              "<IPython.core.display.HTML object>"
            ]
          },
          "metadata": {},
          "output_type": "display_data"
        },
        {
          "data": {
            "text/html": [
              " View run at <a href='https://wandb.ai/siddharth-s/FODL_Assignment_1/runs/zrlo0doc' target=\"_blank\">https://wandb.ai/siddharth-s/FODL_Assignment_1/runs/zrlo0doc</a>"
            ],
            "text/plain": [
              "<IPython.core.display.HTML object>"
            ]
          },
          "metadata": {},
          "output_type": "display_data"
        },
        {
          "name": "stderr",
          "output_type": "stream",
          "text": [
            "100%|██████████| 5/5 [03:47<00:00, 45.47s/it]"
          ]
        },
        {
          "name": "stdout",
          "output_type": "stream",
          "text": [
            "Training Accuracy: 87.49259259259259\n",
            "Validation Accuracy: 86.33333333333333\n"
          ]
        },
        {
          "name": "stderr",
          "output_type": "stream",
          "text": [
            "\n"
          ]
        },
        {
          "data": {
            "text/html": [
              "Waiting for W&B process to finish... <strong style=\"color:green\">(success).</strong>"
            ],
            "text/plain": [
              "<IPython.core.display.HTML object>"
            ]
          },
          "metadata": {},
          "output_type": "display_data"
        },
        {
          "data": {
            "text/html": [
              "<style>\n",
              "    table.wandb td:nth-child(1) { padding: 0 10px; text-align: left ; width: auto;} td:nth-child(2) {text-align: left ; width: 100%}\n",
              "    .wandb-row { display: flex; flex-direction: row; flex-wrap: wrap; justify-content: flex-start; width: 100% }\n",
              "    .wandb-col { display: flex; flex-direction: column; flex-basis: 100%; flex: 1; padding: 10px; }\n",
              "    </style>\n",
              "<div class=\"wandb-row\"><div class=\"wandb-col\"><h3>Run history:</h3><br/><table class=\"wandb\"><tr><td>Train_Accuracy</td><td>▁▄▆▇█</td></tr><tr><td>Train_Loss</td><td>█▅▃▂▁</td></tr><tr><td>Validation_Accuracy</td><td>▁▄▆▇█</td></tr><tr><td>Validation_loss</td><td>█▄▃▂▁</td></tr><tr><td>epoch</td><td>▁▃▅▆█</td></tr></table><br/></div><div class=\"wandb-col\"><h3>Run summary:</h3><br/><table class=\"wandb\"><tr><td>Train_Accuracy</td><td>87.49259</td></tr><tr><td>Train_Loss</td><td>0.3546</td></tr><tr><td>Validation_Accuracy</td><td>86.33333</td></tr><tr><td>Validation_loss</td><td>0.40283</td></tr><tr><td>epoch</td><td>4</td></tr></table><br/></div></div>"
            ],
            "text/plain": [
              "<IPython.core.display.HTML object>"
            ]
          },
          "metadata": {},
          "output_type": "display_data"
        },
        {
          "data": {
            "text/html": [
              " View run <strong style=\"color:#cdcd00\">stellar-sweep-4</strong> at: <a href='https://wandb.ai/siddharth-s/FODL_Assignment_1/runs/zrlo0doc' target=\"_blank\">https://wandb.ai/siddharth-s/FODL_Assignment_1/runs/zrlo0doc</a><br/>Synced 5 W&B file(s), 0 media file(s), 0 artifact file(s) and 0 other file(s)"
            ],
            "text/plain": [
              "<IPython.core.display.HTML object>"
            ]
          },
          "metadata": {},
          "output_type": "display_data"
        },
        {
          "data": {
            "text/html": [
              "Find logs at: <code>./wandb/run-20230318_190321-zrlo0doc/logs</code>"
            ],
            "text/plain": [
              "<IPython.core.display.HTML object>"
            ]
          },
          "metadata": {},
          "output_type": "display_data"
        },
        {
          "name": "stderr",
          "output_type": "stream",
          "text": [
            "\u001b[34m\u001b[1mwandb\u001b[0m: Agent Starting Run: 0mfmethm with config:\n",
            "\u001b[34m\u001b[1mwandb\u001b[0m: \tactivation_function: tanh\n",
            "\u001b[34m\u001b[1mwandb\u001b[0m: \tinitialization_type: xavier\n",
            "\u001b[34m\u001b[1mwandb\u001b[0m: \tlambd: 0.0005\n",
            "\u001b[34m\u001b[1mwandb\u001b[0m: \tlearning_rate: 0.0001\n",
            "\u001b[34m\u001b[1mwandb\u001b[0m: \tloss_function: squared_loss\n",
            "\u001b[34m\u001b[1mwandb\u001b[0m: \tmax_epochs: 5\n",
            "\u001b[34m\u001b[1mwandb\u001b[0m: \tmini_batch_size: 16\n",
            "\u001b[34m\u001b[1mwandb\u001b[0m: \tnumber_hidden_layers: 5\n",
            "\u001b[34m\u001b[1mwandb\u001b[0m: \tnumber_neurons: 128\n",
            "\u001b[34m\u001b[1mwandb\u001b[0m: \toptimization_function: adam\n"
          ]
        },
        {
          "data": {
            "text/html": [
              "Tracking run with wandb version 0.14.0"
            ],
            "text/plain": [
              "<IPython.core.display.HTML object>"
            ]
          },
          "metadata": {},
          "output_type": "display_data"
        },
        {
          "data": {
            "text/html": [
              "Run data is saved locally in <code>/content/wandb/run-20230318_190726-0mfmethm</code>"
            ],
            "text/plain": [
              "<IPython.core.display.HTML object>"
            ]
          },
          "metadata": {},
          "output_type": "display_data"
        },
        {
          "data": {
            "text/html": [
              "Syncing run <strong><a href='https://wandb.ai/siddharth-s/FODL_Assignment_1/runs/0mfmethm' target=\"_blank\">still-sweep-5</a></strong> to <a href='https://wandb.ai/siddharth-s/FODL_Assignment_1' target=\"_blank\">Weights & Biases</a> (<a href='https://wandb.me/run' target=\"_blank\">docs</a>)<br/>Sweep page: <a href='https://wandb.ai/siddharth-s/FODL_Assignment_1/sweeps/lzx4xd41' target=\"_blank\">https://wandb.ai/siddharth-s/FODL_Assignment_1/sweeps/lzx4xd41</a>"
            ],
            "text/plain": [
              "<IPython.core.display.HTML object>"
            ]
          },
          "metadata": {},
          "output_type": "display_data"
        },
        {
          "data": {
            "text/html": [
              " View project at <a href='https://wandb.ai/siddharth-s/FODL_Assignment_1' target=\"_blank\">https://wandb.ai/siddharth-s/FODL_Assignment_1</a>"
            ],
            "text/plain": [
              "<IPython.core.display.HTML object>"
            ]
          },
          "metadata": {},
          "output_type": "display_data"
        },
        {
          "data": {
            "text/html": [
              " View sweep at <a href='https://wandb.ai/siddharth-s/FODL_Assignment_1/sweeps/lzx4xd41' target=\"_blank\">https://wandb.ai/siddharth-s/FODL_Assignment_1/sweeps/lzx4xd41</a>"
            ],
            "text/plain": [
              "<IPython.core.display.HTML object>"
            ]
          },
          "metadata": {},
          "output_type": "display_data"
        },
        {
          "data": {
            "text/html": [
              " View run at <a href='https://wandb.ai/siddharth-s/FODL_Assignment_1/runs/0mfmethm' target=\"_blank\">https://wandb.ai/siddharth-s/FODL_Assignment_1/runs/0mfmethm</a>"
            ],
            "text/plain": [
              "<IPython.core.display.HTML object>"
            ]
          },
          "metadata": {},
          "output_type": "display_data"
        },
        {
          "name": "stderr",
          "output_type": "stream",
          "text": [
            " 20%|██        | 1/5 [01:03<04:15, 63.91s/it]\n"
          ]
        },
        {
          "data": {
            "text/html": [
              "Waiting for W&B process to finish... <strong style=\"color:red\">(failed 1).</strong> Press Control-C to abort syncing."
            ],
            "text/plain": [
              "<IPython.core.display.HTML object>"
            ]
          },
          "metadata": {},
          "output_type": "display_data"
        },
        {
          "data": {
            "text/html": [
              "<style>\n",
              "    table.wandb td:nth-child(1) { padding: 0 10px; text-align: left ; width: auto;} td:nth-child(2) {text-align: left ; width: 100%}\n",
              "    .wandb-row { display: flex; flex-direction: row; flex-wrap: wrap; justify-content: flex-start; width: 100% }\n",
              "    .wandb-col { display: flex; flex-direction: column; flex-basis: 100%; flex: 1; padding: 10px; }\n",
              "    </style>\n",
              "<div class=\"wandb-row\"><div class=\"wandb-col\"><h3>Run history:</h3><br/><table class=\"wandb\"><tr><td>Train_Accuracy</td><td>▁</td></tr><tr><td>Train_Loss</td><td>▁</td></tr><tr><td>Validation_Accuracy</td><td>▁</td></tr><tr><td>Validation_loss</td><td>▁</td></tr><tr><td>epoch</td><td>▁</td></tr></table><br/></div><div class=\"wandb-col\"><h3>Run summary:</h3><br/><table class=\"wandb\"><tr><td>Train_Accuracy</td><td>84.19444</td></tr><tr><td>Train_Loss</td><td>0.11283</td></tr><tr><td>Validation_Accuracy</td><td>83.56667</td></tr><tr><td>Validation_loss</td><td>0.11695</td></tr><tr><td>epoch</td><td>0</td></tr></table><br/></div></div>"
            ],
            "text/plain": [
              "<IPython.core.display.HTML object>"
            ]
          },
          "metadata": {},
          "output_type": "display_data"
        },
        {
          "data": {
            "text/html": [
              " View run <strong style=\"color:#cdcd00\">still-sweep-5</strong> at: <a href='https://wandb.ai/siddharth-s/FODL_Assignment_1/runs/0mfmethm' target=\"_blank\">https://wandb.ai/siddharth-s/FODL_Assignment_1/runs/0mfmethm</a><br/>Synced 5 W&B file(s), 0 media file(s), 0 artifact file(s) and 0 other file(s)"
            ],
            "text/plain": [
              "<IPython.core.display.HTML object>"
            ]
          },
          "metadata": {},
          "output_type": "display_data"
        },
        {
          "data": {
            "text/html": [
              "Find logs at: <code>./wandb/run-20230318_190726-0mfmethm/logs</code>"
            ],
            "text/plain": [
              "<IPython.core.display.HTML object>"
            ]
          },
          "metadata": {},
          "output_type": "display_data"
        },
        {
          "name": "stderr",
          "output_type": "stream",
          "text": [
            "\u001b[34m\u001b[1mwandb\u001b[0m: Sweep Agent: Waiting for job.\n",
            "\u001b[34m\u001b[1mwandb\u001b[0m: Ctrl + C detected. Stopping sweep.\n"
          ]
        }
      ],
      "source": [
        "compare_loss(entity_name,project_name)"
      ]
    },
    {
      "cell_type": "markdown",
      "source": [
        "MNIST Trials\n"
      ],
      "metadata": {
        "id": "pOYmTPmIJXeb"
      }
    },
    {
      "cell_type": "code",
      "source": [
        "# Preparing Dataset \n",
        "from sklearn.model_selection import train_test_split\n",
        "from keras.datasets import mnist\n",
        "\n",
        "(train_x,train_y),(test_x,test_y)=mnist.load_data()\n",
        "num_classes = 10\n",
        "labels=np.arange(0,10,1)\n",
        "\n",
        "\n",
        "#performing the train-validation split\n",
        "train_x, val_x, train_y, val_y = train_test_split(train_x, train_y, test_size=0.1, random_state=40)\n",
        "  \n",
        "\n",
        "  \n",
        "#storing the number of points in each set\n",
        "  \n",
        "X_train=np.zeros((len(train_x),784))\n",
        "X_val=np.zeros((len(val_x),784))\n",
        "X_test=np.zeros((len(test_x),784))\n",
        "  \n",
        "# converting the images into grayscale by normalizing\n",
        "for i in range(len(train_x)):\n",
        "  X_train[i]=(copy.deepcopy(train_x[i].flatten()))/255.0 \n",
        "for i in range(len(val_x)):\n",
        "  X_val[i]=(copy.deepcopy(val_x[i].flatten()))/255.0\n",
        "for i in range(len(test_x)):\n",
        "  X_test[i]=(copy.deepcopy(test_x[i].flatten()))/255.0\n",
        "  \n",
        "y_train = np.zeros((train_y.size, 10))\n",
        "y_train[np.arange(train_y.size), train_y] = 1\n",
        "\n",
        "y_val = np.zeros((val_y.size, 10))\n",
        "y_val[np.arange(val_y.size), val_y] = 1\n",
        "\n",
        "y_test = np.zeros((test_y.size, 10))\n",
        "y_test[np.arange(test_y.size), test_y] = 1\n"
      ],
      "metadata": {
        "colab": {
          "base_uri": "https://localhost:8080/"
        },
        "id": "XPQlOzCMJY-z",
        "outputId": "cdcee2c0-d7f1-4f54-d392-2a8288565927"
      },
      "execution_count": 26,
      "outputs": [
        {
          "output_type": "stream",
          "name": "stdout",
          "text": [
            "Downloading data from https://storage.googleapis.com/tensorflow/tf-keras-datasets/mnist.npz\n",
            "11490434/11490434 [==============================] - 0s 0us/step\n"
          ]
        }
      ]
    },
    {
      "cell_type": "code",
      "source": [
        "#Configuration 1\n",
        "\n",
        "activation_function= \"tanh\"\n",
        "initialization_type= \"xavier\"\n",
        "lambd=0\n",
        "learning_rate=0.001\n",
        "max_epochs=10\n",
        "mini_batch_size=16\n",
        "number_hidden_layers=5\n",
        "number_neurons=128\n",
        "optimization_function=nadam\n",
        "loss_function = \"cross_entropy\"\n",
        "\n",
        "layers=[784]\n",
        "for i in range(number_hidden_layers):\n",
        "  layers=layers+[number_neurons]\n",
        "layers=layers+[10]\n",
        "\n",
        "\n",
        "config_confmat = {\n",
        "      'number_hidden_layers': 5,\n",
        "      'number_neurons': 128,\n",
        "      'learning_rate': 0.0001,\n",
        "      'initialization_type': \"xavier\",\n",
        "      'activation_function':'tanh',\n",
        "      'mini_batch_size' : 16,\n",
        "      'max_epochs': 5,\n",
        "      'lambd': 0,\n",
        "      'optimization_function': \"nadam\"\n",
        "  }\n",
        "\n",
        "wandb.init(config=config_confmat,entity=entity_name, project=project_name)\n",
        "wandb.run.name=\"MNIST_trials\"\n",
        "wandb_log=True\n",
        "\n",
        "w=weights(layers)\n",
        "parameters = w.weight_init(init_type = initialization_type)\n",
        "parameters, train_acc, val_acc = gradient_descent(X_train, y_train,learning_rate, max_epochs, layers, mini_batch_size, lambd, loss_function, activation_function, parameters,optimization_function,wandb_log)\n",
        "res = run_inference(X_test,y_test, parameters, activation_function, layers)\n",
        "\n",
        "\n",
        "accuracy=accuracy_calc(res,y_test)\n",
        "print(\"Test Accuracy:\",accuracy)"
      ],
      "metadata": {
        "colab": {
          "base_uri": "https://localhost:8080/",
          "height": 156
        },
        "id": "n2hw3m0MLVwa",
        "outputId": "e553c228-a241-42a8-bb3b-021a4bfce711"
      },
      "execution_count": 28,
      "outputs": [
        {
          "output_type": "stream",
          "name": "stderr",
          "text": [
            "\u001b[34m\u001b[1mwandb\u001b[0m: Currently logged in as: \u001b[33mna20b064\u001b[0m (\u001b[33msiddharth-s\u001b[0m). Use \u001b[1m`wandb login --relogin`\u001b[0m to force relogin\n"
          ]
        },
        {
          "output_type": "display_data",
          "data": {
            "text/plain": [
              "<IPython.core.display.HTML object>"
            ],
            "text/html": [
              "Tracking run with wandb version 0.14.0"
            ]
          },
          "metadata": {}
        },
        {
          "output_type": "display_data",
          "data": {
            "text/plain": [
              "<IPython.core.display.HTML object>"
            ],
            "text/html": [
              "Run data is saved locally in <code>/content/wandb/run-20230319_140254-wjpl0175</code>"
            ]
          },
          "metadata": {}
        },
        {
          "output_type": "display_data",
          "data": {
            "text/plain": [
              "<IPython.core.display.HTML object>"
            ],
            "text/html": [
              "Syncing run <strong><a href='https://wandb.ai/siddharth-s/FODL_Assignment_1/runs/wjpl0175' target=\"_blank\">snowy-feather-294</a></strong> to <a href='https://wandb.ai/siddharth-s/FODL_Assignment_1' target=\"_blank\">Weights & Biases</a> (<a href='https://wandb.me/run' target=\"_blank\">docs</a>)<br/>"
            ]
          },
          "metadata": {}
        },
        {
          "output_type": "display_data",
          "data": {
            "text/plain": [
              "<IPython.core.display.HTML object>"
            ],
            "text/html": [
              " View project at <a href='https://wandb.ai/siddharth-s/FODL_Assignment_1' target=\"_blank\">https://wandb.ai/siddharth-s/FODL_Assignment_1</a>"
            ]
          },
          "metadata": {}
        },
        {
          "output_type": "display_data",
          "data": {
            "text/plain": [
              "<IPython.core.display.HTML object>"
            ],
            "text/html": [
              " View run at <a href='https://wandb.ai/siddharth-s/FODL_Assignment_1/runs/wjpl0175' target=\"_blank\">https://wandb.ai/siddharth-s/FODL_Assignment_1/runs/wjpl0175</a>"
            ]
          },
          "metadata": {}
        },
        {
          "output_type": "stream",
          "name": "stderr",
          "text": [
            "100%|██████████| 10/10 [16:24<00:00, 98.50s/it]\n"
          ]
        },
        {
          "output_type": "stream",
          "name": "stdout",
          "text": [
            "Test Accuracy: 95.39999999999999\n"
          ]
        }
      ]
    },
    {
      "cell_type": "code",
      "source": [
        "#Configuration 2\n",
        "\n",
        "activation_function= \"tanh\"\n",
        "initialization_type= \"xavier\"\n",
        "lambd=0.0005\n",
        "learning_rate=0.001\n",
        "max_epochs=7\n",
        "mini_batch_size=32\n",
        "number_hidden_layers=5\n",
        "number_neurons=128\n",
        "optimization_function=rmsprop\n",
        "loss_function = \"cross_entropy\"\n",
        "\n",
        "layers=[784]\n",
        "for i in range(number_hidden_layers):\n",
        "  layers=layers+[number_neurons]\n",
        "layers=layers+[10]\n",
        "\n",
        "\n",
        "config_confmat = {\n",
        "      'number_hidden_layers': 5,\n",
        "      'number_neurons': 128,\n",
        "      'learning_rate': 0.0001,\n",
        "      'initialization_type': \"xavier\",\n",
        "      'activation_function':'tanh',\n",
        "      'mini_batch_size' : 32,\n",
        "      'max_epochs': 7,\n",
        "      'lambd': 0.0005,\n",
        "      'optimization_function': \"rmsprop\"\n",
        "  }\n",
        "\n",
        "wandb.init(config=config_confmat,entity=entity_name, project=project_name)\n",
        "wandb.run.name=\"MNIST_trials\"\n",
        "wandb_log=True\n",
        "\n",
        "w=weights(layers)\n",
        "parameters = w.weight_init(init_type = initialization_type)\n",
        "parameters, train_acc, val_acc = gradient_descent(X_train, y_train,learning_rate, max_epochs, layers, mini_batch_size, lambd, loss_function, activation_function, parameters,optimization_function,wandb_log)\n",
        "res = run_inference(X_test,y_test, parameters, activation_function, layers)\n",
        "\n",
        "\n",
        "accuracy=accuracy_calc(res,y_test)\n",
        "print(\"Test Accuracy:\",accuracy)"
      ],
      "metadata": {
        "colab": {
          "base_uri": "https://localhost:8080/",
          "height": 511,
          "referenced_widgets": [
            "a29e01fd7bd9468fb4d26fb2ab18b217",
            "06606af8074944cf9d28c667f4a63e6e",
            "df67fd4da7f74f72b3b689a77b545564",
            "ace9c8ee1c484f79bdc9367d13c661d2",
            "641d8ab8e58c4a2080ff0328e62ce757",
            "0748d207a51949648e37852e3dd884a7",
            "4e74502e80714206bdba530f5d236b30",
            "e2b51733809c42b58b29a72c44433626"
          ]
        },
        "id": "2q5W8Jv6NdWJ",
        "outputId": "ad53adbb-a2d9-45d8-b0fc-81be17253d3e"
      },
      "execution_count": 30,
      "outputs": [
        {
          "output_type": "display_data",
          "data": {
            "text/plain": [
              "<IPython.core.display.HTML object>"
            ],
            "text/html": [
              "Finishing last run (ID:wmejeqxq) before initializing another..."
            ]
          },
          "metadata": {}
        },
        {
          "output_type": "display_data",
          "data": {
            "text/plain": [
              "<IPython.core.display.HTML object>"
            ],
            "text/html": [
              "Waiting for W&B process to finish... <strong style=\"color:green\">(success).</strong>"
            ]
          },
          "metadata": {}
        },
        {
          "output_type": "display_data",
          "data": {
            "text/plain": [
              "VBox(children=(Label(value='0.001 MB of 0.001 MB uploaded (0.000 MB deduped)\\r'), FloatProgress(value=1.0, max…"
            ],
            "application/vnd.jupyter.widget-view+json": {
              "version_major": 2,
              "version_minor": 0,
              "model_id": "a29e01fd7bd9468fb4d26fb2ab18b217"
            }
          },
          "metadata": {}
        },
        {
          "output_type": "display_data",
          "data": {
            "text/plain": [
              "<IPython.core.display.HTML object>"
            ],
            "text/html": [
              "<style>\n",
              "    table.wandb td:nth-child(1) { padding: 0 10px; text-align: left ; width: auto;} td:nth-child(2) {text-align: left ; width: 100%}\n",
              "    .wandb-row { display: flex; flex-direction: row; flex-wrap: wrap; justify-content: flex-start; width: 100% }\n",
              "    .wandb-col { display: flex; flex-direction: column; flex-basis: 100%; flex: 1; padding: 10px; }\n",
              "    </style>\n",
              "<div class=\"wandb-row\"><div class=\"wandb-col\"><h3>Run history:</h3><br/><table class=\"wandb\"><tr><td>Train_Accuracy</td><td>▁</td></tr><tr><td>Train_Loss</td><td>▁</td></tr><tr><td>Validation_Accuracy</td><td>▁</td></tr><tr><td>Validation_loss</td><td>▁</td></tr><tr><td>epoch</td><td>▁</td></tr></table><br/></div><div class=\"wandb-col\"><h3>Run summary:</h3><br/><table class=\"wandb\"><tr><td>Train_Accuracy</td><td>94.01481</td></tr><tr><td>Train_Loss</td><td>0.27383</td></tr><tr><td>Validation_Accuracy</td><td>93.86667</td></tr><tr><td>Validation_loss</td><td>0.27809</td></tr><tr><td>epoch</td><td>0</td></tr></table><br/></div></div>"
            ]
          },
          "metadata": {}
        },
        {
          "output_type": "display_data",
          "data": {
            "text/plain": [
              "<IPython.core.display.HTML object>"
            ],
            "text/html": [
              " View run <strong style=\"color:#cdcd00\">playful-microwave-295</strong> at: <a href='https://wandb.ai/siddharth-s/FODL_Assignment_1/runs/wmejeqxq' target=\"_blank\">https://wandb.ai/siddharth-s/FODL_Assignment_1/runs/wmejeqxq</a><br/>Synced 5 W&B file(s), 0 media file(s), 0 artifact file(s) and 0 other file(s)"
            ]
          },
          "metadata": {}
        },
        {
          "output_type": "display_data",
          "data": {
            "text/plain": [
              "<IPython.core.display.HTML object>"
            ],
            "text/html": [
              "Find logs at: <code>./wandb/run-20230319_141930-wmejeqxq/logs</code>"
            ]
          },
          "metadata": {}
        },
        {
          "output_type": "display_data",
          "data": {
            "text/plain": [
              "<IPython.core.display.HTML object>"
            ],
            "text/html": [
              "Successfully finished last run (ID:wmejeqxq). Initializing new run:<br/>"
            ]
          },
          "metadata": {}
        },
        {
          "output_type": "display_data",
          "data": {
            "text/plain": [
              "<IPython.core.display.HTML object>"
            ],
            "text/html": [
              "Tracking run with wandb version 0.14.0"
            ]
          },
          "metadata": {}
        },
        {
          "output_type": "display_data",
          "data": {
            "text/plain": [
              "<IPython.core.display.HTML object>"
            ],
            "text/html": [
              "Run data is saved locally in <code>/content/wandb/run-20230319_142227-poe9ag6b</code>"
            ]
          },
          "metadata": {}
        },
        {
          "output_type": "display_data",
          "data": {
            "text/plain": [
              "<IPython.core.display.HTML object>"
            ],
            "text/html": [
              "Syncing run <strong><a href='https://wandb.ai/siddharth-s/FODL_Assignment_1/runs/poe9ag6b' target=\"_blank\">vague-sea-296</a></strong> to <a href='https://wandb.ai/siddharth-s/FODL_Assignment_1' target=\"_blank\">Weights & Biases</a> (<a href='https://wandb.me/run' target=\"_blank\">docs</a>)<br/>"
            ]
          },
          "metadata": {}
        },
        {
          "output_type": "display_data",
          "data": {
            "text/plain": [
              "<IPython.core.display.HTML object>"
            ],
            "text/html": [
              " View project at <a href='https://wandb.ai/siddharth-s/FODL_Assignment_1' target=\"_blank\">https://wandb.ai/siddharth-s/FODL_Assignment_1</a>"
            ]
          },
          "metadata": {}
        },
        {
          "output_type": "display_data",
          "data": {
            "text/plain": [
              "<IPython.core.display.HTML object>"
            ],
            "text/html": [
              " View run at <a href='https://wandb.ai/siddharth-s/FODL_Assignment_1/runs/poe9ag6b' target=\"_blank\">https://wandb.ai/siddharth-s/FODL_Assignment_1/runs/poe9ag6b</a>"
            ]
          },
          "metadata": {}
        },
        {
          "output_type": "stream",
          "name": "stderr",
          "text": [
            "100%|██████████| 7/7 [09:21<00:00, 80.26s/it]\n"
          ]
        },
        {
          "output_type": "stream",
          "name": "stdout",
          "text": [
            "Test Accuracy: 95.15\n"
          ]
        }
      ]
    },
    {
      "cell_type": "code",
      "source": [
        "#Configuration 3\n",
        "\n",
        "activation_function= \"tanh\"\n",
        "initialization_type= \"xavier\"\n",
        "lambd=0\n",
        "learning_rate=0.001\n",
        "max_epochs=7\n",
        "mini_batch_size=64\n",
        "number_hidden_layers=5\n",
        "number_neurons=64\n",
        "optimization_function=adam\n",
        "loss_function = \"cross_entropy\"\n",
        "\n",
        "layers=[784]\n",
        "for i in range(number_hidden_layers):\n",
        "  layers=layers+[number_neurons]\n",
        "layers=layers+[10]\n",
        "\n",
        "\n",
        "config_confmat = {\n",
        "      'number_hidden_layers': 5,\n",
        "      'number_neurons': 64,\n",
        "      'learning_rate': 0.0001,\n",
        "      'initialization_type': \"xavier\",\n",
        "      'activation_function':'tanh',\n",
        "      'mini_batch_size' : 64,\n",
        "      'max_epochs': 7,\n",
        "      'lambd': 0,\n",
        "      'optimization_function': \"adam\"\n",
        "  }\n",
        "\n",
        "wandb.init(config=config_confmat,entity=entity_name, project=project_name)\n",
        "wandb.run.name=\"MNIST_trials\"\n",
        "wandb_log=True\n",
        "\n",
        "w=weights(layers)\n",
        "parameters = w.weight_init(init_type = initialization_type)\n",
        "parameters, train_acc, val_acc = gradient_descent(X_train, y_train,learning_rate, max_epochs, layers, mini_batch_size, lambd, loss_function, activation_function, parameters,optimization_function,wandb_log)\n",
        "res = run_inference(X_test,y_test, parameters, activation_function, layers)\n",
        "\n",
        "\n",
        "accuracy=accuracy_calc(res,y_test)\n",
        "print(\"Test Accuracy:\",accuracy)"
      ],
      "metadata": {
        "colab": {
          "base_uri": "https://localhost:8080/",
          "height": 511,
          "referenced_widgets": [
            "d08492cddf2d46fe94fd6d5019308a81",
            "b30fc23e2b314629a3d751c1ba38e695",
            "9cc281cef28d465fbd7c9fea348d18bf",
            "0baffd4974d04ca0b55f13cd9de3b31f",
            "9d7be9957d004c6b8a8a5dc09b2c53b5",
            "003d214317a4422d8a716b7cebad22f1",
            "e8d0102175fe410e9402de0c79175f68",
            "34c2525082ed491da16f141a38e80560"
          ]
        },
        "id": "ylwzQNfWPbM5",
        "outputId": "7faf82a2-9dfd-473d-a515-5950a9e13ad7"
      },
      "execution_count": 31,
      "outputs": [
        {
          "output_type": "display_data",
          "data": {
            "text/plain": [
              "<IPython.core.display.HTML object>"
            ],
            "text/html": [
              "Finishing last run (ID:poe9ag6b) before initializing another..."
            ]
          },
          "metadata": {}
        },
        {
          "output_type": "display_data",
          "data": {
            "text/plain": [
              "<IPython.core.display.HTML object>"
            ],
            "text/html": [
              "Waiting for W&B process to finish... <strong style=\"color:green\">(success).</strong>"
            ]
          },
          "metadata": {}
        },
        {
          "output_type": "display_data",
          "data": {
            "text/plain": [
              "VBox(children=(Label(value='0.001 MB of 0.001 MB uploaded (0.000 MB deduped)\\r'), FloatProgress(value=1.0, max…"
            ],
            "application/vnd.jupyter.widget-view+json": {
              "version_major": 2,
              "version_minor": 0,
              "model_id": "d08492cddf2d46fe94fd6d5019308a81"
            }
          },
          "metadata": {}
        },
        {
          "output_type": "display_data",
          "data": {
            "text/plain": [
              "<IPython.core.display.HTML object>"
            ],
            "text/html": [
              "<style>\n",
              "    table.wandb td:nth-child(1) { padding: 0 10px; text-align: left ; width: auto;} td:nth-child(2) {text-align: left ; width: 100%}\n",
              "    .wandb-row { display: flex; flex-direction: row; flex-wrap: wrap; justify-content: flex-start; width: 100% }\n",
              "    .wandb-col { display: flex; flex-direction: column; flex-basis: 100%; flex: 1; padding: 10px; }\n",
              "    </style>\n",
              "<div class=\"wandb-row\"><div class=\"wandb-col\"><h3>Run history:</h3><br/><table class=\"wandb\"><tr><td>Train_Accuracy</td><td>▁▆▇███▇</td></tr><tr><td>Train_Loss</td><td>█▃▃▁▁▁▂</td></tr><tr><td>Validation_Accuracy</td><td>▁▆████▇</td></tr><tr><td>Validation_loss</td><td>▇▃▃▃▁▃█</td></tr><tr><td>epoch</td><td>▁▂▃▅▆▇█</td></tr></table><br/></div><div class=\"wandb-col\"><h3>Run summary:</h3><br/><table class=\"wandb\"><tr><td>Train_Accuracy</td><td>96.24444</td></tr><tr><td>Train_Loss</td><td>0.24194</td></tr><tr><td>Validation_Accuracy</td><td>95.41667</td></tr><tr><td>Validation_loss</td><td>0.33417</td></tr><tr><td>epoch</td><td>6</td></tr></table><br/></div></div>"
            ]
          },
          "metadata": {}
        },
        {
          "output_type": "display_data",
          "data": {
            "text/plain": [
              "<IPython.core.display.HTML object>"
            ],
            "text/html": [
              " View run <strong style=\"color:#cdcd00\">vague-sea-296</strong> at: <a href='https://wandb.ai/siddharth-s/FODL_Assignment_1/runs/poe9ag6b' target=\"_blank\">https://wandb.ai/siddharth-s/FODL_Assignment_1/runs/poe9ag6b</a><br/>Synced 5 W&B file(s), 0 media file(s), 0 artifact file(s) and 0 other file(s)"
            ]
          },
          "metadata": {}
        },
        {
          "output_type": "display_data",
          "data": {
            "text/plain": [
              "<IPython.core.display.HTML object>"
            ],
            "text/html": [
              "Find logs at: <code>./wandb/run-20230319_142227-poe9ag6b/logs</code>"
            ]
          },
          "metadata": {}
        },
        {
          "output_type": "display_data",
          "data": {
            "text/plain": [
              "<IPython.core.display.HTML object>"
            ],
            "text/html": [
              "Successfully finished last run (ID:poe9ag6b). Initializing new run:<br/>"
            ]
          },
          "metadata": {}
        },
        {
          "output_type": "display_data",
          "data": {
            "text/plain": [
              "<IPython.core.display.HTML object>"
            ],
            "text/html": [
              "Tracking run with wandb version 0.14.0"
            ]
          },
          "metadata": {}
        },
        {
          "output_type": "display_data",
          "data": {
            "text/plain": [
              "<IPython.core.display.HTML object>"
            ],
            "text/html": [
              "Run data is saved locally in <code>/content/wandb/run-20230319_143201-khxaljuz</code>"
            ]
          },
          "metadata": {}
        },
        {
          "output_type": "display_data",
          "data": {
            "text/plain": [
              "<IPython.core.display.HTML object>"
            ],
            "text/html": [
              "Syncing run <strong><a href='https://wandb.ai/siddharth-s/FODL_Assignment_1/runs/khxaljuz' target=\"_blank\">eager-rain-297</a></strong> to <a href='https://wandb.ai/siddharth-s/FODL_Assignment_1' target=\"_blank\">Weights & Biases</a> (<a href='https://wandb.me/run' target=\"_blank\">docs</a>)<br/>"
            ]
          },
          "metadata": {}
        },
        {
          "output_type": "display_data",
          "data": {
            "text/plain": [
              "<IPython.core.display.HTML object>"
            ],
            "text/html": [
              " View project at <a href='https://wandb.ai/siddharth-s/FODL_Assignment_1' target=\"_blank\">https://wandb.ai/siddharth-s/FODL_Assignment_1</a>"
            ]
          },
          "metadata": {}
        },
        {
          "output_type": "display_data",
          "data": {
            "text/plain": [
              "<IPython.core.display.HTML object>"
            ],
            "text/html": [
              " View run at <a href='https://wandb.ai/siddharth-s/FODL_Assignment_1/runs/khxaljuz' target=\"_blank\">https://wandb.ai/siddharth-s/FODL_Assignment_1/runs/khxaljuz</a>"
            ]
          },
          "metadata": {}
        },
        {
          "output_type": "stream",
          "name": "stderr",
          "text": [
            "100%|██████████| 7/7 [05:21<00:00, 45.94s/it]\n"
          ]
        },
        {
          "output_type": "stream",
          "name": "stdout",
          "text": [
            "Test Accuracy: 96.34\n"
          ]
        }
      ]
    }
  ],
  "metadata": {
    "colab": {
      "provenance": [],
      "include_colab_link": true
    },
    "gpuClass": "standard",
    "kernelspec": {
      "display_name": "Python 3",
      "name": "python3"
    },
    "language_info": {
      "name": "python"
    },
    "widgets": {
      "application/vnd.jupyter.widget-state+json": {
        "005a1eedb85b475b86191750098e6ec7": {
          "model_module": "@jupyter-widgets/controls",
          "model_module_version": "1.5.0",
          "model_name": "FloatProgressModel",
          "state": {
            "_dom_classes": [],
            "_model_module": "@jupyter-widgets/controls",
            "_model_module_version": "1.5.0",
            "_model_name": "FloatProgressModel",
            "_view_count": null,
            "_view_module": "@jupyter-widgets/controls",
            "_view_module_version": "1.5.0",
            "_view_name": "ProgressView",
            "bar_style": "",
            "description": "",
            "description_tooltip": null,
            "layout": "IPY_MODEL_2f7325b2c6734e96bf94a18d32e491f6",
            "max": 1,
            "min": 0,
            "orientation": "horizontal",
            "style": "IPY_MODEL_e6fc5e31718b47dba8cb4939e4a79b69",
            "value": 0.5993729552889858
          }
        },
        "00fa55f42a2b4620a6dadda962a89784": {
          "model_module": "@jupyter-widgets/controls",
          "model_module_version": "1.5.0",
          "model_name": "DescriptionStyleModel",
          "state": {
            "_model_module": "@jupyter-widgets/controls",
            "_model_module_version": "1.5.0",
            "_model_name": "DescriptionStyleModel",
            "_view_count": null,
            "_view_module": "@jupyter-widgets/base",
            "_view_module_version": "1.2.0",
            "_view_name": "StyleView",
            "description_width": ""
          }
        },
        "0155c7c883974e9088bde1760379f650": {
          "model_module": "@jupyter-widgets/controls",
          "model_module_version": "1.5.0",
          "model_name": "FloatProgressModel",
          "state": {
            "_dom_classes": [],
            "_model_module": "@jupyter-widgets/controls",
            "_model_module_version": "1.5.0",
            "_model_name": "FloatProgressModel",
            "_view_count": null,
            "_view_module": "@jupyter-widgets/controls",
            "_view_module_version": "1.5.0",
            "_view_name": "ProgressView",
            "bar_style": "",
            "description": "",
            "description_tooltip": null,
            "layout": "IPY_MODEL_7a88a8c5abc942a8a1a4ec4b2ba240f3",
            "max": 1,
            "min": 0,
            "orientation": "horizontal",
            "style": "IPY_MODEL_cdd3afc849a542e096067a37b5e073e4",
            "value": 0.11596849674694669
          }
        },
        "01c96351d6a4416abf53ee22dac765d2": {
          "model_module": "@jupyter-widgets/base",
          "model_module_version": "1.2.0",
          "model_name": "LayoutModel",
          "state": {
            "_model_module": "@jupyter-widgets/base",
            "_model_module_version": "1.2.0",
            "_model_name": "LayoutModel",
            "_view_count": null,
            "_view_module": "@jupyter-widgets/base",
            "_view_module_version": "1.2.0",
            "_view_name": "LayoutView",
            "align_content": null,
            "align_items": null,
            "align_self": null,
            "border": null,
            "bottom": null,
            "display": null,
            "flex": null,
            "flex_flow": null,
            "grid_area": null,
            "grid_auto_columns": null,
            "grid_auto_flow": null,
            "grid_auto_rows": null,
            "grid_column": null,
            "grid_gap": null,
            "grid_row": null,
            "grid_template_areas": null,
            "grid_template_columns": null,
            "grid_template_rows": null,
            "height": null,
            "justify_content": null,
            "justify_items": null,
            "left": null,
            "margin": null,
            "max_height": null,
            "max_width": null,
            "min_height": null,
            "min_width": null,
            "object_fit": null,
            "object_position": null,
            "order": null,
            "overflow": null,
            "overflow_x": null,
            "overflow_y": null,
            "padding": null,
            "right": null,
            "top": null,
            "visibility": null,
            "width": null
          }
        },
        "03098a34918749e19482cce4e4012ac6": {
          "model_module": "@jupyter-widgets/controls",
          "model_module_version": "1.5.0",
          "model_name": "ProgressStyleModel",
          "state": {
            "_model_module": "@jupyter-widgets/controls",
            "_model_module_version": "1.5.0",
            "_model_name": "ProgressStyleModel",
            "_view_count": null,
            "_view_module": "@jupyter-widgets/base",
            "_view_module_version": "1.2.0",
            "_view_name": "StyleView",
            "bar_color": null,
            "description_width": ""
          }
        },
        "03ca2c567f3140e1abc4867ce282f32f": {
          "model_module": "@jupyter-widgets/controls",
          "model_module_version": "1.5.0",
          "model_name": "LabelModel",
          "state": {
            "_dom_classes": [],
            "_model_module": "@jupyter-widgets/controls",
            "_model_module_version": "1.5.0",
            "_model_name": "LabelModel",
            "_view_count": null,
            "_view_module": "@jupyter-widgets/controls",
            "_view_module_version": "1.5.0",
            "_view_name": "LabelView",
            "description": "",
            "description_tooltip": null,
            "layout": "IPY_MODEL_f861244c54df487bb27eeb7033eea4d8",
            "placeholder": "​",
            "style": "IPY_MODEL_84d45c8cf35042239f02612fc0c25abb",
            "value": "0.001 MB of 0.009 MB uploaded (0.000 MB deduped)\r"
          }
        },
        "09036043b09e4128b04e0a026ac6219e": {
          "model_module": "@jupyter-widgets/base",
          "model_module_version": "1.2.0",
          "model_name": "LayoutModel",
          "state": {
            "_model_module": "@jupyter-widgets/base",
            "_model_module_version": "1.2.0",
            "_model_name": "LayoutModel",
            "_view_count": null,
            "_view_module": "@jupyter-widgets/base",
            "_view_module_version": "1.2.0",
            "_view_name": "LayoutView",
            "align_content": null,
            "align_items": null,
            "align_self": null,
            "border": null,
            "bottom": null,
            "display": null,
            "flex": null,
            "flex_flow": null,
            "grid_area": null,
            "grid_auto_columns": null,
            "grid_auto_flow": null,
            "grid_auto_rows": null,
            "grid_column": null,
            "grid_gap": null,
            "grid_row": null,
            "grid_template_areas": null,
            "grid_template_columns": null,
            "grid_template_rows": null,
            "height": null,
            "justify_content": null,
            "justify_items": null,
            "left": null,
            "margin": null,
            "max_height": null,
            "max_width": null,
            "min_height": null,
            "min_width": null,
            "object_fit": null,
            "object_position": null,
            "order": null,
            "overflow": null,
            "overflow_x": null,
            "overflow_y": null,
            "padding": null,
            "right": null,
            "top": null,
            "visibility": null,
            "width": null
          }
        },
        "0c18826149be4bd6834ef340cd902ad0": {
          "model_module": "@jupyter-widgets/controls",
          "model_module_version": "1.5.0",
          "model_name": "LabelModel",
          "state": {
            "_dom_classes": [],
            "_model_module": "@jupyter-widgets/controls",
            "_model_module_version": "1.5.0",
            "_model_name": "LabelModel",
            "_view_count": null,
            "_view_module": "@jupyter-widgets/controls",
            "_view_module_version": "1.5.0",
            "_view_name": "LabelView",
            "description": "",
            "description_tooltip": null,
            "layout": "IPY_MODEL_4e5e5d49d4234320b1390ab1cc90cfb6",
            "placeholder": "​",
            "style": "IPY_MODEL_49332b7757b740a184df6b7c1ed8a79d",
            "value": "0.001 MB of 0.008 MB uploaded (0.000 MB deduped)\r"
          }
        },
        "0f78d4cff466457a8b97e13e02774169": {
          "model_module": "@jupyter-widgets/controls",
          "model_module_version": "1.5.0",
          "model_name": "LabelModel",
          "state": {
            "_dom_classes": [],
            "_model_module": "@jupyter-widgets/controls",
            "_model_module_version": "1.5.0",
            "_model_name": "LabelModel",
            "_view_count": null,
            "_view_module": "@jupyter-widgets/controls",
            "_view_module_version": "1.5.0",
            "_view_name": "LabelView",
            "description": "",
            "description_tooltip": null,
            "layout": "IPY_MODEL_fc82c748da7644e280619814050bc987",
            "placeholder": "​",
            "style": "IPY_MODEL_fb32f48505704ae3b596dc364a59432f",
            "value": "0.001 MB of 0.001 MB uploaded (0.000 MB deduped)\r"
          }
        },
        "12a078bdbfde49678947ecc3be5760ed": {
          "model_module": "@jupyter-widgets/controls",
          "model_module_version": "1.5.0",
          "model_name": "LabelModel",
          "state": {
            "_dom_classes": [],
            "_model_module": "@jupyter-widgets/controls",
            "_model_module_version": "1.5.0",
            "_model_name": "LabelModel",
            "_view_count": null,
            "_view_module": "@jupyter-widgets/controls",
            "_view_module_version": "1.5.0",
            "_view_name": "LabelView",
            "description": "",
            "description_tooltip": null,
            "layout": "IPY_MODEL_87a23f61defd48e4ae9e2ade315cace6",
            "placeholder": "​",
            "style": "IPY_MODEL_a79ea8fb3f37413a8a07e0e7d13c46cb",
            "value": "0.001 MB of 0.009 MB uploaded (0.000 MB deduped)\r"
          }
        },
        "132f746ff64a4d118e7d444a8771bcca": {
          "model_module": "@jupyter-widgets/controls",
          "model_module_version": "1.5.0",
          "model_name": "DescriptionStyleModel",
          "state": {
            "_model_module": "@jupyter-widgets/controls",
            "_model_module_version": "1.5.0",
            "_model_name": "DescriptionStyleModel",
            "_view_count": null,
            "_view_module": "@jupyter-widgets/base",
            "_view_module_version": "1.2.0",
            "_view_name": "StyleView",
            "description_width": ""
          }
        },
        "1337ee8de3604147b60c993d3c2e36ce": {
          "model_module": "@jupyter-widgets/controls",
          "model_module_version": "1.5.0",
          "model_name": "LabelModel",
          "state": {
            "_dom_classes": [],
            "_model_module": "@jupyter-widgets/controls",
            "_model_module_version": "1.5.0",
            "_model_name": "LabelModel",
            "_view_count": null,
            "_view_module": "@jupyter-widgets/controls",
            "_view_module_version": "1.5.0",
            "_view_name": "LabelView",
            "description": "",
            "description_tooltip": null,
            "layout": "IPY_MODEL_c185c09d48854fdea464c44c4880f3c5",
            "placeholder": "​",
            "style": "IPY_MODEL_36c8247a869240c2bdf24cd91341f332",
            "value": "0.001 MB of 0.008 MB uploaded (0.000 MB deduped)\r"
          }
        },
        "1380b84fd6964bd794c4beeb2501662d": {
          "model_module": "@jupyter-widgets/controls",
          "model_module_version": "1.5.0",
          "model_name": "ProgressStyleModel",
          "state": {
            "_model_module": "@jupyter-widgets/controls",
            "_model_module_version": "1.5.0",
            "_model_name": "ProgressStyleModel",
            "_view_count": null,
            "_view_module": "@jupyter-widgets/base",
            "_view_module_version": "1.2.0",
            "_view_name": "StyleView",
            "bar_color": null,
            "description_width": ""
          }
        },
        "1394c8df20c34de2a4d1c5a86ee2a4fa": {
          "model_module": "@jupyter-widgets/controls",
          "model_module_version": "1.5.0",
          "model_name": "ProgressStyleModel",
          "state": {
            "_model_module": "@jupyter-widgets/controls",
            "_model_module_version": "1.5.0",
            "_model_name": "ProgressStyleModel",
            "_view_count": null,
            "_view_module": "@jupyter-widgets/base",
            "_view_module_version": "1.2.0",
            "_view_name": "StyleView",
            "bar_color": null,
            "description_width": ""
          }
        },
        "13ebeb79bfd348629c429a75450849bc": {
          "model_module": "@jupyter-widgets/base",
          "model_module_version": "1.2.0",
          "model_name": "LayoutModel",
          "state": {
            "_model_module": "@jupyter-widgets/base",
            "_model_module_version": "1.2.0",
            "_model_name": "LayoutModel",
            "_view_count": null,
            "_view_module": "@jupyter-widgets/base",
            "_view_module_version": "1.2.0",
            "_view_name": "LayoutView",
            "align_content": null,
            "align_items": null,
            "align_self": null,
            "border": null,
            "bottom": null,
            "display": null,
            "flex": null,
            "flex_flow": null,
            "grid_area": null,
            "grid_auto_columns": null,
            "grid_auto_flow": null,
            "grid_auto_rows": null,
            "grid_column": null,
            "grid_gap": null,
            "grid_row": null,
            "grid_template_areas": null,
            "grid_template_columns": null,
            "grid_template_rows": null,
            "height": null,
            "justify_content": null,
            "justify_items": null,
            "left": null,
            "margin": null,
            "max_height": null,
            "max_width": null,
            "min_height": null,
            "min_width": null,
            "object_fit": null,
            "object_position": null,
            "order": null,
            "overflow": null,
            "overflow_x": null,
            "overflow_y": null,
            "padding": null,
            "right": null,
            "top": null,
            "visibility": null,
            "width": null
          }
        },
        "14886a653c6049b294a061a30657edf8": {
          "model_module": "@jupyter-widgets/controls",
          "model_module_version": "1.5.0",
          "model_name": "LabelModel",
          "state": {
            "_dom_classes": [],
            "_model_module": "@jupyter-widgets/controls",
            "_model_module_version": "1.5.0",
            "_model_name": "LabelModel",
            "_view_count": null,
            "_view_module": "@jupyter-widgets/controls",
            "_view_module_version": "1.5.0",
            "_view_name": "LabelView",
            "description": "",
            "description_tooltip": null,
            "layout": "IPY_MODEL_e0eedfdc4f45428889c91ce03a939d34",
            "placeholder": "​",
            "style": "IPY_MODEL_6d51a6692029476485c7f83a9abd2b2c",
            "value": "0.001 MB of 0.009 MB uploaded (0.000 MB deduped)\r"
          }
        },
        "14fd9f7bebd74b46a50138aac7ea293e": {
          "model_module": "@jupyter-widgets/controls",
          "model_module_version": "1.5.0",
          "model_name": "FloatProgressModel",
          "state": {
            "_dom_classes": [],
            "_model_module": "@jupyter-widgets/controls",
            "_model_module_version": "1.5.0",
            "_model_name": "FloatProgressModel",
            "_view_count": null,
            "_view_module": "@jupyter-widgets/controls",
            "_view_module_version": "1.5.0",
            "_view_name": "ProgressView",
            "bar_style": "",
            "description": "",
            "description_tooltip": null,
            "layout": "IPY_MODEL_26647d5cf6fb4eeb888162f70b872efb",
            "max": 1,
            "min": 0,
            "orientation": "horizontal",
            "style": "IPY_MODEL_03098a34918749e19482cce4e4012ac6",
            "value": 0.11958568738229755
          }
        },
        "1bbd44b8b1084f34850d932b241f8c0c": {
          "model_module": "@jupyter-widgets/base",
          "model_module_version": "1.2.0",
          "model_name": "LayoutModel",
          "state": {
            "_model_module": "@jupyter-widgets/base",
            "_model_module_version": "1.2.0",
            "_model_name": "LayoutModel",
            "_view_count": null,
            "_view_module": "@jupyter-widgets/base",
            "_view_module_version": "1.2.0",
            "_view_name": "LayoutView",
            "align_content": null,
            "align_items": null,
            "align_self": null,
            "border": null,
            "bottom": null,
            "display": null,
            "flex": null,
            "flex_flow": null,
            "grid_area": null,
            "grid_auto_columns": null,
            "grid_auto_flow": null,
            "grid_auto_rows": null,
            "grid_column": null,
            "grid_gap": null,
            "grid_row": null,
            "grid_template_areas": null,
            "grid_template_columns": null,
            "grid_template_rows": null,
            "height": null,
            "justify_content": null,
            "justify_items": null,
            "left": null,
            "margin": null,
            "max_height": null,
            "max_width": null,
            "min_height": null,
            "min_width": null,
            "object_fit": null,
            "object_position": null,
            "order": null,
            "overflow": null,
            "overflow_x": null,
            "overflow_y": null,
            "padding": null,
            "right": null,
            "top": null,
            "visibility": null,
            "width": null
          }
        },
        "1be474b0fe704998be3b5656cbf7d45c": {
          "model_module": "@jupyter-widgets/controls",
          "model_module_version": "1.5.0",
          "model_name": "FloatProgressModel",
          "state": {
            "_dom_classes": [],
            "_model_module": "@jupyter-widgets/controls",
            "_model_module_version": "1.5.0",
            "_model_name": "FloatProgressModel",
            "_view_count": null,
            "_view_module": "@jupyter-widgets/controls",
            "_view_module_version": "1.5.0",
            "_view_name": "ProgressView",
            "bar_style": "",
            "description": "",
            "description_tooltip": null,
            "layout": "IPY_MODEL_4a08f43cf6eb4829967d5cf40b608f94",
            "max": 1,
            "min": 0,
            "orientation": "horizontal",
            "style": "IPY_MODEL_79a07df513a84c449dc74cb882d07769",
            "value": 0.10446069846502525
          }
        },
        "1d9debedf807470fb98b7905f63a1af8": {
          "model_module": "@jupyter-widgets/controls",
          "model_module_version": "1.5.0",
          "model_name": "ProgressStyleModel",
          "state": {
            "_model_module": "@jupyter-widgets/controls",
            "_model_module_version": "1.5.0",
            "_model_name": "ProgressStyleModel",
            "_view_count": null,
            "_view_module": "@jupyter-widgets/base",
            "_view_module_version": "1.2.0",
            "_view_name": "StyleView",
            "bar_color": null,
            "description_width": ""
          }
        },
        "1fdf5f343684492385a36496a6aee287": {
          "model_module": "@jupyter-widgets/controls",
          "model_module_version": "1.5.0",
          "model_name": "LabelModel",
          "state": {
            "_dom_classes": [],
            "_model_module": "@jupyter-widgets/controls",
            "_model_module_version": "1.5.0",
            "_model_name": "LabelModel",
            "_view_count": null,
            "_view_module": "@jupyter-widgets/controls",
            "_view_module_version": "1.5.0",
            "_view_name": "LabelView",
            "description": "",
            "description_tooltip": null,
            "layout": "IPY_MODEL_3ec4bfd17516406495c8905ce95b8d20",
            "placeholder": "​",
            "style": "IPY_MODEL_ba02e7809c8c4b7f89eb2485be7f33bd",
            "value": "0.001 MB of 0.009 MB uploaded (0.000 MB deduped)\r"
          }
        },
        "2247bbcea60a4683b4734e411c6d6bf8": {
          "model_module": "@jupyter-widgets/controls",
          "model_module_version": "1.5.0",
          "model_name": "VBoxModel",
          "state": {
            "_dom_classes": [],
            "_model_module": "@jupyter-widgets/controls",
            "_model_module_version": "1.5.0",
            "_model_name": "VBoxModel",
            "_view_count": null,
            "_view_module": "@jupyter-widgets/controls",
            "_view_module_version": "1.5.0",
            "_view_name": "VBoxView",
            "box_style": "",
            "children": [
              "IPY_MODEL_1337ee8de3604147b60c993d3c2e36ce",
              "IPY_MODEL_5e787da663554d0eabbf5174130efe07"
            ],
            "layout": "IPY_MODEL_9a898d0a71a549f5ba4801e74fee110c"
          }
        },
        "22527c1e675e4c58bf52aa7f83588917": {
          "model_module": "@jupyter-widgets/controls",
          "model_module_version": "1.5.0",
          "model_name": "FloatProgressModel",
          "state": {
            "_dom_classes": [],
            "_model_module": "@jupyter-widgets/controls",
            "_model_module_version": "1.5.0",
            "_model_name": "FloatProgressModel",
            "_view_count": null,
            "_view_module": "@jupyter-widgets/controls",
            "_view_module_version": "1.5.0",
            "_view_name": "ProgressView",
            "bar_style": "",
            "description": "",
            "description_tooltip": null,
            "layout": "IPY_MODEL_e356e08bb7294da3b96148227997caa4",
            "max": 1,
            "min": 0,
            "orientation": "horizontal",
            "style": "IPY_MODEL_86a7bf4296ed46ac9cb7d3d83337c82d",
            "value": 0.10514333022870744
          }
        },
        "2577edc867f24685be7d2435c2924bef": {
          "model_module": "@jupyter-widgets/controls",
          "model_module_version": "1.5.0",
          "model_name": "ProgressStyleModel",
          "state": {
            "_model_module": "@jupyter-widgets/controls",
            "_model_module_version": "1.5.0",
            "_model_name": "ProgressStyleModel",
            "_view_count": null,
            "_view_module": "@jupyter-widgets/base",
            "_view_module_version": "1.2.0",
            "_view_name": "StyleView",
            "bar_color": null,
            "description_width": ""
          }
        },
        "263c91bab25749ab8beab90b10e529af": {
          "model_module": "@jupyter-widgets/base",
          "model_module_version": "1.2.0",
          "model_name": "LayoutModel",
          "state": {
            "_model_module": "@jupyter-widgets/base",
            "_model_module_version": "1.2.0",
            "_model_name": "LayoutModel",
            "_view_count": null,
            "_view_module": "@jupyter-widgets/base",
            "_view_module_version": "1.2.0",
            "_view_name": "LayoutView",
            "align_content": null,
            "align_items": null,
            "align_self": null,
            "border": null,
            "bottom": null,
            "display": null,
            "flex": null,
            "flex_flow": null,
            "grid_area": null,
            "grid_auto_columns": null,
            "grid_auto_flow": null,
            "grid_auto_rows": null,
            "grid_column": null,
            "grid_gap": null,
            "grid_row": null,
            "grid_template_areas": null,
            "grid_template_columns": null,
            "grid_template_rows": null,
            "height": null,
            "justify_content": null,
            "justify_items": null,
            "left": null,
            "margin": null,
            "max_height": null,
            "max_width": null,
            "min_height": null,
            "min_width": null,
            "object_fit": null,
            "object_position": null,
            "order": null,
            "overflow": null,
            "overflow_x": null,
            "overflow_y": null,
            "padding": null,
            "right": null,
            "top": null,
            "visibility": null,
            "width": null
          }
        },
        "26647d5cf6fb4eeb888162f70b872efb": {
          "model_module": "@jupyter-widgets/base",
          "model_module_version": "1.2.0",
          "model_name": "LayoutModel",
          "state": {
            "_model_module": "@jupyter-widgets/base",
            "_model_module_version": "1.2.0",
            "_model_name": "LayoutModel",
            "_view_count": null,
            "_view_module": "@jupyter-widgets/base",
            "_view_module_version": "1.2.0",
            "_view_name": "LayoutView",
            "align_content": null,
            "align_items": null,
            "align_self": null,
            "border": null,
            "bottom": null,
            "display": null,
            "flex": null,
            "flex_flow": null,
            "grid_area": null,
            "grid_auto_columns": null,
            "grid_auto_flow": null,
            "grid_auto_rows": null,
            "grid_column": null,
            "grid_gap": null,
            "grid_row": null,
            "grid_template_areas": null,
            "grid_template_columns": null,
            "grid_template_rows": null,
            "height": null,
            "justify_content": null,
            "justify_items": null,
            "left": null,
            "margin": null,
            "max_height": null,
            "max_width": null,
            "min_height": null,
            "min_width": null,
            "object_fit": null,
            "object_position": null,
            "order": null,
            "overflow": null,
            "overflow_x": null,
            "overflow_y": null,
            "padding": null,
            "right": null,
            "top": null,
            "visibility": null,
            "width": null
          }
        },
        "26ac1f2cc815402ab0c701afd42ba592": {
          "model_module": "@jupyter-widgets/base",
          "model_module_version": "1.2.0",
          "model_name": "LayoutModel",
          "state": {
            "_model_module": "@jupyter-widgets/base",
            "_model_module_version": "1.2.0",
            "_model_name": "LayoutModel",
            "_view_count": null,
            "_view_module": "@jupyter-widgets/base",
            "_view_module_version": "1.2.0",
            "_view_name": "LayoutView",
            "align_content": null,
            "align_items": null,
            "align_self": null,
            "border": null,
            "bottom": null,
            "display": null,
            "flex": null,
            "flex_flow": null,
            "grid_area": null,
            "grid_auto_columns": null,
            "grid_auto_flow": null,
            "grid_auto_rows": null,
            "grid_column": null,
            "grid_gap": null,
            "grid_row": null,
            "grid_template_areas": null,
            "grid_template_columns": null,
            "grid_template_rows": null,
            "height": null,
            "justify_content": null,
            "justify_items": null,
            "left": null,
            "margin": null,
            "max_height": null,
            "max_width": null,
            "min_height": null,
            "min_width": null,
            "object_fit": null,
            "object_position": null,
            "order": null,
            "overflow": null,
            "overflow_x": null,
            "overflow_y": null,
            "padding": null,
            "right": null,
            "top": null,
            "visibility": null,
            "width": null
          }
        },
        "27b99656bcc7408b98de715338f3605e": {
          "model_module": "@jupyter-widgets/controls",
          "model_module_version": "1.5.0",
          "model_name": "ProgressStyleModel",
          "state": {
            "_model_module": "@jupyter-widgets/controls",
            "_model_module_version": "1.5.0",
            "_model_name": "ProgressStyleModel",
            "_view_count": null,
            "_view_module": "@jupyter-widgets/base",
            "_view_module_version": "1.2.0",
            "_view_name": "StyleView",
            "bar_color": null,
            "description_width": ""
          }
        },
        "2a375e21a70544238247ba1cc032f6d9": {
          "model_module": "@jupyter-widgets/base",
          "model_module_version": "1.2.0",
          "model_name": "LayoutModel",
          "state": {
            "_model_module": "@jupyter-widgets/base",
            "_model_module_version": "1.2.0",
            "_model_name": "LayoutModel",
            "_view_count": null,
            "_view_module": "@jupyter-widgets/base",
            "_view_module_version": "1.2.0",
            "_view_name": "LayoutView",
            "align_content": null,
            "align_items": null,
            "align_self": null,
            "border": null,
            "bottom": null,
            "display": null,
            "flex": null,
            "flex_flow": null,
            "grid_area": null,
            "grid_auto_columns": null,
            "grid_auto_flow": null,
            "grid_auto_rows": null,
            "grid_column": null,
            "grid_gap": null,
            "grid_row": null,
            "grid_template_areas": null,
            "grid_template_columns": null,
            "grid_template_rows": null,
            "height": null,
            "justify_content": null,
            "justify_items": null,
            "left": null,
            "margin": null,
            "max_height": null,
            "max_width": null,
            "min_height": null,
            "min_width": null,
            "object_fit": null,
            "object_position": null,
            "order": null,
            "overflow": null,
            "overflow_x": null,
            "overflow_y": null,
            "padding": null,
            "right": null,
            "top": null,
            "visibility": null,
            "width": null
          }
        },
        "2bbabe7ff04d400281652831596a7147": {
          "model_module": "@jupyter-widgets/base",
          "model_module_version": "1.2.0",
          "model_name": "LayoutModel",
          "state": {
            "_model_module": "@jupyter-widgets/base",
            "_model_module_version": "1.2.0",
            "_model_name": "LayoutModel",
            "_view_count": null,
            "_view_module": "@jupyter-widgets/base",
            "_view_module_version": "1.2.0",
            "_view_name": "LayoutView",
            "align_content": null,
            "align_items": null,
            "align_self": null,
            "border": null,
            "bottom": null,
            "display": null,
            "flex": null,
            "flex_flow": null,
            "grid_area": null,
            "grid_auto_columns": null,
            "grid_auto_flow": null,
            "grid_auto_rows": null,
            "grid_column": null,
            "grid_gap": null,
            "grid_row": null,
            "grid_template_areas": null,
            "grid_template_columns": null,
            "grid_template_rows": null,
            "height": null,
            "justify_content": null,
            "justify_items": null,
            "left": null,
            "margin": null,
            "max_height": null,
            "max_width": null,
            "min_height": null,
            "min_width": null,
            "object_fit": null,
            "object_position": null,
            "order": null,
            "overflow": null,
            "overflow_x": null,
            "overflow_y": null,
            "padding": null,
            "right": null,
            "top": null,
            "visibility": null,
            "width": null
          }
        },
        "2c17addc8d7245b280ed4f631aba56ae": {
          "model_module": "@jupyter-widgets/base",
          "model_module_version": "1.2.0",
          "model_name": "LayoutModel",
          "state": {
            "_model_module": "@jupyter-widgets/base",
            "_model_module_version": "1.2.0",
            "_model_name": "LayoutModel",
            "_view_count": null,
            "_view_module": "@jupyter-widgets/base",
            "_view_module_version": "1.2.0",
            "_view_name": "LayoutView",
            "align_content": null,
            "align_items": null,
            "align_self": null,
            "border": null,
            "bottom": null,
            "display": null,
            "flex": null,
            "flex_flow": null,
            "grid_area": null,
            "grid_auto_columns": null,
            "grid_auto_flow": null,
            "grid_auto_rows": null,
            "grid_column": null,
            "grid_gap": null,
            "grid_row": null,
            "grid_template_areas": null,
            "grid_template_columns": null,
            "grid_template_rows": null,
            "height": null,
            "justify_content": null,
            "justify_items": null,
            "left": null,
            "margin": null,
            "max_height": null,
            "max_width": null,
            "min_height": null,
            "min_width": null,
            "object_fit": null,
            "object_position": null,
            "order": null,
            "overflow": null,
            "overflow_x": null,
            "overflow_y": null,
            "padding": null,
            "right": null,
            "top": null,
            "visibility": null,
            "width": null
          }
        },
        "2f7325b2c6734e96bf94a18d32e491f6": {
          "model_module": "@jupyter-widgets/base",
          "model_module_version": "1.2.0",
          "model_name": "LayoutModel",
          "state": {
            "_model_module": "@jupyter-widgets/base",
            "_model_module_version": "1.2.0",
            "_model_name": "LayoutModel",
            "_view_count": null,
            "_view_module": "@jupyter-widgets/base",
            "_view_module_version": "1.2.0",
            "_view_name": "LayoutView",
            "align_content": null,
            "align_items": null,
            "align_self": null,
            "border": null,
            "bottom": null,
            "display": null,
            "flex": null,
            "flex_flow": null,
            "grid_area": null,
            "grid_auto_columns": null,
            "grid_auto_flow": null,
            "grid_auto_rows": null,
            "grid_column": null,
            "grid_gap": null,
            "grid_row": null,
            "grid_template_areas": null,
            "grid_template_columns": null,
            "grid_template_rows": null,
            "height": null,
            "justify_content": null,
            "justify_items": null,
            "left": null,
            "margin": null,
            "max_height": null,
            "max_width": null,
            "min_height": null,
            "min_width": null,
            "object_fit": null,
            "object_position": null,
            "order": null,
            "overflow": null,
            "overflow_x": null,
            "overflow_y": null,
            "padding": null,
            "right": null,
            "top": null,
            "visibility": null,
            "width": null
          }
        },
        "325f5efe6649471b971b5ce1bfcbcf87": {
          "model_module": "@jupyter-widgets/base",
          "model_module_version": "1.2.0",
          "model_name": "LayoutModel",
          "state": {
            "_model_module": "@jupyter-widgets/base",
            "_model_module_version": "1.2.0",
            "_model_name": "LayoutModel",
            "_view_count": null,
            "_view_module": "@jupyter-widgets/base",
            "_view_module_version": "1.2.0",
            "_view_name": "LayoutView",
            "align_content": null,
            "align_items": null,
            "align_self": null,
            "border": null,
            "bottom": null,
            "display": null,
            "flex": null,
            "flex_flow": null,
            "grid_area": null,
            "grid_auto_columns": null,
            "grid_auto_flow": null,
            "grid_auto_rows": null,
            "grid_column": null,
            "grid_gap": null,
            "grid_row": null,
            "grid_template_areas": null,
            "grid_template_columns": null,
            "grid_template_rows": null,
            "height": null,
            "justify_content": null,
            "justify_items": null,
            "left": null,
            "margin": null,
            "max_height": null,
            "max_width": null,
            "min_height": null,
            "min_width": null,
            "object_fit": null,
            "object_position": null,
            "order": null,
            "overflow": null,
            "overflow_x": null,
            "overflow_y": null,
            "padding": null,
            "right": null,
            "top": null,
            "visibility": null,
            "width": null
          }
        },
        "3397aa5788f44a778426600118aec3c9": {
          "model_module": "@jupyter-widgets/controls",
          "model_module_version": "1.5.0",
          "model_name": "DescriptionStyleModel",
          "state": {
            "_model_module": "@jupyter-widgets/controls",
            "_model_module_version": "1.5.0",
            "_model_name": "DescriptionStyleModel",
            "_view_count": null,
            "_view_module": "@jupyter-widgets/base",
            "_view_module_version": "1.2.0",
            "_view_name": "StyleView",
            "description_width": ""
          }
        },
        "34912db556e543068db5e31414377b67": {
          "model_module": "@jupyter-widgets/base",
          "model_module_version": "1.2.0",
          "model_name": "LayoutModel",
          "state": {
            "_model_module": "@jupyter-widgets/base",
            "_model_module_version": "1.2.0",
            "_model_name": "LayoutModel",
            "_view_count": null,
            "_view_module": "@jupyter-widgets/base",
            "_view_module_version": "1.2.0",
            "_view_name": "LayoutView",
            "align_content": null,
            "align_items": null,
            "align_self": null,
            "border": null,
            "bottom": null,
            "display": null,
            "flex": null,
            "flex_flow": null,
            "grid_area": null,
            "grid_auto_columns": null,
            "grid_auto_flow": null,
            "grid_auto_rows": null,
            "grid_column": null,
            "grid_gap": null,
            "grid_row": null,
            "grid_template_areas": null,
            "grid_template_columns": null,
            "grid_template_rows": null,
            "height": null,
            "justify_content": null,
            "justify_items": null,
            "left": null,
            "margin": null,
            "max_height": null,
            "max_width": null,
            "min_height": null,
            "min_width": null,
            "object_fit": null,
            "object_position": null,
            "order": null,
            "overflow": null,
            "overflow_x": null,
            "overflow_y": null,
            "padding": null,
            "right": null,
            "top": null,
            "visibility": null,
            "width": null
          }
        },
        "359e7f52079d4ae8af3cdd358aa8127a": {
          "model_module": "@jupyter-widgets/controls",
          "model_module_version": "1.5.0",
          "model_name": "FloatProgressModel",
          "state": {
            "_dom_classes": [],
            "_model_module": "@jupyter-widgets/controls",
            "_model_module_version": "1.5.0",
            "_model_name": "FloatProgressModel",
            "_view_count": null,
            "_view_module": "@jupyter-widgets/controls",
            "_view_module_version": "1.5.0",
            "_view_name": "ProgressView",
            "bar_style": "",
            "description": "",
            "description_tooltip": null,
            "layout": "IPY_MODEL_74c5c8bacfab4daaa96bc7830faae3e5",
            "max": 1,
            "min": 0,
            "orientation": "horizontal",
            "style": "IPY_MODEL_1394c8df20c34de2a4d1c5a86ee2a4fa",
            "value": 0.1047530673265285
          }
        },
        "36c8247a869240c2bdf24cd91341f332": {
          "model_module": "@jupyter-widgets/controls",
          "model_module_version": "1.5.0",
          "model_name": "DescriptionStyleModel",
          "state": {
            "_model_module": "@jupyter-widgets/controls",
            "_model_module_version": "1.5.0",
            "_model_name": "DescriptionStyleModel",
            "_view_count": null,
            "_view_module": "@jupyter-widgets/base",
            "_view_module_version": "1.2.0",
            "_view_name": "StyleView",
            "description_width": ""
          }
        },
        "39d47408258444b19053c884ec41ddd3": {
          "model_module": "@jupyter-widgets/controls",
          "model_module_version": "1.5.0",
          "model_name": "LabelModel",
          "state": {
            "_dom_classes": [],
            "_model_module": "@jupyter-widgets/controls",
            "_model_module_version": "1.5.0",
            "_model_name": "LabelModel",
            "_view_count": null,
            "_view_module": "@jupyter-widgets/controls",
            "_view_module_version": "1.5.0",
            "_view_name": "LabelView",
            "description": "",
            "description_tooltip": null,
            "layout": "IPY_MODEL_bdcd3debca6148c58713a827e35b69bc",
            "placeholder": "​",
            "style": "IPY_MODEL_b915ea554c154960b5c9e5e53ea67fe9",
            "value": "0.001 MB of 0.009 MB uploaded (0.000 MB deduped)\r"
          }
        },
        "3ad4350e0d8642849fffb9018db3d8eb": {
          "model_module": "@jupyter-widgets/controls",
          "model_module_version": "1.5.0",
          "model_name": "LabelModel",
          "state": {
            "_dom_classes": [],
            "_model_module": "@jupyter-widgets/controls",
            "_model_module_version": "1.5.0",
            "_model_name": "LabelModel",
            "_view_count": null,
            "_view_module": "@jupyter-widgets/controls",
            "_view_module_version": "1.5.0",
            "_view_name": "LabelView",
            "description": "",
            "description_tooltip": null,
            "layout": "IPY_MODEL_f312426da7954951abe5d348c323d797",
            "placeholder": "​",
            "style": "IPY_MODEL_00fa55f42a2b4620a6dadda962a89784",
            "value": "0.001 MB of 0.009 MB uploaded (0.000 MB deduped)\r"
          }
        },
        "3b3d2cdb61924c268f31a6f8f50a205b": {
          "model_module": "@jupyter-widgets/controls",
          "model_module_version": "1.5.0",
          "model_name": "ProgressStyleModel",
          "state": {
            "_model_module": "@jupyter-widgets/controls",
            "_model_module_version": "1.5.0",
            "_model_name": "ProgressStyleModel",
            "_view_count": null,
            "_view_module": "@jupyter-widgets/base",
            "_view_module_version": "1.2.0",
            "_view_name": "StyleView",
            "bar_color": null,
            "description_width": ""
          }
        },
        "3d4c6dea17c946eb8168166d3cdabe15": {
          "model_module": "@jupyter-widgets/controls",
          "model_module_version": "1.5.0",
          "model_name": "VBoxModel",
          "state": {
            "_dom_classes": [],
            "_model_module": "@jupyter-widgets/controls",
            "_model_module_version": "1.5.0",
            "_model_name": "VBoxModel",
            "_view_count": null,
            "_view_module": "@jupyter-widgets/controls",
            "_view_module_version": "1.5.0",
            "_view_name": "VBoxView",
            "box_style": "",
            "children": [
              "IPY_MODEL_fbf428516b284ef0aa0022913f528c23",
              "IPY_MODEL_5bcdba58e2614096b83457a66f197740"
            ],
            "layout": "IPY_MODEL_440ac34a89bb402e94f3f5d8f1bd9d1d"
          }
        },
        "3e48eb341e7b43a295f11246db89e3e9": {
          "model_module": "@jupyter-widgets/controls",
          "model_module_version": "1.5.0",
          "model_name": "FloatProgressModel",
          "state": {
            "_dom_classes": [],
            "_model_module": "@jupyter-widgets/controls",
            "_model_module_version": "1.5.0",
            "_model_name": "FloatProgressModel",
            "_view_count": null,
            "_view_module": "@jupyter-widgets/controls",
            "_view_module_version": "1.5.0",
            "_view_name": "ProgressView",
            "bar_style": "",
            "description": "",
            "description_tooltip": null,
            "layout": "IPY_MODEL_4da966b7f4fd42d4a3774be18f05c512",
            "max": 1,
            "min": 0,
            "orientation": "horizontal",
            "style": "IPY_MODEL_8ed1b178ae4e4bb291cce26783ab2441",
            "value": 0.09734598064577944
          }
        },
        "3ec4bfd17516406495c8905ce95b8d20": {
          "model_module": "@jupyter-widgets/base",
          "model_module_version": "1.2.0",
          "model_name": "LayoutModel",
          "state": {
            "_model_module": "@jupyter-widgets/base",
            "_model_module_version": "1.2.0",
            "_model_name": "LayoutModel",
            "_view_count": null,
            "_view_module": "@jupyter-widgets/base",
            "_view_module_version": "1.2.0",
            "_view_name": "LayoutView",
            "align_content": null,
            "align_items": null,
            "align_self": null,
            "border": null,
            "bottom": null,
            "display": null,
            "flex": null,
            "flex_flow": null,
            "grid_area": null,
            "grid_auto_columns": null,
            "grid_auto_flow": null,
            "grid_auto_rows": null,
            "grid_column": null,
            "grid_gap": null,
            "grid_row": null,
            "grid_template_areas": null,
            "grid_template_columns": null,
            "grid_template_rows": null,
            "height": null,
            "justify_content": null,
            "justify_items": null,
            "left": null,
            "margin": null,
            "max_height": null,
            "max_width": null,
            "min_height": null,
            "min_width": null,
            "object_fit": null,
            "object_position": null,
            "order": null,
            "overflow": null,
            "overflow_x": null,
            "overflow_y": null,
            "padding": null,
            "right": null,
            "top": null,
            "visibility": null,
            "width": null
          }
        },
        "3edb443aceba4128b71b35acc7bf28b4": {
          "model_module": "@jupyter-widgets/controls",
          "model_module_version": "1.5.0",
          "model_name": "FloatProgressModel",
          "state": {
            "_dom_classes": [],
            "_model_module": "@jupyter-widgets/controls",
            "_model_module_version": "1.5.0",
            "_model_name": "FloatProgressModel",
            "_view_count": null,
            "_view_module": "@jupyter-widgets/controls",
            "_view_module_version": "1.5.0",
            "_view_name": "ProgressView",
            "bar_style": "",
            "description": "",
            "description_tooltip": null,
            "layout": "IPY_MODEL_a463c6e7c477452abcbed0b62c77321c",
            "max": 1,
            "min": 0,
            "orientation": "horizontal",
            "style": "IPY_MODEL_27b99656bcc7408b98de715338f3605e",
            "value": 0.8734939759036144
          }
        },
        "40636c8eb80f4362bb3989f6704ba68f": {
          "model_module": "@jupyter-widgets/base",
          "model_module_version": "1.2.0",
          "model_name": "LayoutModel",
          "state": {
            "_model_module": "@jupyter-widgets/base",
            "_model_module_version": "1.2.0",
            "_model_name": "LayoutModel",
            "_view_count": null,
            "_view_module": "@jupyter-widgets/base",
            "_view_module_version": "1.2.0",
            "_view_name": "LayoutView",
            "align_content": null,
            "align_items": null,
            "align_self": null,
            "border": null,
            "bottom": null,
            "display": null,
            "flex": null,
            "flex_flow": null,
            "grid_area": null,
            "grid_auto_columns": null,
            "grid_auto_flow": null,
            "grid_auto_rows": null,
            "grid_column": null,
            "grid_gap": null,
            "grid_row": null,
            "grid_template_areas": null,
            "grid_template_columns": null,
            "grid_template_rows": null,
            "height": null,
            "justify_content": null,
            "justify_items": null,
            "left": null,
            "margin": null,
            "max_height": null,
            "max_width": null,
            "min_height": null,
            "min_width": null,
            "object_fit": null,
            "object_position": null,
            "order": null,
            "overflow": null,
            "overflow_x": null,
            "overflow_y": null,
            "padding": null,
            "right": null,
            "top": null,
            "visibility": null,
            "width": null
          }
        },
        "41f8c08a5fc74fdcabe15af6e6293e5f": {
          "model_module": "@jupyter-widgets/controls",
          "model_module_version": "1.5.0",
          "model_name": "LabelModel",
          "state": {
            "_dom_classes": [],
            "_model_module": "@jupyter-widgets/controls",
            "_model_module_version": "1.5.0",
            "_model_name": "LabelModel",
            "_view_count": null,
            "_view_module": "@jupyter-widgets/controls",
            "_view_module_version": "1.5.0",
            "_view_name": "LabelView",
            "description": "",
            "description_tooltip": null,
            "layout": "IPY_MODEL_b3c584c8b3ad4bc5a3a315d01ea1336f",
            "placeholder": "​",
            "style": "IPY_MODEL_76d40e4b7743467b9d462df6e4a3e096",
            "value": "0.001 MB of 0.009 MB uploaded (0.000 MB deduped)\r"
          }
        },
        "427985ab744846808cc2f5c4d88a4521": {
          "model_module": "@jupyter-widgets/controls",
          "model_module_version": "1.5.0",
          "model_name": "VBoxModel",
          "state": {
            "_dom_classes": [],
            "_model_module": "@jupyter-widgets/controls",
            "_model_module_version": "1.5.0",
            "_model_name": "VBoxModel",
            "_view_count": null,
            "_view_module": "@jupyter-widgets/controls",
            "_view_module_version": "1.5.0",
            "_view_name": "VBoxView",
            "box_style": "",
            "children": [
              "IPY_MODEL_b474ade21f904618b6cdbf4769c16f2b",
              "IPY_MODEL_0155c7c883974e9088bde1760379f650"
            ],
            "layout": "IPY_MODEL_cbb983080bb040999c5f2b363573e72e"
          }
        },
        "440ac34a89bb402e94f3f5d8f1bd9d1d": {
          "model_module": "@jupyter-widgets/base",
          "model_module_version": "1.2.0",
          "model_name": "LayoutModel",
          "state": {
            "_model_module": "@jupyter-widgets/base",
            "_model_module_version": "1.2.0",
            "_model_name": "LayoutModel",
            "_view_count": null,
            "_view_module": "@jupyter-widgets/base",
            "_view_module_version": "1.2.0",
            "_view_name": "LayoutView",
            "align_content": null,
            "align_items": null,
            "align_self": null,
            "border": null,
            "bottom": null,
            "display": null,
            "flex": null,
            "flex_flow": null,
            "grid_area": null,
            "grid_auto_columns": null,
            "grid_auto_flow": null,
            "grid_auto_rows": null,
            "grid_column": null,
            "grid_gap": null,
            "grid_row": null,
            "grid_template_areas": null,
            "grid_template_columns": null,
            "grid_template_rows": null,
            "height": null,
            "justify_content": null,
            "justify_items": null,
            "left": null,
            "margin": null,
            "max_height": null,
            "max_width": null,
            "min_height": null,
            "min_width": null,
            "object_fit": null,
            "object_position": null,
            "order": null,
            "overflow": null,
            "overflow_x": null,
            "overflow_y": null,
            "padding": null,
            "right": null,
            "top": null,
            "visibility": null,
            "width": null
          }
        },
        "44ee01514cf94c578d9a5abbef58fe3b": {
          "model_module": "@jupyter-widgets/controls",
          "model_module_version": "1.5.0",
          "model_name": "FloatProgressModel",
          "state": {
            "_dom_classes": [],
            "_model_module": "@jupyter-widgets/controls",
            "_model_module_version": "1.5.0",
            "_model_name": "FloatProgressModel",
            "_view_count": null,
            "_view_module": "@jupyter-widgets/controls",
            "_view_module_version": "1.5.0",
            "_view_name": "ProgressView",
            "bar_style": "",
            "description": "",
            "description_tooltip": null,
            "layout": "IPY_MODEL_a373798bfc784245ba3a6f3313ede087",
            "max": 1,
            "min": 0,
            "orientation": "horizontal",
            "style": "IPY_MODEL_872bea72f8154c80b143855ac9523427",
            "value": 0.10485537190082644
          }
        },
        "454d2a2785034e79b1b32644a7f40267": {
          "model_module": "@jupyter-widgets/base",
          "model_module_version": "1.2.0",
          "model_name": "LayoutModel",
          "state": {
            "_model_module": "@jupyter-widgets/base",
            "_model_module_version": "1.2.0",
            "_model_name": "LayoutModel",
            "_view_count": null,
            "_view_module": "@jupyter-widgets/base",
            "_view_module_version": "1.2.0",
            "_view_name": "LayoutView",
            "align_content": null,
            "align_items": null,
            "align_self": null,
            "border": null,
            "bottom": null,
            "display": null,
            "flex": null,
            "flex_flow": null,
            "grid_area": null,
            "grid_auto_columns": null,
            "grid_auto_flow": null,
            "grid_auto_rows": null,
            "grid_column": null,
            "grid_gap": null,
            "grid_row": null,
            "grid_template_areas": null,
            "grid_template_columns": null,
            "grid_template_rows": null,
            "height": null,
            "justify_content": null,
            "justify_items": null,
            "left": null,
            "margin": null,
            "max_height": null,
            "max_width": null,
            "min_height": null,
            "min_width": null,
            "object_fit": null,
            "object_position": null,
            "order": null,
            "overflow": null,
            "overflow_x": null,
            "overflow_y": null,
            "padding": null,
            "right": null,
            "top": null,
            "visibility": null,
            "width": null
          }
        },
        "467c188da55a4ccb98ace5f7c6dee1bd": {
          "model_module": "@jupyter-widgets/base",
          "model_module_version": "1.2.0",
          "model_name": "LayoutModel",
          "state": {
            "_model_module": "@jupyter-widgets/base",
            "_model_module_version": "1.2.0",
            "_model_name": "LayoutModel",
            "_view_count": null,
            "_view_module": "@jupyter-widgets/base",
            "_view_module_version": "1.2.0",
            "_view_name": "LayoutView",
            "align_content": null,
            "align_items": null,
            "align_self": null,
            "border": null,
            "bottom": null,
            "display": null,
            "flex": null,
            "flex_flow": null,
            "grid_area": null,
            "grid_auto_columns": null,
            "grid_auto_flow": null,
            "grid_auto_rows": null,
            "grid_column": null,
            "grid_gap": null,
            "grid_row": null,
            "grid_template_areas": null,
            "grid_template_columns": null,
            "grid_template_rows": null,
            "height": null,
            "justify_content": null,
            "justify_items": null,
            "left": null,
            "margin": null,
            "max_height": null,
            "max_width": null,
            "min_height": null,
            "min_width": null,
            "object_fit": null,
            "object_position": null,
            "order": null,
            "overflow": null,
            "overflow_x": null,
            "overflow_y": null,
            "padding": null,
            "right": null,
            "top": null,
            "visibility": null,
            "width": null
          }
        },
        "48f35278fa9747caa99be71fc563887e": {
          "model_module": "@jupyter-widgets/base",
          "model_module_version": "1.2.0",
          "model_name": "LayoutModel",
          "state": {
            "_model_module": "@jupyter-widgets/base",
            "_model_module_version": "1.2.0",
            "_model_name": "LayoutModel",
            "_view_count": null,
            "_view_module": "@jupyter-widgets/base",
            "_view_module_version": "1.2.0",
            "_view_name": "LayoutView",
            "align_content": null,
            "align_items": null,
            "align_self": null,
            "border": null,
            "bottom": null,
            "display": null,
            "flex": null,
            "flex_flow": null,
            "grid_area": null,
            "grid_auto_columns": null,
            "grid_auto_flow": null,
            "grid_auto_rows": null,
            "grid_column": null,
            "grid_gap": null,
            "grid_row": null,
            "grid_template_areas": null,
            "grid_template_columns": null,
            "grid_template_rows": null,
            "height": null,
            "justify_content": null,
            "justify_items": null,
            "left": null,
            "margin": null,
            "max_height": null,
            "max_width": null,
            "min_height": null,
            "min_width": null,
            "object_fit": null,
            "object_position": null,
            "order": null,
            "overflow": null,
            "overflow_x": null,
            "overflow_y": null,
            "padding": null,
            "right": null,
            "top": null,
            "visibility": null,
            "width": null
          }
        },
        "49332b7757b740a184df6b7c1ed8a79d": {
          "model_module": "@jupyter-widgets/controls",
          "model_module_version": "1.5.0",
          "model_name": "DescriptionStyleModel",
          "state": {
            "_model_module": "@jupyter-widgets/controls",
            "_model_module_version": "1.5.0",
            "_model_name": "DescriptionStyleModel",
            "_view_count": null,
            "_view_module": "@jupyter-widgets/base",
            "_view_module_version": "1.2.0",
            "_view_name": "StyleView",
            "description_width": ""
          }
        },
        "4a08f43cf6eb4829967d5cf40b608f94": {
          "model_module": "@jupyter-widgets/base",
          "model_module_version": "1.2.0",
          "model_name": "LayoutModel",
          "state": {
            "_model_module": "@jupyter-widgets/base",
            "_model_module_version": "1.2.0",
            "_model_name": "LayoutModel",
            "_view_count": null,
            "_view_module": "@jupyter-widgets/base",
            "_view_module_version": "1.2.0",
            "_view_name": "LayoutView",
            "align_content": null,
            "align_items": null,
            "align_self": null,
            "border": null,
            "bottom": null,
            "display": null,
            "flex": null,
            "flex_flow": null,
            "grid_area": null,
            "grid_auto_columns": null,
            "grid_auto_flow": null,
            "grid_auto_rows": null,
            "grid_column": null,
            "grid_gap": null,
            "grid_row": null,
            "grid_template_areas": null,
            "grid_template_columns": null,
            "grid_template_rows": null,
            "height": null,
            "justify_content": null,
            "justify_items": null,
            "left": null,
            "margin": null,
            "max_height": null,
            "max_width": null,
            "min_height": null,
            "min_width": null,
            "object_fit": null,
            "object_position": null,
            "order": null,
            "overflow": null,
            "overflow_x": null,
            "overflow_y": null,
            "padding": null,
            "right": null,
            "top": null,
            "visibility": null,
            "width": null
          }
        },
        "4da966b7f4fd42d4a3774be18f05c512": {
          "model_module": "@jupyter-widgets/base",
          "model_module_version": "1.2.0",
          "model_name": "LayoutModel",
          "state": {
            "_model_module": "@jupyter-widgets/base",
            "_model_module_version": "1.2.0",
            "_model_name": "LayoutModel",
            "_view_count": null,
            "_view_module": "@jupyter-widgets/base",
            "_view_module_version": "1.2.0",
            "_view_name": "LayoutView",
            "align_content": null,
            "align_items": null,
            "align_self": null,
            "border": null,
            "bottom": null,
            "display": null,
            "flex": null,
            "flex_flow": null,
            "grid_area": null,
            "grid_auto_columns": null,
            "grid_auto_flow": null,
            "grid_auto_rows": null,
            "grid_column": null,
            "grid_gap": null,
            "grid_row": null,
            "grid_template_areas": null,
            "grid_template_columns": null,
            "grid_template_rows": null,
            "height": null,
            "justify_content": null,
            "justify_items": null,
            "left": null,
            "margin": null,
            "max_height": null,
            "max_width": null,
            "min_height": null,
            "min_width": null,
            "object_fit": null,
            "object_position": null,
            "order": null,
            "overflow": null,
            "overflow_x": null,
            "overflow_y": null,
            "padding": null,
            "right": null,
            "top": null,
            "visibility": null,
            "width": null
          }
        },
        "4e5e5d49d4234320b1390ab1cc90cfb6": {
          "model_module": "@jupyter-widgets/base",
          "model_module_version": "1.2.0",
          "model_name": "LayoutModel",
          "state": {
            "_model_module": "@jupyter-widgets/base",
            "_model_module_version": "1.2.0",
            "_model_name": "LayoutModel",
            "_view_count": null,
            "_view_module": "@jupyter-widgets/base",
            "_view_module_version": "1.2.0",
            "_view_name": "LayoutView",
            "align_content": null,
            "align_items": null,
            "align_self": null,
            "border": null,
            "bottom": null,
            "display": null,
            "flex": null,
            "flex_flow": null,
            "grid_area": null,
            "grid_auto_columns": null,
            "grid_auto_flow": null,
            "grid_auto_rows": null,
            "grid_column": null,
            "grid_gap": null,
            "grid_row": null,
            "grid_template_areas": null,
            "grid_template_columns": null,
            "grid_template_rows": null,
            "height": null,
            "justify_content": null,
            "justify_items": null,
            "left": null,
            "margin": null,
            "max_height": null,
            "max_width": null,
            "min_height": null,
            "min_width": null,
            "object_fit": null,
            "object_position": null,
            "order": null,
            "overflow": null,
            "overflow_x": null,
            "overflow_y": null,
            "padding": null,
            "right": null,
            "top": null,
            "visibility": null,
            "width": null
          }
        },
        "4f6b3685fbf34787b6586c4bdb156934": {
          "model_module": "@jupyter-widgets/controls",
          "model_module_version": "1.5.0",
          "model_name": "FloatProgressModel",
          "state": {
            "_dom_classes": [],
            "_model_module": "@jupyter-widgets/controls",
            "_model_module_version": "1.5.0",
            "_model_name": "FloatProgressModel",
            "_view_count": null,
            "_view_module": "@jupyter-widgets/controls",
            "_view_module_version": "1.5.0",
            "_view_name": "ProgressView",
            "bar_style": "",
            "description": "",
            "description_tooltip": null,
            "layout": "IPY_MODEL_7d75f5bd0e6e4c81abe514ad6b59abc7",
            "max": 1,
            "min": 0,
            "orientation": "horizontal",
            "style": "IPY_MODEL_e4871dd9ddae430b999f7b1dfba5036c",
            "value": 0.10448836730492073
          }
        },
        "51735ca4d82d4931af21d387548f2d6e": {
          "model_module": "@jupyter-widgets/controls",
          "model_module_version": "1.5.0",
          "model_name": "VBoxModel",
          "state": {
            "_dom_classes": [],
            "_model_module": "@jupyter-widgets/controls",
            "_model_module_version": "1.5.0",
            "_model_name": "VBoxModel",
            "_view_count": null,
            "_view_module": "@jupyter-widgets/controls",
            "_view_module_version": "1.5.0",
            "_view_name": "VBoxView",
            "box_style": "",
            "children": [
              "IPY_MODEL_52c83042d26f469390e6acf1965c9aac",
              "IPY_MODEL_3e48eb341e7b43a295f11246db89e3e9"
            ],
            "layout": "IPY_MODEL_467c188da55a4ccb98ace5f7c6dee1bd"
          }
        },
        "518fe9ef67b24ca59fce073b7d7f4a72": {
          "model_module": "@jupyter-widgets/controls",
          "model_module_version": "1.5.0",
          "model_name": "LabelModel",
          "state": {
            "_dom_classes": [],
            "_model_module": "@jupyter-widgets/controls",
            "_model_module_version": "1.5.0",
            "_model_name": "LabelModel",
            "_view_count": null,
            "_view_module": "@jupyter-widgets/controls",
            "_view_module_version": "1.5.0",
            "_view_name": "LabelView",
            "description": "",
            "description_tooltip": null,
            "layout": "IPY_MODEL_01c96351d6a4416abf53ee22dac765d2",
            "placeholder": "​",
            "style": "IPY_MODEL_cf37ebb27ff64fe79a5592cd7863bb37",
            "value": "0.001 MB of 0.009 MB uploaded (0.000 MB deduped)\r"
          }
        },
        "5193d3732cc0491090481a4fdc86378c": {
          "model_module": "@jupyter-widgets/controls",
          "model_module_version": "1.5.0",
          "model_name": "FloatProgressModel",
          "state": {
            "_dom_classes": [],
            "_model_module": "@jupyter-widgets/controls",
            "_model_module_version": "1.5.0",
            "_model_name": "FloatProgressModel",
            "_view_count": null,
            "_view_module": "@jupyter-widgets/controls",
            "_view_module_version": "1.5.0",
            "_view_name": "ProgressView",
            "bar_style": "",
            "description": "",
            "description_tooltip": null,
            "layout": "IPY_MODEL_87b016cfbf9143ec93848b0b18f502e2",
            "max": 1,
            "min": 0,
            "orientation": "horizontal",
            "style": "IPY_MODEL_a781ca3c69a846f3a1e19b599ce427a0",
            "value": 0.10474716202270382
          }
        },
        "52c83042d26f469390e6acf1965c9aac": {
          "model_module": "@jupyter-widgets/controls",
          "model_module_version": "1.5.0",
          "model_name": "LabelModel",
          "state": {
            "_dom_classes": [],
            "_model_module": "@jupyter-widgets/controls",
            "_model_module_version": "1.5.0",
            "_model_name": "LabelModel",
            "_view_count": null,
            "_view_module": "@jupyter-widgets/controls",
            "_view_module_version": "1.5.0",
            "_view_name": "LabelView",
            "description": "",
            "description_tooltip": null,
            "layout": "IPY_MODEL_ba97076f176f4b67bab5de7158fc8a79",
            "placeholder": "​",
            "style": "IPY_MODEL_e0b503c678694763956074fb8faece20",
            "value": "0.001 MB of 0.010 MB uploaded (0.000 MB deduped)\r"
          }
        },
        "5313e8ccda2e4a408829d4e63786fb6a": {
          "model_module": "@jupyter-widgets/controls",
          "model_module_version": "1.5.0",
          "model_name": "FloatProgressModel",
          "state": {
            "_dom_classes": [],
            "_model_module": "@jupyter-widgets/controls",
            "_model_module_version": "1.5.0",
            "_model_name": "FloatProgressModel",
            "_view_count": null,
            "_view_module": "@jupyter-widgets/controls",
            "_view_module_version": "1.5.0",
            "_view_name": "ProgressView",
            "bar_style": "",
            "description": "",
            "description_tooltip": null,
            "layout": "IPY_MODEL_e25fd494df664836b317f961a54de313",
            "max": 1,
            "min": 0,
            "orientation": "horizontal",
            "style": "IPY_MODEL_1380b84fd6964bd794c4beeb2501662d",
            "value": 0.10459473412493547
          }
        },
        "53604686be6649369f7267e9b0fd404b": {
          "model_module": "@jupyter-widgets/base",
          "model_module_version": "1.2.0",
          "model_name": "LayoutModel",
          "state": {
            "_model_module": "@jupyter-widgets/base",
            "_model_module_version": "1.2.0",
            "_model_name": "LayoutModel",
            "_view_count": null,
            "_view_module": "@jupyter-widgets/base",
            "_view_module_version": "1.2.0",
            "_view_name": "LayoutView",
            "align_content": null,
            "align_items": null,
            "align_self": null,
            "border": null,
            "bottom": null,
            "display": null,
            "flex": null,
            "flex_flow": null,
            "grid_area": null,
            "grid_auto_columns": null,
            "grid_auto_flow": null,
            "grid_auto_rows": null,
            "grid_column": null,
            "grid_gap": null,
            "grid_row": null,
            "grid_template_areas": null,
            "grid_template_columns": null,
            "grid_template_rows": null,
            "height": null,
            "justify_content": null,
            "justify_items": null,
            "left": null,
            "margin": null,
            "max_height": null,
            "max_width": null,
            "min_height": null,
            "min_width": null,
            "object_fit": null,
            "object_position": null,
            "order": null,
            "overflow": null,
            "overflow_x": null,
            "overflow_y": null,
            "padding": null,
            "right": null,
            "top": null,
            "visibility": null,
            "width": null
          }
        },
        "53c2ca7225a7474dba57a81baa0186d8": {
          "model_module": "@jupyter-widgets/controls",
          "model_module_version": "1.5.0",
          "model_name": "ProgressStyleModel",
          "state": {
            "_model_module": "@jupyter-widgets/controls",
            "_model_module_version": "1.5.0",
            "_model_name": "ProgressStyleModel",
            "_view_count": null,
            "_view_module": "@jupyter-widgets/base",
            "_view_module_version": "1.2.0",
            "_view_name": "StyleView",
            "bar_color": null,
            "description_width": ""
          }
        },
        "53ef89f250384be784cfb756235832ac": {
          "model_module": "@jupyter-widgets/controls",
          "model_module_version": "1.5.0",
          "model_name": "LabelModel",
          "state": {
            "_dom_classes": [],
            "_model_module": "@jupyter-widgets/controls",
            "_model_module_version": "1.5.0",
            "_model_name": "LabelModel",
            "_view_count": null,
            "_view_module": "@jupyter-widgets/controls",
            "_view_module_version": "1.5.0",
            "_view_name": "LabelView",
            "description": "",
            "description_tooltip": null,
            "layout": "IPY_MODEL_85970d8ae80d41ff95b43b3c3e402a11",
            "placeholder": "​",
            "style": "IPY_MODEL_3397aa5788f44a778426600118aec3c9",
            "value": "0.001 MB of 0.009 MB uploaded (0.000 MB deduped)\r"
          }
        },
        "53ffe26771b344e69c0cb6af2a537356": {
          "model_module": "@jupyter-widgets/base",
          "model_module_version": "1.2.0",
          "model_name": "LayoutModel",
          "state": {
            "_model_module": "@jupyter-widgets/base",
            "_model_module_version": "1.2.0",
            "_model_name": "LayoutModel",
            "_view_count": null,
            "_view_module": "@jupyter-widgets/base",
            "_view_module_version": "1.2.0",
            "_view_name": "LayoutView",
            "align_content": null,
            "align_items": null,
            "align_self": null,
            "border": null,
            "bottom": null,
            "display": null,
            "flex": null,
            "flex_flow": null,
            "grid_area": null,
            "grid_auto_columns": null,
            "grid_auto_flow": null,
            "grid_auto_rows": null,
            "grid_column": null,
            "grid_gap": null,
            "grid_row": null,
            "grid_template_areas": null,
            "grid_template_columns": null,
            "grid_template_rows": null,
            "height": null,
            "justify_content": null,
            "justify_items": null,
            "left": null,
            "margin": null,
            "max_height": null,
            "max_width": null,
            "min_height": null,
            "min_width": null,
            "object_fit": null,
            "object_position": null,
            "order": null,
            "overflow": null,
            "overflow_x": null,
            "overflow_y": null,
            "padding": null,
            "right": null,
            "top": null,
            "visibility": null,
            "width": null
          }
        },
        "55eda2ad4bcd409297fb7c597f984109": {
          "model_module": "@jupyter-widgets/controls",
          "model_module_version": "1.5.0",
          "model_name": "VBoxModel",
          "state": {
            "_dom_classes": [],
            "_model_module": "@jupyter-widgets/controls",
            "_model_module_version": "1.5.0",
            "_model_name": "VBoxModel",
            "_view_count": null,
            "_view_module": "@jupyter-widgets/controls",
            "_view_module_version": "1.5.0",
            "_view_name": "VBoxView",
            "box_style": "",
            "children": [
              "IPY_MODEL_e67ddc6ac75847a18f7bad863e074acb",
              "IPY_MODEL_359e7f52079d4ae8af3cdd358aa8127a"
            ],
            "layout": "IPY_MODEL_a53b002f54f84e199d74b94842d3561e"
          }
        },
        "5736781f51ed4c8196ed860267af679c": {
          "model_module": "@jupyter-widgets/base",
          "model_module_version": "1.2.0",
          "model_name": "LayoutModel",
          "state": {
            "_model_module": "@jupyter-widgets/base",
            "_model_module_version": "1.2.0",
            "_model_name": "LayoutModel",
            "_view_count": null,
            "_view_module": "@jupyter-widgets/base",
            "_view_module_version": "1.2.0",
            "_view_name": "LayoutView",
            "align_content": null,
            "align_items": null,
            "align_self": null,
            "border": null,
            "bottom": null,
            "display": null,
            "flex": null,
            "flex_flow": null,
            "grid_area": null,
            "grid_auto_columns": null,
            "grid_auto_flow": null,
            "grid_auto_rows": null,
            "grid_column": null,
            "grid_gap": null,
            "grid_row": null,
            "grid_template_areas": null,
            "grid_template_columns": null,
            "grid_template_rows": null,
            "height": null,
            "justify_content": null,
            "justify_items": null,
            "left": null,
            "margin": null,
            "max_height": null,
            "max_width": null,
            "min_height": null,
            "min_width": null,
            "object_fit": null,
            "object_position": null,
            "order": null,
            "overflow": null,
            "overflow_x": null,
            "overflow_y": null,
            "padding": null,
            "right": null,
            "top": null,
            "visibility": null,
            "width": null
          }
        },
        "5802e096347d4024b184389bcb518f5b": {
          "model_module": "@jupyter-widgets/base",
          "model_module_version": "1.2.0",
          "model_name": "LayoutModel",
          "state": {
            "_model_module": "@jupyter-widgets/base",
            "_model_module_version": "1.2.0",
            "_model_name": "LayoutModel",
            "_view_count": null,
            "_view_module": "@jupyter-widgets/base",
            "_view_module_version": "1.2.0",
            "_view_name": "LayoutView",
            "align_content": null,
            "align_items": null,
            "align_self": null,
            "border": null,
            "bottom": null,
            "display": null,
            "flex": null,
            "flex_flow": null,
            "grid_area": null,
            "grid_auto_columns": null,
            "grid_auto_flow": null,
            "grid_auto_rows": null,
            "grid_column": null,
            "grid_gap": null,
            "grid_row": null,
            "grid_template_areas": null,
            "grid_template_columns": null,
            "grid_template_rows": null,
            "height": null,
            "justify_content": null,
            "justify_items": null,
            "left": null,
            "margin": null,
            "max_height": null,
            "max_width": null,
            "min_height": null,
            "min_width": null,
            "object_fit": null,
            "object_position": null,
            "order": null,
            "overflow": null,
            "overflow_x": null,
            "overflow_y": null,
            "padding": null,
            "right": null,
            "top": null,
            "visibility": null,
            "width": null
          }
        },
        "5bcdba58e2614096b83457a66f197740": {
          "model_module": "@jupyter-widgets/controls",
          "model_module_version": "1.5.0",
          "model_name": "FloatProgressModel",
          "state": {
            "_dom_classes": [],
            "_model_module": "@jupyter-widgets/controls",
            "_model_module_version": "1.5.0",
            "_model_name": "FloatProgressModel",
            "_view_count": null,
            "_view_module": "@jupyter-widgets/controls",
            "_view_module_version": "1.5.0",
            "_view_name": "ProgressView",
            "bar_style": "",
            "description": "",
            "description_tooltip": null,
            "layout": "IPY_MODEL_c5251ce70bc549ccb80e9390302bd19b",
            "max": 1,
            "min": 0,
            "orientation": "horizontal",
            "style": "IPY_MODEL_cf46664ebefc493eaa3becfcacb95d59",
            "value": 0.1159023499885923
          }
        },
        "5be7f940d02e4a4e80125cb673663ac5": {
          "model_module": "@jupyter-widgets/base",
          "model_module_version": "1.2.0",
          "model_name": "LayoutModel",
          "state": {
            "_model_module": "@jupyter-widgets/base",
            "_model_module_version": "1.2.0",
            "_model_name": "LayoutModel",
            "_view_count": null,
            "_view_module": "@jupyter-widgets/base",
            "_view_module_version": "1.2.0",
            "_view_name": "LayoutView",
            "align_content": null,
            "align_items": null,
            "align_self": null,
            "border": null,
            "bottom": null,
            "display": null,
            "flex": null,
            "flex_flow": null,
            "grid_area": null,
            "grid_auto_columns": null,
            "grid_auto_flow": null,
            "grid_auto_rows": null,
            "grid_column": null,
            "grid_gap": null,
            "grid_row": null,
            "grid_template_areas": null,
            "grid_template_columns": null,
            "grid_template_rows": null,
            "height": null,
            "justify_content": null,
            "justify_items": null,
            "left": null,
            "margin": null,
            "max_height": null,
            "max_width": null,
            "min_height": null,
            "min_width": null,
            "object_fit": null,
            "object_position": null,
            "order": null,
            "overflow": null,
            "overflow_x": null,
            "overflow_y": null,
            "padding": null,
            "right": null,
            "top": null,
            "visibility": null,
            "width": null
          }
        },
        "5db05d250c8947c1894eb425ee0176e7": {
          "model_module": "@jupyter-widgets/controls",
          "model_module_version": "1.5.0",
          "model_name": "VBoxModel",
          "state": {
            "_dom_classes": [],
            "_model_module": "@jupyter-widgets/controls",
            "_model_module_version": "1.5.0",
            "_model_name": "VBoxModel",
            "_view_count": null,
            "_view_module": "@jupyter-widgets/controls",
            "_view_module_version": "1.5.0",
            "_view_name": "VBoxView",
            "box_style": "",
            "children": [
              "IPY_MODEL_c00697d0112c48619e1168bf37c0b159",
              "IPY_MODEL_5193d3732cc0491090481a4fdc86378c"
            ],
            "layout": "IPY_MODEL_d2dc28fecb9d49b1ac6a88137c9b3c9b"
          }
        },
        "5e5d295c656b4455a871809b669c7228": {
          "model_module": "@jupyter-widgets/controls",
          "model_module_version": "1.5.0",
          "model_name": "FloatProgressModel",
          "state": {
            "_dom_classes": [],
            "_model_module": "@jupyter-widgets/controls",
            "_model_module_version": "1.5.0",
            "_model_name": "FloatProgressModel",
            "_view_count": null,
            "_view_module": "@jupyter-widgets/controls",
            "_view_module_version": "1.5.0",
            "_view_name": "ProgressView",
            "bar_style": "",
            "description": "",
            "description_tooltip": null,
            "layout": "IPY_MODEL_fad94e8e2ed84a56885459ffdae018fd",
            "max": 1,
            "min": 0,
            "orientation": "horizontal",
            "style": "IPY_MODEL_3b3d2cdb61924c268f31a6f8f50a205b",
            "value": 1
          }
        },
        "5e787da663554d0eabbf5174130efe07": {
          "model_module": "@jupyter-widgets/controls",
          "model_module_version": "1.5.0",
          "model_name": "FloatProgressModel",
          "state": {
            "_dom_classes": [],
            "_model_module": "@jupyter-widgets/controls",
            "_model_module_version": "1.5.0",
            "_model_name": "FloatProgressModel",
            "_view_count": null,
            "_view_module": "@jupyter-widgets/controls",
            "_view_module_version": "1.5.0",
            "_view_name": "ProgressView",
            "bar_style": "",
            "description": "",
            "description_tooltip": null,
            "layout": "IPY_MODEL_ea6f6f7fdba7430fac78f402a87e240c",
            "max": 1,
            "min": 0,
            "orientation": "horizontal",
            "style": "IPY_MODEL_8798ccb6f8eb41a3bbadcf6d122dfa72",
            "value": 0.11598173515981736
          }
        },
        "60a1f9bf4ab949759f8b238ac8503705": {
          "model_module": "@jupyter-widgets/controls",
          "model_module_version": "1.5.0",
          "model_name": "VBoxModel",
          "state": {
            "_dom_classes": [],
            "_model_module": "@jupyter-widgets/controls",
            "_model_module_version": "1.5.0",
            "_model_name": "VBoxModel",
            "_view_count": null,
            "_view_module": "@jupyter-widgets/controls",
            "_view_module_version": "1.5.0",
            "_view_name": "VBoxView",
            "box_style": "",
            "children": [
              "IPY_MODEL_41f8c08a5fc74fdcabe15af6e6293e5f",
              "IPY_MODEL_e619758058184a06a098586b6f3500e7"
            ],
            "layout": "IPY_MODEL_48f35278fa9747caa99be71fc563887e"
          }
        },
        "6438653c37f64c1faa24af2227a3e590": {
          "model_module": "@jupyter-widgets/controls",
          "model_module_version": "1.5.0",
          "model_name": "DescriptionStyleModel",
          "state": {
            "_model_module": "@jupyter-widgets/controls",
            "_model_module_version": "1.5.0",
            "_model_name": "DescriptionStyleModel",
            "_view_count": null,
            "_view_module": "@jupyter-widgets/base",
            "_view_module_version": "1.2.0",
            "_view_name": "StyleView",
            "description_width": ""
          }
        },
        "6689da83376346a7831c62d4968f6d4b": {
          "model_module": "@jupyter-widgets/controls",
          "model_module_version": "1.5.0",
          "model_name": "FloatProgressModel",
          "state": {
            "_dom_classes": [],
            "_model_module": "@jupyter-widgets/controls",
            "_model_module_version": "1.5.0",
            "_model_name": "FloatProgressModel",
            "_view_count": null,
            "_view_module": "@jupyter-widgets/controls",
            "_view_module_version": "1.5.0",
            "_view_name": "ProgressView",
            "bar_style": "",
            "description": "",
            "description_tooltip": null,
            "layout": "IPY_MODEL_1bbd44b8b1084f34850d932b241f8c0c",
            "max": 1,
            "min": 0,
            "orientation": "horizontal",
            "style": "IPY_MODEL_2577edc867f24685be7d2435c2924bef",
            "value": 0.11623912047640861
          }
        },
        "6883b329bdc34b31af8f63e9a38fa9d5": {
          "model_module": "@jupyter-widgets/base",
          "model_module_version": "1.2.0",
          "model_name": "LayoutModel",
          "state": {
            "_model_module": "@jupyter-widgets/base",
            "_model_module_version": "1.2.0",
            "_model_name": "LayoutModel",
            "_view_count": null,
            "_view_module": "@jupyter-widgets/base",
            "_view_module_version": "1.2.0",
            "_view_name": "LayoutView",
            "align_content": null,
            "align_items": null,
            "align_self": null,
            "border": null,
            "bottom": null,
            "display": null,
            "flex": null,
            "flex_flow": null,
            "grid_area": null,
            "grid_auto_columns": null,
            "grid_auto_flow": null,
            "grid_auto_rows": null,
            "grid_column": null,
            "grid_gap": null,
            "grid_row": null,
            "grid_template_areas": null,
            "grid_template_columns": null,
            "grid_template_rows": null,
            "height": null,
            "justify_content": null,
            "justify_items": null,
            "left": null,
            "margin": null,
            "max_height": null,
            "max_width": null,
            "min_height": null,
            "min_width": null,
            "object_fit": null,
            "object_position": null,
            "order": null,
            "overflow": null,
            "overflow_x": null,
            "overflow_y": null,
            "padding": null,
            "right": null,
            "top": null,
            "visibility": null,
            "width": null
          }
        },
        "6895672d681c4705a0add2b90473f01e": {
          "model_module": "@jupyter-widgets/controls",
          "model_module_version": "1.5.0",
          "model_name": "VBoxModel",
          "state": {
            "_dom_classes": [],
            "_model_module": "@jupyter-widgets/controls",
            "_model_module_version": "1.5.0",
            "_model_name": "VBoxModel",
            "_view_count": null,
            "_view_module": "@jupyter-widgets/controls",
            "_view_module_version": "1.5.0",
            "_view_name": "VBoxView",
            "box_style": "",
            "children": [
              "IPY_MODEL_9bb5fca60a2545c2b96947b3d25eb87e",
              "IPY_MODEL_95c9bd274967437ab93b4bf76e075aab"
            ],
            "layout": "IPY_MODEL_40636c8eb80f4362bb3989f6704ba68f"
          }
        },
        "6b2af111ceb7450d90c3b65b0c3f3e89": {
          "model_module": "@jupyter-widgets/controls",
          "model_module_version": "1.5.0",
          "model_name": "FloatProgressModel",
          "state": {
            "_dom_classes": [],
            "_model_module": "@jupyter-widgets/controls",
            "_model_module_version": "1.5.0",
            "_model_name": "FloatProgressModel",
            "_view_count": null,
            "_view_module": "@jupyter-widgets/controls",
            "_view_module_version": "1.5.0",
            "_view_name": "ProgressView",
            "bar_style": "",
            "description": "",
            "description_tooltip": null,
            "layout": "IPY_MODEL_09036043b09e4128b04e0a026ac6219e",
            "max": 1,
            "min": 0,
            "orientation": "horizontal",
            "style": "IPY_MODEL_e762d8ccb4bb418da7f6b613cddf2498",
            "value": 0.10466075479480305
          }
        },
        "6cfd2c29b90a4e92b539ae64fb9d441b": {
          "model_module": "@jupyter-widgets/controls",
          "model_module_version": "1.5.0",
          "model_name": "DescriptionStyleModel",
          "state": {
            "_model_module": "@jupyter-widgets/controls",
            "_model_module_version": "1.5.0",
            "_model_name": "DescriptionStyleModel",
            "_view_count": null,
            "_view_module": "@jupyter-widgets/base",
            "_view_module_version": "1.2.0",
            "_view_name": "StyleView",
            "description_width": ""
          }
        },
        "6d51a6692029476485c7f83a9abd2b2c": {
          "model_module": "@jupyter-widgets/controls",
          "model_module_version": "1.5.0",
          "model_name": "DescriptionStyleModel",
          "state": {
            "_model_module": "@jupyter-widgets/controls",
            "_model_module_version": "1.5.0",
            "_model_name": "DescriptionStyleModel",
            "_view_count": null,
            "_view_module": "@jupyter-widgets/base",
            "_view_module_version": "1.2.0",
            "_view_name": "StyleView",
            "description_width": ""
          }
        },
        "6f65401d6e1d4f4dbfb1308df3d18d1b": {
          "model_module": "@jupyter-widgets/base",
          "model_module_version": "1.2.0",
          "model_name": "LayoutModel",
          "state": {
            "_model_module": "@jupyter-widgets/base",
            "_model_module_version": "1.2.0",
            "_model_name": "LayoutModel",
            "_view_count": null,
            "_view_module": "@jupyter-widgets/base",
            "_view_module_version": "1.2.0",
            "_view_name": "LayoutView",
            "align_content": null,
            "align_items": null,
            "align_self": null,
            "border": null,
            "bottom": null,
            "display": null,
            "flex": null,
            "flex_flow": null,
            "grid_area": null,
            "grid_auto_columns": null,
            "grid_auto_flow": null,
            "grid_auto_rows": null,
            "grid_column": null,
            "grid_gap": null,
            "grid_row": null,
            "grid_template_areas": null,
            "grid_template_columns": null,
            "grid_template_rows": null,
            "height": null,
            "justify_content": null,
            "justify_items": null,
            "left": null,
            "margin": null,
            "max_height": null,
            "max_width": null,
            "min_height": null,
            "min_width": null,
            "object_fit": null,
            "object_position": null,
            "order": null,
            "overflow": null,
            "overflow_x": null,
            "overflow_y": null,
            "padding": null,
            "right": null,
            "top": null,
            "visibility": null,
            "width": null
          }
        },
        "71049f65e40e4bfcb16b989137575db7": {
          "model_module": "@jupyter-widgets/base",
          "model_module_version": "1.2.0",
          "model_name": "LayoutModel",
          "state": {
            "_model_module": "@jupyter-widgets/base",
            "_model_module_version": "1.2.0",
            "_model_name": "LayoutModel",
            "_view_count": null,
            "_view_module": "@jupyter-widgets/base",
            "_view_module_version": "1.2.0",
            "_view_name": "LayoutView",
            "align_content": null,
            "align_items": null,
            "align_self": null,
            "border": null,
            "bottom": null,
            "display": null,
            "flex": null,
            "flex_flow": null,
            "grid_area": null,
            "grid_auto_columns": null,
            "grid_auto_flow": null,
            "grid_auto_rows": null,
            "grid_column": null,
            "grid_gap": null,
            "grid_row": null,
            "grid_template_areas": null,
            "grid_template_columns": null,
            "grid_template_rows": null,
            "height": null,
            "justify_content": null,
            "justify_items": null,
            "left": null,
            "margin": null,
            "max_height": null,
            "max_width": null,
            "min_height": null,
            "min_width": null,
            "object_fit": null,
            "object_position": null,
            "order": null,
            "overflow": null,
            "overflow_x": null,
            "overflow_y": null,
            "padding": null,
            "right": null,
            "top": null,
            "visibility": null,
            "width": null
          }
        },
        "74c5c8bacfab4daaa96bc7830faae3e5": {
          "model_module": "@jupyter-widgets/base",
          "model_module_version": "1.2.0",
          "model_name": "LayoutModel",
          "state": {
            "_model_module": "@jupyter-widgets/base",
            "_model_module_version": "1.2.0",
            "_model_name": "LayoutModel",
            "_view_count": null,
            "_view_module": "@jupyter-widgets/base",
            "_view_module_version": "1.2.0",
            "_view_name": "LayoutView",
            "align_content": null,
            "align_items": null,
            "align_self": null,
            "border": null,
            "bottom": null,
            "display": null,
            "flex": null,
            "flex_flow": null,
            "grid_area": null,
            "grid_auto_columns": null,
            "grid_auto_flow": null,
            "grid_auto_rows": null,
            "grid_column": null,
            "grid_gap": null,
            "grid_row": null,
            "grid_template_areas": null,
            "grid_template_columns": null,
            "grid_template_rows": null,
            "height": null,
            "justify_content": null,
            "justify_items": null,
            "left": null,
            "margin": null,
            "max_height": null,
            "max_width": null,
            "min_height": null,
            "min_width": null,
            "object_fit": null,
            "object_position": null,
            "order": null,
            "overflow": null,
            "overflow_x": null,
            "overflow_y": null,
            "padding": null,
            "right": null,
            "top": null,
            "visibility": null,
            "width": null
          }
        },
        "75739a42fd32446bacb2806410480c4d": {
          "model_module": "@jupyter-widgets/base",
          "model_module_version": "1.2.0",
          "model_name": "LayoutModel",
          "state": {
            "_model_module": "@jupyter-widgets/base",
            "_model_module_version": "1.2.0",
            "_model_name": "LayoutModel",
            "_view_count": null,
            "_view_module": "@jupyter-widgets/base",
            "_view_module_version": "1.2.0",
            "_view_name": "LayoutView",
            "align_content": null,
            "align_items": null,
            "align_self": null,
            "border": null,
            "bottom": null,
            "display": null,
            "flex": null,
            "flex_flow": null,
            "grid_area": null,
            "grid_auto_columns": null,
            "grid_auto_flow": null,
            "grid_auto_rows": null,
            "grid_column": null,
            "grid_gap": null,
            "grid_row": null,
            "grid_template_areas": null,
            "grid_template_columns": null,
            "grid_template_rows": null,
            "height": null,
            "justify_content": null,
            "justify_items": null,
            "left": null,
            "margin": null,
            "max_height": null,
            "max_width": null,
            "min_height": null,
            "min_width": null,
            "object_fit": null,
            "object_position": null,
            "order": null,
            "overflow": null,
            "overflow_x": null,
            "overflow_y": null,
            "padding": null,
            "right": null,
            "top": null,
            "visibility": null,
            "width": null
          }
        },
        "76d40e4b7743467b9d462df6e4a3e096": {
          "model_module": "@jupyter-widgets/controls",
          "model_module_version": "1.5.0",
          "model_name": "DescriptionStyleModel",
          "state": {
            "_model_module": "@jupyter-widgets/controls",
            "_model_module_version": "1.5.0",
            "_model_name": "DescriptionStyleModel",
            "_view_count": null,
            "_view_module": "@jupyter-widgets/base",
            "_view_module_version": "1.2.0",
            "_view_name": "StyleView",
            "description_width": ""
          }
        },
        "79a07df513a84c449dc74cb882d07769": {
          "model_module": "@jupyter-widgets/controls",
          "model_module_version": "1.5.0",
          "model_name": "ProgressStyleModel",
          "state": {
            "_model_module": "@jupyter-widgets/controls",
            "_model_module_version": "1.5.0",
            "_model_name": "ProgressStyleModel",
            "_view_count": null,
            "_view_module": "@jupyter-widgets/base",
            "_view_module_version": "1.2.0",
            "_view_name": "StyleView",
            "bar_color": null,
            "description_width": ""
          }
        },
        "7a88a8c5abc942a8a1a4ec4b2ba240f3": {
          "model_module": "@jupyter-widgets/base",
          "model_module_version": "1.2.0",
          "model_name": "LayoutModel",
          "state": {
            "_model_module": "@jupyter-widgets/base",
            "_model_module_version": "1.2.0",
            "_model_name": "LayoutModel",
            "_view_count": null,
            "_view_module": "@jupyter-widgets/base",
            "_view_module_version": "1.2.0",
            "_view_name": "LayoutView",
            "align_content": null,
            "align_items": null,
            "align_self": null,
            "border": null,
            "bottom": null,
            "display": null,
            "flex": null,
            "flex_flow": null,
            "grid_area": null,
            "grid_auto_columns": null,
            "grid_auto_flow": null,
            "grid_auto_rows": null,
            "grid_column": null,
            "grid_gap": null,
            "grid_row": null,
            "grid_template_areas": null,
            "grid_template_columns": null,
            "grid_template_rows": null,
            "height": null,
            "justify_content": null,
            "justify_items": null,
            "left": null,
            "margin": null,
            "max_height": null,
            "max_width": null,
            "min_height": null,
            "min_width": null,
            "object_fit": null,
            "object_position": null,
            "order": null,
            "overflow": null,
            "overflow_x": null,
            "overflow_y": null,
            "padding": null,
            "right": null,
            "top": null,
            "visibility": null,
            "width": null
          }
        },
        "7bca4a59931242c2af4483dcd6ef7b8e": {
          "model_module": "@jupyter-widgets/controls",
          "model_module_version": "1.5.0",
          "model_name": "VBoxModel",
          "state": {
            "_dom_classes": [],
            "_model_module": "@jupyter-widgets/controls",
            "_model_module_version": "1.5.0",
            "_model_name": "VBoxModel",
            "_view_count": null,
            "_view_module": "@jupyter-widgets/controls",
            "_view_module_version": "1.5.0",
            "_view_name": "VBoxView",
            "box_style": "",
            "children": [
              "IPY_MODEL_fd4128b667fd4401bb99cb2d2c70d76b",
              "IPY_MODEL_c0895ee787e7438cbba872d83b66efa0"
            ],
            "layout": "IPY_MODEL_2bbabe7ff04d400281652831596a7147"
          }
        },
        "7d75f5bd0e6e4c81abe514ad6b59abc7": {
          "model_module": "@jupyter-widgets/base",
          "model_module_version": "1.2.0",
          "model_name": "LayoutModel",
          "state": {
            "_model_module": "@jupyter-widgets/base",
            "_model_module_version": "1.2.0",
            "_model_name": "LayoutModel",
            "_view_count": null,
            "_view_module": "@jupyter-widgets/base",
            "_view_module_version": "1.2.0",
            "_view_name": "LayoutView",
            "align_content": null,
            "align_items": null,
            "align_self": null,
            "border": null,
            "bottom": null,
            "display": null,
            "flex": null,
            "flex_flow": null,
            "grid_area": null,
            "grid_auto_columns": null,
            "grid_auto_flow": null,
            "grid_auto_rows": null,
            "grid_column": null,
            "grid_gap": null,
            "grid_row": null,
            "grid_template_areas": null,
            "grid_template_columns": null,
            "grid_template_rows": null,
            "height": null,
            "justify_content": null,
            "justify_items": null,
            "left": null,
            "margin": null,
            "max_height": null,
            "max_width": null,
            "min_height": null,
            "min_width": null,
            "object_fit": null,
            "object_position": null,
            "order": null,
            "overflow": null,
            "overflow_x": null,
            "overflow_y": null,
            "padding": null,
            "right": null,
            "top": null,
            "visibility": null,
            "width": null
          }
        },
        "7f176aa743d64815a958120472cf2295": {
          "model_module": "@jupyter-widgets/base",
          "model_module_version": "1.2.0",
          "model_name": "LayoutModel",
          "state": {
            "_model_module": "@jupyter-widgets/base",
            "_model_module_version": "1.2.0",
            "_model_name": "LayoutModel",
            "_view_count": null,
            "_view_module": "@jupyter-widgets/base",
            "_view_module_version": "1.2.0",
            "_view_name": "LayoutView",
            "align_content": null,
            "align_items": null,
            "align_self": null,
            "border": null,
            "bottom": null,
            "display": null,
            "flex": null,
            "flex_flow": null,
            "grid_area": null,
            "grid_auto_columns": null,
            "grid_auto_flow": null,
            "grid_auto_rows": null,
            "grid_column": null,
            "grid_gap": null,
            "grid_row": null,
            "grid_template_areas": null,
            "grid_template_columns": null,
            "grid_template_rows": null,
            "height": null,
            "justify_content": null,
            "justify_items": null,
            "left": null,
            "margin": null,
            "max_height": null,
            "max_width": null,
            "min_height": null,
            "min_width": null,
            "object_fit": null,
            "object_position": null,
            "order": null,
            "overflow": null,
            "overflow_x": null,
            "overflow_y": null,
            "padding": null,
            "right": null,
            "top": null,
            "visibility": null,
            "width": null
          }
        },
        "80aa02b8818c4359ad8db58b9d468dd2": {
          "model_module": "@jupyter-widgets/base",
          "model_module_version": "1.2.0",
          "model_name": "LayoutModel",
          "state": {
            "_model_module": "@jupyter-widgets/base",
            "_model_module_version": "1.2.0",
            "_model_name": "LayoutModel",
            "_view_count": null,
            "_view_module": "@jupyter-widgets/base",
            "_view_module_version": "1.2.0",
            "_view_name": "LayoutView",
            "align_content": null,
            "align_items": null,
            "align_self": null,
            "border": null,
            "bottom": null,
            "display": null,
            "flex": null,
            "flex_flow": null,
            "grid_area": null,
            "grid_auto_columns": null,
            "grid_auto_flow": null,
            "grid_auto_rows": null,
            "grid_column": null,
            "grid_gap": null,
            "grid_row": null,
            "grid_template_areas": null,
            "grid_template_columns": null,
            "grid_template_rows": null,
            "height": null,
            "justify_content": null,
            "justify_items": null,
            "left": null,
            "margin": null,
            "max_height": null,
            "max_width": null,
            "min_height": null,
            "min_width": null,
            "object_fit": null,
            "object_position": null,
            "order": null,
            "overflow": null,
            "overflow_x": null,
            "overflow_y": null,
            "padding": null,
            "right": null,
            "top": null,
            "visibility": null,
            "width": null
          }
        },
        "820f863592b14e9d8432791e91d5740f": {
          "model_module": "@jupyter-widgets/controls",
          "model_module_version": "1.5.0",
          "model_name": "FloatProgressModel",
          "state": {
            "_dom_classes": [],
            "_model_module": "@jupyter-widgets/controls",
            "_model_module_version": "1.5.0",
            "_model_name": "FloatProgressModel",
            "_view_count": null,
            "_view_module": "@jupyter-widgets/controls",
            "_view_module_version": "1.5.0",
            "_view_name": "ProgressView",
            "bar_style": "",
            "description": "",
            "description_tooltip": null,
            "layout": "IPY_MODEL_2a375e21a70544238247ba1cc032f6d9",
            "max": 1,
            "min": 0,
            "orientation": "horizontal",
            "style": "IPY_MODEL_53c2ca7225a7474dba57a81baa0186d8",
            "value": 0.1047530673265285
          }
        },
        "823b059324764b3a9e8d58b9c1d1de01": {
          "model_module": "@jupyter-widgets/controls",
          "model_module_version": "1.5.0",
          "model_name": "DescriptionStyleModel",
          "state": {
            "_model_module": "@jupyter-widgets/controls",
            "_model_module_version": "1.5.0",
            "_model_name": "DescriptionStyleModel",
            "_view_count": null,
            "_view_module": "@jupyter-widgets/base",
            "_view_module_version": "1.2.0",
            "_view_name": "StyleView",
            "description_width": ""
          }
        },
        "845eb7e80a40450784ec98462bb11425": {
          "model_module": "@jupyter-widgets/controls",
          "model_module_version": "1.5.0",
          "model_name": "VBoxModel",
          "state": {
            "_dom_classes": [],
            "_model_module": "@jupyter-widgets/controls",
            "_model_module_version": "1.5.0",
            "_model_name": "VBoxModel",
            "_view_count": null,
            "_view_module": "@jupyter-widgets/controls",
            "_view_module_version": "1.5.0",
            "_view_name": "VBoxView",
            "box_style": "",
            "children": [
              "IPY_MODEL_1fdf5f343684492385a36496a6aee287",
              "IPY_MODEL_820f863592b14e9d8432791e91d5740f"
            ],
            "layout": "IPY_MODEL_aecee6cc6e6048eeaccb56bce9e4c9cd"
          }
        },
        "84d45c8cf35042239f02612fc0c25abb": {
          "model_module": "@jupyter-widgets/controls",
          "model_module_version": "1.5.0",
          "model_name": "DescriptionStyleModel",
          "state": {
            "_model_module": "@jupyter-widgets/controls",
            "_model_module_version": "1.5.0",
            "_model_name": "DescriptionStyleModel",
            "_view_count": null,
            "_view_module": "@jupyter-widgets/base",
            "_view_module_version": "1.2.0",
            "_view_name": "StyleView",
            "description_width": ""
          }
        },
        "85970d8ae80d41ff95b43b3c3e402a11": {
          "model_module": "@jupyter-widgets/base",
          "model_module_version": "1.2.0",
          "model_name": "LayoutModel",
          "state": {
            "_model_module": "@jupyter-widgets/base",
            "_model_module_version": "1.2.0",
            "_model_name": "LayoutModel",
            "_view_count": null,
            "_view_module": "@jupyter-widgets/base",
            "_view_module_version": "1.2.0",
            "_view_name": "LayoutView",
            "align_content": null,
            "align_items": null,
            "align_self": null,
            "border": null,
            "bottom": null,
            "display": null,
            "flex": null,
            "flex_flow": null,
            "grid_area": null,
            "grid_auto_columns": null,
            "grid_auto_flow": null,
            "grid_auto_rows": null,
            "grid_column": null,
            "grid_gap": null,
            "grid_row": null,
            "grid_template_areas": null,
            "grid_template_columns": null,
            "grid_template_rows": null,
            "height": null,
            "justify_content": null,
            "justify_items": null,
            "left": null,
            "margin": null,
            "max_height": null,
            "max_width": null,
            "min_height": null,
            "min_width": null,
            "object_fit": null,
            "object_position": null,
            "order": null,
            "overflow": null,
            "overflow_x": null,
            "overflow_y": null,
            "padding": null,
            "right": null,
            "top": null,
            "visibility": null,
            "width": null
          }
        },
        "85b063a396124c698a0b25fc54722ec4": {
          "model_module": "@jupyter-widgets/controls",
          "model_module_version": "1.5.0",
          "model_name": "VBoxModel",
          "state": {
            "_dom_classes": [],
            "_model_module": "@jupyter-widgets/controls",
            "_model_module_version": "1.5.0",
            "_model_name": "VBoxModel",
            "_view_count": null,
            "_view_module": "@jupyter-widgets/controls",
            "_view_module_version": "1.5.0",
            "_view_name": "VBoxView",
            "box_style": "",
            "children": [
              "IPY_MODEL_12a078bdbfde49678947ecc3be5760ed",
              "IPY_MODEL_22527c1e675e4c58bf52aa7f83588917"
            ],
            "layout": "IPY_MODEL_53604686be6649369f7267e9b0fd404b"
          }
        },
        "85f86cce8a024843a541e45841e25756": {
          "model_module": "@jupyter-widgets/controls",
          "model_module_version": "1.5.0",
          "model_name": "VBoxModel",
          "state": {
            "_dom_classes": [],
            "_model_module": "@jupyter-widgets/controls",
            "_model_module_version": "1.5.0",
            "_model_name": "VBoxModel",
            "_view_count": null,
            "_view_module": "@jupyter-widgets/controls",
            "_view_module_version": "1.5.0",
            "_view_name": "VBoxView",
            "box_style": "",
            "children": [
              "IPY_MODEL_39d47408258444b19053c884ec41ddd3",
              "IPY_MODEL_6b2af111ceb7450d90c3b65b0c3f3e89"
            ],
            "layout": "IPY_MODEL_e635421ad67144ba9c230eb44ff47ea3"
          }
        },
        "86a7bf4296ed46ac9cb7d3d83337c82d": {
          "model_module": "@jupyter-widgets/controls",
          "model_module_version": "1.5.0",
          "model_name": "ProgressStyleModel",
          "state": {
            "_model_module": "@jupyter-widgets/controls",
            "_model_module_version": "1.5.0",
            "_model_name": "ProgressStyleModel",
            "_view_count": null,
            "_view_module": "@jupyter-widgets/base",
            "_view_module_version": "1.2.0",
            "_view_name": "StyleView",
            "bar_color": null,
            "description_width": ""
          }
        },
        "872bea72f8154c80b143855ac9523427": {
          "model_module": "@jupyter-widgets/controls",
          "model_module_version": "1.5.0",
          "model_name": "ProgressStyleModel",
          "state": {
            "_model_module": "@jupyter-widgets/controls",
            "_model_module_version": "1.5.0",
            "_model_name": "ProgressStyleModel",
            "_view_count": null,
            "_view_module": "@jupyter-widgets/base",
            "_view_module_version": "1.2.0",
            "_view_name": "StyleView",
            "bar_color": null,
            "description_width": ""
          }
        },
        "8798ccb6f8eb41a3bbadcf6d122dfa72": {
          "model_module": "@jupyter-widgets/controls",
          "model_module_version": "1.5.0",
          "model_name": "ProgressStyleModel",
          "state": {
            "_model_module": "@jupyter-widgets/controls",
            "_model_module_version": "1.5.0",
            "_model_name": "ProgressStyleModel",
            "_view_count": null,
            "_view_module": "@jupyter-widgets/base",
            "_view_module_version": "1.2.0",
            "_view_name": "StyleView",
            "bar_color": null,
            "description_width": ""
          }
        },
        "87a23f61defd48e4ae9e2ade315cace6": {
          "model_module": "@jupyter-widgets/base",
          "model_module_version": "1.2.0",
          "model_name": "LayoutModel",
          "state": {
            "_model_module": "@jupyter-widgets/base",
            "_model_module_version": "1.2.0",
            "_model_name": "LayoutModel",
            "_view_count": null,
            "_view_module": "@jupyter-widgets/base",
            "_view_module_version": "1.2.0",
            "_view_name": "LayoutView",
            "align_content": null,
            "align_items": null,
            "align_self": null,
            "border": null,
            "bottom": null,
            "display": null,
            "flex": null,
            "flex_flow": null,
            "grid_area": null,
            "grid_auto_columns": null,
            "grid_auto_flow": null,
            "grid_auto_rows": null,
            "grid_column": null,
            "grid_gap": null,
            "grid_row": null,
            "grid_template_areas": null,
            "grid_template_columns": null,
            "grid_template_rows": null,
            "height": null,
            "justify_content": null,
            "justify_items": null,
            "left": null,
            "margin": null,
            "max_height": null,
            "max_width": null,
            "min_height": null,
            "min_width": null,
            "object_fit": null,
            "object_position": null,
            "order": null,
            "overflow": null,
            "overflow_x": null,
            "overflow_y": null,
            "padding": null,
            "right": null,
            "top": null,
            "visibility": null,
            "width": null
          }
        },
        "87b016cfbf9143ec93848b0b18f502e2": {
          "model_module": "@jupyter-widgets/base",
          "model_module_version": "1.2.0",
          "model_name": "LayoutModel",
          "state": {
            "_model_module": "@jupyter-widgets/base",
            "_model_module_version": "1.2.0",
            "_model_name": "LayoutModel",
            "_view_count": null,
            "_view_module": "@jupyter-widgets/base",
            "_view_module_version": "1.2.0",
            "_view_name": "LayoutView",
            "align_content": null,
            "align_items": null,
            "align_self": null,
            "border": null,
            "bottom": null,
            "display": null,
            "flex": null,
            "flex_flow": null,
            "grid_area": null,
            "grid_auto_columns": null,
            "grid_auto_flow": null,
            "grid_auto_rows": null,
            "grid_column": null,
            "grid_gap": null,
            "grid_row": null,
            "grid_template_areas": null,
            "grid_template_columns": null,
            "grid_template_rows": null,
            "height": null,
            "justify_content": null,
            "justify_items": null,
            "left": null,
            "margin": null,
            "max_height": null,
            "max_width": null,
            "min_height": null,
            "min_width": null,
            "object_fit": null,
            "object_position": null,
            "order": null,
            "overflow": null,
            "overflow_x": null,
            "overflow_y": null,
            "padding": null,
            "right": null,
            "top": null,
            "visibility": null,
            "width": null
          }
        },
        "89b6742c29244c6f941f10216b97b309": {
          "model_module": "@jupyter-widgets/controls",
          "model_module_version": "1.5.0",
          "model_name": "VBoxModel",
          "state": {
            "_dom_classes": [],
            "_model_module": "@jupyter-widgets/controls",
            "_model_module_version": "1.5.0",
            "_model_name": "VBoxModel",
            "_view_count": null,
            "_view_module": "@jupyter-widgets/controls",
            "_view_module_version": "1.5.0",
            "_view_name": "VBoxView",
            "box_style": "",
            "children": [
              "IPY_MODEL_0f78d4cff466457a8b97e13e02774169",
              "IPY_MODEL_3edb443aceba4128b71b35acc7bf28b4"
            ],
            "layout": "IPY_MODEL_5be7f940d02e4a4e80125cb673663ac5"
          }
        },
        "8d080fed890b4fe39f896df54d805d38": {
          "model_module": "@jupyter-widgets/base",
          "model_module_version": "1.2.0",
          "model_name": "LayoutModel",
          "state": {
            "_model_module": "@jupyter-widgets/base",
            "_model_module_version": "1.2.0",
            "_model_name": "LayoutModel",
            "_view_count": null,
            "_view_module": "@jupyter-widgets/base",
            "_view_module_version": "1.2.0",
            "_view_name": "LayoutView",
            "align_content": null,
            "align_items": null,
            "align_self": null,
            "border": null,
            "bottom": null,
            "display": null,
            "flex": null,
            "flex_flow": null,
            "grid_area": null,
            "grid_auto_columns": null,
            "grid_auto_flow": null,
            "grid_auto_rows": null,
            "grid_column": null,
            "grid_gap": null,
            "grid_row": null,
            "grid_template_areas": null,
            "grid_template_columns": null,
            "grid_template_rows": null,
            "height": null,
            "justify_content": null,
            "justify_items": null,
            "left": null,
            "margin": null,
            "max_height": null,
            "max_width": null,
            "min_height": null,
            "min_width": null,
            "object_fit": null,
            "object_position": null,
            "order": null,
            "overflow": null,
            "overflow_x": null,
            "overflow_y": null,
            "padding": null,
            "right": null,
            "top": null,
            "visibility": null,
            "width": null
          }
        },
        "8de727ab51824a4d899a4fe9f1207e44": {
          "model_module": "@jupyter-widgets/controls",
          "model_module_version": "1.5.0",
          "model_name": "VBoxModel",
          "state": {
            "_dom_classes": [],
            "_model_module": "@jupyter-widgets/controls",
            "_model_module_version": "1.5.0",
            "_model_name": "VBoxModel",
            "_view_count": null,
            "_view_module": "@jupyter-widgets/controls",
            "_view_module_version": "1.5.0",
            "_view_name": "VBoxView",
            "box_style": "",
            "children": [
              "IPY_MODEL_e9fdd758ae334a5587c73fcb93910f47",
              "IPY_MODEL_5313e8ccda2e4a408829d4e63786fb6a"
            ],
            "layout": "IPY_MODEL_80aa02b8818c4359ad8db58b9d468dd2"
          }
        },
        "8ed1b178ae4e4bb291cce26783ab2441": {
          "model_module": "@jupyter-widgets/controls",
          "model_module_version": "1.5.0",
          "model_name": "ProgressStyleModel",
          "state": {
            "_model_module": "@jupyter-widgets/controls",
            "_model_module_version": "1.5.0",
            "_model_name": "ProgressStyleModel",
            "_view_count": null,
            "_view_module": "@jupyter-widgets/base",
            "_view_module_version": "1.2.0",
            "_view_name": "StyleView",
            "bar_color": null,
            "description_width": ""
          }
        },
        "8f8abec529ca4d68a7d79ec44ff9aa8b": {
          "model_module": "@jupyter-widgets/base",
          "model_module_version": "1.2.0",
          "model_name": "LayoutModel",
          "state": {
            "_model_module": "@jupyter-widgets/base",
            "_model_module_version": "1.2.0",
            "_model_name": "LayoutModel",
            "_view_count": null,
            "_view_module": "@jupyter-widgets/base",
            "_view_module_version": "1.2.0",
            "_view_name": "LayoutView",
            "align_content": null,
            "align_items": null,
            "align_self": null,
            "border": null,
            "bottom": null,
            "display": null,
            "flex": null,
            "flex_flow": null,
            "grid_area": null,
            "grid_auto_columns": null,
            "grid_auto_flow": null,
            "grid_auto_rows": null,
            "grid_column": null,
            "grid_gap": null,
            "grid_row": null,
            "grid_template_areas": null,
            "grid_template_columns": null,
            "grid_template_rows": null,
            "height": null,
            "justify_content": null,
            "justify_items": null,
            "left": null,
            "margin": null,
            "max_height": null,
            "max_width": null,
            "min_height": null,
            "min_width": null,
            "object_fit": null,
            "object_position": null,
            "order": null,
            "overflow": null,
            "overflow_x": null,
            "overflow_y": null,
            "padding": null,
            "right": null,
            "top": null,
            "visibility": null,
            "width": null
          }
        },
        "93d018f0364a44b09f1fddd40173c126": {
          "model_module": "@jupyter-widgets/controls",
          "model_module_version": "1.5.0",
          "model_name": "VBoxModel",
          "state": {
            "_dom_classes": [],
            "_model_module": "@jupyter-widgets/controls",
            "_model_module_version": "1.5.0",
            "_model_name": "VBoxModel",
            "_view_count": null,
            "_view_module": "@jupyter-widgets/controls",
            "_view_module_version": "1.5.0",
            "_view_name": "VBoxView",
            "box_style": "",
            "children": [
              "IPY_MODEL_3ad4350e0d8642849fffb9018db3d8eb",
              "IPY_MODEL_e198c14489f44134a3d56ea0b60d73c0"
            ],
            "layout": "IPY_MODEL_a94e951a47f9404889c7cb7814d97297"
          }
        },
        "94847308bdda4f8da17e0188544ec24d": {
          "model_module": "@jupyter-widgets/controls",
          "model_module_version": "1.5.0",
          "model_name": "VBoxModel",
          "state": {
            "_dom_classes": [],
            "_model_module": "@jupyter-widgets/controls",
            "_model_module_version": "1.5.0",
            "_model_name": "VBoxModel",
            "_view_count": null,
            "_view_module": "@jupyter-widgets/controls",
            "_view_module_version": "1.5.0",
            "_view_name": "VBoxView",
            "box_style": "",
            "children": [
              "IPY_MODEL_53ef89f250384be784cfb756235832ac",
              "IPY_MODEL_4f6b3685fbf34787b6586c4bdb156934"
            ],
            "layout": "IPY_MODEL_d0e6a90cd1794c67a2f300511192b887"
          }
        },
        "95c9bd274967437ab93b4bf76e075aab": {
          "model_module": "@jupyter-widgets/controls",
          "model_module_version": "1.5.0",
          "model_name": "FloatProgressModel",
          "state": {
            "_dom_classes": [],
            "_model_module": "@jupyter-widgets/controls",
            "_model_module_version": "1.5.0",
            "_model_name": "FloatProgressModel",
            "_view_count": null,
            "_view_module": "@jupyter-widgets/controls",
            "_view_module_version": "1.5.0",
            "_view_name": "ProgressView",
            "bar_style": "",
            "description": "",
            "description_tooltip": null,
            "layout": "IPY_MODEL_f769ce085e484c77a813947635332c47",
            "max": 1,
            "min": 0,
            "orientation": "horizontal",
            "style": "IPY_MODEL_b80347a88c5c4fa7abd2c2f3914b8b32",
            "value": 0.10458526532715096
          }
        },
        "976206fa06824297b62e513e8bc71e94": {
          "model_module": "@jupyter-widgets/controls",
          "model_module_version": "1.5.0",
          "model_name": "DescriptionStyleModel",
          "state": {
            "_model_module": "@jupyter-widgets/controls",
            "_model_module_version": "1.5.0",
            "_model_name": "DescriptionStyleModel",
            "_view_count": null,
            "_view_module": "@jupyter-widgets/base",
            "_view_module_version": "1.2.0",
            "_view_name": "StyleView",
            "description_width": ""
          }
        },
        "9a898d0a71a549f5ba4801e74fee110c": {
          "model_module": "@jupyter-widgets/base",
          "model_module_version": "1.2.0",
          "model_name": "LayoutModel",
          "state": {
            "_model_module": "@jupyter-widgets/base",
            "_model_module_version": "1.2.0",
            "_model_name": "LayoutModel",
            "_view_count": null,
            "_view_module": "@jupyter-widgets/base",
            "_view_module_version": "1.2.0",
            "_view_name": "LayoutView",
            "align_content": null,
            "align_items": null,
            "align_self": null,
            "border": null,
            "bottom": null,
            "display": null,
            "flex": null,
            "flex_flow": null,
            "grid_area": null,
            "grid_auto_columns": null,
            "grid_auto_flow": null,
            "grid_auto_rows": null,
            "grid_column": null,
            "grid_gap": null,
            "grid_row": null,
            "grid_template_areas": null,
            "grid_template_columns": null,
            "grid_template_rows": null,
            "height": null,
            "justify_content": null,
            "justify_items": null,
            "left": null,
            "margin": null,
            "max_height": null,
            "max_width": null,
            "min_height": null,
            "min_width": null,
            "object_fit": null,
            "object_position": null,
            "order": null,
            "overflow": null,
            "overflow_x": null,
            "overflow_y": null,
            "padding": null,
            "right": null,
            "top": null,
            "visibility": null,
            "width": null
          }
        },
        "9bb5fca60a2545c2b96947b3d25eb87e": {
          "model_module": "@jupyter-widgets/controls",
          "model_module_version": "1.5.0",
          "model_name": "LabelModel",
          "state": {
            "_dom_classes": [],
            "_model_module": "@jupyter-widgets/controls",
            "_model_module_version": "1.5.0",
            "_model_name": "LabelModel",
            "_view_count": null,
            "_view_module": "@jupyter-widgets/controls",
            "_view_module_version": "1.5.0",
            "_view_name": "LabelView",
            "description": "",
            "description_tooltip": null,
            "layout": "IPY_MODEL_13ebeb79bfd348629c429a75450849bc",
            "placeholder": "​",
            "style": "IPY_MODEL_e9bf331b31044912997e974c439dc3f8",
            "value": "0.001 MB of 0.009 MB uploaded (0.000 MB deduped)\r"
          }
        },
        "9f4cd485847f4e41b28bfde723d1edbf": {
          "model_module": "@jupyter-widgets/controls",
          "model_module_version": "1.5.0",
          "model_name": "VBoxModel",
          "state": {
            "_dom_classes": [],
            "_model_module": "@jupyter-widgets/controls",
            "_model_module_version": "1.5.0",
            "_model_name": "VBoxModel",
            "_view_count": null,
            "_view_module": "@jupyter-widgets/controls",
            "_view_module_version": "1.5.0",
            "_view_name": "VBoxView",
            "box_style": "",
            "children": [
              "IPY_MODEL_03ca2c567f3140e1abc4867ce282f32f",
              "IPY_MODEL_1be474b0fe704998be3b5656cbf7d45c"
            ],
            "layout": "IPY_MODEL_53ffe26771b344e69c0cb6af2a537356"
          }
        },
        "a373798bfc784245ba3a6f3313ede087": {
          "model_module": "@jupyter-widgets/base",
          "model_module_version": "1.2.0",
          "model_name": "LayoutModel",
          "state": {
            "_model_module": "@jupyter-widgets/base",
            "_model_module_version": "1.2.0",
            "_model_name": "LayoutModel",
            "_view_count": null,
            "_view_module": "@jupyter-widgets/base",
            "_view_module_version": "1.2.0",
            "_view_name": "LayoutView",
            "align_content": null,
            "align_items": null,
            "align_self": null,
            "border": null,
            "bottom": null,
            "display": null,
            "flex": null,
            "flex_flow": null,
            "grid_area": null,
            "grid_auto_columns": null,
            "grid_auto_flow": null,
            "grid_auto_rows": null,
            "grid_column": null,
            "grid_gap": null,
            "grid_row": null,
            "grid_template_areas": null,
            "grid_template_columns": null,
            "grid_template_rows": null,
            "height": null,
            "justify_content": null,
            "justify_items": null,
            "left": null,
            "margin": null,
            "max_height": null,
            "max_width": null,
            "min_height": null,
            "min_width": null,
            "object_fit": null,
            "object_position": null,
            "order": null,
            "overflow": null,
            "overflow_x": null,
            "overflow_y": null,
            "padding": null,
            "right": null,
            "top": null,
            "visibility": null,
            "width": null
          }
        },
        "a3bc02c3b6304fc2ba8ca99a235b8bb3": {
          "model_module": "@jupyter-widgets/controls",
          "model_module_version": "1.5.0",
          "model_name": "LabelModel",
          "state": {
            "_dom_classes": [],
            "_model_module": "@jupyter-widgets/controls",
            "_model_module_version": "1.5.0",
            "_model_name": "LabelModel",
            "_view_count": null,
            "_view_module": "@jupyter-widgets/controls",
            "_view_module_version": "1.5.0",
            "_view_name": "LabelView",
            "description": "",
            "description_tooltip": null,
            "layout": "IPY_MODEL_df25e4240d694f40a037c621880924a9",
            "placeholder": "​",
            "style": "IPY_MODEL_823b059324764b3a9e8d58b9c1d1de01",
            "value": "0.001 MB of 0.008 MB uploaded (0.000 MB deduped)\r"
          }
        },
        "a463c6e7c477452abcbed0b62c77321c": {
          "model_module": "@jupyter-widgets/base",
          "model_module_version": "1.2.0",
          "model_name": "LayoutModel",
          "state": {
            "_model_module": "@jupyter-widgets/base",
            "_model_module_version": "1.2.0",
            "_model_name": "LayoutModel",
            "_view_count": null,
            "_view_module": "@jupyter-widgets/base",
            "_view_module_version": "1.2.0",
            "_view_name": "LayoutView",
            "align_content": null,
            "align_items": null,
            "align_self": null,
            "border": null,
            "bottom": null,
            "display": null,
            "flex": null,
            "flex_flow": null,
            "grid_area": null,
            "grid_auto_columns": null,
            "grid_auto_flow": null,
            "grid_auto_rows": null,
            "grid_column": null,
            "grid_gap": null,
            "grid_row": null,
            "grid_template_areas": null,
            "grid_template_columns": null,
            "grid_template_rows": null,
            "height": null,
            "justify_content": null,
            "justify_items": null,
            "left": null,
            "margin": null,
            "max_height": null,
            "max_width": null,
            "min_height": null,
            "min_width": null,
            "object_fit": null,
            "object_position": null,
            "order": null,
            "overflow": null,
            "overflow_x": null,
            "overflow_y": null,
            "padding": null,
            "right": null,
            "top": null,
            "visibility": null,
            "width": null
          }
        },
        "a46de18e0a5648adaa2c0eb3dd2a3b5d": {
          "model_module": "@jupyter-widgets/controls",
          "model_module_version": "1.5.0",
          "model_name": "VBoxModel",
          "state": {
            "_dom_classes": [],
            "_model_module": "@jupyter-widgets/controls",
            "_model_module_version": "1.5.0",
            "_model_name": "VBoxModel",
            "_view_count": null,
            "_view_module": "@jupyter-widgets/controls",
            "_view_module_version": "1.5.0",
            "_view_name": "VBoxView",
            "box_style": "",
            "children": [
              "IPY_MODEL_0c18826149be4bd6834ef340cd902ad0",
              "IPY_MODEL_14fd9f7bebd74b46a50138aac7ea293e"
            ],
            "layout": "IPY_MODEL_2c17addc8d7245b280ed4f631aba56ae"
          }
        },
        "a53b002f54f84e199d74b94842d3561e": {
          "model_module": "@jupyter-widgets/base",
          "model_module_version": "1.2.0",
          "model_name": "LayoutModel",
          "state": {
            "_model_module": "@jupyter-widgets/base",
            "_model_module_version": "1.2.0",
            "_model_name": "LayoutModel",
            "_view_count": null,
            "_view_module": "@jupyter-widgets/base",
            "_view_module_version": "1.2.0",
            "_view_name": "LayoutView",
            "align_content": null,
            "align_items": null,
            "align_self": null,
            "border": null,
            "bottom": null,
            "display": null,
            "flex": null,
            "flex_flow": null,
            "grid_area": null,
            "grid_auto_columns": null,
            "grid_auto_flow": null,
            "grid_auto_rows": null,
            "grid_column": null,
            "grid_gap": null,
            "grid_row": null,
            "grid_template_areas": null,
            "grid_template_columns": null,
            "grid_template_rows": null,
            "height": null,
            "justify_content": null,
            "justify_items": null,
            "left": null,
            "margin": null,
            "max_height": null,
            "max_width": null,
            "min_height": null,
            "min_width": null,
            "object_fit": null,
            "object_position": null,
            "order": null,
            "overflow": null,
            "overflow_x": null,
            "overflow_y": null,
            "padding": null,
            "right": null,
            "top": null,
            "visibility": null,
            "width": null
          }
        },
        "a6e0bcf8b85a4046bc520c10eccaf84d": {
          "model_module": "@jupyter-widgets/controls",
          "model_module_version": "1.5.0",
          "model_name": "ProgressStyleModel",
          "state": {
            "_model_module": "@jupyter-widgets/controls",
            "_model_module_version": "1.5.0",
            "_model_name": "ProgressStyleModel",
            "_view_count": null,
            "_view_module": "@jupyter-widgets/base",
            "_view_module_version": "1.2.0",
            "_view_name": "StyleView",
            "bar_color": null,
            "description_width": ""
          }
        },
        "a781ca3c69a846f3a1e19b599ce427a0": {
          "model_module": "@jupyter-widgets/controls",
          "model_module_version": "1.5.0",
          "model_name": "ProgressStyleModel",
          "state": {
            "_model_module": "@jupyter-widgets/controls",
            "_model_module_version": "1.5.0",
            "_model_name": "ProgressStyleModel",
            "_view_count": null,
            "_view_module": "@jupyter-widgets/base",
            "_view_module_version": "1.2.0",
            "_view_name": "StyleView",
            "bar_color": null,
            "description_width": ""
          }
        },
        "a79ea8fb3f37413a8a07e0e7d13c46cb": {
          "model_module": "@jupyter-widgets/controls",
          "model_module_version": "1.5.0",
          "model_name": "DescriptionStyleModel",
          "state": {
            "_model_module": "@jupyter-widgets/controls",
            "_model_module_version": "1.5.0",
            "_model_name": "DescriptionStyleModel",
            "_view_count": null,
            "_view_module": "@jupyter-widgets/base",
            "_view_module_version": "1.2.0",
            "_view_name": "StyleView",
            "description_width": ""
          }
        },
        "a94e951a47f9404889c7cb7814d97297": {
          "model_module": "@jupyter-widgets/base",
          "model_module_version": "1.2.0",
          "model_name": "LayoutModel",
          "state": {
            "_model_module": "@jupyter-widgets/base",
            "_model_module_version": "1.2.0",
            "_model_name": "LayoutModel",
            "_view_count": null,
            "_view_module": "@jupyter-widgets/base",
            "_view_module_version": "1.2.0",
            "_view_name": "LayoutView",
            "align_content": null,
            "align_items": null,
            "align_self": null,
            "border": null,
            "bottom": null,
            "display": null,
            "flex": null,
            "flex_flow": null,
            "grid_area": null,
            "grid_auto_columns": null,
            "grid_auto_flow": null,
            "grid_auto_rows": null,
            "grid_column": null,
            "grid_gap": null,
            "grid_row": null,
            "grid_template_areas": null,
            "grid_template_columns": null,
            "grid_template_rows": null,
            "height": null,
            "justify_content": null,
            "justify_items": null,
            "left": null,
            "margin": null,
            "max_height": null,
            "max_width": null,
            "min_height": null,
            "min_width": null,
            "object_fit": null,
            "object_position": null,
            "order": null,
            "overflow": null,
            "overflow_x": null,
            "overflow_y": null,
            "padding": null,
            "right": null,
            "top": null,
            "visibility": null,
            "width": null
          }
        },
        "a9838736cf4f4478acd2ef818e423cdd": {
          "model_module": "@jupyter-widgets/base",
          "model_module_version": "1.2.0",
          "model_name": "LayoutModel",
          "state": {
            "_model_module": "@jupyter-widgets/base",
            "_model_module_version": "1.2.0",
            "_model_name": "LayoutModel",
            "_view_count": null,
            "_view_module": "@jupyter-widgets/base",
            "_view_module_version": "1.2.0",
            "_view_name": "LayoutView",
            "align_content": null,
            "align_items": null,
            "align_self": null,
            "border": null,
            "bottom": null,
            "display": null,
            "flex": null,
            "flex_flow": null,
            "grid_area": null,
            "grid_auto_columns": null,
            "grid_auto_flow": null,
            "grid_auto_rows": null,
            "grid_column": null,
            "grid_gap": null,
            "grid_row": null,
            "grid_template_areas": null,
            "grid_template_columns": null,
            "grid_template_rows": null,
            "height": null,
            "justify_content": null,
            "justify_items": null,
            "left": null,
            "margin": null,
            "max_height": null,
            "max_width": null,
            "min_height": null,
            "min_width": null,
            "object_fit": null,
            "object_position": null,
            "order": null,
            "overflow": null,
            "overflow_x": null,
            "overflow_y": null,
            "padding": null,
            "right": null,
            "top": null,
            "visibility": null,
            "width": null
          }
        },
        "a99f169f039c4450ae0115313a961b36": {
          "model_module": "@jupyter-widgets/base",
          "model_module_version": "1.2.0",
          "model_name": "LayoutModel",
          "state": {
            "_model_module": "@jupyter-widgets/base",
            "_model_module_version": "1.2.0",
            "_model_name": "LayoutModel",
            "_view_count": null,
            "_view_module": "@jupyter-widgets/base",
            "_view_module_version": "1.2.0",
            "_view_name": "LayoutView",
            "align_content": null,
            "align_items": null,
            "align_self": null,
            "border": null,
            "bottom": null,
            "display": null,
            "flex": null,
            "flex_flow": null,
            "grid_area": null,
            "grid_auto_columns": null,
            "grid_auto_flow": null,
            "grid_auto_rows": null,
            "grid_column": null,
            "grid_gap": null,
            "grid_row": null,
            "grid_template_areas": null,
            "grid_template_columns": null,
            "grid_template_rows": null,
            "height": null,
            "justify_content": null,
            "justify_items": null,
            "left": null,
            "margin": null,
            "max_height": null,
            "max_width": null,
            "min_height": null,
            "min_width": null,
            "object_fit": null,
            "object_position": null,
            "order": null,
            "overflow": null,
            "overflow_x": null,
            "overflow_y": null,
            "padding": null,
            "right": null,
            "top": null,
            "visibility": null,
            "width": null
          }
        },
        "a9baccb61b12407ab354d88f6bdd5faf": {
          "model_module": "@jupyter-widgets/controls",
          "model_module_version": "1.5.0",
          "model_name": "LabelModel",
          "state": {
            "_dom_classes": [],
            "_model_module": "@jupyter-widgets/controls",
            "_model_module_version": "1.5.0",
            "_model_name": "LabelModel",
            "_view_count": null,
            "_view_module": "@jupyter-widgets/controls",
            "_view_module_version": "1.5.0",
            "_view_name": "LabelView",
            "description": "",
            "description_tooltip": null,
            "layout": "IPY_MODEL_6883b329bdc34b31af8f63e9a38fa9d5",
            "placeholder": "​",
            "style": "IPY_MODEL_d89130e8753c4605bdd24e5a0753d378",
            "value": "0.004 MB of 0.007 MB uploaded (0.000 MB deduped)\r"
          }
        },
        "ac442479282e4b19b060bd17a8ab36c8": {
          "model_module": "@jupyter-widgets/controls",
          "model_module_version": "1.5.0",
          "model_name": "VBoxModel",
          "state": {
            "_dom_classes": [],
            "_model_module": "@jupyter-widgets/controls",
            "_model_module_version": "1.5.0",
            "_model_name": "VBoxModel",
            "_view_count": null,
            "_view_module": "@jupyter-widgets/controls",
            "_view_module_version": "1.5.0",
            "_view_name": "VBoxView",
            "box_style": "",
            "children": [
              "IPY_MODEL_e4b6e3af26d048de81a68598d1228695",
              "IPY_MODEL_5e5d295c656b4455a871809b669c7228"
            ],
            "layout": "IPY_MODEL_8f8abec529ca4d68a7d79ec44ff9aa8b"
          }
        },
        "aecee6cc6e6048eeaccb56bce9e4c9cd": {
          "model_module": "@jupyter-widgets/base",
          "model_module_version": "1.2.0",
          "model_name": "LayoutModel",
          "state": {
            "_model_module": "@jupyter-widgets/base",
            "_model_module_version": "1.2.0",
            "_model_name": "LayoutModel",
            "_view_count": null,
            "_view_module": "@jupyter-widgets/base",
            "_view_module_version": "1.2.0",
            "_view_name": "LayoutView",
            "align_content": null,
            "align_items": null,
            "align_self": null,
            "border": null,
            "bottom": null,
            "display": null,
            "flex": null,
            "flex_flow": null,
            "grid_area": null,
            "grid_auto_columns": null,
            "grid_auto_flow": null,
            "grid_auto_rows": null,
            "grid_column": null,
            "grid_gap": null,
            "grid_row": null,
            "grid_template_areas": null,
            "grid_template_columns": null,
            "grid_template_rows": null,
            "height": null,
            "justify_content": null,
            "justify_items": null,
            "left": null,
            "margin": null,
            "max_height": null,
            "max_width": null,
            "min_height": null,
            "min_width": null,
            "object_fit": null,
            "object_position": null,
            "order": null,
            "overflow": null,
            "overflow_x": null,
            "overflow_y": null,
            "padding": null,
            "right": null,
            "top": null,
            "visibility": null,
            "width": null
          }
        },
        "b2f648641fa648b1b90628eb74ff30d8": {
          "model_module": "@jupyter-widgets/base",
          "model_module_version": "1.2.0",
          "model_name": "LayoutModel",
          "state": {
            "_model_module": "@jupyter-widgets/base",
            "_model_module_version": "1.2.0",
            "_model_name": "LayoutModel",
            "_view_count": null,
            "_view_module": "@jupyter-widgets/base",
            "_view_module_version": "1.2.0",
            "_view_name": "LayoutView",
            "align_content": null,
            "align_items": null,
            "align_self": null,
            "border": null,
            "bottom": null,
            "display": null,
            "flex": null,
            "flex_flow": null,
            "grid_area": null,
            "grid_auto_columns": null,
            "grid_auto_flow": null,
            "grid_auto_rows": null,
            "grid_column": null,
            "grid_gap": null,
            "grid_row": null,
            "grid_template_areas": null,
            "grid_template_columns": null,
            "grid_template_rows": null,
            "height": null,
            "justify_content": null,
            "justify_items": null,
            "left": null,
            "margin": null,
            "max_height": null,
            "max_width": null,
            "min_height": null,
            "min_width": null,
            "object_fit": null,
            "object_position": null,
            "order": null,
            "overflow": null,
            "overflow_x": null,
            "overflow_y": null,
            "padding": null,
            "right": null,
            "top": null,
            "visibility": null,
            "width": null
          }
        },
        "b3822e4f7e1b465cb6979078d444517a": {
          "model_module": "@jupyter-widgets/controls",
          "model_module_version": "1.5.0",
          "model_name": "ProgressStyleModel",
          "state": {
            "_model_module": "@jupyter-widgets/controls",
            "_model_module_version": "1.5.0",
            "_model_name": "ProgressStyleModel",
            "_view_count": null,
            "_view_module": "@jupyter-widgets/base",
            "_view_module_version": "1.2.0",
            "_view_name": "StyleView",
            "bar_color": null,
            "description_width": ""
          }
        },
        "b3c584c8b3ad4bc5a3a315d01ea1336f": {
          "model_module": "@jupyter-widgets/base",
          "model_module_version": "1.2.0",
          "model_name": "LayoutModel",
          "state": {
            "_model_module": "@jupyter-widgets/base",
            "_model_module_version": "1.2.0",
            "_model_name": "LayoutModel",
            "_view_count": null,
            "_view_module": "@jupyter-widgets/base",
            "_view_module_version": "1.2.0",
            "_view_name": "LayoutView",
            "align_content": null,
            "align_items": null,
            "align_self": null,
            "border": null,
            "bottom": null,
            "display": null,
            "flex": null,
            "flex_flow": null,
            "grid_area": null,
            "grid_auto_columns": null,
            "grid_auto_flow": null,
            "grid_auto_rows": null,
            "grid_column": null,
            "grid_gap": null,
            "grid_row": null,
            "grid_template_areas": null,
            "grid_template_columns": null,
            "grid_template_rows": null,
            "height": null,
            "justify_content": null,
            "justify_items": null,
            "left": null,
            "margin": null,
            "max_height": null,
            "max_width": null,
            "min_height": null,
            "min_width": null,
            "object_fit": null,
            "object_position": null,
            "order": null,
            "overflow": null,
            "overflow_x": null,
            "overflow_y": null,
            "padding": null,
            "right": null,
            "top": null,
            "visibility": null,
            "width": null
          }
        },
        "b474ade21f904618b6cdbf4769c16f2b": {
          "model_module": "@jupyter-widgets/controls",
          "model_module_version": "1.5.0",
          "model_name": "LabelModel",
          "state": {
            "_dom_classes": [],
            "_model_module": "@jupyter-widgets/controls",
            "_model_module_version": "1.5.0",
            "_model_name": "LabelModel",
            "_view_count": null,
            "_view_module": "@jupyter-widgets/controls",
            "_view_module_version": "1.5.0",
            "_view_name": "LabelView",
            "description": "",
            "description_tooltip": null,
            "layout": "IPY_MODEL_75739a42fd32446bacb2806410480c4d",
            "placeholder": "​",
            "style": "IPY_MODEL_fc84151b530d4ddd9f97b7f683021590",
            "value": "0.001 MB of 0.008 MB uploaded (0.000 MB deduped)\r"
          }
        },
        "b80347a88c5c4fa7abd2c2f3914b8b32": {
          "model_module": "@jupyter-widgets/controls",
          "model_module_version": "1.5.0",
          "model_name": "ProgressStyleModel",
          "state": {
            "_model_module": "@jupyter-widgets/controls",
            "_model_module_version": "1.5.0",
            "_model_name": "ProgressStyleModel",
            "_view_count": null,
            "_view_module": "@jupyter-widgets/base",
            "_view_module_version": "1.2.0",
            "_view_name": "StyleView",
            "bar_color": null,
            "description_width": ""
          }
        },
        "b915ea554c154960b5c9e5e53ea67fe9": {
          "model_module": "@jupyter-widgets/controls",
          "model_module_version": "1.5.0",
          "model_name": "DescriptionStyleModel",
          "state": {
            "_model_module": "@jupyter-widgets/controls",
            "_model_module_version": "1.5.0",
            "_model_name": "DescriptionStyleModel",
            "_view_count": null,
            "_view_module": "@jupyter-widgets/base",
            "_view_module_version": "1.2.0",
            "_view_name": "StyleView",
            "description_width": ""
          }
        },
        "b9856d0bd7a04a0ca2a80c9c1c7b41f8": {
          "model_module": "@jupyter-widgets/base",
          "model_module_version": "1.2.0",
          "model_name": "LayoutModel",
          "state": {
            "_model_module": "@jupyter-widgets/base",
            "_model_module_version": "1.2.0",
            "_model_name": "LayoutModel",
            "_view_count": null,
            "_view_module": "@jupyter-widgets/base",
            "_view_module_version": "1.2.0",
            "_view_name": "LayoutView",
            "align_content": null,
            "align_items": null,
            "align_self": null,
            "border": null,
            "bottom": null,
            "display": null,
            "flex": null,
            "flex_flow": null,
            "grid_area": null,
            "grid_auto_columns": null,
            "grid_auto_flow": null,
            "grid_auto_rows": null,
            "grid_column": null,
            "grid_gap": null,
            "grid_row": null,
            "grid_template_areas": null,
            "grid_template_columns": null,
            "grid_template_rows": null,
            "height": null,
            "justify_content": null,
            "justify_items": null,
            "left": null,
            "margin": null,
            "max_height": null,
            "max_width": null,
            "min_height": null,
            "min_width": null,
            "object_fit": null,
            "object_position": null,
            "order": null,
            "overflow": null,
            "overflow_x": null,
            "overflow_y": null,
            "padding": null,
            "right": null,
            "top": null,
            "visibility": null,
            "width": null
          }
        },
        "ba02e7809c8c4b7f89eb2485be7f33bd": {
          "model_module": "@jupyter-widgets/controls",
          "model_module_version": "1.5.0",
          "model_name": "DescriptionStyleModel",
          "state": {
            "_model_module": "@jupyter-widgets/controls",
            "_model_module_version": "1.5.0",
            "_model_name": "DescriptionStyleModel",
            "_view_count": null,
            "_view_module": "@jupyter-widgets/base",
            "_view_module_version": "1.2.0",
            "_view_name": "StyleView",
            "description_width": ""
          }
        },
        "ba97076f176f4b67bab5de7158fc8a79": {
          "model_module": "@jupyter-widgets/base",
          "model_module_version": "1.2.0",
          "model_name": "LayoutModel",
          "state": {
            "_model_module": "@jupyter-widgets/base",
            "_model_module_version": "1.2.0",
            "_model_name": "LayoutModel",
            "_view_count": null,
            "_view_module": "@jupyter-widgets/base",
            "_view_module_version": "1.2.0",
            "_view_name": "LayoutView",
            "align_content": null,
            "align_items": null,
            "align_self": null,
            "border": null,
            "bottom": null,
            "display": null,
            "flex": null,
            "flex_flow": null,
            "grid_area": null,
            "grid_auto_columns": null,
            "grid_auto_flow": null,
            "grid_auto_rows": null,
            "grid_column": null,
            "grid_gap": null,
            "grid_row": null,
            "grid_template_areas": null,
            "grid_template_columns": null,
            "grid_template_rows": null,
            "height": null,
            "justify_content": null,
            "justify_items": null,
            "left": null,
            "margin": null,
            "max_height": null,
            "max_width": null,
            "min_height": null,
            "min_width": null,
            "object_fit": null,
            "object_position": null,
            "order": null,
            "overflow": null,
            "overflow_x": null,
            "overflow_y": null,
            "padding": null,
            "right": null,
            "top": null,
            "visibility": null,
            "width": null
          }
        },
        "bdcd3debca6148c58713a827e35b69bc": {
          "model_module": "@jupyter-widgets/base",
          "model_module_version": "1.2.0",
          "model_name": "LayoutModel",
          "state": {
            "_model_module": "@jupyter-widgets/base",
            "_model_module_version": "1.2.0",
            "_model_name": "LayoutModel",
            "_view_count": null,
            "_view_module": "@jupyter-widgets/base",
            "_view_module_version": "1.2.0",
            "_view_name": "LayoutView",
            "align_content": null,
            "align_items": null,
            "align_self": null,
            "border": null,
            "bottom": null,
            "display": null,
            "flex": null,
            "flex_flow": null,
            "grid_area": null,
            "grid_auto_columns": null,
            "grid_auto_flow": null,
            "grid_auto_rows": null,
            "grid_column": null,
            "grid_gap": null,
            "grid_row": null,
            "grid_template_areas": null,
            "grid_template_columns": null,
            "grid_template_rows": null,
            "height": null,
            "justify_content": null,
            "justify_items": null,
            "left": null,
            "margin": null,
            "max_height": null,
            "max_width": null,
            "min_height": null,
            "min_width": null,
            "object_fit": null,
            "object_position": null,
            "order": null,
            "overflow": null,
            "overflow_x": null,
            "overflow_y": null,
            "padding": null,
            "right": null,
            "top": null,
            "visibility": null,
            "width": null
          }
        },
        "bed96e8f19e144dbaac588f52a87a254": {
          "model_module": "@jupyter-widgets/controls",
          "model_module_version": "1.5.0",
          "model_name": "LabelModel",
          "state": {
            "_dom_classes": [],
            "_model_module": "@jupyter-widgets/controls",
            "_model_module_version": "1.5.0",
            "_model_name": "LabelModel",
            "_view_count": null,
            "_view_module": "@jupyter-widgets/controls",
            "_view_module_version": "1.5.0",
            "_view_name": "LabelView",
            "description": "",
            "description_tooltip": null,
            "layout": "IPY_MODEL_263c91bab25749ab8beab90b10e529af",
            "placeholder": "​",
            "style": "IPY_MODEL_e7135f2ef0ae4c828f7a5b7d668fd6cb",
            "value": "0.001 MB of 0.008 MB uploaded (0.000 MB deduped)\r"
          }
        },
        "c00697d0112c48619e1168bf37c0b159": {
          "model_module": "@jupyter-widgets/controls",
          "model_module_version": "1.5.0",
          "model_name": "LabelModel",
          "state": {
            "_dom_classes": [],
            "_model_module": "@jupyter-widgets/controls",
            "_model_module_version": "1.5.0",
            "_model_name": "LabelModel",
            "_view_count": null,
            "_view_module": "@jupyter-widgets/controls",
            "_view_module_version": "1.5.0",
            "_view_name": "LabelView",
            "description": "",
            "description_tooltip": null,
            "layout": "IPY_MODEL_8d080fed890b4fe39f896df54d805d38",
            "placeholder": "​",
            "style": "IPY_MODEL_6438653c37f64c1faa24af2227a3e590",
            "value": "0.001 MB of 0.009 MB uploaded (0.000 MB deduped)\r"
          }
        },
        "c0895ee787e7438cbba872d83b66efa0": {
          "model_module": "@jupyter-widgets/controls",
          "model_module_version": "1.5.0",
          "model_name": "FloatProgressModel",
          "state": {
            "_dom_classes": [],
            "_model_module": "@jupyter-widgets/controls",
            "_model_module_version": "1.5.0",
            "_model_name": "FloatProgressModel",
            "_view_count": null,
            "_view_module": "@jupyter-widgets/controls",
            "_view_module_version": "1.5.0",
            "_view_name": "ProgressView",
            "bar_style": "",
            "description": "",
            "description_tooltip": null,
            "layout": "IPY_MODEL_71049f65e40e4bfcb16b989137575db7",
            "max": 1,
            "min": 0,
            "orientation": "horizontal",
            "style": "IPY_MODEL_d6ce1e30020f4bd5b2388c7c872e9196",
            "value": 0.1044776119402985
          }
        },
        "c185c09d48854fdea464c44c4880f3c5": {
          "model_module": "@jupyter-widgets/base",
          "model_module_version": "1.2.0",
          "model_name": "LayoutModel",
          "state": {
            "_model_module": "@jupyter-widgets/base",
            "_model_module_version": "1.2.0",
            "_model_name": "LayoutModel",
            "_view_count": null,
            "_view_module": "@jupyter-widgets/base",
            "_view_module_version": "1.2.0",
            "_view_name": "LayoutView",
            "align_content": null,
            "align_items": null,
            "align_self": null,
            "border": null,
            "bottom": null,
            "display": null,
            "flex": null,
            "flex_flow": null,
            "grid_area": null,
            "grid_auto_columns": null,
            "grid_auto_flow": null,
            "grid_auto_rows": null,
            "grid_column": null,
            "grid_gap": null,
            "grid_row": null,
            "grid_template_areas": null,
            "grid_template_columns": null,
            "grid_template_rows": null,
            "height": null,
            "justify_content": null,
            "justify_items": null,
            "left": null,
            "margin": null,
            "max_height": null,
            "max_width": null,
            "min_height": null,
            "min_width": null,
            "object_fit": null,
            "object_position": null,
            "order": null,
            "overflow": null,
            "overflow_x": null,
            "overflow_y": null,
            "padding": null,
            "right": null,
            "top": null,
            "visibility": null,
            "width": null
          }
        },
        "c5251ce70bc549ccb80e9390302bd19b": {
          "model_module": "@jupyter-widgets/base",
          "model_module_version": "1.2.0",
          "model_name": "LayoutModel",
          "state": {
            "_model_module": "@jupyter-widgets/base",
            "_model_module_version": "1.2.0",
            "_model_name": "LayoutModel",
            "_view_count": null,
            "_view_module": "@jupyter-widgets/base",
            "_view_module_version": "1.2.0",
            "_view_name": "LayoutView",
            "align_content": null,
            "align_items": null,
            "align_self": null,
            "border": null,
            "bottom": null,
            "display": null,
            "flex": null,
            "flex_flow": null,
            "grid_area": null,
            "grid_auto_columns": null,
            "grid_auto_flow": null,
            "grid_auto_rows": null,
            "grid_column": null,
            "grid_gap": null,
            "grid_row": null,
            "grid_template_areas": null,
            "grid_template_columns": null,
            "grid_template_rows": null,
            "height": null,
            "justify_content": null,
            "justify_items": null,
            "left": null,
            "margin": null,
            "max_height": null,
            "max_width": null,
            "min_height": null,
            "min_width": null,
            "object_fit": null,
            "object_position": null,
            "order": null,
            "overflow": null,
            "overflow_x": null,
            "overflow_y": null,
            "padding": null,
            "right": null,
            "top": null,
            "visibility": null,
            "width": null
          }
        },
        "cbb983080bb040999c5f2b363573e72e": {
          "model_module": "@jupyter-widgets/base",
          "model_module_version": "1.2.0",
          "model_name": "LayoutModel",
          "state": {
            "_model_module": "@jupyter-widgets/base",
            "_model_module_version": "1.2.0",
            "_model_name": "LayoutModel",
            "_view_count": null,
            "_view_module": "@jupyter-widgets/base",
            "_view_module_version": "1.2.0",
            "_view_name": "LayoutView",
            "align_content": null,
            "align_items": null,
            "align_self": null,
            "border": null,
            "bottom": null,
            "display": null,
            "flex": null,
            "flex_flow": null,
            "grid_area": null,
            "grid_auto_columns": null,
            "grid_auto_flow": null,
            "grid_auto_rows": null,
            "grid_column": null,
            "grid_gap": null,
            "grid_row": null,
            "grid_template_areas": null,
            "grid_template_columns": null,
            "grid_template_rows": null,
            "height": null,
            "justify_content": null,
            "justify_items": null,
            "left": null,
            "margin": null,
            "max_height": null,
            "max_width": null,
            "min_height": null,
            "min_width": null,
            "object_fit": null,
            "object_position": null,
            "order": null,
            "overflow": null,
            "overflow_x": null,
            "overflow_y": null,
            "padding": null,
            "right": null,
            "top": null,
            "visibility": null,
            "width": null
          }
        },
        "cdd3afc849a542e096067a37b5e073e4": {
          "model_module": "@jupyter-widgets/controls",
          "model_module_version": "1.5.0",
          "model_name": "ProgressStyleModel",
          "state": {
            "_model_module": "@jupyter-widgets/controls",
            "_model_module_version": "1.5.0",
            "_model_name": "ProgressStyleModel",
            "_view_count": null,
            "_view_module": "@jupyter-widgets/base",
            "_view_module_version": "1.2.0",
            "_view_name": "StyleView",
            "bar_color": null,
            "description_width": ""
          }
        },
        "cf37ebb27ff64fe79a5592cd7863bb37": {
          "model_module": "@jupyter-widgets/controls",
          "model_module_version": "1.5.0",
          "model_name": "DescriptionStyleModel",
          "state": {
            "_model_module": "@jupyter-widgets/controls",
            "_model_module_version": "1.5.0",
            "_model_name": "DescriptionStyleModel",
            "_view_count": null,
            "_view_module": "@jupyter-widgets/base",
            "_view_module_version": "1.2.0",
            "_view_name": "StyleView",
            "description_width": ""
          }
        },
        "cf46664ebefc493eaa3becfcacb95d59": {
          "model_module": "@jupyter-widgets/controls",
          "model_module_version": "1.5.0",
          "model_name": "ProgressStyleModel",
          "state": {
            "_model_module": "@jupyter-widgets/controls",
            "_model_module_version": "1.5.0",
            "_model_name": "ProgressStyleModel",
            "_view_count": null,
            "_view_module": "@jupyter-widgets/base",
            "_view_module_version": "1.2.0",
            "_view_name": "StyleView",
            "bar_color": null,
            "description_width": ""
          }
        },
        "d0e6a90cd1794c67a2f300511192b887": {
          "model_module": "@jupyter-widgets/base",
          "model_module_version": "1.2.0",
          "model_name": "LayoutModel",
          "state": {
            "_model_module": "@jupyter-widgets/base",
            "_model_module_version": "1.2.0",
            "_model_name": "LayoutModel",
            "_view_count": null,
            "_view_module": "@jupyter-widgets/base",
            "_view_module_version": "1.2.0",
            "_view_name": "LayoutView",
            "align_content": null,
            "align_items": null,
            "align_self": null,
            "border": null,
            "bottom": null,
            "display": null,
            "flex": null,
            "flex_flow": null,
            "grid_area": null,
            "grid_auto_columns": null,
            "grid_auto_flow": null,
            "grid_auto_rows": null,
            "grid_column": null,
            "grid_gap": null,
            "grid_row": null,
            "grid_template_areas": null,
            "grid_template_columns": null,
            "grid_template_rows": null,
            "height": null,
            "justify_content": null,
            "justify_items": null,
            "left": null,
            "margin": null,
            "max_height": null,
            "max_width": null,
            "min_height": null,
            "min_width": null,
            "object_fit": null,
            "object_position": null,
            "order": null,
            "overflow": null,
            "overflow_x": null,
            "overflow_y": null,
            "padding": null,
            "right": null,
            "top": null,
            "visibility": null,
            "width": null
          }
        },
        "d2dc28fecb9d49b1ac6a88137c9b3c9b": {
          "model_module": "@jupyter-widgets/base",
          "model_module_version": "1.2.0",
          "model_name": "LayoutModel",
          "state": {
            "_model_module": "@jupyter-widgets/base",
            "_model_module_version": "1.2.0",
            "_model_name": "LayoutModel",
            "_view_count": null,
            "_view_module": "@jupyter-widgets/base",
            "_view_module_version": "1.2.0",
            "_view_name": "LayoutView",
            "align_content": null,
            "align_items": null,
            "align_self": null,
            "border": null,
            "bottom": null,
            "display": null,
            "flex": null,
            "flex_flow": null,
            "grid_area": null,
            "grid_auto_columns": null,
            "grid_auto_flow": null,
            "grid_auto_rows": null,
            "grid_column": null,
            "grid_gap": null,
            "grid_row": null,
            "grid_template_areas": null,
            "grid_template_columns": null,
            "grid_template_rows": null,
            "height": null,
            "justify_content": null,
            "justify_items": null,
            "left": null,
            "margin": null,
            "max_height": null,
            "max_width": null,
            "min_height": null,
            "min_width": null,
            "object_fit": null,
            "object_position": null,
            "order": null,
            "overflow": null,
            "overflow_x": null,
            "overflow_y": null,
            "padding": null,
            "right": null,
            "top": null,
            "visibility": null,
            "width": null
          }
        },
        "d3ccfab86130421abe99c471cde58299": {
          "model_module": "@jupyter-widgets/base",
          "model_module_version": "1.2.0",
          "model_name": "LayoutModel",
          "state": {
            "_model_module": "@jupyter-widgets/base",
            "_model_module_version": "1.2.0",
            "_model_name": "LayoutModel",
            "_view_count": null,
            "_view_module": "@jupyter-widgets/base",
            "_view_module_version": "1.2.0",
            "_view_name": "LayoutView",
            "align_content": null,
            "align_items": null,
            "align_self": null,
            "border": null,
            "bottom": null,
            "display": null,
            "flex": null,
            "flex_flow": null,
            "grid_area": null,
            "grid_auto_columns": null,
            "grid_auto_flow": null,
            "grid_auto_rows": null,
            "grid_column": null,
            "grid_gap": null,
            "grid_row": null,
            "grid_template_areas": null,
            "grid_template_columns": null,
            "grid_template_rows": null,
            "height": null,
            "justify_content": null,
            "justify_items": null,
            "left": null,
            "margin": null,
            "max_height": null,
            "max_width": null,
            "min_height": null,
            "min_width": null,
            "object_fit": null,
            "object_position": null,
            "order": null,
            "overflow": null,
            "overflow_x": null,
            "overflow_y": null,
            "padding": null,
            "right": null,
            "top": null,
            "visibility": null,
            "width": null
          }
        },
        "d6ce1e30020f4bd5b2388c7c872e9196": {
          "model_module": "@jupyter-widgets/controls",
          "model_module_version": "1.5.0",
          "model_name": "ProgressStyleModel",
          "state": {
            "_model_module": "@jupyter-widgets/controls",
            "_model_module_version": "1.5.0",
            "_model_name": "ProgressStyleModel",
            "_view_count": null,
            "_view_module": "@jupyter-widgets/base",
            "_view_module_version": "1.2.0",
            "_view_name": "StyleView",
            "bar_color": null,
            "description_width": ""
          }
        },
        "d6e20300d7e248d7846fdd7bad54b434": {
          "model_module": "@jupyter-widgets/controls",
          "model_module_version": "1.5.0",
          "model_name": "FloatProgressModel",
          "state": {
            "_dom_classes": [],
            "_model_module": "@jupyter-widgets/controls",
            "_model_module_version": "1.5.0",
            "_model_name": "FloatProgressModel",
            "_view_count": null,
            "_view_module": "@jupyter-widgets/controls",
            "_view_module_version": "1.5.0",
            "_view_name": "ProgressView",
            "bar_style": "",
            "description": "",
            "description_tooltip": null,
            "layout": "IPY_MODEL_d3ccfab86130421abe99c471cde58299",
            "max": 1,
            "min": 0,
            "orientation": "horizontal",
            "style": "IPY_MODEL_b3822e4f7e1b465cb6979078d444517a",
            "value": 0.1161194371353392
          }
        },
        "d89130e8753c4605bdd24e5a0753d378": {
          "model_module": "@jupyter-widgets/controls",
          "model_module_version": "1.5.0",
          "model_name": "DescriptionStyleModel",
          "state": {
            "_model_module": "@jupyter-widgets/controls",
            "_model_module_version": "1.5.0",
            "_model_name": "DescriptionStyleModel",
            "_view_count": null,
            "_view_module": "@jupyter-widgets/base",
            "_view_module_version": "1.2.0",
            "_view_name": "StyleView",
            "description_width": ""
          }
        },
        "d8bc2ac9cab64e39a0f8d108622ba1c0": {
          "model_module": "@jupyter-widgets/controls",
          "model_module_version": "1.5.0",
          "model_name": "FloatProgressModel",
          "state": {
            "_dom_classes": [],
            "_model_module": "@jupyter-widgets/controls",
            "_model_module_version": "1.5.0",
            "_model_name": "FloatProgressModel",
            "_view_count": null,
            "_view_module": "@jupyter-widgets/controls",
            "_view_module_version": "1.5.0",
            "_view_name": "ProgressView",
            "bar_style": "",
            "description": "",
            "description_tooltip": null,
            "layout": "IPY_MODEL_6f65401d6e1d4f4dbfb1308df3d18d1b",
            "max": 1,
            "min": 0,
            "orientation": "horizontal",
            "style": "IPY_MODEL_e0199511cd2a4fc196120294159ae68d",
            "value": 0.10470988354117283
          }
        },
        "db73c6a8241d44c991e9646725c2743a": {
          "model_module": "@jupyter-widgets/controls",
          "model_module_version": "1.5.0",
          "model_name": "VBoxModel",
          "state": {
            "_dom_classes": [],
            "_model_module": "@jupyter-widgets/controls",
            "_model_module_version": "1.5.0",
            "_model_name": "VBoxModel",
            "_view_count": null,
            "_view_module": "@jupyter-widgets/controls",
            "_view_module_version": "1.5.0",
            "_view_name": "VBoxView",
            "box_style": "",
            "children": [
              "IPY_MODEL_14886a653c6049b294a061a30657edf8",
              "IPY_MODEL_44ee01514cf94c578d9a5abbef58fe3b"
            ],
            "layout": "IPY_MODEL_34912db556e543068db5e31414377b67"
          }
        },
        "df25e4240d694f40a037c621880924a9": {
          "model_module": "@jupyter-widgets/base",
          "model_module_version": "1.2.0",
          "model_name": "LayoutModel",
          "state": {
            "_model_module": "@jupyter-widgets/base",
            "_model_module_version": "1.2.0",
            "_model_name": "LayoutModel",
            "_view_count": null,
            "_view_module": "@jupyter-widgets/base",
            "_view_module_version": "1.2.0",
            "_view_name": "LayoutView",
            "align_content": null,
            "align_items": null,
            "align_self": null,
            "border": null,
            "bottom": null,
            "display": null,
            "flex": null,
            "flex_flow": null,
            "grid_area": null,
            "grid_auto_columns": null,
            "grid_auto_flow": null,
            "grid_auto_rows": null,
            "grid_column": null,
            "grid_gap": null,
            "grid_row": null,
            "grid_template_areas": null,
            "grid_template_columns": null,
            "grid_template_rows": null,
            "height": null,
            "justify_content": null,
            "justify_items": null,
            "left": null,
            "margin": null,
            "max_height": null,
            "max_width": null,
            "min_height": null,
            "min_width": null,
            "object_fit": null,
            "object_position": null,
            "order": null,
            "overflow": null,
            "overflow_x": null,
            "overflow_y": null,
            "padding": null,
            "right": null,
            "top": null,
            "visibility": null,
            "width": null
          }
        },
        "e0199511cd2a4fc196120294159ae68d": {
          "model_module": "@jupyter-widgets/controls",
          "model_module_version": "1.5.0",
          "model_name": "ProgressStyleModel",
          "state": {
            "_model_module": "@jupyter-widgets/controls",
            "_model_module_version": "1.5.0",
            "_model_name": "ProgressStyleModel",
            "_view_count": null,
            "_view_module": "@jupyter-widgets/base",
            "_view_module_version": "1.2.0",
            "_view_name": "StyleView",
            "bar_color": null,
            "description_width": ""
          }
        },
        "e0b503c678694763956074fb8faece20": {
          "model_module": "@jupyter-widgets/controls",
          "model_module_version": "1.5.0",
          "model_name": "DescriptionStyleModel",
          "state": {
            "_model_module": "@jupyter-widgets/controls",
            "_model_module_version": "1.5.0",
            "_model_name": "DescriptionStyleModel",
            "_view_count": null,
            "_view_module": "@jupyter-widgets/base",
            "_view_module_version": "1.2.0",
            "_view_name": "StyleView",
            "description_width": ""
          }
        },
        "e0eedfdc4f45428889c91ce03a939d34": {
          "model_module": "@jupyter-widgets/base",
          "model_module_version": "1.2.0",
          "model_name": "LayoutModel",
          "state": {
            "_model_module": "@jupyter-widgets/base",
            "_model_module_version": "1.2.0",
            "_model_name": "LayoutModel",
            "_view_count": null,
            "_view_module": "@jupyter-widgets/base",
            "_view_module_version": "1.2.0",
            "_view_name": "LayoutView",
            "align_content": null,
            "align_items": null,
            "align_self": null,
            "border": null,
            "bottom": null,
            "display": null,
            "flex": null,
            "flex_flow": null,
            "grid_area": null,
            "grid_auto_columns": null,
            "grid_auto_flow": null,
            "grid_auto_rows": null,
            "grid_column": null,
            "grid_gap": null,
            "grid_row": null,
            "grid_template_areas": null,
            "grid_template_columns": null,
            "grid_template_rows": null,
            "height": null,
            "justify_content": null,
            "justify_items": null,
            "left": null,
            "margin": null,
            "max_height": null,
            "max_width": null,
            "min_height": null,
            "min_width": null,
            "object_fit": null,
            "object_position": null,
            "order": null,
            "overflow": null,
            "overflow_x": null,
            "overflow_y": null,
            "padding": null,
            "right": null,
            "top": null,
            "visibility": null,
            "width": null
          }
        },
        "e149ce486a7f47f6838a4e1b0b395974": {
          "model_module": "@jupyter-widgets/controls",
          "model_module_version": "1.5.0",
          "model_name": "VBoxModel",
          "state": {
            "_dom_classes": [],
            "_model_module": "@jupyter-widgets/controls",
            "_model_module_version": "1.5.0",
            "_model_name": "VBoxModel",
            "_view_count": null,
            "_view_module": "@jupyter-widgets/controls",
            "_view_module_version": "1.5.0",
            "_view_name": "VBoxView",
            "box_style": "",
            "children": [
              "IPY_MODEL_bed96e8f19e144dbaac588f52a87a254",
              "IPY_MODEL_6689da83376346a7831c62d4968f6d4b"
            ],
            "layout": "IPY_MODEL_a9838736cf4f4478acd2ef818e423cdd"
          }
        },
        "e198c14489f44134a3d56ea0b60d73c0": {
          "model_module": "@jupyter-widgets/controls",
          "model_module_version": "1.5.0",
          "model_name": "FloatProgressModel",
          "state": {
            "_dom_classes": [],
            "_model_module": "@jupyter-widgets/controls",
            "_model_module_version": "1.5.0",
            "_model_name": "FloatProgressModel",
            "_view_count": null,
            "_view_module": "@jupyter-widgets/controls",
            "_view_module_version": "1.5.0",
            "_view_name": "ProgressView",
            "bar_style": "",
            "description": "",
            "description_tooltip": null,
            "layout": "IPY_MODEL_ecc1bebce5f44833975fab45e6b0e1a0",
            "max": 1,
            "min": 0,
            "orientation": "horizontal",
            "style": "IPY_MODEL_a6e0bcf8b85a4046bc520c10eccaf84d",
            "value": 0.10433618292306107
          }
        },
        "e25fd494df664836b317f961a54de313": {
          "model_module": "@jupyter-widgets/base",
          "model_module_version": "1.2.0",
          "model_name": "LayoutModel",
          "state": {
            "_model_module": "@jupyter-widgets/base",
            "_model_module_version": "1.2.0",
            "_model_name": "LayoutModel",
            "_view_count": null,
            "_view_module": "@jupyter-widgets/base",
            "_view_module_version": "1.2.0",
            "_view_name": "LayoutView",
            "align_content": null,
            "align_items": null,
            "align_self": null,
            "border": null,
            "bottom": null,
            "display": null,
            "flex": null,
            "flex_flow": null,
            "grid_area": null,
            "grid_auto_columns": null,
            "grid_auto_flow": null,
            "grid_auto_rows": null,
            "grid_column": null,
            "grid_gap": null,
            "grid_row": null,
            "grid_template_areas": null,
            "grid_template_columns": null,
            "grid_template_rows": null,
            "height": null,
            "justify_content": null,
            "justify_items": null,
            "left": null,
            "margin": null,
            "max_height": null,
            "max_width": null,
            "min_height": null,
            "min_width": null,
            "object_fit": null,
            "object_position": null,
            "order": null,
            "overflow": null,
            "overflow_x": null,
            "overflow_y": null,
            "padding": null,
            "right": null,
            "top": null,
            "visibility": null,
            "width": null
          }
        },
        "e356e08bb7294da3b96148227997caa4": {
          "model_module": "@jupyter-widgets/base",
          "model_module_version": "1.2.0",
          "model_name": "LayoutModel",
          "state": {
            "_model_module": "@jupyter-widgets/base",
            "_model_module_version": "1.2.0",
            "_model_name": "LayoutModel",
            "_view_count": null,
            "_view_module": "@jupyter-widgets/base",
            "_view_module_version": "1.2.0",
            "_view_name": "LayoutView",
            "align_content": null,
            "align_items": null,
            "align_self": null,
            "border": null,
            "bottom": null,
            "display": null,
            "flex": null,
            "flex_flow": null,
            "grid_area": null,
            "grid_auto_columns": null,
            "grid_auto_flow": null,
            "grid_auto_rows": null,
            "grid_column": null,
            "grid_gap": null,
            "grid_row": null,
            "grid_template_areas": null,
            "grid_template_columns": null,
            "grid_template_rows": null,
            "height": null,
            "justify_content": null,
            "justify_items": null,
            "left": null,
            "margin": null,
            "max_height": null,
            "max_width": null,
            "min_height": null,
            "min_width": null,
            "object_fit": null,
            "object_position": null,
            "order": null,
            "overflow": null,
            "overflow_x": null,
            "overflow_y": null,
            "padding": null,
            "right": null,
            "top": null,
            "visibility": null,
            "width": null
          }
        },
        "e3b468b950f945bf9ce7229b5b6a1a86": {
          "model_module": "@jupyter-widgets/controls",
          "model_module_version": "1.5.0",
          "model_name": "VBoxModel",
          "state": {
            "_dom_classes": [],
            "_model_module": "@jupyter-widgets/controls",
            "_model_module_version": "1.5.0",
            "_model_name": "VBoxModel",
            "_view_count": null,
            "_view_module": "@jupyter-widgets/controls",
            "_view_module_version": "1.5.0",
            "_view_name": "VBoxView",
            "box_style": "",
            "children": [
              "IPY_MODEL_518fe9ef67b24ca59fce073b7d7f4a72",
              "IPY_MODEL_d8bc2ac9cab64e39a0f8d108622ba1c0"
            ],
            "layout": "IPY_MODEL_7f176aa743d64815a958120472cf2295"
          }
        },
        "e4871dd9ddae430b999f7b1dfba5036c": {
          "model_module": "@jupyter-widgets/controls",
          "model_module_version": "1.5.0",
          "model_name": "ProgressStyleModel",
          "state": {
            "_model_module": "@jupyter-widgets/controls",
            "_model_module_version": "1.5.0",
            "_model_name": "ProgressStyleModel",
            "_view_count": null,
            "_view_module": "@jupyter-widgets/base",
            "_view_module_version": "1.2.0",
            "_view_name": "StyleView",
            "bar_color": null,
            "description_width": ""
          }
        },
        "e4b6e3af26d048de81a68598d1228695": {
          "model_module": "@jupyter-widgets/controls",
          "model_module_version": "1.5.0",
          "model_name": "LabelModel",
          "state": {
            "_dom_classes": [],
            "_model_module": "@jupyter-widgets/controls",
            "_model_module_version": "1.5.0",
            "_model_name": "LabelModel",
            "_view_count": null,
            "_view_module": "@jupyter-widgets/controls",
            "_view_module_version": "1.5.0",
            "_view_name": "LabelView",
            "description": "",
            "description_tooltip": null,
            "layout": "IPY_MODEL_325f5efe6649471b971b5ce1bfcbcf87",
            "placeholder": "​",
            "style": "IPY_MODEL_e7fb71a9b6ac4e80bea9c66725f9346d",
            "value": "0.001 MB of 0.001 MB uploaded (0.000 MB deduped)\r"
          }
        },
        "e619758058184a06a098586b6f3500e7": {
          "model_module": "@jupyter-widgets/controls",
          "model_module_version": "1.5.0",
          "model_name": "FloatProgressModel",
          "state": {
            "_dom_classes": [],
            "_model_module": "@jupyter-widgets/controls",
            "_model_module_version": "1.5.0",
            "_model_name": "FloatProgressModel",
            "_view_count": null,
            "_view_module": "@jupyter-widgets/controls",
            "_view_module_version": "1.5.0",
            "_view_name": "ProgressView",
            "bar_style": "",
            "description": "",
            "description_tooltip": null,
            "layout": "IPY_MODEL_5802e096347d4024b184389bcb518f5b",
            "max": 1,
            "min": 0,
            "orientation": "horizontal",
            "style": "IPY_MODEL_1d9debedf807470fb98b7905f63a1af8",
            "value": 0.10463439752832132
          }
        },
        "e635421ad67144ba9c230eb44ff47ea3": {
          "model_module": "@jupyter-widgets/base",
          "model_module_version": "1.2.0",
          "model_name": "LayoutModel",
          "state": {
            "_model_module": "@jupyter-widgets/base",
            "_model_module_version": "1.2.0",
            "_model_name": "LayoutModel",
            "_view_count": null,
            "_view_module": "@jupyter-widgets/base",
            "_view_module_version": "1.2.0",
            "_view_name": "LayoutView",
            "align_content": null,
            "align_items": null,
            "align_self": null,
            "border": null,
            "bottom": null,
            "display": null,
            "flex": null,
            "flex_flow": null,
            "grid_area": null,
            "grid_auto_columns": null,
            "grid_auto_flow": null,
            "grid_auto_rows": null,
            "grid_column": null,
            "grid_gap": null,
            "grid_row": null,
            "grid_template_areas": null,
            "grid_template_columns": null,
            "grid_template_rows": null,
            "height": null,
            "justify_content": null,
            "justify_items": null,
            "left": null,
            "margin": null,
            "max_height": null,
            "max_width": null,
            "min_height": null,
            "min_width": null,
            "object_fit": null,
            "object_position": null,
            "order": null,
            "overflow": null,
            "overflow_x": null,
            "overflow_y": null,
            "padding": null,
            "right": null,
            "top": null,
            "visibility": null,
            "width": null
          }
        },
        "e67ddc6ac75847a18f7bad863e074acb": {
          "model_module": "@jupyter-widgets/controls",
          "model_module_version": "1.5.0",
          "model_name": "LabelModel",
          "state": {
            "_dom_classes": [],
            "_model_module": "@jupyter-widgets/controls",
            "_model_module_version": "1.5.0",
            "_model_name": "LabelModel",
            "_view_count": null,
            "_view_module": "@jupyter-widgets/controls",
            "_view_module_version": "1.5.0",
            "_view_name": "LabelView",
            "description": "",
            "description_tooltip": null,
            "layout": "IPY_MODEL_26ac1f2cc815402ab0c701afd42ba592",
            "placeholder": "​",
            "style": "IPY_MODEL_6cfd2c29b90a4e92b539ae64fb9d441b",
            "value": "0.001 MB of 0.009 MB uploaded (0.000 MB deduped)\r"
          }
        },
        "e6fc5e31718b47dba8cb4939e4a79b69": {
          "model_module": "@jupyter-widgets/controls",
          "model_module_version": "1.5.0",
          "model_name": "ProgressStyleModel",
          "state": {
            "_model_module": "@jupyter-widgets/controls",
            "_model_module_version": "1.5.0",
            "_model_name": "ProgressStyleModel",
            "_view_count": null,
            "_view_module": "@jupyter-widgets/base",
            "_view_module_version": "1.2.0",
            "_view_name": "StyleView",
            "bar_color": null,
            "description_width": ""
          }
        },
        "e7135f2ef0ae4c828f7a5b7d668fd6cb": {
          "model_module": "@jupyter-widgets/controls",
          "model_module_version": "1.5.0",
          "model_name": "DescriptionStyleModel",
          "state": {
            "_model_module": "@jupyter-widgets/controls",
            "_model_module_version": "1.5.0",
            "_model_name": "DescriptionStyleModel",
            "_view_count": null,
            "_view_module": "@jupyter-widgets/base",
            "_view_module_version": "1.2.0",
            "_view_name": "StyleView",
            "description_width": ""
          }
        },
        "e751ea94a8be44298a08e04513a24eb5": {
          "model_module": "@jupyter-widgets/controls",
          "model_module_version": "1.5.0",
          "model_name": "VBoxModel",
          "state": {
            "_dom_classes": [],
            "_model_module": "@jupyter-widgets/controls",
            "_model_module_version": "1.5.0",
            "_model_name": "VBoxModel",
            "_view_count": null,
            "_view_module": "@jupyter-widgets/controls",
            "_view_module_version": "1.5.0",
            "_view_name": "VBoxView",
            "box_style": "",
            "children": [
              "IPY_MODEL_a9baccb61b12407ab354d88f6bdd5faf",
              "IPY_MODEL_005a1eedb85b475b86191750098e6ec7"
            ],
            "layout": "IPY_MODEL_454d2a2785034e79b1b32644a7f40267"
          }
        },
        "e762d8ccb4bb418da7f6b613cddf2498": {
          "model_module": "@jupyter-widgets/controls",
          "model_module_version": "1.5.0",
          "model_name": "ProgressStyleModel",
          "state": {
            "_model_module": "@jupyter-widgets/controls",
            "_model_module_version": "1.5.0",
            "_model_name": "ProgressStyleModel",
            "_view_count": null,
            "_view_module": "@jupyter-widgets/base",
            "_view_module_version": "1.2.0",
            "_view_name": "StyleView",
            "bar_color": null,
            "description_width": ""
          }
        },
        "e7fb71a9b6ac4e80bea9c66725f9346d": {
          "model_module": "@jupyter-widgets/controls",
          "model_module_version": "1.5.0",
          "model_name": "DescriptionStyleModel",
          "state": {
            "_model_module": "@jupyter-widgets/controls",
            "_model_module_version": "1.5.0",
            "_model_name": "DescriptionStyleModel",
            "_view_count": null,
            "_view_module": "@jupyter-widgets/base",
            "_view_module_version": "1.2.0",
            "_view_name": "StyleView",
            "description_width": ""
          }
        },
        "e9bf331b31044912997e974c439dc3f8": {
          "model_module": "@jupyter-widgets/controls",
          "model_module_version": "1.5.0",
          "model_name": "DescriptionStyleModel",
          "state": {
            "_model_module": "@jupyter-widgets/controls",
            "_model_module_version": "1.5.0",
            "_model_name": "DescriptionStyleModel",
            "_view_count": null,
            "_view_module": "@jupyter-widgets/base",
            "_view_module_version": "1.2.0",
            "_view_name": "StyleView",
            "description_width": ""
          }
        },
        "e9fdd758ae334a5587c73fcb93910f47": {
          "model_module": "@jupyter-widgets/controls",
          "model_module_version": "1.5.0",
          "model_name": "LabelModel",
          "state": {
            "_dom_classes": [],
            "_model_module": "@jupyter-widgets/controls",
            "_model_module_version": "1.5.0",
            "_model_name": "LabelModel",
            "_view_count": null,
            "_view_module": "@jupyter-widgets/controls",
            "_view_module_version": "1.5.0",
            "_view_name": "LabelView",
            "description": "",
            "description_tooltip": null,
            "layout": "IPY_MODEL_b9856d0bd7a04a0ca2a80c9c1c7b41f8",
            "placeholder": "​",
            "style": "IPY_MODEL_976206fa06824297b62e513e8bc71e94",
            "value": "0.001 MB of 0.009 MB uploaded (0.000 MB deduped)\r"
          }
        },
        "ea6f6f7fdba7430fac78f402a87e240c": {
          "model_module": "@jupyter-widgets/base",
          "model_module_version": "1.2.0",
          "model_name": "LayoutModel",
          "state": {
            "_model_module": "@jupyter-widgets/base",
            "_model_module_version": "1.2.0",
            "_model_name": "LayoutModel",
            "_view_count": null,
            "_view_module": "@jupyter-widgets/base",
            "_view_module_version": "1.2.0",
            "_view_name": "LayoutView",
            "align_content": null,
            "align_items": null,
            "align_self": null,
            "border": null,
            "bottom": null,
            "display": null,
            "flex": null,
            "flex_flow": null,
            "grid_area": null,
            "grid_auto_columns": null,
            "grid_auto_flow": null,
            "grid_auto_rows": null,
            "grid_column": null,
            "grid_gap": null,
            "grid_row": null,
            "grid_template_areas": null,
            "grid_template_columns": null,
            "grid_template_rows": null,
            "height": null,
            "justify_content": null,
            "justify_items": null,
            "left": null,
            "margin": null,
            "max_height": null,
            "max_width": null,
            "min_height": null,
            "min_width": null,
            "object_fit": null,
            "object_position": null,
            "order": null,
            "overflow": null,
            "overflow_x": null,
            "overflow_y": null,
            "padding": null,
            "right": null,
            "top": null,
            "visibility": null,
            "width": null
          }
        },
        "ecc1bebce5f44833975fab45e6b0e1a0": {
          "model_module": "@jupyter-widgets/base",
          "model_module_version": "1.2.0",
          "model_name": "LayoutModel",
          "state": {
            "_model_module": "@jupyter-widgets/base",
            "_model_module_version": "1.2.0",
            "_model_name": "LayoutModel",
            "_view_count": null,
            "_view_module": "@jupyter-widgets/base",
            "_view_module_version": "1.2.0",
            "_view_name": "LayoutView",
            "align_content": null,
            "align_items": null,
            "align_self": null,
            "border": null,
            "bottom": null,
            "display": null,
            "flex": null,
            "flex_flow": null,
            "grid_area": null,
            "grid_auto_columns": null,
            "grid_auto_flow": null,
            "grid_auto_rows": null,
            "grid_column": null,
            "grid_gap": null,
            "grid_row": null,
            "grid_template_areas": null,
            "grid_template_columns": null,
            "grid_template_rows": null,
            "height": null,
            "justify_content": null,
            "justify_items": null,
            "left": null,
            "margin": null,
            "max_height": null,
            "max_width": null,
            "min_height": null,
            "min_width": null,
            "object_fit": null,
            "object_position": null,
            "order": null,
            "overflow": null,
            "overflow_x": null,
            "overflow_y": null,
            "padding": null,
            "right": null,
            "top": null,
            "visibility": null,
            "width": null
          }
        },
        "f312426da7954951abe5d348c323d797": {
          "model_module": "@jupyter-widgets/base",
          "model_module_version": "1.2.0",
          "model_name": "LayoutModel",
          "state": {
            "_model_module": "@jupyter-widgets/base",
            "_model_module_version": "1.2.0",
            "_model_name": "LayoutModel",
            "_view_count": null,
            "_view_module": "@jupyter-widgets/base",
            "_view_module_version": "1.2.0",
            "_view_name": "LayoutView",
            "align_content": null,
            "align_items": null,
            "align_self": null,
            "border": null,
            "bottom": null,
            "display": null,
            "flex": null,
            "flex_flow": null,
            "grid_area": null,
            "grid_auto_columns": null,
            "grid_auto_flow": null,
            "grid_auto_rows": null,
            "grid_column": null,
            "grid_gap": null,
            "grid_row": null,
            "grid_template_areas": null,
            "grid_template_columns": null,
            "grid_template_rows": null,
            "height": null,
            "justify_content": null,
            "justify_items": null,
            "left": null,
            "margin": null,
            "max_height": null,
            "max_width": null,
            "min_height": null,
            "min_width": null,
            "object_fit": null,
            "object_position": null,
            "order": null,
            "overflow": null,
            "overflow_x": null,
            "overflow_y": null,
            "padding": null,
            "right": null,
            "top": null,
            "visibility": null,
            "width": null
          }
        },
        "f4c74624f8e64b7fa817670a351bf019": {
          "model_module": "@jupyter-widgets/controls",
          "model_module_version": "1.5.0",
          "model_name": "DescriptionStyleModel",
          "state": {
            "_model_module": "@jupyter-widgets/controls",
            "_model_module_version": "1.5.0",
            "_model_name": "DescriptionStyleModel",
            "_view_count": null,
            "_view_module": "@jupyter-widgets/base",
            "_view_module_version": "1.2.0",
            "_view_name": "StyleView",
            "description_width": ""
          }
        },
        "f769ce085e484c77a813947635332c47": {
          "model_module": "@jupyter-widgets/base",
          "model_module_version": "1.2.0",
          "model_name": "LayoutModel",
          "state": {
            "_model_module": "@jupyter-widgets/base",
            "_model_module_version": "1.2.0",
            "_model_name": "LayoutModel",
            "_view_count": null,
            "_view_module": "@jupyter-widgets/base",
            "_view_module_version": "1.2.0",
            "_view_name": "LayoutView",
            "align_content": null,
            "align_items": null,
            "align_self": null,
            "border": null,
            "bottom": null,
            "display": null,
            "flex": null,
            "flex_flow": null,
            "grid_area": null,
            "grid_auto_columns": null,
            "grid_auto_flow": null,
            "grid_auto_rows": null,
            "grid_column": null,
            "grid_gap": null,
            "grid_row": null,
            "grid_template_areas": null,
            "grid_template_columns": null,
            "grid_template_rows": null,
            "height": null,
            "justify_content": null,
            "justify_items": null,
            "left": null,
            "margin": null,
            "max_height": null,
            "max_width": null,
            "min_height": null,
            "min_width": null,
            "object_fit": null,
            "object_position": null,
            "order": null,
            "overflow": null,
            "overflow_x": null,
            "overflow_y": null,
            "padding": null,
            "right": null,
            "top": null,
            "visibility": null,
            "width": null
          }
        },
        "f861244c54df487bb27eeb7033eea4d8": {
          "model_module": "@jupyter-widgets/base",
          "model_module_version": "1.2.0",
          "model_name": "LayoutModel",
          "state": {
            "_model_module": "@jupyter-widgets/base",
            "_model_module_version": "1.2.0",
            "_model_name": "LayoutModel",
            "_view_count": null,
            "_view_module": "@jupyter-widgets/base",
            "_view_module_version": "1.2.0",
            "_view_name": "LayoutView",
            "align_content": null,
            "align_items": null,
            "align_self": null,
            "border": null,
            "bottom": null,
            "display": null,
            "flex": null,
            "flex_flow": null,
            "grid_area": null,
            "grid_auto_columns": null,
            "grid_auto_flow": null,
            "grid_auto_rows": null,
            "grid_column": null,
            "grid_gap": null,
            "grid_row": null,
            "grid_template_areas": null,
            "grid_template_columns": null,
            "grid_template_rows": null,
            "height": null,
            "justify_content": null,
            "justify_items": null,
            "left": null,
            "margin": null,
            "max_height": null,
            "max_width": null,
            "min_height": null,
            "min_width": null,
            "object_fit": null,
            "object_position": null,
            "order": null,
            "overflow": null,
            "overflow_x": null,
            "overflow_y": null,
            "padding": null,
            "right": null,
            "top": null,
            "visibility": null,
            "width": null
          }
        },
        "fad94e8e2ed84a56885459ffdae018fd": {
          "model_module": "@jupyter-widgets/base",
          "model_module_version": "1.2.0",
          "model_name": "LayoutModel",
          "state": {
            "_model_module": "@jupyter-widgets/base",
            "_model_module_version": "1.2.0",
            "_model_name": "LayoutModel",
            "_view_count": null,
            "_view_module": "@jupyter-widgets/base",
            "_view_module_version": "1.2.0",
            "_view_name": "LayoutView",
            "align_content": null,
            "align_items": null,
            "align_self": null,
            "border": null,
            "bottom": null,
            "display": null,
            "flex": null,
            "flex_flow": null,
            "grid_area": null,
            "grid_auto_columns": null,
            "grid_auto_flow": null,
            "grid_auto_rows": null,
            "grid_column": null,
            "grid_gap": null,
            "grid_row": null,
            "grid_template_areas": null,
            "grid_template_columns": null,
            "grid_template_rows": null,
            "height": null,
            "justify_content": null,
            "justify_items": null,
            "left": null,
            "margin": null,
            "max_height": null,
            "max_width": null,
            "min_height": null,
            "min_width": null,
            "object_fit": null,
            "object_position": null,
            "order": null,
            "overflow": null,
            "overflow_x": null,
            "overflow_y": null,
            "padding": null,
            "right": null,
            "top": null,
            "visibility": null,
            "width": null
          }
        },
        "fb32f48505704ae3b596dc364a59432f": {
          "model_module": "@jupyter-widgets/controls",
          "model_module_version": "1.5.0",
          "model_name": "DescriptionStyleModel",
          "state": {
            "_model_module": "@jupyter-widgets/controls",
            "_model_module_version": "1.5.0",
            "_model_name": "DescriptionStyleModel",
            "_view_count": null,
            "_view_module": "@jupyter-widgets/base",
            "_view_module_version": "1.2.0",
            "_view_name": "StyleView",
            "description_width": ""
          }
        },
        "fbb2e5b646834121804cf9f8cdd18fe5": {
          "model_module": "@jupyter-widgets/controls",
          "model_module_version": "1.5.0",
          "model_name": "VBoxModel",
          "state": {
            "_dom_classes": [],
            "_model_module": "@jupyter-widgets/controls",
            "_model_module_version": "1.5.0",
            "_model_name": "VBoxModel",
            "_view_count": null,
            "_view_module": "@jupyter-widgets/controls",
            "_view_module_version": "1.5.0",
            "_view_name": "VBoxView",
            "box_style": "",
            "children": [
              "IPY_MODEL_a3bc02c3b6304fc2ba8ca99a235b8bb3",
              "IPY_MODEL_d6e20300d7e248d7846fdd7bad54b434"
            ],
            "layout": "IPY_MODEL_a99f169f039c4450ae0115313a961b36"
          }
        },
        "fbf428516b284ef0aa0022913f528c23": {
          "model_module": "@jupyter-widgets/controls",
          "model_module_version": "1.5.0",
          "model_name": "LabelModel",
          "state": {
            "_dom_classes": [],
            "_model_module": "@jupyter-widgets/controls",
            "_model_module_version": "1.5.0",
            "_model_name": "LabelModel",
            "_view_count": null,
            "_view_module": "@jupyter-widgets/controls",
            "_view_module_version": "1.5.0",
            "_view_name": "LabelView",
            "description": "",
            "description_tooltip": null,
            "layout": "IPY_MODEL_b2f648641fa648b1b90628eb74ff30d8",
            "placeholder": "​",
            "style": "IPY_MODEL_f4c74624f8e64b7fa817670a351bf019",
            "value": "0.001 MB of 0.008 MB uploaded (0.000 MB deduped)\r"
          }
        },
        "fc82c748da7644e280619814050bc987": {
          "model_module": "@jupyter-widgets/base",
          "model_module_version": "1.2.0",
          "model_name": "LayoutModel",
          "state": {
            "_model_module": "@jupyter-widgets/base",
            "_model_module_version": "1.2.0",
            "_model_name": "LayoutModel",
            "_view_count": null,
            "_view_module": "@jupyter-widgets/base",
            "_view_module_version": "1.2.0",
            "_view_name": "LayoutView",
            "align_content": null,
            "align_items": null,
            "align_self": null,
            "border": null,
            "bottom": null,
            "display": null,
            "flex": null,
            "flex_flow": null,
            "grid_area": null,
            "grid_auto_columns": null,
            "grid_auto_flow": null,
            "grid_auto_rows": null,
            "grid_column": null,
            "grid_gap": null,
            "grid_row": null,
            "grid_template_areas": null,
            "grid_template_columns": null,
            "grid_template_rows": null,
            "height": null,
            "justify_content": null,
            "justify_items": null,
            "left": null,
            "margin": null,
            "max_height": null,
            "max_width": null,
            "min_height": null,
            "min_width": null,
            "object_fit": null,
            "object_position": null,
            "order": null,
            "overflow": null,
            "overflow_x": null,
            "overflow_y": null,
            "padding": null,
            "right": null,
            "top": null,
            "visibility": null,
            "width": null
          }
        },
        "fc84151b530d4ddd9f97b7f683021590": {
          "model_module": "@jupyter-widgets/controls",
          "model_module_version": "1.5.0",
          "model_name": "DescriptionStyleModel",
          "state": {
            "_model_module": "@jupyter-widgets/controls",
            "_model_module_version": "1.5.0",
            "_model_name": "DescriptionStyleModel",
            "_view_count": null,
            "_view_module": "@jupyter-widgets/base",
            "_view_module_version": "1.2.0",
            "_view_name": "StyleView",
            "description_width": ""
          }
        },
        "fd4128b667fd4401bb99cb2d2c70d76b": {
          "model_module": "@jupyter-widgets/controls",
          "model_module_version": "1.5.0",
          "model_name": "LabelModel",
          "state": {
            "_dom_classes": [],
            "_model_module": "@jupyter-widgets/controls",
            "_model_module_version": "1.5.0",
            "_model_name": "LabelModel",
            "_view_count": null,
            "_view_module": "@jupyter-widgets/controls",
            "_view_module_version": "1.5.0",
            "_view_name": "LabelView",
            "description": "",
            "description_tooltip": null,
            "layout": "IPY_MODEL_5736781f51ed4c8196ed860267af679c",
            "placeholder": "​",
            "style": "IPY_MODEL_132f746ff64a4d118e7d444a8771bcca",
            "value": "0.001 MB of 0.009 MB uploaded (0.000 MB deduped)\r"
          }
        },
        "a29e01fd7bd9468fb4d26fb2ab18b217": {
          "model_module": "@jupyter-widgets/controls",
          "model_name": "VBoxModel",
          "model_module_version": "1.5.0",
          "state": {
            "_dom_classes": [],
            "_model_module": "@jupyter-widgets/controls",
            "_model_module_version": "1.5.0",
            "_model_name": "VBoxModel",
            "_view_count": null,
            "_view_module": "@jupyter-widgets/controls",
            "_view_module_version": "1.5.0",
            "_view_name": "VBoxView",
            "box_style": "",
            "children": [
              "IPY_MODEL_06606af8074944cf9d28c667f4a63e6e",
              "IPY_MODEL_df67fd4da7f74f72b3b689a77b545564"
            ],
            "layout": "IPY_MODEL_ace9c8ee1c484f79bdc9367d13c661d2"
          }
        },
        "06606af8074944cf9d28c667f4a63e6e": {
          "model_module": "@jupyter-widgets/controls",
          "model_name": "LabelModel",
          "model_module_version": "1.5.0",
          "state": {
            "_dom_classes": [],
            "_model_module": "@jupyter-widgets/controls",
            "_model_module_version": "1.5.0",
            "_model_name": "LabelModel",
            "_view_count": null,
            "_view_module": "@jupyter-widgets/controls",
            "_view_module_version": "1.5.0",
            "_view_name": "LabelView",
            "description": "",
            "description_tooltip": null,
            "layout": "IPY_MODEL_641d8ab8e58c4a2080ff0328e62ce757",
            "placeholder": "​",
            "style": "IPY_MODEL_0748d207a51949648e37852e3dd884a7",
            "value": "0.001 MB of 0.009 MB uploaded (0.000 MB deduped)\r"
          }
        },
        "df67fd4da7f74f72b3b689a77b545564": {
          "model_module": "@jupyter-widgets/controls",
          "model_name": "FloatProgressModel",
          "model_module_version": "1.5.0",
          "state": {
            "_dom_classes": [],
            "_model_module": "@jupyter-widgets/controls",
            "_model_module_version": "1.5.0",
            "_model_name": "FloatProgressModel",
            "_view_count": null,
            "_view_module": "@jupyter-widgets/controls",
            "_view_module_version": "1.5.0",
            "_view_name": "ProgressView",
            "bar_style": "",
            "description": "",
            "description_tooltip": null,
            "layout": "IPY_MODEL_4e74502e80714206bdba530f5d236b30",
            "max": 1,
            "min": 0,
            "orientation": "horizontal",
            "style": "IPY_MODEL_e2b51733809c42b58b29a72c44433626",
            "value": 0.1065324525532138
          }
        },
        "ace9c8ee1c484f79bdc9367d13c661d2": {
          "model_module": "@jupyter-widgets/base",
          "model_name": "LayoutModel",
          "model_module_version": "1.2.0",
          "state": {
            "_model_module": "@jupyter-widgets/base",
            "_model_module_version": "1.2.0",
            "_model_name": "LayoutModel",
            "_view_count": null,
            "_view_module": "@jupyter-widgets/base",
            "_view_module_version": "1.2.0",
            "_view_name": "LayoutView",
            "align_content": null,
            "align_items": null,
            "align_self": null,
            "border": null,
            "bottom": null,
            "display": null,
            "flex": null,
            "flex_flow": null,
            "grid_area": null,
            "grid_auto_columns": null,
            "grid_auto_flow": null,
            "grid_auto_rows": null,
            "grid_column": null,
            "grid_gap": null,
            "grid_row": null,
            "grid_template_areas": null,
            "grid_template_columns": null,
            "grid_template_rows": null,
            "height": null,
            "justify_content": null,
            "justify_items": null,
            "left": null,
            "margin": null,
            "max_height": null,
            "max_width": null,
            "min_height": null,
            "min_width": null,
            "object_fit": null,
            "object_position": null,
            "order": null,
            "overflow": null,
            "overflow_x": null,
            "overflow_y": null,
            "padding": null,
            "right": null,
            "top": null,
            "visibility": null,
            "width": null
          }
        },
        "641d8ab8e58c4a2080ff0328e62ce757": {
          "model_module": "@jupyter-widgets/base",
          "model_name": "LayoutModel",
          "model_module_version": "1.2.0",
          "state": {
            "_model_module": "@jupyter-widgets/base",
            "_model_module_version": "1.2.0",
            "_model_name": "LayoutModel",
            "_view_count": null,
            "_view_module": "@jupyter-widgets/base",
            "_view_module_version": "1.2.0",
            "_view_name": "LayoutView",
            "align_content": null,
            "align_items": null,
            "align_self": null,
            "border": null,
            "bottom": null,
            "display": null,
            "flex": null,
            "flex_flow": null,
            "grid_area": null,
            "grid_auto_columns": null,
            "grid_auto_flow": null,
            "grid_auto_rows": null,
            "grid_column": null,
            "grid_gap": null,
            "grid_row": null,
            "grid_template_areas": null,
            "grid_template_columns": null,
            "grid_template_rows": null,
            "height": null,
            "justify_content": null,
            "justify_items": null,
            "left": null,
            "margin": null,
            "max_height": null,
            "max_width": null,
            "min_height": null,
            "min_width": null,
            "object_fit": null,
            "object_position": null,
            "order": null,
            "overflow": null,
            "overflow_x": null,
            "overflow_y": null,
            "padding": null,
            "right": null,
            "top": null,
            "visibility": null,
            "width": null
          }
        },
        "0748d207a51949648e37852e3dd884a7": {
          "model_module": "@jupyter-widgets/controls",
          "model_name": "DescriptionStyleModel",
          "model_module_version": "1.5.0",
          "state": {
            "_model_module": "@jupyter-widgets/controls",
            "_model_module_version": "1.5.0",
            "_model_name": "DescriptionStyleModel",
            "_view_count": null,
            "_view_module": "@jupyter-widgets/base",
            "_view_module_version": "1.2.0",
            "_view_name": "StyleView",
            "description_width": ""
          }
        },
        "4e74502e80714206bdba530f5d236b30": {
          "model_module": "@jupyter-widgets/base",
          "model_name": "LayoutModel",
          "model_module_version": "1.2.0",
          "state": {
            "_model_module": "@jupyter-widgets/base",
            "_model_module_version": "1.2.0",
            "_model_name": "LayoutModel",
            "_view_count": null,
            "_view_module": "@jupyter-widgets/base",
            "_view_module_version": "1.2.0",
            "_view_name": "LayoutView",
            "align_content": null,
            "align_items": null,
            "align_self": null,
            "border": null,
            "bottom": null,
            "display": null,
            "flex": null,
            "flex_flow": null,
            "grid_area": null,
            "grid_auto_columns": null,
            "grid_auto_flow": null,
            "grid_auto_rows": null,
            "grid_column": null,
            "grid_gap": null,
            "grid_row": null,
            "grid_template_areas": null,
            "grid_template_columns": null,
            "grid_template_rows": null,
            "height": null,
            "justify_content": null,
            "justify_items": null,
            "left": null,
            "margin": null,
            "max_height": null,
            "max_width": null,
            "min_height": null,
            "min_width": null,
            "object_fit": null,
            "object_position": null,
            "order": null,
            "overflow": null,
            "overflow_x": null,
            "overflow_y": null,
            "padding": null,
            "right": null,
            "top": null,
            "visibility": null,
            "width": null
          }
        },
        "e2b51733809c42b58b29a72c44433626": {
          "model_module": "@jupyter-widgets/controls",
          "model_name": "ProgressStyleModel",
          "model_module_version": "1.5.0",
          "state": {
            "_model_module": "@jupyter-widgets/controls",
            "_model_module_version": "1.5.0",
            "_model_name": "ProgressStyleModel",
            "_view_count": null,
            "_view_module": "@jupyter-widgets/base",
            "_view_module_version": "1.2.0",
            "_view_name": "StyleView",
            "bar_color": null,
            "description_width": ""
          }
        },
        "d08492cddf2d46fe94fd6d5019308a81": {
          "model_module": "@jupyter-widgets/controls",
          "model_name": "VBoxModel",
          "model_module_version": "1.5.0",
          "state": {
            "_dom_classes": [],
            "_model_module": "@jupyter-widgets/controls",
            "_model_module_version": "1.5.0",
            "_model_name": "VBoxModel",
            "_view_count": null,
            "_view_module": "@jupyter-widgets/controls",
            "_view_module_version": "1.5.0",
            "_view_name": "VBoxView",
            "box_style": "",
            "children": [
              "IPY_MODEL_b30fc23e2b314629a3d751c1ba38e695",
              "IPY_MODEL_9cc281cef28d465fbd7c9fea348d18bf"
            ],
            "layout": "IPY_MODEL_0baffd4974d04ca0b55f13cd9de3b31f"
          }
        },
        "b30fc23e2b314629a3d751c1ba38e695": {
          "model_module": "@jupyter-widgets/controls",
          "model_name": "LabelModel",
          "model_module_version": "1.5.0",
          "state": {
            "_dom_classes": [],
            "_model_module": "@jupyter-widgets/controls",
            "_model_module_version": "1.5.0",
            "_model_name": "LabelModel",
            "_view_count": null,
            "_view_module": "@jupyter-widgets/controls",
            "_view_module_version": "1.5.0",
            "_view_name": "LabelView",
            "description": "",
            "description_tooltip": null,
            "layout": "IPY_MODEL_9d7be9957d004c6b8a8a5dc09b2c53b5",
            "placeholder": "​",
            "style": "IPY_MODEL_003d214317a4422d8a716b7cebad22f1",
            "value": "0.001 MB of 0.009 MB uploaded (0.000 MB deduped)\r"
          }
        },
        "9cc281cef28d465fbd7c9fea348d18bf": {
          "model_module": "@jupyter-widgets/controls",
          "model_name": "FloatProgressModel",
          "model_module_version": "1.5.0",
          "state": {
            "_dom_classes": [],
            "_model_module": "@jupyter-widgets/controls",
            "_model_module_version": "1.5.0",
            "_model_name": "FloatProgressModel",
            "_view_count": null,
            "_view_module": "@jupyter-widgets/controls",
            "_view_module_version": "1.5.0",
            "_view_name": "ProgressView",
            "bar_style": "",
            "description": "",
            "description_tooltip": null,
            "layout": "IPY_MODEL_e8d0102175fe410e9402de0c79175f68",
            "max": 1,
            "min": 0,
            "orientation": "horizontal",
            "style": "IPY_MODEL_34c2525082ed491da16f141a38e80560",
            "value": 0.10601001669449082
          }
        },
        "0baffd4974d04ca0b55f13cd9de3b31f": {
          "model_module": "@jupyter-widgets/base",
          "model_name": "LayoutModel",
          "model_module_version": "1.2.0",
          "state": {
            "_model_module": "@jupyter-widgets/base",
            "_model_module_version": "1.2.0",
            "_model_name": "LayoutModel",
            "_view_count": null,
            "_view_module": "@jupyter-widgets/base",
            "_view_module_version": "1.2.0",
            "_view_name": "LayoutView",
            "align_content": null,
            "align_items": null,
            "align_self": null,
            "border": null,
            "bottom": null,
            "display": null,
            "flex": null,
            "flex_flow": null,
            "grid_area": null,
            "grid_auto_columns": null,
            "grid_auto_flow": null,
            "grid_auto_rows": null,
            "grid_column": null,
            "grid_gap": null,
            "grid_row": null,
            "grid_template_areas": null,
            "grid_template_columns": null,
            "grid_template_rows": null,
            "height": null,
            "justify_content": null,
            "justify_items": null,
            "left": null,
            "margin": null,
            "max_height": null,
            "max_width": null,
            "min_height": null,
            "min_width": null,
            "object_fit": null,
            "object_position": null,
            "order": null,
            "overflow": null,
            "overflow_x": null,
            "overflow_y": null,
            "padding": null,
            "right": null,
            "top": null,
            "visibility": null,
            "width": null
          }
        },
        "9d7be9957d004c6b8a8a5dc09b2c53b5": {
          "model_module": "@jupyter-widgets/base",
          "model_name": "LayoutModel",
          "model_module_version": "1.2.0",
          "state": {
            "_model_module": "@jupyter-widgets/base",
            "_model_module_version": "1.2.0",
            "_model_name": "LayoutModel",
            "_view_count": null,
            "_view_module": "@jupyter-widgets/base",
            "_view_module_version": "1.2.0",
            "_view_name": "LayoutView",
            "align_content": null,
            "align_items": null,
            "align_self": null,
            "border": null,
            "bottom": null,
            "display": null,
            "flex": null,
            "flex_flow": null,
            "grid_area": null,
            "grid_auto_columns": null,
            "grid_auto_flow": null,
            "grid_auto_rows": null,
            "grid_column": null,
            "grid_gap": null,
            "grid_row": null,
            "grid_template_areas": null,
            "grid_template_columns": null,
            "grid_template_rows": null,
            "height": null,
            "justify_content": null,
            "justify_items": null,
            "left": null,
            "margin": null,
            "max_height": null,
            "max_width": null,
            "min_height": null,
            "min_width": null,
            "object_fit": null,
            "object_position": null,
            "order": null,
            "overflow": null,
            "overflow_x": null,
            "overflow_y": null,
            "padding": null,
            "right": null,
            "top": null,
            "visibility": null,
            "width": null
          }
        },
        "003d214317a4422d8a716b7cebad22f1": {
          "model_module": "@jupyter-widgets/controls",
          "model_name": "DescriptionStyleModel",
          "model_module_version": "1.5.0",
          "state": {
            "_model_module": "@jupyter-widgets/controls",
            "_model_module_version": "1.5.0",
            "_model_name": "DescriptionStyleModel",
            "_view_count": null,
            "_view_module": "@jupyter-widgets/base",
            "_view_module_version": "1.2.0",
            "_view_name": "StyleView",
            "description_width": ""
          }
        },
        "e8d0102175fe410e9402de0c79175f68": {
          "model_module": "@jupyter-widgets/base",
          "model_name": "LayoutModel",
          "model_module_version": "1.2.0",
          "state": {
            "_model_module": "@jupyter-widgets/base",
            "_model_module_version": "1.2.0",
            "_model_name": "LayoutModel",
            "_view_count": null,
            "_view_module": "@jupyter-widgets/base",
            "_view_module_version": "1.2.0",
            "_view_name": "LayoutView",
            "align_content": null,
            "align_items": null,
            "align_self": null,
            "border": null,
            "bottom": null,
            "display": null,
            "flex": null,
            "flex_flow": null,
            "grid_area": null,
            "grid_auto_columns": null,
            "grid_auto_flow": null,
            "grid_auto_rows": null,
            "grid_column": null,
            "grid_gap": null,
            "grid_row": null,
            "grid_template_areas": null,
            "grid_template_columns": null,
            "grid_template_rows": null,
            "height": null,
            "justify_content": null,
            "justify_items": null,
            "left": null,
            "margin": null,
            "max_height": null,
            "max_width": null,
            "min_height": null,
            "min_width": null,
            "object_fit": null,
            "object_position": null,
            "order": null,
            "overflow": null,
            "overflow_x": null,
            "overflow_y": null,
            "padding": null,
            "right": null,
            "top": null,
            "visibility": null,
            "width": null
          }
        },
        "34c2525082ed491da16f141a38e80560": {
          "model_module": "@jupyter-widgets/controls",
          "model_name": "ProgressStyleModel",
          "model_module_version": "1.5.0",
          "state": {
            "_model_module": "@jupyter-widgets/controls",
            "_model_module_version": "1.5.0",
            "_model_name": "ProgressStyleModel",
            "_view_count": null,
            "_view_module": "@jupyter-widgets/base",
            "_view_module_version": "1.2.0",
            "_view_name": "StyleView",
            "bar_color": null,
            "description_width": ""
          }
        }
      }
    }
  },
  "nbformat": 4,
  "nbformat_minor": 0
}