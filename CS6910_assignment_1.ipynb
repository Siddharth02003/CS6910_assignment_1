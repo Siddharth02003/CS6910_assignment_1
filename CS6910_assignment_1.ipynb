{
  "nbformat": 4,
  "nbformat_minor": 0,
  "metadata": {
    "colab": {
      "provenance": [],
      "authorship_tag": "ABX9TyO9TaR6j7mi/8AJQBKXJWVy",
      "include_colab_link": true
    },
    "kernelspec": {
      "name": "python3",
      "display_name": "Python 3"
    },
    "language_info": {
      "name": "python"
    }
  },
  "cells": [
    {
      "cell_type": "markdown",
      "metadata": {
        "id": "view-in-github",
        "colab_type": "text"
      },
      "source": [
        "<a href=\"https://colab.research.google.com/github/Siddharth02003/CS6910_assignments/blob/main/CS6910_assignment_1.ipynb\" target=\"_parent\"><img src=\"https://colab.research.google.com/assets/colab-badge.svg\" alt=\"Open In Colab\"/></a>"
      ]
    },
    {
      "cell_type": "code",
      "execution_count": null,
      "metadata": {
        "id": "am22A5hWwqIl"
      },
      "outputs": [],
      "source": [
        "from keras.datasets import fashion_mnist\n",
        "import numpy as np\n",
        "import matplotlib.pyplot as plt\n",
        "import copy \n",
        "import random\n",
        "import tensorflow as tf"
      ]
    },
    {
      "cell_type": "code",
      "source": [
        "!pip install wandb -qqq\n",
        "import wandb"
      ],
      "metadata": {
        "id": "-0uslSo6wvaS"
      },
      "execution_count": null,
      "outputs": []
    },
    {
      "cell_type": "code",
      "source": [
        "def load_dataset():\n",
        "    (X_train, Y_train), (X_test, Y_test) = fashion_mnist.load_data()\n",
        "    return {\n",
        "            'X_train': X_train,\n",
        "            'Y_train': Y_train,\n",
        "            'X_test': X_test,\n",
        "            'Y_test': Y_test\n",
        "        }"
      ],
      "metadata": {
        "id": "XHQSqKz-wxOF"
      },
      "execution_count": null,
      "outputs": []
    },
    {
      "cell_type": "code",
      "source": [
        "class_labels={0:'T-shirt',1:'Trouser',2:'Pullover',3:'Dress',4:'Coat',5:'Sandal',6:'Shirt',7:'Sneaker',8:'Bag',9:'Ankle_Boot'}\n",
        "\n",
        "def label_to_name(label):\n",
        "  if enumerate(label):\n",
        "    l_names=[]\n",
        "    for l in label:\n",
        "      l_names.append(class_labels[l])\n",
        "    return l_names\n",
        "  else:\n",
        "    return class_labels[label]"
      ],
      "metadata": {
        "id": "EJmmLHUiwzR2"
      },
      "execution_count": null,
      "outputs": []
    },
    {
      "cell_type": "code",
      "source": [
        "!wandb login --relogin\n",
        "entity_name=\"siddharth-s\"\n",
        "\n",
        "project_name=\"FODL_Assignment_1\""
      ],
      "metadata": {
        "id": "2JOXMolAx20p"
      },
      "execution_count": null,
      "outputs": []
    },
    {
      "cell_type": "code",
      "source": [
        "def log_images():\n",
        "  images=[]\n",
        "  labels=[]\n",
        "  dataset=load_dataset()\n",
        "  X_train=dataset['X_train']\n",
        "  y_train=dataset['Y_train']\n",
        "  wandb.init(entity=entity_name,project=project_name, name=\"log_images\")\n",
        "  for i in range(100):\n",
        "    if len(labels)==10:\n",
        "      break\n",
        "    if class_labels[y_train[i]] not in labels:\n",
        "      images.append(X_train[i])\n",
        "      labels.append(class_labels[y_train[i]])\n",
        "  wandb.log({\"Images\": [wandb.Image(img, caption=caption) for img, caption in zip(images,labels)]})"
      ],
      "metadata": {
        "id": "gQ_OCNeEw3h7"
      },
      "execution_count": null,
      "outputs": []
    },
    {
      "cell_type": "code",
      "source": [
        "class activation: \n",
        "  def __init__(self,a,x,activation):\n",
        "    self.a=a\n",
        "    self.x=x\n",
        "    self.activation=activation\n",
        "\n",
        "  def sigmoid(self,a):\n",
        "    try:\n",
        "      return (1.0/(1.0+np.exp(-a)))\n",
        "    except:\n",
        "      print(\"error\")\n",
        "\n",
        "  def relu(self,a):\n",
        "    return (np.maximum(0,a))\n",
        "\n",
        "  def tanh(self,a):\n",
        "    return np.tanh(a)\n",
        "\n",
        "  def softmax(self,x):\n",
        "    try:\n",
        "      return(np.exp(x)/np.sum(np.exp(x)))\n",
        "    except:\n",
        "      print(\"error\")\n",
        "\n",
        "  def sigmoid_derivative(self,x):\n",
        "    return self.sigmoid(x)*(1-self.sigmoid(x))\n",
        "\n",
        "  def tanh_derivative(self,x):\n",
        "    return 1.0 -self.tanh(x)**2\n",
        "\n",
        "  def relu_derivative(self,x):\n",
        "    return 1. * (x>0)\n",
        "     \n",
        "  def softmax_derivative(self,x):\n",
        "    return self.softmax(x) * (1-self.softmax(x))\n",
        "\n",
        "  def derivative(self,a):\n",
        "    if self.activation == \"sigmoid\":\n",
        "      return self.sigmoid_derivative(a)\n",
        "    elif self.activation == \"tanh\":\n",
        "      return self.tanh_derivative(a)\n",
        "    elif self.activation == \"relu\":\n",
        "      return self.relu_derivative(a)"
      ],
      "metadata": {
        "id": "SMeU4Vsicaoh"
      },
      "execution_count": null,
      "outputs": []
    },
    {
      "cell_type": "code",
      "source": [
        "class weights:\n",
        "  def __init__(self,layers):\n",
        "    self.layers=layers\n",
        "\n",
        "  def Xavier(self,layers):\n",
        "    params = {}\n",
        "    for i in range(1,len(layers)):\n",
        "       norm_xav=np.sqrt(6)/np.sqrt(layers[i]+layers[i-1])\n",
        "       params[\"w\"+str(i)]=np.random.randn(layers[i],layers[i-1])*norm_xav\n",
        "       params[\"b\"+str(i)]=np.zeros((layers[i],1))\n",
        "    return params\n",
        "\n",
        "  def Random(self,layers):\n",
        "    params = {}\n",
        "    for i in range(1,len(layers)):\n",
        "       params[\"w\"+str(i)]=0.01*np.random.randn(layers[i],layers[i-1])\n",
        "       params[\"b\"+str(i)]=0.01*np.random.randn(layers[i],1)\n",
        "    return params\n",
        "\n",
        "  def weight_init(self,layers, init_type = \"random\"):\n",
        "    params={}\n",
        "    if(init_type==\"xavier\"):\n",
        "      params = self.Xavier(layers)\n",
        "    elif(init_type==\"random\"):\n",
        "      params = self.Random(layers)\n",
        "    else:\n",
        "      print(\"invalid activation function\")\n",
        "    return params"
      ],
      "metadata": {
        "id": "55iTx2uL1Z_0"
      },
      "execution_count": null,
      "outputs": []
    },
    {
      "cell_type": "code",
      "source": [
        "class loss:\n",
        "  def __init__(self,y,y_hat):\n",
        "    self.y_hat=y_hat\n",
        "    self.y=y\n",
        "\n",
        "  def squared_loss(self,y,y_hat):\n",
        "   error = np.sum(((y - y_hat)**2) / (2 * len(y)))\n",
        "   return error\n",
        "\n",
        "  def CrossEntropy(self,y,y_hat):\n",
        "   error = - np.sum( np.multiply(y , np.log(y_hat)))/len(y)\n",
        "   return error\n",
        "\n",
        "  def loss_calc(self,loss_name, y, y_hat, lambd, layers, parameters):\n",
        "   error=0\n",
        "   if(loss_name == \"squared_loss\"):\n",
        "     error=self.squared_loss(y, y_hat)\n",
        "   elif(loss_name == \"cross_entropy\"):\n",
        "     error= self.CrossEntropy(y, y_hat)\n",
        "   regularized_error = 0.0\n",
        "   for i in range(len(layers)-1, 0, -1):\n",
        "     regularized_error += (np.sum(parameters[\"w\"+str(i)]))**2\n",
        "   regularized_error = error + ((lambd/(2*len(y)))*(regularized_error))\n",
        "   return regularized_error\n",
        "\n",
        "   def calc_accuracy(self,y_hat, y):\n",
        "    acc=0.0   \n",
        "    for x in range(len(y_hat)):\n",
        "      if(y_hat[x].argmax()==y[x].argmax()):\n",
        "        acc+=1\n",
        "    acc=acc/len(y)\n",
        "    return(acc*100)\n",
        "\n",
        "    def calc_test_accuracy(self,y_hat, y):\n",
        "     acc=0.0\n",
        "     for i in range(len(y_hat)):\n",
        "      if(y_hat[i]==y[i]):\n",
        "        acc+=1\n",
        "     acc=acc/len(y)\n",
        "     return(acc*100)"
      ],
      "metadata": {
        "id": "jfpXf6vc3QfO"
      },
      "execution_count": null,
      "outputs": []
    }
  ]
}