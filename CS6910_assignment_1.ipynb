{
  "cells": [
    {
      "cell_type": "markdown",
      "metadata": {
        "id": "view-in-github",
        "colab_type": "text"
      },
      "source": [
        "<a href=\"https://colab.research.google.com/github/Siddharth02003/CS6910_assignments/blob/main/CS6910_assignment_1.ipynb\" target=\"_parent\"><img src=\"https://colab.research.google.com/assets/colab-badge.svg\" alt=\"Open In Colab\"/></a>"
      ]
    },
    {
      "cell_type": "code",
      "execution_count": 1,
      "metadata": {
        "id": "am22A5hWwqIl"
      },
      "outputs": [],
      "source": [
        "from keras.datasets import fashion_mnist\n",
        "import numpy as np\n",
        "import matplotlib.pyplot as plt\n",
        "import copy \n",
        "import random\n",
        "import tensorflow as tf\n",
        "from tqdm import tqdm\n"
      ]
    },
    {
      "cell_type": "code",
      "execution_count": 2,
      "metadata": {
        "colab": {
          "base_uri": "https://localhost:8080/"
        },
        "id": "-0uslSo6wvaS",
        "outputId": "642a2342-fcf0-4712-9912-7f613ccb0b88"
      },
      "outputs": [
        {
          "output_type": "stream",
          "name": "stdout",
          "text": [
            "\u001b[2K     \u001b[90m━━━━━━━━━━━━━━━━━━━━━━━━━━━━━━━━━━━━━━━━\u001b[0m \u001b[32m2.0/2.0 MB\u001b[0m \u001b[31m20.6 MB/s\u001b[0m eta \u001b[36m0:00:00\u001b[0m\n",
            "\u001b[2K     \u001b[90m━━━━━━━━━━━━━━━━━━━━━━━━━━━━━━━━━━━━━━\u001b[0m \u001b[32m189.1/189.1 KB\u001b[0m \u001b[31m13.3 MB/s\u001b[0m eta \u001b[36m0:00:00\u001b[0m\n",
            "\u001b[?25h  Preparing metadata (setup.py) ... \u001b[?25l\u001b[?25hdone\n",
            "\u001b[2K     \u001b[90m━━━━━━━━━━━━━━━━━━━━━━━━━━━━━━━━━━━━━━━\u001b[0m \u001b[32m184.3/184.3 KB\u001b[0m \u001b[31m9.5 MB/s\u001b[0m eta \u001b[36m0:00:00\u001b[0m\n",
            "\u001b[2K     \u001b[90m━━━━━━━━━━━━━━━━━━━━━━━━━━━━━━━━━━━━━━━━\u001b[0m \u001b[32m62.7/62.7 KB\u001b[0m \u001b[31m4.0 MB/s\u001b[0m eta \u001b[36m0:00:00\u001b[0m\n",
            "\u001b[?25h  Building wheel for pathtools (setup.py) ... \u001b[?25l\u001b[?25hdone\n"
          ]
        }
      ],
      "source": [
        "!pip install wandb -qqq\n",
        "import wandb"
      ]
    },
    {
      "cell_type": "code",
      "execution_count": 3,
      "metadata": {
        "id": "XHQSqKz-wxOF"
      },
      "outputs": [],
      "source": [
        "def load_dataset():\n",
        "    (X_train, Y_train), (X_test, Y_test) = fashion_mnist.load_data()\n",
        "    return {\n",
        "            'X_train': X_train,\n",
        "            'Y_train': Y_train,\n",
        "            'X_test': X_test,\n",
        "            'Y_test': Y_test\n",
        "        }"
      ]
    },
    {
      "cell_type": "code",
      "execution_count": 4,
      "metadata": {
        "id": "EJmmLHUiwzR2"
      },
      "outputs": [],
      "source": [
        "class_labels={0:'T-shirt',1:'Trouser',2:'Pullover',3:'Dress',4:'Coat',5:'Sandal',6:'Shirt',7:'Sneaker',8:'Bag',9:'Ankle_Boot'}\n",
        "\n",
        "def label_to_name(label):\n",
        "  if enumerate(label):\n",
        "    l_names=[]\n",
        "    for l in label:\n",
        "      l_names.append(class_labels[l])\n",
        "    return l_names\n",
        "  else:\n",
        "    return class_labels[label]"
      ]
    },
    {
      "cell_type": "code",
      "execution_count": 5,
      "metadata": {
        "colab": {
          "base_uri": "https://localhost:8080/"
        },
        "id": "2JOXMolAx20p",
        "outputId": "441e2d93-a256-4dae-914b-0ae6b6e7d76a"
      },
      "outputs": [
        {
          "output_type": "stream",
          "name": "stdout",
          "text": [
            "\u001b[34m\u001b[1mwandb\u001b[0m: Logging into wandb.ai. (Learn how to deploy a W&B server locally: https://wandb.me/wandb-server)\n",
            "\u001b[34m\u001b[1mwandb\u001b[0m: You can find your API key in your browser here: https://wandb.ai/authorize\n",
            "\u001b[34m\u001b[1mwandb\u001b[0m: Paste an API key from your profile and hit enter, or press ctrl+c to quit: \n",
            "\u001b[34m\u001b[1mwandb\u001b[0m: Appending key for api.wandb.ai to your netrc file: /root/.netrc\n"
          ]
        }
      ],
      "source": [
        "!wandb login --relogin\n",
        "entity_name=\"siddharth-s\"\n",
        "\n",
        "project_name=\"FODL_Assignment_1\""
      ]
    },
    {
      "cell_type": "code",
      "execution_count": 6,
      "metadata": {
        "id": "gQ_OCNeEw3h7"
      },
      "outputs": [],
      "source": [
        "def log_images():\n",
        "  images=[]\n",
        "  labels=[]\n",
        "  dataset=load_dataset()\n",
        "  X_train=dataset['X_train']\n",
        "  y_train=dataset['Y_train']\n",
        "  wandb.init(entity=entity_name,project=project_name, name=\"log_images\")\n",
        "  for i in range(100):\n",
        "    if len(labels)==10:\n",
        "      break\n",
        "    if class_labels[y_train[i]] not in labels:\n",
        "      images.append(X_train[i])\n",
        "      labels.append(class_labels[y_train[i]])\n",
        "  wandb.log({\"Images\": [wandb.Image(img, caption=caption) for img, caption in zip(images,labels)]})"
      ]
    },
    {
      "cell_type": "code",
      "execution_count": 7,
      "metadata": {
        "id": "SMeU4Vsicaoh"
      },
      "outputs": [],
      "source": [
        "class activation(): \n",
        "  def __init__(self,a):\n",
        "    self.a=a\n",
        "\n",
        "  def sigmoid(self,a):\n",
        "    try:\n",
        "      return (1.0/(1.0+np.exp(-a)))\n",
        "    except:\n",
        "      print(\"error\")\n",
        "\n",
        "  def relu(self,a):\n",
        "    return (np.maximum(0,a))\n",
        "\n",
        "  def tanh(self,a):\n",
        "    return np.tanh(a)\n",
        "\n",
        "  def softmax(self,a):\n",
        "    try:\n",
        "      return(np.exp(a)/np.sum(np.exp(a)))\n",
        "    except:\n",
        "      print(\"error\")\n",
        "\n",
        "  def sigmoid_derivative(self,x):\n",
        "    return self.sigmoid(x)*(1-self.sigmoid(x))\n",
        "\n",
        "  def tanh_derivative(self,x):\n",
        "    return 1.0 -self.tanh(x)**2\n",
        "\n",
        "  def relu_derivative(self,x):\n",
        "    return 1. * (x>0)\n",
        "     \n",
        "  def softmax_derivative(self,x):\n",
        "    return self.softmax(x) * (1-self.softmax(x))\n",
        "\n",
        "  def derivative(self,x,activation):\n",
        "    if activation == \"sigmoid\":\n",
        "      return self.sigmoid_derivative(x)\n",
        "    elif activation == \"tanh\":\n",
        "      return self.tanh_derivative(x)\n",
        "    elif activation == \"relu\":\n",
        "      return self.relu_derivative(x)"
      ]
    },
    {
      "cell_type": "code",
      "execution_count": 8,
      "metadata": {
        "id": "55iTx2uL1Z_0"
      },
      "outputs": [],
      "source": [
        "class weights():\n",
        "  def __init__(self,layers):\n",
        "    self.layers=layers\n",
        "\n",
        "  def Xavier(self,layers):\n",
        "    params = {}\n",
        "    for i in range(1,len(layers)):\n",
        "       norm_xav=np.sqrt(6)/np.sqrt(layers[i]+layers[i-1])\n",
        "       params[\"w\"+str(i)]=np.random.randn(layers[i],layers[i-1])*norm_xav\n",
        "       params[\"b\"+str(i)]=np.zeros((layers[i],1))\n",
        "    return params\n",
        "\n",
        "  def Random(self,layers):\n",
        "    params = {}\n",
        "    for i in range(1,len(layers)):\n",
        "       params[\"w\"+str(i)]=0.01*np.random.randn(layers[i],layers[i-1])\n",
        "       params[\"b\"+str(i)]=0.01*np.random.randn(layers[i],1)\n",
        "    return params\n",
        "\n",
        "  def weight_init(self,init_type = \"random\"):\n",
        "    params={}\n",
        "    if(init_type==\"xavier\"):\n",
        "      params = self.Xavier(self.layers)\n",
        "    elif(init_type==\"random\"):\n",
        "      params = self.Random(self.layers)\n",
        "    else:\n",
        "      print(\"invalid activation function\")\n",
        "    return params"
      ]
    },
    {
      "cell_type": "code",
      "execution_count": 9,
      "metadata": {
        "id": "gP-wp4N2ajjW"
      },
      "outputs": [],
      "source": [
        "def squared_loss(y, y_hat):\n",
        "  error = np.sum(((y - y_hat)**2) / (2 * len(y)))\n",
        "  return error\n",
        "\n",
        "def CrossEntropy(y, y_hat):\n",
        "  error = - np.sum( np.multiply(y , np.log(y_hat)))/len(y)\n",
        "  return error\n",
        "\n",
        "def loss_calc(loss_name, y, y_hat, lambd, layers, parameters):\n",
        "  loss=0\n",
        "  if(loss_name == \"squared_loss\"):\n",
        "    loss=squared_loss(y, y_hat)\n",
        "  elif(loss_name == \"cross_entropy\"):\n",
        "    loss= CrossEntropy(y, y_hat)\n",
        "\n",
        "  reg_loss = 0.0\n",
        "  for i in range(len(layers)-1, 0, -1):\n",
        "    reg_loss = reg_loss + (np.sum(parameters[\"w\"+str(i)]))**2\n",
        "  reg_loss = loss + ((lambd/(2*len(y)))*(reg_loss))\n",
        "  return reg_loss"
      ]
    },
    {
      "cell_type": "code",
      "execution_count": 10,
      "metadata": {
        "id": "CqEVmsE7qx6S"
      },
      "outputs": [],
      "source": [
        "class network():\n",
        "  def __init__(self,X,y,params,active,layers,loss_type):\n",
        "    self.X=X\n",
        "    self.y=y\n",
        "    self.params=params\n",
        "    self.active=active\n",
        "    self.layers=layers\n",
        "    self.loss_type=loss_type\n",
        "\n",
        "  def forward_prop(self):\n",
        "   out=copy.deepcopy(self.X)\n",
        "   out=out.reshape(-1,1)\n",
        "   h=[out]\n",
        "   a=[out] \n",
        "\n",
        "   act=activation(a)\n",
        "\n",
        "   if(self.active==\"sigmoid\"):\n",
        "     for i in range(1,len(self.layers)-1):\n",
        "       weights = self.params[\"w\"+str(i)]\n",
        "       biases = self.params[\"b\"+str(i)]\n",
        "\n",
        "       out = np.dot(weights,h[i-1])+biases\n",
        "       a.append(out)\n",
        "       post_a = act.sigmoid(out)\n",
        "       h.append(post_a)\n",
        "  \n",
        "   elif(self.active==\"tanh\"):\n",
        "     for i in range(1,len(self.layers)-1):\n",
        "       weights=self.params[\"w\"+str(i)]\n",
        "       biases=self.params[\"b\"+str(i)]\n",
        "      \n",
        "       out=np.dot(weights,h[i-1])+biases\n",
        "       a.append(out)\n",
        "       post_a=act.tanh(out)\n",
        "       h.append(post_a)\n",
        "  \n",
        "   elif(self.active==\"relu\"):\n",
        "     for i in range(1,len(self.layers)-1):\n",
        "       weights=self.params[\"w\"+str(i)]\n",
        "       biases=self.params[\"b\"+str(i)]\n",
        "      \n",
        "       out=np.dot(weights,h[i-1])+biases\n",
        "       a.append(out)\n",
        "       post_a=act.relu(out)\n",
        "       h.append(post_a)       \n",
        "\n",
        "   else:\n",
        "     print(\"Invalid activation function\") \n",
        "   weights=self.params[\"w\"+str(len(self.layers)-1)]\n",
        "   biases=self.params[\"b\"+str(len(self.layers)-1)]\n",
        "  \n",
        "   out=np.dot(weights,h[len(self.layers)-2])+biases\n",
        "   a.append(out)\n",
        "   y_hat=act.softmax(out)\n",
        "   h.append(y_hat)\n",
        "   return h,a,y_hat\n",
        "\n",
        "  def backward_prop(self,y,y_hat,h,a,params,layers):\n",
        "    grad = {}\n",
        "    act=activation(self.active)\n",
        "    if self.loss_type == \"squared_loss\":\n",
        "      grad[\"dh\"+str(len(layers)-1)] = (y_hat - y)\n",
        "      grad[\"da\"+str(len(layers)-1)] = (y_hat - y) * act.softmax_derivative(a[len(layers)-1])\n",
        "\n",
        "    elif self.loss_type == 'cross_entropy':\n",
        "      grad[\"da\"+str(len(layers)-1)] = -(y-y_hat)\n",
        "      grad[\"dh\"+str(len(layers)-1)] = -(y/y_hat)\n",
        "\n",
        "    for i in range(len(layers)-1, 0, -1 ):\n",
        "      grad[\"dw\"+str(i)] = np.dot(grad[\"da\"+str(i)], np.transpose(h[i-1]))\n",
        "      grad[\"db\"+str(i)] = grad[\"da\"+str(i)]\n",
        "      if i > 1:\n",
        "        grad[\"dh\"+str(i-1)] = np.dot(np.transpose(params[\"w\"+str(i)]), grad[\"da\"+str(i)])\n",
        "        grad[\"da\"+str(i-1)] = np.multiply(grad[\"dh\" + str(i-1)], act.derivative(a[i-1],self.active))\n",
        "    return grad"
      ]
    },
    {
      "cell_type": "code",
      "execution_count": 11,
      "metadata": {
        "id": "xSFLTfMSwsGb"
      },
      "outputs": [],
      "source": [
        "def accuracy_calc(res,y_t):\n",
        "    acc=0.0   \n",
        "    for x in range(len(res)):\n",
        "      if(res[x].argmax()==y_t[x].argmax()):\n",
        "        acc+=1\n",
        "    acc=acc/len(y_t)\n",
        "    return(acc*100)"
      ]
    },
    {
      "cell_type": "code",
      "execution_count": 12,
      "metadata": {
        "id": "eEc2_5l8n0p2"
      },
      "outputs": [],
      "source": [
        "def run_inference(X,y,parameters,activation,layers):\n",
        "    result = []\n",
        "    for i in range(len(X)):\n",
        "      nn=network(X[i], y[i], parameters, activation, layers,\"squared_loss\")\n",
        "      h,a,y_hat = nn.forward_prop()\n",
        "      y_hat = y_hat.flatten()\n",
        "      result.append(y_hat)\n",
        "    return result"
      ]
    },
    {
      "cell_type": "code",
      "execution_count": 13,
      "metadata": {
        "id": "c1bmArXk0T5a"
      },
      "outputs": [],
      "source": [
        "def calculate_grad(X, Y, parameters, activation, layers, loss_function):\n",
        "  grads={}\n",
        "  grads.clear() \n",
        "  for j in range(len(X)):\n",
        "    y = np.reshape(Y[j], (-1,1))\n",
        "\n",
        "    nn=network(X[j], y, parameters, activation, layers, loss_function)\n",
        "    h,a,y_hat = nn.forward_prop()\n",
        "    new_grads = nn.backward_prop(y,y_hat,h,a,parameters,layers)\n",
        "\n",
        "    if j == 0:\n",
        "      grads = copy.deepcopy(new_grads)\n",
        "    else:\n",
        "      for k in range(len(layers)-1,0,-1):\n",
        "        grads[\"dw\"+str(k)] += new_grads[\"dw\"+str(k)]\n",
        "        grads[\"db\"+str(k)] += new_grads[\"db\"+str(k)]\n",
        "  return grads"
      ]
    },
    {
      "cell_type": "code",
      "execution_count": 14,
      "metadata": {
        "id": "LsynyUWa5Y8R"
      },
      "outputs": [],
      "source": [
        "def gradient_descent(X_train, y_train, eta, max_epochs, layers, mini_batch_size, lambd,loss_function, activation, parameters,optimiser,wandb_log=False):\n",
        "  grads={}\n",
        "  train_loss = []\n",
        "  val_loss = []\n",
        "  train_acc = []\n",
        "  val_acc = []\n",
        "\n",
        "  for t in tqdm(range(max_epochs)):\n",
        "    for i in range(0, len(X_train), mini_batch_size):\n",
        "\n",
        "      grads.clear()\n",
        "\n",
        "      if str(optimiser) == \"nesterovacc_gd\":\n",
        "        opt=optimiser(grads, eta, max_epochs,layers,mini_batch_size,lambd,parameters,i,t)\n",
        "        param_lookahead,update_history=opt.paramlookahead()\n",
        "\n",
        "      X = X_train[i:i + mini_batch_size]\n",
        "      Y = y_train[i:i + mini_batch_size]\n",
        "      \n",
        "      if str(optimiser) == \"nesterovacc_gd\":\n",
        "        grads = calculate_grad(X,Y,param_lookahead,activation,layers,loss_function)\n",
        "      else: \n",
        "        grads = calculate_grad(X,Y,parameters,activation,layers,loss_function)\n",
        "\n",
        "      opt=optimiser(grads, eta, max_epochs,layers,mini_batch_size,lambd,parameters,i,t)\n",
        "      parameters=opt.get_params()\n",
        "    \n",
        "    #Calculating train loss \n",
        "    res = run_inference(X_train,y_train,parameters, activation, layers)\n",
        "    train_err = loss_calc(loss_function,y_train,res,lambd,layers,parameters) \n",
        "    train_ac=accuracy_calc(res, y_train)\n",
        "    train_loss.append(train_err)\n",
        "    train_acc.append(train_ac)\n",
        "\n",
        "    #Calculating validation loss\n",
        "    res = run_inference(X_val, y_val, parameters, activation, layers)\n",
        "    val_err = loss_calc(loss_function, y_val, res, lambd, layers, parameters )\n",
        "    val_ac=accuracy_calc(res, y_val)\n",
        "    val_loss.append(val_err)\n",
        "    val_acc.append(val_ac)\n",
        "\n",
        "    if(wandb_log==True):\n",
        "      log_dict = {\"Train_Accuracy\": train_ac, \"Validation_Accuracy\": val_ac, \\\n",
        "                  \"Train_Loss\": train_err, \"Validation_loss\": val_err, \"epoch\": t}\n",
        "                  \n",
        "      wandb.log(log_dict)\n",
        "\n",
        "  return parameters, train_acc, val_acc"
      ]
    },
    {
      "cell_type": "code",
      "execution_count": 15,
      "metadata": {
        "id": "xUM1PAe8D0Yt"
      },
      "outputs": [],
      "source": [
        "class stochastic_gd():\n",
        "  def __init__(self,grads, eta, max_epochs,layers,mini_batch_size,lambd,parameters,i,t):\n",
        "    self.grads=grads\n",
        "    self.eta=eta\n",
        "    self.layers=layers\n",
        "    self.mini_batch_size=mini_batch_size\n",
        "    self.parameters=parameters\n",
        "    self.lambd=lambd\n",
        "    self.i=i\n",
        "    self.t=t\n",
        "\n",
        "  def get_params(self):\n",
        "    for j in range(len(self.layers)-1,0,-1):\n",
        "        self.parameters[\"w\"+str(j)] = (1-((self.eta*self.lambd)/self.mini_batch_size))*self.parameters[\"w\"+str(j)] - (self.eta * self.grads[\"dw\"+str(j)])\n",
        "        self.parameters[\"b\"+str(j)] = self.parameters[\"b\"+str(j)] - (self.eta * self.grads[\"db\"+str(j)])\n",
        "    return self.parameters"
      ]
    },
    {
      "cell_type": "code",
      "execution_count": 16,
      "metadata": {
        "id": "hwY-M90CHaQ9"
      },
      "outputs": [],
      "source": [
        "class momentum_gd():\n",
        "  def __init__(self,grads, eta, max_epochs,layers,mini_batch_size,lambd,parameters,i,t):\n",
        "    self.grads=grads\n",
        "    self.eta=eta\n",
        "    self.layers=layers\n",
        "    self.mini_batch_size=mini_batch_size\n",
        "    self.parameters=parameters\n",
        "    self.lambd=lambd\n",
        "    self.gamma=0.9\n",
        "    self.i=i\n",
        "    self.t=t\n",
        "\n",
        "  def get_update_history(self):\n",
        "    update_history={}\n",
        "    for j in range(len(self.layers)-1, 0, -1):\n",
        "          update_history[\"w\"+str(j)] = self.eta*self.grads[\"dw\"+str(j)]\n",
        "          update_history[\"b\"+str(j)] = self.eta*self.grads[\"db\"+str(j)]\n",
        "    for j in range(len(self.layers)-1, 0, -1):\n",
        "          update_history[\"w\"+str(j)] = (self.gamma*update_history[\"w\"+str(j)]) + (self.eta*self.grads[\"dw\"+str(j)])\n",
        "          update_history[\"b\"+str(j)] = (self.gamma*update_history[\"b\"+str(j)]) + (self.eta*self.grads[\"db\"+str(j)])\n",
        "    return update_history\n",
        "\n",
        "  def get_params(self):\n",
        "    update_history=self.get_update_history()\n",
        "    for j in range(len(self.layers)-1,0,-1):\n",
        "        self.parameters[\"w\"+str(j)] = (1-((self.eta*self.lambd)/self.mini_batch_size))*self.parameters[\"w\"+str(j)] - update_history[\"w\"+str(j)]\n",
        "        self.parameters[\"b\"+str(j)] = self.parameters[\"b\"+str(j)] - update_history[\"b\"+str(j)]\n",
        "    return self.parameters"
      ]
    },
    {
      "cell_type": "code",
      "execution_count": 17,
      "metadata": {
        "id": "0HSpU3xmFPP1"
      },
      "outputs": [],
      "source": [
        "class nesterovacc_gd():\n",
        "  def __init__(self,grads, eta, max_epochs,layers,mini_batch_size,lambd,parameters,i,t):\n",
        "    self.grads=grads\n",
        "    self.eta=eta\n",
        "    self.layers=layers\n",
        "    self.mini_batch_size=mini_batch_size\n",
        "    self.parameters=parameters\n",
        "    self.lambd=lambd\n",
        "    self.i=i\n",
        "    self.t=t\n",
        "\n",
        "  def paramlookahead(self):\n",
        "    update_history={}\n",
        "    if self.i==0:\n",
        "        param_lookahead = copy.deepcopy(self.parameters)\n",
        "    else:\n",
        "        for j in range(len(self.layers)-1, 0, -1):\n",
        "          param_lookahead['w'+str(j)] = self.parameters['w'+str(j)] + (self.gamma*update_history[\"w\"+str(j)])\n",
        "    return param_lookahead,update_history\n",
        "\n",
        "  def get_params(self,update_history):\n",
        "    param_lookahead,update_history=self.paramlookahead()\n",
        "    if self.i == 0 :\n",
        "        for j in range(len(self.layers)-1, 0, -1):\n",
        "          update_history[\"w\"+str(j)] = self.eta*self.grads[\"dw\"+str(j)]\n",
        "          update_history[\"b\"+str(j)] = self.eta*self.grads[\"db\"+str(j)]\n",
        "    else:\n",
        "        for j in range(len(self.layers)-1, 0, -1):\n",
        "          update_history[\"w\"+str(j)] = (self.gamma*update_history[\"w\"+str(j)]) + (self.eta*self.grads[\"dw\"+str(j)])\n",
        "          update_history[\"b\"+str(j)] = (self.gamma*update_history[\"b\"+str(j)]) + (self.eta*self.grads[\"db\"+str(j)])\n",
        "    for j in range(len(self.layers)-1,0,-1):\n",
        "        self.parameters[\"w\"+str(j)] = (1-((self.eta*self.lambd)/self.mini_batch_size))*self.parameters[\"w\"+str(j)] - update_history[\"w\"+str(j)]\n",
        "        self.parameters[\"b\"+str(j)] = self.parameters[\"b\"+str(j)] - update_history[\"b\"+str(j)]\n",
        "    return self.parameters\n"
      ]
    },
    {
      "cell_type": "code",
      "execution_count": 18,
      "metadata": {
        "id": "HBXMVUIyOjvz"
      },
      "outputs": [],
      "source": [
        "class rmsprop():\n",
        "  def __init__(self,grads, eta, max_epochs,layers,mini_batch_size,lambd,parameters,i,t):\n",
        "    self.grads=grads\n",
        "    self.eta=eta\n",
        "    self.layers=layers\n",
        "    self.mini_batch_size=mini_batch_size\n",
        "    self.parameters=parameters\n",
        "    self.lambd=lambd\n",
        "    self.i=i\n",
        "    self.beta = 0.9 \n",
        "    self.epsilon=1e-8\n",
        "    self.t=t\n",
        "\n",
        "  def momenta(self):\n",
        "    update_history={}\n",
        "    v={}\n",
        "    for i in range(len(self.layers)-1,0,-1):\n",
        "      update_history[\"w\"+str(i)]=np.zeros((self.layers[i],self.layers[i-1]))\n",
        "      update_history[\"b\"+str(i)]=np.zeros((self.layers[i],1))\n",
        "    for i in range(len(self.layers)-1,0,-1):\n",
        "      v[\"w\"+str(i)]=np.zeros((self.layers[i],self.layers[i-1]))\n",
        "      v[\"b\"+str(i)]=np.zeros((self.layers[i],1))\n",
        "    return v,update_history\n",
        "     \n",
        "  def get_params(self):\n",
        "    v,update_history=self.momenta()\n",
        "    for iq in range(len(self.layers)-1,0,-1):\n",
        "        v[\"w\"+str(iq)]=self.beta*v[\"w\"+str(iq)]+(1-self.beta)*self.grads[\"dw\"+str(iq)]**2\n",
        "        v[\"b\"+str(iq)]=self.beta*v[\"b\"+str(iq)]+(1-self.beta)*self.grads[\"db\"+str(iq)]**2     \n",
        "        update_history[\"w\"+str(iq)]=self.eta*np.multiply(np.reciprocal(np.sqrt(v[\"w\"+str(iq)]+self.epsilon)),self.grads[\"dw\"+str(iq)])\n",
        "        update_history[\"b\"+str(iq)]=self.eta*np.multiply(np.reciprocal(np.sqrt(v[\"b\"+str(iq)]+self.epsilon)),self.grads[\"db\"+str(iq)])\n",
        "    for j in range(len(self.layers)-1,0,-1):\n",
        "        self.parameters[\"w\"+str(j)] = (1-((self.eta*self.lambd)/self.mini_batch_size))*self.parameters[\"w\"+str(j)] - update_history[\"w\"+str(j)]\n",
        "        self.parameters[\"b\"+str(j)] = self.parameters[\"b\"+str(j)] - update_history[\"b\"+str(j)]\n",
        "    return self.parameters"
      ]
    },
    {
      "cell_type": "code",
      "execution_count": 19,
      "metadata": {
        "id": "uPO_60-cQSWr"
      },
      "outputs": [],
      "source": [
        "class adam():\n",
        "  def __init__(self,grads, eta, max_epochs,layers,mini_batch_size,lambd,parameters,i,t):\n",
        "    self.grads=grads\n",
        "    self.eta=eta\n",
        "    self.layers=layers\n",
        "    self.mini_batch_size=mini_batch_size\n",
        "    self.parameters=parameters\n",
        "    self.lambd=lambd\n",
        "    self.i=i\n",
        "    self.beta1=0.9 \n",
        "    self.epsilon=1e-8\n",
        "    self.beta2=0.999\n",
        "    self.t=t\n",
        "  \n",
        "  def momenta(self):\n",
        "    update_history={}\n",
        "    v={}\n",
        "    m={}\n",
        "    for i in range(len(self.layers)-1,0,-1):\n",
        "      update_history[\"w\"+str(i)]=np.zeros((self.layers[i],self.layers[i-1]))\n",
        "      update_history[\"b\"+str(i)]=np.zeros((self.layers[i],1))\n",
        "    for i in range(len(self.layers)-1,0,-1):\n",
        "      v[\"w\"+str(i)]=np.zeros((self.layers[i],self.layers[i-1]))\n",
        "      v[\"b\"+str(i)]=np.zeros((self.layers[i],1))\n",
        "    for i in range(len(self.layers)-1,0,-1):\n",
        "      m[\"w\"+str(i)]=np.zeros((self.layers[i],self.layers[i-1]))\n",
        "      m[\"b\"+str(i)]=np.zeros((self.layers[i],1))\n",
        "    return m,v,update_history\n",
        "     \n",
        "  def get_params(self):\n",
        "    m,v,update_history=self.momenta()\n",
        "    for iq in range(len(self.layers)-1,0,-1):\n",
        "          m[\"w\"+str(iq)]=self.beta1*m[\"w\"+str(iq)]+(1-self.beta1)*self.grads[\"dw\"+str(iq)]\n",
        "          m[\"b\"+str(iq)]=self.beta1*m[\"b\"+str(iq)]+(1-self.beta1)*self.grads[\"db\"+str(iq)]    \n",
        "          v[\"w\"+str(iq)]=self.beta2*v[\"w\"+str(iq)]+(1-self.beta2)*(self.grads[\"dw\"+str(iq)])**2\n",
        "          v[\"b\"+str(iq)]=self.beta2*v[\"b\"+str(iq)]+(1-self.beta2)*(self.grads[\"db\"+str(iq)])**2\n",
        "          mw_hat=m[\"w\"+str(iq)]/(1-np.power(self.beta1,self.t+1))\n",
        "          mb_hat=m[\"b\"+str(iq)]/(1-np.power(self.beta1,self.t+1))\n",
        "          vw_hat=v[\"w\"+str(iq)]/(1-np.power(self.beta2,self.t+1))\n",
        "          vb_hat=v[\"b\"+str(iq)]/(1-np.power(self.beta2,self.t+1))\n",
        "          update_history[\"w\"+str(iq)]=self.eta*np.multiply(np.reciprocal(np.sqrt(vw_hat+self.epsilon)),mw_hat)\n",
        "          update_history[\"b\"+str(iq)]=self.eta*np.multiply(np.reciprocal(np.sqrt(vb_hat+self.epsilon)),mb_hat)\n",
        "\n",
        "    for j in range(len(self.layers)-1,0,-1):\n",
        "          self.parameters[\"w\"+str(j)] = (1-((self.eta*self.lambd)/self.mini_batch_size))*self.parameters[\"w\"+str(j)] - update_history[\"w\"+str(j)]\n",
        "          self.parameters[\"b\"+str(j)] = self.parameters[\"b\"+str(j)] - update_history[\"b\"+str(j)]\n",
        "    return self.parameters"
      ]
    },
    {
      "cell_type": "code",
      "execution_count": 20,
      "metadata": {
        "id": "kD1beF-NRNXr"
      },
      "outputs": [],
      "source": [
        "class nadam():\n",
        "  def __init__(self,grads, eta, max_epochs,layers,mini_batch_size,lambd,parameters,i,t):\n",
        "    self.grads=grads\n",
        "    self.eta=eta\n",
        "    self.layers=layers\n",
        "    self.mini_batch_size=mini_batch_size\n",
        "    self.parameters=parameters\n",
        "    self.lambd=lambd\n",
        "    self.i=i\n",
        "    self.beta1=0.9 \n",
        "    self.epsilon=1e-8\n",
        "    self.beta2=0.999\n",
        "    self.t=t\n",
        "  \n",
        "  def momenta(self):\n",
        "    update_history={}\n",
        "    v={}\n",
        "    m={}\n",
        "    for i in range(len(self.layers)-1,0,-1):\n",
        "      update_history[\"w\"+str(i)]=np.zeros((self.layers[i],self.layers[i-1]))\n",
        "      update_history[\"b\"+str(i)]=np.zeros((self.layers[i],1))\n",
        "    for i in range(len(self.layers)-1,0,-1):\n",
        "      v[\"w\"+str(i)]=np.zeros((self.layers[i],self.layers[i-1]))\n",
        "      v[\"b\"+str(i)]=np.zeros((self.layers[i],1))\n",
        "    for i in range(len(self.layers)-1,0,-1):\n",
        "      m[\"w\"+str(i)]=np.zeros((self.layers[i],self.layers[i-1]))\n",
        "      m[\"b\"+str(i)]=np.zeros((self.layers[i],1))\n",
        "    return m,v,update_history\n",
        "     \n",
        "  def get_params(self):\n",
        "    m,v,update_history=self.momenta()\n",
        "    for iq in range(len(self.layers)-1,0,-1):\n",
        "          m[\"w\"+str(iq)]=self.beta1*m[\"w\"+str(iq)]+(1-self.beta1)*self.grads[\"dw\"+str(iq)]\n",
        "          m[\"b\"+str(iq)]=self.beta1*m[\"b\"+str(iq)]+(1-self.beta1)*self.grads[\"db\"+str(iq)]    \n",
        "          v[\"w\"+str(iq)]=self.beta2*v[\"w\"+str(iq)]+(1-self.beta2)*(self.grads[\"dw\"+str(iq)])**2\n",
        "          v[\"b\"+str(iq)]=self.beta2*v[\"b\"+str(iq)]+(1-self.beta2)*(self.grads[\"db\"+str(iq)])**2\n",
        "          mw_hat=m[\"w\"+str(iq)]/(1-np.power(self.beta1,self.t+1))\n",
        "          mb_hat=m[\"b\"+str(iq)]/(1-np.power(self.beta1,self.t+1))\n",
        "          vw_hat=v[\"w\"+str(iq)]/(1-np.power(self.beta2,self.t+1))\n",
        "          vb_hat=v[\"b\"+str(iq)]/(1-np.power(self.beta2,self.t+1))\n",
        "          update_history[\"w\"+str(iq)]=self.eta*np.multiply(np.reciprocal(np.sqrt(vw_hat+self.epsilon)),(self.beta1*mw_hat+(1-self.beta1)*self.grads[\"dw\"+str(iq)]))*(1/(1-np.power(self.beta1,self.t+1)))\n",
        "          update_history[\"b\"+str(iq)]=self.eta*np.multiply(np.reciprocal(np.sqrt(vb_hat+self.epsilon)),(self.beta1*mb_hat+(1-self.beta1)*self.grads[\"db\"+str(iq)]))*(1/(1-np.power(self.beta1,self.t+1)))\n",
        "\n",
        "    for j in range(len(self.layers)-1,0,-1):\n",
        "          self.parameters[\"w\"+str(j)] = (1-((self.eta*self.lambd)/self.mini_batch_size))*self.parameters[\"w\"+str(j)] - update_history[\"w\"+str(j)]\n",
        "          self.parameters[\"b\"+str(j)] = self.parameters[\"b\"+str(j)] - update_history[\"b\"+str(j)]\n",
        "\n",
        "    return self.parameters"
      ]
    },
    {
      "cell_type": "markdown",
      "metadata": {
        "id": "MOKKhqlasNtr"
      },
      "source": [
        "Preparing Dataset"
      ]
    },
    {
      "cell_type": "code",
      "execution_count": 21,
      "metadata": {
        "colab": {
          "base_uri": "https://localhost:8080/"
        },
        "id": "E-QmsesIsPqS",
        "outputId": "5d93e85d-6d13-4c5b-fb27-aca9509fb2ee"
      },
      "outputs": [
        {
          "output_type": "stream",
          "name": "stdout",
          "text": [
            "Downloading data from https://storage.googleapis.com/tensorflow/tf-keras-datasets/train-labels-idx1-ubyte.gz\n",
            "29515/29515 [==============================] - 0s 0us/step\n",
            "Downloading data from https://storage.googleapis.com/tensorflow/tf-keras-datasets/train-images-idx3-ubyte.gz\n",
            "26421880/26421880 [==============================] - 0s 0us/step\n",
            "Downloading data from https://storage.googleapis.com/tensorflow/tf-keras-datasets/t10k-labels-idx1-ubyte.gz\n",
            "5148/5148 [==============================] - 0s 0us/step\n",
            "Downloading data from https://storage.googleapis.com/tensorflow/tf-keras-datasets/t10k-images-idx3-ubyte.gz\n",
            "4422102/4422102 [==============================] - 0s 0us/step\n"
          ]
        }
      ],
      "source": [
        "from sklearn.model_selection import train_test_split\n",
        "(train_x,train_y),(test_x,test_y)=fashion_mnist.load_data()\n",
        "num_classes = 10\n",
        "labels=['T-shirt/top','Trouser','Pullover','Dress','Coat','Sandal','Shirt','Sneaker','Bag','Ankle boot']\n",
        "\n",
        "\n",
        "#performing the train-validation split\n",
        "train_x, val_x, train_y, val_y = train_test_split(train_x, train_y, test_size=0.1, random_state=40)\n",
        "  \n",
        "\n",
        "  \n",
        "#storing the number of points in each set\n",
        "  \n",
        "X_train=np.zeros((len(train_x),784))\n",
        "X_val=np.zeros((len(val_x),784))\n",
        "X_test=np.zeros((len(test_x),784))\n",
        "  \n",
        "# converting the images into grayscale by normalizing\n",
        "for i in range(len(train_x)):\n",
        "  X_train[i]=(copy.deepcopy(train_x[i].flatten()))/255.0 \n",
        "for i in range(len(val_x)):\n",
        "  X_val[i]=(copy.deepcopy(val_x[i].flatten()))/255.0\n",
        "for i in range(len(test_x)):\n",
        "  X_test[i]=(copy.deepcopy(test_x[i].flatten()))/255.0\n",
        "  \n",
        "y_train = np.zeros((train_y.size, 10))\n",
        "y_train[np.arange(train_y.size), train_y] = 1\n",
        "\n",
        "y_val = np.zeros((val_y.size, 10))\n",
        "y_val[np.arange(val_y.size), val_y] = 1\n",
        "\n",
        "y_test = np.zeros((test_y.size, 10))\n",
        "y_test[np.arange(test_y.size), test_y] = 1\n"
      ]
    },
    {
      "cell_type": "code",
      "execution_count": 21,
      "metadata": {
        "id": "Qav7xiFGd3-F"
      },
      "outputs": [],
      "source": []
    },
    {
      "cell_type": "code",
      "execution_count": 31,
      "metadata": {
        "id": "2CE-wU16tAGm"
      },
      "outputs": [],
      "source": [
        "def train(X_train=X_train, y_train=y_train, layers=[784,16,10],wandb_log=True, learning_rate = 0.0001, initialization_type = \"random\", activation_function = \"sigmoid\", loss_function = \"cross_entropy\", mini_batch_Size = 32, max_epochs = 5, lambd = 0,optimization_function = momentum_gd):\n",
        "\n",
        "  #Declaring the dictionary with the default hyperparameters\n",
        "  config_defaults = {\n",
        "      'number_hidden_layers': 2,\n",
        "      'number_neurons': 32,\n",
        "      'learning_rate': 0.001,\n",
        "      'initialization_type': \"xavier\",\n",
        "      'activation_function':'sigmoid',\n",
        "      'mini_batch_size' : 64,\n",
        "      'max_epochs': 5,\n",
        "      'lambd': 0,\n",
        "      'optimization_function': \"nadam\",\n",
        "      'loss_function' : \"cross_entropy\"\n",
        "  }\n",
        "\n",
        "  # Initializing the wandb run\n",
        "  wandb.init(config=config_defaults)\n",
        "  config = wandb.config\n",
        "\n",
        "\n",
        "  # Constructing the layers i.e., the architecture of our neural network\n",
        "  layers = [784]\n",
        "  for i in range(config.number_hidden_layers):\n",
        "    layers = layers + [config.number_neurons]\n",
        "  layers  = layers + [10]\n",
        "\n",
        "  #Collecting all the hyperparameters from the wandb run\n",
        "  learning_rate = config.learning_rate\n",
        "  initialization_type = config.initialization_type\n",
        "  activation_function = config.activation_function\n",
        "  loss_function = config.loss_function\n",
        "  mini_batch_size = config.mini_batch_size\n",
        "  max_epochs = config.max_epochs\n",
        "  lambd = config.lambd\n",
        "  opt_fun = config.optimization_function\n",
        "  hidden_layers=config.number_hidden_layers\n",
        "\n",
        "  #Calling the respective hyperparameters\n",
        "  if opt_fun == \"adam\":\n",
        "    optimization_function = adam\n",
        "  elif opt_fun == \"nadam\":\n",
        "    optimization_function = nadam\n",
        "  elif opt_fun == \"stochastic_gd\":\n",
        "    optimization_function = stochastic_gd\n",
        "  elif opt_fun == \"momentum_gd\":\n",
        "    optimization_function = momentum_gd\n",
        "  elif opt_fun == \"nesterov-acc_gd\":\n",
        "    optimization_function = nesterovacc_gd\n",
        "  elif opt_fun == \"rmsprop\":\n",
        "    optimization_function = rmsprop\n",
        "  else:\n",
        "    print(\"Wrong optimization function\")\n",
        "    exit()\n",
        "\n",
        "\n",
        "  name_run = str(hidden_layers) + \"_\" + initialization_type[0] + \"_\" + \\\n",
        "  activation_function[:4] + \"_\" + str(learning_rate) + \"_\" + opt_fun[:4]\n",
        "\n",
        "  wandb.run.name = name_run\n",
        "  wandb_log=True\n",
        "  \n",
        "  w=weights(layers)\n",
        "  parameters = w.weight_init(init_type = initialization_type)\n",
        "  parameters, train_acc, val_acc = gradient_descent(X_train, y_train,learning_rate, max_epochs, layers, mini_batch_Size, lambd, loss_function, activation_function, parameters,optimization_function,wandb_log)\n",
        "  \n",
        "  print(\"Training Accuracy:\",train_acc[-1])\n",
        "  print(\"Validation Accuracy:\",val_acc[-1])\n",
        "  \n",
        "  wandb.run.save()\n",
        "  wandb.run.finish()"
      ]
    },
    {
      "cell_type": "code",
      "source": [
        "# layers=[784,32,10]\n",
        "# wandb.init(entity_name,project_name)\n",
        "# wandb_log=True\n",
        "# train(X_train, y_train, layers,wandb_log)"
      ],
      "metadata": {
        "id": "Gj38cdrrEMYx"
      },
      "execution_count": 23,
      "outputs": []
    },
    {
      "cell_type": "code",
      "execution_count": 24,
      "metadata": {
        "id": "C1k4ufNRtHHt"
      },
      "outputs": [],
      "source": [
        "def do_sweep(entity_name,project_name):\n",
        "\n",
        "  #Using bayes method for hyperparameter sweeps to curb the unnecessary configurations\n",
        "  hyperparameters = {\n",
        "      \"learning_rate\":{\n",
        "        'values': [0.001, 0.0001]\n",
        "      },\n",
        "\n",
        "      \"number_hidden_layers\": {\n",
        "          'values' : [3, 4, 5]\n",
        "      },\n",
        "\n",
        "      \"number_neurons\": {\n",
        "        'values': [32, 64, 128]\n",
        "      },\n",
        "\n",
        "      \"initialization_type\": {\n",
        "          'values' : [\"xavier\", \"random\"]\n",
        "      },\n",
        "\n",
        "      \"activation_function\": {\n",
        "          'values': [\"sigmoid\", \"tanh\", \"relu\"]\n",
        "      },\n",
        "\n",
        "      \"mini_batch_size\": {\n",
        "          'values': [16,32,64]\n",
        "      },\n",
        "\n",
        "      \"max_epochs\": {\n",
        "          'values': [5, 10]\n",
        "      },\n",
        "\n",
        "      \"lambd\": {\n",
        "          'values': [0, 0.0005, 0.5]\n",
        "      },\n",
        "\n",
        "      \"optimization_function\": {\n",
        "          'values': [\"stochastic_gd\",\"momentum_gd\",\"rmsprop\",\"adam\",\"nadam\"]\n",
        "      }\n",
        "\n",
        "  }\n",
        "\n",
        "\n",
        "  #Using bayes method for hyperparameter sweeps to curb the unnecessary configurations\n",
        "  sweep_config = {\n",
        "      'method' : 'bayes',\n",
        "      'metric' :{\n",
        "          'name': 'Validation_Accuracy',\n",
        "          'goal': 'maximize'\n",
        "      },\n",
        "      'parameters': hyperparameters\n",
        "  }\n",
        "\n",
        "  sweep_id = wandb.sweep(sweep_config, entity=entity_name, project=project_name)\n",
        "  wandb.agent(sweep_id, train)"
      ]
    },
    {
      "cell_type": "code",
      "execution_count": 25,
      "metadata": {
        "id": "jows10uAtPGK"
      },
      "outputs": [],
      "source": [
        "# do_sweep(entity_name,project_name)"
      ]
    },
    {
      "cell_type": "markdown",
      "source": [
        "Plotting Confusion Matrix\n"
      ],
      "metadata": {
        "id": "9Lmq_xnQyjdz"
      }
    },
    {
      "cell_type": "code",
      "source": [
        "# Hyperparameters with highest validation accuracy: 86.833\n",
        "activation_function= \"tanh\"\n",
        "initialization_type= \"xavier\"\n",
        "lambd=0\n",
        "learning_rate=0.001\n",
        "max_epochs=5\n",
        "mini_batch_size=16\n",
        "number_hidden_layers=5\n",
        "number_neurons=128\n",
        "optimization_function=nadam\n",
        "loss_function = \"cross_entropy\"\n",
        "\n",
        "layers=[784]\n",
        "for i in range(number_hidden_layers):\n",
        "  layers=layers+[number_neurons]\n",
        "layers=layers+[10]\n",
        "\n",
        "\n",
        "config_confmat = {\n",
        "      'number_hidden_layers': 5,\n",
        "      'number_neurons': 128,\n",
        "      'learning_rate': 0.0001,\n",
        "      'initialization_type': \"xavier\",\n",
        "      'activation_function':'tanh',\n",
        "      'mini_batch_size' : 16,\n",
        "      'max_epochs': 5,\n",
        "      'lambd': 0,\n",
        "      'optimization_function': \"nadam\"\n",
        "  }\n",
        "\n",
        "wandb.init(config=config_confmat,entity=entity_name, project=project_name)\n",
        "wandb.run.name=\"Confusion_matrix\"\n",
        "wandb_log=True\n",
        "\n",
        "w=weights(layers)\n",
        "parameters = w.weight_init(init_type = initialization_type)\n",
        "parameters, train_acc, val_acc = gradient_descent(X_train, y_train,learning_rate, max_epochs, layers, mini_batch_size, lambd, loss_function, activation_function, parameters,optimization_function,wandb_log)\n",
        "res = run_inference(X_test,y_test, parameters, activation_function, layers)\n",
        "\n",
        "\n",
        "accuracy=accuracy_calc(res,y_test)\n",
        "print(\"Test Accuracy:\",accuracy)\n",
        "#converting 1 hot labels to class ids\n",
        "\n",
        "y=[]\n",
        "\n",
        "for i in range(len(y_test)):\n",
        "  y.append(y_test[i].argmax())\n",
        "\n",
        "y_hat=[]\n",
        "\n",
        "for i in range(len(res)):\n",
        "  y_hat.append(res[i].argmax())\n",
        "\n",
        "wandb.log({\"conf_mat\":wandb.plot.confusion_matrix(preds=y_hat,y_true=y,class_names=labels),\"Test Accuracy\": accuracy}) \n",
        "    \n",
        "wandb.run.save()\n",
        "wandb.run.finish()\n",
        "\n"
      ],
      "metadata": {
        "colab": {
          "base_uri": "https://localhost:8080/",
          "height": 683,
          "referenced_widgets": [
            "ac442479282e4b19b060bd17a8ab36c8",
            "e4b6e3af26d048de81a68598d1228695",
            "5e5d295c656b4455a871809b669c7228",
            "8f8abec529ca4d68a7d79ec44ff9aa8b",
            "325f5efe6649471b971b5ce1bfcbcf87",
            "e7fb71a9b6ac4e80bea9c66725f9346d",
            "fad94e8e2ed84a56885459ffdae018fd",
            "3b3d2cdb61924c268f31a6f8f50a205b",
            "e751ea94a8be44298a08e04513a24eb5",
            "a9baccb61b12407ab354d88f6bdd5faf",
            "005a1eedb85b475b86191750098e6ec7",
            "454d2a2785034e79b1b32644a7f40267",
            "6883b329bdc34b31af8f63e9a38fa9d5",
            "d89130e8753c4605bdd24e5a0753d378",
            "2f7325b2c6734e96bf94a18d32e491f6",
            "e6fc5e31718b47dba8cb4939e4a79b69"
          ]
        },
        "id": "dXp1_n-quxi8",
        "outputId": "eb42c626-be37-4d03-8127-29529fe7bc8a"
      },
      "execution_count": null,
      "outputs": [
        {
          "output_type": "display_data",
          "data": {
            "text/plain": [
              "<IPython.core.display.HTML object>"
            ],
            "text/html": [
              "Finishing last run (ID:cpokwcoj) before initializing another..."
            ]
          },
          "metadata": {}
        },
        {
          "output_type": "display_data",
          "data": {
            "text/plain": [
              "<IPython.core.display.HTML object>"
            ],
            "text/html": [
              "Waiting for W&B process to finish... <strong style=\"color:green\">(success).</strong>"
            ]
          },
          "metadata": {}
        },
        {
          "output_type": "display_data",
          "data": {
            "text/plain": [
              "VBox(children=(Label(value='0.001 MB of 0.001 MB uploaded (0.000 MB deduped)\\r'), FloatProgress(value=1.0, max…"
            ],
            "application/vnd.jupyter.widget-view+json": {
              "version_major": 2,
              "version_minor": 0,
              "model_id": "ac442479282e4b19b060bd17a8ab36c8"
            }
          },
          "metadata": {}
        },
        {
          "output_type": "display_data",
          "data": {
            "text/plain": [
              "<IPython.core.display.HTML object>"
            ],
            "text/html": [
              " View run <strong style=\"color:#cdcd00\">polished-monkey-206</strong> at: <a href='https://wandb.ai/siddharth-s/FODL_Assignment_1/runs/cpokwcoj' target=\"_blank\">https://wandb.ai/siddharth-s/FODL_Assignment_1/runs/cpokwcoj</a><br/>Synced 5 W&B file(s), 0 media file(s), 0 artifact file(s) and 0 other file(s)"
            ]
          },
          "metadata": {}
        },
        {
          "output_type": "display_data",
          "data": {
            "text/plain": [
              "<IPython.core.display.HTML object>"
            ],
            "text/html": [
              "Find logs at: <code>./wandb/run-20230318_053019-cpokwcoj/logs</code>"
            ]
          },
          "metadata": {}
        },
        {
          "output_type": "display_data",
          "data": {
            "text/plain": [
              "<IPython.core.display.HTML object>"
            ],
            "text/html": [
              "Successfully finished last run (ID:cpokwcoj). Initializing new run:<br/>"
            ]
          },
          "metadata": {}
        },
        {
          "output_type": "display_data",
          "data": {
            "text/plain": [
              "<IPython.core.display.HTML object>"
            ],
            "text/html": [
              "Tracking run with wandb version 0.14.0"
            ]
          },
          "metadata": {}
        },
        {
          "output_type": "display_data",
          "data": {
            "text/plain": [
              "<IPython.core.display.HTML object>"
            ],
            "text/html": [
              "Run data is saved locally in <code>/content/wandb/run-20230318_053533-nztkt7y6</code>"
            ]
          },
          "metadata": {}
        },
        {
          "output_type": "display_data",
          "data": {
            "text/plain": [
              "<IPython.core.display.HTML object>"
            ],
            "text/html": [
              "Syncing run <strong><a href='https://wandb.ai/siddharth-s/FODL_Assignment_1/runs/nztkt7y6' target=\"_blank\">brisk-field-207</a></strong> to <a href='https://wandb.ai/siddharth-s/FODL_Assignment_1' target=\"_blank\">Weights & Biases</a> (<a href='https://wandb.me/run' target=\"_blank\">docs</a>)<br/>"
            ]
          },
          "metadata": {}
        },
        {
          "output_type": "display_data",
          "data": {
            "text/plain": [
              "<IPython.core.display.HTML object>"
            ],
            "text/html": [
              " View project at <a href='https://wandb.ai/siddharth-s/FODL_Assignment_1' target=\"_blank\">https://wandb.ai/siddharth-s/FODL_Assignment_1</a>"
            ]
          },
          "metadata": {}
        },
        {
          "output_type": "display_data",
          "data": {
            "text/plain": [
              "<IPython.core.display.HTML object>"
            ],
            "text/html": [
              " View run at <a href='https://wandb.ai/siddharth-s/FODL_Assignment_1/runs/nztkt7y6' target=\"_blank\">https://wandb.ai/siddharth-s/FODL_Assignment_1/runs/nztkt7y6</a>"
            ]
          },
          "metadata": {}
        },
        {
          "output_type": "stream",
          "name": "stderr",
          "text": [
            "100%|██████████| 5/5 [09:48<00:00, 117.74s/it]\n"
          ]
        },
        {
          "output_type": "stream",
          "name": "stdout",
          "text": [
            "Test Accuracy: 80.01\n"
          ]
        },
        {
          "output_type": "stream",
          "name": "stderr",
          "text": [
            "\u001b[34m\u001b[1mwandb\u001b[0m: \u001b[33mWARNING\u001b[0m Calling wandb.run.save without any arguments is deprecated.Changes to attributes are automatically persisted.\n"
          ]
        },
        {
          "output_type": "display_data",
          "data": {
            "text/plain": [
              "<IPython.core.display.HTML object>"
            ],
            "text/html": [
              "Waiting for W&B process to finish... <strong style=\"color:green\">(success).</strong>"
            ]
          },
          "metadata": {}
        },
        {
          "output_type": "display_data",
          "data": {
            "text/plain": [
              "VBox(children=(Label(value='0.004 MB of 0.007 MB uploaded (0.000 MB deduped)\\r'), FloatProgress(value=0.599372…"
            ],
            "application/vnd.jupyter.widget-view+json": {
              "version_major": 2,
              "version_minor": 0,
              "model_id": "e751ea94a8be44298a08e04513a24eb5"
            }
          },
          "metadata": {}
        },
        {
          "output_type": "display_data",
          "data": {
            "text/plain": [
              "<IPython.core.display.HTML object>"
            ],
            "text/html": [
              "<style>\n",
              "    table.wandb td:nth-child(1) { padding: 0 10px; text-align: left ; width: auto;} td:nth-child(2) {text-align: left ; width: 100%}\n",
              "    .wandb-row { display: flex; flex-direction: row; flex-wrap: wrap; justify-content: flex-start; width: 100% }\n",
              "    .wandb-col { display: flex; flex-direction: column; flex-basis: 100%; flex: 1; padding: 10px; }\n",
              "    </style>\n",
              "<div class=\"wandb-row\"><div class=\"wandb-col\"><h3>Run history:</h3><br/><table class=\"wandb\"><tr><td>Test Accuracy</td><td>▁</td></tr><tr><td>Train_Accuracy</td><td>▁▅▆▆█</td></tr><tr><td>Train_Loss</td><td>█▁▂▃▁</td></tr><tr><td>Validation_Accuracy</td><td>▁▅▆▆█</td></tr><tr><td>Validation_loss</td><td>█▁▂▃▁</td></tr><tr><td>epoch</td><td>▁▃▅▆█</td></tr></table><br/></div><div class=\"wandb-col\"><h3>Run summary:</h3><br/><table class=\"wandb\"><tr><td>Test Accuracy</td><td>80.01</td></tr><tr><td>Train_Accuracy</td><td>81.25926</td></tr><tr><td>Train_Loss</td><td>0.91054</td></tr><tr><td>Validation_Accuracy</td><td>81.13333</td></tr><tr><td>Validation_loss</td><td>0.93966</td></tr><tr><td>epoch</td><td>4</td></tr></table><br/></div></div>"
            ]
          },
          "metadata": {}
        },
        {
          "output_type": "display_data",
          "data": {
            "text/plain": [
              "<IPython.core.display.HTML object>"
            ],
            "text/html": [
              " View run <strong style=\"color:#cdcd00\">brisk-field-207</strong> at: <a href='https://wandb.ai/siddharth-s/FODL_Assignment_1/runs/nztkt7y6' target=\"_blank\">https://wandb.ai/siddharth-s/FODL_Assignment_1/runs/nztkt7y6</a><br/>Synced 5 W&B file(s), 1 media file(s), 1 artifact file(s) and 0 other file(s)"
            ]
          },
          "metadata": {}
        },
        {
          "output_type": "display_data",
          "data": {
            "text/plain": [
              "<IPython.core.display.HTML object>"
            ],
            "text/html": [
              "Find logs at: <code>./wandb/run-20230318_053533-nztkt7y6/logs</code>"
            ]
          },
          "metadata": {}
        }
      ]
    },
    {
      "cell_type": "markdown",
      "source": [
        "Cross Entropy vs Mean Squared Error Comparison"
      ],
      "metadata": {
        "id": "2Yg3Xu6c5UiS"
      }
    },
    {
      "cell_type": "code",
      "source": [
        "def compare_loss(entity_name,project_name):\n",
        "\n",
        "\n",
        "  #We fix all hyperparameters except for the loss function \n",
        "  hyperparameters = {\n",
        "      \"learning_rate\":{\n",
        "        'values': [0.0001]\n",
        "      },\n",
        "\n",
        "      \"number_hidden_layers\": {\n",
        "          'values' : [5]\n",
        "      },\n",
        "\n",
        "      \"number_neurons\": {\n",
        "        'values': [128]\n",
        "      },\n",
        "\n",
        "      \"initialization_type\": {\n",
        "          'values' : [\"xavier\"]\n",
        "      },\n",
        "\n",
        "      \"activation_function\": {\n",
        "          'values': [\"tanh\"]\n",
        "      },\n",
        "\n",
        "      \"mini_batch_size\": {\n",
        "          'values': [16]\n",
        "      },\n",
        "\n",
        "      \"max_epochs\": {\n",
        "          'values': [5]\n",
        "      },\n",
        "\n",
        "      \"loss_function\": {\n",
        "          'values' : [\"cross_entropy\",\"squared_loss\"]      \n",
        "          \n",
        "      },\n",
        "\n",
        "      \"lambd\": {\n",
        "          'values': [0.0005]\n",
        "      },\n",
        "\n",
        "      \"optimization_function\": {\n",
        "          'values': [\"adam\"]\n",
        "      }\n",
        "\n",
        "  }\n",
        "\n",
        "\n",
        "  sweep_config = {\n",
        "      'method' : 'bayes',\n",
        "      'metric' :{\n",
        "          'name': 'Validation_Accuracy',\n",
        "          'goal': 'maximize'\n",
        "      },\n",
        "      'parameters': hyperparameters\n",
        "  }\n",
        "\n",
        "  sweep_id = wandb.sweep(sweep_config, entity=entity_name, project=project_name)\n",
        "  wandb.agent(sweep_id, train)"
      ],
      "metadata": {
        "id": "Vd0iK1RQ5Lmq"
      },
      "execution_count": 32,
      "outputs": []
    },
    {
      "cell_type": "code",
      "source": [
        "compare_loss(entity_name,project_name)"
      ],
      "metadata": {
        "colab": {
          "base_uri": "https://localhost:8080/",
          "height": 1000,
          "referenced_widgets": [
            "2247bbcea60a4683b4734e411c6d6bf8",
            "1337ee8de3604147b60c993d3c2e36ce",
            "5e787da663554d0eabbf5174130efe07",
            "9a898d0a71a549f5ba4801e74fee110c",
            "c185c09d48854fdea464c44c4880f3c5",
            "36c8247a869240c2bdf24cd91341f332",
            "ea6f6f7fdba7430fac78f402a87e240c",
            "8798ccb6f8eb41a3bbadcf6d122dfa72"
          ]
        },
        "id": "Wof9TyIl6bR2",
        "outputId": "3af704b1-1f40-41a0-8c95-f6e27b7b5c3e"
      },
      "execution_count": 33,
      "outputs": [
        {
          "output_type": "stream",
          "name": "stdout",
          "text": [
            "Create sweep with ID: lzx4xd41\n",
            "Sweep URL: https://wandb.ai/siddharth-s/FODL_Assignment_1/sweeps/lzx4xd41\n"
          ]
        },
        {
          "output_type": "stream",
          "name": "stderr",
          "text": [
            "\u001b[34m\u001b[1mwandb\u001b[0m: Agent Starting Run: dze0k74q with config:\n",
            "\u001b[34m\u001b[1mwandb\u001b[0m: \tactivation_function: tanh\n",
            "\u001b[34m\u001b[1mwandb\u001b[0m: \tinitialization_type: xavier\n",
            "\u001b[34m\u001b[1mwandb\u001b[0m: \tlambd: 0.0005\n",
            "\u001b[34m\u001b[1mwandb\u001b[0m: \tlearning_rate: 0.0001\n",
            "\u001b[34m\u001b[1mwandb\u001b[0m: \tloss_function: squared_loss\n",
            "\u001b[34m\u001b[1mwandb\u001b[0m: \tmax_epochs: 5\n",
            "\u001b[34m\u001b[1mwandb\u001b[0m: \tmini_batch_size: 16\n",
            "\u001b[34m\u001b[1mwandb\u001b[0m: \tnumber_hidden_layers: 5\n",
            "\u001b[34m\u001b[1mwandb\u001b[0m: \tnumber_neurons: 128\n",
            "\u001b[34m\u001b[1mwandb\u001b[0m: \toptimization_function: adam\n"
          ]
        },
        {
          "output_type": "display_data",
          "data": {
            "text/plain": [
              "<IPython.core.display.HTML object>"
            ],
            "text/html": [
              "Tracking run with wandb version 0.14.0"
            ]
          },
          "metadata": {}
        },
        {
          "output_type": "display_data",
          "data": {
            "text/plain": [
              "<IPython.core.display.HTML object>"
            ],
            "text/html": [
              "Run data is saved locally in <code>/content/wandb/run-20230318_185105-dze0k74q</code>"
            ]
          },
          "metadata": {}
        },
        {
          "output_type": "display_data",
          "data": {
            "text/plain": [
              "<IPython.core.display.HTML object>"
            ],
            "text/html": [
              "Syncing run <strong><a href='https://wandb.ai/siddharth-s/FODL_Assignment_1/runs/dze0k74q' target=\"_blank\">dazzling-sweep-1</a></strong> to <a href='https://wandb.ai/siddharth-s/FODL_Assignment_1' target=\"_blank\">Weights & Biases</a> (<a href='https://wandb.me/run' target=\"_blank\">docs</a>)<br/>Sweep page: <a href='https://wandb.ai/siddharth-s/FODL_Assignment_1/sweeps/lzx4xd41' target=\"_blank\">https://wandb.ai/siddharth-s/FODL_Assignment_1/sweeps/lzx4xd41</a>"
            ]
          },
          "metadata": {}
        },
        {
          "output_type": "display_data",
          "data": {
            "text/plain": [
              "<IPython.core.display.HTML object>"
            ],
            "text/html": [
              " View project at <a href='https://wandb.ai/siddharth-s/FODL_Assignment_1' target=\"_blank\">https://wandb.ai/siddharth-s/FODL_Assignment_1</a>"
            ]
          },
          "metadata": {}
        },
        {
          "output_type": "display_data",
          "data": {
            "text/plain": [
              "<IPython.core.display.HTML object>"
            ],
            "text/html": [
              " View sweep at <a href='https://wandb.ai/siddharth-s/FODL_Assignment_1/sweeps/lzx4xd41' target=\"_blank\">https://wandb.ai/siddharth-s/FODL_Assignment_1/sweeps/lzx4xd41</a>"
            ]
          },
          "metadata": {}
        },
        {
          "output_type": "display_data",
          "data": {
            "text/plain": [
              "<IPython.core.display.HTML object>"
            ],
            "text/html": [
              " View run at <a href='https://wandb.ai/siddharth-s/FODL_Assignment_1/runs/dze0k74q' target=\"_blank\">https://wandb.ai/siddharth-s/FODL_Assignment_1/runs/dze0k74q</a>"
            ]
          },
          "metadata": {}
        },
        {
          "output_type": "stream",
          "name": "stderr",
          "text": [
            "100%|██████████| 5/5 [03:55<00:00, 47.02s/it]"
          ]
        },
        {
          "output_type": "stream",
          "name": "stdout",
          "text": [
            "Training Accuracy: 88.20185185185186\n",
            "Validation Accuracy: 86.11666666666666\n"
          ]
        },
        {
          "output_type": "stream",
          "name": "stderr",
          "text": [
            "\n"
          ]
        },
        {
          "output_type": "display_data",
          "data": {
            "text/plain": [
              "<IPython.core.display.HTML object>"
            ],
            "text/html": [
              "Waiting for W&B process to finish... <strong style=\"color:green\">(success).</strong>"
            ]
          },
          "metadata": {}
        },
        {
          "output_type": "display_data",
          "data": {
            "text/plain": [
              "<IPython.core.display.HTML object>"
            ],
            "text/html": [
              "<style>\n",
              "    table.wandb td:nth-child(1) { padding: 0 10px; text-align: left ; width: auto;} td:nth-child(2) {text-align: left ; width: 100%}\n",
              "    .wandb-row { display: flex; flex-direction: row; flex-wrap: wrap; justify-content: flex-start; width: 100% }\n",
              "    .wandb-col { display: flex; flex-direction: column; flex-basis: 100%; flex: 1; padding: 10px; }\n",
              "    </style>\n",
              "<div class=\"wandb-row\"><div class=\"wandb-col\"><h3>Run history:</h3><br/><table class=\"wandb\"><tr><td>Train_Accuracy</td><td>▁▅▆▇█</td></tr><tr><td>Train_Loss</td><td>█▄▃▂▁</td></tr><tr><td>Validation_Accuracy</td><td>▁▅▇▇█</td></tr><tr><td>Validation_loss</td><td>█▄▃▂▁</td></tr><tr><td>epoch</td><td>▁▃▅▆█</td></tr></table><br/></div><div class=\"wandb-col\"><h3>Run summary:</h3><br/><table class=\"wandb\"><tr><td>Train_Accuracy</td><td>88.20185</td></tr><tr><td>Train_Loss</td><td>0.08676</td></tr><tr><td>Validation_Accuracy</td><td>86.11667</td></tr><tr><td>Validation_loss</td><td>0.09917</td></tr><tr><td>epoch</td><td>4</td></tr></table><br/></div></div>"
            ]
          },
          "metadata": {}
        },
        {
          "output_type": "display_data",
          "data": {
            "text/plain": [
              "<IPython.core.display.HTML object>"
            ],
            "text/html": [
              " View run <strong style=\"color:#cdcd00\">dazzling-sweep-1</strong> at: <a href='https://wandb.ai/siddharth-s/FODL_Assignment_1/runs/dze0k74q' target=\"_blank\">https://wandb.ai/siddharth-s/FODL_Assignment_1/runs/dze0k74q</a><br/>Synced 5 W&B file(s), 0 media file(s), 0 artifact file(s) and 0 other file(s)"
            ]
          },
          "metadata": {}
        },
        {
          "output_type": "display_data",
          "data": {
            "text/plain": [
              "<IPython.core.display.HTML object>"
            ],
            "text/html": [
              "Find logs at: <code>./wandb/run-20230318_185105-dze0k74q/logs</code>"
            ]
          },
          "metadata": {}
        },
        {
          "output_type": "stream",
          "name": "stderr",
          "text": [
            "\u001b[34m\u001b[1mwandb\u001b[0m: Agent Starting Run: vqcdjw6s with config:\n",
            "\u001b[34m\u001b[1mwandb\u001b[0m: \tactivation_function: tanh\n",
            "\u001b[34m\u001b[1mwandb\u001b[0m: \tinitialization_type: xavier\n",
            "\u001b[34m\u001b[1mwandb\u001b[0m: \tlambd: 0.0005\n",
            "\u001b[34m\u001b[1mwandb\u001b[0m: \tlearning_rate: 0.0001\n",
            "\u001b[34m\u001b[1mwandb\u001b[0m: \tloss_function: squared_loss\n",
            "\u001b[34m\u001b[1mwandb\u001b[0m: \tmax_epochs: 5\n",
            "\u001b[34m\u001b[1mwandb\u001b[0m: \tmini_batch_size: 16\n",
            "\u001b[34m\u001b[1mwandb\u001b[0m: \tnumber_hidden_layers: 5\n",
            "\u001b[34m\u001b[1mwandb\u001b[0m: \tnumber_neurons: 128\n",
            "\u001b[34m\u001b[1mwandb\u001b[0m: \toptimization_function: adam\n"
          ]
        },
        {
          "output_type": "display_data",
          "data": {
            "text/plain": [
              "<IPython.core.display.HTML object>"
            ],
            "text/html": [
              "Tracking run with wandb version 0.14.0"
            ]
          },
          "metadata": {}
        },
        {
          "output_type": "display_data",
          "data": {
            "text/plain": [
              "<IPython.core.display.HTML object>"
            ],
            "text/html": [
              "Run data is saved locally in <code>/content/wandb/run-20230318_185513-vqcdjw6s</code>"
            ]
          },
          "metadata": {}
        },
        {
          "output_type": "display_data",
          "data": {
            "text/plain": [
              "<IPython.core.display.HTML object>"
            ],
            "text/html": [
              "Syncing run <strong><a href='https://wandb.ai/siddharth-s/FODL_Assignment_1/runs/vqcdjw6s' target=\"_blank\">peachy-sweep-2</a></strong> to <a href='https://wandb.ai/siddharth-s/FODL_Assignment_1' target=\"_blank\">Weights & Biases</a> (<a href='https://wandb.me/run' target=\"_blank\">docs</a>)<br/>Sweep page: <a href='https://wandb.ai/siddharth-s/FODL_Assignment_1/sweeps/lzx4xd41' target=\"_blank\">https://wandb.ai/siddharth-s/FODL_Assignment_1/sweeps/lzx4xd41</a>"
            ]
          },
          "metadata": {}
        },
        {
          "output_type": "display_data",
          "data": {
            "text/plain": [
              "<IPython.core.display.HTML object>"
            ],
            "text/html": [
              " View project at <a href='https://wandb.ai/siddharth-s/FODL_Assignment_1' target=\"_blank\">https://wandb.ai/siddharth-s/FODL_Assignment_1</a>"
            ]
          },
          "metadata": {}
        },
        {
          "output_type": "display_data",
          "data": {
            "text/plain": [
              "<IPython.core.display.HTML object>"
            ],
            "text/html": [
              " View sweep at <a href='https://wandb.ai/siddharth-s/FODL_Assignment_1/sweeps/lzx4xd41' target=\"_blank\">https://wandb.ai/siddharth-s/FODL_Assignment_1/sweeps/lzx4xd41</a>"
            ]
          },
          "metadata": {}
        },
        {
          "output_type": "display_data",
          "data": {
            "text/plain": [
              "<IPython.core.display.HTML object>"
            ],
            "text/html": [
              " View run at <a href='https://wandb.ai/siddharth-s/FODL_Assignment_1/runs/vqcdjw6s' target=\"_blank\">https://wandb.ai/siddharth-s/FODL_Assignment_1/runs/vqcdjw6s</a>"
            ]
          },
          "metadata": {}
        },
        {
          "output_type": "stream",
          "name": "stderr",
          "text": [
            "100%|██████████| 5/5 [03:55<00:00, 47.15s/it]"
          ]
        },
        {
          "output_type": "stream",
          "name": "stdout",
          "text": [
            "Training Accuracy: 87.96481481481482\n",
            "Validation Accuracy: 86.26666666666667\n"
          ]
        },
        {
          "output_type": "stream",
          "name": "stderr",
          "text": [
            "\n"
          ]
        },
        {
          "output_type": "display_data",
          "data": {
            "text/plain": [
              "<IPython.core.display.HTML object>"
            ],
            "text/html": [
              "Waiting for W&B process to finish... <strong style=\"color:green\">(success).</strong>"
            ]
          },
          "metadata": {}
        },
        {
          "output_type": "display_data",
          "data": {
            "text/plain": [
              "<IPython.core.display.HTML object>"
            ],
            "text/html": [
              "<style>\n",
              "    table.wandb td:nth-child(1) { padding: 0 10px; text-align: left ; width: auto;} td:nth-child(2) {text-align: left ; width: 100%}\n",
              "    .wandb-row { display: flex; flex-direction: row; flex-wrap: wrap; justify-content: flex-start; width: 100% }\n",
              "    .wandb-col { display: flex; flex-direction: column; flex-basis: 100%; flex: 1; padding: 10px; }\n",
              "    </style>\n",
              "<div class=\"wandb-row\"><div class=\"wandb-col\"><h3>Run history:</h3><br/><table class=\"wandb\"><tr><td>Train_Accuracy</td><td>▁▅▆▇█</td></tr><tr><td>Train_Loss</td><td>█▄▃▂▁</td></tr><tr><td>Validation_Accuracy</td><td>▁▅▇▇█</td></tr><tr><td>Validation_loss</td><td>█▄▂▂▁</td></tr><tr><td>epoch</td><td>▁▃▅▆█</td></tr></table><br/></div><div class=\"wandb-col\"><h3>Run summary:</h3><br/><table class=\"wandb\"><tr><td>Train_Accuracy</td><td>87.96481</td></tr><tr><td>Train_Loss</td><td>0.08799</td></tr><tr><td>Validation_Accuracy</td><td>86.26667</td></tr><tr><td>Validation_loss</td><td>0.09958</td></tr><tr><td>epoch</td><td>4</td></tr></table><br/></div></div>"
            ]
          },
          "metadata": {}
        },
        {
          "output_type": "display_data",
          "data": {
            "text/plain": [
              "<IPython.core.display.HTML object>"
            ],
            "text/html": [
              " View run <strong style=\"color:#cdcd00\">peachy-sweep-2</strong> at: <a href='https://wandb.ai/siddharth-s/FODL_Assignment_1/runs/vqcdjw6s' target=\"_blank\">https://wandb.ai/siddharth-s/FODL_Assignment_1/runs/vqcdjw6s</a><br/>Synced 5 W&B file(s), 0 media file(s), 0 artifact file(s) and 0 other file(s)"
            ]
          },
          "metadata": {}
        },
        {
          "output_type": "display_data",
          "data": {
            "text/plain": [
              "<IPython.core.display.HTML object>"
            ],
            "text/html": [
              "Find logs at: <code>./wandb/run-20230318_185513-vqcdjw6s/logs</code>"
            ]
          },
          "metadata": {}
        },
        {
          "output_type": "stream",
          "name": "stderr",
          "text": [
            "\u001b[34m\u001b[1mwandb\u001b[0m: Agent Starting Run: cav8chm1 with config:\n",
            "\u001b[34m\u001b[1mwandb\u001b[0m: \tactivation_function: tanh\n",
            "\u001b[34m\u001b[1mwandb\u001b[0m: \tinitialization_type: xavier\n",
            "\u001b[34m\u001b[1mwandb\u001b[0m: \tlambd: 0.0005\n",
            "\u001b[34m\u001b[1mwandb\u001b[0m: \tlearning_rate: 0.0001\n",
            "\u001b[34m\u001b[1mwandb\u001b[0m: \tloss_function: cross_entropy\n",
            "\u001b[34m\u001b[1mwandb\u001b[0m: \tmax_epochs: 5\n",
            "\u001b[34m\u001b[1mwandb\u001b[0m: \tmini_batch_size: 16\n",
            "\u001b[34m\u001b[1mwandb\u001b[0m: \tnumber_hidden_layers: 5\n",
            "\u001b[34m\u001b[1mwandb\u001b[0m: \tnumber_neurons: 128\n",
            "\u001b[34m\u001b[1mwandb\u001b[0m: \toptimization_function: adam\n"
          ]
        },
        {
          "output_type": "display_data",
          "data": {
            "text/plain": [
              "<IPython.core.display.HTML object>"
            ],
            "text/html": [
              "Tracking run with wandb version 0.14.0"
            ]
          },
          "metadata": {}
        },
        {
          "output_type": "display_data",
          "data": {
            "text/plain": [
              "<IPython.core.display.HTML object>"
            ],
            "text/html": [
              "Run data is saved locally in <code>/content/wandb/run-20230318_185921-cav8chm1</code>"
            ]
          },
          "metadata": {}
        },
        {
          "output_type": "display_data",
          "data": {
            "text/plain": [
              "<IPython.core.display.HTML object>"
            ],
            "text/html": [
              "Syncing run <strong><a href='https://wandb.ai/siddharth-s/FODL_Assignment_1/runs/cav8chm1' target=\"_blank\">fluent-sweep-3</a></strong> to <a href='https://wandb.ai/siddharth-s/FODL_Assignment_1' target=\"_blank\">Weights & Biases</a> (<a href='https://wandb.me/run' target=\"_blank\">docs</a>)<br/>Sweep page: <a href='https://wandb.ai/siddharth-s/FODL_Assignment_1/sweeps/lzx4xd41' target=\"_blank\">https://wandb.ai/siddharth-s/FODL_Assignment_1/sweeps/lzx4xd41</a>"
            ]
          },
          "metadata": {}
        },
        {
          "output_type": "display_data",
          "data": {
            "text/plain": [
              "<IPython.core.display.HTML object>"
            ],
            "text/html": [
              " View project at <a href='https://wandb.ai/siddharth-s/FODL_Assignment_1' target=\"_blank\">https://wandb.ai/siddharth-s/FODL_Assignment_1</a>"
            ]
          },
          "metadata": {}
        },
        {
          "output_type": "display_data",
          "data": {
            "text/plain": [
              "<IPython.core.display.HTML object>"
            ],
            "text/html": [
              " View sweep at <a href='https://wandb.ai/siddharth-s/FODL_Assignment_1/sweeps/lzx4xd41' target=\"_blank\">https://wandb.ai/siddharth-s/FODL_Assignment_1/sweeps/lzx4xd41</a>"
            ]
          },
          "metadata": {}
        },
        {
          "output_type": "display_data",
          "data": {
            "text/plain": [
              "<IPython.core.display.HTML object>"
            ],
            "text/html": [
              " View run at <a href='https://wandb.ai/siddharth-s/FODL_Assignment_1/runs/cav8chm1' target=\"_blank\">https://wandb.ai/siddharth-s/FODL_Assignment_1/runs/cav8chm1</a>"
            ]
          },
          "metadata": {}
        },
        {
          "output_type": "stream",
          "name": "stderr",
          "text": [
            "100%|██████████| 5/5 [03:46<00:00, 45.40s/it]"
          ]
        },
        {
          "output_type": "stream",
          "name": "stdout",
          "text": [
            "Training Accuracy: 87.41666666666667\n",
            "Validation Accuracy: 85.68333333333334\n"
          ]
        },
        {
          "output_type": "stream",
          "name": "stderr",
          "text": [
            "\n"
          ]
        },
        {
          "output_type": "display_data",
          "data": {
            "text/plain": [
              "<IPython.core.display.HTML object>"
            ],
            "text/html": [
              "Waiting for W&B process to finish... <strong style=\"color:green\">(success).</strong>"
            ]
          },
          "metadata": {}
        },
        {
          "output_type": "display_data",
          "data": {
            "text/plain": [
              "VBox(children=(Label(value='0.001 MB of 0.001 MB uploaded (0.000 MB deduped)\\r'), FloatProgress(value=1.0, max…"
            ],
            "application/vnd.jupyter.widget-view+json": {
              "version_major": 2,
              "version_minor": 0,
              "model_id": "2247bbcea60a4683b4734e411c6d6bf8"
            }
          },
          "metadata": {}
        },
        {
          "output_type": "display_data",
          "data": {
            "text/plain": [
              "<IPython.core.display.HTML object>"
            ],
            "text/html": [
              "<style>\n",
              "    table.wandb td:nth-child(1) { padding: 0 10px; text-align: left ; width: auto;} td:nth-child(2) {text-align: left ; width: 100%}\n",
              "    .wandb-row { display: flex; flex-direction: row; flex-wrap: wrap; justify-content: flex-start; width: 100% }\n",
              "    .wandb-col { display: flex; flex-direction: column; flex-basis: 100%; flex: 1; padding: 10px; }\n",
              "    </style>\n",
              "<div class=\"wandb-row\"><div class=\"wandb-col\"><h3>Run history:</h3><br/><table class=\"wandb\"><tr><td>Train_Accuracy</td><td>▁▅▆▇█</td></tr><tr><td>Train_Loss</td><td>█▄▃▂▁</td></tr><tr><td>Validation_Accuracy</td><td>▁▅▇▇█</td></tr><tr><td>Validation_loss</td><td>█▄▂▂▁</td></tr><tr><td>epoch</td><td>▁▃▅▆█</td></tr></table><br/></div><div class=\"wandb-col\"><h3>Run summary:</h3><br/><table class=\"wandb\"><tr><td>Train_Accuracy</td><td>87.41667</td></tr><tr><td>Train_Loss</td><td>0.35998</td></tr><tr><td>Validation_Accuracy</td><td>85.68333</td></tr><tr><td>Validation_loss</td><td>0.40662</td></tr><tr><td>epoch</td><td>4</td></tr></table><br/></div></div>"
            ]
          },
          "metadata": {}
        },
        {
          "output_type": "display_data",
          "data": {
            "text/plain": [
              "<IPython.core.display.HTML object>"
            ],
            "text/html": [
              " View run <strong style=\"color:#cdcd00\">fluent-sweep-3</strong> at: <a href='https://wandb.ai/siddharth-s/FODL_Assignment_1/runs/cav8chm1' target=\"_blank\">https://wandb.ai/siddharth-s/FODL_Assignment_1/runs/cav8chm1</a><br/>Synced 5 W&B file(s), 0 media file(s), 0 artifact file(s) and 0 other file(s)"
            ]
          },
          "metadata": {}
        },
        {
          "output_type": "display_data",
          "data": {
            "text/plain": [
              "<IPython.core.display.HTML object>"
            ],
            "text/html": [
              "Find logs at: <code>./wandb/run-20230318_185921-cav8chm1/logs</code>"
            ]
          },
          "metadata": {}
        },
        {
          "output_type": "stream",
          "name": "stderr",
          "text": [
            "\u001b[34m\u001b[1mwandb\u001b[0m: Agent Starting Run: zrlo0doc with config:\n",
            "\u001b[34m\u001b[1mwandb\u001b[0m: \tactivation_function: tanh\n",
            "\u001b[34m\u001b[1mwandb\u001b[0m: \tinitialization_type: xavier\n",
            "\u001b[34m\u001b[1mwandb\u001b[0m: \tlambd: 0.0005\n",
            "\u001b[34m\u001b[1mwandb\u001b[0m: \tlearning_rate: 0.0001\n",
            "\u001b[34m\u001b[1mwandb\u001b[0m: \tloss_function: cross_entropy\n",
            "\u001b[34m\u001b[1mwandb\u001b[0m: \tmax_epochs: 5\n",
            "\u001b[34m\u001b[1mwandb\u001b[0m: \tmini_batch_size: 16\n",
            "\u001b[34m\u001b[1mwandb\u001b[0m: \tnumber_hidden_layers: 5\n",
            "\u001b[34m\u001b[1mwandb\u001b[0m: \tnumber_neurons: 128\n",
            "\u001b[34m\u001b[1mwandb\u001b[0m: \toptimization_function: adam\n"
          ]
        },
        {
          "output_type": "display_data",
          "data": {
            "text/plain": [
              "<IPython.core.display.HTML object>"
            ],
            "text/html": [
              "Tracking run with wandb version 0.14.0"
            ]
          },
          "metadata": {}
        },
        {
          "output_type": "display_data",
          "data": {
            "text/plain": [
              "<IPython.core.display.HTML object>"
            ],
            "text/html": [
              "Run data is saved locally in <code>/content/wandb/run-20230318_190321-zrlo0doc</code>"
            ]
          },
          "metadata": {}
        },
        {
          "output_type": "display_data",
          "data": {
            "text/plain": [
              "<IPython.core.display.HTML object>"
            ],
            "text/html": [
              "Syncing run <strong><a href='https://wandb.ai/siddharth-s/FODL_Assignment_1/runs/zrlo0doc' target=\"_blank\">stellar-sweep-4</a></strong> to <a href='https://wandb.ai/siddharth-s/FODL_Assignment_1' target=\"_blank\">Weights & Biases</a> (<a href='https://wandb.me/run' target=\"_blank\">docs</a>)<br/>Sweep page: <a href='https://wandb.ai/siddharth-s/FODL_Assignment_1/sweeps/lzx4xd41' target=\"_blank\">https://wandb.ai/siddharth-s/FODL_Assignment_1/sweeps/lzx4xd41</a>"
            ]
          },
          "metadata": {}
        },
        {
          "output_type": "display_data",
          "data": {
            "text/plain": [
              "<IPython.core.display.HTML object>"
            ],
            "text/html": [
              " View project at <a href='https://wandb.ai/siddharth-s/FODL_Assignment_1' target=\"_blank\">https://wandb.ai/siddharth-s/FODL_Assignment_1</a>"
            ]
          },
          "metadata": {}
        },
        {
          "output_type": "display_data",
          "data": {
            "text/plain": [
              "<IPython.core.display.HTML object>"
            ],
            "text/html": [
              " View sweep at <a href='https://wandb.ai/siddharth-s/FODL_Assignment_1/sweeps/lzx4xd41' target=\"_blank\">https://wandb.ai/siddharth-s/FODL_Assignment_1/sweeps/lzx4xd41</a>"
            ]
          },
          "metadata": {}
        },
        {
          "output_type": "display_data",
          "data": {
            "text/plain": [
              "<IPython.core.display.HTML object>"
            ],
            "text/html": [
              " View run at <a href='https://wandb.ai/siddharth-s/FODL_Assignment_1/runs/zrlo0doc' target=\"_blank\">https://wandb.ai/siddharth-s/FODL_Assignment_1/runs/zrlo0doc</a>"
            ]
          },
          "metadata": {}
        },
        {
          "output_type": "stream",
          "name": "stderr",
          "text": [
            "100%|██████████| 5/5 [03:47<00:00, 45.47s/it]"
          ]
        },
        {
          "output_type": "stream",
          "name": "stdout",
          "text": [
            "Training Accuracy: 87.49259259259259\n",
            "Validation Accuracy: 86.33333333333333\n"
          ]
        },
        {
          "output_type": "stream",
          "name": "stderr",
          "text": [
            "\n"
          ]
        },
        {
          "output_type": "display_data",
          "data": {
            "text/plain": [
              "<IPython.core.display.HTML object>"
            ],
            "text/html": [
              "Waiting for W&B process to finish... <strong style=\"color:green\">(success).</strong>"
            ]
          },
          "metadata": {}
        },
        {
          "output_type": "display_data",
          "data": {
            "text/plain": [
              "<IPython.core.display.HTML object>"
            ],
            "text/html": [
              "<style>\n",
              "    table.wandb td:nth-child(1) { padding: 0 10px; text-align: left ; width: auto;} td:nth-child(2) {text-align: left ; width: 100%}\n",
              "    .wandb-row { display: flex; flex-direction: row; flex-wrap: wrap; justify-content: flex-start; width: 100% }\n",
              "    .wandb-col { display: flex; flex-direction: column; flex-basis: 100%; flex: 1; padding: 10px; }\n",
              "    </style>\n",
              "<div class=\"wandb-row\"><div class=\"wandb-col\"><h3>Run history:</h3><br/><table class=\"wandb\"><tr><td>Train_Accuracy</td><td>▁▄▆▇█</td></tr><tr><td>Train_Loss</td><td>█▅▃▂▁</td></tr><tr><td>Validation_Accuracy</td><td>▁▄▆▇█</td></tr><tr><td>Validation_loss</td><td>█▄▃▂▁</td></tr><tr><td>epoch</td><td>▁▃▅▆█</td></tr></table><br/></div><div class=\"wandb-col\"><h3>Run summary:</h3><br/><table class=\"wandb\"><tr><td>Train_Accuracy</td><td>87.49259</td></tr><tr><td>Train_Loss</td><td>0.3546</td></tr><tr><td>Validation_Accuracy</td><td>86.33333</td></tr><tr><td>Validation_loss</td><td>0.40283</td></tr><tr><td>epoch</td><td>4</td></tr></table><br/></div></div>"
            ]
          },
          "metadata": {}
        },
        {
          "output_type": "display_data",
          "data": {
            "text/plain": [
              "<IPython.core.display.HTML object>"
            ],
            "text/html": [
              " View run <strong style=\"color:#cdcd00\">stellar-sweep-4</strong> at: <a href='https://wandb.ai/siddharth-s/FODL_Assignment_1/runs/zrlo0doc' target=\"_blank\">https://wandb.ai/siddharth-s/FODL_Assignment_1/runs/zrlo0doc</a><br/>Synced 5 W&B file(s), 0 media file(s), 0 artifact file(s) and 0 other file(s)"
            ]
          },
          "metadata": {}
        },
        {
          "output_type": "display_data",
          "data": {
            "text/plain": [
              "<IPython.core.display.HTML object>"
            ],
            "text/html": [
              "Find logs at: <code>./wandb/run-20230318_190321-zrlo0doc/logs</code>"
            ]
          },
          "metadata": {}
        },
        {
          "output_type": "stream",
          "name": "stderr",
          "text": [
            "\u001b[34m\u001b[1mwandb\u001b[0m: Agent Starting Run: 0mfmethm with config:\n",
            "\u001b[34m\u001b[1mwandb\u001b[0m: \tactivation_function: tanh\n",
            "\u001b[34m\u001b[1mwandb\u001b[0m: \tinitialization_type: xavier\n",
            "\u001b[34m\u001b[1mwandb\u001b[0m: \tlambd: 0.0005\n",
            "\u001b[34m\u001b[1mwandb\u001b[0m: \tlearning_rate: 0.0001\n",
            "\u001b[34m\u001b[1mwandb\u001b[0m: \tloss_function: squared_loss\n",
            "\u001b[34m\u001b[1mwandb\u001b[0m: \tmax_epochs: 5\n",
            "\u001b[34m\u001b[1mwandb\u001b[0m: \tmini_batch_size: 16\n",
            "\u001b[34m\u001b[1mwandb\u001b[0m: \tnumber_hidden_layers: 5\n",
            "\u001b[34m\u001b[1mwandb\u001b[0m: \tnumber_neurons: 128\n",
            "\u001b[34m\u001b[1mwandb\u001b[0m: \toptimization_function: adam\n"
          ]
        },
        {
          "output_type": "display_data",
          "data": {
            "text/plain": [
              "<IPython.core.display.HTML object>"
            ],
            "text/html": [
              "Tracking run with wandb version 0.14.0"
            ]
          },
          "metadata": {}
        },
        {
          "output_type": "display_data",
          "data": {
            "text/plain": [
              "<IPython.core.display.HTML object>"
            ],
            "text/html": [
              "Run data is saved locally in <code>/content/wandb/run-20230318_190726-0mfmethm</code>"
            ]
          },
          "metadata": {}
        },
        {
          "output_type": "display_data",
          "data": {
            "text/plain": [
              "<IPython.core.display.HTML object>"
            ],
            "text/html": [
              "Syncing run <strong><a href='https://wandb.ai/siddharth-s/FODL_Assignment_1/runs/0mfmethm' target=\"_blank\">still-sweep-5</a></strong> to <a href='https://wandb.ai/siddharth-s/FODL_Assignment_1' target=\"_blank\">Weights & Biases</a> (<a href='https://wandb.me/run' target=\"_blank\">docs</a>)<br/>Sweep page: <a href='https://wandb.ai/siddharth-s/FODL_Assignment_1/sweeps/lzx4xd41' target=\"_blank\">https://wandb.ai/siddharth-s/FODL_Assignment_1/sweeps/lzx4xd41</a>"
            ]
          },
          "metadata": {}
        },
        {
          "output_type": "display_data",
          "data": {
            "text/plain": [
              "<IPython.core.display.HTML object>"
            ],
            "text/html": [
              " View project at <a href='https://wandb.ai/siddharth-s/FODL_Assignment_1' target=\"_blank\">https://wandb.ai/siddharth-s/FODL_Assignment_1</a>"
            ]
          },
          "metadata": {}
        },
        {
          "output_type": "display_data",
          "data": {
            "text/plain": [
              "<IPython.core.display.HTML object>"
            ],
            "text/html": [
              " View sweep at <a href='https://wandb.ai/siddharth-s/FODL_Assignment_1/sweeps/lzx4xd41' target=\"_blank\">https://wandb.ai/siddharth-s/FODL_Assignment_1/sweeps/lzx4xd41</a>"
            ]
          },
          "metadata": {}
        },
        {
          "output_type": "display_data",
          "data": {
            "text/plain": [
              "<IPython.core.display.HTML object>"
            ],
            "text/html": [
              " View run at <a href='https://wandb.ai/siddharth-s/FODL_Assignment_1/runs/0mfmethm' target=\"_blank\">https://wandb.ai/siddharth-s/FODL_Assignment_1/runs/0mfmethm</a>"
            ]
          },
          "metadata": {}
        },
        {
          "output_type": "stream",
          "name": "stderr",
          "text": [
            " 20%|██        | 1/5 [01:03<04:15, 63.91s/it]\n"
          ]
        },
        {
          "output_type": "display_data",
          "data": {
            "text/plain": [
              "<IPython.core.display.HTML object>"
            ],
            "text/html": [
              "Waiting for W&B process to finish... <strong style=\"color:red\">(failed 1).</strong> Press Control-C to abort syncing."
            ]
          },
          "metadata": {}
        },
        {
          "output_type": "display_data",
          "data": {
            "text/plain": [
              "<IPython.core.display.HTML object>"
            ],
            "text/html": [
              "<style>\n",
              "    table.wandb td:nth-child(1) { padding: 0 10px; text-align: left ; width: auto;} td:nth-child(2) {text-align: left ; width: 100%}\n",
              "    .wandb-row { display: flex; flex-direction: row; flex-wrap: wrap; justify-content: flex-start; width: 100% }\n",
              "    .wandb-col { display: flex; flex-direction: column; flex-basis: 100%; flex: 1; padding: 10px; }\n",
              "    </style>\n",
              "<div class=\"wandb-row\"><div class=\"wandb-col\"><h3>Run history:</h3><br/><table class=\"wandb\"><tr><td>Train_Accuracy</td><td>▁</td></tr><tr><td>Train_Loss</td><td>▁</td></tr><tr><td>Validation_Accuracy</td><td>▁</td></tr><tr><td>Validation_loss</td><td>▁</td></tr><tr><td>epoch</td><td>▁</td></tr></table><br/></div><div class=\"wandb-col\"><h3>Run summary:</h3><br/><table class=\"wandb\"><tr><td>Train_Accuracy</td><td>84.19444</td></tr><tr><td>Train_Loss</td><td>0.11283</td></tr><tr><td>Validation_Accuracy</td><td>83.56667</td></tr><tr><td>Validation_loss</td><td>0.11695</td></tr><tr><td>epoch</td><td>0</td></tr></table><br/></div></div>"
            ]
          },
          "metadata": {}
        },
        {
          "output_type": "display_data",
          "data": {
            "text/plain": [
              "<IPython.core.display.HTML object>"
            ],
            "text/html": [
              " View run <strong style=\"color:#cdcd00\">still-sweep-5</strong> at: <a href='https://wandb.ai/siddharth-s/FODL_Assignment_1/runs/0mfmethm' target=\"_blank\">https://wandb.ai/siddharth-s/FODL_Assignment_1/runs/0mfmethm</a><br/>Synced 5 W&B file(s), 0 media file(s), 0 artifact file(s) and 0 other file(s)"
            ]
          },
          "metadata": {}
        },
        {
          "output_type": "display_data",
          "data": {
            "text/plain": [
              "<IPython.core.display.HTML object>"
            ],
            "text/html": [
              "Find logs at: <code>./wandb/run-20230318_190726-0mfmethm/logs</code>"
            ]
          },
          "metadata": {}
        },
        {
          "output_type": "stream",
          "name": "stderr",
          "text": [
            "\u001b[34m\u001b[1mwandb\u001b[0m: Sweep Agent: Waiting for job.\n",
            "\u001b[34m\u001b[1mwandb\u001b[0m: Ctrl + C detected. Stopping sweep.\n"
          ]
        }
      ]
    }
  ],
  "metadata": {
    "colab": {
      "provenance": [],
      "include_colab_link": true
    },
    "kernelspec": {
      "display_name": "Python 3",
      "name": "python3"
    },
    "language_info": {
      "name": "python"
    },
    "widgets": {
      "application/vnd.jupyter.widget-state+json": {
        "ac442479282e4b19b060bd17a8ab36c8": {
          "model_module": "@jupyter-widgets/controls",
          "model_name": "VBoxModel",
          "model_module_version": "1.5.0",
          "state": {
            "_dom_classes": [],
            "_model_module": "@jupyter-widgets/controls",
            "_model_module_version": "1.5.0",
            "_model_name": "VBoxModel",
            "_view_count": null,
            "_view_module": "@jupyter-widgets/controls",
            "_view_module_version": "1.5.0",
            "_view_name": "VBoxView",
            "box_style": "",
            "children": [
              "IPY_MODEL_e4b6e3af26d048de81a68598d1228695",
              "IPY_MODEL_5e5d295c656b4455a871809b669c7228"
            ],
            "layout": "IPY_MODEL_8f8abec529ca4d68a7d79ec44ff9aa8b"
          }
        },
        "e4b6e3af26d048de81a68598d1228695": {
          "model_module": "@jupyter-widgets/controls",
          "model_name": "LabelModel",
          "model_module_version": "1.5.0",
          "state": {
            "_dom_classes": [],
            "_model_module": "@jupyter-widgets/controls",
            "_model_module_version": "1.5.0",
            "_model_name": "LabelModel",
            "_view_count": null,
            "_view_module": "@jupyter-widgets/controls",
            "_view_module_version": "1.5.0",
            "_view_name": "LabelView",
            "description": "",
            "description_tooltip": null,
            "layout": "IPY_MODEL_325f5efe6649471b971b5ce1bfcbcf87",
            "placeholder": "​",
            "style": "IPY_MODEL_e7fb71a9b6ac4e80bea9c66725f9346d",
            "value": "0.001 MB of 0.001 MB uploaded (0.000 MB deduped)\r"
          }
        },
        "5e5d295c656b4455a871809b669c7228": {
          "model_module": "@jupyter-widgets/controls",
          "model_name": "FloatProgressModel",
          "model_module_version": "1.5.0",
          "state": {
            "_dom_classes": [],
            "_model_module": "@jupyter-widgets/controls",
            "_model_module_version": "1.5.0",
            "_model_name": "FloatProgressModel",
            "_view_count": null,
            "_view_module": "@jupyter-widgets/controls",
            "_view_module_version": "1.5.0",
            "_view_name": "ProgressView",
            "bar_style": "",
            "description": "",
            "description_tooltip": null,
            "layout": "IPY_MODEL_fad94e8e2ed84a56885459ffdae018fd",
            "max": 1,
            "min": 0,
            "orientation": "horizontal",
            "style": "IPY_MODEL_3b3d2cdb61924c268f31a6f8f50a205b",
            "value": 1
          }
        },
        "8f8abec529ca4d68a7d79ec44ff9aa8b": {
          "model_module": "@jupyter-widgets/base",
          "model_name": "LayoutModel",
          "model_module_version": "1.2.0",
          "state": {
            "_model_module": "@jupyter-widgets/base",
            "_model_module_version": "1.2.0",
            "_model_name": "LayoutModel",
            "_view_count": null,
            "_view_module": "@jupyter-widgets/base",
            "_view_module_version": "1.2.0",
            "_view_name": "LayoutView",
            "align_content": null,
            "align_items": null,
            "align_self": null,
            "border": null,
            "bottom": null,
            "display": null,
            "flex": null,
            "flex_flow": null,
            "grid_area": null,
            "grid_auto_columns": null,
            "grid_auto_flow": null,
            "grid_auto_rows": null,
            "grid_column": null,
            "grid_gap": null,
            "grid_row": null,
            "grid_template_areas": null,
            "grid_template_columns": null,
            "grid_template_rows": null,
            "height": null,
            "justify_content": null,
            "justify_items": null,
            "left": null,
            "margin": null,
            "max_height": null,
            "max_width": null,
            "min_height": null,
            "min_width": null,
            "object_fit": null,
            "object_position": null,
            "order": null,
            "overflow": null,
            "overflow_x": null,
            "overflow_y": null,
            "padding": null,
            "right": null,
            "top": null,
            "visibility": null,
            "width": null
          }
        },
        "325f5efe6649471b971b5ce1bfcbcf87": {
          "model_module": "@jupyter-widgets/base",
          "model_name": "LayoutModel",
          "model_module_version": "1.2.0",
          "state": {
            "_model_module": "@jupyter-widgets/base",
            "_model_module_version": "1.2.0",
            "_model_name": "LayoutModel",
            "_view_count": null,
            "_view_module": "@jupyter-widgets/base",
            "_view_module_version": "1.2.0",
            "_view_name": "LayoutView",
            "align_content": null,
            "align_items": null,
            "align_self": null,
            "border": null,
            "bottom": null,
            "display": null,
            "flex": null,
            "flex_flow": null,
            "grid_area": null,
            "grid_auto_columns": null,
            "grid_auto_flow": null,
            "grid_auto_rows": null,
            "grid_column": null,
            "grid_gap": null,
            "grid_row": null,
            "grid_template_areas": null,
            "grid_template_columns": null,
            "grid_template_rows": null,
            "height": null,
            "justify_content": null,
            "justify_items": null,
            "left": null,
            "margin": null,
            "max_height": null,
            "max_width": null,
            "min_height": null,
            "min_width": null,
            "object_fit": null,
            "object_position": null,
            "order": null,
            "overflow": null,
            "overflow_x": null,
            "overflow_y": null,
            "padding": null,
            "right": null,
            "top": null,
            "visibility": null,
            "width": null
          }
        },
        "e7fb71a9b6ac4e80bea9c66725f9346d": {
          "model_module": "@jupyter-widgets/controls",
          "model_name": "DescriptionStyleModel",
          "model_module_version": "1.5.0",
          "state": {
            "_model_module": "@jupyter-widgets/controls",
            "_model_module_version": "1.5.0",
            "_model_name": "DescriptionStyleModel",
            "_view_count": null,
            "_view_module": "@jupyter-widgets/base",
            "_view_module_version": "1.2.0",
            "_view_name": "StyleView",
            "description_width": ""
          }
        },
        "fad94e8e2ed84a56885459ffdae018fd": {
          "model_module": "@jupyter-widgets/base",
          "model_name": "LayoutModel",
          "model_module_version": "1.2.0",
          "state": {
            "_model_module": "@jupyter-widgets/base",
            "_model_module_version": "1.2.0",
            "_model_name": "LayoutModel",
            "_view_count": null,
            "_view_module": "@jupyter-widgets/base",
            "_view_module_version": "1.2.0",
            "_view_name": "LayoutView",
            "align_content": null,
            "align_items": null,
            "align_self": null,
            "border": null,
            "bottom": null,
            "display": null,
            "flex": null,
            "flex_flow": null,
            "grid_area": null,
            "grid_auto_columns": null,
            "grid_auto_flow": null,
            "grid_auto_rows": null,
            "grid_column": null,
            "grid_gap": null,
            "grid_row": null,
            "grid_template_areas": null,
            "grid_template_columns": null,
            "grid_template_rows": null,
            "height": null,
            "justify_content": null,
            "justify_items": null,
            "left": null,
            "margin": null,
            "max_height": null,
            "max_width": null,
            "min_height": null,
            "min_width": null,
            "object_fit": null,
            "object_position": null,
            "order": null,
            "overflow": null,
            "overflow_x": null,
            "overflow_y": null,
            "padding": null,
            "right": null,
            "top": null,
            "visibility": null,
            "width": null
          }
        },
        "3b3d2cdb61924c268f31a6f8f50a205b": {
          "model_module": "@jupyter-widgets/controls",
          "model_name": "ProgressStyleModel",
          "model_module_version": "1.5.0",
          "state": {
            "_model_module": "@jupyter-widgets/controls",
            "_model_module_version": "1.5.0",
            "_model_name": "ProgressStyleModel",
            "_view_count": null,
            "_view_module": "@jupyter-widgets/base",
            "_view_module_version": "1.2.0",
            "_view_name": "StyleView",
            "bar_color": null,
            "description_width": ""
          }
        },
        "e751ea94a8be44298a08e04513a24eb5": {
          "model_module": "@jupyter-widgets/controls",
          "model_name": "VBoxModel",
          "model_module_version": "1.5.0",
          "state": {
            "_dom_classes": [],
            "_model_module": "@jupyter-widgets/controls",
            "_model_module_version": "1.5.0",
            "_model_name": "VBoxModel",
            "_view_count": null,
            "_view_module": "@jupyter-widgets/controls",
            "_view_module_version": "1.5.0",
            "_view_name": "VBoxView",
            "box_style": "",
            "children": [
              "IPY_MODEL_a9baccb61b12407ab354d88f6bdd5faf",
              "IPY_MODEL_005a1eedb85b475b86191750098e6ec7"
            ],
            "layout": "IPY_MODEL_454d2a2785034e79b1b32644a7f40267"
          }
        },
        "a9baccb61b12407ab354d88f6bdd5faf": {
          "model_module": "@jupyter-widgets/controls",
          "model_name": "LabelModel",
          "model_module_version": "1.5.0",
          "state": {
            "_dom_classes": [],
            "_model_module": "@jupyter-widgets/controls",
            "_model_module_version": "1.5.0",
            "_model_name": "LabelModel",
            "_view_count": null,
            "_view_module": "@jupyter-widgets/controls",
            "_view_module_version": "1.5.0",
            "_view_name": "LabelView",
            "description": "",
            "description_tooltip": null,
            "layout": "IPY_MODEL_6883b329bdc34b31af8f63e9a38fa9d5",
            "placeholder": "​",
            "style": "IPY_MODEL_d89130e8753c4605bdd24e5a0753d378",
            "value": "0.004 MB of 0.007 MB uploaded (0.000 MB deduped)\r"
          }
        },
        "005a1eedb85b475b86191750098e6ec7": {
          "model_module": "@jupyter-widgets/controls",
          "model_name": "FloatProgressModel",
          "model_module_version": "1.5.0",
          "state": {
            "_dom_classes": [],
            "_model_module": "@jupyter-widgets/controls",
            "_model_module_version": "1.5.0",
            "_model_name": "FloatProgressModel",
            "_view_count": null,
            "_view_module": "@jupyter-widgets/controls",
            "_view_module_version": "1.5.0",
            "_view_name": "ProgressView",
            "bar_style": "",
            "description": "",
            "description_tooltip": null,
            "layout": "IPY_MODEL_2f7325b2c6734e96bf94a18d32e491f6",
            "max": 1,
            "min": 0,
            "orientation": "horizontal",
            "style": "IPY_MODEL_e6fc5e31718b47dba8cb4939e4a79b69",
            "value": 0.5993729552889858
          }
        },
        "454d2a2785034e79b1b32644a7f40267": {
          "model_module": "@jupyter-widgets/base",
          "model_name": "LayoutModel",
          "model_module_version": "1.2.0",
          "state": {
            "_model_module": "@jupyter-widgets/base",
            "_model_module_version": "1.2.0",
            "_model_name": "LayoutModel",
            "_view_count": null,
            "_view_module": "@jupyter-widgets/base",
            "_view_module_version": "1.2.0",
            "_view_name": "LayoutView",
            "align_content": null,
            "align_items": null,
            "align_self": null,
            "border": null,
            "bottom": null,
            "display": null,
            "flex": null,
            "flex_flow": null,
            "grid_area": null,
            "grid_auto_columns": null,
            "grid_auto_flow": null,
            "grid_auto_rows": null,
            "grid_column": null,
            "grid_gap": null,
            "grid_row": null,
            "grid_template_areas": null,
            "grid_template_columns": null,
            "grid_template_rows": null,
            "height": null,
            "justify_content": null,
            "justify_items": null,
            "left": null,
            "margin": null,
            "max_height": null,
            "max_width": null,
            "min_height": null,
            "min_width": null,
            "object_fit": null,
            "object_position": null,
            "order": null,
            "overflow": null,
            "overflow_x": null,
            "overflow_y": null,
            "padding": null,
            "right": null,
            "top": null,
            "visibility": null,
            "width": null
          }
        },
        "6883b329bdc34b31af8f63e9a38fa9d5": {
          "model_module": "@jupyter-widgets/base",
          "model_name": "LayoutModel",
          "model_module_version": "1.2.0",
          "state": {
            "_model_module": "@jupyter-widgets/base",
            "_model_module_version": "1.2.0",
            "_model_name": "LayoutModel",
            "_view_count": null,
            "_view_module": "@jupyter-widgets/base",
            "_view_module_version": "1.2.0",
            "_view_name": "LayoutView",
            "align_content": null,
            "align_items": null,
            "align_self": null,
            "border": null,
            "bottom": null,
            "display": null,
            "flex": null,
            "flex_flow": null,
            "grid_area": null,
            "grid_auto_columns": null,
            "grid_auto_flow": null,
            "grid_auto_rows": null,
            "grid_column": null,
            "grid_gap": null,
            "grid_row": null,
            "grid_template_areas": null,
            "grid_template_columns": null,
            "grid_template_rows": null,
            "height": null,
            "justify_content": null,
            "justify_items": null,
            "left": null,
            "margin": null,
            "max_height": null,
            "max_width": null,
            "min_height": null,
            "min_width": null,
            "object_fit": null,
            "object_position": null,
            "order": null,
            "overflow": null,
            "overflow_x": null,
            "overflow_y": null,
            "padding": null,
            "right": null,
            "top": null,
            "visibility": null,
            "width": null
          }
        },
        "d89130e8753c4605bdd24e5a0753d378": {
          "model_module": "@jupyter-widgets/controls",
          "model_name": "DescriptionStyleModel",
          "model_module_version": "1.5.0",
          "state": {
            "_model_module": "@jupyter-widgets/controls",
            "_model_module_version": "1.5.0",
            "_model_name": "DescriptionStyleModel",
            "_view_count": null,
            "_view_module": "@jupyter-widgets/base",
            "_view_module_version": "1.2.0",
            "_view_name": "StyleView",
            "description_width": ""
          }
        },
        "2f7325b2c6734e96bf94a18d32e491f6": {
          "model_module": "@jupyter-widgets/base",
          "model_name": "LayoutModel",
          "model_module_version": "1.2.0",
          "state": {
            "_model_module": "@jupyter-widgets/base",
            "_model_module_version": "1.2.0",
            "_model_name": "LayoutModel",
            "_view_count": null,
            "_view_module": "@jupyter-widgets/base",
            "_view_module_version": "1.2.0",
            "_view_name": "LayoutView",
            "align_content": null,
            "align_items": null,
            "align_self": null,
            "border": null,
            "bottom": null,
            "display": null,
            "flex": null,
            "flex_flow": null,
            "grid_area": null,
            "grid_auto_columns": null,
            "grid_auto_flow": null,
            "grid_auto_rows": null,
            "grid_column": null,
            "grid_gap": null,
            "grid_row": null,
            "grid_template_areas": null,
            "grid_template_columns": null,
            "grid_template_rows": null,
            "height": null,
            "justify_content": null,
            "justify_items": null,
            "left": null,
            "margin": null,
            "max_height": null,
            "max_width": null,
            "min_height": null,
            "min_width": null,
            "object_fit": null,
            "object_position": null,
            "order": null,
            "overflow": null,
            "overflow_x": null,
            "overflow_y": null,
            "padding": null,
            "right": null,
            "top": null,
            "visibility": null,
            "width": null
          }
        },
        "e6fc5e31718b47dba8cb4939e4a79b69": {
          "model_module": "@jupyter-widgets/controls",
          "model_name": "ProgressStyleModel",
          "model_module_version": "1.5.0",
          "state": {
            "_model_module": "@jupyter-widgets/controls",
            "_model_module_version": "1.5.0",
            "_model_name": "ProgressStyleModel",
            "_view_count": null,
            "_view_module": "@jupyter-widgets/base",
            "_view_module_version": "1.2.0",
            "_view_name": "StyleView",
            "bar_color": null,
            "description_width": ""
          }
        },
        "2247bbcea60a4683b4734e411c6d6bf8": {
          "model_module": "@jupyter-widgets/controls",
          "model_name": "VBoxModel",
          "model_module_version": "1.5.0",
          "state": {
            "_dom_classes": [],
            "_model_module": "@jupyter-widgets/controls",
            "_model_module_version": "1.5.0",
            "_model_name": "VBoxModel",
            "_view_count": null,
            "_view_module": "@jupyter-widgets/controls",
            "_view_module_version": "1.5.0",
            "_view_name": "VBoxView",
            "box_style": "",
            "children": [
              "IPY_MODEL_1337ee8de3604147b60c993d3c2e36ce",
              "IPY_MODEL_5e787da663554d0eabbf5174130efe07"
            ],
            "layout": "IPY_MODEL_9a898d0a71a549f5ba4801e74fee110c"
          }
        },
        "1337ee8de3604147b60c993d3c2e36ce": {
          "model_module": "@jupyter-widgets/controls",
          "model_name": "LabelModel",
          "model_module_version": "1.5.0",
          "state": {
            "_dom_classes": [],
            "_model_module": "@jupyter-widgets/controls",
            "_model_module_version": "1.5.0",
            "_model_name": "LabelModel",
            "_view_count": null,
            "_view_module": "@jupyter-widgets/controls",
            "_view_module_version": "1.5.0",
            "_view_name": "LabelView",
            "description": "",
            "description_tooltip": null,
            "layout": "IPY_MODEL_c185c09d48854fdea464c44c4880f3c5",
            "placeholder": "​",
            "style": "IPY_MODEL_36c8247a869240c2bdf24cd91341f332",
            "value": "0.001 MB of 0.008 MB uploaded (0.000 MB deduped)\r"
          }
        },
        "5e787da663554d0eabbf5174130efe07": {
          "model_module": "@jupyter-widgets/controls",
          "model_name": "FloatProgressModel",
          "model_module_version": "1.5.0",
          "state": {
            "_dom_classes": [],
            "_model_module": "@jupyter-widgets/controls",
            "_model_module_version": "1.5.0",
            "_model_name": "FloatProgressModel",
            "_view_count": null,
            "_view_module": "@jupyter-widgets/controls",
            "_view_module_version": "1.5.0",
            "_view_name": "ProgressView",
            "bar_style": "",
            "description": "",
            "description_tooltip": null,
            "layout": "IPY_MODEL_ea6f6f7fdba7430fac78f402a87e240c",
            "max": 1,
            "min": 0,
            "orientation": "horizontal",
            "style": "IPY_MODEL_8798ccb6f8eb41a3bbadcf6d122dfa72",
            "value": 0.11598173515981736
          }
        },
        "9a898d0a71a549f5ba4801e74fee110c": {
          "model_module": "@jupyter-widgets/base",
          "model_name": "LayoutModel",
          "model_module_version": "1.2.0",
          "state": {
            "_model_module": "@jupyter-widgets/base",
            "_model_module_version": "1.2.0",
            "_model_name": "LayoutModel",
            "_view_count": null,
            "_view_module": "@jupyter-widgets/base",
            "_view_module_version": "1.2.0",
            "_view_name": "LayoutView",
            "align_content": null,
            "align_items": null,
            "align_self": null,
            "border": null,
            "bottom": null,
            "display": null,
            "flex": null,
            "flex_flow": null,
            "grid_area": null,
            "grid_auto_columns": null,
            "grid_auto_flow": null,
            "grid_auto_rows": null,
            "grid_column": null,
            "grid_gap": null,
            "grid_row": null,
            "grid_template_areas": null,
            "grid_template_columns": null,
            "grid_template_rows": null,
            "height": null,
            "justify_content": null,
            "justify_items": null,
            "left": null,
            "margin": null,
            "max_height": null,
            "max_width": null,
            "min_height": null,
            "min_width": null,
            "object_fit": null,
            "object_position": null,
            "order": null,
            "overflow": null,
            "overflow_x": null,
            "overflow_y": null,
            "padding": null,
            "right": null,
            "top": null,
            "visibility": null,
            "width": null
          }
        },
        "c185c09d48854fdea464c44c4880f3c5": {
          "model_module": "@jupyter-widgets/base",
          "model_name": "LayoutModel",
          "model_module_version": "1.2.0",
          "state": {
            "_model_module": "@jupyter-widgets/base",
            "_model_module_version": "1.2.0",
            "_model_name": "LayoutModel",
            "_view_count": null,
            "_view_module": "@jupyter-widgets/base",
            "_view_module_version": "1.2.0",
            "_view_name": "LayoutView",
            "align_content": null,
            "align_items": null,
            "align_self": null,
            "border": null,
            "bottom": null,
            "display": null,
            "flex": null,
            "flex_flow": null,
            "grid_area": null,
            "grid_auto_columns": null,
            "grid_auto_flow": null,
            "grid_auto_rows": null,
            "grid_column": null,
            "grid_gap": null,
            "grid_row": null,
            "grid_template_areas": null,
            "grid_template_columns": null,
            "grid_template_rows": null,
            "height": null,
            "justify_content": null,
            "justify_items": null,
            "left": null,
            "margin": null,
            "max_height": null,
            "max_width": null,
            "min_height": null,
            "min_width": null,
            "object_fit": null,
            "object_position": null,
            "order": null,
            "overflow": null,
            "overflow_x": null,
            "overflow_y": null,
            "padding": null,
            "right": null,
            "top": null,
            "visibility": null,
            "width": null
          }
        },
        "36c8247a869240c2bdf24cd91341f332": {
          "model_module": "@jupyter-widgets/controls",
          "model_name": "DescriptionStyleModel",
          "model_module_version": "1.5.0",
          "state": {
            "_model_module": "@jupyter-widgets/controls",
            "_model_module_version": "1.5.0",
            "_model_name": "DescriptionStyleModel",
            "_view_count": null,
            "_view_module": "@jupyter-widgets/base",
            "_view_module_version": "1.2.0",
            "_view_name": "StyleView",
            "description_width": ""
          }
        },
        "ea6f6f7fdba7430fac78f402a87e240c": {
          "model_module": "@jupyter-widgets/base",
          "model_name": "LayoutModel",
          "model_module_version": "1.2.0",
          "state": {
            "_model_module": "@jupyter-widgets/base",
            "_model_module_version": "1.2.0",
            "_model_name": "LayoutModel",
            "_view_count": null,
            "_view_module": "@jupyter-widgets/base",
            "_view_module_version": "1.2.0",
            "_view_name": "LayoutView",
            "align_content": null,
            "align_items": null,
            "align_self": null,
            "border": null,
            "bottom": null,
            "display": null,
            "flex": null,
            "flex_flow": null,
            "grid_area": null,
            "grid_auto_columns": null,
            "grid_auto_flow": null,
            "grid_auto_rows": null,
            "grid_column": null,
            "grid_gap": null,
            "grid_row": null,
            "grid_template_areas": null,
            "grid_template_columns": null,
            "grid_template_rows": null,
            "height": null,
            "justify_content": null,
            "justify_items": null,
            "left": null,
            "margin": null,
            "max_height": null,
            "max_width": null,
            "min_height": null,
            "min_width": null,
            "object_fit": null,
            "object_position": null,
            "order": null,
            "overflow": null,
            "overflow_x": null,
            "overflow_y": null,
            "padding": null,
            "right": null,
            "top": null,
            "visibility": null,
            "width": null
          }
        },
        "8798ccb6f8eb41a3bbadcf6d122dfa72": {
          "model_module": "@jupyter-widgets/controls",
          "model_name": "ProgressStyleModel",
          "model_module_version": "1.5.0",
          "state": {
            "_model_module": "@jupyter-widgets/controls",
            "_model_module_version": "1.5.0",
            "_model_name": "ProgressStyleModel",
            "_view_count": null,
            "_view_module": "@jupyter-widgets/base",
            "_view_module_version": "1.2.0",
            "_view_name": "StyleView",
            "bar_color": null,
            "description_width": ""
          }
        }
      }
    },
    "gpuClass": "standard"
  },
  "nbformat": 4,
  "nbformat_minor": 0
}